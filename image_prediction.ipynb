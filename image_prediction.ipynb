{
 "cells": [
  {
   "cell_type": "code",
   "execution_count": 6,
   "id": "215f8d07",
   "metadata": {},
   "outputs": [],
   "source": [
    "import numpy as np\n",
    "import pandas as pd\n",
    "import tensorflow as tf\n",
    "from tensorflow.keras.applications import EfficientNetB0\n",
    "from tensorflow.keras.preprocessing import image\n",
    "import os"
   ]
  },
  {
   "cell_type": "code",
   "execution_count": null,
   "id": "da1021c0",
   "metadata": {},
   "outputs": [],
   "source": [
    "path_df = pd.read_csv('datasets/thyroid_ultrasonic_image/batch1_image/batch1_image.csv')\n",
    "image_label = pd.read_csv('datasets/thyroid_ultrasonic_image/batch1_image/batch1_image_label.csv')\n",
    "# Merge on patient name\n",
    "merged_df = path_df.merge(image_label, on='patient_name', how='inner')\n",
    "\n",
    "# Final structure\n",
    "final_df = merged_df[['path', 'patient_name', 'histo_label']]\n",
    "final_df = final_df.rename(columns={'path': 'image_path', 'histo_label': 'label'})\n",
    "final_df['image_path'] = 'datasets/thyroid_ultrasonic_image/batch1_image/dataset/' + final_df['image_path']\n",
    "print(final_df.head())"
   ]
  },
  {
   "cell_type": "code",
   "execution_count": 12,
   "id": "56868784",
   "metadata": {},
   "outputs": [],
   "source": [
    "cnn_model = EfficientNetB0(include_top=False, pooling='avg', weights='imagenet', input_shape=(224, 224, 3))\n",
    "def preprocess_image(img_path):\n",
    "    img = image.load_img(img_path, target_size=(224, 224))\n",
    "    img_array = image.img_to_array(img) / 255.0\n",
    "    return img_array  "
   ]
  },
  {
   "cell_type": "code",
   "execution_count": 13,
   "id": "fa340543",
   "metadata": {},
   "outputs": [],
   "source": [
    "from tqdm import tqdm\n",
    "def extract_patient_features(df):\n",
    "    patient_features = []\n",
    "    patient_labels = []\n",
    "\n",
    "    grouped = df.groupby('patient_name')\n",
    "    for patient, group in tqdm(grouped, desc=\"Extracting patient features\"):\n",
    "        images = group['image_path'].tolist()\n",
    "        label = group['label'].iloc[0]\n",
    "\n",
    "        image_vecs = []\n",
    "        for img_path in images:\n",
    "            if not os.path.exists(img_path):\n",
    "                print(f\"[SKIPPED] Missing file: {img_path}\")\n",
    "                continue  # skip if file doesn't exist\n",
    "\n",
    "            try:\n",
    "                img = preprocess_image(img_path)\n",
    "                feat = cnn_model.predict(np.expand_dims(img, axis=0), verbose=0)\n",
    "                image_vecs.append(feat[0])\n",
    "            except Exception as e:\n",
    "                print(f\"[ERROR] Problem with {img_path}: {e}\")\n",
    "                continue\n",
    "\n",
    "        if len(image_vecs) == 0:\n",
    "            print(f\"[WARNING] No valid images for patient: {patient}, skipping\")\n",
    "            continue\n",
    "\n",
    "        # Aggregate all image vectors into one patient vector (mean pooling)\n",
    "        patient_vector = np.mean(image_vecs, axis=0)\n",
    "        patient_features.append(patient_vector)\n",
    "        patient_labels.append(label)\n",
    "\n",
    "    return np.array(patient_features), np.array(patient_labels)"
   ]
  },
  {
   "cell_type": "code",
   "execution_count": null,
   "id": "b596a252",
   "metadata": {},
   "outputs": [
    {
     "name": "stderr",
     "output_type": "stream",
     "text": [
      "Extracting patient features:   0%|          | 0/601 [00:00<?, ?it/s]"
     ]
    },
    {
     "name": "stdout",
     "output_type": "stream",
     "text": [
      "[SKIPPED] Missing file: datasets/thyroid_ultrasonic_image/batch1_image/dataset/0_002.Jpg\n"
     ]
    },
    {
     "name": "stderr",
     "output_type": "stream",
     "text": [
      "Extracting patient features:   0%|          | 3/601 [00:03<12:20,  1.24s/it]"
     ]
    },
    {
     "name": "stdout",
     "output_type": "stream",
     "text": [
      "[SKIPPED] Missing file: datasets/thyroid_ultrasonic_image/batch1_image/dataset/2_008.Jpg\n",
      "[SKIPPED] Missing file: datasets/thyroid_ultrasonic_image/batch1_image/dataset/2_009.Jpg\n"
     ]
    },
    {
     "name": "stderr",
     "output_type": "stream",
     "text": [
      "Extracting patient features:   1%|          | 4/601 [00:04<11:54,  1.20s/it]"
     ]
    },
    {
     "name": "stdout",
     "output_type": "stream",
     "text": [
      "[SKIPPED] Missing file: datasets/thyroid_ultrasonic_image/batch1_image/dataset/3_007.Jpg\n",
      "[SKIPPED] Missing file: datasets/thyroid_ultrasonic_image/batch1_image/dataset/3_008.Jpg\n",
      "[SKIPPED] Missing file: datasets/thyroid_ultrasonic_image/batch1_image/dataset/4_029.Jpg\n",
      "[SKIPPED] Missing file: datasets/thyroid_ultrasonic_image/batch1_image/dataset/4_030.Jpg\n",
      "[SKIPPED] Missing file: datasets/thyroid_ultrasonic_image/batch1_image/dataset/4_031.Jpg\n",
      "[SKIPPED] Missing file: datasets/thyroid_ultrasonic_image/batch1_image/dataset/4_032.Jpg\n",
      "[SKIPPED] Missing file: datasets/thyroid_ultrasonic_image/batch1_image/dataset/4_033.Jpg\n",
      "[SKIPPED] Missing file: datasets/thyroid_ultrasonic_image/batch1_image/dataset/4_034.Jpg\n",
      "[SKIPPED] Missing file: datasets/thyroid_ultrasonic_image/batch1_image/dataset/4_035.Jpg\n",
      "[SKIPPED] Missing file: datasets/thyroid_ultrasonic_image/batch1_image/dataset/4_036.Jpg\n",
      "[SKIPPED] Missing file: datasets/thyroid_ultrasonic_image/batch1_image/dataset/4_037.Jpg\n",
      "[SKIPPED] Missing file: datasets/thyroid_ultrasonic_image/batch1_image/dataset/4_038.Jpg\n",
      "[SKIPPED] Missing file: datasets/thyroid_ultrasonic_image/batch1_image/dataset/4_040.Jpg\n",
      "[SKIPPED] Missing file: datasets/thyroid_ultrasonic_image/batch1_image/dataset/4_041.Jpg\n",
      "[SKIPPED] Missing file: datasets/thyroid_ultrasonic_image/batch1_image/dataset/4_042.Jpg\n",
      "[SKIPPED] Missing file: datasets/thyroid_ultrasonic_image/batch1_image/dataset/4_043.Jpg\n",
      "[SKIPPED] Missing file: datasets/thyroid_ultrasonic_image/batch1_image/dataset/4_044.Jpg\n",
      "[SKIPPED] Missing file: datasets/thyroid_ultrasonic_image/batch1_image/dataset/4_046.Jpg\n",
      "[SKIPPED] Missing file: datasets/thyroid_ultrasonic_image/batch1_image/dataset/4_047.Jpg\n",
      "[WARNING] No valid images for patient: 4, skipping\n"
     ]
    },
    {
     "name": "stderr",
     "output_type": "stream",
     "text": [
      "Extracting patient features:   1%|          | 6/601 [00:05<07:40,  1.29it/s]"
     ]
    },
    {
     "name": "stdout",
     "output_type": "stream",
     "text": [
      "[SKIPPED] Missing file: datasets/thyroid_ultrasonic_image/batch1_image/dataset/5_005.Jpg\n",
      "[SKIPPED] Missing file: datasets/thyroid_ultrasonic_image/batch1_image/dataset/5_006.Jpg\n",
      "[SKIPPED] Missing file: datasets/thyroid_ultrasonic_image/batch1_image/dataset/5_007.Jpg\n",
      "[SKIPPED] Missing file: datasets/thyroid_ultrasonic_image/batch1_image/dataset/5_008.Jpg\n",
      "[SKIPPED] Missing file: datasets/thyroid_ultrasonic_image/batch1_image/dataset/5_009.Jpg\n"
     ]
    },
    {
     "name": "stderr",
     "output_type": "stream",
     "text": [
      "Extracting patient features:   1%|          | 7/601 [00:06<07:16,  1.36it/s]"
     ]
    },
    {
     "name": "stdout",
     "output_type": "stream",
     "text": [
      "[SKIPPED] Missing file: datasets/thyroid_ultrasonic_image/batch1_image/dataset/6_003.Jpg\n",
      "[SKIPPED] Missing file: datasets/thyroid_ultrasonic_image/batch1_image/dataset/6_004.Jpg\n",
      "[SKIPPED] Missing file: datasets/thyroid_ultrasonic_image/batch1_image/dataset/7_010.Jpg\n",
      "[SKIPPED] Missing file: datasets/thyroid_ultrasonic_image/batch1_image/dataset/7_014.Jpg\n",
      "[SKIPPED] Missing file: datasets/thyroid_ultrasonic_image/batch1_image/dataset/7_015.Jpg\n",
      "[SKIPPED] Missing file: datasets/thyroid_ultrasonic_image/batch1_image/dataset/7_016.Jpg\n",
      "[SKIPPED] Missing file: datasets/thyroid_ultrasonic_image/batch1_image/dataset/7_017.Jpg\n",
      "[SKIPPED] Missing file: datasets/thyroid_ultrasonic_image/batch1_image/dataset/7_019.Jpg\n"
     ]
    },
    {
     "name": "stderr",
     "output_type": "stream",
     "text": [
      "Extracting patient features:   1%|▏         | 8/601 [00:08<11:38,  1.18s/it]"
     ]
    },
    {
     "name": "stdout",
     "output_type": "stream",
     "text": [
      "[SKIPPED] Missing file: datasets/thyroid_ultrasonic_image/batch1_image/dataset/7_021.Jpg\n",
      "[SKIPPED] Missing file: datasets/thyroid_ultrasonic_image/batch1_image/dataset/7_024.Jpg\n"
     ]
    },
    {
     "name": "stderr",
     "output_type": "stream",
     "text": [
      "Extracting patient features:   1%|▏         | 9/601 [00:09<10:48,  1.10s/it]"
     ]
    },
    {
     "name": "stdout",
     "output_type": "stream",
     "text": [
      "[SKIPPED] Missing file: datasets/thyroid_ultrasonic_image/batch1_image/dataset/8_010.Jpg\n",
      "[SKIPPED] Missing file: datasets/thyroid_ultrasonic_image/batch1_image/dataset/9_001.Jpg\n",
      "[SKIPPED] Missing file: datasets/thyroid_ultrasonic_image/batch1_image/dataset/9_002.Jpg\n",
      "[SKIPPED] Missing file: datasets/thyroid_ultrasonic_image/batch1_image/dataset/9_003.Jpg\n",
      "[SKIPPED] Missing file: datasets/thyroid_ultrasonic_image/batch1_image/dataset/9_004.Jpg\n",
      "[SKIPPED] Missing file: datasets/thyroid_ultrasonic_image/batch1_image/dataset/9_005.Jpg\n",
      "[SKIPPED] Missing file: datasets/thyroid_ultrasonic_image/batch1_image/dataset/9_006.Jpg\n",
      "[SKIPPED] Missing file: datasets/thyroid_ultrasonic_image/batch1_image/dataset/9_007.Jpg\n",
      "[SKIPPED] Missing file: datasets/thyroid_ultrasonic_image/batch1_image/dataset/9_008.Jpg\n",
      "[SKIPPED] Missing file: datasets/thyroid_ultrasonic_image/batch1_image/dataset/9_010.Jpg\n",
      "[SKIPPED] Missing file: datasets/thyroid_ultrasonic_image/batch1_image/dataset/9_012.Jpg\n",
      "[WARNING] No valid images for patient: 9, skipping\n"
     ]
    },
    {
     "name": "stderr",
     "output_type": "stream",
     "text": [
      "Extracting patient features:   2%|▏         | 11/601 [00:10<08:47,  1.12it/s]"
     ]
    },
    {
     "name": "stdout",
     "output_type": "stream",
     "text": [
      "[SKIPPED] Missing file: datasets/thyroid_ultrasonic_image/batch1_image/dataset/10_008.Jpg\n",
      "[SKIPPED] Missing file: datasets/thyroid_ultrasonic_image/batch1_image/dataset/10_009.Jpg\n",
      "[SKIPPED] Missing file: datasets/thyroid_ultrasonic_image/batch1_image/dataset/10_010.Jpg\n"
     ]
    },
    {
     "name": "stderr",
     "output_type": "stream",
     "text": [
      "Extracting patient features:   2%|▏         | 12/601 [00:12<10:12,  1.04s/it]"
     ]
    },
    {
     "name": "stdout",
     "output_type": "stream",
     "text": [
      "[SKIPPED] Missing file: datasets/thyroid_ultrasonic_image/batch1_image/dataset/11_009.Jpg\n",
      "[SKIPPED] Missing file: datasets/thyroid_ultrasonic_image/batch1_image/dataset/11_010.Jpg\n",
      "[SKIPPED] Missing file: datasets/thyroid_ultrasonic_image/batch1_image/dataset/11_011.Jpg\n",
      "[SKIPPED] Missing file: datasets/thyroid_ultrasonic_image/batch1_image/dataset/11_012.Jpg\n",
      "[SKIPPED] Missing file: datasets/thyroid_ultrasonic_image/batch1_image/dataset/12_030.Jpg\n",
      "[SKIPPED] Missing file: datasets/thyroid_ultrasonic_image/batch1_image/dataset/12_031.Jpg\n",
      "[SKIPPED] Missing file: datasets/thyroid_ultrasonic_image/batch1_image/dataset/12_032.Jpg\n",
      "[SKIPPED] Missing file: datasets/thyroid_ultrasonic_image/batch1_image/dataset/12_033.Jpg\n",
      "[SKIPPED] Missing file: datasets/thyroid_ultrasonic_image/batch1_image/dataset/12_034.Jpg\n",
      "[SKIPPED] Missing file: datasets/thyroid_ultrasonic_image/batch1_image/dataset/12_036.Jpg\n",
      "[SKIPPED] Missing file: datasets/thyroid_ultrasonic_image/batch1_image/dataset/12_037.Jpg\n",
      "[SKIPPED] Missing file: datasets/thyroid_ultrasonic_image/batch1_image/dataset/12_038.Jpg\n",
      "[SKIPPED] Missing file: datasets/thyroid_ultrasonic_image/batch1_image/dataset/12_039.Jpg\n",
      "[SKIPPED] Missing file: datasets/thyroid_ultrasonic_image/batch1_image/dataset/12_040.Jpg\n",
      "[SKIPPED] Missing file: datasets/thyroid_ultrasonic_image/batch1_image/dataset/12_041.Jpg\n",
      "[SKIPPED] Missing file: datasets/thyroid_ultrasonic_image/batch1_image/dataset/12_042.Jpg\n",
      "[WARNING] No valid images for patient: 12, skipping\n",
      "[SKIPPED] Missing file: datasets/thyroid_ultrasonic_image/batch1_image/dataset/13_006.Jpg\n",
      "[SKIPPED] Missing file: datasets/thyroid_ultrasonic_image/batch1_image/dataset/13_007.Jpg\n",
      "[SKIPPED] Missing file: datasets/thyroid_ultrasonic_image/batch1_image/dataset/13_010.Jpg\n",
      "[SKIPPED] Missing file: datasets/thyroid_ultrasonic_image/batch1_image/dataset/13_011.Jpg\n",
      "[SKIPPED] Missing file: datasets/thyroid_ultrasonic_image/batch1_image/dataset/13_014.Jpg\n",
      "[SKIPPED] Missing file: datasets/thyroid_ultrasonic_image/batch1_image/dataset/13_015.Jpg\n"
     ]
    },
    {
     "name": "stderr",
     "output_type": "stream",
     "text": [
      "Extracting patient features:   2%|▏         | 14/601 [00:14<10:32,  1.08s/it]"
     ]
    },
    {
     "name": "stdout",
     "output_type": "stream",
     "text": [
      "[SKIPPED] Missing file: datasets/thyroid_ultrasonic_image/batch1_image/dataset/13_019.Jpg\n",
      "[SKIPPED] Missing file: datasets/thyroid_ultrasonic_image/batch1_image/dataset/13_020.Jpg\n",
      "[SKIPPED] Missing file: datasets/thyroid_ultrasonic_image/batch1_image/dataset/13_021.Jpg\n",
      "[SKIPPED] Missing file: datasets/thyroid_ultrasonic_image/batch1_image/dataset/14_001.Jpg\n",
      "[SKIPPED] Missing file: datasets/thyroid_ultrasonic_image/batch1_image/dataset/14_002.Jpg\n",
      "[SKIPPED] Missing file: datasets/thyroid_ultrasonic_image/batch1_image/dataset/14_003.Jpg\n",
      "[SKIPPED] Missing file: datasets/thyroid_ultrasonic_image/batch1_image/dataset/14_004.Jpg\n",
      "[SKIPPED] Missing file: datasets/thyroid_ultrasonic_image/batch1_image/dataset/14_005.Jpg\n",
      "[SKIPPED] Missing file: datasets/thyroid_ultrasonic_image/batch1_image/dataset/14_006.Jpg\n",
      "[SKIPPED] Missing file: datasets/thyroid_ultrasonic_image/batch1_image/dataset/14_007.Jpg\n",
      "[SKIPPED] Missing file: datasets/thyroid_ultrasonic_image/batch1_image/dataset/14_008.Jpg\n",
      "[SKIPPED] Missing file: datasets/thyroid_ultrasonic_image/batch1_image/dataset/14_009.Jpg\n",
      "[SKIPPED] Missing file: datasets/thyroid_ultrasonic_image/batch1_image/dataset/14_010.Jpg\n",
      "[SKIPPED] Missing file: datasets/thyroid_ultrasonic_image/batch1_image/dataset/14_011.Jpg\n",
      "[SKIPPED] Missing file: datasets/thyroid_ultrasonic_image/batch1_image/dataset/14_012.Jpg\n",
      "[SKIPPED] Missing file: datasets/thyroid_ultrasonic_image/batch1_image/dataset/14_013.Jpg\n",
      "[SKIPPED] Missing file: datasets/thyroid_ultrasonic_image/batch1_image/dataset/14_014.Jpg\n",
      "[SKIPPED] Missing file: datasets/thyroid_ultrasonic_image/batch1_image/dataset/14_016.Jpg\n",
      "[WARNING] No valid images for patient: 14, skipping\n"
     ]
    },
    {
     "name": "stderr",
     "output_type": "stream",
     "text": [
      "Extracting patient features:   3%|▎         | 16/601 [00:15<07:57,  1.23it/s]"
     ]
    },
    {
     "name": "stdout",
     "output_type": "stream",
     "text": [
      "[SKIPPED] Missing file: datasets/thyroid_ultrasonic_image/batch1_image/dataset/15_005.Jpg\n",
      "[SKIPPED] Missing file: datasets/thyroid_ultrasonic_image/batch1_image/dataset/15_006.Jpg\n",
      "[SKIPPED] Missing file: datasets/thyroid_ultrasonic_image/batch1_image/dataset/16_010.Jpg\n",
      "[SKIPPED] Missing file: datasets/thyroid_ultrasonic_image/batch1_image/dataset/16_011.Jpg\n",
      "[SKIPPED] Missing file: datasets/thyroid_ultrasonic_image/batch1_image/dataset/16_012.Jpg\n",
      "[SKIPPED] Missing file: datasets/thyroid_ultrasonic_image/batch1_image/dataset/16_013.Jpg\n",
      "[WARNING] No valid images for patient: 16, skipping\n"
     ]
    },
    {
     "name": "stderr",
     "output_type": "stream",
     "text": [
      "Extracting patient features:   3%|▎         | 18/601 [00:16<07:54,  1.23it/s]"
     ]
    },
    {
     "name": "stdout",
     "output_type": "stream",
     "text": [
      "[SKIPPED] Missing file: datasets/thyroid_ultrasonic_image/batch1_image/dataset/18_018.Jpg\n",
      "[SKIPPED] Missing file: datasets/thyroid_ultrasonic_image/batch1_image/dataset/18_019.Jpg\n",
      "[SKIPPED] Missing file: datasets/thyroid_ultrasonic_image/batch1_image/dataset/18_020.Jpg\n",
      "[SKIPPED] Missing file: datasets/thyroid_ultrasonic_image/batch1_image/dataset/18_021.Jpg\n",
      "[SKIPPED] Missing file: datasets/thyroid_ultrasonic_image/batch1_image/dataset/18_022.Jpg\n",
      "[SKIPPED] Missing file: datasets/thyroid_ultrasonic_image/batch1_image/dataset/18_025.Jpg\n",
      "[SKIPPED] Missing file: datasets/thyroid_ultrasonic_image/batch1_image/dataset/18_026.Jpg\n",
      "[SKIPPED] Missing file: datasets/thyroid_ultrasonic_image/batch1_image/dataset/18_027.Jpg\n",
      "[WARNING] No valid images for patient: 18, skipping\n"
     ]
    },
    {
     "name": "stderr",
     "output_type": "stream",
     "text": [
      "Extracting patient features:   4%|▎         | 22/601 [00:19<07:38,  1.26it/s]"
     ]
    },
    {
     "name": "stdout",
     "output_type": "stream",
     "text": [
      "[SKIPPED] Missing file: datasets/thyroid_ultrasonic_image/batch1_image/dataset/21_004.Jpg\n",
      "[SKIPPED] Missing file: datasets/thyroid_ultrasonic_image/batch1_image/dataset/21_005.Jpg\n"
     ]
    },
    {
     "name": "stderr",
     "output_type": "stream",
     "text": [
      "Extracting patient features:   4%|▍         | 23/601 [00:21<08:39,  1.11it/s]"
     ]
    },
    {
     "name": "stdout",
     "output_type": "stream",
     "text": [
      "[SKIPPED] Missing file: datasets/thyroid_ultrasonic_image/batch1_image/dataset/22_009.Jpg\n",
      "[SKIPPED] Missing file: datasets/thyroid_ultrasonic_image/batch1_image/dataset/22_010.Jpg\n",
      "[SKIPPED] Missing file: datasets/thyroid_ultrasonic_image/batch1_image/dataset/22_011.Jpg\n",
      "[SKIPPED] Missing file: datasets/thyroid_ultrasonic_image/batch1_image/dataset/22_013.Jpg\n"
     ]
    },
    {
     "name": "stderr",
     "output_type": "stream",
     "text": [
      "Extracting patient features:   4%|▍         | 24/601 [00:22<10:00,  1.04s/it]"
     ]
    },
    {
     "name": "stdout",
     "output_type": "stream",
     "text": [
      "[SKIPPED] Missing file: datasets/thyroid_ultrasonic_image/batch1_image/dataset/23_013.Jpg\n",
      "[SKIPPED] Missing file: datasets/thyroid_ultrasonic_image/batch1_image/dataset/23_014.Jpg\n",
      "[SKIPPED] Missing file: datasets/thyroid_ultrasonic_image/batch1_image/dataset/23_015.Jpg\n",
      "[SKIPPED] Missing file: datasets/thyroid_ultrasonic_image/batch1_image/dataset/24_001.Jpg\n"
     ]
    },
    {
     "name": "stderr",
     "output_type": "stream",
     "text": [
      "Extracting patient features:   4%|▍         | 25/601 [00:23<09:14,  1.04it/s]"
     ]
    },
    {
     "name": "stdout",
     "output_type": "stream",
     "text": [
      "[SKIPPED] Missing file: datasets/thyroid_ultrasonic_image/batch1_image/dataset/24_006.Jpg\n",
      "[SKIPPED] Missing file: datasets/thyroid_ultrasonic_image/batch1_image/dataset/24_012.Jpg\n",
      "[SKIPPED] Missing file: datasets/thyroid_ultrasonic_image/batch1_image/dataset/25_001.Jpg\n",
      "[SKIPPED] Missing file: datasets/thyroid_ultrasonic_image/batch1_image/dataset/25_002.Jpg\n",
      "[SKIPPED] Missing file: datasets/thyroid_ultrasonic_image/batch1_image/dataset/25_003.Jpg\n",
      "[SKIPPED] Missing file: datasets/thyroid_ultrasonic_image/batch1_image/dataset/25_004.Jpg\n",
      "[WARNING] No valid images for patient: 25, skipping\n"
     ]
    },
    {
     "name": "stderr",
     "output_type": "stream",
     "text": [
      "Extracting patient features:   5%|▍         | 28/601 [00:27<12:01,  1.26s/it]"
     ]
    },
    {
     "name": "stdout",
     "output_type": "stream",
     "text": [
      "[SKIPPED] Missing file: datasets/thyroid_ultrasonic_image/batch1_image/dataset/28_001.Jpg\n",
      "[SKIPPED] Missing file: datasets/thyroid_ultrasonic_image/batch1_image/dataset/28_002.Jpg\n",
      "[SKIPPED] Missing file: datasets/thyroid_ultrasonic_image/batch1_image/dataset/28_003.Jpg\n",
      "[SKIPPED] Missing file: datasets/thyroid_ultrasonic_image/batch1_image/dataset/28_004.Jpg\n",
      "[SKIPPED] Missing file: datasets/thyroid_ultrasonic_image/batch1_image/dataset/28_005.Jpg\n",
      "[SKIPPED] Missing file: datasets/thyroid_ultrasonic_image/batch1_image/dataset/28_006.Jpg\n",
      "[SKIPPED] Missing file: datasets/thyroid_ultrasonic_image/batch1_image/dataset/28_007.Jpg\n",
      "[SKIPPED] Missing file: datasets/thyroid_ultrasonic_image/batch1_image/dataset/28_008.Jpg\n",
      "[SKIPPED] Missing file: datasets/thyroid_ultrasonic_image/batch1_image/dataset/28_009.Jpg\n",
      "[SKIPPED] Missing file: datasets/thyroid_ultrasonic_image/batch1_image/dataset/28_010.Jpg\n",
      "[SKIPPED] Missing file: datasets/thyroid_ultrasonic_image/batch1_image/dataset/28_011.Jpg\n",
      "[SKIPPED] Missing file: datasets/thyroid_ultrasonic_image/batch1_image/dataset/28_012.Jpg\n",
      "[SKIPPED] Missing file: datasets/thyroid_ultrasonic_image/batch1_image/dataset/28_013.Jpg\n",
      "[WARNING] No valid images for patient: 28, skipping\n"
     ]
    },
    {
     "name": "stderr",
     "output_type": "stream",
     "text": [
      "Extracting patient features:   5%|▍         | 30/601 [00:29<10:37,  1.12s/it]"
     ]
    },
    {
     "name": "stdout",
     "output_type": "stream",
     "text": [
      "[SKIPPED] Missing file: datasets/thyroid_ultrasonic_image/batch1_image/dataset/30_001.Jpg\n"
     ]
    },
    {
     "name": "stderr",
     "output_type": "stream",
     "text": [
      "Extracting patient features:   5%|▌         | 32/601 [00:31<10:55,  1.15s/it]"
     ]
    },
    {
     "name": "stdout",
     "output_type": "stream",
     "text": [
      "[SKIPPED] Missing file: datasets/thyroid_ultrasonic_image/batch1_image/dataset/31_009.Jpg\n",
      "[SKIPPED] Missing file: datasets/thyroid_ultrasonic_image/batch1_image/dataset/31_011.Jpg\n",
      "[SKIPPED] Missing file: datasets/thyroid_ultrasonic_image/batch1_image/dataset/31_012.Jpg\n",
      "[SKIPPED] Missing file: datasets/thyroid_ultrasonic_image/batch1_image/dataset/31_013.Jpg\n",
      "[SKIPPED] Missing file: datasets/thyroid_ultrasonic_image/batch1_image/dataset/31_014.Jpg\n",
      "[SKIPPED] Missing file: datasets/thyroid_ultrasonic_image/batch1_image/dataset/31_015.Jpg\n",
      "[SKIPPED] Missing file: datasets/thyroid_ultrasonic_image/batch1_image/dataset/31_016.Jpg\n",
      "[SKIPPED] Missing file: datasets/thyroid_ultrasonic_image/batch1_image/dataset/31_017.Jpg\n",
      "[SKIPPED] Missing file: datasets/thyroid_ultrasonic_image/batch1_image/dataset/31_018.Jpg\n",
      "[SKIPPED] Missing file: datasets/thyroid_ultrasonic_image/batch1_image/dataset/31_019.Jpg\n",
      "[SKIPPED] Missing file: datasets/thyroid_ultrasonic_image/batch1_image/dataset/31_020.Jpg\n",
      "[SKIPPED] Missing file: datasets/thyroid_ultrasonic_image/batch1_image/dataset/31_021.Jpg\n",
      "[SKIPPED] Missing file: datasets/thyroid_ultrasonic_image/batch1_image/dataset/31_022.Jpg\n",
      "[SKIPPED] Missing file: datasets/thyroid_ultrasonic_image/batch1_image/dataset/31_023.Jpg\n"
     ]
    },
    {
     "name": "stderr",
     "output_type": "stream",
     "text": [
      "Extracting patient features:   5%|▌         | 33/601 [00:32<10:43,  1.13s/it]"
     ]
    },
    {
     "name": "stdout",
     "output_type": "stream",
     "text": [
      "[SKIPPED] Missing file: datasets/thyroid_ultrasonic_image/batch1_image/dataset/32_007.Jpg\n",
      "[SKIPPED] Missing file: datasets/thyroid_ultrasonic_image/batch1_image/dataset/32_008.Jpg\n",
      "[SKIPPED] Missing file: datasets/thyroid_ultrasonic_image/batch1_image/dataset/33_009.Jpg\n",
      "[SKIPPED] Missing file: datasets/thyroid_ultrasonic_image/batch1_image/dataset/33_011.Jpg\n"
     ]
    },
    {
     "name": "stderr",
     "output_type": "stream",
     "text": [
      "Extracting patient features:   6%|▌         | 34/601 [00:34<12:14,  1.29s/it]"
     ]
    },
    {
     "name": "stdout",
     "output_type": "stream",
     "text": [
      "[SKIPPED] Missing file: datasets/thyroid_ultrasonic_image/batch1_image/dataset/33_013.Jpg\n",
      "[SKIPPED] Missing file: datasets/thyroid_ultrasonic_image/batch1_image/dataset/33_014.Jpg\n",
      "[SKIPPED] Missing file: datasets/thyroid_ultrasonic_image/batch1_image/dataset/33_015.Jpg\n",
      "[SKIPPED] Missing file: datasets/thyroid_ultrasonic_image/batch1_image/dataset/33_016.Jpg\n",
      "[SKIPPED] Missing file: datasets/thyroid_ultrasonic_image/batch1_image/dataset/33_017.Jpg\n",
      "[SKIPPED] Missing file: datasets/thyroid_ultrasonic_image/batch1_image/dataset/33_018.Jpg\n",
      "[SKIPPED] Missing file: datasets/thyroid_ultrasonic_image/batch1_image/dataset/33_019.Jpg\n",
      "[SKIPPED] Missing file: datasets/thyroid_ultrasonic_image/batch1_image/dataset/34_001.Jpg\n",
      "[SKIPPED] Missing file: datasets/thyroid_ultrasonic_image/batch1_image/dataset/34_002.Jpg\n",
      "[SKIPPED] Missing file: datasets/thyroid_ultrasonic_image/batch1_image/dataset/34_003.Jpg\n",
      "[SKIPPED] Missing file: datasets/thyroid_ultrasonic_image/batch1_image/dataset/34_004.Jpg\n",
      "[SKIPPED] Missing file: datasets/thyroid_ultrasonic_image/batch1_image/dataset/34_005.Jpg\n",
      "[SKIPPED] Missing file: datasets/thyroid_ultrasonic_image/batch1_image/dataset/34_006.Jpg\n",
      "[SKIPPED] Missing file: datasets/thyroid_ultrasonic_image/batch1_image/dataset/34_007.Jpg\n",
      "[SKIPPED] Missing file: datasets/thyroid_ultrasonic_image/batch1_image/dataset/34_008.Jpg\n",
      "[SKIPPED] Missing file: datasets/thyroid_ultrasonic_image/batch1_image/dataset/34_009.Jpg\n",
      "[SKIPPED] Missing file: datasets/thyroid_ultrasonic_image/batch1_image/dataset/34_010.Jpg\n",
      "[SKIPPED] Missing file: datasets/thyroid_ultrasonic_image/batch1_image/dataset/34_011.Jpg\n",
      "[SKIPPED] Missing file: datasets/thyroid_ultrasonic_image/batch1_image/dataset/34_012.Jpg\n",
      "[SKIPPED] Missing file: datasets/thyroid_ultrasonic_image/batch1_image/dataset/34_013.Jpg\n"
     ]
    },
    {
     "name": "stderr",
     "output_type": "stream",
     "text": [
      "Extracting patient features:   6%|▌         | 35/601 [00:36<13:11,  1.40s/it]"
     ]
    },
    {
     "name": "stdout",
     "output_type": "stream",
     "text": [
      "[SKIPPED] Missing file: datasets/thyroid_ultrasonic_image/batch1_image/dataset/34_024.Jpg\n",
      "[SKIPPED] Missing file: datasets/thyroid_ultrasonic_image/batch1_image/dataset/34_025.Jpg\n",
      "[SKIPPED] Missing file: datasets/thyroid_ultrasonic_image/batch1_image/dataset/34_026.Jpg\n"
     ]
    },
    {
     "name": "stderr",
     "output_type": "stream",
     "text": [
      "Extracting patient features:   6%|▌         | 36/601 [00:36<11:13,  1.19s/it]"
     ]
    },
    {
     "name": "stdout",
     "output_type": "stream",
     "text": [
      "[SKIPPED] Missing file: datasets/thyroid_ultrasonic_image/batch1_image/dataset/36_002.Jpg\n"
     ]
    },
    {
     "name": "stderr",
     "output_type": "stream",
     "text": [
      "Extracting patient features:   6%|▋         | 38/601 [00:38<10:10,  1.08s/it]"
     ]
    },
    {
     "name": "stdout",
     "output_type": "stream",
     "text": [
      "[SKIPPED] Missing file: datasets/thyroid_ultrasonic_image/batch1_image/dataset/37_005.Jpg\n",
      "[SKIPPED] Missing file: datasets/thyroid_ultrasonic_image/batch1_image/dataset/37_006.Jpg\n",
      "[SKIPPED] Missing file: datasets/thyroid_ultrasonic_image/batch1_image/dataset/37_009.Jpg\n"
     ]
    },
    {
     "name": "stderr",
     "output_type": "stream",
     "text": [
      "Extracting patient features:   7%|▋         | 40/601 [00:43<15:06,  1.62s/it]"
     ]
    },
    {
     "name": "stdout",
     "output_type": "stream",
     "text": [
      "[SKIPPED] Missing file: datasets/thyroid_ultrasonic_image/batch1_image/dataset/40_001.Jpg\n",
      "[SKIPPED] Missing file: datasets/thyroid_ultrasonic_image/batch1_image/dataset/40_002.Jpg\n",
      "[SKIPPED] Missing file: datasets/thyroid_ultrasonic_image/batch1_image/dataset/40_003.Jpg\n",
      "[SKIPPED] Missing file: datasets/thyroid_ultrasonic_image/batch1_image/dataset/40_004.Jpg\n",
      "[SKIPPED] Missing file: datasets/thyroid_ultrasonic_image/batch1_image/dataset/40_005.Jpg\n",
      "[SKIPPED] Missing file: datasets/thyroid_ultrasonic_image/batch1_image/dataset/40_006.Jpg\n",
      "[SKIPPED] Missing file: datasets/thyroid_ultrasonic_image/batch1_image/dataset/40_007.Jpg\n",
      "[SKIPPED] Missing file: datasets/thyroid_ultrasonic_image/batch1_image/dataset/40_008.Jpg\n",
      "[SKIPPED] Missing file: datasets/thyroid_ultrasonic_image/batch1_image/dataset/40_009.Jpg\n",
      "[SKIPPED] Missing file: datasets/thyroid_ultrasonic_image/batch1_image/dataset/40_010.Jpg\n",
      "[SKIPPED] Missing file: datasets/thyroid_ultrasonic_image/batch1_image/dataset/40_011.Jpg\n",
      "[SKIPPED] Missing file: datasets/thyroid_ultrasonic_image/batch1_image/dataset/40_012.Jpg\n",
      "[SKIPPED] Missing file: datasets/thyroid_ultrasonic_image/batch1_image/dataset/40_013.Jpg\n"
     ]
    },
    {
     "name": "stderr",
     "output_type": "stream",
     "text": [
      "Extracting patient features:   7%|▋         | 41/601 [00:43<12:11,  1.31s/it]"
     ]
    },
    {
     "name": "stdout",
     "output_type": "stream",
     "text": [
      "[SKIPPED] Missing file: datasets/thyroid_ultrasonic_image/batch1_image/dataset/41_001.Jpg\n",
      "[SKIPPED] Missing file: datasets/thyroid_ultrasonic_image/batch1_image/dataset/41_002.Jpg\n",
      "[SKIPPED] Missing file: datasets/thyroid_ultrasonic_image/batch1_image/dataset/41_003.Jpg\n",
      "[SKIPPED] Missing file: datasets/thyroid_ultrasonic_image/batch1_image/dataset/41_004.Jpg\n",
      "[SKIPPED] Missing file: datasets/thyroid_ultrasonic_image/batch1_image/dataset/41_005.Jpg\n",
      "[SKIPPED] Missing file: datasets/thyroid_ultrasonic_image/batch1_image/dataset/41_006.Jpg\n",
      "[SKIPPED] Missing file: datasets/thyroid_ultrasonic_image/batch1_image/dataset/41_007.Jpg\n",
      "[SKIPPED] Missing file: datasets/thyroid_ultrasonic_image/batch1_image/dataset/41_008.Jpg\n"
     ]
    },
    {
     "name": "stderr",
     "output_type": "stream",
     "text": [
      "Extracting patient features:   7%|▋         | 44/601 [00:47<12:13,  1.32s/it]"
     ]
    },
    {
     "name": "stdout",
     "output_type": "stream",
     "text": [
      "[SKIPPED] Missing file: datasets/thyroid_ultrasonic_image/batch1_image/dataset/43_010.Jpg\n",
      "[SKIPPED] Missing file: datasets/thyroid_ultrasonic_image/batch1_image/dataset/44_026.Jpg\n",
      "[SKIPPED] Missing file: datasets/thyroid_ultrasonic_image/batch1_image/dataset/44_027.Jpg\n",
      "[SKIPPED] Missing file: datasets/thyroid_ultrasonic_image/batch1_image/dataset/44_030.Jpg\n",
      "[SKIPPED] Missing file: datasets/thyroid_ultrasonic_image/batch1_image/dataset/44_031.Jpg\n",
      "[SKIPPED] Missing file: datasets/thyroid_ultrasonic_image/batch1_image/dataset/44_032.Jpg\n",
      "[SKIPPED] Missing file: datasets/thyroid_ultrasonic_image/batch1_image/dataset/44_033.Jpg\n",
      "[SKIPPED] Missing file: datasets/thyroid_ultrasonic_image/batch1_image/dataset/44_034.Jpg\n",
      "[SKIPPED] Missing file: datasets/thyroid_ultrasonic_image/batch1_image/dataset/44_035.Jpg\n",
      "[SKIPPED] Missing file: datasets/thyroid_ultrasonic_image/batch1_image/dataset/44_036.Jpg\n",
      "[SKIPPED] Missing file: datasets/thyroid_ultrasonic_image/batch1_image/dataset/44_037.Jpg\n",
      "[SKIPPED] Missing file: datasets/thyroid_ultrasonic_image/batch1_image/dataset/44_038.Jpg\n",
      "[SKIPPED] Missing file: datasets/thyroid_ultrasonic_image/batch1_image/dataset/44_039.Jpg\n",
      "[SKIPPED] Missing file: datasets/thyroid_ultrasonic_image/batch1_image/dataset/44_040.Jpg\n",
      "[SKIPPED] Missing file: datasets/thyroid_ultrasonic_image/batch1_image/dataset/44_041.Jpg\n",
      "[SKIPPED] Missing file: datasets/thyroid_ultrasonic_image/batch1_image/dataset/44_042.Jpg\n",
      "[SKIPPED] Missing file: datasets/thyroid_ultrasonic_image/batch1_image/dataset/44_043.Jpg\n",
      "[SKIPPED] Missing file: datasets/thyroid_ultrasonic_image/batch1_image/dataset/44_044.Jpg\n",
      "[SKIPPED] Missing file: datasets/thyroid_ultrasonic_image/batch1_image/dataset/44_045.Jpg\n",
      "[SKIPPED] Missing file: datasets/thyroid_ultrasonic_image/batch1_image/dataset/44_046.Jpg\n",
      "[SKIPPED] Missing file: datasets/thyroid_ultrasonic_image/batch1_image/dataset/44_047.Jpg\n",
      "[SKIPPED] Missing file: datasets/thyroid_ultrasonic_image/batch1_image/dataset/44_048.Jpg\n",
      "[SKIPPED] Missing file: datasets/thyroid_ultrasonic_image/batch1_image/dataset/44_049.Jpg\n",
      "[SKIPPED] Missing file: datasets/thyroid_ultrasonic_image/batch1_image/dataset/44_050.Jpg\n",
      "[SKIPPED] Missing file: datasets/thyroid_ultrasonic_image/batch1_image/dataset/44_051.Jpg\n",
      "[SKIPPED] Missing file: datasets/thyroid_ultrasonic_image/batch1_image/dataset/44_052.Jpg\n",
      "[SKIPPED] Missing file: datasets/thyroid_ultrasonic_image/batch1_image/dataset/44_053.Jpg\n",
      "[SKIPPED] Missing file: datasets/thyroid_ultrasonic_image/batch1_image/dataset/44_054.Jpg\n",
      "[SKIPPED] Missing file: datasets/thyroid_ultrasonic_image/batch1_image/dataset/44_055.Jpg\n",
      "[WARNING] No valid images for patient: 44, skipping\n"
     ]
    },
    {
     "name": "stderr",
     "output_type": "stream",
     "text": [
      "Extracting patient features:   8%|▊         | 46/601 [00:48<09:24,  1.02s/it]"
     ]
    },
    {
     "name": "stdout",
     "output_type": "stream",
     "text": [
      "[SKIPPED] Missing file: datasets/thyroid_ultrasonic_image/batch1_image/dataset/46_004.Jpg\n",
      "[SKIPPED] Missing file: datasets/thyroid_ultrasonic_image/batch1_image/dataset/46_005.Jpg\n"
     ]
    },
    {
     "name": "stderr",
     "output_type": "stream",
     "text": [
      "Extracting patient features:   8%|▊         | 47/601 [00:50<10:16,  1.11s/it]"
     ]
    },
    {
     "name": "stdout",
     "output_type": "stream",
     "text": [
      "[SKIPPED] Missing file: datasets/thyroid_ultrasonic_image/batch1_image/dataset/46_010.Jpg\n",
      "[SKIPPED] Missing file: datasets/thyroid_ultrasonic_image/batch1_image/dataset/46_011.Jpg\n",
      "[SKIPPED] Missing file: datasets/thyroid_ultrasonic_image/batch1_image/dataset/47_003.Jpg\n"
     ]
    },
    {
     "name": "stderr",
     "output_type": "stream",
     "text": [
      "Extracting patient features:   8%|▊         | 48/601 [00:51<09:31,  1.03s/it]"
     ]
    },
    {
     "name": "stdout",
     "output_type": "stream",
     "text": [
      "[SKIPPED] Missing file: datasets/thyroid_ultrasonic_image/batch1_image/dataset/47_005.Jpg\n",
      "[SKIPPED] Missing file: datasets/thyroid_ultrasonic_image/batch1_image/dataset/47_007.Jpg\n",
      "[SKIPPED] Missing file: datasets/thyroid_ultrasonic_image/batch1_image/dataset/47_008.Jpg\n",
      "[SKIPPED] Missing file: datasets/thyroid_ultrasonic_image/batch1_image/dataset/47_010.Jpg\n",
      "[SKIPPED] Missing file: datasets/thyroid_ultrasonic_image/batch1_image/dataset/48_027.Jpg\n",
      "[SKIPPED] Missing file: datasets/thyroid_ultrasonic_image/batch1_image/dataset/48_028.Jpg\n",
      "[SKIPPED] Missing file: datasets/thyroid_ultrasonic_image/batch1_image/dataset/48_029.Jpg\n",
      "[SKIPPED] Missing file: datasets/thyroid_ultrasonic_image/batch1_image/dataset/48_030.Jpg\n",
      "[SKIPPED] Missing file: datasets/thyroid_ultrasonic_image/batch1_image/dataset/48_031.Jpg\n",
      "[SKIPPED] Missing file: datasets/thyroid_ultrasonic_image/batch1_image/dataset/48_032.Jpg\n",
      "[SKIPPED] Missing file: datasets/thyroid_ultrasonic_image/batch1_image/dataset/48_033.Jpg\n",
      "[SKIPPED] Missing file: datasets/thyroid_ultrasonic_image/batch1_image/dataset/48_034.Jpg\n",
      "[SKIPPED] Missing file: datasets/thyroid_ultrasonic_image/batch1_image/dataset/48_035.Jpg\n",
      "[SKIPPED] Missing file: datasets/thyroid_ultrasonic_image/batch1_image/dataset/48_036.Jpg\n",
      "[SKIPPED] Missing file: datasets/thyroid_ultrasonic_image/batch1_image/dataset/48_037.Jpg\n",
      "[SKIPPED] Missing file: datasets/thyroid_ultrasonic_image/batch1_image/dataset/48_038.Jpg\n",
      "[SKIPPED] Missing file: datasets/thyroid_ultrasonic_image/batch1_image/dataset/48_039.Jpg\n",
      "[SKIPPED] Missing file: datasets/thyroid_ultrasonic_image/batch1_image/dataset/48_040.Jpg\n",
      "[SKIPPED] Missing file: datasets/thyroid_ultrasonic_image/batch1_image/dataset/48_041.Jpg\n",
      "[SKIPPED] Missing file: datasets/thyroid_ultrasonic_image/batch1_image/dataset/48_042.Jpg\n",
      "[WARNING] No valid images for patient: 48, skipping\n"
     ]
    },
    {
     "name": "stderr",
     "output_type": "stream",
     "text": [
      "Extracting patient features:   8%|▊         | 50/601 [00:54<11:07,  1.21s/it]"
     ]
    },
    {
     "name": "stdout",
     "output_type": "stream",
     "text": [
      "[SKIPPED] Missing file: datasets/thyroid_ultrasonic_image/batch1_image/dataset/49_013.Jpg\n",
      "[SKIPPED] Missing file: datasets/thyroid_ultrasonic_image/batch1_image/dataset/50_001.Jpg\n",
      "[SKIPPED] Missing file: datasets/thyroid_ultrasonic_image/batch1_image/dataset/50_002.Jpg\n",
      "[SKIPPED] Missing file: datasets/thyroid_ultrasonic_image/batch1_image/dataset/50_003.Jpg\n",
      "[SKIPPED] Missing file: datasets/thyroid_ultrasonic_image/batch1_image/dataset/50_005.Jpg\n",
      "[SKIPPED] Missing file: datasets/thyroid_ultrasonic_image/batch1_image/dataset/50_006.Jpg\n",
      "[SKIPPED] Missing file: datasets/thyroid_ultrasonic_image/batch1_image/dataset/50_007.Jpg\n",
      "[SKIPPED] Missing file: datasets/thyroid_ultrasonic_image/batch1_image/dataset/50_008.Jpg\n",
      "[SKIPPED] Missing file: datasets/thyroid_ultrasonic_image/batch1_image/dataset/50_009.Jpg\n",
      "[WARNING] No valid images for patient: 50, skipping\n",
      "[SKIPPED] Missing file: datasets/thyroid_ultrasonic_image/batch1_image/dataset/51_004.Jpg\n"
     ]
    },
    {
     "name": "stderr",
     "output_type": "stream",
     "text": [
      "Extracting patient features:   9%|▉         | 54/601 [00:59<12:33,  1.38s/it]"
     ]
    },
    {
     "name": "stdout",
     "output_type": "stream",
     "text": [
      "[SKIPPED] Missing file: datasets/thyroid_ultrasonic_image/batch1_image/dataset/54_005.Jpg\n",
      "[SKIPPED] Missing file: datasets/thyroid_ultrasonic_image/batch1_image/dataset/54_014.Jpg\n"
     ]
    },
    {
     "name": "stderr",
     "output_type": "stream",
     "text": [
      "Extracting patient features:   9%|▉         | 55/601 [01:02<16:21,  1.80s/it]"
     ]
    },
    {
     "name": "stdout",
     "output_type": "stream",
     "text": [
      "[SKIPPED] Missing file: datasets/thyroid_ultrasonic_image/batch1_image/dataset/54_016.Jpg\n",
      "[SKIPPED] Missing file: datasets/thyroid_ultrasonic_image/batch1_image/dataset/55_004.Jpg\n"
     ]
    },
    {
     "name": "stderr",
     "output_type": "stream",
     "text": [
      "Extracting patient features:  10%|▉         | 59/601 [01:10<15:42,  1.74s/it]"
     ]
    },
    {
     "name": "stdout",
     "output_type": "stream",
     "text": [
      "[SKIPPED] Missing file: datasets/thyroid_ultrasonic_image/batch1_image/dataset/58_009.Jpg\n"
     ]
    },
    {
     "name": "stderr",
     "output_type": "stream",
     "text": [
      "Extracting patient features:  10%|▉         | 60/601 [01:11<14:30,  1.61s/it]"
     ]
    },
    {
     "name": "stdout",
     "output_type": "stream",
     "text": [
      "[SKIPPED] Missing file: datasets/thyroid_ultrasonic_image/batch1_image/dataset/59_008.Jpg\n",
      "[SKIPPED] Missing file: datasets/thyroid_ultrasonic_image/batch1_image/dataset/59_009.Jpg\n",
      "[SKIPPED] Missing file: datasets/thyroid_ultrasonic_image/batch1_image/dataset/59_010.Jpg\n",
      "[SKIPPED] Missing file: datasets/thyroid_ultrasonic_image/batch1_image/dataset/59_011.Jpg\n",
      "[SKIPPED] Missing file: datasets/thyroid_ultrasonic_image/batch1_image/dataset/59_012.Jpg\n",
      "[SKIPPED] Missing file: datasets/thyroid_ultrasonic_image/batch1_image/dataset/59_013.Jpg\n",
      "[SKIPPED] Missing file: datasets/thyroid_ultrasonic_image/batch1_image/dataset/59_014.Jpg\n",
      "[SKIPPED] Missing file: datasets/thyroid_ultrasonic_image/batch1_image/dataset/59_015.Jpg\n",
      "[SKIPPED] Missing file: datasets/thyroid_ultrasonic_image/batch1_image/dataset/59_016.Jpg\n",
      "[SKIPPED] Missing file: datasets/thyroid_ultrasonic_image/batch1_image/dataset/59_017.Jpg\n"
     ]
    },
    {
     "name": "stderr",
     "output_type": "stream",
     "text": [
      "Extracting patient features:  10%|█         | 62/601 [01:15<14:52,  1.66s/it]"
     ]
    },
    {
     "name": "stdout",
     "output_type": "stream",
     "text": [
      "[SKIPPED] Missing file: datasets/thyroid_ultrasonic_image/batch1_image/dataset/61_007.Jpg\n",
      "[SKIPPED] Missing file: datasets/thyroid_ultrasonic_image/batch1_image/dataset/61_009.Jpg\n",
      "[SKIPPED] Missing file: datasets/thyroid_ultrasonic_image/batch1_image/dataset/61_010.Jpg\n",
      "[SKIPPED] Missing file: datasets/thyroid_ultrasonic_image/batch1_image/dataset/61_012.Jpg\n",
      "[SKIPPED] Missing file: datasets/thyroid_ultrasonic_image/batch1_image/dataset/61_013.Jpg\n"
     ]
    },
    {
     "name": "stderr",
     "output_type": "stream",
     "text": [
      "Extracting patient features:  10%|█         | 63/601 [01:16<13:35,  1.52s/it]"
     ]
    },
    {
     "name": "stdout",
     "output_type": "stream",
     "text": [
      "[SKIPPED] Missing file: datasets/thyroid_ultrasonic_image/batch1_image/dataset/62_008.Jpg\n",
      "[SKIPPED] Missing file: datasets/thyroid_ultrasonic_image/batch1_image/dataset/62_009.Jpg\n",
      "[SKIPPED] Missing file: datasets/thyroid_ultrasonic_image/batch1_image/dataset/63_015.Jpg\n",
      "[SKIPPED] Missing file: datasets/thyroid_ultrasonic_image/batch1_image/dataset/63_016.Jpg\n",
      "[WARNING] No valid images for patient: 63, skipping\n"
     ]
    },
    {
     "name": "stderr",
     "output_type": "stream",
     "text": [
      "Extracting patient features:  11%|█         | 66/601 [01:17<07:39,  1.16it/s]"
     ]
    },
    {
     "name": "stdout",
     "output_type": "stream",
     "text": [
      "[SKIPPED] Missing file: datasets/thyroid_ultrasonic_image/batch1_image/dataset/65_008.Jpg\n"
     ]
    },
    {
     "name": "stderr",
     "output_type": "stream",
     "text": [
      "Extracting patient features:  11%|█         | 67/601 [01:18<07:23,  1.20it/s]"
     ]
    },
    {
     "name": "stdout",
     "output_type": "stream",
     "text": [
      "[SKIPPED] Missing file: datasets/thyroid_ultrasonic_image/batch1_image/dataset/66_005.Jpg\n",
      "[SKIPPED] Missing file: datasets/thyroid_ultrasonic_image/batch1_image/dataset/66_008.Jpg\n",
      "[SKIPPED] Missing file: datasets/thyroid_ultrasonic_image/batch1_image/dataset/66_009.Jpg\n",
      "[SKIPPED] Missing file: datasets/thyroid_ultrasonic_image/batch1_image/dataset/66_012.Jpg\n",
      "[SKIPPED] Missing file: datasets/thyroid_ultrasonic_image/batch1_image/dataset/66_013.Jpg\n",
      "[SKIPPED] Missing file: datasets/thyroid_ultrasonic_image/batch1_image/dataset/66_016.Jpg\n",
      "[SKIPPED] Missing file: datasets/thyroid_ultrasonic_image/batch1_image/dataset/66_017.Jpg\n",
      "[SKIPPED] Missing file: datasets/thyroid_ultrasonic_image/batch1_image/dataset/66_018.Jpg\n"
     ]
    },
    {
     "name": "stderr",
     "output_type": "stream",
     "text": [
      "Extracting patient features:  11%|█▏        | 68/601 [01:18<06:40,  1.33it/s]"
     ]
    },
    {
     "name": "stdout",
     "output_type": "stream",
     "text": [
      "[SKIPPED] Missing file: datasets/thyroid_ultrasonic_image/batch1_image/dataset/68_006.Jpg\n",
      "[SKIPPED] Missing file: datasets/thyroid_ultrasonic_image/batch1_image/dataset/68_007.Jpg\n"
     ]
    },
    {
     "name": "stderr",
     "output_type": "stream",
     "text": [
      "Extracting patient features:  12%|█▏        | 70/601 [01:21<08:27,  1.05it/s]"
     ]
    },
    {
     "name": "stdout",
     "output_type": "stream",
     "text": [
      "[SKIPPED] Missing file: datasets/thyroid_ultrasonic_image/batch1_image/dataset/69_007.Jpg\n",
      "[SKIPPED] Missing file: datasets/thyroid_ultrasonic_image/batch1_image/dataset/69_008.Jpg\n",
      "[SKIPPED] Missing file: datasets/thyroid_ultrasonic_image/batch1_image/dataset/69_015.Jpg\n",
      "[SKIPPED] Missing file: datasets/thyroid_ultrasonic_image/batch1_image/dataset/69_016.Jpg\n",
      "[SKIPPED] Missing file: datasets/thyroid_ultrasonic_image/batch1_image/dataset/69_017.Jpg\n",
      "[SKIPPED] Missing file: datasets/thyroid_ultrasonic_image/batch1_image/dataset/69_018.Jpg\n"
     ]
    },
    {
     "name": "stderr",
     "output_type": "stream",
     "text": [
      "Extracting patient features:  12%|█▏        | 71/601 [01:22<08:58,  1.02s/it]"
     ]
    },
    {
     "name": "stdout",
     "output_type": "stream",
     "text": [
      "[SKIPPED] Missing file: datasets/thyroid_ultrasonic_image/batch1_image/dataset/71_009.Jpg\n",
      "[SKIPPED] Missing file: datasets/thyroid_ultrasonic_image/batch1_image/dataset/71_010.Jpg\n",
      "[SKIPPED] Missing file: datasets/thyroid_ultrasonic_image/batch1_image/dataset/71_011.Jpg\n"
     ]
    },
    {
     "name": "stderr",
     "output_type": "stream",
     "text": [
      "Extracting patient features:  13%|█▎        | 76/601 [01:28<10:34,  1.21s/it]"
     ]
    },
    {
     "name": "stdout",
     "output_type": "stream",
     "text": [
      "[SKIPPED] Missing file: datasets/thyroid_ultrasonic_image/batch1_image/dataset/75_006.Jpg\n",
      "[SKIPPED] Missing file: datasets/thyroid_ultrasonic_image/batch1_image/dataset/75_007.Jpg\n",
      "[SKIPPED] Missing file: datasets/thyroid_ultrasonic_image/batch1_image/dataset/75_009.Jpg\n",
      "[SKIPPED] Missing file: datasets/thyroid_ultrasonic_image/batch1_image/dataset/75_010.Jpg\n",
      "[SKIPPED] Missing file: datasets/thyroid_ultrasonic_image/batch1_image/dataset/75_011.Jpg\n",
      "[SKIPPED] Missing file: datasets/thyroid_ultrasonic_image/batch1_image/dataset/75_012.Jpg\n",
      "[SKIPPED] Missing file: datasets/thyroid_ultrasonic_image/batch1_image/dataset/75_013.Jpg\n"
     ]
    },
    {
     "name": "stderr",
     "output_type": "stream",
     "text": [
      "Extracting patient features:  13%|█▎        | 77/601 [01:29<10:00,  1.15s/it]"
     ]
    },
    {
     "name": "stdout",
     "output_type": "stream",
     "text": [
      "[SKIPPED] Missing file: datasets/thyroid_ultrasonic_image/batch1_image/dataset/76_007.Jpg\n",
      "[SKIPPED] Missing file: datasets/thyroid_ultrasonic_image/batch1_image/dataset/76_009.Jpg\n"
     ]
    },
    {
     "name": "stderr",
     "output_type": "stream",
     "text": [
      "Extracting patient features:  13%|█▎        | 78/601 [01:30<09:44,  1.12s/it]"
     ]
    },
    {
     "name": "stdout",
     "output_type": "stream",
     "text": [
      "[SKIPPED] Missing file: datasets/thyroid_ultrasonic_image/batch1_image/dataset/78_001.Jpg\n",
      "[SKIPPED] Missing file: datasets/thyroid_ultrasonic_image/batch1_image/dataset/78_002.Jpg\n",
      "[SKIPPED] Missing file: datasets/thyroid_ultrasonic_image/batch1_image/dataset/78_003.Jpg\n",
      "[SKIPPED] Missing file: datasets/thyroid_ultrasonic_image/batch1_image/dataset/78_004.Jpg\n"
     ]
    },
    {
     "name": "stderr",
     "output_type": "stream",
     "text": [
      "Extracting patient features:  13%|█▎        | 79/601 [01:31<07:55,  1.10it/s]"
     ]
    },
    {
     "name": "stdout",
     "output_type": "stream",
     "text": [
      "[SKIPPED] Missing file: datasets/thyroid_ultrasonic_image/batch1_image/dataset/79_045.Jpg\n",
      "[SKIPPED] Missing file: datasets/thyroid_ultrasonic_image/batch1_image/dataset/79_046.Jpg\n",
      "[SKIPPED] Missing file: datasets/thyroid_ultrasonic_image/batch1_image/dataset/79_047.Jpg\n",
      "[SKIPPED] Missing file: datasets/thyroid_ultrasonic_image/batch1_image/dataset/79_048.Jpg\n",
      "[SKIPPED] Missing file: datasets/thyroid_ultrasonic_image/batch1_image/dataset/79_049.Jpg\n",
      "[WARNING] No valid images for patient: 79, skipping\n"
     ]
    },
    {
     "name": "stderr",
     "output_type": "stream",
     "text": [
      "Extracting patient features:  13%|█▎        | 81/601 [01:33<08:59,  1.04s/it]"
     ]
    },
    {
     "name": "stdout",
     "output_type": "stream",
     "text": [
      "[SKIPPED] Missing file: datasets/thyroid_ultrasonic_image/batch1_image/dataset/80_016.Jpg\n"
     ]
    },
    {
     "name": "stderr",
     "output_type": "stream",
     "text": [
      "Extracting patient features:  14%|█▎        | 82/601 [01:35<10:14,  1.18s/it]"
     ]
    },
    {
     "name": "stdout",
     "output_type": "stream",
     "text": [
      "[SKIPPED] Missing file: datasets/thyroid_ultrasonic_image/batch1_image/dataset/81_010.Jpg\n",
      "[SKIPPED] Missing file: datasets/thyroid_ultrasonic_image/batch1_image/dataset/81_011.Jpg\n",
      "[SKIPPED] Missing file: datasets/thyroid_ultrasonic_image/batch1_image/dataset/81_012.Jpg\n",
      "[SKIPPED] Missing file: datasets/thyroid_ultrasonic_image/batch1_image/dataset/81_013.Jpg\n"
     ]
    },
    {
     "name": "stderr",
     "output_type": "stream",
     "text": [
      "Extracting patient features:  14%|█▍        | 83/601 [01:35<08:55,  1.03s/it]"
     ]
    },
    {
     "name": "stdout",
     "output_type": "stream",
     "text": [
      "[SKIPPED] Missing file: datasets/thyroid_ultrasonic_image/batch1_image/dataset/82_004.Jpg\n",
      "[SKIPPED] Missing file: datasets/thyroid_ultrasonic_image/batch1_image/dataset/82_005.Jpg\n",
      "[SKIPPED] Missing file: datasets/thyroid_ultrasonic_image/batch1_image/dataset/82_006.Jpg\n",
      "[SKIPPED] Missing file: datasets/thyroid_ultrasonic_image/batch1_image/dataset/82_007.Jpg\n",
      "[SKIPPED] Missing file: datasets/thyroid_ultrasonic_image/batch1_image/dataset/82_008.Jpg\n",
      "[SKIPPED] Missing file: datasets/thyroid_ultrasonic_image/batch1_image/dataset/82_009.Jpg\n",
      "[SKIPPED] Missing file: datasets/thyroid_ultrasonic_image/batch1_image/dataset/82_010.Jpg\n",
      "[SKIPPED] Missing file: datasets/thyroid_ultrasonic_image/batch1_image/dataset/82_011.Jpg\n",
      "[SKIPPED] Missing file: datasets/thyroid_ultrasonic_image/batch1_image/dataset/82_012.Jpg\n",
      "[SKIPPED] Missing file: datasets/thyroid_ultrasonic_image/batch1_image/dataset/82_013.Jpg\n",
      "[SKIPPED] Missing file: datasets/thyroid_ultrasonic_image/batch1_image/dataset/82_014.Jpg\n",
      "[SKIPPED] Missing file: datasets/thyroid_ultrasonic_image/batch1_image/dataset/82_017.Jpg\n",
      "[SKIPPED] Missing file: datasets/thyroid_ultrasonic_image/batch1_image/dataset/82_018.Jpg\n",
      "[SKIPPED] Missing file: datasets/thyroid_ultrasonic_image/batch1_image/dataset/82_019.Jpg\n"
     ]
    },
    {
     "name": "stderr",
     "output_type": "stream",
     "text": [
      "Extracting patient features:  14%|█▍        | 84/601 [01:36<09:04,  1.05s/it]"
     ]
    },
    {
     "name": "stdout",
     "output_type": "stream",
     "text": [
      "[SKIPPED] Missing file: datasets/thyroid_ultrasonic_image/batch1_image/dataset/83_006.Jpg\n",
      "[SKIPPED] Missing file: datasets/thyroid_ultrasonic_image/batch1_image/dataset/83_008.Jpg\n",
      "[SKIPPED] Missing file: datasets/thyroid_ultrasonic_image/batch1_image/dataset/83_009.Jpg\n"
     ]
    },
    {
     "name": "stderr",
     "output_type": "stream",
     "text": [
      "Extracting patient features:  14%|█▍        | 85/601 [01:38<10:13,  1.19s/it]"
     ]
    },
    {
     "name": "stdout",
     "output_type": "stream",
     "text": [
      "[SKIPPED] Missing file: datasets/thyroid_ultrasonic_image/batch1_image/dataset/84_009.Jpg\n",
      "[SKIPPED] Missing file: datasets/thyroid_ultrasonic_image/batch1_image/dataset/84_010.Jpg\n",
      "[SKIPPED] Missing file: datasets/thyroid_ultrasonic_image/batch1_image/dataset/84_011.Jpg\n"
     ]
    },
    {
     "name": "stderr",
     "output_type": "stream",
     "text": [
      "Extracting patient features:  14%|█▍        | 86/601 [01:40<12:46,  1.49s/it]"
     ]
    },
    {
     "name": "stdout",
     "output_type": "stream",
     "text": [
      "[SKIPPED] Missing file: datasets/thyroid_ultrasonic_image/batch1_image/dataset/86_017.Jpg\n",
      "[SKIPPED] Missing file: datasets/thyroid_ultrasonic_image/batch1_image/dataset/86_018.Jpg\n",
      "[SKIPPED] Missing file: datasets/thyroid_ultrasonic_image/batch1_image/dataset/86_019.Jpg\n",
      "[SKIPPED] Missing file: datasets/thyroid_ultrasonic_image/batch1_image/dataset/86_020.Jpg\n",
      "[SKIPPED] Missing file: datasets/thyroid_ultrasonic_image/batch1_image/dataset/86_021.Jpg\n",
      "[SKIPPED] Missing file: datasets/thyroid_ultrasonic_image/batch1_image/dataset/86_022.Jpg\n",
      "[SKIPPED] Missing file: datasets/thyroid_ultrasonic_image/batch1_image/dataset/86_023.Jpg\n",
      "[SKIPPED] Missing file: datasets/thyroid_ultrasonic_image/batch1_image/dataset/86_024.Jpg\n",
      "[SKIPPED] Missing file: datasets/thyroid_ultrasonic_image/batch1_image/dataset/86_025.Jpg\n",
      "[SKIPPED] Missing file: datasets/thyroid_ultrasonic_image/batch1_image/dataset/86_026.Jpg\n",
      "[SKIPPED] Missing file: datasets/thyroid_ultrasonic_image/batch1_image/dataset/86_027.Jpg\n",
      "[SKIPPED] Missing file: datasets/thyroid_ultrasonic_image/batch1_image/dataset/86_028.Jpg\n",
      "[WARNING] No valid images for patient: 86, skipping\n"
     ]
    },
    {
     "name": "stderr",
     "output_type": "stream",
     "text": [
      "Extracting patient features:  15%|█▍        | 88/601 [01:41<07:52,  1.09it/s]"
     ]
    },
    {
     "name": "stdout",
     "output_type": "stream",
     "text": [
      "[SKIPPED] Missing file: datasets/thyroid_ultrasonic_image/batch1_image/dataset/87_013.Jpg\n",
      "[SKIPPED] Missing file: datasets/thyroid_ultrasonic_image/batch1_image/dataset/87_014.Jpg\n",
      "[SKIPPED] Missing file: datasets/thyroid_ultrasonic_image/batch1_image/dataset/87_015.Jpg\n",
      "[SKIPPED] Missing file: datasets/thyroid_ultrasonic_image/batch1_image/dataset/87_016.Jpg\n",
      "[SKIPPED] Missing file: datasets/thyroid_ultrasonic_image/batch1_image/dataset/87_017.Jpg\n",
      "[SKIPPED] Missing file: datasets/thyroid_ultrasonic_image/batch1_image/dataset/87_018.Jpg\n",
      "[SKIPPED] Missing file: datasets/thyroid_ultrasonic_image/batch1_image/dataset/87_019.Jpg\n",
      "[SKIPPED] Missing file: datasets/thyroid_ultrasonic_image/batch1_image/dataset/87_020.Jpg\n"
     ]
    },
    {
     "name": "stderr",
     "output_type": "stream",
     "text": [
      "Extracting patient features:  15%|█▍        | 89/601 [01:43<10:32,  1.24s/it]"
     ]
    },
    {
     "name": "stdout",
     "output_type": "stream",
     "text": [
      "[SKIPPED] Missing file: datasets/thyroid_ultrasonic_image/batch1_image/dataset/88_011.Jpg\n",
      "[SKIPPED] Missing file: datasets/thyroid_ultrasonic_image/batch1_image/dataset/88_012.Jpg\n",
      "[SKIPPED] Missing file: datasets/thyroid_ultrasonic_image/batch1_image/dataset/88_013.Jpg\n",
      "[SKIPPED] Missing file: datasets/thyroid_ultrasonic_image/batch1_image/dataset/88_014.Jpg\n",
      "[SKIPPED] Missing file: datasets/thyroid_ultrasonic_image/batch1_image/dataset/88_015.Jpg\n",
      "[SKIPPED] Missing file: datasets/thyroid_ultrasonic_image/batch1_image/dataset/88_016.Jpg\n",
      "[SKIPPED] Missing file: datasets/thyroid_ultrasonic_image/batch1_image/dataset/88_017.Jpg\n",
      "[SKIPPED] Missing file: datasets/thyroid_ultrasonic_image/batch1_image/dataset/88_018.Jpg\n",
      "[SKIPPED] Missing file: datasets/thyroid_ultrasonic_image/batch1_image/dataset/88_019.Jpg\n",
      "[SKIPPED] Missing file: datasets/thyroid_ultrasonic_image/batch1_image/dataset/88_020.Jpg\n",
      "[SKIPPED] Missing file: datasets/thyroid_ultrasonic_image/batch1_image/dataset/88_021.Jpg\n",
      "[SKIPPED] Missing file: datasets/thyroid_ultrasonic_image/batch1_image/dataset/88_023.Jpg\n",
      "[SKIPPED] Missing file: datasets/thyroid_ultrasonic_image/batch1_image/dataset/88_024.Jpg\n"
     ]
    },
    {
     "name": "stderr",
     "output_type": "stream",
     "text": [
      "Extracting patient features:  15%|█▍        | 90/601 [01:43<09:16,  1.09s/it]"
     ]
    },
    {
     "name": "stdout",
     "output_type": "stream",
     "text": [
      "[SKIPPED] Missing file: datasets/thyroid_ultrasonic_image/batch1_image/dataset/89_004.Jpg\n",
      "[SKIPPED] Missing file: datasets/thyroid_ultrasonic_image/batch1_image/dataset/89_005.Jpg\n",
      "[SKIPPED] Missing file: datasets/thyroid_ultrasonic_image/batch1_image/dataset/89_006.Jpg\n",
      "[SKIPPED] Missing file: datasets/thyroid_ultrasonic_image/batch1_image/dataset/89_007.Jpg\n",
      "[SKIPPED] Missing file: datasets/thyroid_ultrasonic_image/batch1_image/dataset/89_008.Jpg\n",
      "[SKIPPED] Missing file: datasets/thyroid_ultrasonic_image/batch1_image/dataset/89_010.Jpg\n",
      "[SKIPPED] Missing file: datasets/thyroid_ultrasonic_image/batch1_image/dataset/89_012.Jpg\n",
      "[SKIPPED] Missing file: datasets/thyroid_ultrasonic_image/batch1_image/dataset/90_001.Jpg\n",
      "[SKIPPED] Missing file: datasets/thyroid_ultrasonic_image/batch1_image/dataset/90_002.Jpg\n",
      "[SKIPPED] Missing file: datasets/thyroid_ultrasonic_image/batch1_image/dataset/90_003.Jpg\n",
      "[SKIPPED] Missing file: datasets/thyroid_ultrasonic_image/batch1_image/dataset/90_004.Jpg\n",
      "[SKIPPED] Missing file: datasets/thyroid_ultrasonic_image/batch1_image/dataset/90_006.Jpg\n",
      "[SKIPPED] Missing file: datasets/thyroid_ultrasonic_image/batch1_image/dataset/90_007.Jpg\n",
      "[SKIPPED] Missing file: datasets/thyroid_ultrasonic_image/batch1_image/dataset/90_008.Jpg\n",
      "[SKIPPED] Missing file: datasets/thyroid_ultrasonic_image/batch1_image/dataset/90_009.Jpg\n",
      "[SKIPPED] Missing file: datasets/thyroid_ultrasonic_image/batch1_image/dataset/90_010.Jpg\n",
      "[SKIPPED] Missing file: datasets/thyroid_ultrasonic_image/batch1_image/dataset/90_011.Jpg\n",
      "[SKIPPED] Missing file: datasets/thyroid_ultrasonic_image/batch1_image/dataset/90_012.Jpg\n",
      "[SKIPPED] Missing file: datasets/thyroid_ultrasonic_image/batch1_image/dataset/90_013.Jpg\n",
      "[SKIPPED] Missing file: datasets/thyroid_ultrasonic_image/batch1_image/dataset/90_015.Jpg\n",
      "[WARNING] No valid images for patient: 90, skipping\n"
     ]
    },
    {
     "name": "stderr",
     "output_type": "stream",
     "text": [
      "Extracting patient features:  15%|█▌        | 93/601 [01:48<10:37,  1.25s/it]"
     ]
    },
    {
     "name": "stdout",
     "output_type": "stream",
     "text": [
      "[SKIPPED] Missing file: datasets/thyroid_ultrasonic_image/batch1_image/dataset/92_008.Jpg\n",
      "[SKIPPED] Missing file: datasets/thyroid_ultrasonic_image/batch1_image/dataset/92_009.Jpg\n",
      "[SKIPPED] Missing file: datasets/thyroid_ultrasonic_image/batch1_image/dataset/92_010.Jpg\n",
      "[SKIPPED] Missing file: datasets/thyroid_ultrasonic_image/batch1_image/dataset/92_011.Jpg\n",
      "[SKIPPED] Missing file: datasets/thyroid_ultrasonic_image/batch1_image/dataset/92_012.Jpg\n",
      "[SKIPPED] Missing file: datasets/thyroid_ultrasonic_image/batch1_image/dataset/92_013.Jpg\n",
      "[SKIPPED] Missing file: datasets/thyroid_ultrasonic_image/batch1_image/dataset/92_014.Jpg\n",
      "[SKIPPED] Missing file: datasets/thyroid_ultrasonic_image/batch1_image/dataset/92_015.Jpg\n",
      "[SKIPPED] Missing file: datasets/thyroid_ultrasonic_image/batch1_image/dataset/92_016.Jpg\n"
     ]
    },
    {
     "name": "stderr",
     "output_type": "stream",
     "text": [
      "Extracting patient features:  16%|█▌        | 94/601 [01:49<11:31,  1.36s/it]"
     ]
    },
    {
     "name": "stdout",
     "output_type": "stream",
     "text": [
      "[SKIPPED] Missing file: datasets/thyroid_ultrasonic_image/batch1_image/dataset/93_012.Jpg\n",
      "[SKIPPED] Missing file: datasets/thyroid_ultrasonic_image/batch1_image/dataset/93_013.Jpg\n"
     ]
    },
    {
     "name": "stderr",
     "output_type": "stream",
     "text": [
      "Extracting patient features:  16%|█▌        | 95/601 [01:50<09:37,  1.14s/it]"
     ]
    },
    {
     "name": "stdout",
     "output_type": "stream",
     "text": [
      "[SKIPPED] Missing file: datasets/thyroid_ultrasonic_image/batch1_image/dataset/94_008.Jpg\n",
      "[SKIPPED] Missing file: datasets/thyroid_ultrasonic_image/batch1_image/dataset/94_009.Jpg\n",
      "[SKIPPED] Missing file: datasets/thyroid_ultrasonic_image/batch1_image/dataset/94_010.Jpg\n",
      "[SKIPPED] Missing file: datasets/thyroid_ultrasonic_image/batch1_image/dataset/94_011.Jpg\n",
      "[SKIPPED] Missing file: datasets/thyroid_ultrasonic_image/batch1_image/dataset/94_012.Jpg\n",
      "[SKIPPED] Missing file: datasets/thyroid_ultrasonic_image/batch1_image/dataset/94_013.Jpg\n",
      "[SKIPPED] Missing file: datasets/thyroid_ultrasonic_image/batch1_image/dataset/94_014.Jpg\n",
      "[SKIPPED] Missing file: datasets/thyroid_ultrasonic_image/batch1_image/dataset/94_015.Jpg\n",
      "[SKIPPED] Missing file: datasets/thyroid_ultrasonic_image/batch1_image/dataset/94_016.Jpg\n",
      "[SKIPPED] Missing file: datasets/thyroid_ultrasonic_image/batch1_image/dataset/94_017.Jpg\n",
      "[SKIPPED] Missing file: datasets/thyroid_ultrasonic_image/batch1_image/dataset/94_019.Jpg\n"
     ]
    },
    {
     "name": "stderr",
     "output_type": "stream",
     "text": [
      "Extracting patient features:  16%|█▌        | 96/601 [01:51<10:52,  1.29s/it]"
     ]
    },
    {
     "name": "stdout",
     "output_type": "stream",
     "text": [
      "[SKIPPED] Missing file: datasets/thyroid_ultrasonic_image/batch1_image/dataset/95_008.Jpg\n",
      "[SKIPPED] Missing file: datasets/thyroid_ultrasonic_image/batch1_image/dataset/95_009.Jpg\n",
      "[SKIPPED] Missing file: datasets/thyroid_ultrasonic_image/batch1_image/dataset/95_010.Jpg\n",
      "[SKIPPED] Missing file: datasets/thyroid_ultrasonic_image/batch1_image/dataset/95_012.Jpg\n",
      "[SKIPPED] Missing file: datasets/thyroid_ultrasonic_image/batch1_image/dataset/95_013.Jpg\n",
      "[SKIPPED] Missing file: datasets/thyroid_ultrasonic_image/batch1_image/dataset/95_014.Jpg\n"
     ]
    },
    {
     "name": "stderr",
     "output_type": "stream",
     "text": [
      "Extracting patient features:  16%|█▌        | 97/601 [01:53<11:55,  1.42s/it]"
     ]
    },
    {
     "name": "stdout",
     "output_type": "stream",
     "text": [
      "[SKIPPED] Missing file: datasets/thyroid_ultrasonic_image/batch1_image/dataset/96_010.Jpg\n",
      "[SKIPPED] Missing file: datasets/thyroid_ultrasonic_image/batch1_image/dataset/96_011.Jpg\n",
      "[SKIPPED] Missing file: datasets/thyroid_ultrasonic_image/batch1_image/dataset/96_012.Jpg\n",
      "[SKIPPED] Missing file: datasets/thyroid_ultrasonic_image/batch1_image/dataset/96_013.Jpg\n"
     ]
    },
    {
     "name": "stderr",
     "output_type": "stream",
     "text": [
      "Extracting patient features:  17%|█▋        | 100/601 [01:59<15:34,  1.87s/it]"
     ]
    },
    {
     "name": "stdout",
     "output_type": "stream",
     "text": [
      "[SKIPPED] Missing file: datasets/thyroid_ultrasonic_image/batch1_image/dataset/99_021.Jpg\n",
      "[SKIPPED] Missing file: datasets/thyroid_ultrasonic_image/batch1_image/dataset/99_022.Jpg\n",
      "[SKIPPED] Missing file: datasets/thyroid_ultrasonic_image/batch1_image/dataset/99_023.Jpg\n"
     ]
    },
    {
     "name": "stderr",
     "output_type": "stream",
     "text": [
      "Extracting patient features:  17%|█▋        | 101/601 [02:02<16:12,  1.95s/it]"
     ]
    },
    {
     "name": "stdout",
     "output_type": "stream",
     "text": [
      "[SKIPPED] Missing file: datasets/thyroid_ultrasonic_image/batch1_image/dataset/100_012.Jpg\n"
     ]
    },
    {
     "name": "stderr",
     "output_type": "stream",
     "text": [
      "Extracting patient features:  17%|█▋        | 102/601 [02:03<15:22,  1.85s/it]"
     ]
    },
    {
     "name": "stdout",
     "output_type": "stream",
     "text": [
      "[SKIPPED] Missing file: datasets/thyroid_ultrasonic_image/batch1_image/dataset/101_010.Jpg\n",
      "[SKIPPED] Missing file: datasets/thyroid_ultrasonic_image/batch1_image/dataset/101_011.Jpg\n",
      "[SKIPPED] Missing file: datasets/thyroid_ultrasonic_image/batch1_image/dataset/101_012.Jpg\n",
      "[SKIPPED] Missing file: datasets/thyroid_ultrasonic_image/batch1_image/dataset/101_013.Jpg\n"
     ]
    },
    {
     "name": "stderr",
     "output_type": "stream",
     "text": [
      "Extracting patient features:  17%|█▋        | 103/601 [02:04<13:36,  1.64s/it]"
     ]
    },
    {
     "name": "stdout",
     "output_type": "stream",
     "text": [
      "[SKIPPED] Missing file: datasets/thyroid_ultrasonic_image/batch1_image/dataset/103_001.Jpg\n",
      "[SKIPPED] Missing file: datasets/thyroid_ultrasonic_image/batch1_image/dataset/103_002.Jpg\n",
      "[SKIPPED] Missing file: datasets/thyroid_ultrasonic_image/batch1_image/dataset/103_003.Jpg\n",
      "[SKIPPED] Missing file: datasets/thyroid_ultrasonic_image/batch1_image/dataset/103_004.Jpg\n",
      "[SKIPPED] Missing file: datasets/thyroid_ultrasonic_image/batch1_image/dataset/103_005.Jpg\n",
      "[SKIPPED] Missing file: datasets/thyroid_ultrasonic_image/batch1_image/dataset/103_006.Jpg\n",
      "[SKIPPED] Missing file: datasets/thyroid_ultrasonic_image/batch1_image/dataset/103_007.Jpg\n",
      "[SKIPPED] Missing file: datasets/thyroid_ultrasonic_image/batch1_image/dataset/103_008.Jpg\n",
      "[SKIPPED] Missing file: datasets/thyroid_ultrasonic_image/batch1_image/dataset/103_009.Jpg\n",
      "[SKIPPED] Missing file: datasets/thyroid_ultrasonic_image/batch1_image/dataset/103_010.Jpg\n",
      "[SKIPPED] Missing file: datasets/thyroid_ultrasonic_image/batch1_image/dataset/103_011.Jpg\n",
      "[SKIPPED] Missing file: datasets/thyroid_ultrasonic_image/batch1_image/dataset/103_012.Jpg\n"
     ]
    },
    {
     "name": "stderr",
     "output_type": "stream",
     "text": [
      "Extracting patient features:  17%|█▋        | 104/601 [02:05<10:21,  1.25s/it]"
     ]
    },
    {
     "name": "stdout",
     "output_type": "stream",
     "text": [
      "[SKIPPED] Missing file: datasets/thyroid_ultrasonic_image/batch1_image/dataset/104_002.Jpg\n",
      "[SKIPPED] Missing file: datasets/thyroid_ultrasonic_image/batch1_image/dataset/104_003.Jpg\n",
      "[SKIPPED] Missing file: datasets/thyroid_ultrasonic_image/batch1_image/dataset/104_004.Jpg\n",
      "[SKIPPED] Missing file: datasets/thyroid_ultrasonic_image/batch1_image/dataset/104_005.Jpg\n",
      "[SKIPPED] Missing file: datasets/thyroid_ultrasonic_image/batch1_image/dataset/104_006.Jpg\n",
      "[SKIPPED] Missing file: datasets/thyroid_ultrasonic_image/batch1_image/dataset/104_007.Jpg\n",
      "[SKIPPED] Missing file: datasets/thyroid_ultrasonic_image/batch1_image/dataset/104_008.Jpg\n",
      "[SKIPPED] Missing file: datasets/thyroid_ultrasonic_image/batch1_image/dataset/104_009.Jpg\n"
     ]
    },
    {
     "name": "stderr",
     "output_type": "stream",
     "text": [
      "Extracting patient features:  18%|█▊        | 106/601 [02:06<07:49,  1.05it/s]"
     ]
    },
    {
     "name": "stdout",
     "output_type": "stream",
     "text": [
      "[SKIPPED] Missing file: datasets/thyroid_ultrasonic_image/batch1_image/dataset/105_005.Jpg\n",
      "[SKIPPED] Missing file: datasets/thyroid_ultrasonic_image/batch1_image/dataset/105_006.Jpg\n",
      "[SKIPPED] Missing file: datasets/thyroid_ultrasonic_image/batch1_image/dataset/105_007.Jpg\n"
     ]
    },
    {
     "name": "stderr",
     "output_type": "stream",
     "text": [
      "Extracting patient features:  18%|█▊        | 107/601 [02:07<08:00,  1.03it/s]"
     ]
    },
    {
     "name": "stdout",
     "output_type": "stream",
     "text": [
      "[SKIPPED] Missing file: datasets/thyroid_ultrasonic_image/batch1_image/dataset/106_007.Jpg\n",
      "[SKIPPED] Missing file: datasets/thyroid_ultrasonic_image/batch1_image/dataset/106_008.Jpg\n",
      "[SKIPPED] Missing file: datasets/thyroid_ultrasonic_image/batch1_image/dataset/106_009.Jpg\n",
      "[SKIPPED] Missing file: datasets/thyroid_ultrasonic_image/batch1_image/dataset/106_011.Jpg\n",
      "[SKIPPED] Missing file: datasets/thyroid_ultrasonic_image/batch1_image/dataset/106_013.Jpg\n",
      "[SKIPPED] Missing file: datasets/thyroid_ultrasonic_image/batch1_image/dataset/106_014.Jpg\n"
     ]
    },
    {
     "name": "stderr",
     "output_type": "stream",
     "text": [
      "Extracting patient features:  18%|█▊        | 110/601 [02:09<06:07,  1.34it/s]"
     ]
    },
    {
     "name": "stdout",
     "output_type": "stream",
     "text": [
      "[SKIPPED] Missing file: datasets/thyroid_ultrasonic_image/batch1_image/dataset/109_003.Jpg\n",
      "[SKIPPED] Missing file: datasets/thyroid_ultrasonic_image/batch1_image/dataset/109_005.Jpg\n",
      "[SKIPPED] Missing file: datasets/thyroid_ultrasonic_image/batch1_image/dataset/109_006.Jpg\n",
      "[SKIPPED] Missing file: datasets/thyroid_ultrasonic_image/batch1_image/dataset/109_007.Jpg\n"
     ]
    },
    {
     "name": "stderr",
     "output_type": "stream",
     "text": [
      "Extracting patient features:  18%|█▊        | 111/601 [02:10<07:40,  1.06it/s]"
     ]
    },
    {
     "name": "stdout",
     "output_type": "stream",
     "text": [
      "[SKIPPED] Missing file: datasets/thyroid_ultrasonic_image/batch1_image/dataset/110_009.Jpg\n",
      "[SKIPPED] Missing file: datasets/thyroid_ultrasonic_image/batch1_image/dataset/110_010.Jpg\n",
      "[SKIPPED] Missing file: datasets/thyroid_ultrasonic_image/batch1_image/dataset/110_011.Jpg\n",
      "[SKIPPED] Missing file: datasets/thyroid_ultrasonic_image/batch1_image/dataset/110_012.Jpg\n"
     ]
    },
    {
     "name": "stderr",
     "output_type": "stream",
     "text": [
      "Extracting patient features:  19%|█▊        | 112/601 [02:12<10:16,  1.26s/it]"
     ]
    },
    {
     "name": "stdout",
     "output_type": "stream",
     "text": [
      "[SKIPPED] Missing file: datasets/thyroid_ultrasonic_image/batch1_image/dataset/111_016.Jpg\n"
     ]
    },
    {
     "name": "stderr",
     "output_type": "stream",
     "text": [
      "Extracting patient features:  19%|█▉        | 115/601 [02:16<09:10,  1.13s/it]"
     ]
    },
    {
     "name": "stdout",
     "output_type": "stream",
     "text": [
      "[SKIPPED] Missing file: datasets/thyroid_ultrasonic_image/batch1_image/dataset/114_013.Jpg\n",
      "[SKIPPED] Missing file: datasets/thyroid_ultrasonic_image/batch1_image/dataset/114_015.Jpg\n"
     ]
    },
    {
     "name": "stderr",
     "output_type": "stream",
     "text": [
      "Extracting patient features:  19%|█▉        | 116/601 [02:17<09:03,  1.12s/it]"
     ]
    },
    {
     "name": "stdout",
     "output_type": "stream",
     "text": [
      "[SKIPPED] Missing file: datasets/thyroid_ultrasonic_image/batch1_image/dataset/116_007.Jpg\n"
     ]
    },
    {
     "name": "stderr",
     "output_type": "stream",
     "text": [
      "Extracting patient features:  19%|█▉        | 117/601 [02:18<09:29,  1.18s/it]"
     ]
    },
    {
     "name": "stdout",
     "output_type": "stream",
     "text": [
      "[SKIPPED] Missing file: datasets/thyroid_ultrasonic_image/batch1_image/dataset/116_010.Jpg\n",
      "[SKIPPED] Missing file: datasets/thyroid_ultrasonic_image/batch1_image/dataset/116_011.Jpg\n",
      "[SKIPPED] Missing file: datasets/thyroid_ultrasonic_image/batch1_image/dataset/116_012.Jpg\n",
      "[SKIPPED] Missing file: datasets/thyroid_ultrasonic_image/batch1_image/dataset/117_002.Jpg\n",
      "[SKIPPED] Missing file: datasets/thyroid_ultrasonic_image/batch1_image/dataset/117_006.Jpg\n"
     ]
    },
    {
     "name": "stderr",
     "output_type": "stream",
     "text": [
      "Extracting patient features:  20%|█▉        | 118/601 [02:19<09:49,  1.22s/it]"
     ]
    },
    {
     "name": "stdout",
     "output_type": "stream",
     "text": [
      "[SKIPPED] Missing file: datasets/thyroid_ultrasonic_image/batch1_image/dataset/117_011.Jpg\n",
      "[SKIPPED] Missing file: datasets/thyroid_ultrasonic_image/batch1_image/dataset/117_012.Jpg\n",
      "[SKIPPED] Missing file: datasets/thyroid_ultrasonic_image/batch1_image/dataset/117_013.Jpg\n",
      "[SKIPPED] Missing file: datasets/thyroid_ultrasonic_image/batch1_image/dataset/117_014.Jpg\n"
     ]
    },
    {
     "name": "stderr",
     "output_type": "stream",
     "text": [
      "Extracting patient features:  20%|██        | 121/601 [02:23<10:10,  1.27s/it]"
     ]
    },
    {
     "name": "stdout",
     "output_type": "stream",
     "text": [
      "[SKIPPED] Missing file: datasets/thyroid_ultrasonic_image/batch1_image/dataset/120_007.Jpg\n",
      "[SKIPPED] Missing file: datasets/thyroid_ultrasonic_image/batch1_image/dataset/121_017.Jpg\n",
      "[SKIPPED] Missing file: datasets/thyroid_ultrasonic_image/batch1_image/dataset/121_018.Jpg\n",
      "[SKIPPED] Missing file: datasets/thyroid_ultrasonic_image/batch1_image/dataset/121_019.Jpg\n",
      "[WARNING] No valid images for patient: 121, skipping\n"
     ]
    },
    {
     "name": "stderr",
     "output_type": "stream",
     "text": [
      "Extracting patient features:  21%|██        | 124/601 [02:25<07:21,  1.08it/s]"
     ]
    },
    {
     "name": "stdout",
     "output_type": "stream",
     "text": [
      "[SKIPPED] Missing file: datasets/thyroid_ultrasonic_image/batch1_image/dataset/123_005.Jpg\n",
      "[SKIPPED] Missing file: datasets/thyroid_ultrasonic_image/batch1_image/dataset/123_006.Jpg\n",
      "[SKIPPED] Missing file: datasets/thyroid_ultrasonic_image/batch1_image/dataset/123_007.Jpg\n",
      "[SKIPPED] Missing file: datasets/thyroid_ultrasonic_image/batch1_image/dataset/123_008.Jpg\n",
      "[SKIPPED] Missing file: datasets/thyroid_ultrasonic_image/batch1_image/dataset/124_003.Jpg\n"
     ]
    },
    {
     "name": "stderr",
     "output_type": "stream",
     "text": [
      "Extracting patient features:  21%|██        | 125/601 [02:27<08:24,  1.06s/it]"
     ]
    },
    {
     "name": "stdout",
     "output_type": "stream",
     "text": [
      "[SKIPPED] Missing file: datasets/thyroid_ultrasonic_image/batch1_image/dataset/124_010.Jpg\n",
      "[SKIPPED] Missing file: datasets/thyroid_ultrasonic_image/batch1_image/dataset/124_011.Jpg\n",
      "[SKIPPED] Missing file: datasets/thyroid_ultrasonic_image/batch1_image/dataset/124_012.Jpg\n",
      "[SKIPPED] Missing file: datasets/thyroid_ultrasonic_image/batch1_image/dataset/124_013.Jpg\n",
      "[SKIPPED] Missing file: datasets/thyroid_ultrasonic_image/batch1_image/dataset/124_014.Jpg\n",
      "[SKIPPED] Missing file: datasets/thyroid_ultrasonic_image/batch1_image/dataset/124_015.Jpg\n",
      "[SKIPPED] Missing file: datasets/thyroid_ultrasonic_image/batch1_image/dataset/124_017.Jpg\n",
      "[SKIPPED] Missing file: datasets/thyroid_ultrasonic_image/batch1_image/dataset/124_018.Jpg\n"
     ]
    },
    {
     "name": "stderr",
     "output_type": "stream",
     "text": [
      "Extracting patient features:  21%|██▏       | 128/601 [02:30<07:55,  1.01s/it]"
     ]
    },
    {
     "name": "stdout",
     "output_type": "stream",
     "text": [
      "[SKIPPED] Missing file: datasets/thyroid_ultrasonic_image/batch1_image/dataset/127_016.Jpg\n",
      "[SKIPPED] Missing file: datasets/thyroid_ultrasonic_image/batch1_image/dataset/127_017.Jpg\n"
     ]
    },
    {
     "name": "stderr",
     "output_type": "stream",
     "text": [
      "Extracting patient features:  21%|██▏       | 129/601 [02:31<08:54,  1.13s/it]"
     ]
    },
    {
     "name": "stdout",
     "output_type": "stream",
     "text": [
      "[SKIPPED] Missing file: datasets/thyroid_ultrasonic_image/batch1_image/dataset/128_009.Jpg\n",
      "[SKIPPED] Missing file: datasets/thyroid_ultrasonic_image/batch1_image/dataset/128_010.Jpg\n",
      "[SKIPPED] Missing file: datasets/thyroid_ultrasonic_image/batch1_image/dataset/128_011.Jpg\n",
      "[SKIPPED] Missing file: datasets/thyroid_ultrasonic_image/batch1_image/dataset/128_012.Jpg\n"
     ]
    },
    {
     "name": "stderr",
     "output_type": "stream",
     "text": [
      "Extracting patient features:  22%|██▏       | 130/601 [02:32<08:44,  1.11s/it]"
     ]
    },
    {
     "name": "stdout",
     "output_type": "stream",
     "text": [
      "[SKIPPED] Missing file: datasets/thyroid_ultrasonic_image/batch1_image/dataset/129_007.Jpg\n",
      "[SKIPPED] Missing file: datasets/thyroid_ultrasonic_image/batch1_image/dataset/129_008.Jpg\n",
      "[SKIPPED] Missing file: datasets/thyroid_ultrasonic_image/batch1_image/dataset/129_009.Jpg\n",
      "[SKIPPED] Missing file: datasets/thyroid_ultrasonic_image/batch1_image/dataset/129_010.Jpg\n",
      "[SKIPPED] Missing file: datasets/thyroid_ultrasonic_image/batch1_image/dataset/129_013.Jpg\n",
      "[SKIPPED] Missing file: datasets/thyroid_ultrasonic_image/batch1_image/dataset/129_014.Jpg\n",
      "[SKIPPED] Missing file: datasets/thyroid_ultrasonic_image/batch1_image/dataset/130_013.Jpg\n"
     ]
    },
    {
     "name": "stderr",
     "output_type": "stream",
     "text": [
      "Extracting patient features:  22%|██▏       | 131/601 [02:35<11:49,  1.51s/it]"
     ]
    },
    {
     "name": "stdout",
     "output_type": "stream",
     "text": [
      "[SKIPPED] Missing file: datasets/thyroid_ultrasonic_image/batch1_image/dataset/130_020.Jpg\n",
      "[SKIPPED] Missing file: datasets/thyroid_ultrasonic_image/batch1_image/dataset/130_021.Jpg\n",
      "[SKIPPED] Missing file: datasets/thyroid_ultrasonic_image/batch1_image/dataset/130_022.Jpg\n",
      "[SKIPPED] Missing file: datasets/thyroid_ultrasonic_image/batch1_image/dataset/130_023.Jpg\n"
     ]
    },
    {
     "name": "stderr",
     "output_type": "stream",
     "text": [
      "Extracting patient features:  22%|██▏       | 133/601 [02:37<11:22,  1.46s/it]"
     ]
    },
    {
     "name": "stdout",
     "output_type": "stream",
     "text": [
      "[SKIPPED] Missing file: datasets/thyroid_ultrasonic_image/batch1_image/dataset/132_011.Jpg\n",
      "[SKIPPED] Missing file: datasets/thyroid_ultrasonic_image/batch1_image/dataset/132_012.Jpg\n",
      "[SKIPPED] Missing file: datasets/thyroid_ultrasonic_image/batch1_image/dataset/132_015.Jpg\n",
      "[SKIPPED] Missing file: datasets/thyroid_ultrasonic_image/batch1_image/dataset/132_016.Jpg\n"
     ]
    },
    {
     "name": "stderr",
     "output_type": "stream",
     "text": [
      "Extracting patient features:  22%|██▏       | 134/601 [02:39<10:43,  1.38s/it]"
     ]
    },
    {
     "name": "stdout",
     "output_type": "stream",
     "text": [
      "[SKIPPED] Missing file: datasets/thyroid_ultrasonic_image/batch1_image/dataset/133_008.Jpg\n",
      "[SKIPPED] Missing file: datasets/thyroid_ultrasonic_image/batch1_image/dataset/133_009.Jpg\n"
     ]
    },
    {
     "name": "stderr",
     "output_type": "stream",
     "text": [
      "Extracting patient features:  23%|██▎       | 136/601 [02:41<08:52,  1.15s/it]"
     ]
    },
    {
     "name": "stdout",
     "output_type": "stream",
     "text": [
      "[SKIPPED] Missing file: datasets/thyroid_ultrasonic_image/batch1_image/dataset/135_007.Jpg\n",
      "[SKIPPED] Missing file: datasets/thyroid_ultrasonic_image/batch1_image/dataset/135_008.Jpg\n",
      "[SKIPPED] Missing file: datasets/thyroid_ultrasonic_image/batch1_image/dataset/135_009.Jpg\n",
      "[SKIPPED] Missing file: datasets/thyroid_ultrasonic_image/batch1_image/dataset/135_011.Jpg\n"
     ]
    },
    {
     "name": "stderr",
     "output_type": "stream",
     "text": [
      "Extracting patient features:  23%|██▎       | 137/601 [02:41<08:20,  1.08s/it]"
     ]
    },
    {
     "name": "stdout",
     "output_type": "stream",
     "text": [
      "[SKIPPED] Missing file: datasets/thyroid_ultrasonic_image/batch1_image/dataset/136_008.Jpg\n",
      "[SKIPPED] Missing file: datasets/thyroid_ultrasonic_image/batch1_image/dataset/136_010.Jpg\n",
      "[SKIPPED] Missing file: datasets/thyroid_ultrasonic_image/batch1_image/dataset/136_011.Jpg\n",
      "[SKIPPED] Missing file: datasets/thyroid_ultrasonic_image/batch1_image/dataset/136_012.Jpg\n",
      "[SKIPPED] Missing file: datasets/thyroid_ultrasonic_image/batch1_image/dataset/136_013.Jpg\n",
      "[SKIPPED] Missing file: datasets/thyroid_ultrasonic_image/batch1_image/dataset/136_014.Jpg\n",
      "[SKIPPED] Missing file: datasets/thyroid_ultrasonic_image/batch1_image/dataset/136_015.Jpg\n",
      "[SKIPPED] Missing file: datasets/thyroid_ultrasonic_image/batch1_image/dataset/136_016.Jpg\n",
      "[SKIPPED] Missing file: datasets/thyroid_ultrasonic_image/batch1_image/dataset/136_017.Jpg\n",
      "[SKIPPED] Missing file: datasets/thyroid_ultrasonic_image/batch1_image/dataset/136_018.Jpg\n",
      "[SKIPPED] Missing file: datasets/thyroid_ultrasonic_image/batch1_image/dataset/136_019.Jpg\n",
      "[SKIPPED] Missing file: datasets/thyroid_ultrasonic_image/batch1_image/dataset/136_020.Jpg\n"
     ]
    },
    {
     "name": "stderr",
     "output_type": "stream",
     "text": [
      "Extracting patient features:  23%|██▎       | 138/601 [02:42<08:13,  1.07s/it]"
     ]
    },
    {
     "name": "stdout",
     "output_type": "stream",
     "text": [
      "[SKIPPED] Missing file: datasets/thyroid_ultrasonic_image/batch1_image/dataset/137_007.Jpg\n",
      "[SKIPPED] Missing file: datasets/thyroid_ultrasonic_image/batch1_image/dataset/137_009.Jpg\n"
     ]
    },
    {
     "name": "stderr",
     "output_type": "stream",
     "text": [
      "Extracting patient features:  23%|██▎       | 140/601 [02:45<09:16,  1.21s/it]"
     ]
    },
    {
     "name": "stdout",
     "output_type": "stream",
     "text": [
      "[SKIPPED] Missing file: datasets/thyroid_ultrasonic_image/batch1_image/dataset/139_009.Jpg\n",
      "[SKIPPED] Missing file: datasets/thyroid_ultrasonic_image/batch1_image/dataset/139_010.Jpg\n",
      "[SKIPPED] Missing file: datasets/thyroid_ultrasonic_image/batch1_image/dataset/139_011.Jpg\n"
     ]
    },
    {
     "name": "stderr",
     "output_type": "stream",
     "text": [
      "Extracting patient features:  24%|██▎       | 142/601 [02:46<06:26,  1.19it/s]"
     ]
    },
    {
     "name": "stdout",
     "output_type": "stream",
     "text": [
      "[SKIPPED] Missing file: datasets/thyroid_ultrasonic_image/batch1_image/dataset/141_011.Jpg\n",
      "[SKIPPED] Missing file: datasets/thyroid_ultrasonic_image/batch1_image/dataset/141_012.Jpg\n",
      "[SKIPPED] Missing file: datasets/thyroid_ultrasonic_image/batch1_image/dataset/141_013.Jpg\n",
      "[SKIPPED] Missing file: datasets/thyroid_ultrasonic_image/batch1_image/dataset/141_014.Jpg\n",
      "[SKIPPED] Missing file: datasets/thyroid_ultrasonic_image/batch1_image/dataset/141_015.Jpg\n",
      "[SKIPPED] Missing file: datasets/thyroid_ultrasonic_image/batch1_image/dataset/141_016.Jpg\n",
      "[SKIPPED] Missing file: datasets/thyroid_ultrasonic_image/batch1_image/dataset/141_017.Jpg\n",
      "[SKIPPED] Missing file: datasets/thyroid_ultrasonic_image/batch1_image/dataset/141_018.Jpg\n",
      "[SKIPPED] Missing file: datasets/thyroid_ultrasonic_image/batch1_image/dataset/141_019.Jpg\n",
      "[SKIPPED] Missing file: datasets/thyroid_ultrasonic_image/batch1_image/dataset/141_020.Jpg\n",
      "[SKIPPED] Missing file: datasets/thyroid_ultrasonic_image/batch1_image/dataset/142_001.Jpg\n",
      "[SKIPPED] Missing file: datasets/thyroid_ultrasonic_image/batch1_image/dataset/142_002.Jpg\n",
      "[SKIPPED] Missing file: datasets/thyroid_ultrasonic_image/batch1_image/dataset/142_003.Jpg\n",
      "[SKIPPED] Missing file: datasets/thyroid_ultrasonic_image/batch1_image/dataset/142_004.Jpg\n",
      "[SKIPPED] Missing file: datasets/thyroid_ultrasonic_image/batch1_image/dataset/142_005.Jpg\n",
      "[SKIPPED] Missing file: datasets/thyroid_ultrasonic_image/batch1_image/dataset/142_006.Jpg\n",
      "[SKIPPED] Missing file: datasets/thyroid_ultrasonic_image/batch1_image/dataset/142_007.Jpg\n",
      "[SKIPPED] Missing file: datasets/thyroid_ultrasonic_image/batch1_image/dataset/142_008.Jpg\n",
      "[SKIPPED] Missing file: datasets/thyroid_ultrasonic_image/batch1_image/dataset/142_009.Jpg\n",
      "[SKIPPED] Missing file: datasets/thyroid_ultrasonic_image/batch1_image/dataset/142_010.Jpg\n",
      "[WARNING] No valid images for patient: 142, skipping\n",
      "[SKIPPED] Missing file: datasets/thyroid_ultrasonic_image/batch1_image/dataset/143_001.Jpg\n",
      "[SKIPPED] Missing file: datasets/thyroid_ultrasonic_image/batch1_image/dataset/143_002.Jpg\n",
      "[SKIPPED] Missing file: datasets/thyroid_ultrasonic_image/batch1_image/dataset/143_004.Jpg\n",
      "[SKIPPED] Missing file: datasets/thyroid_ultrasonic_image/batch1_image/dataset/143_005.Jpg\n",
      "[SKIPPED] Missing file: datasets/thyroid_ultrasonic_image/batch1_image/dataset/143_006.Jpg\n",
      "[SKIPPED] Missing file: datasets/thyroid_ultrasonic_image/batch1_image/dataset/143_007.Jpg\n",
      "[SKIPPED] Missing file: datasets/thyroid_ultrasonic_image/batch1_image/dataset/143_008.Jpg\n",
      "[SKIPPED] Missing file: datasets/thyroid_ultrasonic_image/batch1_image/dataset/143_009.Jpg\n",
      "[WARNING] No valid images for patient: 143, skipping\n"
     ]
    },
    {
     "name": "stderr",
     "output_type": "stream",
     "text": [
      "Extracting patient features:  24%|██▍       | 145/601 [02:48<05:58,  1.27it/s]"
     ]
    },
    {
     "name": "stdout",
     "output_type": "stream",
     "text": [
      "[SKIPPED] Missing file: datasets/thyroid_ultrasonic_image/batch1_image/dataset/144_014.Jpg\n",
      "[SKIPPED] Missing file: datasets/thyroid_ultrasonic_image/batch1_image/dataset/144_015.Jpg\n",
      "[SKIPPED] Missing file: datasets/thyroid_ultrasonic_image/batch1_image/dataset/144_016.Jpg\n",
      "[SKIPPED] Missing file: datasets/thyroid_ultrasonic_image/batch1_image/dataset/144_017.Jpg\n",
      "[SKIPPED] Missing file: datasets/thyroid_ultrasonic_image/batch1_image/dataset/144_018.Jpg\n",
      "[SKIPPED] Missing file: datasets/thyroid_ultrasonic_image/batch1_image/dataset/144_019.Jpg\n",
      "[SKIPPED] Missing file: datasets/thyroid_ultrasonic_image/batch1_image/dataset/144_020.Jpg\n",
      "[SKIPPED] Missing file: datasets/thyroid_ultrasonic_image/batch1_image/dataset/144_021.Jpg\n",
      "[SKIPPED] Missing file: datasets/thyroid_ultrasonic_image/batch1_image/dataset/144_022.Jpg\n"
     ]
    },
    {
     "name": "stderr",
     "output_type": "stream",
     "text": [
      "Extracting patient features:  24%|██▍       | 146/601 [02:49<06:17,  1.21it/s]"
     ]
    },
    {
     "name": "stdout",
     "output_type": "stream",
     "text": [
      "[SKIPPED] Missing file: datasets/thyroid_ultrasonic_image/batch1_image/dataset/145_006.Jpg\n",
      "[SKIPPED] Missing file: datasets/thyroid_ultrasonic_image/batch1_image/dataset/145_007.Jpg\n",
      "[SKIPPED] Missing file: datasets/thyroid_ultrasonic_image/batch1_image/dataset/145_008.Jpg\n"
     ]
    },
    {
     "name": "stderr",
     "output_type": "stream",
     "text": [
      "Extracting patient features:  25%|██▍       | 148/601 [02:51<05:42,  1.32it/s]"
     ]
    },
    {
     "name": "stdout",
     "output_type": "stream",
     "text": [
      "[SKIPPED] Missing file: datasets/thyroid_ultrasonic_image/batch1_image/dataset/147_014.Jpg\n",
      "[SKIPPED] Missing file: datasets/thyroid_ultrasonic_image/batch1_image/dataset/147_015.Jpg\n",
      "[SKIPPED] Missing file: datasets/thyroid_ultrasonic_image/batch1_image/dataset/147_016.Jpg\n",
      "[SKIPPED] Missing file: datasets/thyroid_ultrasonic_image/batch1_image/dataset/147_017.Jpg\n",
      "[SKIPPED] Missing file: datasets/thyroid_ultrasonic_image/batch1_image/dataset/147_018.Jpg\n",
      "[SKIPPED] Missing file: datasets/thyroid_ultrasonic_image/batch1_image/dataset/147_019.Jpg\n",
      "[SKIPPED] Missing file: datasets/thyroid_ultrasonic_image/batch1_image/dataset/147_020.Jpg\n",
      "[SKIPPED] Missing file: datasets/thyroid_ultrasonic_image/batch1_image/dataset/147_021.Jpg\n"
     ]
    },
    {
     "name": "stderr",
     "output_type": "stream",
     "text": [
      "Extracting patient features:  25%|██▍       | 149/601 [02:51<05:05,  1.48it/s]"
     ]
    },
    {
     "name": "stdout",
     "output_type": "stream",
     "text": [
      "[SKIPPED] Missing file: datasets/thyroid_ultrasonic_image/batch1_image/dataset/148_004.Jpg\n",
      "[SKIPPED] Missing file: datasets/thyroid_ultrasonic_image/batch1_image/dataset/148_005.Jpg\n",
      "[SKIPPED] Missing file: datasets/thyroid_ultrasonic_image/batch1_image/dataset/148_006.Jpg\n",
      "[SKIPPED] Missing file: datasets/thyroid_ultrasonic_image/batch1_image/dataset/148_007.Jpg\n",
      "[SKIPPED] Missing file: datasets/thyroid_ultrasonic_image/batch1_image/dataset/148_008.Jpg\n",
      "[SKIPPED] Missing file: datasets/thyroid_ultrasonic_image/batch1_image/dataset/148_009.Jpg\n",
      "[SKIPPED] Missing file: datasets/thyroid_ultrasonic_image/batch1_image/dataset/148_010.Jpg\n",
      "[SKIPPED] Missing file: datasets/thyroid_ultrasonic_image/batch1_image/dataset/148_012.Jpg\n",
      "[SKIPPED] Missing file: datasets/thyroid_ultrasonic_image/batch1_image/dataset/148_013.Jpg\n",
      "[SKIPPED] Missing file: datasets/thyroid_ultrasonic_image/batch1_image/dataset/148_014.Jpg\n",
      "[SKIPPED] Missing file: datasets/thyroid_ultrasonic_image/batch1_image/dataset/148_015.Jpg\n",
      "[SKIPPED] Missing file: datasets/thyroid_ultrasonic_image/batch1_image/dataset/148_016.Jpg\n",
      "[SKIPPED] Missing file: datasets/thyroid_ultrasonic_image/batch1_image/dataset/148_017.Jpg\n",
      "[SKIPPED] Missing file: datasets/thyroid_ultrasonic_image/batch1_image/dataset/148_019.Jpg\n",
      "[SKIPPED] Missing file: datasets/thyroid_ultrasonic_image/batch1_image/dataset/148_020.Jpg\n",
      "[SKIPPED] Missing file: datasets/thyroid_ultrasonic_image/batch1_image/dataset/148_021.Jpg\n",
      "[SKIPPED] Missing file: datasets/thyroid_ultrasonic_image/batch1_image/dataset/148_022.Jpg\n",
      "[SKIPPED] Missing file: datasets/thyroid_ultrasonic_image/batch1_image/dataset/149_032.Jpg\n",
      "[SKIPPED] Missing file: datasets/thyroid_ultrasonic_image/batch1_image/dataset/149_033.Jpg\n",
      "[SKIPPED] Missing file: datasets/thyroid_ultrasonic_image/batch1_image/dataset/149_034.Jpg\n",
      "[SKIPPED] Missing file: datasets/thyroid_ultrasonic_image/batch1_image/dataset/149_035.Jpg\n",
      "[SKIPPED] Missing file: datasets/thyroid_ultrasonic_image/batch1_image/dataset/149_036.Jpg\n",
      "[SKIPPED] Missing file: datasets/thyroid_ultrasonic_image/batch1_image/dataset/149_037.Jpg\n",
      "[SKIPPED] Missing file: datasets/thyroid_ultrasonic_image/batch1_image/dataset/149_038.Jpg\n",
      "[SKIPPED] Missing file: datasets/thyroid_ultrasonic_image/batch1_image/dataset/149_039.Jpg\n",
      "[SKIPPED] Missing file: datasets/thyroid_ultrasonic_image/batch1_image/dataset/149_040.Jpg\n",
      "[SKIPPED] Missing file: datasets/thyroid_ultrasonic_image/batch1_image/dataset/149_041.Jpg\n",
      "[SKIPPED] Missing file: datasets/thyroid_ultrasonic_image/batch1_image/dataset/149_042.Jpg\n",
      "[SKIPPED] Missing file: datasets/thyroid_ultrasonic_image/batch1_image/dataset/149_043.Jpg\n",
      "[SKIPPED] Missing file: datasets/thyroid_ultrasonic_image/batch1_image/dataset/149_044.Jpg\n",
      "[SKIPPED] Missing file: datasets/thyroid_ultrasonic_image/batch1_image/dataset/149_045.Jpg\n",
      "[SKIPPED] Missing file: datasets/thyroid_ultrasonic_image/batch1_image/dataset/149_046.Jpg\n",
      "[SKIPPED] Missing file: datasets/thyroid_ultrasonic_image/batch1_image/dataset/149_047.Jpg\n",
      "[SKIPPED] Missing file: datasets/thyroid_ultrasonic_image/batch1_image/dataset/149_048.Jpg\n",
      "[SKIPPED] Missing file: datasets/thyroid_ultrasonic_image/batch1_image/dataset/149_049.Jpg\n",
      "[SKIPPED] Missing file: datasets/thyroid_ultrasonic_image/batch1_image/dataset/149_050.Jpg\n",
      "[SKIPPED] Missing file: datasets/thyroid_ultrasonic_image/batch1_image/dataset/149_051.Jpg\n",
      "[SKIPPED] Missing file: datasets/thyroid_ultrasonic_image/batch1_image/dataset/149_056.Jpg\n",
      "[SKIPPED] Missing file: datasets/thyroid_ultrasonic_image/batch1_image/dataset/149_057.Jpg\n",
      "[SKIPPED] Missing file: datasets/thyroid_ultrasonic_image/batch1_image/dataset/149_058.Jpg\n",
      "[SKIPPED] Missing file: datasets/thyroid_ultrasonic_image/batch1_image/dataset/149_059.Jpg\n",
      "[SKIPPED] Missing file: datasets/thyroid_ultrasonic_image/batch1_image/dataset/149_062.Jpg\n",
      "[WARNING] No valid images for patient: 149, skipping\n"
     ]
    },
    {
     "name": "stderr",
     "output_type": "stream",
     "text": [
      "Extracting patient features:  25%|██▌       | 151/601 [02:52<04:32,  1.65it/s]"
     ]
    },
    {
     "name": "stdout",
     "output_type": "stream",
     "text": [
      "[SKIPPED] Missing file: datasets/thyroid_ultrasonic_image/batch1_image/dataset/150_008.Jpg\n",
      "[SKIPPED] Missing file: datasets/thyroid_ultrasonic_image/batch1_image/dataset/150_009.Jpg\n",
      "[SKIPPED] Missing file: datasets/thyroid_ultrasonic_image/batch1_image/dataset/150_010.Jpg\n",
      "[SKIPPED] Missing file: datasets/thyroid_ultrasonic_image/batch1_image/dataset/150_011.Jpg\n",
      "[SKIPPED] Missing file: datasets/thyroid_ultrasonic_image/batch1_image/dataset/150_012.Jpg\n",
      "[SKIPPED] Missing file: datasets/thyroid_ultrasonic_image/batch1_image/dataset/150_014.Jpg\n",
      "[SKIPPED] Missing file: datasets/thyroid_ultrasonic_image/batch1_image/dataset/150_015.Jpg\n"
     ]
    },
    {
     "name": "stderr",
     "output_type": "stream",
     "text": [
      "Extracting patient features:  25%|██▌       | 152/601 [02:55<08:00,  1.07s/it]"
     ]
    },
    {
     "name": "stdout",
     "output_type": "stream",
     "text": [
      "[SKIPPED] Missing file: datasets/thyroid_ultrasonic_image/batch1_image/dataset/151_013.Jpg\n",
      "[SKIPPED] Missing file: datasets/thyroid_ultrasonic_image/batch1_image/dataset/151_014.Jpg\n",
      "[SKIPPED] Missing file: datasets/thyroid_ultrasonic_image/batch1_image/dataset/152_030.Jpg\n",
      "[SKIPPED] Missing file: datasets/thyroid_ultrasonic_image/batch1_image/dataset/152_031.Jpg\n",
      "[SKIPPED] Missing file: datasets/thyroid_ultrasonic_image/batch1_image/dataset/152_032.Jpg\n",
      "[SKIPPED] Missing file: datasets/thyroid_ultrasonic_image/batch1_image/dataset/152_033.Jpg\n",
      "[SKIPPED] Missing file: datasets/thyroid_ultrasonic_image/batch1_image/dataset/152_034.Jpg\n",
      "[SKIPPED] Missing file: datasets/thyroid_ultrasonic_image/batch1_image/dataset/152_035.Jpg\n",
      "[SKIPPED] Missing file: datasets/thyroid_ultrasonic_image/batch1_image/dataset/152_036.Jpg\n",
      "[SKIPPED] Missing file: datasets/thyroid_ultrasonic_image/batch1_image/dataset/152_037.Jpg\n",
      "[SKIPPED] Missing file: datasets/thyroid_ultrasonic_image/batch1_image/dataset/152_038.Jpg\n",
      "[SKIPPED] Missing file: datasets/thyroid_ultrasonic_image/batch1_image/dataset/152_039.Jpg\n",
      "[WARNING] No valid images for patient: 152, skipping\n"
     ]
    },
    {
     "name": "stderr",
     "output_type": "stream",
     "text": [
      "Extracting patient features:  26%|██▌       | 154/601 [02:57<07:25,  1.00it/s]"
     ]
    },
    {
     "name": "stdout",
     "output_type": "stream",
     "text": [
      "[SKIPPED] Missing file: datasets/thyroid_ultrasonic_image/batch1_image/dataset/153_010.Jpg\n",
      "[SKIPPED] Missing file: datasets/thyroid_ultrasonic_image/batch1_image/dataset/153_013.Jpg\n",
      "[SKIPPED] Missing file: datasets/thyroid_ultrasonic_image/batch1_image/dataset/154_001.Jpg\n",
      "[SKIPPED] Missing file: datasets/thyroid_ultrasonic_image/batch1_image/dataset/154_002.Jpg\n",
      "[SKIPPED] Missing file: datasets/thyroid_ultrasonic_image/batch1_image/dataset/154_003.Jpg\n",
      "[SKIPPED] Missing file: datasets/thyroid_ultrasonic_image/batch1_image/dataset/154_004.Jpg\n",
      "[SKIPPED] Missing file: datasets/thyroid_ultrasonic_image/batch1_image/dataset/154_005.Jpg\n",
      "[SKIPPED] Missing file: datasets/thyroid_ultrasonic_image/batch1_image/dataset/154_006.Jpg\n",
      "[SKIPPED] Missing file: datasets/thyroid_ultrasonic_image/batch1_image/dataset/154_007.Jpg\n",
      "[SKIPPED] Missing file: datasets/thyroid_ultrasonic_image/batch1_image/dataset/154_008.Jpg\n",
      "[SKIPPED] Missing file: datasets/thyroid_ultrasonic_image/batch1_image/dataset/154_009.Jpg\n"
     ]
    },
    {
     "name": "stderr",
     "output_type": "stream",
     "text": [
      "Extracting patient features:  26%|██▌       | 155/601 [02:58<07:51,  1.06s/it]"
     ]
    },
    {
     "name": "stdout",
     "output_type": "stream",
     "text": [
      "[SKIPPED] Missing file: datasets/thyroid_ultrasonic_image/batch1_image/dataset/155_008.Jpg\n",
      "[SKIPPED] Missing file: datasets/thyroid_ultrasonic_image/batch1_image/dataset/155_009.Jpg\n",
      "[SKIPPED] Missing file: datasets/thyroid_ultrasonic_image/batch1_image/dataset/155_012.Jpg\n"
     ]
    },
    {
     "name": "stderr",
     "output_type": "stream",
     "text": [
      "Extracting patient features:  26%|██▌       | 156/601 [03:00<09:28,  1.28s/it]"
     ]
    },
    {
     "name": "stdout",
     "output_type": "stream",
     "text": [
      "[SKIPPED] Missing file: datasets/thyroid_ultrasonic_image/batch1_image/dataset/155_015.Jpg\n",
      "[SKIPPED] Missing file: datasets/thyroid_ultrasonic_image/batch1_image/dataset/156_010.Jpg\n"
     ]
    },
    {
     "name": "stderr",
     "output_type": "stream",
     "text": [
      "Extracting patient features:  26%|██▋       | 158/601 [03:03<10:02,  1.36s/it]"
     ]
    },
    {
     "name": "stdout",
     "output_type": "stream",
     "text": [
      "[SKIPPED] Missing file: datasets/thyroid_ultrasonic_image/batch1_image/dataset/157_007.Jpg\n"
     ]
    },
    {
     "name": "stderr",
     "output_type": "stream",
     "text": [
      "Extracting patient features:  26%|██▋       | 159/601 [03:06<13:17,  1.80s/it]"
     ]
    },
    {
     "name": "stdout",
     "output_type": "stream",
     "text": [
      "[SKIPPED] Missing file: datasets/thyroid_ultrasonic_image/batch1_image/dataset/158_015.Jpg\n",
      "[SKIPPED] Missing file: datasets/thyroid_ultrasonic_image/batch1_image/dataset/158_017.Jpg\n",
      "[SKIPPED] Missing file: datasets/thyroid_ultrasonic_image/batch1_image/dataset/158_018.Jpg\n",
      "[SKIPPED] Missing file: datasets/thyroid_ultrasonic_image/batch1_image/dataset/158_019.Jpg\n",
      "[SKIPPED] Missing file: datasets/thyroid_ultrasonic_image/batch1_image/dataset/158_020.Jpg\n"
     ]
    },
    {
     "name": "stderr",
     "output_type": "stream",
     "text": [
      "Extracting patient features:  27%|██▋       | 160/601 [03:07<12:46,  1.74s/it]"
     ]
    },
    {
     "name": "stdout",
     "output_type": "stream",
     "text": [
      "[SKIPPED] Missing file: datasets/thyroid_ultrasonic_image/batch1_image/dataset/159_009.Jpg\n",
      "[SKIPPED] Missing file: datasets/thyroid_ultrasonic_image/batch1_image/dataset/159_010.Jpg\n",
      "[SKIPPED] Missing file: datasets/thyroid_ultrasonic_image/batch1_image/dataset/159_011.Jpg\n",
      "[SKIPPED] Missing file: datasets/thyroid_ultrasonic_image/batch1_image/dataset/159_012.Jpg\n",
      "[SKIPPED] Missing file: datasets/thyroid_ultrasonic_image/batch1_image/dataset/160_001.Jpg\n",
      "[SKIPPED] Missing file: datasets/thyroid_ultrasonic_image/batch1_image/dataset/160_002.Jpg\n",
      "[SKIPPED] Missing file: datasets/thyroid_ultrasonic_image/batch1_image/dataset/160_003.Jpg\n",
      "[SKIPPED] Missing file: datasets/thyroid_ultrasonic_image/batch1_image/dataset/160_004.Jpg\n",
      "[SKIPPED] Missing file: datasets/thyroid_ultrasonic_image/batch1_image/dataset/160_005.Jpg\n",
      "[SKIPPED] Missing file: datasets/thyroid_ultrasonic_image/batch1_image/dataset/160_006.Jpg\n",
      "[SKIPPED] Missing file: datasets/thyroid_ultrasonic_image/batch1_image/dataset/160_007.Jpg\n",
      "[SKIPPED] Missing file: datasets/thyroid_ultrasonic_image/batch1_image/dataset/160_008.Jpg\n",
      "[WARNING] No valid images for patient: 160, skipping\n",
      "[SKIPPED] Missing file: datasets/thyroid_ultrasonic_image/batch1_image/dataset/161_009.Jpg\n",
      "[SKIPPED] Missing file: datasets/thyroid_ultrasonic_image/batch1_image/dataset/161_010.Jpg\n"
     ]
    },
    {
     "name": "stderr",
     "output_type": "stream",
     "text": [
      "Extracting patient features:  27%|██▋       | 162/601 [03:09<10:10,  1.39s/it]"
     ]
    },
    {
     "name": "stdout",
     "output_type": "stream",
     "text": [
      "[SKIPPED] Missing file: datasets/thyroid_ultrasonic_image/batch1_image/dataset/161_013.Jpg\n",
      "[SKIPPED] Missing file: datasets/thyroid_ultrasonic_image/batch1_image/dataset/161_014.Jpg\n",
      "[SKIPPED] Missing file: datasets/thyroid_ultrasonic_image/batch1_image/dataset/161_016.Jpg\n"
     ]
    },
    {
     "name": "stderr",
     "output_type": "stream",
     "text": [
      "Extracting patient features:  27%|██▋       | 163/601 [03:10<08:36,  1.18s/it]"
     ]
    },
    {
     "name": "stdout",
     "output_type": "stream",
     "text": [
      "[SKIPPED] Missing file: datasets/thyroid_ultrasonic_image/batch1_image/dataset/162_006.Jpg\n",
      "[SKIPPED] Missing file: datasets/thyroid_ultrasonic_image/batch1_image/dataset/162_007.Jpg\n",
      "[SKIPPED] Missing file: datasets/thyroid_ultrasonic_image/batch1_image/dataset/162_008.Jpg\n",
      "[SKIPPED] Missing file: datasets/thyroid_ultrasonic_image/batch1_image/dataset/162_009.Jpg\n",
      "[SKIPPED] Missing file: datasets/thyroid_ultrasonic_image/batch1_image/dataset/162_012.Jpg\n",
      "[SKIPPED] Missing file: datasets/thyroid_ultrasonic_image/batch1_image/dataset/162_013.Jpg\n"
     ]
    },
    {
     "name": "stderr",
     "output_type": "stream",
     "text": [
      "Extracting patient features:  28%|██▊       | 166/601 [03:14<10:17,  1.42s/it]"
     ]
    },
    {
     "name": "stdout",
     "output_type": "stream",
     "text": [
      "[SKIPPED] Missing file: datasets/thyroid_ultrasonic_image/batch1_image/dataset/166_015.Jpg\n",
      "[SKIPPED] Missing file: datasets/thyroid_ultrasonic_image/batch1_image/dataset/166_016.Jpg\n",
      "[SKIPPED] Missing file: datasets/thyroid_ultrasonic_image/batch1_image/dataset/166_017.Jpg\n",
      "[SKIPPED] Missing file: datasets/thyroid_ultrasonic_image/batch1_image/dataset/166_018.Jpg\n",
      "[SKIPPED] Missing file: datasets/thyroid_ultrasonic_image/batch1_image/dataset/166_019.Jpg\n",
      "[SKIPPED] Missing file: datasets/thyroid_ultrasonic_image/batch1_image/dataset/166_020.Jpg\n",
      "[SKIPPED] Missing file: datasets/thyroid_ultrasonic_image/batch1_image/dataset/166_021.Jpg\n",
      "[SKIPPED] Missing file: datasets/thyroid_ultrasonic_image/batch1_image/dataset/166_022.Jpg\n",
      "[WARNING] No valid images for patient: 166, skipping\n"
     ]
    },
    {
     "name": "stderr",
     "output_type": "stream",
     "text": [
      "Extracting patient features:  28%|██▊       | 168/601 [03:15<07:27,  1.03s/it]"
     ]
    },
    {
     "name": "stdout",
     "output_type": "stream",
     "text": [
      "[SKIPPED] Missing file: datasets/thyroid_ultrasonic_image/batch1_image/dataset/168_003.Jpg\n"
     ]
    },
    {
     "name": "stderr",
     "output_type": "stream",
     "text": [
      "Extracting patient features:  28%|██▊       | 169/601 [03:16<07:25,  1.03s/it]"
     ]
    },
    {
     "name": "stdout",
     "output_type": "stream",
     "text": [
      "[SKIPPED] Missing file: datasets/thyroid_ultrasonic_image/batch1_image/dataset/168_007.Jpg\n"
     ]
    },
    {
     "name": "stderr",
     "output_type": "stream",
     "text": [
      "Extracting patient features:  28%|██▊       | 170/601 [03:17<06:30,  1.10it/s]"
     ]
    },
    {
     "name": "stdout",
     "output_type": "stream",
     "text": [
      "[SKIPPED] Missing file: datasets/thyroid_ultrasonic_image/batch1_image/dataset/169_003.Jpg\n",
      "[SKIPPED] Missing file: datasets/thyroid_ultrasonic_image/batch1_image/dataset/169_005.Jpg\n"
     ]
    },
    {
     "name": "stderr",
     "output_type": "stream",
     "text": [
      "Extracting patient features:  29%|██▊       | 172/601 [03:20<09:30,  1.33s/it]"
     ]
    },
    {
     "name": "stdout",
     "output_type": "stream",
     "text": [
      "[SKIPPED] Missing file: datasets/thyroid_ultrasonic_image/batch1_image/dataset/172_006.Jpg\n"
     ]
    },
    {
     "name": "stderr",
     "output_type": "stream",
     "text": [
      "Extracting patient features:  29%|██▉       | 175/601 [03:25<09:51,  1.39s/it]"
     ]
    },
    {
     "name": "stdout",
     "output_type": "stream",
     "text": [
      "[SKIPPED] Missing file: datasets/thyroid_ultrasonic_image/batch1_image/dataset/175_001.Jpg\n",
      "[SKIPPED] Missing file: datasets/thyroid_ultrasonic_image/batch1_image/dataset/175_002.Jpg\n",
      "[SKIPPED] Missing file: datasets/thyroid_ultrasonic_image/batch1_image/dataset/175_003.Jpg\n",
      "[WARNING] No valid images for patient: 175, skipping\n",
      "[SKIPPED] Missing file: datasets/thyroid_ultrasonic_image/batch1_image/dataset/176_001.Jpg\n",
      "[SKIPPED] Missing file: datasets/thyroid_ultrasonic_image/batch1_image/dataset/176_002.Jpg\n",
      "[SKIPPED] Missing file: datasets/thyroid_ultrasonic_image/batch1_image/dataset/176_003.Jpg\n",
      "[SKIPPED] Missing file: datasets/thyroid_ultrasonic_image/batch1_image/dataset/176_004.Jpg\n",
      "[SKIPPED] Missing file: datasets/thyroid_ultrasonic_image/batch1_image/dataset/176_005.Jpg\n",
      "[SKIPPED] Missing file: datasets/thyroid_ultrasonic_image/batch1_image/dataset/176_006.Jpg\n",
      "[SKIPPED] Missing file: datasets/thyroid_ultrasonic_image/batch1_image/dataset/176_007.Jpg\n",
      "[SKIPPED] Missing file: datasets/thyroid_ultrasonic_image/batch1_image/dataset/176_008.Jpg\n",
      "[SKIPPED] Missing file: datasets/thyroid_ultrasonic_image/batch1_image/dataset/176_010.Jpg\n",
      "[WARNING] No valid images for patient: 176, skipping\n",
      "[SKIPPED] Missing file: datasets/thyroid_ultrasonic_image/batch1_image/dataset/177_001.Jpg\n",
      "[SKIPPED] Missing file: datasets/thyroid_ultrasonic_image/batch1_image/dataset/177_002.Jpg\n",
      "[SKIPPED] Missing file: datasets/thyroid_ultrasonic_image/batch1_image/dataset/177_005.Jpg\n",
      "[SKIPPED] Missing file: datasets/thyroid_ultrasonic_image/batch1_image/dataset/177_006.Jpg\n",
      "[SKIPPED] Missing file: datasets/thyroid_ultrasonic_image/batch1_image/dataset/177_007.Jpg\n",
      "[WARNING] No valid images for patient: 177, skipping\n"
     ]
    },
    {
     "name": "stderr",
     "output_type": "stream",
     "text": [
      "Extracting patient features:  30%|██▉       | 179/601 [03:26<05:13,  1.35it/s]"
     ]
    },
    {
     "name": "stdout",
     "output_type": "stream",
     "text": [
      "[SKIPPED] Missing file: datasets/thyroid_ultrasonic_image/batch1_image/dataset/179_005.Jpg\n",
      "[SKIPPED] Missing file: datasets/thyroid_ultrasonic_image/batch1_image/dataset/179_008.Jpg\n"
     ]
    },
    {
     "name": "stderr",
     "output_type": "stream",
     "text": [
      "Extracting patient features:  30%|███       | 181/601 [03:29<06:33,  1.07it/s]"
     ]
    },
    {
     "name": "stdout",
     "output_type": "stream",
     "text": [
      "[SKIPPED] Missing file: datasets/thyroid_ultrasonic_image/batch1_image/dataset/180_004.Jpg\n",
      "[SKIPPED] Missing file: datasets/thyroid_ultrasonic_image/batch1_image/dataset/180_005.Jpg\n",
      "[SKIPPED] Missing file: datasets/thyroid_ultrasonic_image/batch1_image/dataset/180_008.Jpg\n",
      "[SKIPPED] Missing file: datasets/thyroid_ultrasonic_image/batch1_image/dataset/180_009.Jpg\n",
      "[SKIPPED] Missing file: datasets/thyroid_ultrasonic_image/batch1_image/dataset/180_010.Jpg\n",
      "[SKIPPED] Missing file: datasets/thyroid_ultrasonic_image/batch1_image/dataset/180_011.Jpg\n",
      "[SKIPPED] Missing file: datasets/thyroid_ultrasonic_image/batch1_image/dataset/180_012.Jpg\n",
      "[SKIPPED] Missing file: datasets/thyroid_ultrasonic_image/batch1_image/dataset/180_013.Jpg\n",
      "[SKIPPED] Missing file: datasets/thyroid_ultrasonic_image/batch1_image/dataset/180_014.Jpg\n",
      "[SKIPPED] Missing file: datasets/thyroid_ultrasonic_image/batch1_image/dataset/180_015.Jpg\n",
      "[SKIPPED] Missing file: datasets/thyroid_ultrasonic_image/batch1_image/dataset/180_016.Jpg\n",
      "[SKIPPED] Missing file: datasets/thyroid_ultrasonic_image/batch1_image/dataset/180_017.Jpg\n",
      "[SKIPPED] Missing file: datasets/thyroid_ultrasonic_image/batch1_image/dataset/180_018.Jpg\n",
      "[SKIPPED] Missing file: datasets/thyroid_ultrasonic_image/batch1_image/dataset/180_019.Jpg\n",
      "[SKIPPED] Missing file: datasets/thyroid_ultrasonic_image/batch1_image/dataset/180_020.Jpg\n",
      "[SKIPPED] Missing file: datasets/thyroid_ultrasonic_image/batch1_image/dataset/180_021.Jpg\n",
      "[SKIPPED] Missing file: datasets/thyroid_ultrasonic_image/batch1_image/dataset/180_022.Jpg\n",
      "[SKIPPED] Missing file: datasets/thyroid_ultrasonic_image/batch1_image/dataset/180_023.Jpg\n",
      "[SKIPPED] Missing file: datasets/thyroid_ultrasonic_image/batch1_image/dataset/180_024.Jpg\n",
      "[SKIPPED] Missing file: datasets/thyroid_ultrasonic_image/batch1_image/dataset/180_025.Jpg\n",
      "[SKIPPED] Missing file: datasets/thyroid_ultrasonic_image/batch1_image/dataset/181_035.Jpg\n",
      "[SKIPPED] Missing file: datasets/thyroid_ultrasonic_image/batch1_image/dataset/181_036.Jpg\n",
      "[SKIPPED] Missing file: datasets/thyroid_ultrasonic_image/batch1_image/dataset/181_038.Jpg\n",
      "[SKIPPED] Missing file: datasets/thyroid_ultrasonic_image/batch1_image/dataset/181_039.Jpg\n",
      "[SKIPPED] Missing file: datasets/thyroid_ultrasonic_image/batch1_image/dataset/181_040.Jpg\n",
      "[SKIPPED] Missing file: datasets/thyroid_ultrasonic_image/batch1_image/dataset/181_041.Jpg\n",
      "[WARNING] No valid images for patient: 181, skipping\n"
     ]
    },
    {
     "name": "stderr",
     "output_type": "stream",
     "text": [
      "Extracting patient features:  30%|███       | 183/601 [03:30<04:34,  1.53it/s]"
     ]
    },
    {
     "name": "stdout",
     "output_type": "stream",
     "text": [
      "[SKIPPED] Missing file: datasets/thyroid_ultrasonic_image/batch1_image/dataset/182_003.Jpg\n",
      "[SKIPPED] Missing file: datasets/thyroid_ultrasonic_image/batch1_image/dataset/182_004.Jpg\n",
      "[SKIPPED] Missing file: datasets/thyroid_ultrasonic_image/batch1_image/dataset/182_005.Jpg\n",
      "[SKIPPED] Missing file: datasets/thyroid_ultrasonic_image/batch1_image/dataset/182_006.Jpg\n",
      "[SKIPPED] Missing file: datasets/thyroid_ultrasonic_image/batch1_image/dataset/182_007.Jpg\n",
      "[SKIPPED] Missing file: datasets/thyroid_ultrasonic_image/batch1_image/dataset/182_008.Jpg\n",
      "[SKIPPED] Missing file: datasets/thyroid_ultrasonic_image/batch1_image/dataset/182_009.Jpg\n",
      "[SKIPPED] Missing file: datasets/thyroid_ultrasonic_image/batch1_image/dataset/182_010.Jpg\n",
      "[SKIPPED] Missing file: datasets/thyroid_ultrasonic_image/batch1_image/dataset/182_011.Jpg\n",
      "[SKIPPED] Missing file: datasets/thyroid_ultrasonic_image/batch1_image/dataset/182_012.Jpg\n",
      "[SKIPPED] Missing file: datasets/thyroid_ultrasonic_image/batch1_image/dataset/182_013.Jpg\n",
      "[SKIPPED] Missing file: datasets/thyroid_ultrasonic_image/batch1_image/dataset/182_014.Jpg\n",
      "[SKIPPED] Missing file: datasets/thyroid_ultrasonic_image/batch1_image/dataset/182_015.Jpg\n",
      "[SKIPPED] Missing file: datasets/thyroid_ultrasonic_image/batch1_image/dataset/183_021.Jpg\n",
      "[SKIPPED] Missing file: datasets/thyroid_ultrasonic_image/batch1_image/dataset/183_022.Jpg\n",
      "[SKIPPED] Missing file: datasets/thyroid_ultrasonic_image/batch1_image/dataset/183_023.Jpg\n",
      "[SKIPPED] Missing file: datasets/thyroid_ultrasonic_image/batch1_image/dataset/183_024.Jpg\n",
      "[SKIPPED] Missing file: datasets/thyroid_ultrasonic_image/batch1_image/dataset/183_025.Jpg\n",
      "[SKIPPED] Missing file: datasets/thyroid_ultrasonic_image/batch1_image/dataset/183_026.Jpg\n",
      "[SKIPPED] Missing file: datasets/thyroid_ultrasonic_image/batch1_image/dataset/183_027.Jpg\n",
      "[SKIPPED] Missing file: datasets/thyroid_ultrasonic_image/batch1_image/dataset/183_028.Jpg\n",
      "[SKIPPED] Missing file: datasets/thyroid_ultrasonic_image/batch1_image/dataset/183_029.Jpg\n",
      "[SKIPPED] Missing file: datasets/thyroid_ultrasonic_image/batch1_image/dataset/183_030.Jpg\n",
      "[SKIPPED] Missing file: datasets/thyroid_ultrasonic_image/batch1_image/dataset/183_031.Jpg\n",
      "[SKIPPED] Missing file: datasets/thyroid_ultrasonic_image/batch1_image/dataset/183_032.Jpg\n",
      "[SKIPPED] Missing file: datasets/thyroid_ultrasonic_image/batch1_image/dataset/183_033.Jpg\n",
      "[WARNING] No valid images for patient: 183, skipping\n"
     ]
    },
    {
     "name": "stderr",
     "output_type": "stream",
     "text": [
      "Extracting patient features:  31%|███       | 185/601 [03:31<04:29,  1.54it/s]"
     ]
    },
    {
     "name": "stdout",
     "output_type": "stream",
     "text": [
      "[SKIPPED] Missing file: datasets/thyroid_ultrasonic_image/batch1_image/dataset/184_008.Jpg\n",
      "[SKIPPED] Missing file: datasets/thyroid_ultrasonic_image/batch1_image/dataset/184_009.Jpg\n",
      "[SKIPPED] Missing file: datasets/thyroid_ultrasonic_image/batch1_image/dataset/184_010.Jpg\n",
      "[SKIPPED] Missing file: datasets/thyroid_ultrasonic_image/batch1_image/dataset/184_011.Jpg\n",
      "[SKIPPED] Missing file: datasets/thyroid_ultrasonic_image/batch1_image/dataset/184_012.Jpg\n",
      "[SKIPPED] Missing file: datasets/thyroid_ultrasonic_image/batch1_image/dataset/184_013.Jpg\n",
      "[SKIPPED] Missing file: datasets/thyroid_ultrasonic_image/batch1_image/dataset/184_014.Jpg\n",
      "[SKIPPED] Missing file: datasets/thyroid_ultrasonic_image/batch1_image/dataset/184_015.Jpg\n",
      "[SKIPPED] Missing file: datasets/thyroid_ultrasonic_image/batch1_image/dataset/184_016.Jpg\n",
      "[SKIPPED] Missing file: datasets/thyroid_ultrasonic_image/batch1_image/dataset/185_005.Jpg\n"
     ]
    },
    {
     "name": "stderr",
     "output_type": "stream",
     "text": [
      "Extracting patient features:  31%|███       | 187/601 [03:33<05:13,  1.32it/s]"
     ]
    },
    {
     "name": "stdout",
     "output_type": "stream",
     "text": [
      "[SKIPPED] Missing file: datasets/thyroid_ultrasonic_image/batch1_image/dataset/186_006.Jpg\n",
      "[SKIPPED] Missing file: datasets/thyroid_ultrasonic_image/batch1_image/dataset/186_007.Jpg\n",
      "[SKIPPED] Missing file: datasets/thyroid_ultrasonic_image/batch1_image/dataset/186_008.Jpg\n",
      "[SKIPPED] Missing file: datasets/thyroid_ultrasonic_image/batch1_image/dataset/186_009.Jpg\n",
      "[SKIPPED] Missing file: datasets/thyroid_ultrasonic_image/batch1_image/dataset/186_010.Jpg\n",
      "[SKIPPED] Missing file: datasets/thyroid_ultrasonic_image/batch1_image/dataset/186_011.Jpg\n",
      "[SKIPPED] Missing file: datasets/thyroid_ultrasonic_image/batch1_image/dataset/186_012.Jpg\n",
      "[SKIPPED] Missing file: datasets/thyroid_ultrasonic_image/batch1_image/dataset/186_014.Jpg\n",
      "[SKIPPED] Missing file: datasets/thyroid_ultrasonic_image/batch1_image/dataset/186_015.Jpg\n",
      "[SKIPPED] Missing file: datasets/thyroid_ultrasonic_image/batch1_image/dataset/186_017.Jpg\n",
      "[SKIPPED] Missing file: datasets/thyroid_ultrasonic_image/batch1_image/dataset/187_001.Jpg\n",
      "[SKIPPED] Missing file: datasets/thyroid_ultrasonic_image/batch1_image/dataset/187_002.Jpg\n",
      "[SKIPPED] Missing file: datasets/thyroid_ultrasonic_image/batch1_image/dataset/187_003.Jpg\n",
      "[WARNING] No valid images for patient: 187, skipping\n"
     ]
    },
    {
     "name": "stderr",
     "output_type": "stream",
     "text": [
      "Extracting patient features:  31%|███▏      | 189/601 [03:35<06:18,  1.09it/s]"
     ]
    },
    {
     "name": "stdout",
     "output_type": "stream",
     "text": [
      "[SKIPPED] Missing file: datasets/thyroid_ultrasonic_image/batch1_image/dataset/188_015.Jpg\n",
      "[SKIPPED] Missing file: datasets/thyroid_ultrasonic_image/batch1_image/dataset/188_016.Jpg\n",
      "[SKIPPED] Missing file: datasets/thyroid_ultrasonic_image/batch1_image/dataset/188_017.Jpg\n"
     ]
    },
    {
     "name": "stderr",
     "output_type": "stream",
     "text": [
      "Extracting patient features:  32%|███▏      | 194/601 [03:44<11:13,  1.66s/it]"
     ]
    },
    {
     "name": "stdout",
     "output_type": "stream",
     "text": [
      "[SKIPPED] Missing file: datasets/thyroid_ultrasonic_image/batch1_image/dataset/194_076.Jpg\n",
      "[SKIPPED] Missing file: datasets/thyroid_ultrasonic_image/batch1_image/dataset/194_077.Jpg\n",
      "[SKIPPED] Missing file: datasets/thyroid_ultrasonic_image/batch1_image/dataset/194_078.Jpg\n",
      "[SKIPPED] Missing file: datasets/thyroid_ultrasonic_image/batch1_image/dataset/194_079.Jpg\n",
      "[SKIPPED] Missing file: datasets/thyroid_ultrasonic_image/batch1_image/dataset/194_080.Jpg\n",
      "[SKIPPED] Missing file: datasets/thyroid_ultrasonic_image/batch1_image/dataset/194_081.Jpg\n",
      "[SKIPPED] Missing file: datasets/thyroid_ultrasonic_image/batch1_image/dataset/194_082.Jpg\n",
      "[SKIPPED] Missing file: datasets/thyroid_ultrasonic_image/batch1_image/dataset/194_083.Jpg\n",
      "[SKIPPED] Missing file: datasets/thyroid_ultrasonic_image/batch1_image/dataset/194_084.Jpg\n",
      "[SKIPPED] Missing file: datasets/thyroid_ultrasonic_image/batch1_image/dataset/194_085.Jpg\n",
      "[SKIPPED] Missing file: datasets/thyroid_ultrasonic_image/batch1_image/dataset/194_087.Jpg\n",
      "[SKIPPED] Missing file: datasets/thyroid_ultrasonic_image/batch1_image/dataset/194_088.Jpg\n",
      "[SKIPPED] Missing file: datasets/thyroid_ultrasonic_image/batch1_image/dataset/194_089.Jpg\n",
      "[SKIPPED] Missing file: datasets/thyroid_ultrasonic_image/batch1_image/dataset/194_090.Jpg\n",
      "[SKIPPED] Missing file: datasets/thyroid_ultrasonic_image/batch1_image/dataset/194_092.Jpg\n",
      "[SKIPPED] Missing file: datasets/thyroid_ultrasonic_image/batch1_image/dataset/194_093.Jpg\n",
      "[WARNING] No valid images for patient: 194, skipping\n",
      "[SKIPPED] Missing file: datasets/thyroid_ultrasonic_image/batch1_image/dataset/195_001.Jpg\n",
      "[SKIPPED] Missing file: datasets/thyroid_ultrasonic_image/batch1_image/dataset/195_002.Jpg\n",
      "[SKIPPED] Missing file: datasets/thyroid_ultrasonic_image/batch1_image/dataset/195_003.Jpg\n",
      "[SKIPPED] Missing file: datasets/thyroid_ultrasonic_image/batch1_image/dataset/195_004.Jpg\n",
      "[SKIPPED] Missing file: datasets/thyroid_ultrasonic_image/batch1_image/dataset/195_005.Jpg\n",
      "[SKIPPED] Missing file: datasets/thyroid_ultrasonic_image/batch1_image/dataset/195_006.Jpg\n",
      "[SKIPPED] Missing file: datasets/thyroid_ultrasonic_image/batch1_image/dataset/195_007.Jpg\n",
      "[SKIPPED] Missing file: datasets/thyroid_ultrasonic_image/batch1_image/dataset/195_008.Jpg\n",
      "[WARNING] No valid images for patient: 195, skipping\n"
     ]
    },
    {
     "name": "stderr",
     "output_type": "stream",
     "text": [
      "Extracting patient features:  33%|███▎      | 198/601 [03:46<05:57,  1.13it/s]"
     ]
    },
    {
     "name": "stdout",
     "output_type": "stream",
     "text": [
      "[SKIPPED] Missing file: datasets/thyroid_ultrasonic_image/batch1_image/dataset/197_004.Jpg\n",
      "[SKIPPED] Missing file: datasets/thyroid_ultrasonic_image/batch1_image/dataset/197_005.Jpg\n",
      "[SKIPPED] Missing file: datasets/thyroid_ultrasonic_image/batch1_image/dataset/197_006.Jpg\n",
      "[SKIPPED] Missing file: datasets/thyroid_ultrasonic_image/batch1_image/dataset/197_007.Jpg\n",
      "[SKIPPED] Missing file: datasets/thyroid_ultrasonic_image/batch1_image/dataset/197_008.Jpg\n",
      "[SKIPPED] Missing file: datasets/thyroid_ultrasonic_image/batch1_image/dataset/197_009.Jpg\n",
      "[SKIPPED] Missing file: datasets/thyroid_ultrasonic_image/batch1_image/dataset/197_010.Jpg\n",
      "[SKIPPED] Missing file: datasets/thyroid_ultrasonic_image/batch1_image/dataset/197_011.Jpg\n",
      "[SKIPPED] Missing file: datasets/thyroid_ultrasonic_image/batch1_image/dataset/197_012.Jpg\n",
      "[SKIPPED] Missing file: datasets/thyroid_ultrasonic_image/batch1_image/dataset/197_013.Jpg\n",
      "[SKIPPED] Missing file: datasets/thyroid_ultrasonic_image/batch1_image/dataset/197_014.Jpg\n",
      "[SKIPPED] Missing file: datasets/thyroid_ultrasonic_image/batch1_image/dataset/197_015.Jpg\n",
      "[SKIPPED] Missing file: datasets/thyroid_ultrasonic_image/batch1_image/dataset/197_016.Jpg\n",
      "[SKIPPED] Missing file: datasets/thyroid_ultrasonic_image/batch1_image/dataset/197_017.Jpg\n",
      "[SKIPPED] Missing file: datasets/thyroid_ultrasonic_image/batch1_image/dataset/197_019.Jpg\n",
      "[SKIPPED] Missing file: datasets/thyroid_ultrasonic_image/batch1_image/dataset/197_020.Jpg\n",
      "[SKIPPED] Missing file: datasets/thyroid_ultrasonic_image/batch1_image/dataset/197_021.Jpg\n",
      "[SKIPPED] Missing file: datasets/thyroid_ultrasonic_image/batch1_image/dataset/197_022.Jpg\n",
      "[SKIPPED] Missing file: datasets/thyroid_ultrasonic_image/batch1_image/dataset/197_023.Jpg\n"
     ]
    },
    {
     "name": "stderr",
     "output_type": "stream",
     "text": [
      "Extracting patient features:  33%|███▎      | 199/601 [03:47<06:01,  1.11it/s]"
     ]
    },
    {
     "name": "stdout",
     "output_type": "stream",
     "text": [
      "[SKIPPED] Missing file: datasets/thyroid_ultrasonic_image/batch1_image/dataset/198_006.Jpg\n",
      "[SKIPPED] Missing file: datasets/thyroid_ultrasonic_image/batch1_image/dataset/198_007.Jpg\n",
      "[SKIPPED] Missing file: datasets/thyroid_ultrasonic_image/batch1_image/dataset/198_008.Jpg\n",
      "[SKIPPED] Missing file: datasets/thyroid_ultrasonic_image/batch1_image/dataset/198_009.Jpg\n"
     ]
    },
    {
     "name": "stderr",
     "output_type": "stream",
     "text": [
      "Extracting patient features:  33%|███▎      | 201/601 [03:49<05:49,  1.14it/s]"
     ]
    },
    {
     "name": "stdout",
     "output_type": "stream",
     "text": [
      "[SKIPPED] Missing file: datasets/thyroid_ultrasonic_image/batch1_image/dataset/200_008.Jpg\n",
      "[SKIPPED] Missing file: datasets/thyroid_ultrasonic_image/batch1_image/dataset/200_011.Jpg\n",
      "[SKIPPED] Missing file: datasets/thyroid_ultrasonic_image/batch1_image/dataset/200_012.Jpg\n",
      "[SKIPPED] Missing file: datasets/thyroid_ultrasonic_image/batch1_image/dataset/200_013.Jpg\n",
      "[SKIPPED] Missing file: datasets/thyroid_ultrasonic_image/batch1_image/dataset/200_014.Jpg\n",
      "[SKIPPED] Missing file: datasets/thyroid_ultrasonic_image/batch1_image/dataset/200_015.Jpg\n",
      "[SKIPPED] Missing file: datasets/thyroid_ultrasonic_image/batch1_image/dataset/200_016.Jpg\n",
      "[SKIPPED] Missing file: datasets/thyroid_ultrasonic_image/batch1_image/dataset/200_020.Jpg\n",
      "[SKIPPED] Missing file: datasets/thyroid_ultrasonic_image/batch1_image/dataset/200_021.Jpg\n",
      "[SKIPPED] Missing file: datasets/thyroid_ultrasonic_image/batch1_image/dataset/200_022.Jpg\n",
      "[SKIPPED] Missing file: datasets/thyroid_ultrasonic_image/batch1_image/dataset/200_023.Jpg\n",
      "[SKIPPED] Missing file: datasets/thyroid_ultrasonic_image/batch1_image/dataset/200_024.Jpg\n",
      "[SKIPPED] Missing file: datasets/thyroid_ultrasonic_image/batch1_image/dataset/200_025.Jpg\n",
      "[SKIPPED] Missing file: datasets/thyroid_ultrasonic_image/batch1_image/dataset/200_026.Jpg\n",
      "[SKIPPED] Missing file: datasets/thyroid_ultrasonic_image/batch1_image/dataset/200_027.Jpg\n",
      "[SKIPPED] Missing file: datasets/thyroid_ultrasonic_image/batch1_image/dataset/200_028.Jpg\n"
     ]
    },
    {
     "name": "stderr",
     "output_type": "stream",
     "text": [
      "Extracting patient features:  34%|███▍      | 204/601 [03:50<03:36,  1.83it/s]"
     ]
    },
    {
     "name": "stdout",
     "output_type": "stream",
     "text": [
      "[SKIPPED] Missing file: datasets/thyroid_ultrasonic_image/batch1_image/dataset/202_015.Jpg\n",
      "[SKIPPED] Missing file: datasets/thyroid_ultrasonic_image/batch1_image/dataset/202_016.Jpg\n",
      "[SKIPPED] Missing file: datasets/thyroid_ultrasonic_image/batch1_image/dataset/202_017.Jpg\n",
      "[SKIPPED] Missing file: datasets/thyroid_ultrasonic_image/batch1_image/dataset/202_018.Jpg\n",
      "[SKIPPED] Missing file: datasets/thyroid_ultrasonic_image/batch1_image/dataset/202_019.Jpg\n",
      "[SKIPPED] Missing file: datasets/thyroid_ultrasonic_image/batch1_image/dataset/202_020.Jpg\n",
      "[SKIPPED] Missing file: datasets/thyroid_ultrasonic_image/batch1_image/dataset/202_021.Jpg\n",
      "[SKIPPED] Missing file: datasets/thyroid_ultrasonic_image/batch1_image/dataset/202_022.Jpg\n",
      "[SKIPPED] Missing file: datasets/thyroid_ultrasonic_image/batch1_image/dataset/202_023.Jpg\n",
      "[SKIPPED] Missing file: datasets/thyroid_ultrasonic_image/batch1_image/dataset/202_024.Jpg\n",
      "[SKIPPED] Missing file: datasets/thyroid_ultrasonic_image/batch1_image/dataset/202_025.Jpg\n",
      "[SKIPPED] Missing file: datasets/thyroid_ultrasonic_image/batch1_image/dataset/202_026.Jpg\n",
      "[SKIPPED] Missing file: datasets/thyroid_ultrasonic_image/batch1_image/dataset/202_027.Jpg\n",
      "[SKIPPED] Missing file: datasets/thyroid_ultrasonic_image/batch1_image/dataset/202_028.Jpg\n",
      "[SKIPPED] Missing file: datasets/thyroid_ultrasonic_image/batch1_image/dataset/202_029.Jpg\n",
      "[SKIPPED] Missing file: datasets/thyroid_ultrasonic_image/batch1_image/dataset/202_030.Jpg\n",
      "[SKIPPED] Missing file: datasets/thyroid_ultrasonic_image/batch1_image/dataset/202_031.Jpg\n",
      "[SKIPPED] Missing file: datasets/thyroid_ultrasonic_image/batch1_image/dataset/202_032.Jpg\n",
      "[SKIPPED] Missing file: datasets/thyroid_ultrasonic_image/batch1_image/dataset/202_033.Jpg\n",
      "[WARNING] No valid images for patient: 202, skipping\n",
      "[SKIPPED] Missing file: datasets/thyroid_ultrasonic_image/batch1_image/dataset/203_005.Jpg\n"
     ]
    },
    {
     "name": "stderr",
     "output_type": "stream",
     "text": [
      "Extracting patient features:  34%|███▍      | 206/601 [03:53<06:08,  1.07it/s]"
     ]
    },
    {
     "name": "stdout",
     "output_type": "stream",
     "text": [
      "[SKIPPED] Missing file: datasets/thyroid_ultrasonic_image/batch1_image/dataset/205_011.Jpg\n",
      "[SKIPPED] Missing file: datasets/thyroid_ultrasonic_image/batch1_image/dataset/205_012.Jpg\n",
      "[SKIPPED] Missing file: datasets/thyroid_ultrasonic_image/batch1_image/dataset/205_013.Jpg\n",
      "[SKIPPED] Missing file: datasets/thyroid_ultrasonic_image/batch1_image/dataset/205_014.Jpg\n",
      "[SKIPPED] Missing file: datasets/thyroid_ultrasonic_image/batch1_image/dataset/205_015.Jpg\n",
      "[SKIPPED] Missing file: datasets/thyroid_ultrasonic_image/batch1_image/dataset/205_016.Jpg\n"
     ]
    },
    {
     "name": "stderr",
     "output_type": "stream",
     "text": [
      "Extracting patient features:  35%|███▍      | 208/601 [03:55<06:14,  1.05it/s]"
     ]
    },
    {
     "name": "stdout",
     "output_type": "stream",
     "text": [
      "[SKIPPED] Missing file: datasets/thyroid_ultrasonic_image/batch1_image/dataset/207_004.Jpg\n",
      "[SKIPPED] Missing file: datasets/thyroid_ultrasonic_image/batch1_image/dataset/207_005.Jpg\n",
      "[SKIPPED] Missing file: datasets/thyroid_ultrasonic_image/batch1_image/dataset/207_006.Jpg\n",
      "[SKIPPED] Missing file: datasets/thyroid_ultrasonic_image/batch1_image/dataset/207_007.Jpg\n",
      "[SKIPPED] Missing file: datasets/thyroid_ultrasonic_image/batch1_image/dataset/207_008.Jpg\n",
      "[SKIPPED] Missing file: datasets/thyroid_ultrasonic_image/batch1_image/dataset/207_011.Jpg\n",
      "[SKIPPED] Missing file: datasets/thyroid_ultrasonic_image/batch1_image/dataset/207_012.Jpg\n",
      "[SKIPPED] Missing file: datasets/thyroid_ultrasonic_image/batch1_image/dataset/208_002.Jpg\n"
     ]
    },
    {
     "name": "stderr",
     "output_type": "stream",
     "text": [
      "Extracting patient features:  35%|███▍      | 209/601 [03:55<05:17,  1.23it/s]"
     ]
    },
    {
     "name": "stdout",
     "output_type": "stream",
     "text": [
      "[SKIPPED] Missing file: datasets/thyroid_ultrasonic_image/batch1_image/dataset/209_014.Jpg\n",
      "[SKIPPED] Missing file: datasets/thyroid_ultrasonic_image/batch1_image/dataset/209_015.Jpg\n",
      "[SKIPPED] Missing file: datasets/thyroid_ultrasonic_image/batch1_image/dataset/209_016.Jpg\n",
      "[SKIPPED] Missing file: datasets/thyroid_ultrasonic_image/batch1_image/dataset/209_017.Jpg\n",
      "[SKIPPED] Missing file: datasets/thyroid_ultrasonic_image/batch1_image/dataset/209_018.Jpg\n",
      "[SKIPPED] Missing file: datasets/thyroid_ultrasonic_image/batch1_image/dataset/209_019.Jpg\n",
      "[SKIPPED] Missing file: datasets/thyroid_ultrasonic_image/batch1_image/dataset/209_020.Jpg\n",
      "[SKIPPED] Missing file: datasets/thyroid_ultrasonic_image/batch1_image/dataset/209_021.Jpg\n",
      "[SKIPPED] Missing file: datasets/thyroid_ultrasonic_image/batch1_image/dataset/209_022.Jpg\n",
      "[SKIPPED] Missing file: datasets/thyroid_ultrasonic_image/batch1_image/dataset/209_023.Jpg\n",
      "[WARNING] No valid images for patient: 209, skipping\n",
      "[SKIPPED] Missing file: datasets/thyroid_ultrasonic_image/batch1_image/dataset/210_004.Jpg\n"
     ]
    },
    {
     "name": "stderr",
     "output_type": "stream",
     "text": [
      "Extracting patient features:  35%|███▌      | 211/601 [03:57<04:41,  1.39it/s]"
     ]
    },
    {
     "name": "stdout",
     "output_type": "stream",
     "text": [
      "[SKIPPED] Missing file: datasets/thyroid_ultrasonic_image/batch1_image/dataset/210_009.Jpg\n",
      "[SKIPPED] Missing file: datasets/thyroid_ultrasonic_image/batch1_image/dataset/210_010.Jpg\n",
      "[SKIPPED] Missing file: datasets/thyroid_ultrasonic_image/batch1_image/dataset/210_011.Jpg\n",
      "[SKIPPED] Missing file: datasets/thyroid_ultrasonic_image/batch1_image/dataset/210_012.Jpg\n",
      "[SKIPPED] Missing file: datasets/thyroid_ultrasonic_image/batch1_image/dataset/210_013.Jpg\n",
      "[SKIPPED] Missing file: datasets/thyroid_ultrasonic_image/batch1_image/dataset/211_009.Jpg\n"
     ]
    },
    {
     "name": "stderr",
     "output_type": "stream",
     "text": [
      "Extracting patient features:  35%|███▌      | 212/601 [03:58<06:12,  1.05it/s]"
     ]
    },
    {
     "name": "stdout",
     "output_type": "stream",
     "text": [
      "[SKIPPED] Missing file: datasets/thyroid_ultrasonic_image/batch1_image/dataset/211_013.Jpg\n",
      "[SKIPPED] Missing file: datasets/thyroid_ultrasonic_image/batch1_image/dataset/211_014.Jpg\n",
      "[SKIPPED] Missing file: datasets/thyroid_ultrasonic_image/batch1_image/dataset/211_015.Jpg\n",
      "[SKIPPED] Missing file: datasets/thyroid_ultrasonic_image/batch1_image/dataset/211_016.Jpg\n",
      "[SKIPPED] Missing file: datasets/thyroid_ultrasonic_image/batch1_image/dataset/211_017.Jpg\n",
      "[SKIPPED] Missing file: datasets/thyroid_ultrasonic_image/batch1_image/dataset/211_018.Jpg\n",
      "[SKIPPED] Missing file: datasets/thyroid_ultrasonic_image/batch1_image/dataset/211_019.Jpg\n",
      "[SKIPPED] Missing file: datasets/thyroid_ultrasonic_image/batch1_image/dataset/212_015.Jpg\n",
      "[SKIPPED] Missing file: datasets/thyroid_ultrasonic_image/batch1_image/dataset/212_016.Jpg\n",
      "[SKIPPED] Missing file: datasets/thyroid_ultrasonic_image/batch1_image/dataset/212_018.Jpg\n",
      "[SKIPPED] Missing file: datasets/thyroid_ultrasonic_image/batch1_image/dataset/212_019.Jpg\n",
      "[SKIPPED] Missing file: datasets/thyroid_ultrasonic_image/batch1_image/dataset/212_021.Jpg\n",
      "[SKIPPED] Missing file: datasets/thyroid_ultrasonic_image/batch1_image/dataset/212_023.Jpg\n",
      "[WARNING] No valid images for patient: 212, skipping\n"
     ]
    },
    {
     "name": "stderr",
     "output_type": "stream",
     "text": [
      "Extracting patient features:  36%|███▌      | 215/601 [04:01<06:11,  1.04it/s]"
     ]
    },
    {
     "name": "stdout",
     "output_type": "stream",
     "text": [
      "[SKIPPED] Missing file: datasets/thyroid_ultrasonic_image/batch1_image/dataset/214_011.Jpg\n",
      "[SKIPPED] Missing file: datasets/thyroid_ultrasonic_image/batch1_image/dataset/214_012.Jpg\n",
      "[SKIPPED] Missing file: datasets/thyroid_ultrasonic_image/batch1_image/dataset/214_013.Jpg\n",
      "[SKIPPED] Missing file: datasets/thyroid_ultrasonic_image/batch1_image/dataset/214_014.Jpg\n",
      "[SKIPPED] Missing file: datasets/thyroid_ultrasonic_image/batch1_image/dataset/214_015.Jpg\n",
      "[SKIPPED] Missing file: datasets/thyroid_ultrasonic_image/batch1_image/dataset/214_016.Jpg\n",
      "[SKIPPED] Missing file: datasets/thyroid_ultrasonic_image/batch1_image/dataset/214_017.Jpg\n",
      "[SKIPPED] Missing file: datasets/thyroid_ultrasonic_image/batch1_image/dataset/214_018.Jpg\n"
     ]
    },
    {
     "name": "stderr",
     "output_type": "stream",
     "text": [
      "Extracting patient features:  36%|███▌      | 216/601 [04:02<06:45,  1.05s/it]"
     ]
    },
    {
     "name": "stdout",
     "output_type": "stream",
     "text": [
      "[SKIPPED] Missing file: datasets/thyroid_ultrasonic_image/batch1_image/dataset/215_009.Jpg\n",
      "[SKIPPED] Missing file: datasets/thyroid_ultrasonic_image/batch1_image/dataset/215_010.Jpg\n",
      "[SKIPPED] Missing file: datasets/thyroid_ultrasonic_image/batch1_image/dataset/215_011.Jpg\n",
      "[SKIPPED] Missing file: datasets/thyroid_ultrasonic_image/batch1_image/dataset/215_015.Jpg\n"
     ]
    },
    {
     "name": "stderr",
     "output_type": "stream",
     "text": [
      "Extracting patient features:  36%|███▌      | 217/601 [04:03<05:53,  1.09it/s]"
     ]
    },
    {
     "name": "stdout",
     "output_type": "stream",
     "text": [
      "[SKIPPED] Missing file: datasets/thyroid_ultrasonic_image/batch1_image/dataset/217_024.Jpg\n",
      "[SKIPPED] Missing file: datasets/thyroid_ultrasonic_image/batch1_image/dataset/217_025.Jpg\n",
      "[SKIPPED] Missing file: datasets/thyroid_ultrasonic_image/batch1_image/dataset/217_026.Jpg\n",
      "[SKIPPED] Missing file: datasets/thyroid_ultrasonic_image/batch1_image/dataset/217_027.Jpg\n",
      "[WARNING] No valid images for patient: 217, skipping\n"
     ]
    },
    {
     "name": "stderr",
     "output_type": "stream",
     "text": [
      "Extracting patient features:  36%|███▋      | 219/601 [04:04<04:30,  1.41it/s]"
     ]
    },
    {
     "name": "stdout",
     "output_type": "stream",
     "text": [
      "[SKIPPED] Missing file: datasets/thyroid_ultrasonic_image/batch1_image/dataset/218_010.Jpg\n",
      "[SKIPPED] Missing file: datasets/thyroid_ultrasonic_image/batch1_image/dataset/218_011.Jpg\n",
      "[SKIPPED] Missing file: datasets/thyroid_ultrasonic_image/batch1_image/dataset/218_012.Jpg\n",
      "[SKIPPED] Missing file: datasets/thyroid_ultrasonic_image/batch1_image/dataset/218_013.Jpg\n",
      "[SKIPPED] Missing file: datasets/thyroid_ultrasonic_image/batch1_image/dataset/218_014.Jpg\n",
      "[SKIPPED] Missing file: datasets/thyroid_ultrasonic_image/batch1_image/dataset/218_015.Jpg\n",
      "[SKIPPED] Missing file: datasets/thyroid_ultrasonic_image/batch1_image/dataset/218_016.Jpg\n",
      "[SKIPPED] Missing file: datasets/thyroid_ultrasonic_image/batch1_image/dataset/218_017.Jpg\n",
      "[SKIPPED] Missing file: datasets/thyroid_ultrasonic_image/batch1_image/dataset/218_018.Jpg\n",
      "[SKIPPED] Missing file: datasets/thyroid_ultrasonic_image/batch1_image/dataset/218_019.Jpg\n",
      "[SKIPPED] Missing file: datasets/thyroid_ultrasonic_image/batch1_image/dataset/218_020.Jpg\n",
      "[SKIPPED] Missing file: datasets/thyroid_ultrasonic_image/batch1_image/dataset/219_001.Jpg\n",
      "[SKIPPED] Missing file: datasets/thyroid_ultrasonic_image/batch1_image/dataset/219_002.Jpg\n",
      "[SKIPPED] Missing file: datasets/thyroid_ultrasonic_image/batch1_image/dataset/219_003.Jpg\n",
      "[SKIPPED] Missing file: datasets/thyroid_ultrasonic_image/batch1_image/dataset/219_004.Jpg\n",
      "[SKIPPED] Missing file: datasets/thyroid_ultrasonic_image/batch1_image/dataset/219_005.Jpg\n",
      "[SKIPPED] Missing file: datasets/thyroid_ultrasonic_image/batch1_image/dataset/219_006.Jpg\n",
      "[SKIPPED] Missing file: datasets/thyroid_ultrasonic_image/batch1_image/dataset/219_007.Jpg\n",
      "[SKIPPED] Missing file: datasets/thyroid_ultrasonic_image/batch1_image/dataset/219_008.Jpg\n",
      "[SKIPPED] Missing file: datasets/thyroid_ultrasonic_image/batch1_image/dataset/219_009.Jpg\n",
      "[SKIPPED] Missing file: datasets/thyroid_ultrasonic_image/batch1_image/dataset/219_010.Jpg\n",
      "[SKIPPED] Missing file: datasets/thyroid_ultrasonic_image/batch1_image/dataset/219_011.Jpg\n",
      "[SKIPPED] Missing file: datasets/thyroid_ultrasonic_image/batch1_image/dataset/219_012.Jpg\n",
      "[SKIPPED] Missing file: datasets/thyroid_ultrasonic_image/batch1_image/dataset/219_013.Jpg\n",
      "[SKIPPED] Missing file: datasets/thyroid_ultrasonic_image/batch1_image/dataset/219_014.Jpg\n",
      "[SKIPPED] Missing file: datasets/thyroid_ultrasonic_image/batch1_image/dataset/219_015.Jpg\n",
      "[SKIPPED] Missing file: datasets/thyroid_ultrasonic_image/batch1_image/dataset/219_016.Jpg\n",
      "[SKIPPED] Missing file: datasets/thyroid_ultrasonic_image/batch1_image/dataset/219_017.Jpg\n",
      "[SKIPPED] Missing file: datasets/thyroid_ultrasonic_image/batch1_image/dataset/219_018.Jpg\n",
      "[SKIPPED] Missing file: datasets/thyroid_ultrasonic_image/batch1_image/dataset/219_019.Jpg\n",
      "[SKIPPED] Missing file: datasets/thyroid_ultrasonic_image/batch1_image/dataset/219_020.Jpg\n",
      "[SKIPPED] Missing file: datasets/thyroid_ultrasonic_image/batch1_image/dataset/219_021.Jpg\n",
      "[WARNING] No valid images for patient: 219, skipping\n",
      "[SKIPPED] Missing file: datasets/thyroid_ultrasonic_image/batch1_image/dataset/220_005.Jpg\n",
      "[SKIPPED] Missing file: datasets/thyroid_ultrasonic_image/batch1_image/dataset/220_006.Jpg\n"
     ]
    },
    {
     "name": "stderr",
     "output_type": "stream",
     "text": [
      "Extracting patient features:  37%|███▋      | 221/601 [04:06<06:13,  1.02it/s]"
     ]
    },
    {
     "name": "stdout",
     "output_type": "stream",
     "text": [
      "[SKIPPED] Missing file: datasets/thyroid_ultrasonic_image/batch1_image/dataset/221_021.Jpg\n",
      "[SKIPPED] Missing file: datasets/thyroid_ultrasonic_image/batch1_image/dataset/221_022.Jpg\n",
      "[SKIPPED] Missing file: datasets/thyroid_ultrasonic_image/batch1_image/dataset/221_023.Jpg\n",
      "[SKIPPED] Missing file: datasets/thyroid_ultrasonic_image/batch1_image/dataset/221_024.Jpg\n",
      "[SKIPPED] Missing file: datasets/thyroid_ultrasonic_image/batch1_image/dataset/221_025.Jpg\n",
      "[SKIPPED] Missing file: datasets/thyroid_ultrasonic_image/batch1_image/dataset/221_026.Jpg\n",
      "[SKIPPED] Missing file: datasets/thyroid_ultrasonic_image/batch1_image/dataset/221_027.Jpg\n",
      "[SKIPPED] Missing file: datasets/thyroid_ultrasonic_image/batch1_image/dataset/221_028.Jpg\n",
      "[WARNING] No valid images for patient: 221, skipping\n"
     ]
    },
    {
     "name": "stderr",
     "output_type": "stream",
     "text": [
      "Extracting patient features:  37%|███▋      | 223/601 [04:07<05:13,  1.21it/s]"
     ]
    },
    {
     "name": "stdout",
     "output_type": "stream",
     "text": [
      "[SKIPPED] Missing file: datasets/thyroid_ultrasonic_image/batch1_image/dataset/223_008.Jpg\n"
     ]
    },
    {
     "name": "stderr",
     "output_type": "stream",
     "text": [
      "Extracting patient features:  37%|███▋      | 224/601 [04:09<06:31,  1.04s/it]"
     ]
    },
    {
     "name": "stdout",
     "output_type": "stream",
     "text": [
      "[SKIPPED] Missing file: datasets/thyroid_ultrasonic_image/batch1_image/dataset/223_011.Jpg\n",
      "[SKIPPED] Missing file: datasets/thyroid_ultrasonic_image/batch1_image/dataset/224_001.Jpg\n",
      "[SKIPPED] Missing file: datasets/thyroid_ultrasonic_image/batch1_image/dataset/224_002.Jpg\n",
      "[SKIPPED] Missing file: datasets/thyroid_ultrasonic_image/batch1_image/dataset/224_003.Jpg\n",
      "[SKIPPED] Missing file: datasets/thyroid_ultrasonic_image/batch1_image/dataset/224_004.Jpg\n",
      "[SKIPPED] Missing file: datasets/thyroid_ultrasonic_image/batch1_image/dataset/224_005.Jpg\n",
      "[SKIPPED] Missing file: datasets/thyroid_ultrasonic_image/batch1_image/dataset/224_006.Jpg\n",
      "[SKIPPED] Missing file: datasets/thyroid_ultrasonic_image/batch1_image/dataset/224_007.Jpg\n",
      "[SKIPPED] Missing file: datasets/thyroid_ultrasonic_image/batch1_image/dataset/224_010.Jpg\n",
      "[WARNING] No valid images for patient: 224, skipping\n"
     ]
    },
    {
     "name": "stderr",
     "output_type": "stream",
     "text": [
      "Extracting patient features:  38%|███▊      | 226/601 [04:10<05:11,  1.20it/s]"
     ]
    },
    {
     "name": "stdout",
     "output_type": "stream",
     "text": [
      "[SKIPPED] Missing file: datasets/thyroid_ultrasonic_image/batch1_image/dataset/225_006.Jpg\n",
      "[SKIPPED] Missing file: datasets/thyroid_ultrasonic_image/batch1_image/dataset/225_007.Jpg\n",
      "[SKIPPED] Missing file: datasets/thyroid_ultrasonic_image/batch1_image/dataset/226_005.Jpg\n"
     ]
    },
    {
     "name": "stderr",
     "output_type": "stream",
     "text": [
      "Extracting patient features:  38%|███▊      | 227/601 [04:11<04:36,  1.35it/s]"
     ]
    },
    {
     "name": "stdout",
     "output_type": "stream",
     "text": [
      "[SKIPPED] Missing file: datasets/thyroid_ultrasonic_image/batch1_image/dataset/226_008.Jpg\n",
      "[SKIPPED] Missing file: datasets/thyroid_ultrasonic_image/batch1_image/dataset/226_009.Jpg\n",
      "[SKIPPED] Missing file: datasets/thyroid_ultrasonic_image/batch1_image/dataset/226_010.Jpg\n",
      "[SKIPPED] Missing file: datasets/thyroid_ultrasonic_image/batch1_image/dataset/227_034.Jpg\n",
      "[SKIPPED] Missing file: datasets/thyroid_ultrasonic_image/batch1_image/dataset/227_035.Jpg\n",
      "[SKIPPED] Missing file: datasets/thyroid_ultrasonic_image/batch1_image/dataset/227_036.Jpg\n",
      "[SKIPPED] Missing file: datasets/thyroid_ultrasonic_image/batch1_image/dataset/227_037.Jpg\n",
      "[SKIPPED] Missing file: datasets/thyroid_ultrasonic_image/batch1_image/dataset/227_038.Jpg\n",
      "[SKIPPED] Missing file: datasets/thyroid_ultrasonic_image/batch1_image/dataset/227_039.Jpg\n",
      "[SKIPPED] Missing file: datasets/thyroid_ultrasonic_image/batch1_image/dataset/227_040.Jpg\n",
      "[SKIPPED] Missing file: datasets/thyroid_ultrasonic_image/batch1_image/dataset/227_041.Jpg\n",
      "[SKIPPED] Missing file: datasets/thyroid_ultrasonic_image/batch1_image/dataset/227_042.Jpg\n",
      "[WARNING] No valid images for patient: 227, skipping\n"
     ]
    },
    {
     "name": "stderr",
     "output_type": "stream",
     "text": [
      "Extracting patient features:  38%|███▊      | 229/601 [04:11<03:23,  1.83it/s]"
     ]
    },
    {
     "name": "stdout",
     "output_type": "stream",
     "text": [
      "[SKIPPED] Missing file: datasets/thyroid_ultrasonic_image/batch1_image/dataset/228_004.Jpg\n",
      "[SKIPPED] Missing file: datasets/thyroid_ultrasonic_image/batch1_image/dataset/228_005.Jpg\n",
      "[SKIPPED] Missing file: datasets/thyroid_ultrasonic_image/batch1_image/dataset/228_006.Jpg\n",
      "[SKIPPED] Missing file: datasets/thyroid_ultrasonic_image/batch1_image/dataset/228_007.Jpg\n",
      "[SKIPPED] Missing file: datasets/thyroid_ultrasonic_image/batch1_image/dataset/228_008.Jpg\n",
      "[SKIPPED] Missing file: datasets/thyroid_ultrasonic_image/batch1_image/dataset/228_009.Jpg\n"
     ]
    },
    {
     "name": "stderr",
     "output_type": "stream",
     "text": [
      "Extracting patient features:  38%|███▊      | 230/601 [04:13<04:41,  1.32it/s]"
     ]
    },
    {
     "name": "stdout",
     "output_type": "stream",
     "text": [
      "[SKIPPED] Missing file: datasets/thyroid_ultrasonic_image/batch1_image/dataset/230_013.Jpg\n",
      "[SKIPPED] Missing file: datasets/thyroid_ultrasonic_image/batch1_image/dataset/230_014.Jpg\n",
      "[SKIPPED] Missing file: datasets/thyroid_ultrasonic_image/batch1_image/dataset/230_015.Jpg\n",
      "[SKIPPED] Missing file: datasets/thyroid_ultrasonic_image/batch1_image/dataset/230_016.Jpg\n",
      "[SKIPPED] Missing file: datasets/thyroid_ultrasonic_image/batch1_image/dataset/230_017.Jpg\n",
      "[SKIPPED] Missing file: datasets/thyroid_ultrasonic_image/batch1_image/dataset/230_018.Jpg\n",
      "[SKIPPED] Missing file: datasets/thyroid_ultrasonic_image/batch1_image/dataset/230_019.Jpg\n",
      "[SKIPPED] Missing file: datasets/thyroid_ultrasonic_image/batch1_image/dataset/230_020.Jpg\n",
      "[SKIPPED] Missing file: datasets/thyroid_ultrasonic_image/batch1_image/dataset/230_021.Jpg\n",
      "[SKIPPED] Missing file: datasets/thyroid_ultrasonic_image/batch1_image/dataset/230_022.Jpg\n",
      "[SKIPPED] Missing file: datasets/thyroid_ultrasonic_image/batch1_image/dataset/230_023.Jpg\n",
      "[SKIPPED] Missing file: datasets/thyroid_ultrasonic_image/batch1_image/dataset/230_024.Jpg\n",
      "[SKIPPED] Missing file: datasets/thyroid_ultrasonic_image/batch1_image/dataset/230_025.Jpg\n",
      "[SKIPPED] Missing file: datasets/thyroid_ultrasonic_image/batch1_image/dataset/230_026.Jpg\n",
      "[WARNING] No valid images for patient: 230, skipping\n"
     ]
    },
    {
     "name": "stderr",
     "output_type": "stream",
     "text": [
      "Extracting patient features:  39%|███▊      | 232/601 [04:14<04:09,  1.48it/s]"
     ]
    },
    {
     "name": "stdout",
     "output_type": "stream",
     "text": [
      "[SKIPPED] Missing file: datasets/thyroid_ultrasonic_image/batch1_image/dataset/231_006.Jpg\n",
      "[SKIPPED] Missing file: datasets/thyroid_ultrasonic_image/batch1_image/dataset/231_007.Jpg\n",
      "[SKIPPED] Missing file: datasets/thyroid_ultrasonic_image/batch1_image/dataset/231_008.Jpg\n",
      "[SKIPPED] Missing file: datasets/thyroid_ultrasonic_image/batch1_image/dataset/231_009.Jpg\n",
      "[SKIPPED] Missing file: datasets/thyroid_ultrasonic_image/batch1_image/dataset/231_011.Jpg\n"
     ]
    },
    {
     "name": "stderr",
     "output_type": "stream",
     "text": [
      "Extracting patient features:  39%|███▉      | 234/601 [04:15<03:54,  1.57it/s]"
     ]
    },
    {
     "name": "stdout",
     "output_type": "stream",
     "text": [
      "[SKIPPED] Missing file: datasets/thyroid_ultrasonic_image/batch1_image/dataset/233_002.Jpg\n",
      "[SKIPPED] Missing file: datasets/thyroid_ultrasonic_image/batch1_image/dataset/233_004.Jpg\n"
     ]
    },
    {
     "name": "stderr",
     "output_type": "stream",
     "text": [
      "Extracting patient features:  39%|███▉      | 237/601 [04:19<06:47,  1.12s/it]"
     ]
    },
    {
     "name": "stdout",
     "output_type": "stream",
     "text": [
      "[SKIPPED] Missing file: datasets/thyroid_ultrasonic_image/batch1_image/dataset/236_007.Jpg\n",
      "[SKIPPED] Missing file: datasets/thyroid_ultrasonic_image/batch1_image/dataset/236_008.Jpg\n",
      "[SKIPPED] Missing file: datasets/thyroid_ultrasonic_image/batch1_image/dataset/236_009.Jpg\n",
      "[SKIPPED] Missing file: datasets/thyroid_ultrasonic_image/batch1_image/dataset/236_010.Jpg\n",
      "[SKIPPED] Missing file: datasets/thyroid_ultrasonic_image/batch1_image/dataset/236_011.Jpg\n",
      "[SKIPPED] Missing file: datasets/thyroid_ultrasonic_image/batch1_image/dataset/236_012.Jpg\n",
      "[SKIPPED] Missing file: datasets/thyroid_ultrasonic_image/batch1_image/dataset/236_013.Jpg\n",
      "[SKIPPED] Missing file: datasets/thyroid_ultrasonic_image/batch1_image/dataset/236_014.Jpg\n",
      "[SKIPPED] Missing file: datasets/thyroid_ultrasonic_image/batch1_image/dataset/236_015.Jpg\n",
      "[SKIPPED] Missing file: datasets/thyroid_ultrasonic_image/batch1_image/dataset/236_016.Jpg\n",
      "[SKIPPED] Missing file: datasets/thyroid_ultrasonic_image/batch1_image/dataset/236_017.Jpg\n"
     ]
    },
    {
     "name": "stderr",
     "output_type": "stream",
     "text": [
      "Extracting patient features:  40%|███▉      | 238/601 [04:21<07:51,  1.30s/it]"
     ]
    },
    {
     "name": "stdout",
     "output_type": "stream",
     "text": [
      "[SKIPPED] Missing file: datasets/thyroid_ultrasonic_image/batch1_image/dataset/237_010.Jpg\n",
      "[SKIPPED] Missing file: datasets/thyroid_ultrasonic_image/batch1_image/dataset/237_011.Jpg\n",
      "[SKIPPED] Missing file: datasets/thyroid_ultrasonic_image/batch1_image/dataset/237_012.Jpg\n",
      "[SKIPPED] Missing file: datasets/thyroid_ultrasonic_image/batch1_image/dataset/237_013.Jpg\n",
      "[SKIPPED] Missing file: datasets/thyroid_ultrasonic_image/batch1_image/dataset/237_015.Jpg\n",
      "[SKIPPED] Missing file: datasets/thyroid_ultrasonic_image/batch1_image/dataset/238_001.Jpg\n",
      "[SKIPPED] Missing file: datasets/thyroid_ultrasonic_image/batch1_image/dataset/238_002.Jpg\n",
      "[SKIPPED] Missing file: datasets/thyroid_ultrasonic_image/batch1_image/dataset/238_003.Jpg\n",
      "[SKIPPED] Missing file: datasets/thyroid_ultrasonic_image/batch1_image/dataset/238_004.Jpg\n",
      "[SKIPPED] Missing file: datasets/thyroid_ultrasonic_image/batch1_image/dataset/238_005.Jpg\n",
      "[SKIPPED] Missing file: datasets/thyroid_ultrasonic_image/batch1_image/dataset/238_006.Jpg\n",
      "[SKIPPED] Missing file: datasets/thyroid_ultrasonic_image/batch1_image/dataset/238_007.Jpg\n",
      "[SKIPPED] Missing file: datasets/thyroid_ultrasonic_image/batch1_image/dataset/238_008.Jpg\n",
      "[SKIPPED] Missing file: datasets/thyroid_ultrasonic_image/batch1_image/dataset/238_009.Jpg\n",
      "[SKIPPED] Missing file: datasets/thyroid_ultrasonic_image/batch1_image/dataset/238_010.Jpg\n",
      "[SKIPPED] Missing file: datasets/thyroid_ultrasonic_image/batch1_image/dataset/238_011.Jpg\n",
      "[SKIPPED] Missing file: datasets/thyroid_ultrasonic_image/batch1_image/dataset/238_012.Jpg\n",
      "[SKIPPED] Missing file: datasets/thyroid_ultrasonic_image/batch1_image/dataset/238_021.Jpg\n",
      "[SKIPPED] Missing file: datasets/thyroid_ultrasonic_image/batch1_image/dataset/238_022.Jpg\n",
      "[SKIPPED] Missing file: datasets/thyroid_ultrasonic_image/batch1_image/dataset/238_023.Jpg\n",
      "[SKIPPED] Missing file: datasets/thyroid_ultrasonic_image/batch1_image/dataset/238_025.Jpg\n",
      "[SKIPPED] Missing file: datasets/thyroid_ultrasonic_image/batch1_image/dataset/238_026.Jpg\n",
      "[SKIPPED] Missing file: datasets/thyroid_ultrasonic_image/batch1_image/dataset/238_027.Jpg\n",
      "[SKIPPED] Missing file: datasets/thyroid_ultrasonic_image/batch1_image/dataset/238_028.Jpg\n",
      "[SKIPPED] Missing file: datasets/thyroid_ultrasonic_image/batch1_image/dataset/238_029.Jpg\n",
      "[SKIPPED] Missing file: datasets/thyroid_ultrasonic_image/batch1_image/dataset/238_030.Jpg\n",
      "[WARNING] No valid images for patient: 238, skipping\n",
      "[SKIPPED] Missing file: datasets/thyroid_ultrasonic_image/batch1_image/dataset/239_001.Jpg\n",
      "[SKIPPED] Missing file: datasets/thyroid_ultrasonic_image/batch1_image/dataset/239_002.Jpg\n",
      "[SKIPPED] Missing file: datasets/thyroid_ultrasonic_image/batch1_image/dataset/239_003.Jpg\n",
      "[SKIPPED] Missing file: datasets/thyroid_ultrasonic_image/batch1_image/dataset/239_004.Jpg\n",
      "[SKIPPED] Missing file: datasets/thyroid_ultrasonic_image/batch1_image/dataset/239_005.Jpg\n",
      "[SKIPPED] Missing file: datasets/thyroid_ultrasonic_image/batch1_image/dataset/239_006.Jpg\n",
      "[SKIPPED] Missing file: datasets/thyroid_ultrasonic_image/batch1_image/dataset/239_007.Jpg\n",
      "[WARNING] No valid images for patient: 239, skipping\n",
      "[SKIPPED] Missing file: datasets/thyroid_ultrasonic_image/batch1_image/dataset/240_009.Jpg\n"
     ]
    },
    {
     "name": "stderr",
     "output_type": "stream",
     "text": [
      "Extracting patient features:  40%|████      | 241/601 [04:23<05:43,  1.05it/s]"
     ]
    },
    {
     "name": "stdout",
     "output_type": "stream",
     "text": [
      "[SKIPPED] Missing file: datasets/thyroid_ultrasonic_image/batch1_image/dataset/240_011.Jpg\n",
      "[SKIPPED] Missing file: datasets/thyroid_ultrasonic_image/batch1_image/dataset/240_012.Jpg\n",
      "[SKIPPED] Missing file: datasets/thyroid_ultrasonic_image/batch1_image/dataset/240_013.Jpg\n",
      "[SKIPPED] Missing file: datasets/thyroid_ultrasonic_image/batch1_image/dataset/240_014.Jpg\n",
      "[SKIPPED] Missing file: datasets/thyroid_ultrasonic_image/batch1_image/dataset/240_015.Jpg\n",
      "[SKIPPED] Missing file: datasets/thyroid_ultrasonic_image/batch1_image/dataset/240_016.Jpg\n"
     ]
    },
    {
     "name": "stderr",
     "output_type": "stream",
     "text": [
      "Extracting patient features:  40%|████      | 242/601 [04:25<06:28,  1.08s/it]"
     ]
    },
    {
     "name": "stdout",
     "output_type": "stream",
     "text": [
      "[SKIPPED] Missing file: datasets/thyroid_ultrasonic_image/batch1_image/dataset/241_007.Jpg\n"
     ]
    },
    {
     "name": "stderr",
     "output_type": "stream",
     "text": [
      "Extracting patient features:  41%|████      | 245/601 [04:29<08:20,  1.41s/it]"
     ]
    },
    {
     "name": "stdout",
     "output_type": "stream",
     "text": [
      "[SKIPPED] Missing file: datasets/thyroid_ultrasonic_image/batch1_image/dataset/244_012.Jpg\n",
      "[SKIPPED] Missing file: datasets/thyroid_ultrasonic_image/batch1_image/dataset/244_013.Jpg\n"
     ]
    },
    {
     "name": "stderr",
     "output_type": "stream",
     "text": [
      "Extracting patient features:  41%|████      | 247/601 [04:33<08:43,  1.48s/it]"
     ]
    },
    {
     "name": "stdout",
     "output_type": "stream",
     "text": [
      "[SKIPPED] Missing file: datasets/thyroid_ultrasonic_image/batch1_image/dataset/246_006.Jpg\n",
      "[SKIPPED] Missing file: datasets/thyroid_ultrasonic_image/batch1_image/dataset/246_008.Jpg\n",
      "[SKIPPED] Missing file: datasets/thyroid_ultrasonic_image/batch1_image/dataset/246_009.Jpg\n"
     ]
    },
    {
     "name": "stderr",
     "output_type": "stream",
     "text": [
      "Extracting patient features:  41%|████▏     | 248/601 [04:33<07:17,  1.24s/it]"
     ]
    },
    {
     "name": "stdout",
     "output_type": "stream",
     "text": [
      "[SKIPPED] Missing file: datasets/thyroid_ultrasonic_image/batch1_image/dataset/247_004.Jpg\n",
      "[SKIPPED] Missing file: datasets/thyroid_ultrasonic_image/batch1_image/dataset/247_005.Jpg\n",
      "[SKIPPED] Missing file: datasets/thyroid_ultrasonic_image/batch1_image/dataset/247_006.Jpg\n",
      "[SKIPPED] Missing file: datasets/thyroid_ultrasonic_image/batch1_image/dataset/247_007.Jpg\n",
      "[SKIPPED] Missing file: datasets/thyroid_ultrasonic_image/batch1_image/dataset/247_008.Jpg\n",
      "[SKIPPED] Missing file: datasets/thyroid_ultrasonic_image/batch1_image/dataset/247_009.Jpg\n",
      "[SKIPPED] Missing file: datasets/thyroid_ultrasonic_image/batch1_image/dataset/247_010.Jpg\n",
      "[SKIPPED] Missing file: datasets/thyroid_ultrasonic_image/batch1_image/dataset/247_011.Jpg\n",
      "[SKIPPED] Missing file: datasets/thyroid_ultrasonic_image/batch1_image/dataset/248_006.Jpg\n",
      "[SKIPPED] Missing file: datasets/thyroid_ultrasonic_image/batch1_image/dataset/248_007.Jpg\n"
     ]
    },
    {
     "name": "stderr",
     "output_type": "stream",
     "text": [
      "Extracting patient features:  41%|████▏     | 249/601 [04:35<08:45,  1.49s/it]"
     ]
    },
    {
     "name": "stdout",
     "output_type": "stream",
     "text": [
      "[SKIPPED] Missing file: datasets/thyroid_ultrasonic_image/batch1_image/dataset/249_001.Jpg\n",
      "[SKIPPED] Missing file: datasets/thyroid_ultrasonic_image/batch1_image/dataset/249_002.Jpg\n",
      "[SKIPPED] Missing file: datasets/thyroid_ultrasonic_image/batch1_image/dataset/249_003.Jpg\n",
      "[SKIPPED] Missing file: datasets/thyroid_ultrasonic_image/batch1_image/dataset/249_004.Jpg\n",
      "[SKIPPED] Missing file: datasets/thyroid_ultrasonic_image/batch1_image/dataset/249_005.Jpg\n",
      "[SKIPPED] Missing file: datasets/thyroid_ultrasonic_image/batch1_image/dataset/249_006.Jpg\n",
      "[SKIPPED] Missing file: datasets/thyroid_ultrasonic_image/batch1_image/dataset/249_007.Jpg\n",
      "[SKIPPED] Missing file: datasets/thyroid_ultrasonic_image/batch1_image/dataset/249_011.Jpg\n",
      "[WARNING] No valid images for patient: 249, skipping\n"
     ]
    },
    {
     "name": "stderr",
     "output_type": "stream",
     "text": [
      "Extracting patient features:  42%|████▏     | 252/601 [04:39<07:37,  1.31s/it]"
     ]
    },
    {
     "name": "stdout",
     "output_type": "stream",
     "text": [
      "[SKIPPED] Missing file: datasets/thyroid_ultrasonic_image/batch1_image/dataset/251_011.Jpg\n",
      "[SKIPPED] Missing file: datasets/thyroid_ultrasonic_image/batch1_image/dataset/251_013.Jpg\n"
     ]
    },
    {
     "name": "stderr",
     "output_type": "stream",
     "text": [
      "Extracting patient features:  42%|████▏     | 254/601 [04:42<08:35,  1.49s/it]"
     ]
    },
    {
     "name": "stdout",
     "output_type": "stream",
     "text": [
      "[SKIPPED] Missing file: datasets/thyroid_ultrasonic_image/batch1_image/dataset/253_010.Jpg\n",
      "[SKIPPED] Missing file: datasets/thyroid_ultrasonic_image/batch1_image/dataset/253_011.Jpg\n",
      "[SKIPPED] Missing file: datasets/thyroid_ultrasonic_image/batch1_image/dataset/254_030.Jpg\n",
      "[SKIPPED] Missing file: datasets/thyroid_ultrasonic_image/batch1_image/dataset/254_031.Jpg\n",
      "[SKIPPED] Missing file: datasets/thyroid_ultrasonic_image/batch1_image/dataset/254_032.Jpg\n",
      "[SKIPPED] Missing file: datasets/thyroid_ultrasonic_image/batch1_image/dataset/254_033.Jpg\n",
      "[SKIPPED] Missing file: datasets/thyroid_ultrasonic_image/batch1_image/dataset/254_034.Jpg\n",
      "[SKIPPED] Missing file: datasets/thyroid_ultrasonic_image/batch1_image/dataset/254_036.Jpg\n",
      "[SKIPPED] Missing file: datasets/thyroid_ultrasonic_image/batch1_image/dataset/254_037.Jpg\n",
      "[SKIPPED] Missing file: datasets/thyroid_ultrasonic_image/batch1_image/dataset/254_038.Jpg\n",
      "[SKIPPED] Missing file: datasets/thyroid_ultrasonic_image/batch1_image/dataset/254_039.Jpg\n",
      "[SKIPPED] Missing file: datasets/thyroid_ultrasonic_image/batch1_image/dataset/254_040.Jpg\n",
      "[SKIPPED] Missing file: datasets/thyroid_ultrasonic_image/batch1_image/dataset/254_042.Jpg\n",
      "[SKIPPED] Missing file: datasets/thyroid_ultrasonic_image/batch1_image/dataset/254_043.Jpg\n",
      "[WARNING] No valid images for patient: 254, skipping\n"
     ]
    },
    {
     "name": "stderr",
     "output_type": "stream",
     "text": [
      "Extracting patient features:  43%|████▎     | 256/601 [04:43<06:07,  1.06s/it]"
     ]
    },
    {
     "name": "stdout",
     "output_type": "stream",
     "text": [
      "[SKIPPED] Missing file: datasets/thyroid_ultrasonic_image/batch1_image/dataset/255_006.Jpg\n",
      "[SKIPPED] Missing file: datasets/thyroid_ultrasonic_image/batch1_image/dataset/255_007.Jpg\n",
      "[SKIPPED] Missing file: datasets/thyroid_ultrasonic_image/batch1_image/dataset/255_008.Jpg\n",
      "[SKIPPED] Missing file: datasets/thyroid_ultrasonic_image/batch1_image/dataset/255_009.Jpg\n"
     ]
    },
    {
     "name": "stderr",
     "output_type": "stream",
     "text": [
      "Extracting patient features:  43%|████▎     | 258/601 [04:45<06:21,  1.11s/it]"
     ]
    },
    {
     "name": "stdout",
     "output_type": "stream",
     "text": [
      "[SKIPPED] Missing file: datasets/thyroid_ultrasonic_image/batch1_image/dataset/257_009.Jpg\n",
      "[SKIPPED] Missing file: datasets/thyroid_ultrasonic_image/batch1_image/dataset/257_010.Jpg\n",
      "[SKIPPED] Missing file: datasets/thyroid_ultrasonic_image/batch1_image/dataset/257_012.Jpg\n",
      "[SKIPPED] Missing file: datasets/thyroid_ultrasonic_image/batch1_image/dataset/257_013.Jpg\n",
      "[SKIPPED] Missing file: datasets/thyroid_ultrasonic_image/batch1_image/dataset/257_014.Jpg\n"
     ]
    },
    {
     "name": "stderr",
     "output_type": "stream",
     "text": [
      "Extracting patient features:  43%|████▎     | 260/601 [04:48<06:37,  1.17s/it]"
     ]
    },
    {
     "name": "stdout",
     "output_type": "stream",
     "text": [
      "[SKIPPED] Missing file: datasets/thyroid_ultrasonic_image/batch1_image/dataset/259_007.Jpg\n",
      "[SKIPPED] Missing file: datasets/thyroid_ultrasonic_image/batch1_image/dataset/259_008.Jpg\n",
      "[SKIPPED] Missing file: datasets/thyroid_ultrasonic_image/batch1_image/dataset/259_009.Jpg\n",
      "[SKIPPED] Missing file: datasets/thyroid_ultrasonic_image/batch1_image/dataset/259_010.Jpg\n",
      "[SKIPPED] Missing file: datasets/thyroid_ultrasonic_image/batch1_image/dataset/259_011.Jpg\n",
      "[SKIPPED] Missing file: datasets/thyroid_ultrasonic_image/batch1_image/dataset/259_012.Jpg\n",
      "[SKIPPED] Missing file: datasets/thyroid_ultrasonic_image/batch1_image/dataset/259_013.Jpg\n",
      "[SKIPPED] Missing file: datasets/thyroid_ultrasonic_image/batch1_image/dataset/259_014.Jpg\n",
      "[SKIPPED] Missing file: datasets/thyroid_ultrasonic_image/batch1_image/dataset/259_015.Jpg\n",
      "[SKIPPED] Missing file: datasets/thyroid_ultrasonic_image/batch1_image/dataset/259_017.Jpg\n"
     ]
    },
    {
     "name": "stderr",
     "output_type": "stream",
     "text": [
      "Extracting patient features:  44%|████▎     | 262/601 [04:52<08:53,  1.57s/it]"
     ]
    },
    {
     "name": "stdout",
     "output_type": "stream",
     "text": [
      "[SKIPPED] Missing file: datasets/thyroid_ultrasonic_image/batch1_image/dataset/262_018.Jpg\n",
      "[SKIPPED] Missing file: datasets/thyroid_ultrasonic_image/batch1_image/dataset/262_019.Jpg\n",
      "[SKIPPED] Missing file: datasets/thyroid_ultrasonic_image/batch1_image/dataset/262_020.Jpg\n",
      "[SKIPPED] Missing file: datasets/thyroid_ultrasonic_image/batch1_image/dataset/262_021.Jpg\n",
      "[SKIPPED] Missing file: datasets/thyroid_ultrasonic_image/batch1_image/dataset/262_022.Jpg\n",
      "[SKIPPED] Missing file: datasets/thyroid_ultrasonic_image/batch1_image/dataset/262_023.Jpg\n",
      "[SKIPPED] Missing file: datasets/thyroid_ultrasonic_image/batch1_image/dataset/262_024.Jpg\n",
      "[SKIPPED] Missing file: datasets/thyroid_ultrasonic_image/batch1_image/dataset/262_027.Jpg\n",
      "[SKIPPED] Missing file: datasets/thyroid_ultrasonic_image/batch1_image/dataset/262_028.Jpg\n",
      "[SKIPPED] Missing file: datasets/thyroid_ultrasonic_image/batch1_image/dataset/262_029.Jpg\n",
      "[SKIPPED] Missing file: datasets/thyroid_ultrasonic_image/batch1_image/dataset/262_030.Jpg\n",
      "[WARNING] No valid images for patient: 262, skipping\n",
      "[SKIPPED] Missing file: datasets/thyroid_ultrasonic_image/batch1_image/dataset/263_003.Jpg\n",
      "[SKIPPED] Missing file: datasets/thyroid_ultrasonic_image/batch1_image/dataset/263_004.Jpg\n",
      "[SKIPPED] Missing file: datasets/thyroid_ultrasonic_image/batch1_image/dataset/263_005.Jpg\n"
     ]
    },
    {
     "name": "stderr",
     "output_type": "stream",
     "text": [
      "Extracting patient features:  44%|████▍     | 264/601 [04:53<05:51,  1.04s/it]"
     ]
    },
    {
     "name": "stdout",
     "output_type": "stream",
     "text": [
      "[SKIPPED] Missing file: datasets/thyroid_ultrasonic_image/batch1_image/dataset/263_007.Jpg\n",
      "[SKIPPED] Missing file: datasets/thyroid_ultrasonic_image/batch1_image/dataset/263_008.Jpg\n",
      "[SKIPPED] Missing file: datasets/thyroid_ultrasonic_image/batch1_image/dataset/263_009.Jpg\n",
      "[SKIPPED] Missing file: datasets/thyroid_ultrasonic_image/batch1_image/dataset/263_010.Jpg\n",
      "[SKIPPED] Missing file: datasets/thyroid_ultrasonic_image/batch1_image/dataset/263_011.Jpg\n",
      "[SKIPPED] Missing file: datasets/thyroid_ultrasonic_image/batch1_image/dataset/263_012.Jpg\n",
      "[SKIPPED] Missing file: datasets/thyroid_ultrasonic_image/batch1_image/dataset/263_013.Jpg\n",
      "[SKIPPED] Missing file: datasets/thyroid_ultrasonic_image/batch1_image/dataset/263_014.Jpg\n",
      "[SKIPPED] Missing file: datasets/thyroid_ultrasonic_image/batch1_image/dataset/263_015.Jpg\n"
     ]
    },
    {
     "name": "stderr",
     "output_type": "stream",
     "text": [
      "Extracting patient features:  44%|████▍     | 265/601 [04:54<05:43,  1.02s/it]"
     ]
    },
    {
     "name": "stdout",
     "output_type": "stream",
     "text": [
      "[SKIPPED] Missing file: datasets/thyroid_ultrasonic_image/batch1_image/dataset/264_005.Jpg\n",
      "[SKIPPED] Missing file: datasets/thyroid_ultrasonic_image/batch1_image/dataset/264_006.Jpg\n",
      "[SKIPPED] Missing file: datasets/thyroid_ultrasonic_image/batch1_image/dataset/264_007.Jpg\n",
      "[SKIPPED] Missing file: datasets/thyroid_ultrasonic_image/batch1_image/dataset/264_008.Jpg\n",
      "[SKIPPED] Missing file: datasets/thyroid_ultrasonic_image/batch1_image/dataset/264_009.Jpg\n",
      "[SKIPPED] Missing file: datasets/thyroid_ultrasonic_image/batch1_image/dataset/264_010.Jpg\n",
      "[SKIPPED] Missing file: datasets/thyroid_ultrasonic_image/batch1_image/dataset/264_011.Jpg\n",
      "[SKIPPED] Missing file: datasets/thyroid_ultrasonic_image/batch1_image/dataset/264_012.Jpg\n"
     ]
    },
    {
     "name": "stderr",
     "output_type": "stream",
     "text": [
      "Extracting patient features:  44%|████▍     | 266/601 [04:55<06:16,  1.12s/it]"
     ]
    },
    {
     "name": "stdout",
     "output_type": "stream",
     "text": [
      "[SKIPPED] Missing file: datasets/thyroid_ultrasonic_image/batch1_image/dataset/265_007.Jpg\n",
      "[SKIPPED] Missing file: datasets/thyroid_ultrasonic_image/batch1_image/dataset/265_008.Jpg\n",
      "[SKIPPED] Missing file: datasets/thyroid_ultrasonic_image/batch1_image/dataset/265_009.Jpg\n",
      "[SKIPPED] Missing file: datasets/thyroid_ultrasonic_image/batch1_image/dataset/265_010.Jpg\n",
      "[SKIPPED] Missing file: datasets/thyroid_ultrasonic_image/batch1_image/dataset/265_011.Jpg\n",
      "[SKIPPED] Missing file: datasets/thyroid_ultrasonic_image/batch1_image/dataset/265_012.Jpg\n",
      "[SKIPPED] Missing file: datasets/thyroid_ultrasonic_image/batch1_image/dataset/265_013.Jpg\n",
      "[SKIPPED] Missing file: datasets/thyroid_ultrasonic_image/batch1_image/dataset/265_014.Jpg\n"
     ]
    },
    {
     "name": "stderr",
     "output_type": "stream",
     "text": [
      "Extracting patient features:  44%|████▍     | 267/601 [04:55<05:14,  1.06it/s]"
     ]
    },
    {
     "name": "stdout",
     "output_type": "stream",
     "text": [
      "[SKIPPED] Missing file: datasets/thyroid_ultrasonic_image/batch1_image/dataset/266_006.Jpg\n",
      "[SKIPPED] Missing file: datasets/thyroid_ultrasonic_image/batch1_image/dataset/266_008.Jpg\n",
      "[SKIPPED] Missing file: datasets/thyroid_ultrasonic_image/batch1_image/dataset/266_009.Jpg\n",
      "[SKIPPED] Missing file: datasets/thyroid_ultrasonic_image/batch1_image/dataset/267_009.Jpg\n",
      "[SKIPPED] Missing file: datasets/thyroid_ultrasonic_image/batch1_image/dataset/267_010.Jpg\n"
     ]
    },
    {
     "name": "stderr",
     "output_type": "stream",
     "text": [
      "Extracting patient features:  45%|████▍     | 268/601 [04:57<06:38,  1.20s/it]"
     ]
    },
    {
     "name": "stdout",
     "output_type": "stream",
     "text": [
      "[SKIPPED] Missing file: datasets/thyroid_ultrasonic_image/batch1_image/dataset/267_014.Jpg\n",
      "[SKIPPED] Missing file: datasets/thyroid_ultrasonic_image/batch1_image/dataset/267_015.Jpg\n",
      "[SKIPPED] Missing file: datasets/thyroid_ultrasonic_image/batch1_image/dataset/267_016.Jpg\n",
      "[SKIPPED] Missing file: datasets/thyroid_ultrasonic_image/batch1_image/dataset/267_017.Jpg\n",
      "[SKIPPED] Missing file: datasets/thyroid_ultrasonic_image/batch1_image/dataset/267_018.Jpg\n",
      "[SKIPPED] Missing file: datasets/thyroid_ultrasonic_image/batch1_image/dataset/267_019.Jpg\n",
      "[SKIPPED] Missing file: datasets/thyroid_ultrasonic_image/batch1_image/dataset/267_020.Jpg\n",
      "[SKIPPED] Missing file: datasets/thyroid_ultrasonic_image/batch1_image/dataset/267_021.Jpg\n",
      "[SKIPPED] Missing file: datasets/thyroid_ultrasonic_image/batch1_image/dataset/267_022.Jpg\n",
      "[SKIPPED] Missing file: datasets/thyroid_ultrasonic_image/batch1_image/dataset/267_023.Jpg\n",
      "[SKIPPED] Missing file: datasets/thyroid_ultrasonic_image/batch1_image/dataset/267_024.Jpg\n",
      "[SKIPPED] Missing file: datasets/thyroid_ultrasonic_image/batch1_image/dataset/267_025.Jpg\n",
      "[SKIPPED] Missing file: datasets/thyroid_ultrasonic_image/batch1_image/dataset/267_026.Jpg\n"
     ]
    },
    {
     "name": "stderr",
     "output_type": "stream",
     "text": [
      "Extracting patient features:  45%|████▍     | 269/601 [04:58<06:28,  1.17s/it]"
     ]
    },
    {
     "name": "stdout",
     "output_type": "stream",
     "text": [
      "[SKIPPED] Missing file: datasets/thyroid_ultrasonic_image/batch1_image/dataset/269_035.Jpg\n",
      "[SKIPPED] Missing file: datasets/thyroid_ultrasonic_image/batch1_image/dataset/269_036.Jpg\n",
      "[SKIPPED] Missing file: datasets/thyroid_ultrasonic_image/batch1_image/dataset/269_037.Jpg\n",
      "[SKIPPED] Missing file: datasets/thyroid_ultrasonic_image/batch1_image/dataset/269_038.Jpg\n",
      "[SKIPPED] Missing file: datasets/thyroid_ultrasonic_image/batch1_image/dataset/269_039.Jpg\n",
      "[WARNING] No valid images for patient: 269, skipping\n"
     ]
    },
    {
     "name": "stderr",
     "output_type": "stream",
     "text": [
      "Extracting patient features:  46%|████▌     | 275/601 [05:05<06:52,  1.26s/it]"
     ]
    },
    {
     "name": "stdout",
     "output_type": "stream",
     "text": [
      "[SKIPPED] Missing file: datasets/thyroid_ultrasonic_image/batch1_image/dataset/275_006.Jpg\n",
      "[SKIPPED] Missing file: datasets/thyroid_ultrasonic_image/batch1_image/dataset/275_009.Jpg\n",
      "[SKIPPED] Missing file: datasets/thyroid_ultrasonic_image/batch1_image/dataset/275_010.Jpg\n"
     ]
    },
    {
     "name": "stderr",
     "output_type": "stream",
     "text": [
      "Extracting patient features:  46%|████▋     | 278/601 [05:08<05:38,  1.05s/it]"
     ]
    },
    {
     "name": "stdout",
     "output_type": "stream",
     "text": [
      "[SKIPPED] Missing file: datasets/thyroid_ultrasonic_image/batch1_image/dataset/277_006.Jpg\n",
      "[SKIPPED] Missing file: datasets/thyroid_ultrasonic_image/batch1_image/dataset/277_007.Jpg\n",
      "[SKIPPED] Missing file: datasets/thyroid_ultrasonic_image/batch1_image/dataset/277_009.Jpg\n",
      "[SKIPPED] Missing file: datasets/thyroid_ultrasonic_image/batch1_image/dataset/277_010.Jpg\n",
      "[SKIPPED] Missing file: datasets/thyroid_ultrasonic_image/batch1_image/dataset/277_011.Jpg\n",
      "[SKIPPED] Missing file: datasets/thyroid_ultrasonic_image/batch1_image/dataset/277_012.Jpg\n",
      "[SKIPPED] Missing file: datasets/thyroid_ultrasonic_image/batch1_image/dataset/277_013.Jpg\n",
      "[SKIPPED] Missing file: datasets/thyroid_ultrasonic_image/batch1_image/dataset/277_014.Jpg\n",
      "[SKIPPED] Missing file: datasets/thyroid_ultrasonic_image/batch1_image/dataset/277_015.Jpg\n",
      "[SKIPPED] Missing file: datasets/thyroid_ultrasonic_image/batch1_image/dataset/277_016.Jpg\n",
      "[SKIPPED] Missing file: datasets/thyroid_ultrasonic_image/batch1_image/dataset/277_017.Jpg\n",
      "[SKIPPED] Missing file: datasets/thyroid_ultrasonic_image/batch1_image/dataset/277_018.Jpg\n",
      "[SKIPPED] Missing file: datasets/thyroid_ultrasonic_image/batch1_image/dataset/277_019.Jpg\n",
      "[SKIPPED] Missing file: datasets/thyroid_ultrasonic_image/batch1_image/dataset/277_021.Jpg\n",
      "[SKIPPED] Missing file: datasets/thyroid_ultrasonic_image/batch1_image/dataset/277_022.Jpg\n"
     ]
    },
    {
     "name": "stderr",
     "output_type": "stream",
     "text": [
      "Extracting patient features:  47%|████▋     | 281/601 [05:12<06:19,  1.19s/it]"
     ]
    },
    {
     "name": "stdout",
     "output_type": "stream",
     "text": [
      "[SKIPPED] Missing file: datasets/thyroid_ultrasonic_image/batch1_image/dataset/281_001.Jpg\n",
      "[SKIPPED] Missing file: datasets/thyroid_ultrasonic_image/batch1_image/dataset/281_002.Jpg\n",
      "[SKIPPED] Missing file: datasets/thyroid_ultrasonic_image/batch1_image/dataset/281_003.Jpg\n",
      "[SKIPPED] Missing file: datasets/thyroid_ultrasonic_image/batch1_image/dataset/281_004.Jpg\n",
      "[WARNING] No valid images for patient: 281, skipping\n"
     ]
    },
    {
     "name": "stderr",
     "output_type": "stream",
     "text": [
      "Extracting patient features:  47%|████▋     | 284/601 [05:14<04:12,  1.26it/s]"
     ]
    },
    {
     "name": "stdout",
     "output_type": "stream",
     "text": [
      "[SKIPPED] Missing file: datasets/thyroid_ultrasonic_image/batch1_image/dataset/283_003.Jpg\n"
     ]
    },
    {
     "name": "stderr",
     "output_type": "stream",
     "text": [
      "Extracting patient features:  47%|████▋     | 285/601 [05:15<04:38,  1.13it/s]"
     ]
    },
    {
     "name": "stdout",
     "output_type": "stream",
     "text": [
      "[SKIPPED] Missing file: datasets/thyroid_ultrasonic_image/batch1_image/dataset/284_007.Jpg\n",
      "[SKIPPED] Missing file: datasets/thyroid_ultrasonic_image/batch1_image/dataset/284_008.Jpg\n",
      "[SKIPPED] Missing file: datasets/thyroid_ultrasonic_image/batch1_image/dataset/284_009.Jpg\n",
      "[SKIPPED] Missing file: datasets/thyroid_ultrasonic_image/batch1_image/dataset/284_010.Jpg\n"
     ]
    },
    {
     "name": "stderr",
     "output_type": "stream",
     "text": [
      "Extracting patient features:  48%|████▊     | 287/601 [05:17<05:33,  1.06s/it]"
     ]
    },
    {
     "name": "stdout",
     "output_type": "stream",
     "text": [
      "[SKIPPED] Missing file: datasets/thyroid_ultrasonic_image/batch1_image/dataset/287_003.Jpg\n"
     ]
    },
    {
     "name": "stderr",
     "output_type": "stream",
     "text": [
      "Extracting patient features:  48%|████▊     | 288/601 [05:18<05:21,  1.03s/it]"
     ]
    },
    {
     "name": "stdout",
     "output_type": "stream",
     "text": [
      "[SKIPPED] Missing file: datasets/thyroid_ultrasonic_image/batch1_image/dataset/287_008.Jpg\n",
      "[SKIPPED] Missing file: datasets/thyroid_ultrasonic_image/batch1_image/dataset/287_009.Jpg\n",
      "[SKIPPED] Missing file: datasets/thyroid_ultrasonic_image/batch1_image/dataset/287_010.Jpg\n",
      "[SKIPPED] Missing file: datasets/thyroid_ultrasonic_image/batch1_image/dataset/287_011.Jpg\n",
      "[SKIPPED] Missing file: datasets/thyroid_ultrasonic_image/batch1_image/dataset/288_001.Jpg\n",
      "[SKIPPED] Missing file: datasets/thyroid_ultrasonic_image/batch1_image/dataset/288_002.Jpg\n",
      "[WARNING] No valid images for patient: 288, skipping\n",
      "[SKIPPED] Missing file: datasets/thyroid_ultrasonic_image/batch1_image/dataset/289_023.Jpg\n",
      "[SKIPPED] Missing file: datasets/thyroid_ultrasonic_image/batch1_image/dataset/289_024.Jpg\n",
      "[SKIPPED] Missing file: datasets/thyroid_ultrasonic_image/batch1_image/dataset/289_025.Jpg\n",
      "[SKIPPED] Missing file: datasets/thyroid_ultrasonic_image/batch1_image/dataset/289_026.Jpg\n",
      "[SKIPPED] Missing file: datasets/thyroid_ultrasonic_image/batch1_image/dataset/289_027.Jpg\n",
      "[SKIPPED] Missing file: datasets/thyroid_ultrasonic_image/batch1_image/dataset/289_028.Jpg\n",
      "[SKIPPED] Missing file: datasets/thyroid_ultrasonic_image/batch1_image/dataset/289_029.Jpg\n",
      "[SKIPPED] Missing file: datasets/thyroid_ultrasonic_image/batch1_image/dataset/289_030.Jpg\n",
      "[SKIPPED] Missing file: datasets/thyroid_ultrasonic_image/batch1_image/dataset/289_031.Jpg\n",
      "[SKIPPED] Missing file: datasets/thyroid_ultrasonic_image/batch1_image/dataset/289_032.Jpg\n",
      "[SKIPPED] Missing file: datasets/thyroid_ultrasonic_image/batch1_image/dataset/289_033.Jpg\n",
      "[SKIPPED] Missing file: datasets/thyroid_ultrasonic_image/batch1_image/dataset/289_034.Jpg\n",
      "[SKIPPED] Missing file: datasets/thyroid_ultrasonic_image/batch1_image/dataset/289_035.Jpg\n",
      "[SKIPPED] Missing file: datasets/thyroid_ultrasonic_image/batch1_image/dataset/289_036.Jpg\n",
      "[SKIPPED] Missing file: datasets/thyroid_ultrasonic_image/batch1_image/dataset/289_039.Jpg\n",
      "[WARNING] No valid images for patient: 289, skipping\n",
      "[SKIPPED] Missing file: datasets/thyroid_ultrasonic_image/batch1_image/dataset/290_019.Jpg\n",
      "[SKIPPED] Missing file: datasets/thyroid_ultrasonic_image/batch1_image/dataset/290_020.Jpg\n",
      "[SKIPPED] Missing file: datasets/thyroid_ultrasonic_image/batch1_image/dataset/290_021.Jpg\n",
      "[SKIPPED] Missing file: datasets/thyroid_ultrasonic_image/batch1_image/dataset/290_022.Jpg\n",
      "[SKIPPED] Missing file: datasets/thyroid_ultrasonic_image/batch1_image/dataset/290_023.Jpg\n",
      "[SKIPPED] Missing file: datasets/thyroid_ultrasonic_image/batch1_image/dataset/290_024.Jpg\n",
      "[SKIPPED] Missing file: datasets/thyroid_ultrasonic_image/batch1_image/dataset/290_025.Jpg\n",
      "[SKIPPED] Missing file: datasets/thyroid_ultrasonic_image/batch1_image/dataset/290_026.Jpg\n",
      "[SKIPPED] Missing file: datasets/thyroid_ultrasonic_image/batch1_image/dataset/290_027.Jpg\n",
      "[SKIPPED] Missing file: datasets/thyroid_ultrasonic_image/batch1_image/dataset/290_028.Jpg\n",
      "[SKIPPED] Missing file: datasets/thyroid_ultrasonic_image/batch1_image/dataset/290_029.Jpg\n",
      "[WARNING] No valid images for patient: 290, skipping\n",
      "[SKIPPED] Missing file: datasets/thyroid_ultrasonic_image/batch1_image/dataset/291_027.Jpg\n",
      "[SKIPPED] Missing file: datasets/thyroid_ultrasonic_image/batch1_image/dataset/291_028.Jpg\n",
      "[SKIPPED] Missing file: datasets/thyroid_ultrasonic_image/batch1_image/dataset/291_029.Jpg\n",
      "[SKIPPED] Missing file: datasets/thyroid_ultrasonic_image/batch1_image/dataset/291_030.Jpg\n",
      "[SKIPPED] Missing file: datasets/thyroid_ultrasonic_image/batch1_image/dataset/291_031.Jpg\n",
      "[SKIPPED] Missing file: datasets/thyroid_ultrasonic_image/batch1_image/dataset/291_032.Jpg\n",
      "[SKIPPED] Missing file: datasets/thyroid_ultrasonic_image/batch1_image/dataset/291_034.Jpg\n",
      "[SKIPPED] Missing file: datasets/thyroid_ultrasonic_image/batch1_image/dataset/291_035.Jpg\n",
      "[SKIPPED] Missing file: datasets/thyroid_ultrasonic_image/batch1_image/dataset/291_036.Jpg\n",
      "[SKIPPED] Missing file: datasets/thyroid_ultrasonic_image/batch1_image/dataset/291_038.Jpg\n",
      "[SKIPPED] Missing file: datasets/thyroid_ultrasonic_image/batch1_image/dataset/291_039.Jpg\n",
      "[SKIPPED] Missing file: datasets/thyroid_ultrasonic_image/batch1_image/dataset/291_040.Jpg\n",
      "[SKIPPED] Missing file: datasets/thyroid_ultrasonic_image/batch1_image/dataset/291_041.Jpg\n",
      "[SKIPPED] Missing file: datasets/thyroid_ultrasonic_image/batch1_image/dataset/291_042.Jpg\n",
      "[SKIPPED] Missing file: datasets/thyroid_ultrasonic_image/batch1_image/dataset/291_043.Jpg\n",
      "[SKIPPED] Missing file: datasets/thyroid_ultrasonic_image/batch1_image/dataset/291_044.Jpg\n",
      "[WARNING] No valid images for patient: 291, skipping\n"
     ]
    },
    {
     "name": "stderr",
     "output_type": "stream",
     "text": [
      "Extracting patient features:  49%|████▉     | 294/601 [05:20<02:58,  1.72it/s]"
     ]
    },
    {
     "name": "stdout",
     "output_type": "stream",
     "text": [
      "[SKIPPED] Missing file: datasets/thyroid_ultrasonic_image/batch1_image/dataset/294_030.Jpg\n",
      "[SKIPPED] Missing file: datasets/thyroid_ultrasonic_image/batch1_image/dataset/294_031.Jpg\n",
      "[SKIPPED] Missing file: datasets/thyroid_ultrasonic_image/batch1_image/dataset/294_032.Jpg\n",
      "[SKIPPED] Missing file: datasets/thyroid_ultrasonic_image/batch1_image/dataset/294_033.Jpg\n",
      "[SKIPPED] Missing file: datasets/thyroid_ultrasonic_image/batch1_image/dataset/294_034.Jpg\n",
      "[SKIPPED] Missing file: datasets/thyroid_ultrasonic_image/batch1_image/dataset/294_035.Jpg\n",
      "[SKIPPED] Missing file: datasets/thyroid_ultrasonic_image/batch1_image/dataset/294_038.Jpg\n",
      "[SKIPPED] Missing file: datasets/thyroid_ultrasonic_image/batch1_image/dataset/294_039.Jpg\n",
      "[SKIPPED] Missing file: datasets/thyroid_ultrasonic_image/batch1_image/dataset/294_040.Jpg\n",
      "[SKIPPED] Missing file: datasets/thyroid_ultrasonic_image/batch1_image/dataset/294_043.Jpg\n",
      "[SKIPPED] Missing file: datasets/thyroid_ultrasonic_image/batch1_image/dataset/294_044.Jpg\n",
      "[SKIPPED] Missing file: datasets/thyroid_ultrasonic_image/batch1_image/dataset/294_045.Jpg\n",
      "[SKIPPED] Missing file: datasets/thyroid_ultrasonic_image/batch1_image/dataset/294_046.Jpg\n",
      "[SKIPPED] Missing file: datasets/thyroid_ultrasonic_image/batch1_image/dataset/294_047.Jpg\n",
      "[WARNING] No valid images for patient: 294, skipping\n",
      "[SKIPPED] Missing file: datasets/thyroid_ultrasonic_image/batch1_image/dataset/295_018.Jpg\n",
      "[SKIPPED] Missing file: datasets/thyroid_ultrasonic_image/batch1_image/dataset/295_019.Jpg\n",
      "[SKIPPED] Missing file: datasets/thyroid_ultrasonic_image/batch1_image/dataset/295_020.Jpg\n",
      "[SKIPPED] Missing file: datasets/thyroid_ultrasonic_image/batch1_image/dataset/295_021.Jpg\n",
      "[WARNING] No valid images for patient: 295, skipping\n"
     ]
    },
    {
     "name": "stderr",
     "output_type": "stream",
     "text": [
      "Extracting patient features:  49%|████▉     | 297/601 [05:21<02:14,  2.26it/s]"
     ]
    },
    {
     "name": "stdout",
     "output_type": "stream",
     "text": [
      "[SKIPPED] Missing file: datasets/thyroid_ultrasonic_image/batch1_image/dataset/297_004.Jpg\n"
     ]
    },
    {
     "name": "stderr",
     "output_type": "stream",
     "text": [
      "Extracting patient features:  50%|████▉     | 299/601 [05:25<04:13,  1.19it/s]"
     ]
    },
    {
     "name": "stdout",
     "output_type": "stream",
     "text": [
      "[SKIPPED] Missing file: datasets/thyroid_ultrasonic_image/batch1_image/dataset/298_010.Jpg\n",
      "[SKIPPED] Missing file: datasets/thyroid_ultrasonic_image/batch1_image/dataset/298_011.Jpg\n",
      "[SKIPPED] Missing file: datasets/thyroid_ultrasonic_image/batch1_image/dataset/298_012.Jpg\n",
      "[SKIPPED] Missing file: datasets/thyroid_ultrasonic_image/batch1_image/dataset/298_013.Jpg\n",
      "[SKIPPED] Missing file: datasets/thyroid_ultrasonic_image/batch1_image/dataset/298_014.Jpg\n",
      "[SKIPPED] Missing file: datasets/thyroid_ultrasonic_image/batch1_image/dataset/298_015.Jpg\n"
     ]
    },
    {
     "name": "stderr",
     "output_type": "stream",
     "text": [
      "Extracting patient features:  50%|████▉     | 300/601 [05:26<04:31,  1.11it/s]"
     ]
    },
    {
     "name": "stdout",
     "output_type": "stream",
     "text": [
      "[SKIPPED] Missing file: datasets/thyroid_ultrasonic_image/batch1_image/dataset/299_010.Jpg\n",
      "[SKIPPED] Missing file: datasets/thyroid_ultrasonic_image/batch1_image/dataset/299_011.Jpg\n",
      "[SKIPPED] Missing file: datasets/thyroid_ultrasonic_image/batch1_image/dataset/299_012.Jpg\n"
     ]
    },
    {
     "name": "stderr",
     "output_type": "stream",
     "text": [
      "Extracting patient features:  50%|█████     | 301/601 [05:27<04:51,  1.03it/s]"
     ]
    },
    {
     "name": "stdout",
     "output_type": "stream",
     "text": [
      "[SKIPPED] Missing file: datasets/thyroid_ultrasonic_image/batch1_image/dataset/300_008.Jpg\n",
      "[SKIPPED] Missing file: datasets/thyroid_ultrasonic_image/batch1_image/dataset/300_009.Jpg\n",
      "[SKIPPED] Missing file: datasets/thyroid_ultrasonic_image/batch1_image/dataset/301_001.Jpg\n",
      "[SKIPPED] Missing file: datasets/thyroid_ultrasonic_image/batch1_image/dataset/301_002.Jpg\n",
      "[SKIPPED] Missing file: datasets/thyroid_ultrasonic_image/batch1_image/dataset/301_007.Jpg\n"
     ]
    },
    {
     "name": "stderr",
     "output_type": "stream",
     "text": [
      "Extracting patient features:  50%|█████     | 302/601 [05:28<04:36,  1.08it/s]"
     ]
    },
    {
     "name": "stdout",
     "output_type": "stream",
     "text": [
      "[SKIPPED] Missing file: datasets/thyroid_ultrasonic_image/batch1_image/dataset/301_010.Jpg\n",
      "[SKIPPED] Missing file: datasets/thyroid_ultrasonic_image/batch1_image/dataset/301_011.Jpg\n",
      "[SKIPPED] Missing file: datasets/thyroid_ultrasonic_image/batch1_image/dataset/301_012.Jpg\n",
      "[SKIPPED] Missing file: datasets/thyroid_ultrasonic_image/batch1_image/dataset/301_013.Jpg\n",
      "[SKIPPED] Missing file: datasets/thyroid_ultrasonic_image/batch1_image/dataset/301_016.Jpg\n",
      "[SKIPPED] Missing file: datasets/thyroid_ultrasonic_image/batch1_image/dataset/302_004.Jpg\n",
      "[SKIPPED] Missing file: datasets/thyroid_ultrasonic_image/batch1_image/dataset/302_006.Jpg\n"
     ]
    },
    {
     "name": "stderr",
     "output_type": "stream",
     "text": [
      "Extracting patient features:  50%|█████     | 303/601 [05:28<04:29,  1.11it/s]"
     ]
    },
    {
     "name": "stdout",
     "output_type": "stream",
     "text": [
      "[SKIPPED] Missing file: datasets/thyroid_ultrasonic_image/batch1_image/dataset/302_008.Jpg\n",
      "[SKIPPED] Missing file: datasets/thyroid_ultrasonic_image/batch1_image/dataset/302_009.Jpg\n",
      "[SKIPPED] Missing file: datasets/thyroid_ultrasonic_image/batch1_image/dataset/302_010.Jpg\n",
      "[SKIPPED] Missing file: datasets/thyroid_ultrasonic_image/batch1_image/dataset/302_011.Jpg\n",
      "[SKIPPED] Missing file: datasets/thyroid_ultrasonic_image/batch1_image/dataset/302_012.Jpg\n",
      "[SKIPPED] Missing file: datasets/thyroid_ultrasonic_image/batch1_image/dataset/302_014.Jpg\n",
      "[SKIPPED] Missing file: datasets/thyroid_ultrasonic_image/batch1_image/dataset/302_015.Jpg\n",
      "[SKIPPED] Missing file: datasets/thyroid_ultrasonic_image/batch1_image/dataset/303_001.Jpg\n",
      "[SKIPPED] Missing file: datasets/thyroid_ultrasonic_image/batch1_image/dataset/303_002.Jpg\n",
      "[SKIPPED] Missing file: datasets/thyroid_ultrasonic_image/batch1_image/dataset/303_003.Jpg\n",
      "[SKIPPED] Missing file: datasets/thyroid_ultrasonic_image/batch1_image/dataset/303_004.Jpg\n",
      "[SKIPPED] Missing file: datasets/thyroid_ultrasonic_image/batch1_image/dataset/303_005.Jpg\n",
      "[SKIPPED] Missing file: datasets/thyroid_ultrasonic_image/batch1_image/dataset/303_006.Jpg\n",
      "[SKIPPED] Missing file: datasets/thyroid_ultrasonic_image/batch1_image/dataset/303_007.Jpg\n",
      "[SKIPPED] Missing file: datasets/thyroid_ultrasonic_image/batch1_image/dataset/303_008.Jpg\n",
      "[SKIPPED] Missing file: datasets/thyroid_ultrasonic_image/batch1_image/dataset/303_009.Jpg\n",
      "[SKIPPED] Missing file: datasets/thyroid_ultrasonic_image/batch1_image/dataset/303_010.Jpg\n",
      "[SKIPPED] Missing file: datasets/thyroid_ultrasonic_image/batch1_image/dataset/303_011.Jpg\n",
      "[SKIPPED] Missing file: datasets/thyroid_ultrasonic_image/batch1_image/dataset/303_012.Jpg\n",
      "[SKIPPED] Missing file: datasets/thyroid_ultrasonic_image/batch1_image/dataset/303_013.Jpg\n",
      "[SKIPPED] Missing file: datasets/thyroid_ultrasonic_image/batch1_image/dataset/303_014.Jpg\n",
      "[SKIPPED] Missing file: datasets/thyroid_ultrasonic_image/batch1_image/dataset/303_015.Jpg\n",
      "[SKIPPED] Missing file: datasets/thyroid_ultrasonic_image/batch1_image/dataset/303_016.Jpg\n"
     ]
    },
    {
     "name": "stderr",
     "output_type": "stream",
     "text": [
      "Extracting patient features:  51%|█████     | 305/601 [05:30<03:48,  1.29it/s]"
     ]
    },
    {
     "name": "stdout",
     "output_type": "stream",
     "text": [
      "[SKIPPED] Missing file: datasets/thyroid_ultrasonic_image/batch1_image/dataset/304_005.Jpg\n",
      "[SKIPPED] Missing file: datasets/thyroid_ultrasonic_image/batch1_image/dataset/304_006.Jpg\n",
      "[SKIPPED] Missing file: datasets/thyroid_ultrasonic_image/batch1_image/dataset/304_007.Jpg\n",
      "[SKIPPED] Missing file: datasets/thyroid_ultrasonic_image/batch1_image/dataset/304_008.Jpg\n",
      "[SKIPPED] Missing file: datasets/thyroid_ultrasonic_image/batch1_image/dataset/304_009.Jpg\n",
      "[SKIPPED] Missing file: datasets/thyroid_ultrasonic_image/batch1_image/dataset/304_010.Jpg\n",
      "[SKIPPED] Missing file: datasets/thyroid_ultrasonic_image/batch1_image/dataset/304_011.Jpg\n",
      "[SKIPPED] Missing file: datasets/thyroid_ultrasonic_image/batch1_image/dataset/304_012.Jpg\n",
      "[SKIPPED] Missing file: datasets/thyroid_ultrasonic_image/batch1_image/dataset/304_013.Jpg\n",
      "[SKIPPED] Missing file: datasets/thyroid_ultrasonic_image/batch1_image/dataset/304_014.Jpg\n",
      "[SKIPPED] Missing file: datasets/thyroid_ultrasonic_image/batch1_image/dataset/304_015.Jpg\n",
      "[SKIPPED] Missing file: datasets/thyroid_ultrasonic_image/batch1_image/dataset/304_016.Jpg\n",
      "[SKIPPED] Missing file: datasets/thyroid_ultrasonic_image/batch1_image/dataset/304_017.Jpg\n",
      "[SKIPPED] Missing file: datasets/thyroid_ultrasonic_image/batch1_image/dataset/304_018.Jpg\n",
      "[SKIPPED] Missing file: datasets/thyroid_ultrasonic_image/batch1_image/dataset/304_019.Jpg\n",
      "[SKIPPED] Missing file: datasets/thyroid_ultrasonic_image/batch1_image/dataset/304_020.Jpg\n",
      "[SKIPPED] Missing file: datasets/thyroid_ultrasonic_image/batch1_image/dataset/304_021.Jpg\n",
      "[SKIPPED] Missing file: datasets/thyroid_ultrasonic_image/batch1_image/dataset/304_022.Jpg\n",
      "[SKIPPED] Missing file: datasets/thyroid_ultrasonic_image/batch1_image/dataset/304_023.Jpg\n",
      "[SKIPPED] Missing file: datasets/thyroid_ultrasonic_image/batch1_image/dataset/304_024.Jpg\n",
      "[SKIPPED] Missing file: datasets/thyroid_ultrasonic_image/batch1_image/dataset/304_025.Jpg\n",
      "[SKIPPED] Missing file: datasets/thyroid_ultrasonic_image/batch1_image/dataset/304_026.Jpg\n",
      "[SKIPPED] Missing file: datasets/thyroid_ultrasonic_image/batch1_image/dataset/304_027.Jpg\n"
     ]
    },
    {
     "name": "stderr",
     "output_type": "stream",
     "text": [
      "Extracting patient features:  51%|█████     | 306/601 [05:30<03:27,  1.42it/s]"
     ]
    },
    {
     "name": "stdout",
     "output_type": "stream",
     "text": [
      "[SKIPPED] Missing file: datasets/thyroid_ultrasonic_image/batch1_image/dataset/305_004.Jpg\n"
     ]
    },
    {
     "name": "stderr",
     "output_type": "stream",
     "text": [
      "Extracting patient features:  51%|█████     | 307/601 [05:31<03:00,  1.63it/s]"
     ]
    },
    {
     "name": "stdout",
     "output_type": "stream",
     "text": [
      "[SKIPPED] Missing file: datasets/thyroid_ultrasonic_image/batch1_image/dataset/306_007.Jpg\n",
      "[SKIPPED] Missing file: datasets/thyroid_ultrasonic_image/batch1_image/dataset/306_008.Jpg\n",
      "[SKIPPED] Missing file: datasets/thyroid_ultrasonic_image/batch1_image/dataset/306_009.Jpg\n",
      "[SKIPPED] Missing file: datasets/thyroid_ultrasonic_image/batch1_image/dataset/306_010.Jpg\n",
      "[SKIPPED] Missing file: datasets/thyroid_ultrasonic_image/batch1_image/dataset/306_011.Jpg\n",
      "[SKIPPED] Missing file: datasets/thyroid_ultrasonic_image/batch1_image/dataset/306_012.Jpg\n",
      "[SKIPPED] Missing file: datasets/thyroid_ultrasonic_image/batch1_image/dataset/306_013.Jpg\n",
      "[SKIPPED] Missing file: datasets/thyroid_ultrasonic_image/batch1_image/dataset/306_014.Jpg\n",
      "[SKIPPED] Missing file: datasets/thyroid_ultrasonic_image/batch1_image/dataset/306_015.Jpg\n",
      "[SKIPPED] Missing file: datasets/thyroid_ultrasonic_image/batch1_image/dataset/306_016.Jpg\n",
      "[SKIPPED] Missing file: datasets/thyroid_ultrasonic_image/batch1_image/dataset/306_017.Jpg\n",
      "[SKIPPED] Missing file: datasets/thyroid_ultrasonic_image/batch1_image/dataset/306_018.Jpg\n",
      "[SKIPPED] Missing file: datasets/thyroid_ultrasonic_image/batch1_image/dataset/306_019.Jpg\n",
      "[SKIPPED] Missing file: datasets/thyroid_ultrasonic_image/batch1_image/dataset/306_020.Jpg\n"
     ]
    },
    {
     "name": "stderr",
     "output_type": "stream",
     "text": [
      "Extracting patient features:  51%|█████     | 308/601 [05:32<04:23,  1.11it/s]"
     ]
    },
    {
     "name": "stdout",
     "output_type": "stream",
     "text": [
      "[SKIPPED] Missing file: datasets/thyroid_ultrasonic_image/batch1_image/dataset/308_001.Jpg\n",
      "[SKIPPED] Missing file: datasets/thyroid_ultrasonic_image/batch1_image/dataset/308_002.Jpg\n",
      "[SKIPPED] Missing file: datasets/thyroid_ultrasonic_image/batch1_image/dataset/308_003.Jpg\n",
      "[SKIPPED] Missing file: datasets/thyroid_ultrasonic_image/batch1_image/dataset/308_004.Jpg\n",
      "[SKIPPED] Missing file: datasets/thyroid_ultrasonic_image/batch1_image/dataset/308_005.Jpg\n"
     ]
    },
    {
     "name": "stderr",
     "output_type": "stream",
     "text": [
      "Extracting patient features:  52%|█████▏    | 310/601 [05:34<04:04,  1.19it/s]"
     ]
    },
    {
     "name": "stdout",
     "output_type": "stream",
     "text": [
      "[SKIPPED] Missing file: datasets/thyroid_ultrasonic_image/batch1_image/dataset/310_011.Jpg\n"
     ]
    },
    {
     "name": "stderr",
     "output_type": "stream",
     "text": [
      "Extracting patient features:  52%|█████▏    | 311/601 [05:36<05:56,  1.23s/it]"
     ]
    },
    {
     "name": "stdout",
     "output_type": "stream",
     "text": [
      "[SKIPPED] Missing file: datasets/thyroid_ultrasonic_image/batch1_image/dataset/310_015.Jpg\n",
      "[SKIPPED] Missing file: datasets/thyroid_ultrasonic_image/batch1_image/dataset/310_016.Jpg\n",
      "[SKIPPED] Missing file: datasets/thyroid_ultrasonic_image/batch1_image/dataset/310_017.Jpg\n",
      "[SKIPPED] Missing file: datasets/thyroid_ultrasonic_image/batch1_image/dataset/310_018.Jpg\n",
      "[SKIPPED] Missing file: datasets/thyroid_ultrasonic_image/batch1_image/dataset/310_019.Jpg\n"
     ]
    },
    {
     "name": "stderr",
     "output_type": "stream",
     "text": [
      "Extracting patient features:  52%|█████▏    | 312/601 [05:37<05:46,  1.20s/it]"
     ]
    },
    {
     "name": "stdout",
     "output_type": "stream",
     "text": [
      "[SKIPPED] Missing file: datasets/thyroid_ultrasonic_image/batch1_image/dataset/311_007.Jpg\n",
      "[SKIPPED] Missing file: datasets/thyroid_ultrasonic_image/batch1_image/dataset/311_008.Jpg\n",
      "[SKIPPED] Missing file: datasets/thyroid_ultrasonic_image/batch1_image/dataset/311_009.Jpg\n"
     ]
    },
    {
     "name": "stderr",
     "output_type": "stream",
     "text": [
      "Extracting patient features:  52%|█████▏    | 313/601 [05:38<05:19,  1.11s/it]"
     ]
    },
    {
     "name": "stdout",
     "output_type": "stream",
     "text": [
      "[SKIPPED] Missing file: datasets/thyroid_ultrasonic_image/batch1_image/dataset/313_020.Jpg\n",
      "[SKIPPED] Missing file: datasets/thyroid_ultrasonic_image/batch1_image/dataset/313_021.Jpg\n",
      "[SKIPPED] Missing file: datasets/thyroid_ultrasonic_image/batch1_image/dataset/313_022.Jpg\n",
      "[SKIPPED] Missing file: datasets/thyroid_ultrasonic_image/batch1_image/dataset/313_023.Jpg\n",
      "[SKIPPED] Missing file: datasets/thyroid_ultrasonic_image/batch1_image/dataset/313_024.Jpg\n",
      "[SKIPPED] Missing file: datasets/thyroid_ultrasonic_image/batch1_image/dataset/313_025.Jpg\n",
      "[SKIPPED] Missing file: datasets/thyroid_ultrasonic_image/batch1_image/dataset/313_026.Jpg\n",
      "[WARNING] No valid images for patient: 313, skipping\n",
      "[SKIPPED] Missing file: datasets/thyroid_ultrasonic_image/batch1_image/dataset/314_001.Jpg\n",
      "[SKIPPED] Missing file: datasets/thyroid_ultrasonic_image/batch1_image/dataset/314_002.Jpg\n",
      "[SKIPPED] Missing file: datasets/thyroid_ultrasonic_image/batch1_image/dataset/314_003.Jpg\n",
      "[SKIPPED] Missing file: datasets/thyroid_ultrasonic_image/batch1_image/dataset/314_004.Jpg\n",
      "[SKIPPED] Missing file: datasets/thyroid_ultrasonic_image/batch1_image/dataset/314_005.Jpg\n",
      "[SKIPPED] Missing file: datasets/thyroid_ultrasonic_image/batch1_image/dataset/314_006.Jpg\n",
      "[SKIPPED] Missing file: datasets/thyroid_ultrasonic_image/batch1_image/dataset/314_007.Jpg\n",
      "[SKIPPED] Missing file: datasets/thyroid_ultrasonic_image/batch1_image/dataset/314_008.Jpg\n",
      "[WARNING] No valid images for patient: 314, skipping\n"
     ]
    },
    {
     "name": "stderr",
     "output_type": "stream",
     "text": [
      "Extracting patient features:  53%|█████▎    | 318/601 [05:40<02:51,  1.65it/s]"
     ]
    },
    {
     "name": "stdout",
     "output_type": "stream",
     "text": [
      "[SKIPPED] Missing file: datasets/thyroid_ultrasonic_image/batch1_image/dataset/318_015.Jpg\n",
      "[SKIPPED] Missing file: datasets/thyroid_ultrasonic_image/batch1_image/dataset/318_016.Jpg\n",
      "[SKIPPED] Missing file: datasets/thyroid_ultrasonic_image/batch1_image/dataset/318_017.Jpg\n",
      "[SKIPPED] Missing file: datasets/thyroid_ultrasonic_image/batch1_image/dataset/318_018.Jpg\n",
      "[SKIPPED] Missing file: datasets/thyroid_ultrasonic_image/batch1_image/dataset/318_019.Jpg\n",
      "[WARNING] No valid images for patient: 318, skipping\n",
      "[SKIPPED] Missing file: datasets/thyroid_ultrasonic_image/batch1_image/dataset/319_001.Jpg\n",
      "[SKIPPED] Missing file: datasets/thyroid_ultrasonic_image/batch1_image/dataset/319_002.Jpg\n",
      "[SKIPPED] Missing file: datasets/thyroid_ultrasonic_image/batch1_image/dataset/319_003.Jpg\n",
      "[SKIPPED] Missing file: datasets/thyroid_ultrasonic_image/batch1_image/dataset/319_004.Jpg\n",
      "[SKIPPED] Missing file: datasets/thyroid_ultrasonic_image/batch1_image/dataset/319_005.Jpg\n",
      "[SKIPPED] Missing file: datasets/thyroid_ultrasonic_image/batch1_image/dataset/319_006.Jpg\n",
      "[SKIPPED] Missing file: datasets/thyroid_ultrasonic_image/batch1_image/dataset/319_007.Jpg\n",
      "[SKIPPED] Missing file: datasets/thyroid_ultrasonic_image/batch1_image/dataset/319_009.Jpg\n",
      "[SKIPPED] Missing file: datasets/thyroid_ultrasonic_image/batch1_image/dataset/319_010.Jpg\n",
      "[WARNING] No valid images for patient: 319, skipping\n"
     ]
    },
    {
     "name": "stderr",
     "output_type": "stream",
     "text": [
      "Extracting patient features:  53%|█████▎    | 321/601 [05:41<02:31,  1.85it/s]"
     ]
    },
    {
     "name": "stdout",
     "output_type": "stream",
     "text": [
      "[SKIPPED] Missing file: datasets/thyroid_ultrasonic_image/batch1_image/dataset/320_013.Jpg\n",
      "[SKIPPED] Missing file: datasets/thyroid_ultrasonic_image/batch1_image/dataset/320_014.Jpg\n",
      "[SKIPPED] Missing file: datasets/thyroid_ultrasonic_image/batch1_image/dataset/321_007.Jpg\n"
     ]
    },
    {
     "name": "stderr",
     "output_type": "stream",
     "text": [
      "Extracting patient features:  54%|█████▍    | 324/601 [05:47<05:03,  1.09s/it]"
     ]
    },
    {
     "name": "stdout",
     "output_type": "stream",
     "text": [
      "[SKIPPED] Missing file: datasets/thyroid_ultrasonic_image/batch1_image/dataset/323_004.Jpg\n",
      "[SKIPPED] Missing file: datasets/thyroid_ultrasonic_image/batch1_image/dataset/323_005.Jpg\n",
      "[SKIPPED] Missing file: datasets/thyroid_ultrasonic_image/batch1_image/dataset/323_006.Jpg\n",
      "[SKIPPED] Missing file: datasets/thyroid_ultrasonic_image/batch1_image/dataset/323_007.Jpg\n",
      "[SKIPPED] Missing file: datasets/thyroid_ultrasonic_image/batch1_image/dataset/323_010.Jpg\n",
      "[SKIPPED] Missing file: datasets/thyroid_ultrasonic_image/batch1_image/dataset/324_005.Jpg\n",
      "[SKIPPED] Missing file: datasets/thyroid_ultrasonic_image/batch1_image/dataset/324_008.Jpg\n"
     ]
    },
    {
     "name": "stderr",
     "output_type": "stream",
     "text": [
      "Extracting patient features:  54%|█████▍    | 325/601 [05:48<05:03,  1.10s/it]"
     ]
    },
    {
     "name": "stdout",
     "output_type": "stream",
     "text": [
      "[SKIPPED] Missing file: datasets/thyroid_ultrasonic_image/batch1_image/dataset/324_010.Jpg\n",
      "[SKIPPED] Missing file: datasets/thyroid_ultrasonic_image/batch1_image/dataset/324_011.Jpg\n",
      "[SKIPPED] Missing file: datasets/thyroid_ultrasonic_image/batch1_image/dataset/324_012.Jpg\n",
      "[SKIPPED] Missing file: datasets/thyroid_ultrasonic_image/batch1_image/dataset/324_015.Jpg\n"
     ]
    },
    {
     "name": "stderr",
     "output_type": "stream",
     "text": [
      "Extracting patient features:  54%|█████▍    | 326/601 [05:49<05:06,  1.11s/it]"
     ]
    },
    {
     "name": "stdout",
     "output_type": "stream",
     "text": [
      "[SKIPPED] Missing file: datasets/thyroid_ultrasonic_image/batch1_image/dataset/325_007.Jpg\n",
      "[SKIPPED] Missing file: datasets/thyroid_ultrasonic_image/batch1_image/dataset/325_008.Jpg\n",
      "[SKIPPED] Missing file: datasets/thyroid_ultrasonic_image/batch1_image/dataset/325_009.Jpg\n",
      "[SKIPPED] Missing file: datasets/thyroid_ultrasonic_image/batch1_image/dataset/325_010.Jpg\n",
      "[SKIPPED] Missing file: datasets/thyroid_ultrasonic_image/batch1_image/dataset/325_011.Jpg\n",
      "[SKIPPED] Missing file: datasets/thyroid_ultrasonic_image/batch1_image/dataset/325_012.Jpg\n",
      "[SKIPPED] Missing file: datasets/thyroid_ultrasonic_image/batch1_image/dataset/325_013.Jpg\n",
      "[SKIPPED] Missing file: datasets/thyroid_ultrasonic_image/batch1_image/dataset/325_014.Jpg\n",
      "[SKIPPED] Missing file: datasets/thyroid_ultrasonic_image/batch1_image/dataset/325_015.Jpg\n",
      "[SKIPPED] Missing file: datasets/thyroid_ultrasonic_image/batch1_image/dataset/325_016.Jpg\n",
      "[SKIPPED] Missing file: datasets/thyroid_ultrasonic_image/batch1_image/dataset/325_017.Jpg\n",
      "[SKIPPED] Missing file: datasets/thyroid_ultrasonic_image/batch1_image/dataset/325_018.Jpg\n",
      "[SKIPPED] Missing file: datasets/thyroid_ultrasonic_image/batch1_image/dataset/325_019.Jpg\n",
      "[SKIPPED] Missing file: datasets/thyroid_ultrasonic_image/batch1_image/dataset/325_020.Jpg\n",
      "[SKIPPED] Missing file: datasets/thyroid_ultrasonic_image/batch1_image/dataset/325_021.Jpg\n",
      "[SKIPPED] Missing file: datasets/thyroid_ultrasonic_image/batch1_image/dataset/326_003.Jpg\n",
      "[SKIPPED] Missing file: datasets/thyroid_ultrasonic_image/batch1_image/dataset/326_011.Jpg\n",
      "[SKIPPED] Missing file: datasets/thyroid_ultrasonic_image/batch1_image/dataset/326_018.Jpg\n"
     ]
    },
    {
     "name": "stderr",
     "output_type": "stream",
     "text": [
      "Extracting patient features:  54%|█████▍    | 327/601 [05:52<07:52,  1.72s/it]"
     ]
    },
    {
     "name": "stdout",
     "output_type": "stream",
     "text": [
      "[SKIPPED] Missing file: datasets/thyroid_ultrasonic_image/batch1_image/dataset/327_001.Jpg\n",
      "[SKIPPED] Missing file: datasets/thyroid_ultrasonic_image/batch1_image/dataset/327_002.Jpg\n",
      "[SKIPPED] Missing file: datasets/thyroid_ultrasonic_image/batch1_image/dataset/327_003.Jpg\n",
      "[SKIPPED] Missing file: datasets/thyroid_ultrasonic_image/batch1_image/dataset/327_004.Jpg\n"
     ]
    },
    {
     "name": "stderr",
     "output_type": "stream",
     "text": [
      "Extracting patient features:  55%|█████▍    | 328/601 [05:53<06:14,  1.37s/it]"
     ]
    },
    {
     "name": "stdout",
     "output_type": "stream",
     "text": [
      "[SKIPPED] Missing file: datasets/thyroid_ultrasonic_image/batch1_image/dataset/328_001.Jpg\n",
      "[SKIPPED] Missing file: datasets/thyroid_ultrasonic_image/batch1_image/dataset/328_002.Jpg\n",
      "[SKIPPED] Missing file: datasets/thyroid_ultrasonic_image/batch1_image/dataset/328_003.Jpg\n",
      "[WARNING] No valid images for patient: 328, skipping\n"
     ]
    },
    {
     "name": "stderr",
     "output_type": "stream",
     "text": [
      "Extracting patient features:  55%|█████▍    | 330/601 [05:54<04:55,  1.09s/it]"
     ]
    },
    {
     "name": "stdout",
     "output_type": "stream",
     "text": [
      "[SKIPPED] Missing file: datasets/thyroid_ultrasonic_image/batch1_image/dataset/329_008.Jpg\n"
     ]
    },
    {
     "name": "stderr",
     "output_type": "stream",
     "text": [
      "Extracting patient features:  55%|█████▌    | 331/601 [05:56<06:05,  1.35s/it]"
     ]
    },
    {
     "name": "stdout",
     "output_type": "stream",
     "text": [
      "[SKIPPED] Missing file: datasets/thyroid_ultrasonic_image/batch1_image/dataset/331_017.Jpg\n",
      "[SKIPPED] Missing file: datasets/thyroid_ultrasonic_image/batch1_image/dataset/331_018.Jpg\n",
      "[WARNING] No valid images for patient: 331, skipping\n"
     ]
    },
    {
     "name": "stderr",
     "output_type": "stream",
     "text": [
      "Extracting patient features:  56%|█████▌    | 334/601 [06:00<06:17,  1.41s/it]"
     ]
    },
    {
     "name": "stdout",
     "output_type": "stream",
     "text": [
      "[SKIPPED] Missing file: datasets/thyroid_ultrasonic_image/batch1_image/dataset/333_010.Jpg\n",
      "[SKIPPED] Missing file: datasets/thyroid_ultrasonic_image/batch1_image/dataset/333_011.Jpg\n",
      "[SKIPPED] Missing file: datasets/thyroid_ultrasonic_image/batch1_image/dataset/333_012.Jpg\n",
      "[SKIPPED] Missing file: datasets/thyroid_ultrasonic_image/batch1_image/dataset/333_013.Jpg\n",
      "[SKIPPED] Missing file: datasets/thyroid_ultrasonic_image/batch1_image/dataset/333_014.Jpg\n",
      "[SKIPPED] Missing file: datasets/thyroid_ultrasonic_image/batch1_image/dataset/334_031.Jpg\n",
      "[SKIPPED] Missing file: datasets/thyroid_ultrasonic_image/batch1_image/dataset/334_032.Jpg\n",
      "[SKIPPED] Missing file: datasets/thyroid_ultrasonic_image/batch1_image/dataset/334_033.Jpg\n",
      "[SKIPPED] Missing file: datasets/thyroid_ultrasonic_image/batch1_image/dataset/334_034.Jpg\n",
      "[SKIPPED] Missing file: datasets/thyroid_ultrasonic_image/batch1_image/dataset/334_035.Jpg\n",
      "[SKIPPED] Missing file: datasets/thyroid_ultrasonic_image/batch1_image/dataset/334_036.Jpg\n",
      "[SKIPPED] Missing file: datasets/thyroid_ultrasonic_image/batch1_image/dataset/334_037.Jpg\n",
      "[SKIPPED] Missing file: datasets/thyroid_ultrasonic_image/batch1_image/dataset/334_038.Jpg\n",
      "[SKIPPED] Missing file: datasets/thyroid_ultrasonic_image/batch1_image/dataset/334_039.Jpg\n",
      "[SKIPPED] Missing file: datasets/thyroid_ultrasonic_image/batch1_image/dataset/334_042.Jpg\n",
      "[SKIPPED] Missing file: datasets/thyroid_ultrasonic_image/batch1_image/dataset/334_044.Jpg\n",
      "[SKIPPED] Missing file: datasets/thyroid_ultrasonic_image/batch1_image/dataset/334_045.Jpg\n",
      "[SKIPPED] Missing file: datasets/thyroid_ultrasonic_image/batch1_image/dataset/334_046.Jpg\n",
      "[SKIPPED] Missing file: datasets/thyroid_ultrasonic_image/batch1_image/dataset/334_047.Jpg\n",
      "[SKIPPED] Missing file: datasets/thyroid_ultrasonic_image/batch1_image/dataset/334_048.Jpg\n",
      "[SKIPPED] Missing file: datasets/thyroid_ultrasonic_image/batch1_image/dataset/334_049.Jpg\n",
      "[SKIPPED] Missing file: datasets/thyroid_ultrasonic_image/batch1_image/dataset/334_050.Jpg\n",
      "[SKIPPED] Missing file: datasets/thyroid_ultrasonic_image/batch1_image/dataset/334_053.Jpg\n",
      "[SKIPPED] Missing file: datasets/thyroid_ultrasonic_image/batch1_image/dataset/334_054.Jpg\n",
      "[WARNING] No valid images for patient: 334, skipping\n"
     ]
    },
    {
     "name": "stderr",
     "output_type": "stream",
     "text": [
      "Extracting patient features:  56%|█████▌    | 338/601 [06:05<05:16,  1.20s/it]"
     ]
    },
    {
     "name": "stdout",
     "output_type": "stream",
     "text": [
      "[SKIPPED] Missing file: datasets/thyroid_ultrasonic_image/batch1_image/dataset/337_006.Jpg\n",
      "[SKIPPED] Missing file: datasets/thyroid_ultrasonic_image/batch1_image/dataset/337_007.Jpg\n",
      "[SKIPPED] Missing file: datasets/thyroid_ultrasonic_image/batch1_image/dataset/337_008.Jpg\n",
      "[SKIPPED] Missing file: datasets/thyroid_ultrasonic_image/batch1_image/dataset/337_009.Jpg\n",
      "[SKIPPED] Missing file: datasets/thyroid_ultrasonic_image/batch1_image/dataset/337_011.Jpg\n",
      "[SKIPPED] Missing file: datasets/thyroid_ultrasonic_image/batch1_image/dataset/337_013.Jpg\n",
      "[SKIPPED] Missing file: datasets/thyroid_ultrasonic_image/batch1_image/dataset/337_014.Jpg\n",
      "[SKIPPED] Missing file: datasets/thyroid_ultrasonic_image/batch1_image/dataset/337_015.Jpg\n",
      "[SKIPPED] Missing file: datasets/thyroid_ultrasonic_image/batch1_image/dataset/338_006.Jpg\n",
      "[SKIPPED] Missing file: datasets/thyroid_ultrasonic_image/batch1_image/dataset/338_009.Jpg\n"
     ]
    },
    {
     "name": "stderr",
     "output_type": "stream",
     "text": [
      "Extracting patient features:  56%|█████▋    | 339/601 [06:07<06:36,  1.51s/it]"
     ]
    },
    {
     "name": "stdout",
     "output_type": "stream",
     "text": [
      "[SKIPPED] Missing file: datasets/thyroid_ultrasonic_image/batch1_image/dataset/339_004.Jpg\n"
     ]
    },
    {
     "name": "stderr",
     "output_type": "stream",
     "text": [
      "Extracting patient features:  57%|█████▋    | 340/601 [06:08<06:06,  1.41s/it]"
     ]
    },
    {
     "name": "stdout",
     "output_type": "stream",
     "text": [
      "[SKIPPED] Missing file: datasets/thyroid_ultrasonic_image/batch1_image/dataset/340_024.Jpg\n",
      "[SKIPPED] Missing file: datasets/thyroid_ultrasonic_image/batch1_image/dataset/340_025.Jpg\n",
      "[SKIPPED] Missing file: datasets/thyroid_ultrasonic_image/batch1_image/dataset/340_028.Jpg\n",
      "[WARNING] No valid images for patient: 340, skipping\n",
      "[SKIPPED] Missing file: datasets/thyroid_ultrasonic_image/batch1_image/dataset/341_007.Jpg\n"
     ]
    },
    {
     "name": "stderr",
     "output_type": "stream",
     "text": [
      "Extracting patient features:  57%|█████▋    | 342/601 [06:09<04:40,  1.08s/it]"
     ]
    },
    {
     "name": "stdout",
     "output_type": "stream",
     "text": [
      "[SKIPPED] Missing file: datasets/thyroid_ultrasonic_image/batch1_image/dataset/342_001.Jpg\n",
      "[WARNING] No valid images for patient: 342, skipping\n",
      "[SKIPPED] Missing file: datasets/thyroid_ultrasonic_image/batch1_image/dataset/343_004.Jpg\n"
     ]
    },
    {
     "name": "stderr",
     "output_type": "stream",
     "text": [
      "Extracting patient features:  57%|█████▋    | 344/601 [06:11<04:04,  1.05it/s]"
     ]
    },
    {
     "name": "stdout",
     "output_type": "stream",
     "text": [
      "[SKIPPED] Missing file: datasets/thyroid_ultrasonic_image/batch1_image/dataset/343_010.Jpg\n",
      "[SKIPPED] Missing file: datasets/thyroid_ultrasonic_image/batch1_image/dataset/343_011.Jpg\n",
      "[SKIPPED] Missing file: datasets/thyroid_ultrasonic_image/batch1_image/dataset/343_012.Jpg\n"
     ]
    },
    {
     "name": "stderr",
     "output_type": "stream",
     "text": [
      "Extracting patient features:  58%|█████▊    | 346/601 [06:14<05:12,  1.23s/it]"
     ]
    },
    {
     "name": "stdout",
     "output_type": "stream",
     "text": [
      "[SKIPPED] Missing file: datasets/thyroid_ultrasonic_image/batch1_image/dataset/346_002.Jpg\n"
     ]
    },
    {
     "name": "stderr",
     "output_type": "stream",
     "text": [
      "Extracting patient features:  58%|█████▊    | 347/601 [06:15<04:36,  1.09s/it]"
     ]
    },
    {
     "name": "stdout",
     "output_type": "stream",
     "text": [
      "[SKIPPED] Missing file: datasets/thyroid_ultrasonic_image/batch1_image/dataset/346_005.Jpg\n",
      "[SKIPPED] Missing file: datasets/thyroid_ultrasonic_image/batch1_image/dataset/346_006.Jpg\n",
      "[SKIPPED] Missing file: datasets/thyroid_ultrasonic_image/batch1_image/dataset/346_007.Jpg\n",
      "[SKIPPED] Missing file: datasets/thyroid_ultrasonic_image/batch1_image/dataset/346_008.Jpg\n",
      "[SKIPPED] Missing file: datasets/thyroid_ultrasonic_image/batch1_image/dataset/346_009.Jpg\n",
      "[SKIPPED] Missing file: datasets/thyroid_ultrasonic_image/batch1_image/dataset/346_010.Jpg\n"
     ]
    },
    {
     "name": "stderr",
     "output_type": "stream",
     "text": [
      "Extracting patient features:  58%|█████▊    | 348/601 [06:16<04:00,  1.05it/s]"
     ]
    },
    {
     "name": "stdout",
     "output_type": "stream",
     "text": [
      "[SKIPPED] Missing file: datasets/thyroid_ultrasonic_image/batch1_image/dataset/347_004.Jpg\n",
      "[SKIPPED] Missing file: datasets/thyroid_ultrasonic_image/batch1_image/dataset/347_005.Jpg\n",
      "[SKIPPED] Missing file: datasets/thyroid_ultrasonic_image/batch1_image/dataset/347_006.Jpg\n",
      "[SKIPPED] Missing file: datasets/thyroid_ultrasonic_image/batch1_image/dataset/347_007.Jpg\n",
      "[SKIPPED] Missing file: datasets/thyroid_ultrasonic_image/batch1_image/dataset/347_008.Jpg\n",
      "[SKIPPED] Missing file: datasets/thyroid_ultrasonic_image/batch1_image/dataset/347_009.Jpg\n",
      "[SKIPPED] Missing file: datasets/thyroid_ultrasonic_image/batch1_image/dataset/347_010.Jpg\n",
      "[SKIPPED] Missing file: datasets/thyroid_ultrasonic_image/batch1_image/dataset/347_011.Jpg\n"
     ]
    },
    {
     "name": "stderr",
     "output_type": "stream",
     "text": [
      "Extracting patient features:  58%|█████▊    | 349/601 [06:17<04:26,  1.06s/it]"
     ]
    },
    {
     "name": "stdout",
     "output_type": "stream",
     "text": [
      "[SKIPPED] Missing file: datasets/thyroid_ultrasonic_image/batch1_image/dataset/348_008.Jpg\n",
      "[SKIPPED] Missing file: datasets/thyroid_ultrasonic_image/batch1_image/dataset/348_009.Jpg\n",
      "[SKIPPED] Missing file: datasets/thyroid_ultrasonic_image/batch1_image/dataset/348_010.Jpg\n"
     ]
    },
    {
     "name": "stderr",
     "output_type": "stream",
     "text": [
      "Extracting patient features:  58%|█████▊    | 350/601 [06:19<05:05,  1.22s/it]"
     ]
    },
    {
     "name": "stdout",
     "output_type": "stream",
     "text": [
      "[SKIPPED] Missing file: datasets/thyroid_ultrasonic_image/batch1_image/dataset/349_009.Jpg\n"
     ]
    },
    {
     "name": "stderr",
     "output_type": "stream",
     "text": [
      "Extracting patient features:  58%|█████▊    | 351/601 [06:20<04:47,  1.15s/it]"
     ]
    },
    {
     "name": "stdout",
     "output_type": "stream",
     "text": [
      "[SKIPPED] Missing file: datasets/thyroid_ultrasonic_image/batch1_image/dataset/351_022.Jpg\n",
      "[SKIPPED] Missing file: datasets/thyroid_ultrasonic_image/batch1_image/dataset/351_023.Jpg\n",
      "[SKIPPED] Missing file: datasets/thyroid_ultrasonic_image/batch1_image/dataset/351_024.Jpg\n",
      "[SKIPPED] Missing file: datasets/thyroid_ultrasonic_image/batch1_image/dataset/351_025.Jpg\n",
      "[SKIPPED] Missing file: datasets/thyroid_ultrasonic_image/batch1_image/dataset/351_026.Jpg\n",
      "[SKIPPED] Missing file: datasets/thyroid_ultrasonic_image/batch1_image/dataset/351_027.Jpg\n",
      "[WARNING] No valid images for patient: 351, skipping\n"
     ]
    },
    {
     "name": "stderr",
     "output_type": "stream",
     "text": [
      "Extracting patient features:  59%|█████▊    | 353/601 [06:22<04:37,  1.12s/it]"
     ]
    },
    {
     "name": "stdout",
     "output_type": "stream",
     "text": [
      "[SKIPPED] Missing file: datasets/thyroid_ultrasonic_image/batch1_image/dataset/352_013.Jpg\n",
      "[SKIPPED] Missing file: datasets/thyroid_ultrasonic_image/batch1_image/dataset/352_015.Jpg\n"
     ]
    },
    {
     "name": "stderr",
     "output_type": "stream",
     "text": [
      "Extracting patient features:  59%|█████▉    | 354/601 [06:23<04:11,  1.02s/it]"
     ]
    },
    {
     "name": "stdout",
     "output_type": "stream",
     "text": [
      "[SKIPPED] Missing file: datasets/thyroid_ultrasonic_image/batch1_image/dataset/353_005.Jpg\n",
      "[SKIPPED] Missing file: datasets/thyroid_ultrasonic_image/batch1_image/dataset/353_006.Jpg\n",
      "[SKIPPED] Missing file: datasets/thyroid_ultrasonic_image/batch1_image/dataset/353_007.Jpg\n",
      "[SKIPPED] Missing file: datasets/thyroid_ultrasonic_image/batch1_image/dataset/353_008.Jpg\n",
      "[SKIPPED] Missing file: datasets/thyroid_ultrasonic_image/batch1_image/dataset/353_009.Jpg\n",
      "[SKIPPED] Missing file: datasets/thyroid_ultrasonic_image/batch1_image/dataset/353_010.Jpg\n",
      "[SKIPPED] Missing file: datasets/thyroid_ultrasonic_image/batch1_image/dataset/353_011.Jpg\n",
      "[SKIPPED] Missing file: datasets/thyroid_ultrasonic_image/batch1_image/dataset/353_012.Jpg\n",
      "[SKIPPED] Missing file: datasets/thyroid_ultrasonic_image/batch1_image/dataset/353_014.Jpg\n",
      "[SKIPPED] Missing file: datasets/thyroid_ultrasonic_image/batch1_image/dataset/353_015.Jpg\n",
      "[SKIPPED] Missing file: datasets/thyroid_ultrasonic_image/batch1_image/dataset/353_016.Jpg\n",
      "[SKIPPED] Missing file: datasets/thyroid_ultrasonic_image/batch1_image/dataset/353_017.Jpg\n"
     ]
    },
    {
     "name": "stderr",
     "output_type": "stream",
     "text": [
      "Extracting patient features:  59%|█████▉    | 357/601 [06:26<04:08,  1.02s/it]"
     ]
    },
    {
     "name": "stdout",
     "output_type": "stream",
     "text": [
      "[SKIPPED] Missing file: datasets/thyroid_ultrasonic_image/batch1_image/dataset/356_005.Jpg\n",
      "[SKIPPED] Missing file: datasets/thyroid_ultrasonic_image/batch1_image/dataset/356_006.Jpg\n",
      "[SKIPPED] Missing file: datasets/thyroid_ultrasonic_image/batch1_image/dataset/356_007.Jpg\n",
      "[SKIPPED] Missing file: datasets/thyroid_ultrasonic_image/batch1_image/dataset/356_008.Jpg\n",
      "[SKIPPED] Missing file: datasets/thyroid_ultrasonic_image/batch1_image/dataset/356_010.Jpg\n",
      "[SKIPPED] Missing file: datasets/thyroid_ultrasonic_image/batch1_image/dataset/356_012.Jpg\n",
      "[SKIPPED] Missing file: datasets/thyroid_ultrasonic_image/batch1_image/dataset/356_013.Jpg\n",
      "[SKIPPED] Missing file: datasets/thyroid_ultrasonic_image/batch1_image/dataset/356_014.Jpg\n",
      "[SKIPPED] Missing file: datasets/thyroid_ultrasonic_image/batch1_image/dataset/356_015.Jpg\n",
      "[SKIPPED] Missing file: datasets/thyroid_ultrasonic_image/batch1_image/dataset/357_001.Jpg\n",
      "[SKIPPED] Missing file: datasets/thyroid_ultrasonic_image/batch1_image/dataset/357_002.Jpg\n",
      "[SKIPPED] Missing file: datasets/thyroid_ultrasonic_image/batch1_image/dataset/357_003.Jpg\n",
      "[SKIPPED] Missing file: datasets/thyroid_ultrasonic_image/batch1_image/dataset/357_004.Jpg\n",
      "[SKIPPED] Missing file: datasets/thyroid_ultrasonic_image/batch1_image/dataset/357_005.Jpg\n",
      "[SKIPPED] Missing file: datasets/thyroid_ultrasonic_image/batch1_image/dataset/357_006.Jpg\n",
      "[SKIPPED] Missing file: datasets/thyroid_ultrasonic_image/batch1_image/dataset/357_007.Jpg\n",
      "[SKIPPED] Missing file: datasets/thyroid_ultrasonic_image/batch1_image/dataset/357_008.Jpg\n",
      "[SKIPPED] Missing file: datasets/thyroid_ultrasonic_image/batch1_image/dataset/357_009.Jpg\n",
      "[SKIPPED] Missing file: datasets/thyroid_ultrasonic_image/batch1_image/dataset/357_010.Jpg\n",
      "[SKIPPED] Missing file: datasets/thyroid_ultrasonic_image/batch1_image/dataset/357_011.Jpg\n",
      "[SKIPPED] Missing file: datasets/thyroid_ultrasonic_image/batch1_image/dataset/357_012.Jpg\n",
      "[WARNING] No valid images for patient: 357, skipping\n"
     ]
    },
    {
     "name": "stderr",
     "output_type": "stream",
     "text": [
      "Extracting patient features:  60%|██████    | 361/601 [06:30<04:31,  1.13s/it]"
     ]
    },
    {
     "name": "stdout",
     "output_type": "stream",
     "text": [
      "[SKIPPED] Missing file: datasets/thyroid_ultrasonic_image/batch1_image/dataset/360_006.Jpg\n",
      "[SKIPPED] Missing file: datasets/thyroid_ultrasonic_image/batch1_image/dataset/360_007.Jpg\n",
      "[SKIPPED] Missing file: datasets/thyroid_ultrasonic_image/batch1_image/dataset/360_009.Jpg\n",
      "[SKIPPED] Missing file: datasets/thyroid_ultrasonic_image/batch1_image/dataset/360_010.Jpg\n",
      "[SKIPPED] Missing file: datasets/thyroid_ultrasonic_image/batch1_image/dataset/360_011.Jpg\n"
     ]
    },
    {
     "name": "stderr",
     "output_type": "stream",
     "text": [
      "Extracting patient features:  60%|██████    | 362/601 [06:30<03:29,  1.14it/s]"
     ]
    },
    {
     "name": "stdout",
     "output_type": "stream",
     "text": [
      "[SKIPPED] Missing file: datasets/thyroid_ultrasonic_image/batch1_image/dataset/361_019.Jpg\n",
      "[SKIPPED] Missing file: datasets/thyroid_ultrasonic_image/batch1_image/dataset/361_020.Jpg\n",
      "[SKIPPED] Missing file: datasets/thyroid_ultrasonic_image/batch1_image/dataset/361_021.Jpg\n",
      "[SKIPPED] Missing file: datasets/thyroid_ultrasonic_image/batch1_image/dataset/361_022.Jpg\n",
      "[SKIPPED] Missing file: datasets/thyroid_ultrasonic_image/batch1_image/dataset/361_023.Jpg\n",
      "[SKIPPED] Missing file: datasets/thyroid_ultrasonic_image/batch1_image/dataset/361_024.Jpg\n",
      "[SKIPPED] Missing file: datasets/thyroid_ultrasonic_image/batch1_image/dataset/361_025.Jpg\n"
     ]
    },
    {
     "name": "stderr",
     "output_type": "stream",
     "text": [
      "Extracting patient features:  61%|██████    | 364/601 [06:32<03:22,  1.17it/s]"
     ]
    },
    {
     "name": "stdout",
     "output_type": "stream",
     "text": [
      "[SKIPPED] Missing file: datasets/thyroid_ultrasonic_image/batch1_image/dataset/363_009.Jpg\n",
      "[SKIPPED] Missing file: datasets/thyroid_ultrasonic_image/batch1_image/dataset/363_010.Jpg\n",
      "[SKIPPED] Missing file: datasets/thyroid_ultrasonic_image/batch1_image/dataset/363_011.Jpg\n",
      "[SKIPPED] Missing file: datasets/thyroid_ultrasonic_image/batch1_image/dataset/363_012.Jpg\n",
      "[SKIPPED] Missing file: datasets/thyroid_ultrasonic_image/batch1_image/dataset/363_013.Jpg\n",
      "[SKIPPED] Missing file: datasets/thyroid_ultrasonic_image/batch1_image/dataset/363_018.Jpg\n",
      "[SKIPPED] Missing file: datasets/thyroid_ultrasonic_image/batch1_image/dataset/363_019.Jpg\n",
      "[SKIPPED] Missing file: datasets/thyroid_ultrasonic_image/batch1_image/dataset/363_020.Jpg\n",
      "[SKIPPED] Missing file: datasets/thyroid_ultrasonic_image/batch1_image/dataset/363_021.Jpg\n"
     ]
    },
    {
     "name": "stderr",
     "output_type": "stream",
     "text": [
      "Extracting patient features:  61%|██████    | 366/601 [06:34<03:52,  1.01it/s]"
     ]
    },
    {
     "name": "stdout",
     "output_type": "stream",
     "text": [
      "[SKIPPED] Missing file: datasets/thyroid_ultrasonic_image/batch1_image/dataset/365_020.Jpg\n"
     ]
    },
    {
     "name": "stderr",
     "output_type": "stream",
     "text": [
      "Extracting patient features:  61%|██████    | 367/601 [06:35<03:55,  1.01s/it]"
     ]
    },
    {
     "name": "stdout",
     "output_type": "stream",
     "text": [
      "[SKIPPED] Missing file: datasets/thyroid_ultrasonic_image/batch1_image/dataset/367_001.Jpg\n",
      "[SKIPPED] Missing file: datasets/thyroid_ultrasonic_image/batch1_image/dataset/367_002.Jpg\n",
      "[SKIPPED] Missing file: datasets/thyroid_ultrasonic_image/batch1_image/dataset/367_003.Jpg\n",
      "[SKIPPED] Missing file: datasets/thyroid_ultrasonic_image/batch1_image/dataset/367_004.Jpg\n",
      "[SKIPPED] Missing file: datasets/thyroid_ultrasonic_image/batch1_image/dataset/367_005.Jpg\n",
      "[SKIPPED] Missing file: datasets/thyroid_ultrasonic_image/batch1_image/dataset/367_006.Jpg\n",
      "[SKIPPED] Missing file: datasets/thyroid_ultrasonic_image/batch1_image/dataset/367_008.Jpg\n",
      "[SKIPPED] Missing file: datasets/thyroid_ultrasonic_image/batch1_image/dataset/367_009.Jpg\n",
      "[SKIPPED] Missing file: datasets/thyroid_ultrasonic_image/batch1_image/dataset/367_010.Jpg\n",
      "[SKIPPED] Missing file: datasets/thyroid_ultrasonic_image/batch1_image/dataset/367_011.Jpg\n",
      "[WARNING] No valid images for patient: 367, skipping\n"
     ]
    },
    {
     "name": "stderr",
     "output_type": "stream",
     "text": [
      "Extracting patient features:  62%|██████▏   | 370/601 [06:38<03:28,  1.11it/s]"
     ]
    },
    {
     "name": "stdout",
     "output_type": "stream",
     "text": [
      "[SKIPPED] Missing file: datasets/thyroid_ultrasonic_image/batch1_image/dataset/370_001.Jpg\n",
      "[SKIPPED] Missing file: datasets/thyroid_ultrasonic_image/batch1_image/dataset/370_002.Jpg\n",
      "[SKIPPED] Missing file: datasets/thyroid_ultrasonic_image/batch1_image/dataset/370_003.Jpg\n",
      "[SKIPPED] Missing file: datasets/thyroid_ultrasonic_image/batch1_image/dataset/370_004.Jpg\n",
      "[WARNING] No valid images for patient: 370, skipping\n"
     ]
    },
    {
     "name": "stderr",
     "output_type": "stream",
     "text": [
      "Extracting patient features:  62%|██████▏   | 372/601 [06:38<02:35,  1.47it/s]"
     ]
    },
    {
     "name": "stdout",
     "output_type": "stream",
     "text": [
      "[SKIPPED] Missing file: datasets/thyroid_ultrasonic_image/batch1_image/dataset/372_001.Jpg\n",
      "[SKIPPED] Missing file: datasets/thyroid_ultrasonic_image/batch1_image/dataset/372_002.Jpg\n",
      "[SKIPPED] Missing file: datasets/thyroid_ultrasonic_image/batch1_image/dataset/372_003.Jpg\n",
      "[SKIPPED] Missing file: datasets/thyroid_ultrasonic_image/batch1_image/dataset/372_004.Jpg\n",
      "[SKIPPED] Missing file: datasets/thyroid_ultrasonic_image/batch1_image/dataset/372_005.Jpg\n",
      "[SKIPPED] Missing file: datasets/thyroid_ultrasonic_image/batch1_image/dataset/372_006.Jpg\n",
      "[SKIPPED] Missing file: datasets/thyroid_ultrasonic_image/batch1_image/dataset/372_007.Jpg\n",
      "[SKIPPED] Missing file: datasets/thyroid_ultrasonic_image/batch1_image/dataset/372_008.Jpg\n",
      "[SKIPPED] Missing file: datasets/thyroid_ultrasonic_image/batch1_image/dataset/372_009.Jpg\n",
      "[SKIPPED] Missing file: datasets/thyroid_ultrasonic_image/batch1_image/dataset/372_010.Jpg\n",
      "[SKIPPED] Missing file: datasets/thyroid_ultrasonic_image/batch1_image/dataset/372_011.Jpg\n",
      "[SKIPPED] Missing file: datasets/thyroid_ultrasonic_image/batch1_image/dataset/372_012.Jpg\n",
      "[SKIPPED] Missing file: datasets/thyroid_ultrasonic_image/batch1_image/dataset/372_013.Jpg\n",
      "[SKIPPED] Missing file: datasets/thyroid_ultrasonic_image/batch1_image/dataset/372_014.Jpg\n",
      "[SKIPPED] Missing file: datasets/thyroid_ultrasonic_image/batch1_image/dataset/372_015.Jpg\n",
      "[SKIPPED] Missing file: datasets/thyroid_ultrasonic_image/batch1_image/dataset/372_016.Jpg\n",
      "[SKIPPED] Missing file: datasets/thyroid_ultrasonic_image/batch1_image/dataset/372_017.Jpg\n",
      "[WARNING] No valid images for patient: 372, skipping\n"
     ]
    },
    {
     "name": "stderr",
     "output_type": "stream",
     "text": [
      "Extracting patient features:  62%|██████▏   | 374/601 [06:39<02:16,  1.66it/s]"
     ]
    },
    {
     "name": "stdout",
     "output_type": "stream",
     "text": [
      "[SKIPPED] Missing file: datasets/thyroid_ultrasonic_image/batch1_image/dataset/374_001.Jpg\n",
      "[SKIPPED] Missing file: datasets/thyroid_ultrasonic_image/batch1_image/dataset/374_002.Jpg\n",
      "[SKIPPED] Missing file: datasets/thyroid_ultrasonic_image/batch1_image/dataset/374_005.Jpg\n",
      "[SKIPPED] Missing file: datasets/thyroid_ultrasonic_image/batch1_image/dataset/374_006.Jpg\n"
     ]
    },
    {
     "name": "stderr",
     "output_type": "stream",
     "text": [
      "Extracting patient features:  62%|██████▏   | 375/601 [06:41<03:03,  1.23it/s]"
     ]
    },
    {
     "name": "stdout",
     "output_type": "stream",
     "text": [
      "[SKIPPED] Missing file: datasets/thyroid_ultrasonic_image/batch1_image/dataset/374_014.Jpg\n"
     ]
    },
    {
     "name": "stderr",
     "output_type": "stream",
     "text": [
      "Extracting patient features:  63%|██████▎   | 376/601 [06:42<03:40,  1.02it/s]"
     ]
    },
    {
     "name": "stdout",
     "output_type": "stream",
     "text": [
      "[SKIPPED] Missing file: datasets/thyroid_ultrasonic_image/batch1_image/dataset/375_009.Jpg\n",
      "[SKIPPED] Missing file: datasets/thyroid_ultrasonic_image/batch1_image/dataset/375_010.Jpg\n",
      "[SKIPPED] Missing file: datasets/thyroid_ultrasonic_image/batch1_image/dataset/375_011.Jpg\n",
      "[SKIPPED] Missing file: datasets/thyroid_ultrasonic_image/batch1_image/dataset/375_013.Jpg\n",
      "[SKIPPED] Missing file: datasets/thyroid_ultrasonic_image/batch1_image/dataset/375_015.Jpg\n"
     ]
    },
    {
     "name": "stderr",
     "output_type": "stream",
     "text": [
      "Extracting patient features:  63%|██████▎   | 377/601 [06:43<03:29,  1.07it/s]"
     ]
    },
    {
     "name": "stdout",
     "output_type": "stream",
     "text": [
      "[SKIPPED] Missing file: datasets/thyroid_ultrasonic_image/batch1_image/dataset/376_006.Jpg\n",
      "[SKIPPED] Missing file: datasets/thyroid_ultrasonic_image/batch1_image/dataset/376_007.Jpg\n",
      "[SKIPPED] Missing file: datasets/thyroid_ultrasonic_image/batch1_image/dataset/376_008.Jpg\n",
      "[SKIPPED] Missing file: datasets/thyroid_ultrasonic_image/batch1_image/dataset/376_010.Jpg\n",
      "[SKIPPED] Missing file: datasets/thyroid_ultrasonic_image/batch1_image/dataset/377_022.Jpg\n",
      "[SKIPPED] Missing file: datasets/thyroid_ultrasonic_image/batch1_image/dataset/377_023.Jpg\n",
      "[SKIPPED] Missing file: datasets/thyroid_ultrasonic_image/batch1_image/dataset/377_024.Jpg\n",
      "[SKIPPED] Missing file: datasets/thyroid_ultrasonic_image/batch1_image/dataset/377_025.Jpg\n",
      "[SKIPPED] Missing file: datasets/thyroid_ultrasonic_image/batch1_image/dataset/377_026.Jpg\n",
      "[SKIPPED] Missing file: datasets/thyroid_ultrasonic_image/batch1_image/dataset/377_027.Jpg\n",
      "[WARNING] No valid images for patient: 377, skipping\n"
     ]
    },
    {
     "name": "stderr",
     "output_type": "stream",
     "text": [
      "Extracting patient features:  63%|██████▎   | 379/601 [06:45<03:34,  1.04it/s]"
     ]
    },
    {
     "name": "stdout",
     "output_type": "stream",
     "text": [
      "[SKIPPED] Missing file: datasets/thyroid_ultrasonic_image/batch1_image/dataset/379_001.Jpg\n",
      "[SKIPPED] Missing file: datasets/thyroid_ultrasonic_image/batch1_image/dataset/379_002.Jpg\n",
      "[SKIPPED] Missing file: datasets/thyroid_ultrasonic_image/batch1_image/dataset/379_003.Jpg\n",
      "[SKIPPED] Missing file: datasets/thyroid_ultrasonic_image/batch1_image/dataset/379_004.Jpg\n",
      "[SKIPPED] Missing file: datasets/thyroid_ultrasonic_image/batch1_image/dataset/379_005.Jpg\n",
      "[SKIPPED] Missing file: datasets/thyroid_ultrasonic_image/batch1_image/dataset/379_006.Jpg\n",
      "[SKIPPED] Missing file: datasets/thyroid_ultrasonic_image/batch1_image/dataset/379_007.Jpg\n",
      "[SKIPPED] Missing file: datasets/thyroid_ultrasonic_image/batch1_image/dataset/379_008.Jpg\n",
      "[SKIPPED] Missing file: datasets/thyroid_ultrasonic_image/batch1_image/dataset/379_011.Jpg\n",
      "[WARNING] No valid images for patient: 379, skipping\n",
      "[SKIPPED] Missing file: datasets/thyroid_ultrasonic_image/batch1_image/dataset/380_010.Jpg\n",
      "[SKIPPED] Missing file: datasets/thyroid_ultrasonic_image/batch1_image/dataset/380_011.Jpg\n",
      "[SKIPPED] Missing file: datasets/thyroid_ultrasonic_image/batch1_image/dataset/380_012.Jpg\n",
      "[SKIPPED] Missing file: datasets/thyroid_ultrasonic_image/batch1_image/dataset/380_013.Jpg\n",
      "[SKIPPED] Missing file: datasets/thyroid_ultrasonic_image/batch1_image/dataset/380_014.Jpg\n",
      "[WARNING] No valid images for patient: 380, skipping\n"
     ]
    },
    {
     "name": "stderr",
     "output_type": "stream",
     "text": [
      "Extracting patient features:  64%|██████▎   | 382/601 [06:46<02:17,  1.59it/s]"
     ]
    },
    {
     "name": "stdout",
     "output_type": "stream",
     "text": [
      "[SKIPPED] Missing file: datasets/thyroid_ultrasonic_image/batch1_image/dataset/381_005.Jpg\n"
     ]
    },
    {
     "name": "stderr",
     "output_type": "stream",
     "text": [
      "Extracting patient features:  64%|██████▎   | 383/601 [06:48<03:10,  1.15it/s]"
     ]
    },
    {
     "name": "stdout",
     "output_type": "stream",
     "text": [
      "[SKIPPED] Missing file: datasets/thyroid_ultrasonic_image/batch1_image/dataset/382_015.Jpg\n",
      "[SKIPPED] Missing file: datasets/thyroid_ultrasonic_image/batch1_image/dataset/382_016.Jpg\n"
     ]
    },
    {
     "name": "stderr",
     "output_type": "stream",
     "text": [
      "Extracting patient features:  64%|██████▍   | 384/601 [06:50<03:55,  1.09s/it]"
     ]
    },
    {
     "name": "stdout",
     "output_type": "stream",
     "text": [
      "[SKIPPED] Missing file: datasets/thyroid_ultrasonic_image/batch1_image/dataset/383_011.Jpg\n",
      "[SKIPPED] Missing file: datasets/thyroid_ultrasonic_image/batch1_image/dataset/383_012.Jpg\n",
      "[SKIPPED] Missing file: datasets/thyroid_ultrasonic_image/batch1_image/dataset/383_013.Jpg\n"
     ]
    },
    {
     "name": "stderr",
     "output_type": "stream",
     "text": [
      "Extracting patient features:  64%|██████▍   | 386/601 [06:51<03:29,  1.02it/s]"
     ]
    },
    {
     "name": "stdout",
     "output_type": "stream",
     "text": [
      "[SKIPPED] Missing file: datasets/thyroid_ultrasonic_image/batch1_image/dataset/385_005.Jpg\n",
      "[SKIPPED] Missing file: datasets/thyroid_ultrasonic_image/batch1_image/dataset/385_006.Jpg\n",
      "[SKIPPED] Missing file: datasets/thyroid_ultrasonic_image/batch1_image/dataset/385_007.Jpg\n",
      "[SKIPPED] Missing file: datasets/thyroid_ultrasonic_image/batch1_image/dataset/385_008.Jpg\n",
      "[SKIPPED] Missing file: datasets/thyroid_ultrasonic_image/batch1_image/dataset/385_009.Jpg\n",
      "[SKIPPED] Missing file: datasets/thyroid_ultrasonic_image/batch1_image/dataset/386_001.Jpg\n",
      "[SKIPPED] Missing file: datasets/thyroid_ultrasonic_image/batch1_image/dataset/386_002.Jpg\n",
      "[SKIPPED] Missing file: datasets/thyroid_ultrasonic_image/batch1_image/dataset/386_003.Jpg\n",
      "[SKIPPED] Missing file: datasets/thyroid_ultrasonic_image/batch1_image/dataset/386_004.Jpg\n",
      "[SKIPPED] Missing file: datasets/thyroid_ultrasonic_image/batch1_image/dataset/386_005.Jpg\n",
      "[SKIPPED] Missing file: datasets/thyroid_ultrasonic_image/batch1_image/dataset/386_006.Jpg\n",
      "[SKIPPED] Missing file: datasets/thyroid_ultrasonic_image/batch1_image/dataset/386_007.Jpg\n",
      "[SKIPPED] Missing file: datasets/thyroid_ultrasonic_image/batch1_image/dataset/386_008.Jpg\n",
      "[SKIPPED] Missing file: datasets/thyroid_ultrasonic_image/batch1_image/dataset/386_009.Jpg\n",
      "[SKIPPED] Missing file: datasets/thyroid_ultrasonic_image/batch1_image/dataset/386_010.Jpg\n",
      "[SKIPPED] Missing file: datasets/thyroid_ultrasonic_image/batch1_image/dataset/386_011.Jpg\n",
      "[SKIPPED] Missing file: datasets/thyroid_ultrasonic_image/batch1_image/dataset/386_012.Jpg\n",
      "[SKIPPED] Missing file: datasets/thyroid_ultrasonic_image/batch1_image/dataset/386_013.Jpg\n",
      "[SKIPPED] Missing file: datasets/thyroid_ultrasonic_image/batch1_image/dataset/386_014.Jpg\n",
      "[SKIPPED] Missing file: datasets/thyroid_ultrasonic_image/batch1_image/dataset/386_015.Jpg\n",
      "[SKIPPED] Missing file: datasets/thyroid_ultrasonic_image/batch1_image/dataset/386_016.Jpg\n",
      "[WARNING] No valid images for patient: 386, skipping\n"
     ]
    },
    {
     "name": "stderr",
     "output_type": "stream",
     "text": [
      "Extracting patient features:  65%|██████▍   | 388/601 [06:53<02:51,  1.24it/s]"
     ]
    },
    {
     "name": "stdout",
     "output_type": "stream",
     "text": [
      "[SKIPPED] Missing file: datasets/thyroid_ultrasonic_image/batch1_image/dataset/387_007.Jpg\n",
      "[SKIPPED] Missing file: datasets/thyroid_ultrasonic_image/batch1_image/dataset/387_009.Jpg\n",
      "[SKIPPED] Missing file: datasets/thyroid_ultrasonic_image/batch1_image/dataset/387_010.Jpg\n",
      "[SKIPPED] Missing file: datasets/thyroid_ultrasonic_image/batch1_image/dataset/387_011.Jpg\n",
      "[SKIPPED] Missing file: datasets/thyroid_ultrasonic_image/batch1_image/dataset/387_012.Jpg\n"
     ]
    },
    {
     "name": "stderr",
     "output_type": "stream",
     "text": [
      "Extracting patient features:  65%|██████▌   | 391/601 [06:57<03:48,  1.09s/it]"
     ]
    },
    {
     "name": "stdout",
     "output_type": "stream",
     "text": [
      "[SKIPPED] Missing file: datasets/thyroid_ultrasonic_image/batch1_image/dataset/390_007.Jpg\n",
      "[SKIPPED] Missing file: datasets/thyroid_ultrasonic_image/batch1_image/dataset/391_001.Jpg\n",
      "[SKIPPED] Missing file: datasets/thyroid_ultrasonic_image/batch1_image/dataset/391_002.Jpg\n",
      "[SKIPPED] Missing file: datasets/thyroid_ultrasonic_image/batch1_image/dataset/391_003.Jpg\n",
      "[SKIPPED] Missing file: datasets/thyroid_ultrasonic_image/batch1_image/dataset/391_004.Jpg\n",
      "[SKIPPED] Missing file: datasets/thyroid_ultrasonic_image/batch1_image/dataset/391_006.Jpg\n",
      "[SKIPPED] Missing file: datasets/thyroid_ultrasonic_image/batch1_image/dataset/391_007.Jpg\n",
      "[WARNING] No valid images for patient: 391, skipping\n"
     ]
    },
    {
     "name": "stderr",
     "output_type": "stream",
     "text": [
      "Extracting patient features:  65%|██████▌   | 393/601 [06:58<03:03,  1.13it/s]"
     ]
    },
    {
     "name": "stdout",
     "output_type": "stream",
     "text": [
      "[SKIPPED] Missing file: datasets/thyroid_ultrasonic_image/batch1_image/dataset/392_008.Jpg\n",
      "[SKIPPED] Missing file: datasets/thyroid_ultrasonic_image/batch1_image/dataset/392_009.Jpg\n",
      "[SKIPPED] Missing file: datasets/thyroid_ultrasonic_image/batch1_image/dataset/392_010.Jpg\n",
      "[SKIPPED] Missing file: datasets/thyroid_ultrasonic_image/batch1_image/dataset/392_011.Jpg\n"
     ]
    },
    {
     "name": "stderr",
     "output_type": "stream",
     "text": [
      "Extracting patient features:  66%|██████▌   | 394/601 [06:59<02:53,  1.19it/s]"
     ]
    },
    {
     "name": "stdout",
     "output_type": "stream",
     "text": [
      "[SKIPPED] Missing file: datasets/thyroid_ultrasonic_image/batch1_image/dataset/394_021.Jpg\n",
      "[SKIPPED] Missing file: datasets/thyroid_ultrasonic_image/batch1_image/dataset/394_022.Jpg\n",
      "[SKIPPED] Missing file: datasets/thyroid_ultrasonic_image/batch1_image/dataset/394_023.Jpg\n",
      "[SKIPPED] Missing file: datasets/thyroid_ultrasonic_image/batch1_image/dataset/394_024.Jpg\n"
     ]
    },
    {
     "name": "stderr",
     "output_type": "stream",
     "text": [
      "Extracting patient features:  66%|██████▌   | 396/601 [07:00<02:34,  1.33it/s]"
     ]
    },
    {
     "name": "stdout",
     "output_type": "stream",
     "text": [
      "[SKIPPED] Missing file: datasets/thyroid_ultrasonic_image/batch1_image/dataset/396_001.Jpg\n",
      "[SKIPPED] Missing file: datasets/thyroid_ultrasonic_image/batch1_image/dataset/396_002.Jpg\n",
      "[SKIPPED] Missing file: datasets/thyroid_ultrasonic_image/batch1_image/dataset/396_003.Jpg\n",
      "[SKIPPED] Missing file: datasets/thyroid_ultrasonic_image/batch1_image/dataset/396_004.Jpg\n",
      "[SKIPPED] Missing file: datasets/thyroid_ultrasonic_image/batch1_image/dataset/396_005.Jpg\n",
      "[SKIPPED] Missing file: datasets/thyroid_ultrasonic_image/batch1_image/dataset/396_006.Jpg\n",
      "[WARNING] No valid images for patient: 396, skipping\n"
     ]
    },
    {
     "name": "stderr",
     "output_type": "stream",
     "text": [
      "Extracting patient features:  66%|██████▌   | 398/601 [07:01<02:04,  1.62it/s]"
     ]
    },
    {
     "name": "stdout",
     "output_type": "stream",
     "text": [
      "[SKIPPED] Missing file: datasets/thyroid_ultrasonic_image/batch1_image/dataset/397_006.Jpg\n"
     ]
    },
    {
     "name": "stderr",
     "output_type": "stream",
     "text": [
      "Extracting patient features:  66%|██████▋   | 399/601 [07:01<02:09,  1.57it/s]"
     ]
    },
    {
     "name": "stdout",
     "output_type": "stream",
     "text": [
      "[SKIPPED] Missing file: datasets/thyroid_ultrasonic_image/batch1_image/dataset/398_005.Jpg\n"
     ]
    },
    {
     "name": "stderr",
     "output_type": "stream",
     "text": [
      "Extracting patient features:  67%|██████▋   | 400/601 [07:03<03:02,  1.10it/s]"
     ]
    },
    {
     "name": "stdout",
     "output_type": "stream",
     "text": [
      "[SKIPPED] Missing file: datasets/thyroid_ultrasonic_image/batch1_image/dataset/400_001.Jpg\n",
      "[SKIPPED] Missing file: datasets/thyroid_ultrasonic_image/batch1_image/dataset/400_002.Jpg\n",
      "[SKIPPED] Missing file: datasets/thyroid_ultrasonic_image/batch1_image/dataset/400_003.Jpg\n",
      "[SKIPPED] Missing file: datasets/thyroid_ultrasonic_image/batch1_image/dataset/400_004.Jpg\n",
      "[SKIPPED] Missing file: datasets/thyroid_ultrasonic_image/batch1_image/dataset/400_005.Jpg\n",
      "[SKIPPED] Missing file: datasets/thyroid_ultrasonic_image/batch1_image/dataset/400_006.Jpg\n",
      "[SKIPPED] Missing file: datasets/thyroid_ultrasonic_image/batch1_image/dataset/400_007.Jpg\n",
      "[WARNING] No valid images for patient: 400, skipping\n"
     ]
    },
    {
     "name": "stderr",
     "output_type": "stream",
     "text": [
      "Extracting patient features:  67%|██████▋   | 402/601 [07:04<02:35,  1.28it/s]"
     ]
    },
    {
     "name": "stdout",
     "output_type": "stream",
     "text": [
      "[SKIPPED] Missing file: datasets/thyroid_ultrasonic_image/batch1_image/dataset/401_007.Jpg\n",
      "[SKIPPED] Missing file: datasets/thyroid_ultrasonic_image/batch1_image/dataset/401_008.Jpg\n"
     ]
    },
    {
     "name": "stderr",
     "output_type": "stream",
     "text": [
      "Extracting patient features:  67%|██████▋   | 403/601 [07:06<03:13,  1.02it/s]"
     ]
    },
    {
     "name": "stdout",
     "output_type": "stream",
     "text": [
      "[SKIPPED] Missing file: datasets/thyroid_ultrasonic_image/batch1_image/dataset/403_001.Jpg\n",
      "[SKIPPED] Missing file: datasets/thyroid_ultrasonic_image/batch1_image/dataset/403_002.Jpg\n",
      "[SKIPPED] Missing file: datasets/thyroid_ultrasonic_image/batch1_image/dataset/403_003.Jpg\n",
      "[SKIPPED] Missing file: datasets/thyroid_ultrasonic_image/batch1_image/dataset/403_004.Jpg\n",
      "[SKIPPED] Missing file: datasets/thyroid_ultrasonic_image/batch1_image/dataset/403_005.Jpg\n",
      "[WARNING] No valid images for patient: 403, skipping\n",
      "[SKIPPED] Missing file: datasets/thyroid_ultrasonic_image/batch1_image/dataset/404_001.Jpg\n",
      "[SKIPPED] Missing file: datasets/thyroid_ultrasonic_image/batch1_image/dataset/404_002.Jpg\n",
      "[SKIPPED] Missing file: datasets/thyroid_ultrasonic_image/batch1_image/dataset/404_003.Jpg\n",
      "[SKIPPED] Missing file: datasets/thyroid_ultrasonic_image/batch1_image/dataset/404_004.Jpg\n",
      "[SKIPPED] Missing file: datasets/thyroid_ultrasonic_image/batch1_image/dataset/404_005.Jpg\n",
      "[SKIPPED] Missing file: datasets/thyroid_ultrasonic_image/batch1_image/dataset/404_006.Jpg\n",
      "[SKIPPED] Missing file: datasets/thyroid_ultrasonic_image/batch1_image/dataset/404_007.Jpg\n",
      "[SKIPPED] Missing file: datasets/thyroid_ultrasonic_image/batch1_image/dataset/404_008.Jpg\n",
      "[SKIPPED] Missing file: datasets/thyroid_ultrasonic_image/batch1_image/dataset/404_009.Jpg\n",
      "[SKIPPED] Missing file: datasets/thyroid_ultrasonic_image/batch1_image/dataset/404_010.Jpg\n",
      "[SKIPPED] Missing file: datasets/thyroid_ultrasonic_image/batch1_image/dataset/404_011.Jpg\n",
      "[SKIPPED] Missing file: datasets/thyroid_ultrasonic_image/batch1_image/dataset/404_012.Jpg\n",
      "[SKIPPED] Missing file: datasets/thyroid_ultrasonic_image/batch1_image/dataset/404_013.Jpg\n",
      "[WARNING] No valid images for patient: 404, skipping\n"
     ]
    },
    {
     "name": "stderr",
     "output_type": "stream",
     "text": [
      "Extracting patient features:  68%|██████▊   | 406/601 [07:07<02:23,  1.36it/s]"
     ]
    },
    {
     "name": "stdout",
     "output_type": "stream",
     "text": [
      "[SKIPPED] Missing file: datasets/thyroid_ultrasonic_image/batch1_image/dataset/405_008.Jpg\n"
     ]
    },
    {
     "name": "stderr",
     "output_type": "stream",
     "text": [
      "Extracting patient features:  68%|██████▊   | 407/601 [07:10<03:17,  1.02s/it]"
     ]
    },
    {
     "name": "stdout",
     "output_type": "stream",
     "text": [
      "[SKIPPED] Missing file: datasets/thyroid_ultrasonic_image/batch1_image/dataset/407_024.Jpg\n",
      "[SKIPPED] Missing file: datasets/thyroid_ultrasonic_image/batch1_image/dataset/407_025.Jpg\n",
      "[SKIPPED] Missing file: datasets/thyroid_ultrasonic_image/batch1_image/dataset/407_026.Jpg\n",
      "[SKIPPED] Missing file: datasets/thyroid_ultrasonic_image/batch1_image/dataset/407_027.Jpg\n",
      "[SKIPPED] Missing file: datasets/thyroid_ultrasonic_image/batch1_image/dataset/407_028.Jpg\n",
      "[SKIPPED] Missing file: datasets/thyroid_ultrasonic_image/batch1_image/dataset/407_029.Jpg\n",
      "[WARNING] No valid images for patient: 407, skipping\n"
     ]
    },
    {
     "name": "stderr",
     "output_type": "stream",
     "text": [
      "Extracting patient features:  68%|██████▊   | 409/601 [07:10<02:31,  1.26it/s]"
     ]
    },
    {
     "name": "stdout",
     "output_type": "stream",
     "text": [
      "[SKIPPED] Missing file: datasets/thyroid_ultrasonic_image/batch1_image/dataset/409_004.Jpg\n"
     ]
    },
    {
     "name": "stderr",
     "output_type": "stream",
     "text": [
      "Extracting patient features:  68%|██████▊   | 411/601 [07:13<03:11,  1.01s/it]"
     ]
    },
    {
     "name": "stdout",
     "output_type": "stream",
     "text": [
      "[SKIPPED] Missing file: datasets/thyroid_ultrasonic_image/batch1_image/dataset/410_008.Jpg\n",
      "[SKIPPED] Missing file: datasets/thyroid_ultrasonic_image/batch1_image/dataset/410_009.Jpg\n",
      "[SKIPPED] Missing file: datasets/thyroid_ultrasonic_image/batch1_image/dataset/410_010.Jpg\n",
      "[SKIPPED] Missing file: datasets/thyroid_ultrasonic_image/batch1_image/dataset/410_011.Jpg\n",
      "[SKIPPED] Missing file: datasets/thyroid_ultrasonic_image/batch1_image/dataset/410_012.Jpg\n"
     ]
    },
    {
     "name": "stderr",
     "output_type": "stream",
     "text": [
      "Extracting patient features:  69%|██████▉   | 414/601 [07:18<04:03,  1.30s/it]"
     ]
    },
    {
     "name": "stdout",
     "output_type": "stream",
     "text": [
      "[SKIPPED] Missing file: datasets/thyroid_ultrasonic_image/batch1_image/dataset/413_007.Jpg\n",
      "[SKIPPED] Missing file: datasets/thyroid_ultrasonic_image/batch1_image/dataset/413_008.Jpg\n",
      "[SKIPPED] Missing file: datasets/thyroid_ultrasonic_image/batch1_image/dataset/413_009.Jpg\n",
      "[SKIPPED] Missing file: datasets/thyroid_ultrasonic_image/batch1_image/dataset/413_010.Jpg\n",
      "[SKIPPED] Missing file: datasets/thyroid_ultrasonic_image/batch1_image/dataset/413_011.Jpg\n",
      "[SKIPPED] Missing file: datasets/thyroid_ultrasonic_image/batch1_image/dataset/413_012.Jpg\n",
      "[SKIPPED] Missing file: datasets/thyroid_ultrasonic_image/batch1_image/dataset/413_013.Jpg\n",
      "[SKIPPED] Missing file: datasets/thyroid_ultrasonic_image/batch1_image/dataset/413_014.Jpg\n",
      "[SKIPPED] Missing file: datasets/thyroid_ultrasonic_image/batch1_image/dataset/413_015.Jpg\n",
      "[SKIPPED] Missing file: datasets/thyroid_ultrasonic_image/batch1_image/dataset/413_016.Jpg\n",
      "[SKIPPED] Missing file: datasets/thyroid_ultrasonic_image/batch1_image/dataset/413_017.Jpg\n",
      "[SKIPPED] Missing file: datasets/thyroid_ultrasonic_image/batch1_image/dataset/413_018.Jpg\n",
      "[SKIPPED] Missing file: datasets/thyroid_ultrasonic_image/batch1_image/dataset/414_009.Jpg\n",
      "[SKIPPED] Missing file: datasets/thyroid_ultrasonic_image/batch1_image/dataset/414_010.Jpg\n"
     ]
    },
    {
     "name": "stderr",
     "output_type": "stream",
     "text": [
      "Extracting patient features:  69%|██████▉   | 416/601 [07:22<05:06,  1.66s/it]"
     ]
    },
    {
     "name": "stdout",
     "output_type": "stream",
     "text": [
      "[SKIPPED] Missing file: datasets/thyroid_ultrasonic_image/batch1_image/dataset/415_010.Jpg\n",
      "[SKIPPED] Missing file: datasets/thyroid_ultrasonic_image/batch1_image/dataset/415_011.Jpg\n",
      "[SKIPPED] Missing file: datasets/thyroid_ultrasonic_image/batch1_image/dataset/415_012.Jpg\n",
      "[SKIPPED] Missing file: datasets/thyroid_ultrasonic_image/batch1_image/dataset/415_013.Jpg\n",
      "[SKIPPED] Missing file: datasets/thyroid_ultrasonic_image/batch1_image/dataset/415_014.Jpg\n",
      "[SKIPPED] Missing file: datasets/thyroid_ultrasonic_image/batch1_image/dataset/415_015.Jpg\n",
      "[SKIPPED] Missing file: datasets/thyroid_ultrasonic_image/batch1_image/dataset/415_016.Jpg\n",
      "[SKIPPED] Missing file: datasets/thyroid_ultrasonic_image/batch1_image/dataset/415_017.Jpg\n",
      "[SKIPPED] Missing file: datasets/thyroid_ultrasonic_image/batch1_image/dataset/415_018.Jpg\n",
      "[SKIPPED] Missing file: datasets/thyroid_ultrasonic_image/batch1_image/dataset/415_019.Jpg\n",
      "[SKIPPED] Missing file: datasets/thyroid_ultrasonic_image/batch1_image/dataset/415_020.Jpg\n",
      "[SKIPPED] Missing file: datasets/thyroid_ultrasonic_image/batch1_image/dataset/415_021.Jpg\n",
      "[SKIPPED] Missing file: datasets/thyroid_ultrasonic_image/batch1_image/dataset/415_022.Jpg\n"
     ]
    },
    {
     "name": "stderr",
     "output_type": "stream",
     "text": [
      "Extracting patient features:  69%|██████▉   | 417/601 [07:23<04:05,  1.33s/it]"
     ]
    },
    {
     "name": "stdout",
     "output_type": "stream",
     "text": [
      "[SKIPPED] Missing file: datasets/thyroid_ultrasonic_image/batch1_image/dataset/416_004.Jpg\n",
      "[SKIPPED] Missing file: datasets/thyroid_ultrasonic_image/batch1_image/dataset/416_006.Jpg\n",
      "[SKIPPED] Missing file: datasets/thyroid_ultrasonic_image/batch1_image/dataset/416_007.Jpg\n",
      "[SKIPPED] Missing file: datasets/thyroid_ultrasonic_image/batch1_image/dataset/416_008.Jpg\n",
      "[SKIPPED] Missing file: datasets/thyroid_ultrasonic_image/batch1_image/dataset/416_009.Jpg\n",
      "[SKIPPED] Missing file: datasets/thyroid_ultrasonic_image/batch1_image/dataset/417_001.Jpg\n",
      "[SKIPPED] Missing file: datasets/thyroid_ultrasonic_image/batch1_image/dataset/417_002.Jpg\n",
      "[SKIPPED] Missing file: datasets/thyroid_ultrasonic_image/batch1_image/dataset/417_003.Jpg\n",
      "[SKIPPED] Missing file: datasets/thyroid_ultrasonic_image/batch1_image/dataset/417_004.Jpg\n",
      "[SKIPPED] Missing file: datasets/thyroid_ultrasonic_image/batch1_image/dataset/417_005.Jpg\n",
      "[SKIPPED] Missing file: datasets/thyroid_ultrasonic_image/batch1_image/dataset/417_006.Jpg\n",
      "[SKIPPED] Missing file: datasets/thyroid_ultrasonic_image/batch1_image/dataset/417_007.Jpg\n",
      "[SKIPPED] Missing file: datasets/thyroid_ultrasonic_image/batch1_image/dataset/417_008.Jpg\n",
      "[SKIPPED] Missing file: datasets/thyroid_ultrasonic_image/batch1_image/dataset/417_009.Jpg\n",
      "[SKIPPED] Missing file: datasets/thyroid_ultrasonic_image/batch1_image/dataset/417_010.Jpg\n",
      "[SKIPPED] Missing file: datasets/thyroid_ultrasonic_image/batch1_image/dataset/417_011.Jpg\n",
      "[SKIPPED] Missing file: datasets/thyroid_ultrasonic_image/batch1_image/dataset/417_012.Jpg\n",
      "[SKIPPED] Missing file: datasets/thyroid_ultrasonic_image/batch1_image/dataset/417_013.Jpg\n",
      "[WARNING] No valid images for patient: 417, skipping\n"
     ]
    },
    {
     "name": "stderr",
     "output_type": "stream",
     "text": [
      "Extracting patient features:  70%|██████▉   | 420/601 [07:24<02:36,  1.16it/s]"
     ]
    },
    {
     "name": "stdout",
     "output_type": "stream",
     "text": [
      "[SKIPPED] Missing file: datasets/thyroid_ultrasonic_image/batch1_image/dataset/420_001.Jpg\n",
      "[SKIPPED] Missing file: datasets/thyroid_ultrasonic_image/batch1_image/dataset/420_004.Jpg\n",
      "[SKIPPED] Missing file: datasets/thyroid_ultrasonic_image/batch1_image/dataset/420_005.Jpg\n",
      "[SKIPPED] Missing file: datasets/thyroid_ultrasonic_image/batch1_image/dataset/420_007.Jpg\n"
     ]
    },
    {
     "name": "stderr",
     "output_type": "stream",
     "text": [
      "Extracting patient features:  70%|███████   | 421/601 [07:25<02:37,  1.15it/s]"
     ]
    },
    {
     "name": "stdout",
     "output_type": "stream",
     "text": [
      "[SKIPPED] Missing file: datasets/thyroid_ultrasonic_image/batch1_image/dataset/420_010.Jpg\n",
      "[SKIPPED] Missing file: datasets/thyroid_ultrasonic_image/batch1_image/dataset/420_011.Jpg\n",
      "[SKIPPED] Missing file: datasets/thyroid_ultrasonic_image/batch1_image/dataset/420_012.Jpg\n",
      "[SKIPPED] Missing file: datasets/thyroid_ultrasonic_image/batch1_image/dataset/420_013.Jpg\n",
      "[SKIPPED] Missing file: datasets/thyroid_ultrasonic_image/batch1_image/dataset/420_014.Jpg\n",
      "[SKIPPED] Missing file: datasets/thyroid_ultrasonic_image/batch1_image/dataset/420_015.Jpg\n",
      "[SKIPPED] Missing file: datasets/thyroid_ultrasonic_image/batch1_image/dataset/420_016.Jpg\n",
      "[SKIPPED] Missing file: datasets/thyroid_ultrasonic_image/batch1_image/dataset/420_017.Jpg\n",
      "[SKIPPED] Missing file: datasets/thyroid_ultrasonic_image/batch1_image/dataset/421_003.Jpg\n"
     ]
    },
    {
     "name": "stderr",
     "output_type": "stream",
     "text": [
      "Extracting patient features:  70%|███████   | 423/601 [07:26<02:17,  1.29it/s]"
     ]
    },
    {
     "name": "stdout",
     "output_type": "stream",
     "text": [
      "[SKIPPED] Missing file: datasets/thyroid_ultrasonic_image/batch1_image/dataset/422_004.Jpg\n",
      "[SKIPPED] Missing file: datasets/thyroid_ultrasonic_image/batch1_image/dataset/422_005.Jpg\n",
      "[SKIPPED] Missing file: datasets/thyroid_ultrasonic_image/batch1_image/dataset/422_006.Jpg\n",
      "[SKIPPED] Missing file: datasets/thyroid_ultrasonic_image/batch1_image/dataset/422_007.Jpg\n",
      "[SKIPPED] Missing file: datasets/thyroid_ultrasonic_image/batch1_image/dataset/422_008.Jpg\n",
      "[SKIPPED] Missing file: datasets/thyroid_ultrasonic_image/batch1_image/dataset/422_010.Jpg\n",
      "[SKIPPED] Missing file: datasets/thyroid_ultrasonic_image/batch1_image/dataset/422_011.Jpg\n",
      "[SKIPPED] Missing file: datasets/thyroid_ultrasonic_image/batch1_image/dataset/422_012.Jpg\n",
      "[SKIPPED] Missing file: datasets/thyroid_ultrasonic_image/batch1_image/dataset/422_013.Jpg\n"
     ]
    },
    {
     "name": "stderr",
     "output_type": "stream",
     "text": [
      "Extracting patient features:  71%|███████   | 426/601 [07:29<02:04,  1.40it/s]"
     ]
    },
    {
     "name": "stdout",
     "output_type": "stream",
     "text": [
      "[SKIPPED] Missing file: datasets/thyroid_ultrasonic_image/batch1_image/dataset/425_001.Jpg\n",
      "[SKIPPED] Missing file: datasets/thyroid_ultrasonic_image/batch1_image/dataset/425_002.Jpg\n",
      "[SKIPPED] Missing file: datasets/thyroid_ultrasonic_image/batch1_image/dataset/425_003.Jpg\n",
      "[SKIPPED] Missing file: datasets/thyroid_ultrasonic_image/batch1_image/dataset/425_004.Jpg\n",
      "[SKIPPED] Missing file: datasets/thyroid_ultrasonic_image/batch1_image/dataset/425_005.Jpg\n",
      "[SKIPPED] Missing file: datasets/thyroid_ultrasonic_image/batch1_image/dataset/425_006.Jpg\n",
      "[SKIPPED] Missing file: datasets/thyroid_ultrasonic_image/batch1_image/dataset/426_001.Jpg\n",
      "[SKIPPED] Missing file: datasets/thyroid_ultrasonic_image/batch1_image/dataset/426_002.Jpg\n",
      "[SKIPPED] Missing file: datasets/thyroid_ultrasonic_image/batch1_image/dataset/426_003.Jpg\n",
      "[SKIPPED] Missing file: datasets/thyroid_ultrasonic_image/batch1_image/dataset/426_004.Jpg\n",
      "[SKIPPED] Missing file: datasets/thyroid_ultrasonic_image/batch1_image/dataset/426_005.Jpg\n",
      "[SKIPPED] Missing file: datasets/thyroid_ultrasonic_image/batch1_image/dataset/426_006.Jpg\n",
      "[SKIPPED] Missing file: datasets/thyroid_ultrasonic_image/batch1_image/dataset/426_007.Jpg\n",
      "[SKIPPED] Missing file: datasets/thyroid_ultrasonic_image/batch1_image/dataset/426_008.Jpg\n",
      "[SKIPPED] Missing file: datasets/thyroid_ultrasonic_image/batch1_image/dataset/426_009.Jpg\n",
      "[SKIPPED] Missing file: datasets/thyroid_ultrasonic_image/batch1_image/dataset/426_010.Jpg\n",
      "[SKIPPED] Missing file: datasets/thyroid_ultrasonic_image/batch1_image/dataset/426_012.Jpg\n",
      "[SKIPPED] Missing file: datasets/thyroid_ultrasonic_image/batch1_image/dataset/426_013.Jpg\n",
      "[SKIPPED] Missing file: datasets/thyroid_ultrasonic_image/batch1_image/dataset/426_014.Jpg\n",
      "[WARNING] No valid images for patient: 426, skipping\n"
     ]
    },
    {
     "name": "stderr",
     "output_type": "stream",
     "text": [
      "Extracting patient features:  71%|███████   | 428/601 [07:30<01:55,  1.50it/s]"
     ]
    },
    {
     "name": "stdout",
     "output_type": "stream",
     "text": [
      "[SKIPPED] Missing file: datasets/thyroid_ultrasonic_image/batch1_image/dataset/428_001.Jpg\n",
      "[SKIPPED] Missing file: datasets/thyroid_ultrasonic_image/batch1_image/dataset/428_002.Jpg\n",
      "[SKIPPED] Missing file: datasets/thyroid_ultrasonic_image/batch1_image/dataset/428_003.Jpg\n",
      "[SKIPPED] Missing file: datasets/thyroid_ultrasonic_image/batch1_image/dataset/428_004.Jpg\n",
      "[SKIPPED] Missing file: datasets/thyroid_ultrasonic_image/batch1_image/dataset/428_005.Jpg\n",
      "[SKIPPED] Missing file: datasets/thyroid_ultrasonic_image/batch1_image/dataset/428_006.Jpg\n",
      "[SKIPPED] Missing file: datasets/thyroid_ultrasonic_image/batch1_image/dataset/428_007.Jpg\n",
      "[SKIPPED] Missing file: datasets/thyroid_ultrasonic_image/batch1_image/dataset/428_008.Jpg\n",
      "[SKIPPED] Missing file: datasets/thyroid_ultrasonic_image/batch1_image/dataset/428_009.Jpg\n",
      "[SKIPPED] Missing file: datasets/thyroid_ultrasonic_image/batch1_image/dataset/428_010.Jpg\n",
      "[SKIPPED] Missing file: datasets/thyroid_ultrasonic_image/batch1_image/dataset/428_011.Jpg\n",
      "[SKIPPED] Missing file: datasets/thyroid_ultrasonic_image/batch1_image/dataset/428_012.Jpg\n",
      "[WARNING] No valid images for patient: 428, skipping\n",
      "[SKIPPED] Missing file: datasets/thyroid_ultrasonic_image/batch1_image/dataset/429_007.Jpg\n"
     ]
    },
    {
     "name": "stderr",
     "output_type": "stream",
     "text": [
      "Extracting patient features:  72%|███████▏  | 430/601 [07:32<01:56,  1.47it/s]"
     ]
    },
    {
     "name": "stdout",
     "output_type": "stream",
     "text": [
      "[SKIPPED] Missing file: datasets/thyroid_ultrasonic_image/batch1_image/dataset/429_010.Jpg\n",
      "[SKIPPED] Missing file: datasets/thyroid_ultrasonic_image/batch1_image/dataset/429_011.Jpg\n"
     ]
    },
    {
     "name": "stderr",
     "output_type": "stream",
     "text": [
      "Extracting patient features:  72%|███████▏  | 431/601 [07:32<02:04,  1.37it/s]"
     ]
    },
    {
     "name": "stdout",
     "output_type": "stream",
     "text": [
      "[SKIPPED] Missing file: datasets/thyroid_ultrasonic_image/batch1_image/dataset/430_006.Jpg\n",
      "[SKIPPED] Missing file: datasets/thyroid_ultrasonic_image/batch1_image/dataset/430_007.Jpg\n",
      "[SKIPPED] Missing file: datasets/thyroid_ultrasonic_image/batch1_image/dataset/430_008.Jpg\n",
      "[SKIPPED] Missing file: datasets/thyroid_ultrasonic_image/batch1_image/dataset/430_009.Jpg\n",
      "[SKIPPED] Missing file: datasets/thyroid_ultrasonic_image/batch1_image/dataset/430_010.Jpg\n"
     ]
    },
    {
     "name": "stderr",
     "output_type": "stream",
     "text": [
      "Extracting patient features:  72%|███████▏  | 432/601 [07:34<02:33,  1.10it/s]"
     ]
    },
    {
     "name": "stdout",
     "output_type": "stream",
     "text": [
      "[SKIPPED] Missing file: datasets/thyroid_ultrasonic_image/batch1_image/dataset/431_011.Jpg\n",
      "[SKIPPED] Missing file: datasets/thyroid_ultrasonic_image/batch1_image/dataset/431_012.Jpg\n",
      "[SKIPPED] Missing file: datasets/thyroid_ultrasonic_image/batch1_image/dataset/431_013.Jpg\n",
      "[SKIPPED] Missing file: datasets/thyroid_ultrasonic_image/batch1_image/dataset/431_014.Jpg\n",
      "[SKIPPED] Missing file: datasets/thyroid_ultrasonic_image/batch1_image/dataset/431_015.Jpg\n",
      "[SKIPPED] Missing file: datasets/thyroid_ultrasonic_image/batch1_image/dataset/431_016.Jpg\n",
      "[SKIPPED] Missing file: datasets/thyroid_ultrasonic_image/batch1_image/dataset/431_018.Jpg\n",
      "[SKIPPED] Missing file: datasets/thyroid_ultrasonic_image/batch1_image/dataset/431_019.Jpg\n",
      "[SKIPPED] Missing file: datasets/thyroid_ultrasonic_image/batch1_image/dataset/431_022.Jpg\n"
     ]
    },
    {
     "name": "stderr",
     "output_type": "stream",
     "text": [
      "Extracting patient features:  72%|███████▏  | 433/601 [07:35<02:29,  1.12it/s]"
     ]
    },
    {
     "name": "stdout",
     "output_type": "stream",
     "text": [
      "[SKIPPED] Missing file: datasets/thyroid_ultrasonic_image/batch1_image/dataset/432_005.Jpg\n"
     ]
    },
    {
     "name": "stderr",
     "output_type": "stream",
     "text": [
      "Extracting patient features:  72%|███████▏  | 434/601 [07:36<02:56,  1.06s/it]"
     ]
    },
    {
     "name": "stdout",
     "output_type": "stream",
     "text": [
      "[SKIPPED] Missing file: datasets/thyroid_ultrasonic_image/batch1_image/dataset/433_008.Jpg\n",
      "[SKIPPED] Missing file: datasets/thyroid_ultrasonic_image/batch1_image/dataset/433_009.Jpg\n",
      "[SKIPPED] Missing file: datasets/thyroid_ultrasonic_image/batch1_image/dataset/433_010.Jpg\n",
      "[SKIPPED] Missing file: datasets/thyroid_ultrasonic_image/batch1_image/dataset/433_013.Jpg\n"
     ]
    },
    {
     "name": "stderr",
     "output_type": "stream",
     "text": [
      "Extracting patient features:  72%|███████▏  | 435/601 [07:37<02:39,  1.04it/s]"
     ]
    },
    {
     "name": "stdout",
     "output_type": "stream",
     "text": [
      "[SKIPPED] Missing file: datasets/thyroid_ultrasonic_image/batch1_image/dataset/434_004.Jpg\n",
      "[SKIPPED] Missing file: datasets/thyroid_ultrasonic_image/batch1_image/dataset/434_005.Jpg\n",
      "[SKIPPED] Missing file: datasets/thyroid_ultrasonic_image/batch1_image/dataset/434_006.Jpg\n",
      "[SKIPPED] Missing file: datasets/thyroid_ultrasonic_image/batch1_image/dataset/434_007.Jpg\n",
      "[SKIPPED] Missing file: datasets/thyroid_ultrasonic_image/batch1_image/dataset/434_008.Jpg\n",
      "[SKIPPED] Missing file: datasets/thyroid_ultrasonic_image/batch1_image/dataset/434_009.Jpg\n",
      "[SKIPPED] Missing file: datasets/thyroid_ultrasonic_image/batch1_image/dataset/434_010.Jpg\n",
      "[SKIPPED] Missing file: datasets/thyroid_ultrasonic_image/batch1_image/dataset/434_011.Jpg\n",
      "[SKIPPED] Missing file: datasets/thyroid_ultrasonic_image/batch1_image/dataset/434_012.Jpg\n",
      "[SKIPPED] Missing file: datasets/thyroid_ultrasonic_image/batch1_image/dataset/434_013.Jpg\n",
      "[SKIPPED] Missing file: datasets/thyroid_ultrasonic_image/batch1_image/dataset/434_014.Jpg\n",
      "[SKIPPED] Missing file: datasets/thyroid_ultrasonic_image/batch1_image/dataset/434_015.Jpg\n",
      "[SKIPPED] Missing file: datasets/thyroid_ultrasonic_image/batch1_image/dataset/434_016.Jpg\n"
     ]
    },
    {
     "name": "stderr",
     "output_type": "stream",
     "text": [
      "Extracting patient features:  73%|███████▎  | 436/601 [07:38<02:57,  1.08s/it]"
     ]
    },
    {
     "name": "stdout",
     "output_type": "stream",
     "text": [
      "[SKIPPED] Missing file: datasets/thyroid_ultrasonic_image/batch1_image/dataset/435_009.Jpg\n",
      "[SKIPPED] Missing file: datasets/thyroid_ultrasonic_image/batch1_image/dataset/435_010.Jpg\n",
      "[SKIPPED] Missing file: datasets/thyroid_ultrasonic_image/batch1_image/dataset/435_011.Jpg\n",
      "[SKIPPED] Missing file: datasets/thyroid_ultrasonic_image/batch1_image/dataset/435_012.Jpg\n",
      "[SKIPPED] Missing file: datasets/thyroid_ultrasonic_image/batch1_image/dataset/435_013.Jpg\n",
      "[SKIPPED] Missing file: datasets/thyroid_ultrasonic_image/batch1_image/dataset/435_014.Jpg\n",
      "[SKIPPED] Missing file: datasets/thyroid_ultrasonic_image/batch1_image/dataset/435_015.Jpg\n",
      "[SKIPPED] Missing file: datasets/thyroid_ultrasonic_image/batch1_image/dataset/435_016.Jpg\n",
      "[SKIPPED] Missing file: datasets/thyroid_ultrasonic_image/batch1_image/dataset/435_019.Jpg\n",
      "[SKIPPED] Missing file: datasets/thyroid_ultrasonic_image/batch1_image/dataset/435_020.Jpg\n",
      "[SKIPPED] Missing file: datasets/thyroid_ultrasonic_image/batch1_image/dataset/435_021.Jpg\n",
      "[SKIPPED] Missing file: datasets/thyroid_ultrasonic_image/batch1_image/dataset/435_022.Jpg\n",
      "[SKIPPED] Missing file: datasets/thyroid_ultrasonic_image/batch1_image/dataset/436_002.Jpg\n",
      "[SKIPPED] Missing file: datasets/thyroid_ultrasonic_image/batch1_image/dataset/436_003.Jpg\n",
      "[SKIPPED] Missing file: datasets/thyroid_ultrasonic_image/batch1_image/dataset/436_004.Jpg\n",
      "[SKIPPED] Missing file: datasets/thyroid_ultrasonic_image/batch1_image/dataset/436_005.Jpg\n"
     ]
    },
    {
     "name": "stderr",
     "output_type": "stream",
     "text": [
      "Extracting patient features:  73%|███████▎  | 438/601 [07:41<03:27,  1.27s/it]"
     ]
    },
    {
     "name": "stdout",
     "output_type": "stream",
     "text": [
      "[SKIPPED] Missing file: datasets/thyroid_ultrasonic_image/batch1_image/dataset/437_006.Jpg\n",
      "[SKIPPED] Missing file: datasets/thyroid_ultrasonic_image/batch1_image/dataset/437_008.Jpg\n",
      "[SKIPPED] Missing file: datasets/thyroid_ultrasonic_image/batch1_image/dataset/437_009.Jpg\n",
      "[SKIPPED] Missing file: datasets/thyroid_ultrasonic_image/batch1_image/dataset/437_010.Jpg\n",
      "[SKIPPED] Missing file: datasets/thyroid_ultrasonic_image/batch1_image/dataset/437_011.Jpg\n",
      "[SKIPPED] Missing file: datasets/thyroid_ultrasonic_image/batch1_image/dataset/437_012.Jpg\n",
      "[SKIPPED] Missing file: datasets/thyroid_ultrasonic_image/batch1_image/dataset/437_013.Jpg\n",
      "[SKIPPED] Missing file: datasets/thyroid_ultrasonic_image/batch1_image/dataset/438_029.Jpg\n",
      "[SKIPPED] Missing file: datasets/thyroid_ultrasonic_image/batch1_image/dataset/438_030.Jpg\n",
      "[SKIPPED] Missing file: datasets/thyroid_ultrasonic_image/batch1_image/dataset/438_031.Jpg\n",
      "[SKIPPED] Missing file: datasets/thyroid_ultrasonic_image/batch1_image/dataset/438_032.Jpg\n",
      "[SKIPPED] Missing file: datasets/thyroid_ultrasonic_image/batch1_image/dataset/438_033.Jpg\n",
      "[SKIPPED] Missing file: datasets/thyroid_ultrasonic_image/batch1_image/dataset/438_034.Jpg\n",
      "[SKIPPED] Missing file: datasets/thyroid_ultrasonic_image/batch1_image/dataset/438_035.Jpg\n",
      "[SKIPPED] Missing file: datasets/thyroid_ultrasonic_image/batch1_image/dataset/438_036.Jpg\n",
      "[SKIPPED] Missing file: datasets/thyroid_ultrasonic_image/batch1_image/dataset/438_037.Jpg\n",
      "[WARNING] No valid images for patient: 438, skipping\n"
     ]
    },
    {
     "name": "stderr",
     "output_type": "stream",
     "text": [
      "Extracting patient features:  73%|███████▎  | 440/601 [07:44<03:18,  1.23s/it]"
     ]
    },
    {
     "name": "stdout",
     "output_type": "stream",
     "text": [
      "[SKIPPED] Missing file: datasets/thyroid_ultrasonic_image/batch1_image/dataset/440_003.Jpg\n"
     ]
    },
    {
     "name": "stderr",
     "output_type": "stream",
     "text": [
      "Extracting patient features:  73%|███████▎  | 441/601 [07:45<03:19,  1.24s/it]"
     ]
    },
    {
     "name": "stdout",
     "output_type": "stream",
     "text": [
      "[SKIPPED] Missing file: datasets/thyroid_ultrasonic_image/batch1_image/dataset/440_009.Jpg\n",
      "[SKIPPED] Missing file: datasets/thyroid_ultrasonic_image/batch1_image/dataset/441_004.Jpg\n"
     ]
    },
    {
     "name": "stderr",
     "output_type": "stream",
     "text": [
      "Extracting patient features:  74%|███████▎  | 442/601 [07:46<03:04,  1.16s/it]"
     ]
    },
    {
     "name": "stdout",
     "output_type": "stream",
     "text": [
      "[SKIPPED] Missing file: datasets/thyroid_ultrasonic_image/batch1_image/dataset/442_002.Jpg\n"
     ]
    },
    {
     "name": "stderr",
     "output_type": "stream",
     "text": [
      "Extracting patient features:  74%|███████▎  | 443/601 [07:48<03:47,  1.44s/it]"
     ]
    },
    {
     "name": "stdout",
     "output_type": "stream",
     "text": [
      "[SKIPPED] Missing file: datasets/thyroid_ultrasonic_image/batch1_image/dataset/442_014.Jpg\n",
      "[SKIPPED] Missing file: datasets/thyroid_ultrasonic_image/batch1_image/dataset/442_015.Jpg\n",
      "[SKIPPED] Missing file: datasets/thyroid_ultrasonic_image/batch1_image/dataset/443_004.Jpg\n",
      "[SKIPPED] Missing file: datasets/thyroid_ultrasonic_image/batch1_image/dataset/443_006.Jpg\n"
     ]
    },
    {
     "name": "stderr",
     "output_type": "stream",
     "text": [
      "Extracting patient features:  74%|███████▍  | 446/601 [07:52<03:03,  1.19s/it]"
     ]
    },
    {
     "name": "stdout",
     "output_type": "stream",
     "text": [
      "[SKIPPED] Missing file: datasets/thyroid_ultrasonic_image/batch1_image/dataset/445_005.Jpg\n",
      "[SKIPPED] Missing file: datasets/thyroid_ultrasonic_image/batch1_image/dataset/445_006.Jpg\n",
      "[SKIPPED] Missing file: datasets/thyroid_ultrasonic_image/batch1_image/dataset/445_007.Jpg\n",
      "[SKIPPED] Missing file: datasets/thyroid_ultrasonic_image/batch1_image/dataset/445_008.Jpg\n",
      "[SKIPPED] Missing file: datasets/thyroid_ultrasonic_image/batch1_image/dataset/445_009.Jpg\n",
      "[SKIPPED] Missing file: datasets/thyroid_ultrasonic_image/batch1_image/dataset/445_012.Jpg\n",
      "[SKIPPED] Missing file: datasets/thyroid_ultrasonic_image/batch1_image/dataset/445_018.Jpg\n",
      "[SKIPPED] Missing file: datasets/thyroid_ultrasonic_image/batch1_image/dataset/445_020.Jpg\n",
      "[SKIPPED] Missing file: datasets/thyroid_ultrasonic_image/batch1_image/dataset/445_022.Jpg\n",
      "[SKIPPED] Missing file: datasets/thyroid_ultrasonic_image/batch1_image/dataset/446_011.Jpg\n",
      "[SKIPPED] Missing file: datasets/thyroid_ultrasonic_image/batch1_image/dataset/446_012.Jpg\n",
      "[SKIPPED] Missing file: datasets/thyroid_ultrasonic_image/batch1_image/dataset/446_013.Jpg\n",
      "[SKIPPED] Missing file: datasets/thyroid_ultrasonic_image/batch1_image/dataset/446_014.Jpg\n",
      "[SKIPPED] Missing file: datasets/thyroid_ultrasonic_image/batch1_image/dataset/446_015.Jpg\n",
      "[SKIPPED] Missing file: datasets/thyroid_ultrasonic_image/batch1_image/dataset/446_016.Jpg\n",
      "[SKIPPED] Missing file: datasets/thyroid_ultrasonic_image/batch1_image/dataset/446_017.Jpg\n",
      "[SKIPPED] Missing file: datasets/thyroid_ultrasonic_image/batch1_image/dataset/446_018.Jpg\n",
      "[SKIPPED] Missing file: datasets/thyroid_ultrasonic_image/batch1_image/dataset/446_019.Jpg\n",
      "[SKIPPED] Missing file: datasets/thyroid_ultrasonic_image/batch1_image/dataset/446_020.Jpg\n",
      "[SKIPPED] Missing file: datasets/thyroid_ultrasonic_image/batch1_image/dataset/446_021.Jpg\n",
      "[SKIPPED] Missing file: datasets/thyroid_ultrasonic_image/batch1_image/dataset/446_022.Jpg\n",
      "[SKIPPED] Missing file: datasets/thyroid_ultrasonic_image/batch1_image/dataset/446_023.Jpg\n",
      "[SKIPPED] Missing file: datasets/thyroid_ultrasonic_image/batch1_image/dataset/446_024.Jpg\n",
      "[WARNING] No valid images for patient: 446, skipping\n",
      "[SKIPPED] Missing file: datasets/thyroid_ultrasonic_image/batch1_image/dataset/447_004.Jpg\n"
     ]
    },
    {
     "name": "stderr",
     "output_type": "stream",
     "text": [
      "Extracting patient features:  75%|███████▍  | 448/601 [07:52<02:01,  1.26it/s]"
     ]
    },
    {
     "name": "stdout",
     "output_type": "stream",
     "text": [
      "[SKIPPED] Missing file: datasets/thyroid_ultrasonic_image/batch1_image/dataset/448_012.Jpg\n"
     ]
    },
    {
     "name": "stderr",
     "output_type": "stream",
     "text": [
      "Extracting patient features:  75%|███████▍  | 449/601 [07:55<03:01,  1.19s/it]"
     ]
    },
    {
     "name": "stdout",
     "output_type": "stream",
     "text": [
      "[SKIPPED] Missing file: datasets/thyroid_ultrasonic_image/batch1_image/dataset/448_015.Jpg\n",
      "[SKIPPED] Missing file: datasets/thyroid_ultrasonic_image/batch1_image/dataset/448_016.Jpg\n",
      "[SKIPPED] Missing file: datasets/thyroid_ultrasonic_image/batch1_image/dataset/448_017.Jpg\n",
      "[SKIPPED] Missing file: datasets/thyroid_ultrasonic_image/batch1_image/dataset/448_019.Jpg\n",
      "[SKIPPED] Missing file: datasets/thyroid_ultrasonic_image/batch1_image/dataset/448_020.Jpg\n"
     ]
    },
    {
     "name": "stderr",
     "output_type": "stream",
     "text": [
      "Extracting patient features:  75%|███████▌  | 451/601 [07:56<02:06,  1.19it/s]"
     ]
    },
    {
     "name": "stdout",
     "output_type": "stream",
     "text": [
      "[SKIPPED] Missing file: datasets/thyroid_ultrasonic_image/batch1_image/dataset/450_013.Jpg\n",
      "[SKIPPED] Missing file: datasets/thyroid_ultrasonic_image/batch1_image/dataset/450_014.Jpg\n",
      "[SKIPPED] Missing file: datasets/thyroid_ultrasonic_image/batch1_image/dataset/450_015.Jpg\n"
     ]
    },
    {
     "name": "stderr",
     "output_type": "stream",
     "text": [
      "Extracting patient features:  75%|███████▌  | 452/601 [07:57<02:39,  1.07s/it]"
     ]
    },
    {
     "name": "stdout",
     "output_type": "stream",
     "text": [
      "[SKIPPED] Missing file: datasets/thyroid_ultrasonic_image/batch1_image/dataset/451_010.Jpg\n"
     ]
    },
    {
     "name": "stderr",
     "output_type": "stream",
     "text": [
      "Extracting patient features:  76%|███████▌  | 454/601 [07:59<02:33,  1.05s/it]"
     ]
    },
    {
     "name": "stdout",
     "output_type": "stream",
     "text": [
      "[SKIPPED] Missing file: datasets/thyroid_ultrasonic_image/batch1_image/dataset/454_017.Jpg\n",
      "[SKIPPED] Missing file: datasets/thyroid_ultrasonic_image/batch1_image/dataset/454_018.Jpg\n",
      "[SKIPPED] Missing file: datasets/thyroid_ultrasonic_image/batch1_image/dataset/454_019.Jpg\n",
      "[SKIPPED] Missing file: datasets/thyroid_ultrasonic_image/batch1_image/dataset/454_020.Jpg\n",
      "[SKIPPED] Missing file: datasets/thyroid_ultrasonic_image/batch1_image/dataset/454_021.Jpg\n",
      "[SKIPPED] Missing file: datasets/thyroid_ultrasonic_image/batch1_image/dataset/454_022.Jpg\n",
      "[SKIPPED] Missing file: datasets/thyroid_ultrasonic_image/batch1_image/dataset/454_023.Jpg\n",
      "[SKIPPED] Missing file: datasets/thyroid_ultrasonic_image/batch1_image/dataset/454_024.Jpg\n",
      "[WARNING] No valid images for patient: 454, skipping\n"
     ]
    },
    {
     "name": "stderr",
     "output_type": "stream",
     "text": [
      "Extracting patient features:  76%|███████▌  | 456/601 [08:00<01:37,  1.48it/s]"
     ]
    },
    {
     "name": "stdout",
     "output_type": "stream",
     "text": [
      "[SKIPPED] Missing file: datasets/thyroid_ultrasonic_image/batch1_image/dataset/455_004.Jpg\n",
      "[SKIPPED] Missing file: datasets/thyroid_ultrasonic_image/batch1_image/dataset/455_005.Jpg\n"
     ]
    },
    {
     "name": "stderr",
     "output_type": "stream",
     "text": [
      "Extracting patient features:  76%|███████▌  | 457/601 [08:02<02:44,  1.14s/it]"
     ]
    },
    {
     "name": "stdout",
     "output_type": "stream",
     "text": [
      "[SKIPPED] Missing file: datasets/thyroid_ultrasonic_image/batch1_image/dataset/457_001.Jpg\n",
      "[SKIPPED] Missing file: datasets/thyroid_ultrasonic_image/batch1_image/dataset/457_002.Jpg\n",
      "[SKIPPED] Missing file: datasets/thyroid_ultrasonic_image/batch1_image/dataset/457_003.Jpg\n",
      "[SKIPPED] Missing file: datasets/thyroid_ultrasonic_image/batch1_image/dataset/457_007.Jpg\n",
      "[SKIPPED] Missing file: datasets/thyroid_ultrasonic_image/batch1_image/dataset/457_008.Jpg\n",
      "[SKIPPED] Missing file: datasets/thyroid_ultrasonic_image/batch1_image/dataset/457_009.Jpg\n",
      "[SKIPPED] Missing file: datasets/thyroid_ultrasonic_image/batch1_image/dataset/457_010.Jpg\n",
      "[SKIPPED] Missing file: datasets/thyroid_ultrasonic_image/batch1_image/dataset/457_011.Jpg\n",
      "[SKIPPED] Missing file: datasets/thyroid_ultrasonic_image/batch1_image/dataset/457_012.Jpg\n",
      "[WARNING] No valid images for patient: 457, skipping\n"
     ]
    },
    {
     "name": "stderr",
     "output_type": "stream",
     "text": [
      "Extracting patient features:  76%|███████▋  | 459/601 [08:04<02:10,  1.09it/s]"
     ]
    },
    {
     "name": "stdout",
     "output_type": "stream",
     "text": [
      "[SKIPPED] Missing file: datasets/thyroid_ultrasonic_image/batch1_image/dataset/458_008.Jpg\n",
      "[SKIPPED] Missing file: datasets/thyroid_ultrasonic_image/batch1_image/dataset/458_009.Jpg\n",
      "[SKIPPED] Missing file: datasets/thyroid_ultrasonic_image/batch1_image/dataset/458_010.Jpg\n",
      "[SKIPPED] Missing file: datasets/thyroid_ultrasonic_image/batch1_image/dataset/458_011.Jpg\n",
      "[SKIPPED] Missing file: datasets/thyroid_ultrasonic_image/batch1_image/dataset/458_012.Jpg\n",
      "[SKIPPED] Missing file: datasets/thyroid_ultrasonic_image/batch1_image/dataset/458_013.Jpg\n",
      "[SKIPPED] Missing file: datasets/thyroid_ultrasonic_image/batch1_image/dataset/458_014.Jpg\n",
      "[SKIPPED] Missing file: datasets/thyroid_ultrasonic_image/batch1_image/dataset/458_015.Jpg\n",
      "[SKIPPED] Missing file: datasets/thyroid_ultrasonic_image/batch1_image/dataset/458_016.Jpg\n",
      "[SKIPPED] Missing file: datasets/thyroid_ultrasonic_image/batch1_image/dataset/459_001.Jpg\n",
      "[SKIPPED] Missing file: datasets/thyroid_ultrasonic_image/batch1_image/dataset/459_002.Jpg\n",
      "[SKIPPED] Missing file: datasets/thyroid_ultrasonic_image/batch1_image/dataset/459_003.Jpg\n",
      "[SKIPPED] Missing file: datasets/thyroid_ultrasonic_image/batch1_image/dataset/459_004.Jpg\n",
      "[SKIPPED] Missing file: datasets/thyroid_ultrasonic_image/batch1_image/dataset/459_005.Jpg\n",
      "[SKIPPED] Missing file: datasets/thyroid_ultrasonic_image/batch1_image/dataset/459_006.Jpg\n",
      "[SKIPPED] Missing file: datasets/thyroid_ultrasonic_image/batch1_image/dataset/459_007.Jpg\n",
      "[SKIPPED] Missing file: datasets/thyroid_ultrasonic_image/batch1_image/dataset/459_008.Jpg\n",
      "[SKIPPED] Missing file: datasets/thyroid_ultrasonic_image/batch1_image/dataset/459_009.Jpg\n",
      "[WARNING] No valid images for patient: 459, skipping\n",
      "[SKIPPED] Missing file: datasets/thyroid_ultrasonic_image/batch1_image/dataset/460_001.Jpg\n",
      "[SKIPPED] Missing file: datasets/thyroid_ultrasonic_image/batch1_image/dataset/460_002.Jpg\n",
      "[SKIPPED] Missing file: datasets/thyroid_ultrasonic_image/batch1_image/dataset/460_003.Jpg\n",
      "[SKIPPED] Missing file: datasets/thyroid_ultrasonic_image/batch1_image/dataset/460_004.Jpg\n",
      "[SKIPPED] Missing file: datasets/thyroid_ultrasonic_image/batch1_image/dataset/460_005.Jpg\n",
      "[SKIPPED] Missing file: datasets/thyroid_ultrasonic_image/batch1_image/dataset/460_006.Jpg\n",
      "[SKIPPED] Missing file: datasets/thyroid_ultrasonic_image/batch1_image/dataset/460_007.Jpg\n",
      "[SKIPPED] Missing file: datasets/thyroid_ultrasonic_image/batch1_image/dataset/460_008.Jpg\n",
      "[SKIPPED] Missing file: datasets/thyroid_ultrasonic_image/batch1_image/dataset/460_009.Jpg\n"
     ]
    },
    {
     "name": "stderr",
     "output_type": "stream",
     "text": [
      "Extracting patient features:  77%|███████▋  | 461/601 [08:07<02:47,  1.20s/it]"
     ]
    },
    {
     "name": "stdout",
     "output_type": "stream",
     "text": [
      "[SKIPPED] Missing file: datasets/thyroid_ultrasonic_image/batch1_image/dataset/461_001.Jpg\n",
      "[SKIPPED] Missing file: datasets/thyroid_ultrasonic_image/batch1_image/dataset/461_002.Jpg\n",
      "[SKIPPED] Missing file: datasets/thyroid_ultrasonic_image/batch1_image/dataset/461_003.Jpg\n",
      "[SKIPPED] Missing file: datasets/thyroid_ultrasonic_image/batch1_image/dataset/461_004.Jpg\n",
      "[SKIPPED] Missing file: datasets/thyroid_ultrasonic_image/batch1_image/dataset/461_005.Jpg\n",
      "[SKIPPED] Missing file: datasets/thyroid_ultrasonic_image/batch1_image/dataset/461_006.Jpg\n",
      "[SKIPPED] Missing file: datasets/thyroid_ultrasonic_image/batch1_image/dataset/461_007.Jpg\n",
      "[SKIPPED] Missing file: datasets/thyroid_ultrasonic_image/batch1_image/dataset/461_008.Jpg\n",
      "[SKIPPED] Missing file: datasets/thyroid_ultrasonic_image/batch1_image/dataset/461_009.Jpg\n",
      "[WARNING] No valid images for patient: 461, skipping\n"
     ]
    },
    {
     "name": "stderr",
     "output_type": "stream",
     "text": [
      "Extracting patient features:  77%|███████▋  | 463/601 [08:08<02:10,  1.06it/s]"
     ]
    },
    {
     "name": "stdout",
     "output_type": "stream",
     "text": [
      "[SKIPPED] Missing file: datasets/thyroid_ultrasonic_image/batch1_image/dataset/462_006.Jpg\n",
      "[SKIPPED] Missing file: datasets/thyroid_ultrasonic_image/batch1_image/dataset/462_007.Jpg\n",
      "[SKIPPED] Missing file: datasets/thyroid_ultrasonic_image/batch1_image/dataset/462_008.Jpg\n",
      "[SKIPPED] Missing file: datasets/thyroid_ultrasonic_image/batch1_image/dataset/462_009.Jpg\n",
      "[SKIPPED] Missing file: datasets/thyroid_ultrasonic_image/batch1_image/dataset/462_010.Jpg\n",
      "[SKIPPED] Missing file: datasets/thyroid_ultrasonic_image/batch1_image/dataset/462_011.Jpg\n",
      "[SKIPPED] Missing file: datasets/thyroid_ultrasonic_image/batch1_image/dataset/462_013.Jpg\n",
      "[SKIPPED] Missing file: datasets/thyroid_ultrasonic_image/batch1_image/dataset/463_010.Jpg\n",
      "[SKIPPED] Missing file: datasets/thyroid_ultrasonic_image/batch1_image/dataset/463_012.Jpg\n",
      "[SKIPPED] Missing file: datasets/thyroid_ultrasonic_image/batch1_image/dataset/463_014.Jpg\n"
     ]
    },
    {
     "name": "stderr",
     "output_type": "stream",
     "text": [
      "Extracting patient features:  77%|███████▋  | 464/601 [08:09<02:23,  1.05s/it]"
     ]
    },
    {
     "name": "stdout",
     "output_type": "stream",
     "text": [
      "[SKIPPED] Missing file: datasets/thyroid_ultrasonic_image/batch1_image/dataset/463_015.Jpg\n",
      "[SKIPPED] Missing file: datasets/thyroid_ultrasonic_image/batch1_image/dataset/463_016.Jpg\n"
     ]
    },
    {
     "name": "stderr",
     "output_type": "stream",
     "text": [
      "Extracting patient features:  77%|███████▋  | 465/601 [08:11<02:36,  1.15s/it]"
     ]
    },
    {
     "name": "stdout",
     "output_type": "stream",
     "text": [
      "[SKIPPED] Missing file: datasets/thyroid_ultrasonic_image/batch1_image/dataset/464_009.Jpg\n",
      "[SKIPPED] Missing file: datasets/thyroid_ultrasonic_image/batch1_image/dataset/464_010.Jpg\n"
     ]
    },
    {
     "name": "stderr",
     "output_type": "stream",
     "text": [
      "Extracting patient features:  78%|███████▊  | 467/601 [08:13<02:24,  1.08s/it]"
     ]
    },
    {
     "name": "stdout",
     "output_type": "stream",
     "text": [
      "[SKIPPED] Missing file: datasets/thyroid_ultrasonic_image/batch1_image/dataset/467_017.Jpg\n",
      "[SKIPPED] Missing file: datasets/thyroid_ultrasonic_image/batch1_image/dataset/467_018.Jpg\n",
      "[SKIPPED] Missing file: datasets/thyroid_ultrasonic_image/batch1_image/dataset/467_019.Jpg\n",
      "[SKIPPED] Missing file: datasets/thyroid_ultrasonic_image/batch1_image/dataset/467_020.Jpg\n",
      "[WARNING] No valid images for patient: 467, skipping\n"
     ]
    },
    {
     "name": "stderr",
     "output_type": "stream",
     "text": [
      "Extracting patient features:  78%|███████▊  | 469/601 [08:14<02:14,  1.02s/it]"
     ]
    },
    {
     "name": "stdout",
     "output_type": "stream",
     "text": [
      "[SKIPPED] Missing file: datasets/thyroid_ultrasonic_image/batch1_image/dataset/468_012.Jpg\n",
      "[SKIPPED] Missing file: datasets/thyroid_ultrasonic_image/batch1_image/dataset/468_013.Jpg\n",
      "[SKIPPED] Missing file: datasets/thyroid_ultrasonic_image/batch1_image/dataset/468_014.Jpg\n",
      "[SKIPPED] Missing file: datasets/thyroid_ultrasonic_image/batch1_image/dataset/468_015.Jpg\n",
      "[SKIPPED] Missing file: datasets/thyroid_ultrasonic_image/batch1_image/dataset/468_016.Jpg\n",
      "[SKIPPED] Missing file: datasets/thyroid_ultrasonic_image/batch1_image/dataset/468_017.Jpg\n",
      "[SKIPPED] Missing file: datasets/thyroid_ultrasonic_image/batch1_image/dataset/468_018.Jpg\n",
      "[SKIPPED] Missing file: datasets/thyroid_ultrasonic_image/batch1_image/dataset/469_007.Jpg\n"
     ]
    },
    {
     "name": "stderr",
     "output_type": "stream",
     "text": [
      "Extracting patient features:  78%|███████▊  | 470/601 [08:16<02:34,  1.18s/it]"
     ]
    },
    {
     "name": "stdout",
     "output_type": "stream",
     "text": [
      "[SKIPPED] Missing file: datasets/thyroid_ultrasonic_image/batch1_image/dataset/469_011.Jpg\n",
      "[SKIPPED] Missing file: datasets/thyroid_ultrasonic_image/batch1_image/dataset/469_012.Jpg\n"
     ]
    },
    {
     "name": "stderr",
     "output_type": "stream",
     "text": [
      "Extracting patient features:  78%|███████▊  | 471/601 [08:18<02:38,  1.22s/it]"
     ]
    },
    {
     "name": "stdout",
     "output_type": "stream",
     "text": [
      "[SKIPPED] Missing file: datasets/thyroid_ultrasonic_image/batch1_image/dataset/470_008.Jpg\n"
     ]
    },
    {
     "name": "stderr",
     "output_type": "stream",
     "text": [
      "Extracting patient features:  79%|███████▊  | 472/601 [08:19<02:55,  1.36s/it]"
     ]
    },
    {
     "name": "stdout",
     "output_type": "stream",
     "text": [
      "[SKIPPED] Missing file: datasets/thyroid_ultrasonic_image/batch1_image/dataset/471_008.Jpg\n",
      "[SKIPPED] Missing file: datasets/thyroid_ultrasonic_image/batch1_image/dataset/471_009.Jpg\n",
      "[SKIPPED] Missing file: datasets/thyroid_ultrasonic_image/batch1_image/dataset/471_010.Jpg\n"
     ]
    },
    {
     "name": "stderr",
     "output_type": "stream",
     "text": [
      "Extracting patient features:  79%|███████▊  | 473/601 [08:20<02:41,  1.26s/it]"
     ]
    },
    {
     "name": "stdout",
     "output_type": "stream",
     "text": [
      "[SKIPPED] Missing file: datasets/thyroid_ultrasonic_image/batch1_image/dataset/472_006.Jpg\n",
      "[SKIPPED] Missing file: datasets/thyroid_ultrasonic_image/batch1_image/dataset/472_007.Jpg\n",
      "[SKIPPED] Missing file: datasets/thyroid_ultrasonic_image/batch1_image/dataset/472_008.Jpg\n",
      "[SKIPPED] Missing file: datasets/thyroid_ultrasonic_image/batch1_image/dataset/472_009.Jpg\n"
     ]
    },
    {
     "name": "stderr",
     "output_type": "stream",
     "text": [
      "Extracting patient features:  79%|███████▉  | 474/601 [08:22<03:09,  1.49s/it]"
     ]
    },
    {
     "name": "stdout",
     "output_type": "stream",
     "text": [
      "[SKIPPED] Missing file: datasets/thyroid_ultrasonic_image/batch1_image/dataset/473_011.Jpg\n",
      "[SKIPPED] Missing file: datasets/thyroid_ultrasonic_image/batch1_image/dataset/474_001.Jpg\n",
      "[SKIPPED] Missing file: datasets/thyroid_ultrasonic_image/batch1_image/dataset/474_003.Jpg\n",
      "[SKIPPED] Missing file: datasets/thyroid_ultrasonic_image/batch1_image/dataset/474_004.Jpg\n",
      "[WARNING] No valid images for patient: 474, skipping\n",
      "[SKIPPED] Missing file: datasets/thyroid_ultrasonic_image/batch1_image/dataset/475_023.Jpg\n",
      "[SKIPPED] Missing file: datasets/thyroid_ultrasonic_image/batch1_image/dataset/475_024.Jpg\n",
      "[SKIPPED] Missing file: datasets/thyroid_ultrasonic_image/batch1_image/dataset/475_025.Jpg\n",
      "[SKIPPED] Missing file: datasets/thyroid_ultrasonic_image/batch1_image/dataset/475_026.Jpg\n",
      "[SKIPPED] Missing file: datasets/thyroid_ultrasonic_image/batch1_image/dataset/475_027.Jpg\n",
      "[SKIPPED] Missing file: datasets/thyroid_ultrasonic_image/batch1_image/dataset/475_028.Jpg\n",
      "[SKIPPED] Missing file: datasets/thyroid_ultrasonic_image/batch1_image/dataset/475_029.Jpg\n",
      "[SKIPPED] Missing file: datasets/thyroid_ultrasonic_image/batch1_image/dataset/475_030.Jpg\n",
      "[SKIPPED] Missing file: datasets/thyroid_ultrasonic_image/batch1_image/dataset/475_031.Jpg\n",
      "[SKIPPED] Missing file: datasets/thyroid_ultrasonic_image/batch1_image/dataset/475_032.Jpg\n",
      "[SKIPPED] Missing file: datasets/thyroid_ultrasonic_image/batch1_image/dataset/475_033.Jpg\n",
      "[SKIPPED] Missing file: datasets/thyroid_ultrasonic_image/batch1_image/dataset/475_034.Jpg\n",
      "[SKIPPED] Missing file: datasets/thyroid_ultrasonic_image/batch1_image/dataset/475_035.Jpg\n",
      "[SKIPPED] Missing file: datasets/thyroid_ultrasonic_image/batch1_image/dataset/475_036.Jpg\n",
      "[SKIPPED] Missing file: datasets/thyroid_ultrasonic_image/batch1_image/dataset/475_037.Jpg\n",
      "[SKIPPED] Missing file: datasets/thyroid_ultrasonic_image/batch1_image/dataset/475_038.Jpg\n",
      "[SKIPPED] Missing file: datasets/thyroid_ultrasonic_image/batch1_image/dataset/475_039.Jpg\n",
      "[SKIPPED] Missing file: datasets/thyroid_ultrasonic_image/batch1_image/dataset/475_040.Jpg\n",
      "[SKIPPED] Missing file: datasets/thyroid_ultrasonic_image/batch1_image/dataset/475_041.Jpg\n",
      "[SKIPPED] Missing file: datasets/thyroid_ultrasonic_image/batch1_image/dataset/475_042.Jpg\n",
      "[WARNING] No valid images for patient: 475, skipping\n"
     ]
    },
    {
     "name": "stderr",
     "output_type": "stream",
     "text": [
      "Extracting patient features:  79%|███████▉  | 477/601 [08:24<02:01,  1.02it/s]"
     ]
    },
    {
     "name": "stdout",
     "output_type": "stream",
     "text": [
      "[SKIPPED] Missing file: datasets/thyroid_ultrasonic_image/batch1_image/dataset/476_010.Jpg\n",
      "[SKIPPED] Missing file: datasets/thyroid_ultrasonic_image/batch1_image/dataset/477_017.Jpg\n",
      "[SKIPPED] Missing file: datasets/thyroid_ultrasonic_image/batch1_image/dataset/477_019.Jpg\n",
      "[SKIPPED] Missing file: datasets/thyroid_ultrasonic_image/batch1_image/dataset/477_020.Jpg\n",
      "[SKIPPED] Missing file: datasets/thyroid_ultrasonic_image/batch1_image/dataset/477_021.Jpg\n",
      "[SKIPPED] Missing file: datasets/thyroid_ultrasonic_image/batch1_image/dataset/477_022.Jpg\n",
      "[WARNING] No valid images for patient: 477, skipping\n",
      "[SKIPPED] Missing file: datasets/thyroid_ultrasonic_image/batch1_image/dataset/478_003.Jpg\n"
     ]
    },
    {
     "name": "stderr",
     "output_type": "stream",
     "text": [
      "Extracting patient features:  80%|████████  | 481/601 [08:27<01:46,  1.13it/s]"
     ]
    },
    {
     "name": "stdout",
     "output_type": "stream",
     "text": [
      "[SKIPPED] Missing file: datasets/thyroid_ultrasonic_image/batch1_image/dataset/480_005.Jpg\n",
      "[SKIPPED] Missing file: datasets/thyroid_ultrasonic_image/batch1_image/dataset/480_006.Jpg\n",
      "[SKIPPED] Missing file: datasets/thyroid_ultrasonic_image/batch1_image/dataset/480_010.Jpg\n",
      "[SKIPPED] Missing file: datasets/thyroid_ultrasonic_image/batch1_image/dataset/481_001.Jpg\n",
      "[SKIPPED] Missing file: datasets/thyroid_ultrasonic_image/batch1_image/dataset/481_002.Jpg\n",
      "[SKIPPED] Missing file: datasets/thyroid_ultrasonic_image/batch1_image/dataset/481_003.Jpg\n",
      "[SKIPPED] Missing file: datasets/thyroid_ultrasonic_image/batch1_image/dataset/481_004.Jpg\n",
      "[SKIPPED] Missing file: datasets/thyroid_ultrasonic_image/batch1_image/dataset/481_005.Jpg\n",
      "[SKIPPED] Missing file: datasets/thyroid_ultrasonic_image/batch1_image/dataset/481_006.Jpg\n",
      "[SKIPPED] Missing file: datasets/thyroid_ultrasonic_image/batch1_image/dataset/481_007.Jpg\n",
      "[SKIPPED] Missing file: datasets/thyroid_ultrasonic_image/batch1_image/dataset/481_009.Jpg\n",
      "[WARNING] No valid images for patient: 481, skipping\n"
     ]
    },
    {
     "name": "stderr",
     "output_type": "stream",
     "text": [
      "Extracting patient features:  81%|████████  | 486/601 [08:32<01:56,  1.01s/it]"
     ]
    },
    {
     "name": "stdout",
     "output_type": "stream",
     "text": [
      "[SKIPPED] Missing file: datasets/thyroid_ultrasonic_image/batch1_image/dataset/485_006.Jpg\n",
      "[SKIPPED] Missing file: datasets/thyroid_ultrasonic_image/batch1_image/dataset/485_007.Jpg\n"
     ]
    },
    {
     "name": "stderr",
     "output_type": "stream",
     "text": [
      "Extracting patient features:  81%|████████  | 487/601 [08:34<02:16,  1.20s/it]"
     ]
    },
    {
     "name": "stdout",
     "output_type": "stream",
     "text": [
      "[SKIPPED] Missing file: datasets/thyroid_ultrasonic_image/batch1_image/dataset/487_001.Jpg\n",
      "[SKIPPED] Missing file: datasets/thyroid_ultrasonic_image/batch1_image/dataset/487_002.Jpg\n"
     ]
    },
    {
     "name": "stderr",
     "output_type": "stream",
     "text": [
      "Extracting patient features:  81%|████████▏ | 489/601 [08:36<02:14,  1.20s/it]"
     ]
    },
    {
     "name": "stdout",
     "output_type": "stream",
     "text": [
      "[SKIPPED] Missing file: datasets/thyroid_ultrasonic_image/batch1_image/dataset/488_007.Jpg\n",
      "[SKIPPED] Missing file: datasets/thyroid_ultrasonic_image/batch1_image/dataset/488_008.Jpg\n",
      "[SKIPPED] Missing file: datasets/thyroid_ultrasonic_image/batch1_image/dataset/488_009.Jpg\n",
      "[SKIPPED] Missing file: datasets/thyroid_ultrasonic_image/batch1_image/dataset/488_010.Jpg\n",
      "[SKIPPED] Missing file: datasets/thyroid_ultrasonic_image/batch1_image/dataset/488_011.Jpg\n",
      "[SKIPPED] Missing file: datasets/thyroid_ultrasonic_image/batch1_image/dataset/488_012.Jpg\n",
      "[SKIPPED] Missing file: datasets/thyroid_ultrasonic_image/batch1_image/dataset/489_001.Jpg\n",
      "[SKIPPED] Missing file: datasets/thyroid_ultrasonic_image/batch1_image/dataset/489_004.Jpg\n"
     ]
    },
    {
     "name": "stderr",
     "output_type": "stream",
     "text": [
      "Extracting patient features:  82%|████████▏ | 490/601 [08:37<02:05,  1.13s/it]"
     ]
    },
    {
     "name": "stdout",
     "output_type": "stream",
     "text": [
      "[SKIPPED] Missing file: datasets/thyroid_ultrasonic_image/batch1_image/dataset/489_010.Jpg\n",
      "[SKIPPED] Missing file: datasets/thyroid_ultrasonic_image/batch1_image/dataset/490_025.Jpg\n",
      "[SKIPPED] Missing file: datasets/thyroid_ultrasonic_image/batch1_image/dataset/490_026.Jpg\n",
      "[SKIPPED] Missing file: datasets/thyroid_ultrasonic_image/batch1_image/dataset/490_027.Jpg\n",
      "[SKIPPED] Missing file: datasets/thyroid_ultrasonic_image/batch1_image/dataset/490_028.Jpg\n",
      "[SKIPPED] Missing file: datasets/thyroid_ultrasonic_image/batch1_image/dataset/490_029.Jpg\n",
      "[SKIPPED] Missing file: datasets/thyroid_ultrasonic_image/batch1_image/dataset/490_031.Jpg\n",
      "[SKIPPED] Missing file: datasets/thyroid_ultrasonic_image/batch1_image/dataset/490_032.Jpg\n",
      "[SKIPPED] Missing file: datasets/thyroid_ultrasonic_image/batch1_image/dataset/490_033.Jpg\n",
      "[WARNING] No valid images for patient: 490, skipping\n",
      "[SKIPPED] Missing file: datasets/thyroid_ultrasonic_image/batch1_image/dataset/491_014.Jpg\n",
      "[SKIPPED] Missing file: datasets/thyroid_ultrasonic_image/batch1_image/dataset/491_015.Jpg\n",
      "[SKIPPED] Missing file: datasets/thyroid_ultrasonic_image/batch1_image/dataset/491_016.Jpg\n",
      "[SKIPPED] Missing file: datasets/thyroid_ultrasonic_image/batch1_image/dataset/491_017.Jpg\n",
      "[SKIPPED] Missing file: datasets/thyroid_ultrasonic_image/batch1_image/dataset/491_018.Jpg\n",
      "[SKIPPED] Missing file: datasets/thyroid_ultrasonic_image/batch1_image/dataset/491_019.Jpg\n",
      "[SKIPPED] Missing file: datasets/thyroid_ultrasonic_image/batch1_image/dataset/491_020.Jpg\n",
      "[WARNING] No valid images for patient: 491, skipping\n"
     ]
    },
    {
     "name": "stderr",
     "output_type": "stream",
     "text": [
      "Extracting patient features:  82%|████████▏ | 495/601 [08:40<01:08,  1.54it/s]"
     ]
    },
    {
     "name": "stdout",
     "output_type": "stream",
     "text": [
      "[SKIPPED] Missing file: datasets/thyroid_ultrasonic_image/batch1_image/dataset/494_010.Jpg\n",
      "[SKIPPED] Missing file: datasets/thyroid_ultrasonic_image/batch1_image/dataset/494_011.Jpg\n",
      "[SKIPPED] Missing file: datasets/thyroid_ultrasonic_image/batch1_image/dataset/494_012.Jpg\n",
      "[SKIPPED] Missing file: datasets/thyroid_ultrasonic_image/batch1_image/dataset/494_013.Jpg\n",
      "[SKIPPED] Missing file: datasets/thyroid_ultrasonic_image/batch1_image/dataset/494_014.Jpg\n",
      "[SKIPPED] Missing file: datasets/thyroid_ultrasonic_image/batch1_image/dataset/494_015.Jpg\n"
     ]
    },
    {
     "name": "stderr",
     "output_type": "stream",
     "text": [
      "Extracting patient features:  83%|████████▎ | 497/601 [08:43<01:46,  1.03s/it]"
     ]
    },
    {
     "name": "stdout",
     "output_type": "stream",
     "text": [
      "[SKIPPED] Missing file: datasets/thyroid_ultrasonic_image/batch1_image/dataset/497_014.Jpg\n",
      "[SKIPPED] Missing file: datasets/thyroid_ultrasonic_image/batch1_image/dataset/497_015.Jpg\n",
      "[SKIPPED] Missing file: datasets/thyroid_ultrasonic_image/batch1_image/dataset/497_016.Jpg\n",
      "[SKIPPED] Missing file: datasets/thyroid_ultrasonic_image/batch1_image/dataset/497_017.Jpg\n",
      "[SKIPPED] Missing file: datasets/thyroid_ultrasonic_image/batch1_image/dataset/497_018.Jpg\n",
      "[SKIPPED] Missing file: datasets/thyroid_ultrasonic_image/batch1_image/dataset/497_019.Jpg\n",
      "[SKIPPED] Missing file: datasets/thyroid_ultrasonic_image/batch1_image/dataset/497_020.Jpg\n",
      "[SKIPPED] Missing file: datasets/thyroid_ultrasonic_image/batch1_image/dataset/497_021.Jpg\n",
      "[SKIPPED] Missing file: datasets/thyroid_ultrasonic_image/batch1_image/dataset/497_022.Jpg\n",
      "[SKIPPED] Missing file: datasets/thyroid_ultrasonic_image/batch1_image/dataset/497_023.Jpg\n",
      "[WARNING] No valid images for patient: 497, skipping\n",
      "[SKIPPED] Missing file: datasets/thyroid_ultrasonic_image/batch1_image/dataset/498_008.Jpg\n"
     ]
    },
    {
     "name": "stderr",
     "output_type": "stream",
     "text": [
      "Extracting patient features:  83%|████████▎ | 499/601 [08:45<01:44,  1.02s/it]"
     ]
    },
    {
     "name": "stdout",
     "output_type": "stream",
     "text": [
      "[SKIPPED] Missing file: datasets/thyroid_ultrasonic_image/batch1_image/dataset/498_013.Jpg\n",
      "[SKIPPED] Missing file: datasets/thyroid_ultrasonic_image/batch1_image/dataset/498_014.Jpg\n"
     ]
    },
    {
     "name": "stderr",
     "output_type": "stream",
     "text": [
      "Extracting patient features:  83%|████████▎ | 501/601 [08:47<02:00,  1.20s/it]"
     ]
    },
    {
     "name": "stdout",
     "output_type": "stream",
     "text": [
      "[SKIPPED] Missing file: datasets/thyroid_ultrasonic_image/batch1_image/dataset/501_002.Jpg\n"
     ]
    },
    {
     "name": "stderr",
     "output_type": "stream",
     "text": [
      "Extracting patient features:  84%|████████▎ | 502/601 [08:48<01:50,  1.11s/it]"
     ]
    },
    {
     "name": "stdout",
     "output_type": "stream",
     "text": [
      "[SKIPPED] Missing file: datasets/thyroid_ultrasonic_image/batch1_image/dataset/502_001.Jpg\n",
      "[SKIPPED] Missing file: datasets/thyroid_ultrasonic_image/batch1_image/dataset/502_002.Jpg\n",
      "[SKIPPED] Missing file: datasets/thyroid_ultrasonic_image/batch1_image/dataset/502_004.Jpg\n",
      "[SKIPPED] Missing file: datasets/thyroid_ultrasonic_image/batch1_image/dataset/502_005.Jpg\n",
      "[SKIPPED] Missing file: datasets/thyroid_ultrasonic_image/batch1_image/dataset/502_006.Jpg\n",
      "[SKIPPED] Missing file: datasets/thyroid_ultrasonic_image/batch1_image/dataset/502_007.Jpg\n",
      "[WARNING] No valid images for patient: 502, skipping\n"
     ]
    },
    {
     "name": "stderr",
     "output_type": "stream",
     "text": [
      "Extracting patient features:  84%|████████▍ | 504/601 [08:49<01:24,  1.15it/s]"
     ]
    },
    {
     "name": "stdout",
     "output_type": "stream",
     "text": [
      "[SKIPPED] Missing file: datasets/thyroid_ultrasonic_image/batch1_image/dataset/503_011.Jpg\n",
      "[SKIPPED] Missing file: datasets/thyroid_ultrasonic_image/batch1_image/dataset/503_012.Jpg\n",
      "[SKIPPED] Missing file: datasets/thyroid_ultrasonic_image/batch1_image/dataset/503_013.Jpg\n"
     ]
    },
    {
     "name": "stderr",
     "output_type": "stream",
     "text": [
      "Extracting patient features:  84%|████████▍ | 505/601 [08:52<01:55,  1.20s/it]"
     ]
    },
    {
     "name": "stdout",
     "output_type": "stream",
     "text": [
      "[SKIPPED] Missing file: datasets/thyroid_ultrasonic_image/batch1_image/dataset/505_014.Jpg\n"
     ]
    },
    {
     "name": "stderr",
     "output_type": "stream",
     "text": [
      "Extracting patient features:  84%|████████▍ | 507/601 [08:56<02:19,  1.48s/it]"
     ]
    },
    {
     "name": "stdout",
     "output_type": "stream",
     "text": [
      "[SKIPPED] Missing file: datasets/thyroid_ultrasonic_image/batch1_image/dataset/506_007.Jpg\n",
      "[SKIPPED] Missing file: datasets/thyroid_ultrasonic_image/batch1_image/dataset/506_008.Jpg\n",
      "[SKIPPED] Missing file: datasets/thyroid_ultrasonic_image/batch1_image/dataset/506_009.Jpg\n",
      "[SKIPPED] Missing file: datasets/thyroid_ultrasonic_image/batch1_image/dataset/506_010.Jpg\n"
     ]
    },
    {
     "name": "stderr",
     "output_type": "stream",
     "text": [
      "Extracting patient features:  85%|████████▍ | 508/601 [08:57<02:15,  1.46s/it]"
     ]
    },
    {
     "name": "stdout",
     "output_type": "stream",
     "text": [
      "[SKIPPED] Missing file: datasets/thyroid_ultrasonic_image/batch1_image/dataset/507_008.Jpg\n"
     ]
    },
    {
     "name": "stderr",
     "output_type": "stream",
     "text": [
      "Extracting patient features:  85%|████████▍ | 509/601 [08:59<02:35,  1.70s/it]"
     ]
    },
    {
     "name": "stdout",
     "output_type": "stream",
     "text": [
      "[SKIPPED] Missing file: datasets/thyroid_ultrasonic_image/batch1_image/dataset/508_013.Jpg\n",
      "[SKIPPED] Missing file: datasets/thyroid_ultrasonic_image/batch1_image/dataset/508_014.Jpg\n"
     ]
    },
    {
     "name": "stderr",
     "output_type": "stream",
     "text": [
      "Extracting patient features:  85%|████████▌ | 511/601 [09:03<02:23,  1.59s/it]"
     ]
    },
    {
     "name": "stdout",
     "output_type": "stream",
     "text": [
      "[SKIPPED] Missing file: datasets/thyroid_ultrasonic_image/batch1_image/dataset/511_016.Jpg\n",
      "[SKIPPED] Missing file: datasets/thyroid_ultrasonic_image/batch1_image/dataset/511_017.Jpg\n",
      "[SKIPPED] Missing file: datasets/thyroid_ultrasonic_image/batch1_image/dataset/511_018.Jpg\n",
      "[SKIPPED] Missing file: datasets/thyroid_ultrasonic_image/batch1_image/dataset/511_019.Jpg\n",
      "[SKIPPED] Missing file: datasets/thyroid_ultrasonic_image/batch1_image/dataset/511_020.Jpg\n"
     ]
    },
    {
     "name": "stderr",
     "output_type": "stream",
     "text": [
      "Extracting patient features:  86%|████████▌ | 515/601 [09:09<02:36,  1.82s/it]"
     ]
    },
    {
     "name": "stdout",
     "output_type": "stream",
     "text": [
      "[SKIPPED] Missing file: datasets/thyroid_ultrasonic_image/batch1_image/dataset/514_015.Jpg\n",
      "[SKIPPED] Missing file: datasets/thyroid_ultrasonic_image/batch1_image/dataset/514_016.Jpg\n",
      "[SKIPPED] Missing file: datasets/thyroid_ultrasonic_image/batch1_image/dataset/514_017.Jpg\n",
      "[SKIPPED] Missing file: datasets/thyroid_ultrasonic_image/batch1_image/dataset/514_018.Jpg\n",
      "[SKIPPED] Missing file: datasets/thyroid_ultrasonic_image/batch1_image/dataset/514_019.Jpg\n",
      "[SKIPPED] Missing file: datasets/thyroid_ultrasonic_image/batch1_image/dataset/514_020.Jpg\n",
      "[SKIPPED] Missing file: datasets/thyroid_ultrasonic_image/batch1_image/dataset/514_021.Jpg\n",
      "[SKIPPED] Missing file: datasets/thyroid_ultrasonic_image/batch1_image/dataset/514_022.Jpg\n",
      "[SKIPPED] Missing file: datasets/thyroid_ultrasonic_image/batch1_image/dataset/514_023.Jpg\n",
      "[SKIPPED] Missing file: datasets/thyroid_ultrasonic_image/batch1_image/dataset/514_024.Jpg\n",
      "[SKIPPED] Missing file: datasets/thyroid_ultrasonic_image/batch1_image/dataset/514_025.Jpg\n"
     ]
    },
    {
     "name": "stderr",
     "output_type": "stream",
     "text": [
      "Extracting patient features:  86%|████████▌ | 516/601 [09:10<02:03,  1.46s/it]"
     ]
    },
    {
     "name": "stdout",
     "output_type": "stream",
     "text": [
      "[SKIPPED] Missing file: datasets/thyroid_ultrasonic_image/batch1_image/dataset/515_005.Jpg\n",
      "[SKIPPED] Missing file: datasets/thyroid_ultrasonic_image/batch1_image/dataset/515_006.Jpg\n",
      "[SKIPPED] Missing file: datasets/thyroid_ultrasonic_image/batch1_image/dataset/515_008.Jpg\n",
      "[SKIPPED] Missing file: datasets/thyroid_ultrasonic_image/batch1_image/dataset/515_010.Jpg\n",
      "[SKIPPED] Missing file: datasets/thyroid_ultrasonic_image/batch1_image/dataset/515_012.Jpg\n",
      "[SKIPPED] Missing file: datasets/thyroid_ultrasonic_image/batch1_image/dataset/515_013.Jpg\n",
      "[SKIPPED] Missing file: datasets/thyroid_ultrasonic_image/batch1_image/dataset/515_014.Jpg\n",
      "[SKIPPED] Missing file: datasets/thyroid_ultrasonic_image/batch1_image/dataset/515_016.Jpg\n",
      "[SKIPPED] Missing file: datasets/thyroid_ultrasonic_image/batch1_image/dataset/515_017.Jpg\n"
     ]
    },
    {
     "name": "stderr",
     "output_type": "stream",
     "text": [
      "Extracting patient features:  86%|████████▌ | 517/601 [09:11<01:49,  1.31s/it]"
     ]
    },
    {
     "name": "stdout",
     "output_type": "stream",
     "text": [
      "[SKIPPED] Missing file: datasets/thyroid_ultrasonic_image/batch1_image/dataset/516_006.Jpg\n"
     ]
    },
    {
     "name": "stderr",
     "output_type": "stream",
     "text": [
      "Extracting patient features:  86%|████████▋ | 519/601 [09:13<01:43,  1.26s/it]"
     ]
    },
    {
     "name": "stdout",
     "output_type": "stream",
     "text": [
      "[SKIPPED] Missing file: datasets/thyroid_ultrasonic_image/batch1_image/dataset/518_007.Jpg\n",
      "[SKIPPED] Missing file: datasets/thyroid_ultrasonic_image/batch1_image/dataset/518_008.Jpg\n",
      "[SKIPPED] Missing file: datasets/thyroid_ultrasonic_image/batch1_image/dataset/518_009.Jpg\n",
      "[SKIPPED] Missing file: datasets/thyroid_ultrasonic_image/batch1_image/dataset/518_010.Jpg\n"
     ]
    },
    {
     "name": "stderr",
     "output_type": "stream",
     "text": [
      "Extracting patient features:  87%|████████▋ | 520/601 [09:15<01:51,  1.37s/it]"
     ]
    },
    {
     "name": "stdout",
     "output_type": "stream",
     "text": [
      "[SKIPPED] Missing file: datasets/thyroid_ultrasonic_image/batch1_image/dataset/519_009.Jpg\n",
      "[SKIPPED] Missing file: datasets/thyroid_ultrasonic_image/batch1_image/dataset/519_010.Jpg\n",
      "[SKIPPED] Missing file: datasets/thyroid_ultrasonic_image/batch1_image/dataset/519_011.Jpg\n",
      "[SKIPPED] Missing file: datasets/thyroid_ultrasonic_image/batch1_image/dataset/519_012.Jpg\n",
      "[SKIPPED] Missing file: datasets/thyroid_ultrasonic_image/batch1_image/dataset/519_013.Jpg\n",
      "[SKIPPED] Missing file: datasets/thyroid_ultrasonic_image/batch1_image/dataset/519_014.Jpg\n",
      "[SKIPPED] Missing file: datasets/thyroid_ultrasonic_image/batch1_image/dataset/519_015.Jpg\n"
     ]
    },
    {
     "name": "stderr",
     "output_type": "stream",
     "text": [
      "Extracting patient features:  87%|████████▋ | 521/601 [09:16<01:52,  1.41s/it]"
     ]
    },
    {
     "name": "stdout",
     "output_type": "stream",
     "text": [
      "[SKIPPED] Missing file: datasets/thyroid_ultrasonic_image/batch1_image/dataset/520_009.Jpg\n",
      "[SKIPPED] Missing file: datasets/thyroid_ultrasonic_image/batch1_image/dataset/520_010.Jpg\n",
      "[SKIPPED] Missing file: datasets/thyroid_ultrasonic_image/batch1_image/dataset/520_011.Jpg\n",
      "[SKIPPED] Missing file: datasets/thyroid_ultrasonic_image/batch1_image/dataset/520_012.Jpg\n"
     ]
    },
    {
     "name": "stderr",
     "output_type": "stream",
     "text": [
      "Extracting patient features:  87%|████████▋ | 522/601 [09:18<01:47,  1.36s/it]"
     ]
    },
    {
     "name": "stdout",
     "output_type": "stream",
     "text": [
      "[SKIPPED] Missing file: datasets/thyroid_ultrasonic_image/batch1_image/dataset/521_008.Jpg\n",
      "[SKIPPED] Missing file: datasets/thyroid_ultrasonic_image/batch1_image/dataset/521_009.Jpg\n",
      "[SKIPPED] Missing file: datasets/thyroid_ultrasonic_image/batch1_image/dataset/522_001.Jpg\n",
      "[SKIPPED] Missing file: datasets/thyroid_ultrasonic_image/batch1_image/dataset/522_002.Jpg\n",
      "[SKIPPED] Missing file: datasets/thyroid_ultrasonic_image/batch1_image/dataset/522_003.Jpg\n",
      "[SKIPPED] Missing file: datasets/thyroid_ultrasonic_image/batch1_image/dataset/522_004.Jpg\n",
      "[SKIPPED] Missing file: datasets/thyroid_ultrasonic_image/batch1_image/dataset/522_005.Jpg\n",
      "[SKIPPED] Missing file: datasets/thyroid_ultrasonic_image/batch1_image/dataset/522_006.Jpg\n",
      "[SKIPPED] Missing file: datasets/thyroid_ultrasonic_image/batch1_image/dataset/522_007.Jpg\n",
      "[SKIPPED] Missing file: datasets/thyroid_ultrasonic_image/batch1_image/dataset/522_008.Jpg\n",
      "[SKIPPED] Missing file: datasets/thyroid_ultrasonic_image/batch1_image/dataset/522_009.Jpg\n",
      "[SKIPPED] Missing file: datasets/thyroid_ultrasonic_image/batch1_image/dataset/522_010.Jpg\n",
      "[SKIPPED] Missing file: datasets/thyroid_ultrasonic_image/batch1_image/dataset/522_011.Jpg\n",
      "[SKIPPED] Missing file: datasets/thyroid_ultrasonic_image/batch1_image/dataset/522_012.Jpg\n",
      "[SKIPPED] Missing file: datasets/thyroid_ultrasonic_image/batch1_image/dataset/522_013.Jpg\n",
      "[SKIPPED] Missing file: datasets/thyroid_ultrasonic_image/batch1_image/dataset/522_014.Jpg\n",
      "[SKIPPED] Missing file: datasets/thyroid_ultrasonic_image/batch1_image/dataset/522_015.Jpg\n",
      "[WARNING] No valid images for patient: 522, skipping\n",
      "[SKIPPED] Missing file: datasets/thyroid_ultrasonic_image/batch1_image/dataset/523_017.Jpg\n",
      "[SKIPPED] Missing file: datasets/thyroid_ultrasonic_image/batch1_image/dataset/523_018.Jpg\n",
      "[SKIPPED] Missing file: datasets/thyroid_ultrasonic_image/batch1_image/dataset/523_019.Jpg\n",
      "[SKIPPED] Missing file: datasets/thyroid_ultrasonic_image/batch1_image/dataset/523_020.Jpg\n",
      "[SKIPPED] Missing file: datasets/thyroid_ultrasonic_image/batch1_image/dataset/523_021.Jpg\n",
      "[SKIPPED] Missing file: datasets/thyroid_ultrasonic_image/batch1_image/dataset/523_022.Jpg\n",
      "[SKIPPED] Missing file: datasets/thyroid_ultrasonic_image/batch1_image/dataset/523_023.Jpg\n",
      "[SKIPPED] Missing file: datasets/thyroid_ultrasonic_image/batch1_image/dataset/523_024.Jpg\n",
      "[SKIPPED] Missing file: datasets/thyroid_ultrasonic_image/batch1_image/dataset/523_025.Jpg\n",
      "[SKIPPED] Missing file: datasets/thyroid_ultrasonic_image/batch1_image/dataset/523_026.Jpg\n",
      "[SKIPPED] Missing file: datasets/thyroid_ultrasonic_image/batch1_image/dataset/523_027.Jpg\n",
      "[SKIPPED] Missing file: datasets/thyroid_ultrasonic_image/batch1_image/dataset/523_028.Jpg\n",
      "[SKIPPED] Missing file: datasets/thyroid_ultrasonic_image/batch1_image/dataset/523_033.Jpg\n",
      "[WARNING] No valid images for patient: 523, skipping\n",
      "[SKIPPED] Missing file: datasets/thyroid_ultrasonic_image/batch1_image/dataset/524_015.Jpg\n",
      "[SKIPPED] Missing file: datasets/thyroid_ultrasonic_image/batch1_image/dataset/524_016.Jpg\n"
     ]
    },
    {
     "name": "stderr",
     "output_type": "stream",
     "text": [
      "Extracting patient features:  87%|████████▋ | 525/601 [09:21<01:30,  1.19s/it]"
     ]
    },
    {
     "name": "stdout",
     "output_type": "stream",
     "text": [
      "[SKIPPED] Missing file: datasets/thyroid_ultrasonic_image/batch1_image/dataset/524_020.Jpg\n",
      "[SKIPPED] Missing file: datasets/thyroid_ultrasonic_image/batch1_image/dataset/524_021.Jpg\n",
      "[SKIPPED] Missing file: datasets/thyroid_ultrasonic_image/batch1_image/dataset/524_022.Jpg\n",
      "[SKIPPED] Missing file: datasets/thyroid_ultrasonic_image/batch1_image/dataset/524_023.Jpg\n",
      "[SKIPPED] Missing file: datasets/thyroid_ultrasonic_image/batch1_image/dataset/524_024.Jpg\n",
      "[SKIPPED] Missing file: datasets/thyroid_ultrasonic_image/batch1_image/dataset/524_025.Jpg\n",
      "[SKIPPED] Missing file: datasets/thyroid_ultrasonic_image/batch1_image/dataset/524_026.Jpg\n",
      "[SKIPPED] Missing file: datasets/thyroid_ultrasonic_image/batch1_image/dataset/524_027.Jpg\n",
      "[SKIPPED] Missing file: datasets/thyroid_ultrasonic_image/batch1_image/dataset/524_028.Jpg\n",
      "[SKIPPED] Missing file: datasets/thyroid_ultrasonic_image/batch1_image/dataset/524_029.Jpg\n",
      "[SKIPPED] Missing file: datasets/thyroid_ultrasonic_image/batch1_image/dataset/524_030.Jpg\n"
     ]
    },
    {
     "name": "stderr",
     "output_type": "stream",
     "text": [
      "Extracting patient features:  88%|████████▊ | 526/601 [09:21<01:19,  1.07s/it]"
     ]
    },
    {
     "name": "stdout",
     "output_type": "stream",
     "text": [
      "[SKIPPED] Missing file: datasets/thyroid_ultrasonic_image/batch1_image/dataset/526_008.Jpg\n"
     ]
    },
    {
     "name": "stderr",
     "output_type": "stream",
     "text": [
      "Extracting patient features:  88%|████████▊ | 530/601 [09:26<01:09,  1.03it/s]"
     ]
    },
    {
     "name": "stdout",
     "output_type": "stream",
     "text": [
      "[SKIPPED] Missing file: datasets/thyroid_ultrasonic_image/batch1_image/dataset/529_003.Jpg\n",
      "[SKIPPED] Missing file: datasets/thyroid_ultrasonic_image/batch1_image/dataset/529_004.Jpg\n"
     ]
    },
    {
     "name": "stderr",
     "output_type": "stream",
     "text": [
      "Extracting patient features:  88%|████████▊ | 531/601 [09:28<01:28,  1.27s/it]"
     ]
    },
    {
     "name": "stdout",
     "output_type": "stream",
     "text": [
      "[SKIPPED] Missing file: datasets/thyroid_ultrasonic_image/batch1_image/dataset/530_010.Jpg\n",
      "[SKIPPED] Missing file: datasets/thyroid_ultrasonic_image/batch1_image/dataset/530_011.Jpg\n",
      "[SKIPPED] Missing file: datasets/thyroid_ultrasonic_image/batch1_image/dataset/530_012.Jpg\n",
      "[SKIPPED] Missing file: datasets/thyroid_ultrasonic_image/batch1_image/dataset/530_013.Jpg\n",
      "[SKIPPED] Missing file: datasets/thyroid_ultrasonic_image/batch1_image/dataset/530_014.Jpg\n"
     ]
    },
    {
     "name": "stderr",
     "output_type": "stream",
     "text": [
      "Extracting patient features:  89%|████████▊ | 533/601 [09:34<02:19,  2.06s/it]"
     ]
    },
    {
     "name": "stdout",
     "output_type": "stream",
     "text": [
      "[SKIPPED] Missing file: datasets/thyroid_ultrasonic_image/batch1_image/dataset/532_016.Jpg\n",
      "[SKIPPED] Missing file: datasets/thyroid_ultrasonic_image/batch1_image/dataset/532_017.Jpg\n",
      "[SKIPPED] Missing file: datasets/thyroid_ultrasonic_image/batch1_image/dataset/532_018.Jpg\n",
      "[SKIPPED] Missing file: datasets/thyroid_ultrasonic_image/batch1_image/dataset/532_019.Jpg\n",
      "[SKIPPED] Missing file: datasets/thyroid_ultrasonic_image/batch1_image/dataset/532_020.Jpg\n",
      "[SKIPPED] Missing file: datasets/thyroid_ultrasonic_image/batch1_image/dataset/532_021.Jpg\n",
      "[SKIPPED] Missing file: datasets/thyroid_ultrasonic_image/batch1_image/dataset/532_022.Jpg\n",
      "[SKIPPED] Missing file: datasets/thyroid_ultrasonic_image/batch1_image/dataset/533_001.Jpg\n",
      "[SKIPPED] Missing file: datasets/thyroid_ultrasonic_image/batch1_image/dataset/533_002.Jpg\n",
      "[SKIPPED] Missing file: datasets/thyroid_ultrasonic_image/batch1_image/dataset/533_003.Jpg\n",
      "[SKIPPED] Missing file: datasets/thyroid_ultrasonic_image/batch1_image/dataset/533_004.Jpg\n",
      "[SKIPPED] Missing file: datasets/thyroid_ultrasonic_image/batch1_image/dataset/533_005.Jpg\n",
      "[SKIPPED] Missing file: datasets/thyroid_ultrasonic_image/batch1_image/dataset/533_006.Jpg\n",
      "[SKIPPED] Missing file: datasets/thyroid_ultrasonic_image/batch1_image/dataset/533_007.Jpg\n",
      "[SKIPPED] Missing file: datasets/thyroid_ultrasonic_image/batch1_image/dataset/533_008.Jpg\n",
      "[SKIPPED] Missing file: datasets/thyroid_ultrasonic_image/batch1_image/dataset/533_009.Jpg\n",
      "[WARNING] No valid images for patient: 533, skipping\n",
      "[SKIPPED] Missing file: datasets/thyroid_ultrasonic_image/batch1_image/dataset/534_003.Jpg\n"
     ]
    },
    {
     "name": "stderr",
     "output_type": "stream",
     "text": [
      "Extracting patient features:  89%|████████▉ | 535/601 [09:34<01:28,  1.34s/it]"
     ]
    },
    {
     "name": "stdout",
     "output_type": "stream",
     "text": [
      "[SKIPPED] Missing file: datasets/thyroid_ultrasonic_image/batch1_image/dataset/535_008.Jpg\n"
     ]
    },
    {
     "name": "stderr",
     "output_type": "stream",
     "text": [
      "Extracting patient features:  89%|████████▉ | 536/601 [09:36<01:34,  1.45s/it]"
     ]
    },
    {
     "name": "stdout",
     "output_type": "stream",
     "text": [
      "[SKIPPED] Missing file: datasets/thyroid_ultrasonic_image/batch1_image/dataset/535_010.Jpg\n",
      "[SKIPPED] Missing file: datasets/thyroid_ultrasonic_image/batch1_image/dataset/535_011.Jpg\n",
      "[SKIPPED] Missing file: datasets/thyroid_ultrasonic_image/batch1_image/dataset/535_012.Jpg\n",
      "[SKIPPED] Missing file: datasets/thyroid_ultrasonic_image/batch1_image/dataset/535_013.Jpg\n"
     ]
    },
    {
     "name": "stderr",
     "output_type": "stream",
     "text": [
      "Extracting patient features:  90%|█████████ | 542/601 [09:45<01:34,  1.61s/it]"
     ]
    },
    {
     "name": "stdout",
     "output_type": "stream",
     "text": [
      "[SKIPPED] Missing file: datasets/thyroid_ultrasonic_image/batch1_image/dataset/541_009.Jpg\n",
      "[SKIPPED] Missing file: datasets/thyroid_ultrasonic_image/batch1_image/dataset/541_010.Jpg\n",
      "[SKIPPED] Missing file: datasets/thyroid_ultrasonic_image/batch1_image/dataset/541_011.Jpg\n",
      "[SKIPPED] Missing file: datasets/thyroid_ultrasonic_image/batch1_image/dataset/541_012.Jpg\n",
      "[SKIPPED] Missing file: datasets/thyroid_ultrasonic_image/batch1_image/dataset/541_013.Jpg\n"
     ]
    },
    {
     "name": "stderr",
     "output_type": "stream",
     "text": [
      "Extracting patient features:  90%|█████████ | 543/601 [09:46<01:17,  1.34s/it]"
     ]
    },
    {
     "name": "stdout",
     "output_type": "stream",
     "text": [
      "[SKIPPED] Missing file: datasets/thyroid_ultrasonic_image/batch1_image/dataset/542_020.Jpg\n",
      "[SKIPPED] Missing file: datasets/thyroid_ultrasonic_image/batch1_image/dataset/542_021.Jpg\n",
      "[SKIPPED] Missing file: datasets/thyroid_ultrasonic_image/batch1_image/dataset/542_022.Jpg\n",
      "[SKIPPED] Missing file: datasets/thyroid_ultrasonic_image/batch1_image/dataset/542_023.Jpg\n"
     ]
    },
    {
     "name": "stderr",
     "output_type": "stream",
     "text": [
      "Extracting patient features:  91%|█████████ | 544/601 [09:47<01:09,  1.22s/it]"
     ]
    },
    {
     "name": "stdout",
     "output_type": "stream",
     "text": [
      "[SKIPPED] Missing file: datasets/thyroid_ultrasonic_image/batch1_image/dataset/543_005.Jpg\n"
     ]
    },
    {
     "name": "stderr",
     "output_type": "stream",
     "text": [
      "Extracting patient features:  91%|█████████ | 545/601 [09:49<01:15,  1.34s/it]"
     ]
    },
    {
     "name": "stdout",
     "output_type": "stream",
     "text": [
      "[SKIPPED] Missing file: datasets/thyroid_ultrasonic_image/batch1_image/dataset/545_001.Jpg\n",
      "[SKIPPED] Missing file: datasets/thyroid_ultrasonic_image/batch1_image/dataset/545_002.Jpg\n",
      "[SKIPPED] Missing file: datasets/thyroid_ultrasonic_image/batch1_image/dataset/545_003.Jpg\n",
      "[SKIPPED] Missing file: datasets/thyroid_ultrasonic_image/batch1_image/dataset/545_004.Jpg\n",
      "[SKIPPED] Missing file: datasets/thyroid_ultrasonic_image/batch1_image/dataset/545_005.Jpg\n",
      "[SKIPPED] Missing file: datasets/thyroid_ultrasonic_image/batch1_image/dataset/545_006.Jpg\n",
      "[SKIPPED] Missing file: datasets/thyroid_ultrasonic_image/batch1_image/dataset/545_007.Jpg\n",
      "[SKIPPED] Missing file: datasets/thyroid_ultrasonic_image/batch1_image/dataset/545_008.Jpg\n",
      "[WARNING] No valid images for patient: 545, skipping\n",
      "[SKIPPED] Missing file: datasets/thyroid_ultrasonic_image/batch1_image/dataset/546_009.Jpg\n"
     ]
    },
    {
     "name": "stderr",
     "output_type": "stream",
     "text": [
      "Extracting patient features:  91%|█████████ | 547/601 [09:51<01:10,  1.31s/it]"
     ]
    },
    {
     "name": "stdout",
     "output_type": "stream",
     "text": [
      "[SKIPPED] Missing file: datasets/thyroid_ultrasonic_image/batch1_image/dataset/546_013.Jpg\n",
      "[SKIPPED] Missing file: datasets/thyroid_ultrasonic_image/batch1_image/dataset/546_014.Jpg\n",
      "[SKIPPED] Missing file: datasets/thyroid_ultrasonic_image/batch1_image/dataset/546_015.Jpg\n",
      "[SKIPPED] Missing file: datasets/thyroid_ultrasonic_image/batch1_image/dataset/546_016.Jpg\n",
      "[SKIPPED] Missing file: datasets/thyroid_ultrasonic_image/batch1_image/dataset/546_017.Jpg\n",
      "[SKIPPED] Missing file: datasets/thyroid_ultrasonic_image/batch1_image/dataset/546_018.Jpg\n"
     ]
    },
    {
     "name": "stderr",
     "output_type": "stream",
     "text": [
      "Extracting patient features:  91%|█████████ | 548/601 [09:53<01:16,  1.44s/it]"
     ]
    },
    {
     "name": "stdout",
     "output_type": "stream",
     "text": [
      "[SKIPPED] Missing file: datasets/thyroid_ultrasonic_image/batch1_image/dataset/547_011.Jpg\n",
      "[SKIPPED] Missing file: datasets/thyroid_ultrasonic_image/batch1_image/dataset/547_012.Jpg\n",
      "[SKIPPED] Missing file: datasets/thyroid_ultrasonic_image/batch1_image/dataset/547_013.Jpg\n",
      "[SKIPPED] Missing file: datasets/thyroid_ultrasonic_image/batch1_image/dataset/547_014.Jpg\n",
      "[SKIPPED] Missing file: datasets/thyroid_ultrasonic_image/batch1_image/dataset/548_002.Jpg\n",
      "[SKIPPED] Missing file: datasets/thyroid_ultrasonic_image/batch1_image/dataset/548_003.Jpg\n",
      "[SKIPPED] Missing file: datasets/thyroid_ultrasonic_image/batch1_image/dataset/548_004.Jpg\n",
      "[SKIPPED] Missing file: datasets/thyroid_ultrasonic_image/batch1_image/dataset/548_005.Jpg\n",
      "[SKIPPED] Missing file: datasets/thyroid_ultrasonic_image/batch1_image/dataset/548_006.Jpg\n",
      "[SKIPPED] Missing file: datasets/thyroid_ultrasonic_image/batch1_image/dataset/548_007.Jpg\n",
      "[SKIPPED] Missing file: datasets/thyroid_ultrasonic_image/batch1_image/dataset/548_010.Jpg\n",
      "[WARNING] No valid images for patient: 548, skipping\n"
     ]
    },
    {
     "name": "stderr",
     "output_type": "stream",
     "text": [
      "Extracting patient features:  92%|█████████▏| 551/601 [09:55<00:55,  1.12s/it]"
     ]
    },
    {
     "name": "stdout",
     "output_type": "stream",
     "text": [
      "[SKIPPED] Missing file: datasets/thyroid_ultrasonic_image/batch1_image/dataset/551_006.Jpg\n",
      "[SKIPPED] Missing file: datasets/thyroid_ultrasonic_image/batch1_image/dataset/551_013.Jpg\n"
     ]
    },
    {
     "name": "stderr",
     "output_type": "stream",
     "text": [
      "Extracting patient features:  92%|█████████▏| 552/601 [09:58<01:13,  1.50s/it]"
     ]
    },
    {
     "name": "stdout",
     "output_type": "stream",
     "text": [
      "[SKIPPED] Missing file: datasets/thyroid_ultrasonic_image/batch1_image/dataset/551_016.Jpg\n",
      "[SKIPPED] Missing file: datasets/thyroid_ultrasonic_image/batch1_image/dataset/551_017.Jpg\n",
      "[SKIPPED] Missing file: datasets/thyroid_ultrasonic_image/batch1_image/dataset/551_018.Jpg\n",
      "[SKIPPED] Missing file: datasets/thyroid_ultrasonic_image/batch1_image/dataset/551_019.Jpg\n"
     ]
    },
    {
     "name": "stderr",
     "output_type": "stream",
     "text": [
      "Extracting patient features:  92%|█████████▏| 553/601 [09:59<01:08,  1.44s/it]"
     ]
    },
    {
     "name": "stdout",
     "output_type": "stream",
     "text": [
      "[SKIPPED] Missing file: datasets/thyroid_ultrasonic_image/batch1_image/dataset/552_007.Jpg\n",
      "[SKIPPED] Missing file: datasets/thyroid_ultrasonic_image/batch1_image/dataset/552_008.Jpg\n"
     ]
    },
    {
     "name": "stderr",
     "output_type": "stream",
     "text": [
      "Extracting patient features:  92%|█████████▏| 554/601 [10:00<01:00,  1.28s/it]"
     ]
    },
    {
     "name": "stdout",
     "output_type": "stream",
     "text": [
      "[SKIPPED] Missing file: datasets/thyroid_ultrasonic_image/batch1_image/dataset/553_005.Jpg\n"
     ]
    },
    {
     "name": "stderr",
     "output_type": "stream",
     "text": [
      "Extracting patient features:  92%|█████████▏| 555/601 [10:01<00:56,  1.24s/it]"
     ]
    },
    {
     "name": "stdout",
     "output_type": "stream",
     "text": [
      "[SKIPPED] Missing file: datasets/thyroid_ultrasonic_image/batch1_image/dataset/555_003.Jpg\n"
     ]
    },
    {
     "name": "stderr",
     "output_type": "stream",
     "text": [
      "Extracting patient features:  93%|█████████▎| 556/601 [10:03<00:54,  1.21s/it]"
     ]
    },
    {
     "name": "stdout",
     "output_type": "stream",
     "text": [
      "[SKIPPED] Missing file: datasets/thyroid_ultrasonic_image/batch1_image/dataset/555_007.Jpg\n",
      "[SKIPPED] Missing file: datasets/thyroid_ultrasonic_image/batch1_image/dataset/556_001.Jpg\n",
      "[SKIPPED] Missing file: datasets/thyroid_ultrasonic_image/batch1_image/dataset/556_002.Jpg\n",
      "[SKIPPED] Missing file: datasets/thyroid_ultrasonic_image/batch1_image/dataset/556_003.Jpg\n",
      "[SKIPPED] Missing file: datasets/thyroid_ultrasonic_image/batch1_image/dataset/556_004.Jpg\n",
      "[SKIPPED] Missing file: datasets/thyroid_ultrasonic_image/batch1_image/dataset/556_005.Jpg\n",
      "[SKIPPED] Missing file: datasets/thyroid_ultrasonic_image/batch1_image/dataset/556_006.Jpg\n",
      "[WARNING] No valid images for patient: 556, skipping\n"
     ]
    },
    {
     "name": "stderr",
     "output_type": "stream",
     "text": [
      "Extracting patient features:  93%|█████████▎| 558/601 [10:04<00:46,  1.08s/it]"
     ]
    },
    {
     "name": "stdout",
     "output_type": "stream",
     "text": [
      "[SKIPPED] Missing file: datasets/thyroid_ultrasonic_image/batch1_image/dataset/557_010.Jpg\n",
      "[SKIPPED] Missing file: datasets/thyroid_ultrasonic_image/batch1_image/dataset/557_011.Jpg\n",
      "[SKIPPED] Missing file: datasets/thyroid_ultrasonic_image/batch1_image/dataset/557_012.Jpg\n",
      "[SKIPPED] Missing file: datasets/thyroid_ultrasonic_image/batch1_image/dataset/557_014.Jpg\n"
     ]
    },
    {
     "name": "stderr",
     "output_type": "stream",
     "text": [
      "Extracting patient features:  93%|█████████▎| 559/601 [10:07<01:01,  1.47s/it]"
     ]
    },
    {
     "name": "stdout",
     "output_type": "stream",
     "text": [
      "[SKIPPED] Missing file: datasets/thyroid_ultrasonic_image/batch1_image/dataset/558_014.Jpg\n",
      "[SKIPPED] Missing file: datasets/thyroid_ultrasonic_image/batch1_image/dataset/558_015.Jpg\n",
      "[SKIPPED] Missing file: datasets/thyroid_ultrasonic_image/batch1_image/dataset/558_016.Jpg\n"
     ]
    },
    {
     "name": "stderr",
     "output_type": "stream",
     "text": [
      "Extracting patient features:  93%|█████████▎| 560/601 [10:08<00:57,  1.41s/it]"
     ]
    },
    {
     "name": "stdout",
     "output_type": "stream",
     "text": [
      "[SKIPPED] Missing file: datasets/thyroid_ultrasonic_image/batch1_image/dataset/559_006.Jpg\n",
      "[SKIPPED] Missing file: datasets/thyroid_ultrasonic_image/batch1_image/dataset/559_007.Jpg\n",
      "[SKIPPED] Missing file: datasets/thyroid_ultrasonic_image/batch1_image/dataset/559_008.Jpg\n",
      "[SKIPPED] Missing file: datasets/thyroid_ultrasonic_image/batch1_image/dataset/559_009.Jpg\n",
      "[SKIPPED] Missing file: datasets/thyroid_ultrasonic_image/batch1_image/dataset/559_011.Jpg\n"
     ]
    },
    {
     "name": "stderr",
     "output_type": "stream",
     "text": [
      "Extracting patient features:  93%|█████████▎| 561/601 [10:10<01:01,  1.54s/it]"
     ]
    },
    {
     "name": "stdout",
     "output_type": "stream",
     "text": [
      "[SKIPPED] Missing file: datasets/thyroid_ultrasonic_image/batch1_image/dataset/560_009.Jpg\n",
      "[SKIPPED] Missing file: datasets/thyroid_ultrasonic_image/batch1_image/dataset/560_010.Jpg\n",
      "[SKIPPED] Missing file: datasets/thyroid_ultrasonic_image/batch1_image/dataset/560_011.Jpg\n",
      "[SKIPPED] Missing file: datasets/thyroid_ultrasonic_image/batch1_image/dataset/560_012.Jpg\n",
      "[SKIPPED] Missing file: datasets/thyroid_ultrasonic_image/batch1_image/dataset/560_014.Jpg\n"
     ]
    },
    {
     "name": "stderr",
     "output_type": "stream",
     "text": [
      "Extracting patient features:  94%|█████████▎| 562/601 [10:11<00:51,  1.31s/it]"
     ]
    },
    {
     "name": "stdout",
     "output_type": "stream",
     "text": [
      "[SKIPPED] Missing file: datasets/thyroid_ultrasonic_image/batch1_image/dataset/561_005.Jpg\n",
      "[SKIPPED] Missing file: datasets/thyroid_ultrasonic_image/batch1_image/dataset/561_006.Jpg\n",
      "[SKIPPED] Missing file: datasets/thyroid_ultrasonic_image/batch1_image/dataset/561_007.Jpg\n",
      "[SKIPPED] Missing file: datasets/thyroid_ultrasonic_image/batch1_image/dataset/561_008.Jpg\n",
      "[SKIPPED] Missing file: datasets/thyroid_ultrasonic_image/batch1_image/dataset/561_009.Jpg\n",
      "[SKIPPED] Missing file: datasets/thyroid_ultrasonic_image/batch1_image/dataset/562_001.Jpg\n",
      "[SKIPPED] Missing file: datasets/thyroid_ultrasonic_image/batch1_image/dataset/562_002.Jpg\n",
      "[SKIPPED] Missing file: datasets/thyroid_ultrasonic_image/batch1_image/dataset/562_003.Jpg\n",
      "[SKIPPED] Missing file: datasets/thyroid_ultrasonic_image/batch1_image/dataset/562_004.Jpg\n",
      "[SKIPPED] Missing file: datasets/thyroid_ultrasonic_image/batch1_image/dataset/562_005.Jpg\n",
      "[SKIPPED] Missing file: datasets/thyroid_ultrasonic_image/batch1_image/dataset/562_006.Jpg\n",
      "[SKIPPED] Missing file: datasets/thyroid_ultrasonic_image/batch1_image/dataset/562_007.Jpg\n",
      "[SKIPPED] Missing file: datasets/thyroid_ultrasonic_image/batch1_image/dataset/562_008.Jpg\n",
      "[SKIPPED] Missing file: datasets/thyroid_ultrasonic_image/batch1_image/dataset/562_009.Jpg\n",
      "[SKIPPED] Missing file: datasets/thyroid_ultrasonic_image/batch1_image/dataset/562_010.Jpg\n",
      "[SKIPPED] Missing file: datasets/thyroid_ultrasonic_image/batch1_image/dataset/562_011.Jpg\n",
      "[SKIPPED] Missing file: datasets/thyroid_ultrasonic_image/batch1_image/dataset/562_012.Jpg\n",
      "[SKIPPED] Missing file: datasets/thyroid_ultrasonic_image/batch1_image/dataset/562_013.Jpg\n",
      "[SKIPPED] Missing file: datasets/thyroid_ultrasonic_image/batch1_image/dataset/562_014.Jpg\n",
      "[WARNING] No valid images for patient: 562, skipping\n"
     ]
    },
    {
     "name": "stderr",
     "output_type": "stream",
     "text": [
      "Extracting patient features:  94%|█████████▍| 564/601 [10:12<00:34,  1.08it/s]"
     ]
    },
    {
     "name": "stdout",
     "output_type": "stream",
     "text": [
      "[SKIPPED] Missing file: datasets/thyroid_ultrasonic_image/batch1_image/dataset/564_001.Jpg\n",
      "[SKIPPED] Missing file: datasets/thyroid_ultrasonic_image/batch1_image/dataset/564_002.Jpg\n",
      "[SKIPPED] Missing file: datasets/thyroid_ultrasonic_image/batch1_image/dataset/564_003.Jpg\n",
      "[SKIPPED] Missing file: datasets/thyroid_ultrasonic_image/batch1_image/dataset/564_004.Jpg\n",
      "[SKIPPED] Missing file: datasets/thyroid_ultrasonic_image/batch1_image/dataset/564_005.Jpg\n",
      "[SKIPPED] Missing file: datasets/thyroid_ultrasonic_image/batch1_image/dataset/564_006.Jpg\n",
      "[WARNING] No valid images for patient: 564, skipping\n"
     ]
    },
    {
     "name": "stderr",
     "output_type": "stream",
     "text": [
      "Extracting patient features:  95%|█████████▍| 569/601 [10:17<00:32,  1.01s/it]"
     ]
    },
    {
     "name": "stdout",
     "output_type": "stream",
     "text": [
      "[SKIPPED] Missing file: datasets/thyroid_ultrasonic_image/batch1_image/dataset/568_005.Jpg\n",
      "[SKIPPED] Missing file: datasets/thyroid_ultrasonic_image/batch1_image/dataset/568_006.Jpg\n",
      "[SKIPPED] Missing file: datasets/thyroid_ultrasonic_image/batch1_image/dataset/568_007.Jpg\n",
      "[SKIPPED] Missing file: datasets/thyroid_ultrasonic_image/batch1_image/dataset/568_008.Jpg\n",
      "[SKIPPED] Missing file: datasets/thyroid_ultrasonic_image/batch1_image/dataset/568_009.Jpg\n",
      "[SKIPPED] Missing file: datasets/thyroid_ultrasonic_image/batch1_image/dataset/568_010.Jpg\n",
      "[SKIPPED] Missing file: datasets/thyroid_ultrasonic_image/batch1_image/dataset/568_011.Jpg\n"
     ]
    },
    {
     "name": "stderr",
     "output_type": "stream",
     "text": [
      "Extracting patient features:  95%|█████████▌| 573/601 [10:23<00:42,  1.51s/it]"
     ]
    },
    {
     "name": "stdout",
     "output_type": "stream",
     "text": [
      "[SKIPPED] Missing file: datasets/thyroid_ultrasonic_image/batch1_image/dataset/572_011.Jpg\n",
      "[SKIPPED] Missing file: datasets/thyroid_ultrasonic_image/batch1_image/dataset/572_012.Jpg\n",
      "[SKIPPED] Missing file: datasets/thyroid_ultrasonic_image/batch1_image/dataset/572_013.Jpg\n",
      "[SKIPPED] Missing file: datasets/thyroid_ultrasonic_image/batch1_image/dataset/572_014.Jpg\n",
      "[SKIPPED] Missing file: datasets/thyroid_ultrasonic_image/batch1_image/dataset/572_015.Jpg\n",
      "[SKIPPED] Missing file: datasets/thyroid_ultrasonic_image/batch1_image/dataset/572_016.Jpg\n",
      "[SKIPPED] Missing file: datasets/thyroid_ultrasonic_image/batch1_image/dataset/572_017.Jpg\n",
      "[SKIPPED] Missing file: datasets/thyroid_ultrasonic_image/batch1_image/dataset/572_019.Jpg\n",
      "[SKIPPED] Missing file: datasets/thyroid_ultrasonic_image/batch1_image/dataset/572_020.Jpg\n"
     ]
    },
    {
     "name": "stderr",
     "output_type": "stream",
     "text": [
      "Extracting patient features:  96%|█████████▌| 574/601 [10:24<00:36,  1.35s/it]"
     ]
    },
    {
     "name": "stdout",
     "output_type": "stream",
     "text": [
      "[SKIPPED] Missing file: datasets/thyroid_ultrasonic_image/batch1_image/dataset/573_005.Jpg\n",
      "[SKIPPED] Missing file: datasets/thyroid_ultrasonic_image/batch1_image/dataset/573_006.Jpg\n",
      "[SKIPPED] Missing file: datasets/thyroid_ultrasonic_image/batch1_image/dataset/573_007.Jpg\n",
      "[SKIPPED] Missing file: datasets/thyroid_ultrasonic_image/batch1_image/dataset/573_008.Jpg\n"
     ]
    },
    {
     "name": "stderr",
     "output_type": "stream",
     "text": [
      "Extracting patient features:  96%|█████████▌| 575/601 [10:26<00:33,  1.28s/it]"
     ]
    },
    {
     "name": "stdout",
     "output_type": "stream",
     "text": [
      "[SKIPPED] Missing file: datasets/thyroid_ultrasonic_image/batch1_image/dataset/574_006.Jpg\n",
      "[SKIPPED] Missing file: datasets/thyroid_ultrasonic_image/batch1_image/dataset/574_007.Jpg\n",
      "[SKIPPED] Missing file: datasets/thyroid_ultrasonic_image/batch1_image/dataset/574_009.Jpg\n",
      "[SKIPPED] Missing file: datasets/thyroid_ultrasonic_image/batch1_image/dataset/574_010.Jpg\n",
      "[SKIPPED] Missing file: datasets/thyroid_ultrasonic_image/batch1_image/dataset/574_011.Jpg\n",
      "[SKIPPED] Missing file: datasets/thyroid_ultrasonic_image/batch1_image/dataset/574_012.Jpg\n",
      "[SKIPPED] Missing file: datasets/thyroid_ultrasonic_image/batch1_image/dataset/574_013.Jpg\n",
      "[SKIPPED] Missing file: datasets/thyroid_ultrasonic_image/batch1_image/dataset/574_014.Jpg\n",
      "[SKIPPED] Missing file: datasets/thyroid_ultrasonic_image/batch1_image/dataset/574_015.Jpg\n",
      "[SKIPPED] Missing file: datasets/thyroid_ultrasonic_image/batch1_image/dataset/574_017.Jpg\n"
     ]
    },
    {
     "name": "stderr",
     "output_type": "stream",
     "text": [
      "Extracting patient features:  96%|█████████▌| 576/601 [10:27<00:32,  1.32s/it]"
     ]
    },
    {
     "name": "stdout",
     "output_type": "stream",
     "text": [
      "[SKIPPED] Missing file: datasets/thyroid_ultrasonic_image/batch1_image/dataset/575_010.Jpg\n",
      "[SKIPPED] Missing file: datasets/thyroid_ultrasonic_image/batch1_image/dataset/575_011.Jpg\n",
      "[SKIPPED] Missing file: datasets/thyroid_ultrasonic_image/batch1_image/dataset/575_012.Jpg\n",
      "[SKIPPED] Missing file: datasets/thyroid_ultrasonic_image/batch1_image/dataset/575_013.Jpg\n",
      "[SKIPPED] Missing file: datasets/thyroid_ultrasonic_image/batch1_image/dataset/575_014.Jpg\n",
      "[SKIPPED] Missing file: datasets/thyroid_ultrasonic_image/batch1_image/dataset/575_015.Jpg\n",
      "[SKIPPED] Missing file: datasets/thyroid_ultrasonic_image/batch1_image/dataset/575_016.Jpg\n",
      "[SKIPPED] Missing file: datasets/thyroid_ultrasonic_image/batch1_image/dataset/575_017.Jpg\n",
      "[SKIPPED] Missing file: datasets/thyroid_ultrasonic_image/batch1_image/dataset/575_018.Jpg\n"
     ]
    },
    {
     "name": "stderr",
     "output_type": "stream",
     "text": [
      "Extracting patient features:  96%|█████████▌| 577/601 [10:27<00:26,  1.08s/it]"
     ]
    },
    {
     "name": "stdout",
     "output_type": "stream",
     "text": [
      "[SKIPPED] Missing file: datasets/thyroid_ultrasonic_image/batch1_image/dataset/576_004.Jpg\n",
      "[SKIPPED] Missing file: datasets/thyroid_ultrasonic_image/batch1_image/dataset/576_005.Jpg\n",
      "[SKIPPED] Missing file: datasets/thyroid_ultrasonic_image/batch1_image/dataset/576_006.Jpg\n",
      "[SKIPPED] Missing file: datasets/thyroid_ultrasonic_image/batch1_image/dataset/576_007.Jpg\n",
      "[SKIPPED] Missing file: datasets/thyroid_ultrasonic_image/batch1_image/dataset/576_008.Jpg\n",
      "[SKIPPED] Missing file: datasets/thyroid_ultrasonic_image/batch1_image/dataset/576_009.Jpg\n",
      "[SKIPPED] Missing file: datasets/thyroid_ultrasonic_image/batch1_image/dataset/576_010.Jpg\n",
      "[SKIPPED] Missing file: datasets/thyroid_ultrasonic_image/batch1_image/dataset/576_011.Jpg\n",
      "[SKIPPED] Missing file: datasets/thyroid_ultrasonic_image/batch1_image/dataset/577_003.Jpg\n"
     ]
    },
    {
     "name": "stderr",
     "output_type": "stream",
     "text": [
      "Extracting patient features:  96%|█████████▌| 578/601 [10:28<00:22,  1.01it/s]"
     ]
    },
    {
     "name": "stdout",
     "output_type": "stream",
     "text": [
      "[SKIPPED] Missing file: datasets/thyroid_ultrasonic_image/batch1_image/dataset/577_006.Jpg\n",
      "[SKIPPED] Missing file: datasets/thyroid_ultrasonic_image/batch1_image/dataset/577_007.Jpg\n",
      "[SKIPPED] Missing file: datasets/thyroid_ultrasonic_image/batch1_image/dataset/578_002.Jpg\n",
      "[SKIPPED] Missing file: datasets/thyroid_ultrasonic_image/batch1_image/dataset/578_003.Jpg\n",
      "[SKIPPED] Missing file: datasets/thyroid_ultrasonic_image/batch1_image/dataset/578_004.Jpg\n"
     ]
    },
    {
     "name": "stderr",
     "output_type": "stream",
     "text": [
      "Extracting patient features:  96%|█████████▋| 579/601 [10:29<00:17,  1.24it/s]"
     ]
    },
    {
     "name": "stdout",
     "output_type": "stream",
     "text": [
      "[SKIPPED] Missing file: datasets/thyroid_ultrasonic_image/batch1_image/dataset/578_006.Jpg\n",
      "[SKIPPED] Missing file: datasets/thyroid_ultrasonic_image/batch1_image/dataset/578_007.Jpg\n",
      "[SKIPPED] Missing file: datasets/thyroid_ultrasonic_image/batch1_image/dataset/578_008.Jpg\n",
      "[SKIPPED] Missing file: datasets/thyroid_ultrasonic_image/batch1_image/dataset/578_009.Jpg\n",
      "[SKIPPED] Missing file: datasets/thyroid_ultrasonic_image/batch1_image/dataset/578_010.Jpg\n",
      "[SKIPPED] Missing file: datasets/thyroid_ultrasonic_image/batch1_image/dataset/578_011.Jpg\n",
      "[SKIPPED] Missing file: datasets/thyroid_ultrasonic_image/batch1_image/dataset/578_012.Jpg\n",
      "[SKIPPED] Missing file: datasets/thyroid_ultrasonic_image/batch1_image/dataset/578_013.Jpg\n",
      "[SKIPPED] Missing file: datasets/thyroid_ultrasonic_image/batch1_image/dataset/578_014.Jpg\n",
      "[SKIPPED] Missing file: datasets/thyroid_ultrasonic_image/batch1_image/dataset/578_015.Jpg\n",
      "[SKIPPED] Missing file: datasets/thyroid_ultrasonic_image/batch1_image/dataset/578_016.Jpg\n",
      "[SKIPPED] Missing file: datasets/thyroid_ultrasonic_image/batch1_image/dataset/578_017.Jpg\n",
      "[SKIPPED] Missing file: datasets/thyroid_ultrasonic_image/batch1_image/dataset/578_018.Jpg\n",
      "[SKIPPED] Missing file: datasets/thyroid_ultrasonic_image/batch1_image/dataset/578_019.Jpg\n",
      "[SKIPPED] Missing file: datasets/thyroid_ultrasonic_image/batch1_image/dataset/578_020.Jpg\n",
      "[SKIPPED] Missing file: datasets/thyroid_ultrasonic_image/batch1_image/dataset/578_021.Jpg\n",
      "[SKIPPED] Missing file: datasets/thyroid_ultrasonic_image/batch1_image/dataset/578_022.Jpg\n",
      "[SKIPPED] Missing file: datasets/thyroid_ultrasonic_image/batch1_image/dataset/578_023.Jpg\n",
      "[SKIPPED] Missing file: datasets/thyroid_ultrasonic_image/batch1_image/dataset/578_024.Jpg\n",
      "[SKIPPED] Missing file: datasets/thyroid_ultrasonic_image/batch1_image/dataset/578_025.Jpg\n",
      "[SKIPPED] Missing file: datasets/thyroid_ultrasonic_image/batch1_image/dataset/578_026.Jpg\n",
      "[SKIPPED] Missing file: datasets/thyroid_ultrasonic_image/batch1_image/dataset/578_027.Jpg\n",
      "[SKIPPED] Missing file: datasets/thyroid_ultrasonic_image/batch1_image/dataset/578_028.Jpg\n",
      "[SKIPPED] Missing file: datasets/thyroid_ultrasonic_image/batch1_image/dataset/578_029.Jpg\n"
     ]
    },
    {
     "name": "stderr",
     "output_type": "stream",
     "text": [
      "Extracting patient features:  97%|█████████▋| 580/601 [10:29<00:16,  1.26it/s]"
     ]
    },
    {
     "name": "stdout",
     "output_type": "stream",
     "text": [
      "[SKIPPED] Missing file: datasets/thyroid_ultrasonic_image/batch1_image/dataset/579_005.Jpg\n",
      "[SKIPPED] Missing file: datasets/thyroid_ultrasonic_image/batch1_image/dataset/579_006.Jpg\n",
      "[SKIPPED] Missing file: datasets/thyroid_ultrasonic_image/batch1_image/dataset/579_007.Jpg\n",
      "[SKIPPED] Missing file: datasets/thyroid_ultrasonic_image/batch1_image/dataset/579_010.Jpg\n",
      "[SKIPPED] Missing file: datasets/thyroid_ultrasonic_image/batch1_image/dataset/579_011.Jpg\n",
      "[SKIPPED] Missing file: datasets/thyroid_ultrasonic_image/batch1_image/dataset/579_013.Jpg\n",
      "[SKIPPED] Missing file: datasets/thyroid_ultrasonic_image/batch1_image/dataset/579_014.Jpg\n"
     ]
    },
    {
     "name": "stderr",
     "output_type": "stream",
     "text": [
      "Extracting patient features:  97%|█████████▋| 581/601 [10:30<00:14,  1.37it/s]"
     ]
    },
    {
     "name": "stdout",
     "output_type": "stream",
     "text": [
      "[SKIPPED] Missing file: datasets/thyroid_ultrasonic_image/batch1_image/dataset/581_004.Jpg\n",
      "[SKIPPED] Missing file: datasets/thyroid_ultrasonic_image/batch1_image/dataset/581_005.Jpg\n"
     ]
    },
    {
     "name": "stderr",
     "output_type": "stream",
     "text": [
      "Extracting patient features:  97%|█████████▋| 583/601 [10:33<00:20,  1.13s/it]"
     ]
    },
    {
     "name": "stdout",
     "output_type": "stream",
     "text": [
      "[SKIPPED] Missing file: datasets/thyroid_ultrasonic_image/batch1_image/dataset/582_009.Jpg\n",
      "[SKIPPED] Missing file: datasets/thyroid_ultrasonic_image/batch1_image/dataset/582_010.Jpg\n",
      "[SKIPPED] Missing file: datasets/thyroid_ultrasonic_image/batch1_image/dataset/582_011.Jpg\n",
      "[SKIPPED] Missing file: datasets/thyroid_ultrasonic_image/batch1_image/dataset/582_012.Jpg\n",
      "[SKIPPED] Missing file: datasets/thyroid_ultrasonic_image/batch1_image/dataset/582_014.Jpg\n",
      "[SKIPPED] Missing file: datasets/thyroid_ultrasonic_image/batch1_image/dataset/582_015.Jpg\n",
      "[SKIPPED] Missing file: datasets/thyroid_ultrasonic_image/batch1_image/dataset/583_026.Jpg\n",
      "[SKIPPED] Missing file: datasets/thyroid_ultrasonic_image/batch1_image/dataset/583_027.Jpg\n",
      "[SKIPPED] Missing file: datasets/thyroid_ultrasonic_image/batch1_image/dataset/583_028.Jpg\n",
      "[SKIPPED] Missing file: datasets/thyroid_ultrasonic_image/batch1_image/dataset/583_029.Jpg\n",
      "[SKIPPED] Missing file: datasets/thyroid_ultrasonic_image/batch1_image/dataset/583_030.Jpg\n",
      "[SKIPPED] Missing file: datasets/thyroid_ultrasonic_image/batch1_image/dataset/583_031.Jpg\n",
      "[SKIPPED] Missing file: datasets/thyroid_ultrasonic_image/batch1_image/dataset/583_032.Jpg\n",
      "[SKIPPED] Missing file: datasets/thyroid_ultrasonic_image/batch1_image/dataset/583_033.Jpg\n",
      "[SKIPPED] Missing file: datasets/thyroid_ultrasonic_image/batch1_image/dataset/583_034.Jpg\n",
      "[SKIPPED] Missing file: datasets/thyroid_ultrasonic_image/batch1_image/dataset/583_035.Jpg\n",
      "[SKIPPED] Missing file: datasets/thyroid_ultrasonic_image/batch1_image/dataset/583_036.Jpg\n",
      "[SKIPPED] Missing file: datasets/thyroid_ultrasonic_image/batch1_image/dataset/583_037.Jpg\n",
      "[SKIPPED] Missing file: datasets/thyroid_ultrasonic_image/batch1_image/dataset/583_038.Jpg\n",
      "[SKIPPED] Missing file: datasets/thyroid_ultrasonic_image/batch1_image/dataset/583_039.Jpg\n",
      "[SKIPPED] Missing file: datasets/thyroid_ultrasonic_image/batch1_image/dataset/583_040.Jpg\n",
      "[SKIPPED] Missing file: datasets/thyroid_ultrasonic_image/batch1_image/dataset/583_041.Jpg\n",
      "[SKIPPED] Missing file: datasets/thyroid_ultrasonic_image/batch1_image/dataset/583_042.Jpg\n",
      "[SKIPPED] Missing file: datasets/thyroid_ultrasonic_image/batch1_image/dataset/583_043.Jpg\n",
      "[SKIPPED] Missing file: datasets/thyroid_ultrasonic_image/batch1_image/dataset/583_044.Jpg\n",
      "[WARNING] No valid images for patient: 583, skipping\n"
     ]
    },
    {
     "name": "stderr",
     "output_type": "stream",
     "text": [
      "Extracting patient features:  97%|█████████▋| 585/601 [10:35<00:16,  1.05s/it]"
     ]
    },
    {
     "name": "stdout",
     "output_type": "stream",
     "text": [
      "[SKIPPED] Missing file: datasets/thyroid_ultrasonic_image/batch1_image/dataset/584_009.Jpg\n",
      "[SKIPPED] Missing file: datasets/thyroid_ultrasonic_image/batch1_image/dataset/584_010.Jpg\n",
      "[SKIPPED] Missing file: datasets/thyroid_ultrasonic_image/batch1_image/dataset/584_011.Jpg\n",
      "[SKIPPED] Missing file: datasets/thyroid_ultrasonic_image/batch1_image/dataset/584_012.Jpg\n",
      "[SKIPPED] Missing file: datasets/thyroid_ultrasonic_image/batch1_image/dataset/584_013.Jpg\n",
      "[SKIPPED] Missing file: datasets/thyroid_ultrasonic_image/batch1_image/dataset/584_015.Jpg\n"
     ]
    },
    {
     "name": "stderr",
     "output_type": "stream",
     "text": [
      "Extracting patient features:  98%|█████████▊| 588/601 [10:38<00:13,  1.07s/it]"
     ]
    },
    {
     "name": "stdout",
     "output_type": "stream",
     "text": [
      "[SKIPPED] Missing file: datasets/thyroid_ultrasonic_image/batch1_image/dataset/587_005.Jpg\n",
      "[SKIPPED] Missing file: datasets/thyroid_ultrasonic_image/batch1_image/dataset/587_006.Jpg\n",
      "[SKIPPED] Missing file: datasets/thyroid_ultrasonic_image/batch1_image/dataset/587_007.Jpg\n",
      "[SKIPPED] Missing file: datasets/thyroid_ultrasonic_image/batch1_image/dataset/587_008.Jpg\n"
     ]
    },
    {
     "name": "stderr",
     "output_type": "stream",
     "text": [
      "Extracting patient features:  98%|█████████▊| 589/601 [10:39<00:13,  1.16s/it]"
     ]
    },
    {
     "name": "stdout",
     "output_type": "stream",
     "text": [
      "[SKIPPED] Missing file: datasets/thyroid_ultrasonic_image/batch1_image/dataset/588_008.Jpg\n",
      "[SKIPPED] Missing file: datasets/thyroid_ultrasonic_image/batch1_image/dataset/588_009.Jpg\n",
      "[SKIPPED] Missing file: datasets/thyroid_ultrasonic_image/batch1_image/dataset/588_010.Jpg\n",
      "[SKIPPED] Missing file: datasets/thyroid_ultrasonic_image/batch1_image/dataset/588_011.Jpg\n",
      "[SKIPPED] Missing file: datasets/thyroid_ultrasonic_image/batch1_image/dataset/588_012.Jpg\n",
      "[SKIPPED] Missing file: datasets/thyroid_ultrasonic_image/batch1_image/dataset/588_013.Jpg\n",
      "[SKIPPED] Missing file: datasets/thyroid_ultrasonic_image/batch1_image/dataset/588_014.Jpg\n",
      "[SKIPPED] Missing file: datasets/thyroid_ultrasonic_image/batch1_image/dataset/588_015.Jpg\n",
      "[SKIPPED] Missing file: datasets/thyroid_ultrasonic_image/batch1_image/dataset/588_016.Jpg\n",
      "[SKIPPED] Missing file: datasets/thyroid_ultrasonic_image/batch1_image/dataset/588_017.Jpg\n",
      "[SKIPPED] Missing file: datasets/thyroid_ultrasonic_image/batch1_image/dataset/588_018.Jpg\n",
      "[SKIPPED] Missing file: datasets/thyroid_ultrasonic_image/batch1_image/dataset/588_019.Jpg\n"
     ]
    },
    {
     "name": "stderr",
     "output_type": "stream",
     "text": [
      "Extracting patient features:  98%|█████████▊| 590/601 [10:41<00:13,  1.24s/it]"
     ]
    },
    {
     "name": "stdout",
     "output_type": "stream",
     "text": [
      "[SKIPPED] Missing file: datasets/thyroid_ultrasonic_image/batch1_image/dataset/589_008.Jpg\n"
     ]
    },
    {
     "name": "stderr",
     "output_type": "stream",
     "text": [
      "Extracting patient features:  98%|█████████▊| 591/601 [10:43<00:16,  1.66s/it]"
     ]
    },
    {
     "name": "stdout",
     "output_type": "stream",
     "text": [
      "[SKIPPED] Missing file: datasets/thyroid_ultrasonic_image/batch1_image/dataset/590_019.Jpg\n",
      "[SKIPPED] Missing file: datasets/thyroid_ultrasonic_image/batch1_image/dataset/590_020.Jpg\n",
      "[SKIPPED] Missing file: datasets/thyroid_ultrasonic_image/batch1_image/dataset/590_021.Jpg\n",
      "[SKIPPED] Missing file: datasets/thyroid_ultrasonic_image/batch1_image/dataset/590_022.Jpg\n",
      "[SKIPPED] Missing file: datasets/thyroid_ultrasonic_image/batch1_image/dataset/590_023.Jpg\n"
     ]
    },
    {
     "name": "stderr",
     "output_type": "stream",
     "text": [
      "Extracting patient features:  99%|█████████▊| 592/601 [10:45<00:13,  1.50s/it]"
     ]
    },
    {
     "name": "stdout",
     "output_type": "stream",
     "text": [
      "[SKIPPED] Missing file: datasets/thyroid_ultrasonic_image/batch1_image/dataset/591_007.Jpg\n",
      "[SKIPPED] Missing file: datasets/thyroid_ultrasonic_image/batch1_image/dataset/591_008.Jpg\n",
      "[SKIPPED] Missing file: datasets/thyroid_ultrasonic_image/batch1_image/dataset/591_009.Jpg\n",
      "[SKIPPED] Missing file: datasets/thyroid_ultrasonic_image/batch1_image/dataset/591_010.Jpg\n",
      "[SKIPPED] Missing file: datasets/thyroid_ultrasonic_image/batch1_image/dataset/591_011.Jpg\n",
      "[SKIPPED] Missing file: datasets/thyroid_ultrasonic_image/batch1_image/dataset/591_012.Jpg\n",
      "[SKIPPED] Missing file: datasets/thyroid_ultrasonic_image/batch1_image/dataset/591_013.Jpg\n",
      "[SKIPPED] Missing file: datasets/thyroid_ultrasonic_image/batch1_image/dataset/591_014.Jpg\n",
      "[SKIPPED] Missing file: datasets/thyroid_ultrasonic_image/batch1_image/dataset/591_015.Jpg\n",
      "[SKIPPED] Missing file: datasets/thyroid_ultrasonic_image/batch1_image/dataset/592_001.Jpg\n",
      "[SKIPPED] Missing file: datasets/thyroid_ultrasonic_image/batch1_image/dataset/592_002.Jpg\n",
      "[SKIPPED] Missing file: datasets/thyroid_ultrasonic_image/batch1_image/dataset/592_003.Jpg\n",
      "[SKIPPED] Missing file: datasets/thyroid_ultrasonic_image/batch1_image/dataset/592_004.Jpg\n",
      "[SKIPPED] Missing file: datasets/thyroid_ultrasonic_image/batch1_image/dataset/592_005.Jpg\n",
      "[SKIPPED] Missing file: datasets/thyroid_ultrasonic_image/batch1_image/dataset/592_006.Jpg\n",
      "[SKIPPED] Missing file: datasets/thyroid_ultrasonic_image/batch1_image/dataset/592_007.Jpg\n",
      "[SKIPPED] Missing file: datasets/thyroid_ultrasonic_image/batch1_image/dataset/592_008.Jpg\n",
      "[SKIPPED] Missing file: datasets/thyroid_ultrasonic_image/batch1_image/dataset/592_009.Jpg\n",
      "[SKIPPED] Missing file: datasets/thyroid_ultrasonic_image/batch1_image/dataset/592_010.Jpg\n",
      "[WARNING] No valid images for patient: 592, skipping\n"
     ]
    },
    {
     "name": "stderr",
     "output_type": "stream",
     "text": [
      "Extracting patient features:  99%|█████████▉| 594/601 [10:46<00:07,  1.07s/it]"
     ]
    },
    {
     "name": "stdout",
     "output_type": "stream",
     "text": [
      "[SKIPPED] Missing file: datasets/thyroid_ultrasonic_image/batch1_image/dataset/593_011.Jpg\n",
      "[SKIPPED] Missing file: datasets/thyroid_ultrasonic_image/batch1_image/dataset/593_013.Jpg\n",
      "[SKIPPED] Missing file: datasets/thyroid_ultrasonic_image/batch1_image/dataset/593_014.Jpg\n",
      "[SKIPPED] Missing file: datasets/thyroid_ultrasonic_image/batch1_image/dataset/593_015.Jpg\n",
      "[SKIPPED] Missing file: datasets/thyroid_ultrasonic_image/batch1_image/dataset/593_016.Jpg\n",
      "[SKIPPED] Missing file: datasets/thyroid_ultrasonic_image/batch1_image/dataset/593_017.Jpg\n",
      "[SKIPPED] Missing file: datasets/thyroid_ultrasonic_image/batch1_image/dataset/593_018.Jpg\n",
      "[SKIPPED] Missing file: datasets/thyroid_ultrasonic_image/batch1_image/dataset/593_019.Jpg\n",
      "[SKIPPED] Missing file: datasets/thyroid_ultrasonic_image/batch1_image/dataset/593_020.Jpg\n",
      "[SKIPPED] Missing file: datasets/thyroid_ultrasonic_image/batch1_image/dataset/593_021.Jpg\n",
      "[SKIPPED] Missing file: datasets/thyroid_ultrasonic_image/batch1_image/dataset/593_022.Jpg\n",
      "[SKIPPED] Missing file: datasets/thyroid_ultrasonic_image/batch1_image/dataset/593_023.Jpg\n",
      "[SKIPPED] Missing file: datasets/thyroid_ultrasonic_image/batch1_image/dataset/593_024.Jpg\n",
      "[SKIPPED] Missing file: datasets/thyroid_ultrasonic_image/batch1_image/dataset/593_025.Jpg\n",
      "[SKIPPED] Missing file: datasets/thyroid_ultrasonic_image/batch1_image/dataset/593_026.Jpg\n",
      "[SKIPPED] Missing file: datasets/thyroid_ultrasonic_image/batch1_image/dataset/593_027.Jpg\n",
      "[SKIPPED] Missing file: datasets/thyroid_ultrasonic_image/batch1_image/dataset/593_028.Jpg\n",
      "[SKIPPED] Missing file: datasets/thyroid_ultrasonic_image/batch1_image/dataset/593_029.Jpg\n",
      "[SKIPPED] Missing file: datasets/thyroid_ultrasonic_image/batch1_image/dataset/593_030.Jpg\n",
      "[SKIPPED] Missing file: datasets/thyroid_ultrasonic_image/batch1_image/dataset/593_031.Jpg\n",
      "[SKIPPED] Missing file: datasets/thyroid_ultrasonic_image/batch1_image/dataset/593_032.Jpg\n",
      "[SKIPPED] Missing file: datasets/thyroid_ultrasonic_image/batch1_image/dataset/593_033.Jpg\n",
      "[SKIPPED] Missing file: datasets/thyroid_ultrasonic_image/batch1_image/dataset/593_034.Jpg\n",
      "[SKIPPED] Missing file: datasets/thyroid_ultrasonic_image/batch1_image/dataset/593_035.Jpg\n",
      "[SKIPPED] Missing file: datasets/thyroid_ultrasonic_image/batch1_image/dataset/593_036.Jpg\n"
     ]
    },
    {
     "name": "stderr",
     "output_type": "stream",
     "text": [
      "Extracting patient features:  99%|█████████▉| 596/601 [10:49<00:06,  1.33s/it]"
     ]
    },
    {
     "name": "stdout",
     "output_type": "stream",
     "text": [
      "[SKIPPED] Missing file: datasets/thyroid_ultrasonic_image/batch1_image/dataset/596_053.Jpg\n",
      "[SKIPPED] Missing file: datasets/thyroid_ultrasonic_image/batch1_image/dataset/596_055.Jpg\n",
      "[SKIPPED] Missing file: datasets/thyroid_ultrasonic_image/batch1_image/dataset/596_057.Jpg\n",
      "[SKIPPED] Missing file: datasets/thyroid_ultrasonic_image/batch1_image/dataset/596_058.Jpg\n",
      "[SKIPPED] Missing file: datasets/thyroid_ultrasonic_image/batch1_image/dataset/596_059.Jpg\n",
      "[SKIPPED] Missing file: datasets/thyroid_ultrasonic_image/batch1_image/dataset/596_060.Jpg\n",
      "[SKIPPED] Missing file: datasets/thyroid_ultrasonic_image/batch1_image/dataset/596_061.Jpg\n",
      "[SKIPPED] Missing file: datasets/thyroid_ultrasonic_image/batch1_image/dataset/596_062.Jpg\n",
      "[SKIPPED] Missing file: datasets/thyroid_ultrasonic_image/batch1_image/dataset/596_063.Jpg\n",
      "[SKIPPED] Missing file: datasets/thyroid_ultrasonic_image/batch1_image/dataset/596_064.Jpg\n",
      "[SKIPPED] Missing file: datasets/thyroid_ultrasonic_image/batch1_image/dataset/596_065.Jpg\n",
      "[SKIPPED] Missing file: datasets/thyroid_ultrasonic_image/batch1_image/dataset/596_066.Jpg\n",
      "[SKIPPED] Missing file: datasets/thyroid_ultrasonic_image/batch1_image/dataset/596_067.Jpg\n",
      "[SKIPPED] Missing file: datasets/thyroid_ultrasonic_image/batch1_image/dataset/596_068.Jpg\n",
      "[SKIPPED] Missing file: datasets/thyroid_ultrasonic_image/batch1_image/dataset/596_069.Jpg\n",
      "[SKIPPED] Missing file: datasets/thyroid_ultrasonic_image/batch1_image/dataset/596_073.Jpg\n",
      "[SKIPPED] Missing file: datasets/thyroid_ultrasonic_image/batch1_image/dataset/596_075.Jpg\n",
      "[SKIPPED] Missing file: datasets/thyroid_ultrasonic_image/batch1_image/dataset/596_076.Jpg\n",
      "[WARNING] No valid images for patient: 596, skipping\n"
     ]
    },
    {
     "name": "stderr",
     "output_type": "stream",
     "text": [
      "Extracting patient features: 100%|█████████▉| 598/601 [10:50<00:02,  1.08it/s]"
     ]
    },
    {
     "name": "stdout",
     "output_type": "stream",
     "text": [
      "[SKIPPED] Missing file: datasets/thyroid_ultrasonic_image/batch1_image/dataset/597_006.Jpg\n",
      "[SKIPPED] Missing file: datasets/thyroid_ultrasonic_image/batch1_image/dataset/597_007.Jpg\n",
      "[SKIPPED] Missing file: datasets/thyroid_ultrasonic_image/batch1_image/dataset/597_008.Jpg\n",
      "[SKIPPED] Missing file: datasets/thyroid_ultrasonic_image/batch1_image/dataset/597_009.Jpg\n",
      "[SKIPPED] Missing file: datasets/thyroid_ultrasonic_image/batch1_image/dataset/597_010.Jpg\n",
      "[SKIPPED] Missing file: datasets/thyroid_ultrasonic_image/batch1_image/dataset/597_011.Jpg\n",
      "[SKIPPED] Missing file: datasets/thyroid_ultrasonic_image/batch1_image/dataset/597_012.Jpg\n",
      "[SKIPPED] Missing file: datasets/thyroid_ultrasonic_image/batch1_image/dataset/597_013.Jpg\n",
      "[SKIPPED] Missing file: datasets/thyroid_ultrasonic_image/batch1_image/dataset/597_014.Jpg\n"
     ]
    },
    {
     "name": "stderr",
     "output_type": "stream",
     "text": [
      "Extracting patient features: 100%|█████████▉| 599/601 [10:51<00:02,  1.00s/it]"
     ]
    },
    {
     "name": "stdout",
     "output_type": "stream",
     "text": [
      "[SKIPPED] Missing file: datasets/thyroid_ultrasonic_image/batch1_image/dataset/598_010.Jpg\n",
      "[SKIPPED] Missing file: datasets/thyroid_ultrasonic_image/batch1_image/dataset/598_011.Jpg\n",
      "[SKIPPED] Missing file: datasets/thyroid_ultrasonic_image/batch1_image/dataset/598_012.Jpg\n",
      "[SKIPPED] Missing file: datasets/thyroid_ultrasonic_image/batch1_image/dataset/598_013.Jpg\n",
      "[SKIPPED] Missing file: datasets/thyroid_ultrasonic_image/batch1_image/dataset/598_014.Jpg\n",
      "[SKIPPED] Missing file: datasets/thyroid_ultrasonic_image/batch1_image/dataset/599_004.Jpg\n"
     ]
    },
    {
     "name": "stderr",
     "output_type": "stream",
     "text": [
      "Extracting patient features: 100%|██████████| 601/601 [10:54<00:00,  1.09s/it]\n"
     ]
    }
   ],
   "source": [
    "X_train, y_train = extract_patient_features(final_df)\n",
    "np.save('X_train.npy', X_train)\n",
    "np.save('y_train.npy', y_train)"
   ]
  },
  {
   "cell_type": "code",
   "execution_count": 4,
   "id": "18e10d2b",
   "metadata": {},
   "outputs": [],
   "source": [
    "X_train = np.load('X_patient_features.npy')\n",
    "y_train = np.load('y_patient_labels.npy')"
   ]
  },
  {
   "cell_type": "code",
   "execution_count": 9,
   "id": "0292ad68",
   "metadata": {},
   "outputs": [
    {
     "name": "stdout",
     "output_type": "stream",
     "text": [
      "                                          image_path  patient_name  label\n",
      "0  datasets/thyroid_ultrasonic_image/batch1_image...           195      1\n",
      "1  datasets/thyroid_ultrasonic_image/batch1_image...           195      1\n",
      "2  datasets/thyroid_ultrasonic_image/batch1_image...           195      1\n",
      "3  datasets/thyroid_ultrasonic_image/batch1_image...           195      1\n",
      "4  datasets/thyroid_ultrasonic_image/batch1_image...           195      1\n"
     ]
    }
   ],
   "source": [
    "test_path_df = pd.read_csv('datasets/thyroid_ultrasonic_image/batch2_image/batch2_image.csv')\n",
    "image_label_test = pd.read_csv('datasets/thyroid_ultrasonic_image/batch2_image/batch2_image_label.csv')\n",
    "# Merge on patient name\n",
    "merged_df = test_path_df.merge(image_label_test, on='patient_name', how='inner')\n",
    "\n",
    "# Final structure\n",
    "test_df = merged_df[['path', 'patient_name', 'histo_label']]\n",
    "test_df = test_df.rename(columns={'path': 'image_path', 'histo_label': 'label'})\n",
    "test_df['image_path'] = 'datasets/thyroid_ultrasonic_image/batch1_image/dataset/' + test_df['image_path']\n",
    "print(test_df.head())"
   ]
  },
  {
   "cell_type": "code",
   "execution_count": 14,
   "id": "a2b27bcc",
   "metadata": {},
   "outputs": [
    {
     "name": "stderr",
     "output_type": "stream",
     "text": [
      "Extracting patient features:   3%|▎         | 8/241 [00:00<00:03, 75.57it/s]"
     ]
    },
    {
     "name": "stdout",
     "output_type": "stream",
     "text": [
      "[SKIPPED] Missing file: datasets/thyroid_ultrasonic_image/batch1_image/dataset/0_001_174555.Jpg\n",
      "[SKIPPED] Missing file: datasets/thyroid_ultrasonic_image/batch1_image/dataset/0_002_174555.Jpg\n",
      "[SKIPPED] Missing file: datasets/thyroid_ultrasonic_image/batch1_image/dataset/0_003_174555.Jpg\n",
      "[SKIPPED] Missing file: datasets/thyroid_ultrasonic_image/batch1_image/dataset/0_004_174555.Jpg\n",
      "[SKIPPED] Missing file: datasets/thyroid_ultrasonic_image/batch1_image/dataset/0_005_174556.Jpg\n",
      "[SKIPPED] Missing file: datasets/thyroid_ultrasonic_image/batch1_image/dataset/0_006_174556.Jpg\n",
      "[SKIPPED] Missing file: datasets/thyroid_ultrasonic_image/batch1_image/dataset/0_007_174556.Jpg\n",
      "[WARNING] No valid images for patient: 0, skipping\n",
      "[SKIPPED] Missing file: datasets/thyroid_ultrasonic_image/batch1_image/dataset/1_001_135206.Jpg\n",
      "[SKIPPED] Missing file: datasets/thyroid_ultrasonic_image/batch1_image/dataset/1_002_135206.Jpg\n",
      "[SKIPPED] Missing file: datasets/thyroid_ultrasonic_image/batch1_image/dataset/1_003_135206.Jpg\n",
      "[SKIPPED] Missing file: datasets/thyroid_ultrasonic_image/batch1_image/dataset/1_004_135207.Jpg\n",
      "[SKIPPED] Missing file: datasets/thyroid_ultrasonic_image/batch1_image/dataset/1_005_135207.Jpg\n",
      "[SKIPPED] Missing file: datasets/thyroid_ultrasonic_image/batch1_image/dataset/1_006_135207.Jpg\n",
      "[SKIPPED] Missing file: datasets/thyroid_ultrasonic_image/batch1_image/dataset/1_007_135208.Jpg\n",
      "[SKIPPED] Missing file: datasets/thyroid_ultrasonic_image/batch1_image/dataset/1_008_135208.Jpg\n",
      "[SKIPPED] Missing file: datasets/thyroid_ultrasonic_image/batch1_image/dataset/1_009_135208.Jpg\n",
      "[WARNING] No valid images for patient: 1, skipping\n",
      "[SKIPPED] Missing file: datasets/thyroid_ultrasonic_image/batch1_image/dataset/2_001_105053.Jpg\n",
      "[SKIPPED] Missing file: datasets/thyroid_ultrasonic_image/batch1_image/dataset/2_002_105053.Jpg\n",
      "[SKIPPED] Missing file: datasets/thyroid_ultrasonic_image/batch1_image/dataset/2_003_105053.Jpg\n",
      "[SKIPPED] Missing file: datasets/thyroid_ultrasonic_image/batch1_image/dataset/2_004_105053.Jpg\n",
      "[SKIPPED] Missing file: datasets/thyroid_ultrasonic_image/batch1_image/dataset/2_005_105054.Jpg\n",
      "[SKIPPED] Missing file: datasets/thyroid_ultrasonic_image/batch1_image/dataset/2_006_105054.Jpg\n",
      "[SKIPPED] Missing file: datasets/thyroid_ultrasonic_image/batch1_image/dataset/2_007_105054.Jpg\n",
      "[SKIPPED] Missing file: datasets/thyroid_ultrasonic_image/batch1_image/dataset/2_008_105054.Jpg\n",
      "[SKIPPED] Missing file: datasets/thyroid_ultrasonic_image/batch1_image/dataset/2_009_105054.Jpg\n",
      "[SKIPPED] Missing file: datasets/thyroid_ultrasonic_image/batch1_image/dataset/2_010_105055.Jpg\n",
      "[SKIPPED] Missing file: datasets/thyroid_ultrasonic_image/batch1_image/dataset/2_011_105055.Jpg\n",
      "[WARNING] No valid images for patient: 2, skipping\n",
      "[SKIPPED] Missing file: datasets/thyroid_ultrasonic_image/batch1_image/dataset/3_001_191445.Jpg\n",
      "[SKIPPED] Missing file: datasets/thyroid_ultrasonic_image/batch1_image/dataset/3_002_191446.Jpg\n",
      "[SKIPPED] Missing file: datasets/thyroid_ultrasonic_image/batch1_image/dataset/3_003_191446.Jpg\n",
      "[SKIPPED] Missing file: datasets/thyroid_ultrasonic_image/batch1_image/dataset/3_004_191446.Jpg\n",
      "[SKIPPED] Missing file: datasets/thyroid_ultrasonic_image/batch1_image/dataset/3_005_191447.Jpg\n",
      "[SKIPPED] Missing file: datasets/thyroid_ultrasonic_image/batch1_image/dataset/3_006_191447.Jpg\n",
      "[SKIPPED] Missing file: datasets/thyroid_ultrasonic_image/batch1_image/dataset/3_007_191447.Jpg\n",
      "[SKIPPED] Missing file: datasets/thyroid_ultrasonic_image/batch1_image/dataset/3_008_191448.Jpg\n",
      "[SKIPPED] Missing file: datasets/thyroid_ultrasonic_image/batch1_image/dataset/3_009_191448.Jpg\n",
      "[SKIPPED] Missing file: datasets/thyroid_ultrasonic_image/batch1_image/dataset/3_010_191448.Jpg\n",
      "[SKIPPED] Missing file: datasets/thyroid_ultrasonic_image/batch1_image/dataset/3_011_191449.Jpg\n",
      "[SKIPPED] Missing file: datasets/thyroid_ultrasonic_image/batch1_image/dataset/3_012_191449.Jpg\n",
      "[SKIPPED] Missing file: datasets/thyroid_ultrasonic_image/batch1_image/dataset/3_013_191449.Jpg\n",
      "[SKIPPED] Missing file: datasets/thyroid_ultrasonic_image/batch1_image/dataset/3_014_191450.Jpg\n",
      "[SKIPPED] Missing file: datasets/thyroid_ultrasonic_image/batch1_image/dataset/3_015_191450.Jpg\n",
      "[SKIPPED] Missing file: datasets/thyroid_ultrasonic_image/batch1_image/dataset/3_016_191450.Jpg\n",
      "[SKIPPED] Missing file: datasets/thyroid_ultrasonic_image/batch1_image/dataset/3_017_191450.Jpg\n",
      "[SKIPPED] Missing file: datasets/thyroid_ultrasonic_image/batch1_image/dataset/3_018_191451.Jpg\n",
      "[SKIPPED] Missing file: datasets/thyroid_ultrasonic_image/batch1_image/dataset/3_019_191451.Jpg\n",
      "[SKIPPED] Missing file: datasets/thyroid_ultrasonic_image/batch1_image/dataset/3_020_191451.Jpg\n",
      "[SKIPPED] Missing file: datasets/thyroid_ultrasonic_image/batch1_image/dataset/3_021_191452.Jpg\n",
      "[WARNING] No valid images for patient: 3, skipping\n",
      "[SKIPPED] Missing file: datasets/thyroid_ultrasonic_image/batch1_image/dataset/4_001_175944.Jpg\n",
      "[SKIPPED] Missing file: datasets/thyroid_ultrasonic_image/batch1_image/dataset/4_002_175944.Jpg\n",
      "[SKIPPED] Missing file: datasets/thyroid_ultrasonic_image/batch1_image/dataset/4_003_175945.Jpg\n",
      "[SKIPPED] Missing file: datasets/thyroid_ultrasonic_image/batch1_image/dataset/4_004_175945.Jpg\n",
      "[SKIPPED] Missing file: datasets/thyroid_ultrasonic_image/batch1_image/dataset/4_005_175945.Jpg\n",
      "[SKIPPED] Missing file: datasets/thyroid_ultrasonic_image/batch1_image/dataset/4_006_175946.Jpg\n",
      "[SKIPPED] Missing file: datasets/thyroid_ultrasonic_image/batch1_image/dataset/4_007_175946.Jpg\n",
      "[SKIPPED] Missing file: datasets/thyroid_ultrasonic_image/batch1_image/dataset/4_008_175946.Jpg\n",
      "[SKIPPED] Missing file: datasets/thyroid_ultrasonic_image/batch1_image/dataset/4_009_175947.Jpg\n",
      "[SKIPPED] Missing file: datasets/thyroid_ultrasonic_image/batch1_image/dataset/4_010_175947.Jpg\n",
      "[SKIPPED] Missing file: datasets/thyroid_ultrasonic_image/batch1_image/dataset/4_011_175947.Jpg\n",
      "[SKIPPED] Missing file: datasets/thyroid_ultrasonic_image/batch1_image/dataset/4_012_175948.Jpg\n",
      "[SKIPPED] Missing file: datasets/thyroid_ultrasonic_image/batch1_image/dataset/4_013_175948.Jpg\n",
      "[SKIPPED] Missing file: datasets/thyroid_ultrasonic_image/batch1_image/dataset/4_014_175949.Jpg\n",
      "[SKIPPED] Missing file: datasets/thyroid_ultrasonic_image/batch1_image/dataset/4_015_175949.Jpg\n",
      "[WARNING] No valid images for patient: 4, skipping\n",
      "[SKIPPED] Missing file: datasets/thyroid_ultrasonic_image/batch1_image/dataset/5_001_173920.Jpg\n",
      "[SKIPPED] Missing file: datasets/thyroid_ultrasonic_image/batch1_image/dataset/5_002_173920.Jpg\n",
      "[SKIPPED] Missing file: datasets/thyroid_ultrasonic_image/batch1_image/dataset/5_003_173921.Jpg\n",
      "[SKIPPED] Missing file: datasets/thyroid_ultrasonic_image/batch1_image/dataset/5_004_173921.Jpg\n",
      "[SKIPPED] Missing file: datasets/thyroid_ultrasonic_image/batch1_image/dataset/5_005_173921.Jpg\n",
      "[SKIPPED] Missing file: datasets/thyroid_ultrasonic_image/batch1_image/dataset/5_006_173922.Jpg\n",
      "[SKIPPED] Missing file: datasets/thyroid_ultrasonic_image/batch1_image/dataset/5_007_173922.Jpg\n",
      "[SKIPPED] Missing file: datasets/thyroid_ultrasonic_image/batch1_image/dataset/5_008_173922.Jpg\n",
      "[SKIPPED] Missing file: datasets/thyroid_ultrasonic_image/batch1_image/dataset/5_009_173923.Jpg\n",
      "[SKIPPED] Missing file: datasets/thyroid_ultrasonic_image/batch1_image/dataset/5_014_173924.Jpg\n",
      "[SKIPPED] Missing file: datasets/thyroid_ultrasonic_image/batch1_image/dataset/5_015_173924.Jpg\n",
      "[SKIPPED] Missing file: datasets/thyroid_ultrasonic_image/batch1_image/dataset/5_016_173925.Jpg\n",
      "[SKIPPED] Missing file: datasets/thyroid_ultrasonic_image/batch1_image/dataset/5_017_173925.Jpg\n",
      "[SKIPPED] Missing file: datasets/thyroid_ultrasonic_image/batch1_image/dataset/5_018_173925.Jpg\n",
      "[WARNING] No valid images for patient: 5, skipping\n",
      "[SKIPPED] Missing file: datasets/thyroid_ultrasonic_image/batch1_image/dataset/6_001_181028.Jpg\n",
      "[SKIPPED] Missing file: datasets/thyroid_ultrasonic_image/batch1_image/dataset/6_002_181028.Jpg\n",
      "[SKIPPED] Missing file: datasets/thyroid_ultrasonic_image/batch1_image/dataset/6_003_181028.Jpg\n",
      "[SKIPPED] Missing file: datasets/thyroid_ultrasonic_image/batch1_image/dataset/6_004_181029.Jpg\n",
      "[SKIPPED] Missing file: datasets/thyroid_ultrasonic_image/batch1_image/dataset/6_005_181029.Jpg\n",
      "[SKIPPED] Missing file: datasets/thyroid_ultrasonic_image/batch1_image/dataset/6_006_181029.Jpg\n",
      "[SKIPPED] Missing file: datasets/thyroid_ultrasonic_image/batch1_image/dataset/6_007_181030.Jpg\n",
      "[SKIPPED] Missing file: datasets/thyroid_ultrasonic_image/batch1_image/dataset/6_008_181030.Jpg\n",
      "[SKIPPED] Missing file: datasets/thyroid_ultrasonic_image/batch1_image/dataset/6_009_181030.Jpg\n",
      "[WARNING] No valid images for patient: 6, skipping\n",
      "[SKIPPED] Missing file: datasets/thyroid_ultrasonic_image/batch1_image/dataset/7_001_181633.Jpg\n",
      "[SKIPPED] Missing file: datasets/thyroid_ultrasonic_image/batch1_image/dataset/7_002_181633.Jpg\n",
      "[SKIPPED] Missing file: datasets/thyroid_ultrasonic_image/batch1_image/dataset/7_003_181633.Jpg\n",
      "[SKIPPED] Missing file: datasets/thyroid_ultrasonic_image/batch1_image/dataset/7_004_181634.Jpg\n",
      "[SKIPPED] Missing file: datasets/thyroid_ultrasonic_image/batch1_image/dataset/7_005_181634.Jpg\n",
      "[SKIPPED] Missing file: datasets/thyroid_ultrasonic_image/batch1_image/dataset/7_006_181634.Jpg\n",
      "[SKIPPED] Missing file: datasets/thyroid_ultrasonic_image/batch1_image/dataset/7_007_181634.Jpg\n",
      "[SKIPPED] Missing file: datasets/thyroid_ultrasonic_image/batch1_image/dataset/7_008_181634.Jpg\n",
      "[SKIPPED] Missing file: datasets/thyroid_ultrasonic_image/batch1_image/dataset/7_009_181635.Jpg\n",
      "[SKIPPED] Missing file: datasets/thyroid_ultrasonic_image/batch1_image/dataset/7_010_181635.Jpg\n",
      "[SKIPPED] Missing file: datasets/thyroid_ultrasonic_image/batch1_image/dataset/7_011_181635.Jpg\n",
      "[SKIPPED] Missing file: datasets/thyroid_ultrasonic_image/batch1_image/dataset/7_012_181635.Jpg\n",
      "[SKIPPED] Missing file: datasets/thyroid_ultrasonic_image/batch1_image/dataset/7_013_181636.Jpg\n",
      "[SKIPPED] Missing file: datasets/thyroid_ultrasonic_image/batch1_image/dataset/7_014_181636.Jpg\n",
      "[SKIPPED] Missing file: datasets/thyroid_ultrasonic_image/batch1_image/dataset/7_015_181636.Jpg\n",
      "[WARNING] No valid images for patient: 7, skipping\n",
      "[SKIPPED] Missing file: datasets/thyroid_ultrasonic_image/batch1_image/dataset/8_001_181612.Jpg\n",
      "[SKIPPED] Missing file: datasets/thyroid_ultrasonic_image/batch1_image/dataset/8_002_181612.Jpg\n",
      "[SKIPPED] Missing file: datasets/thyroid_ultrasonic_image/batch1_image/dataset/8_003_181612.Jpg\n",
      "[SKIPPED] Missing file: datasets/thyroid_ultrasonic_image/batch1_image/dataset/8_004_181613.Jpg\n",
      "[SKIPPED] Missing file: datasets/thyroid_ultrasonic_image/batch1_image/dataset/8_005_181613.Jpg\n",
      "[SKIPPED] Missing file: datasets/thyroid_ultrasonic_image/batch1_image/dataset/8_006_181613.Jpg\n",
      "[SKIPPED] Missing file: datasets/thyroid_ultrasonic_image/batch1_image/dataset/8_007_181613.Jpg\n",
      "[SKIPPED] Missing file: datasets/thyroid_ultrasonic_image/batch1_image/dataset/8_008_181613.Jpg\n",
      "[SKIPPED] Missing file: datasets/thyroid_ultrasonic_image/batch1_image/dataset/8_009_181614.Jpg\n",
      "[SKIPPED] Missing file: datasets/thyroid_ultrasonic_image/batch1_image/dataset/8_010_181614.Jpg\n",
      "[WARNING] No valid images for patient: 8, skipping\n",
      "[SKIPPED] Missing file: datasets/thyroid_ultrasonic_image/batch1_image/dataset/9_035_175936.Jpg\n",
      "[SKIPPED] Missing file: datasets/thyroid_ultrasonic_image/batch1_image/dataset/9_036_175936.Jpg\n",
      "[SKIPPED] Missing file: datasets/thyroid_ultrasonic_image/batch1_image/dataset/9_037_175936.Jpg\n",
      "[SKIPPED] Missing file: datasets/thyroid_ultrasonic_image/batch1_image/dataset/9_038_175937.Jpg\n",
      "[SKIPPED] Missing file: datasets/thyroid_ultrasonic_image/batch1_image/dataset/9_039_175937.Jpg\n",
      "[SKIPPED] Missing file: datasets/thyroid_ultrasonic_image/batch1_image/dataset/9_040_175937.Jpg\n",
      "[SKIPPED] Missing file: datasets/thyroid_ultrasonic_image/batch1_image/dataset/9_041_175938.Jpg\n",
      "[SKIPPED] Missing file: datasets/thyroid_ultrasonic_image/batch1_image/dataset/9_042_175938.Jpg\n",
      "[SKIPPED] Missing file: datasets/thyroid_ultrasonic_image/batch1_image/dataset/9_043_175938.Jpg\n",
      "[SKIPPED] Missing file: datasets/thyroid_ultrasonic_image/batch1_image/dataset/9_044_175939.Jpg\n",
      "[WARNING] No valid images for patient: 9, skipping\n",
      "[SKIPPED] Missing file: datasets/thyroid_ultrasonic_image/batch1_image/dataset/10_001_103554.Jpg\n",
      "[SKIPPED] Missing file: datasets/thyroid_ultrasonic_image/batch1_image/dataset/10_002_103554.Jpg\n",
      "[SKIPPED] Missing file: datasets/thyroid_ultrasonic_image/batch1_image/dataset/10_003_103555.Jpg\n",
      "[SKIPPED] Missing file: datasets/thyroid_ultrasonic_image/batch1_image/dataset/10_004_103555.Jpg\n",
      "[SKIPPED] Missing file: datasets/thyroid_ultrasonic_image/batch1_image/dataset/10_005_103555.Jpg\n",
      "[SKIPPED] Missing file: datasets/thyroid_ultrasonic_image/batch1_image/dataset/10_006_103555.Jpg\n",
      "[SKIPPED] Missing file: datasets/thyroid_ultrasonic_image/batch1_image/dataset/10_007_103555.Jpg\n",
      "[SKIPPED] Missing file: datasets/thyroid_ultrasonic_image/batch1_image/dataset/10_008_103556.Jpg\n",
      "[SKIPPED] Missing file: datasets/thyroid_ultrasonic_image/batch1_image/dataset/10_009_103556.Jpg\n",
      "[WARNING] No valid images for patient: 10, skipping\n",
      "[SKIPPED] Missing file: datasets/thyroid_ultrasonic_image/batch1_image/dataset/11_001_175810.Jpg\n",
      "[SKIPPED] Missing file: datasets/thyroid_ultrasonic_image/batch1_image/dataset/11_002_175810.Jpg\n",
      "[SKIPPED] Missing file: datasets/thyroid_ultrasonic_image/batch1_image/dataset/11_003_175810.Jpg\n",
      "[SKIPPED] Missing file: datasets/thyroid_ultrasonic_image/batch1_image/dataset/11_004_175811.Jpg\n",
      "[SKIPPED] Missing file: datasets/thyroid_ultrasonic_image/batch1_image/dataset/11_005_175811.Jpg\n",
      "[SKIPPED] Missing file: datasets/thyroid_ultrasonic_image/batch1_image/dataset/11_006_175811.Jpg\n",
      "[SKIPPED] Missing file: datasets/thyroid_ultrasonic_image/batch1_image/dataset/11_007_175811.Jpg\n",
      "[SKIPPED] Missing file: datasets/thyroid_ultrasonic_image/batch1_image/dataset/11_008_175812.Jpg\n",
      "[WARNING] No valid images for patient: 11, skipping\n",
      "[SKIPPED] Missing file: datasets/thyroid_ultrasonic_image/batch1_image/dataset/12_001_103613.Jpg\n",
      "[SKIPPED] Missing file: datasets/thyroid_ultrasonic_image/batch1_image/dataset/12_002_103613.Jpg\n",
      "[SKIPPED] Missing file: datasets/thyroid_ultrasonic_image/batch1_image/dataset/12_003_103613.Jpg\n",
      "[SKIPPED] Missing file: datasets/thyroid_ultrasonic_image/batch1_image/dataset/12_004_103614.Jpg\n",
      "[SKIPPED] Missing file: datasets/thyroid_ultrasonic_image/batch1_image/dataset/12_005_103614.Jpg\n",
      "[SKIPPED] Missing file: datasets/thyroid_ultrasonic_image/batch1_image/dataset/12_006_103614.Jpg\n",
      "[SKIPPED] Missing file: datasets/thyroid_ultrasonic_image/batch1_image/dataset/12_007_103615.Jpg\n",
      "[SKIPPED] Missing file: datasets/thyroid_ultrasonic_image/batch1_image/dataset/12_008_103615.Jpg\n",
      "[SKIPPED] Missing file: datasets/thyroid_ultrasonic_image/batch1_image/dataset/12_009_103615.Jpg\n",
      "[SKIPPED] Missing file: datasets/thyroid_ultrasonic_image/batch1_image/dataset/12_010_103615.Jpg\n",
      "[SKIPPED] Missing file: datasets/thyroid_ultrasonic_image/batch1_image/dataset/12_011_103616.Jpg\n",
      "[SKIPPED] Missing file: datasets/thyroid_ultrasonic_image/batch1_image/dataset/12_012_103616.Jpg\n",
      "[SKIPPED] Missing file: datasets/thyroid_ultrasonic_image/batch1_image/dataset/12_013_103616.Jpg\n",
      "[SKIPPED] Missing file: datasets/thyroid_ultrasonic_image/batch1_image/dataset/12_014_103617.Jpg\n",
      "[WARNING] No valid images for patient: 12, skipping\n",
      "[SKIPPED] Missing file: datasets/thyroid_ultrasonic_image/batch1_image/dataset/13_001_180054.Jpg\n",
      "[SKIPPED] Missing file: datasets/thyroid_ultrasonic_image/batch1_image/dataset/13_002_180054.Jpg\n",
      "[SKIPPED] Missing file: datasets/thyroid_ultrasonic_image/batch1_image/dataset/13_003_180054.Jpg\n",
      "[SKIPPED] Missing file: datasets/thyroid_ultrasonic_image/batch1_image/dataset/13_004_180054.Jpg\n",
      "[SKIPPED] Missing file: datasets/thyroid_ultrasonic_image/batch1_image/dataset/13_005_180055.Jpg\n",
      "[SKIPPED] Missing file: datasets/thyroid_ultrasonic_image/batch1_image/dataset/13_006_180055.Jpg\n",
      "[SKIPPED] Missing file: datasets/thyroid_ultrasonic_image/batch1_image/dataset/13_007_180056.Jpg\n",
      "[SKIPPED] Missing file: datasets/thyroid_ultrasonic_image/batch1_image/dataset/13_008_180056.Jpg\n",
      "[WARNING] No valid images for patient: 13, skipping\n",
      "[SKIPPED] Missing file: datasets/thyroid_ultrasonic_image/batch1_image/dataset/14_001_180043.Jpg\n",
      "[SKIPPED] Missing file: datasets/thyroid_ultrasonic_image/batch1_image/dataset/14_002_180043.Jpg\n",
      "[SKIPPED] Missing file: datasets/thyroid_ultrasonic_image/batch1_image/dataset/14_003_180043.Jpg\n",
      "[WARNING] No valid images for patient: 14, skipping\n",
      "[SKIPPED] Missing file: datasets/thyroid_ultrasonic_image/batch1_image/dataset/15_001_175416.Jpg\n",
      "[SKIPPED] Missing file: datasets/thyroid_ultrasonic_image/batch1_image/dataset/15_002_175416.Jpg\n",
      "[SKIPPED] Missing file: datasets/thyroid_ultrasonic_image/batch1_image/dataset/15_003_175416.Jpg\n",
      "[SKIPPED] Missing file: datasets/thyroid_ultrasonic_image/batch1_image/dataset/15_004_175416.Jpg\n",
      "[SKIPPED] Missing file: datasets/thyroid_ultrasonic_image/batch1_image/dataset/15_005_175417.Jpg\n",
      "[SKIPPED] Missing file: datasets/thyroid_ultrasonic_image/batch1_image/dataset/15_006_175417.Jpg\n",
      "[SKIPPED] Missing file: datasets/thyroid_ultrasonic_image/batch1_image/dataset/15_007_175417.Jpg\n",
      "[SKIPPED] Missing file: datasets/thyroid_ultrasonic_image/batch1_image/dataset/15_008_175418.Jpg\n",
      "[WARNING] No valid images for patient: 15, skipping\n",
      "[SKIPPED] Missing file: datasets/thyroid_ultrasonic_image/batch1_image/dataset/16_001_180833.Jpg\n",
      "[SKIPPED] Missing file: datasets/thyroid_ultrasonic_image/batch1_image/dataset/16_002_180833.Jpg\n",
      "[SKIPPED] Missing file: datasets/thyroid_ultrasonic_image/batch1_image/dataset/16_003_180834.Jpg\n",
      "[SKIPPED] Missing file: datasets/thyroid_ultrasonic_image/batch1_image/dataset/16_004_180834.Jpg\n",
      "[SKIPPED] Missing file: datasets/thyroid_ultrasonic_image/batch1_image/dataset/16_005_180834.Jpg\n",
      "[SKIPPED] Missing file: datasets/thyroid_ultrasonic_image/batch1_image/dataset/16_006_180834.Jpg\n",
      "[SKIPPED] Missing file: datasets/thyroid_ultrasonic_image/batch1_image/dataset/16_007_180834.Jpg\n",
      "[SKIPPED] Missing file: datasets/thyroid_ultrasonic_image/batch1_image/dataset/16_008_180834.Jpg\n",
      "[SKIPPED] Missing file: datasets/thyroid_ultrasonic_image/batch1_image/dataset/16_009_180835.Jpg\n",
      "[WARNING] No valid images for patient: 16, skipping\n",
      "[SKIPPED] Missing file: datasets/thyroid_ultrasonic_image/batch1_image/dataset/17_001_180552.Jpg\n",
      "[SKIPPED] Missing file: datasets/thyroid_ultrasonic_image/batch1_image/dataset/17_002_180552.Jpg\n",
      "[SKIPPED] Missing file: datasets/thyroid_ultrasonic_image/batch1_image/dataset/17_003_180552.Jpg\n",
      "[SKIPPED] Missing file: datasets/thyroid_ultrasonic_image/batch1_image/dataset/17_004_180552.Jpg\n",
      "[SKIPPED] Missing file: datasets/thyroid_ultrasonic_image/batch1_image/dataset/17_005_180553.Jpg\n",
      "[SKIPPED] Missing file: datasets/thyroid_ultrasonic_image/batch1_image/dataset/17_006_180553.Jpg\n",
      "[SKIPPED] Missing file: datasets/thyroid_ultrasonic_image/batch1_image/dataset/17_007_180553.Jpg\n",
      "[SKIPPED] Missing file: datasets/thyroid_ultrasonic_image/batch1_image/dataset/17_008_180553.Jpg\n",
      "[SKIPPED] Missing file: datasets/thyroid_ultrasonic_image/batch1_image/dataset/17_009_180554.Jpg\n",
      "[SKIPPED] Missing file: datasets/thyroid_ultrasonic_image/batch1_image/dataset/17_010_180554.Jpg\n",
      "[WARNING] No valid images for patient: 17, skipping\n",
      "[SKIPPED] Missing file: datasets/thyroid_ultrasonic_image/batch1_image/dataset/18_001_112706.Jpg\n",
      "[SKIPPED] Missing file: datasets/thyroid_ultrasonic_image/batch1_image/dataset/18_002_112706.Jpg\n",
      "[SKIPPED] Missing file: datasets/thyroid_ultrasonic_image/batch1_image/dataset/18_003_112706.Jpg\n",
      "[SKIPPED] Missing file: datasets/thyroid_ultrasonic_image/batch1_image/dataset/18_004_112706.Jpg\n",
      "[SKIPPED] Missing file: datasets/thyroid_ultrasonic_image/batch1_image/dataset/18_005_112706.Jpg\n",
      "[SKIPPED] Missing file: datasets/thyroid_ultrasonic_image/batch1_image/dataset/18_006_112706.Jpg\n",
      "[SKIPPED] Missing file: datasets/thyroid_ultrasonic_image/batch1_image/dataset/18_007_112707.Jpg\n",
      "[SKIPPED] Missing file: datasets/thyroid_ultrasonic_image/batch1_image/dataset/18_008_112707.Jpg\n",
      "[SKIPPED] Missing file: datasets/thyroid_ultrasonic_image/batch1_image/dataset/18_009_112707.Jpg\n",
      "[SKIPPED] Missing file: datasets/thyroid_ultrasonic_image/batch1_image/dataset/18_010_112707.Jpg\n",
      "[SKIPPED] Missing file: datasets/thyroid_ultrasonic_image/batch1_image/dataset/18_011_112708.Jpg\n",
      "[SKIPPED] Missing file: datasets/thyroid_ultrasonic_image/batch1_image/dataset/18_012_112708.Jpg\n",
      "[SKIPPED] Missing file: datasets/thyroid_ultrasonic_image/batch1_image/dataset/18_013_112708.Jpg\n",
      "[SKIPPED] Missing file: datasets/thyroid_ultrasonic_image/batch1_image/dataset/18_014_112708.Jpg\n",
      "[SKIPPED] Missing file: datasets/thyroid_ultrasonic_image/batch1_image/dataset/18_015_112708.Jpg\n",
      "[SKIPPED] Missing file: datasets/thyroid_ultrasonic_image/batch1_image/dataset/18_016_112708.Jpg\n"
     ]
    },
    {
     "name": "stderr",
     "output_type": "stream",
     "text": [
      "Extracting patient features:  12%|█▏        | 28/241 [00:00<00:02, 85.70it/s]"
     ]
    },
    {
     "name": "stdout",
     "output_type": "stream",
     "text": [
      "[SKIPPED] Missing file: datasets/thyroid_ultrasonic_image/batch1_image/dataset/18_017_112709.Jpg\n",
      "[SKIPPED] Missing file: datasets/thyroid_ultrasonic_image/batch1_image/dataset/18_018_112709.Jpg\n",
      "[SKIPPED] Missing file: datasets/thyroid_ultrasonic_image/batch1_image/dataset/18_019_112709.Jpg\n",
      "[SKIPPED] Missing file: datasets/thyroid_ultrasonic_image/batch1_image/dataset/18_020_112709.Jpg\n",
      "[SKIPPED] Missing file: datasets/thyroid_ultrasonic_image/batch1_image/dataset/18_021_112709.Jpg\n",
      "[WARNING] No valid images for patient: 18, skipping\n",
      "[SKIPPED] Missing file: datasets/thyroid_ultrasonic_image/batch1_image/dataset/19_001_180857.Jpg\n",
      "[SKIPPED] Missing file: datasets/thyroid_ultrasonic_image/batch1_image/dataset/19_002_180858.Jpg\n",
      "[SKIPPED] Missing file: datasets/thyroid_ultrasonic_image/batch1_image/dataset/19_003_180858.Jpg\n",
      "[SKIPPED] Missing file: datasets/thyroid_ultrasonic_image/batch1_image/dataset/19_004_180858.Jpg\n",
      "[SKIPPED] Missing file: datasets/thyroid_ultrasonic_image/batch1_image/dataset/19_005_180859.Jpg\n",
      "[SKIPPED] Missing file: datasets/thyroid_ultrasonic_image/batch1_image/dataset/19_006_180859.Jpg\n",
      "[SKIPPED] Missing file: datasets/thyroid_ultrasonic_image/batch1_image/dataset/19_007_180859.Jpg\n",
      "[SKIPPED] Missing file: datasets/thyroid_ultrasonic_image/batch1_image/dataset/19_008_180900.Jpg\n",
      "[WARNING] No valid images for patient: 19, skipping\n",
      "[SKIPPED] Missing file: datasets/thyroid_ultrasonic_image/batch1_image/dataset/20_001_103254.Jpg\n",
      "[SKIPPED] Missing file: datasets/thyroid_ultrasonic_image/batch1_image/dataset/20_002_103254.Jpg\n",
      "[SKIPPED] Missing file: datasets/thyroid_ultrasonic_image/batch1_image/dataset/20_003_103254.Jpg\n",
      "[SKIPPED] Missing file: datasets/thyroid_ultrasonic_image/batch1_image/dataset/20_004_103255.Jpg\n",
      "[SKIPPED] Missing file: datasets/thyroid_ultrasonic_image/batch1_image/dataset/20_005_103255.Jpg\n",
      "[SKIPPED] Missing file: datasets/thyroid_ultrasonic_image/batch1_image/dataset/20_006_103255.Jpg\n",
      "[SKIPPED] Missing file: datasets/thyroid_ultrasonic_image/batch1_image/dataset/20_007_103256.Jpg\n",
      "[SKIPPED] Missing file: datasets/thyroid_ultrasonic_image/batch1_image/dataset/20_009_103256.Jpg\n",
      "[SKIPPED] Missing file: datasets/thyroid_ultrasonic_image/batch1_image/dataset/20_011_103257.Jpg\n",
      "[SKIPPED] Missing file: datasets/thyroid_ultrasonic_image/batch1_image/dataset/20_012_103257.Jpg\n",
      "[WARNING] No valid images for patient: 20, skipping\n",
      "[SKIPPED] Missing file: datasets/thyroid_ultrasonic_image/batch1_image/dataset/21_001_192851.Jpg\n",
      "[SKIPPED] Missing file: datasets/thyroid_ultrasonic_image/batch1_image/dataset/21_002_192851.Jpg\n",
      "[SKIPPED] Missing file: datasets/thyroid_ultrasonic_image/batch1_image/dataset/21_003_192851.Jpg\n",
      "[SKIPPED] Missing file: datasets/thyroid_ultrasonic_image/batch1_image/dataset/21_004_192851.Jpg\n",
      "[SKIPPED] Missing file: datasets/thyroid_ultrasonic_image/batch1_image/dataset/21_005_192852.Jpg\n",
      "[SKIPPED] Missing file: datasets/thyroid_ultrasonic_image/batch1_image/dataset/21_006_192852.Jpg\n",
      "[SKIPPED] Missing file: datasets/thyroid_ultrasonic_image/batch1_image/dataset/21_007_192852.Jpg\n",
      "[SKIPPED] Missing file: datasets/thyroid_ultrasonic_image/batch1_image/dataset/21_008_192852.Jpg\n",
      "[SKIPPED] Missing file: datasets/thyroid_ultrasonic_image/batch1_image/dataset/21_009_192852.Jpg\n",
      "[SKIPPED] Missing file: datasets/thyroid_ultrasonic_image/batch1_image/dataset/21_010_192853.Jpg\n",
      "[SKIPPED] Missing file: datasets/thyroid_ultrasonic_image/batch1_image/dataset/21_011_192853.Jpg\n",
      "[SKIPPED] Missing file: datasets/thyroid_ultrasonic_image/batch1_image/dataset/21_012_192853.Jpg\n",
      "[SKIPPED] Missing file: datasets/thyroid_ultrasonic_image/batch1_image/dataset/21_013_192853.Jpg\n",
      "[SKIPPED] Missing file: datasets/thyroid_ultrasonic_image/batch1_image/dataset/21_014_192853.Jpg\n",
      "[SKIPPED] Missing file: datasets/thyroid_ultrasonic_image/batch1_image/dataset/21_015_192853.Jpg\n",
      "[SKIPPED] Missing file: datasets/thyroid_ultrasonic_image/batch1_image/dataset/21_016_192854.Jpg\n",
      "[SKIPPED] Missing file: datasets/thyroid_ultrasonic_image/batch1_image/dataset/21_017_192854.Jpg\n",
      "[SKIPPED] Missing file: datasets/thyroid_ultrasonic_image/batch1_image/dataset/21_018_192854.Jpg\n",
      "[SKIPPED] Missing file: datasets/thyroid_ultrasonic_image/batch1_image/dataset/21_019_192854.Jpg\n",
      "[WARNING] No valid images for patient: 21, skipping\n",
      "[SKIPPED] Missing file: datasets/thyroid_ultrasonic_image/batch1_image/dataset/22_001_104453.Jpg\n",
      "[SKIPPED] Missing file: datasets/thyroid_ultrasonic_image/batch1_image/dataset/22_002_104454.Jpg\n",
      "[SKIPPED] Missing file: datasets/thyroid_ultrasonic_image/batch1_image/dataset/22_003_104454.Jpg\n",
      "[SKIPPED] Missing file: datasets/thyroid_ultrasonic_image/batch1_image/dataset/22_004_104454.Jpg\n",
      "[SKIPPED] Missing file: datasets/thyroid_ultrasonic_image/batch1_image/dataset/22_005_104454.Jpg\n",
      "[SKIPPED] Missing file: datasets/thyroid_ultrasonic_image/batch1_image/dataset/22_006_104454.Jpg\n",
      "[SKIPPED] Missing file: datasets/thyroid_ultrasonic_image/batch1_image/dataset/22_007_104454.Jpg\n",
      "[SKIPPED] Missing file: datasets/thyroid_ultrasonic_image/batch1_image/dataset/22_008_104455.Jpg\n",
      "[SKIPPED] Missing file: datasets/thyroid_ultrasonic_image/batch1_image/dataset/22_009_104455.Jpg\n",
      "[SKIPPED] Missing file: datasets/thyroid_ultrasonic_image/batch1_image/dataset/22_010_104455.Jpg\n",
      "[SKIPPED] Missing file: datasets/thyroid_ultrasonic_image/batch1_image/dataset/22_011_104455.Jpg\n",
      "[SKIPPED] Missing file: datasets/thyroid_ultrasonic_image/batch1_image/dataset/22_012_104455.Jpg\n",
      "[SKIPPED] Missing file: datasets/thyroid_ultrasonic_image/batch1_image/dataset/22_013_104456.Jpg\n",
      "[SKIPPED] Missing file: datasets/thyroid_ultrasonic_image/batch1_image/dataset/22_014_104456.Jpg\n",
      "[SKIPPED] Missing file: datasets/thyroid_ultrasonic_image/batch1_image/dataset/22_015_104456.Jpg\n",
      "[WARNING] No valid images for patient: 22, skipping\n",
      "[SKIPPED] Missing file: datasets/thyroid_ultrasonic_image/batch1_image/dataset/23_001_103343.Jpg\n",
      "[SKIPPED] Missing file: datasets/thyroid_ultrasonic_image/batch1_image/dataset/23_002_103343.Jpg\n",
      "[SKIPPED] Missing file: datasets/thyroid_ultrasonic_image/batch1_image/dataset/23_003_103344.Jpg\n",
      "[SKIPPED] Missing file: datasets/thyroid_ultrasonic_image/batch1_image/dataset/23_004_103344.Jpg\n",
      "[SKIPPED] Missing file: datasets/thyroid_ultrasonic_image/batch1_image/dataset/23_005_103344.Jpg\n",
      "[SKIPPED] Missing file: datasets/thyroid_ultrasonic_image/batch1_image/dataset/23_006_103344.Jpg\n",
      "[SKIPPED] Missing file: datasets/thyroid_ultrasonic_image/batch1_image/dataset/23_007_103345.Jpg\n",
      "[SKIPPED] Missing file: datasets/thyroid_ultrasonic_image/batch1_image/dataset/23_008_103345.Jpg\n",
      "[SKIPPED] Missing file: datasets/thyroid_ultrasonic_image/batch1_image/dataset/23_009_103345.Jpg\n",
      "[SKIPPED] Missing file: datasets/thyroid_ultrasonic_image/batch1_image/dataset/23_010_103345.Jpg\n",
      "[SKIPPED] Missing file: datasets/thyroid_ultrasonic_image/batch1_image/dataset/23_011_103345.Jpg\n",
      "[SKIPPED] Missing file: datasets/thyroid_ultrasonic_image/batch1_image/dataset/23_012_103346.Jpg\n",
      "[WARNING] No valid images for patient: 23, skipping\n",
      "[SKIPPED] Missing file: datasets/thyroid_ultrasonic_image/batch1_image/dataset/24_001_181051.Jpg\n",
      "[SKIPPED] Missing file: datasets/thyroid_ultrasonic_image/batch1_image/dataset/24_002_181052.Jpg\n",
      "[SKIPPED] Missing file: datasets/thyroid_ultrasonic_image/batch1_image/dataset/24_003_181052.Jpg\n",
      "[SKIPPED] Missing file: datasets/thyroid_ultrasonic_image/batch1_image/dataset/24_004_181052.Jpg\n",
      "[SKIPPED] Missing file: datasets/thyroid_ultrasonic_image/batch1_image/dataset/24_005_181052.Jpg\n",
      "[SKIPPED] Missing file: datasets/thyroid_ultrasonic_image/batch1_image/dataset/24_006_181053.Jpg\n",
      "[WARNING] No valid images for patient: 24, skipping\n",
      "[SKIPPED] Missing file: datasets/thyroid_ultrasonic_image/batch1_image/dataset/25_001_180451.Jpg\n",
      "[SKIPPED] Missing file: datasets/thyroid_ultrasonic_image/batch1_image/dataset/25_002_180451.Jpg\n",
      "[SKIPPED] Missing file: datasets/thyroid_ultrasonic_image/batch1_image/dataset/25_003_180451.Jpg\n",
      "[SKIPPED] Missing file: datasets/thyroid_ultrasonic_image/batch1_image/dataset/25_004_180452.Jpg\n",
      "[SKIPPED] Missing file: datasets/thyroid_ultrasonic_image/batch1_image/dataset/25_005_180452.Jpg\n",
      "[SKIPPED] Missing file: datasets/thyroid_ultrasonic_image/batch1_image/dataset/25_006_180452.Jpg\n",
      "[SKIPPED] Missing file: datasets/thyroid_ultrasonic_image/batch1_image/dataset/25_007_180452.Jpg\n",
      "[SKIPPED] Missing file: datasets/thyroid_ultrasonic_image/batch1_image/dataset/25_008_180453.Jpg\n",
      "[SKIPPED] Missing file: datasets/thyroid_ultrasonic_image/batch1_image/dataset/25_009_180453.Jpg\n",
      "[SKIPPED] Missing file: datasets/thyroid_ultrasonic_image/batch1_image/dataset/25_010_180453.Jpg\n",
      "[SKIPPED] Missing file: datasets/thyroid_ultrasonic_image/batch1_image/dataset/25_011_180453.Jpg\n",
      "[SKIPPED] Missing file: datasets/thyroid_ultrasonic_image/batch1_image/dataset/25_012_180454.Jpg\n",
      "[SKIPPED] Missing file: datasets/thyroid_ultrasonic_image/batch1_image/dataset/25_013_180454.Jpg\n",
      "[WARNING] No valid images for patient: 25, skipping\n",
      "[SKIPPED] Missing file: datasets/thyroid_ultrasonic_image/batch1_image/dataset/26_001_174532.Jpg\n",
      "[SKIPPED] Missing file: datasets/thyroid_ultrasonic_image/batch1_image/dataset/26_002_174532.Jpg\n",
      "[SKIPPED] Missing file: datasets/thyroid_ultrasonic_image/batch1_image/dataset/26_003_174532.Jpg\n",
      "[SKIPPED] Missing file: datasets/thyroid_ultrasonic_image/batch1_image/dataset/26_004_174532.Jpg\n",
      "[SKIPPED] Missing file: datasets/thyroid_ultrasonic_image/batch1_image/dataset/26_005_174532.Jpg\n",
      "[SKIPPED] Missing file: datasets/thyroid_ultrasonic_image/batch1_image/dataset/26_006_174532.Jpg\n",
      "[SKIPPED] Missing file: datasets/thyroid_ultrasonic_image/batch1_image/dataset/26_007_174533.Jpg\n",
      "[SKIPPED] Missing file: datasets/thyroid_ultrasonic_image/batch1_image/dataset/26_008_174533.Jpg\n",
      "[WARNING] No valid images for patient: 26, skipping\n",
      "[SKIPPED] Missing file: datasets/thyroid_ultrasonic_image/batch1_image/dataset/27_001_134426.Jpg\n",
      "[SKIPPED] Missing file: datasets/thyroid_ultrasonic_image/batch1_image/dataset/27_002_134426.Jpg\n",
      "[SKIPPED] Missing file: datasets/thyroid_ultrasonic_image/batch1_image/dataset/27_003_134426.Jpg\n",
      "[SKIPPED] Missing file: datasets/thyroid_ultrasonic_image/batch1_image/dataset/27_004_134427.Jpg\n",
      "[SKIPPED] Missing file: datasets/thyroid_ultrasonic_image/batch1_image/dataset/27_005_134427.Jpg\n",
      "[SKIPPED] Missing file: datasets/thyroid_ultrasonic_image/batch1_image/dataset/27_006_134427.Jpg\n",
      "[SKIPPED] Missing file: datasets/thyroid_ultrasonic_image/batch1_image/dataset/27_007_134427.Jpg\n",
      "[WARNING] No valid images for patient: 27, skipping\n",
      "[SKIPPED] Missing file: datasets/thyroid_ultrasonic_image/batch1_image/dataset/28_001_180532.Jpg\n",
      "[SKIPPED] Missing file: datasets/thyroid_ultrasonic_image/batch1_image/dataset/28_002_180532.Jpg\n",
      "[SKIPPED] Missing file: datasets/thyroid_ultrasonic_image/batch1_image/dataset/28_003_180532.Jpg\n",
      "[SKIPPED] Missing file: datasets/thyroid_ultrasonic_image/batch1_image/dataset/28_004_180532.Jpg\n",
      "[SKIPPED] Missing file: datasets/thyroid_ultrasonic_image/batch1_image/dataset/28_005_180532.Jpg\n",
      "[SKIPPED] Missing file: datasets/thyroid_ultrasonic_image/batch1_image/dataset/28_006_180533.Jpg\n",
      "[SKIPPED] Missing file: datasets/thyroid_ultrasonic_image/batch1_image/dataset/28_007_180533.Jpg\n",
      "[SKIPPED] Missing file: datasets/thyroid_ultrasonic_image/batch1_image/dataset/28_008_180533.Jpg\n",
      "[SKIPPED] Missing file: datasets/thyroid_ultrasonic_image/batch1_image/dataset/28_009_180533.Jpg\n",
      "[SKIPPED] Missing file: datasets/thyroid_ultrasonic_image/batch1_image/dataset/28_010_180533.Jpg\n",
      "[SKIPPED] Missing file: datasets/thyroid_ultrasonic_image/batch1_image/dataset/28_017_180535.Jpg\n",
      "[WARNING] No valid images for patient: 28, skipping\n",
      "[SKIPPED] Missing file: datasets/thyroid_ultrasonic_image/batch1_image/dataset/29_001_183233.Jpg\n",
      "[SKIPPED] Missing file: datasets/thyroid_ultrasonic_image/batch1_image/dataset/29_002_183233.Jpg\n",
      "[SKIPPED] Missing file: datasets/thyroid_ultrasonic_image/batch1_image/dataset/29_003_183233.Jpg\n",
      "[SKIPPED] Missing file: datasets/thyroid_ultrasonic_image/batch1_image/dataset/29_004_183233.Jpg\n",
      "[SKIPPED] Missing file: datasets/thyroid_ultrasonic_image/batch1_image/dataset/29_005_183234.Jpg\n",
      "[SKIPPED] Missing file: datasets/thyroid_ultrasonic_image/batch1_image/dataset/29_006_183234.Jpg\n",
      "[WARNING] No valid images for patient: 29, skipping\n",
      "[SKIPPED] Missing file: datasets/thyroid_ultrasonic_image/batch1_image/dataset/30_001_180544.Jpg\n",
      "[SKIPPED] Missing file: datasets/thyroid_ultrasonic_image/batch1_image/dataset/30_002_180545.Jpg\n",
      "[SKIPPED] Missing file: datasets/thyroid_ultrasonic_image/batch1_image/dataset/30_003_180545.Jpg\n",
      "[SKIPPED] Missing file: datasets/thyroid_ultrasonic_image/batch1_image/dataset/30_004_180545.Jpg\n",
      "[SKIPPED] Missing file: datasets/thyroid_ultrasonic_image/batch1_image/dataset/30_005_180546.Jpg\n",
      "[SKIPPED] Missing file: datasets/thyroid_ultrasonic_image/batch1_image/dataset/30_006_180546.Jpg\n",
      "[SKIPPED] Missing file: datasets/thyroid_ultrasonic_image/batch1_image/dataset/30_007_180546.Jpg\n",
      "[WARNING] No valid images for patient: 30, skipping\n",
      "[SKIPPED] Missing file: datasets/thyroid_ultrasonic_image/batch1_image/dataset/31_001_103405.Jpg\n",
      "[SKIPPED] Missing file: datasets/thyroid_ultrasonic_image/batch1_image/dataset/31_002_103405.Jpg\n",
      "[SKIPPED] Missing file: datasets/thyroid_ultrasonic_image/batch1_image/dataset/31_003_103405.Jpg\n",
      "[SKIPPED] Missing file: datasets/thyroid_ultrasonic_image/batch1_image/dataset/31_004_103405.Jpg\n",
      "[SKIPPED] Missing file: datasets/thyroid_ultrasonic_image/batch1_image/dataset/31_005_103406.Jpg\n",
      "[SKIPPED] Missing file: datasets/thyroid_ultrasonic_image/batch1_image/dataset/31_006_103406.Jpg\n",
      "[SKIPPED] Missing file: datasets/thyroid_ultrasonic_image/batch1_image/dataset/31_007_103406.Jpg\n",
      "[SKIPPED] Missing file: datasets/thyroid_ultrasonic_image/batch1_image/dataset/31_008_103406.Jpg\n",
      "[SKIPPED] Missing file: datasets/thyroid_ultrasonic_image/batch1_image/dataset/31_009_103406.Jpg\n",
      "[SKIPPED] Missing file: datasets/thyroid_ultrasonic_image/batch1_image/dataset/31_010_103407.Jpg\n",
      "[SKIPPED] Missing file: datasets/thyroid_ultrasonic_image/batch1_image/dataset/31_011_103407.Jpg\n",
      "[WARNING] No valid images for patient: 31, skipping\n",
      "[SKIPPED] Missing file: datasets/thyroid_ultrasonic_image/batch1_image/dataset/32_001_135025.Jpg\n",
      "[SKIPPED] Missing file: datasets/thyroid_ultrasonic_image/batch1_image/dataset/32_002_135025.Jpg\n",
      "[SKIPPED] Missing file: datasets/thyroid_ultrasonic_image/batch1_image/dataset/32_003_135025.Jpg\n",
      "[SKIPPED] Missing file: datasets/thyroid_ultrasonic_image/batch1_image/dataset/32_004_135026.Jpg\n",
      "[SKIPPED] Missing file: datasets/thyroid_ultrasonic_image/batch1_image/dataset/32_005_135026.Jpg\n",
      "[SKIPPED] Missing file: datasets/thyroid_ultrasonic_image/batch1_image/dataset/32_006_135026.Jpg\n",
      "[SKIPPED] Missing file: datasets/thyroid_ultrasonic_image/batch1_image/dataset/32_007_135026.Jpg\n",
      "[SKIPPED] Missing file: datasets/thyroid_ultrasonic_image/batch1_image/dataset/32_008_135026.Jpg\n",
      "[SKIPPED] Missing file: datasets/thyroid_ultrasonic_image/batch1_image/dataset/32_009_135027.Jpg\n",
      "[SKIPPED] Missing file: datasets/thyroid_ultrasonic_image/batch1_image/dataset/32_010_135027.Jpg\n",
      "[SKIPPED] Missing file: datasets/thyroid_ultrasonic_image/batch1_image/dataset/32_011_135027.Jpg\n",
      "[SKIPPED] Missing file: datasets/thyroid_ultrasonic_image/batch1_image/dataset/32_012_135027.Jpg\n",
      "[SKIPPED] Missing file: datasets/thyroid_ultrasonic_image/batch1_image/dataset/32_013_135027.Jpg\n",
      "[WARNING] No valid images for patient: 32, skipping\n",
      "[SKIPPED] Missing file: datasets/thyroid_ultrasonic_image/batch1_image/dataset/33_024_181421.Jpg\n",
      "[SKIPPED] Missing file: datasets/thyroid_ultrasonic_image/batch1_image/dataset/33_025_181422.Jpg\n",
      "[SKIPPED] Missing file: datasets/thyroid_ultrasonic_image/batch1_image/dataset/33_026_181422.Jpg\n",
      "[SKIPPED] Missing file: datasets/thyroid_ultrasonic_image/batch1_image/dataset/33_028_181422.Jpg\n",
      "[WARNING] No valid images for patient: 33, skipping\n",
      "[SKIPPED] Missing file: datasets/thyroid_ultrasonic_image/batch1_image/dataset/34_011_104822.Jpg\n",
      "[SKIPPED] Missing file: datasets/thyroid_ultrasonic_image/batch1_image/dataset/34_012_104823.Jpg\n",
      "[SKIPPED] Missing file: datasets/thyroid_ultrasonic_image/batch1_image/dataset/34_013_104823.Jpg\n",
      "[SKIPPED] Missing file: datasets/thyroid_ultrasonic_image/batch1_image/dataset/34_014_104823.Jpg\n",
      "[SKIPPED] Missing file: datasets/thyroid_ultrasonic_image/batch1_image/dataset/34_015_104824.Jpg\n",
      "[SKIPPED] Missing file: datasets/thyroid_ultrasonic_image/batch1_image/dataset/34_016_104824.Jpg\n",
      "[SKIPPED] Missing file: datasets/thyroid_ultrasonic_image/batch1_image/dataset/34_017_104824.Jpg\n",
      "[SKIPPED] Missing file: datasets/thyroid_ultrasonic_image/batch1_image/dataset/34_018_104825.Jpg\n",
      "[SKIPPED] Missing file: datasets/thyroid_ultrasonic_image/batch1_image/dataset/34_019_104825.Jpg\n",
      "[SKIPPED] Missing file: datasets/thyroid_ultrasonic_image/batch1_image/dataset/34_020_104825.Jpg\n",
      "[SKIPPED] Missing file: datasets/thyroid_ultrasonic_image/batch1_image/dataset/34_021_104826.Jpg\n",
      "[WARNING] No valid images for patient: 34, skipping\n",
      "[SKIPPED] Missing file: datasets/thyroid_ultrasonic_image/batch1_image/dataset/35_001_105013.Jpg\n",
      "[SKIPPED] Missing file: datasets/thyroid_ultrasonic_image/batch1_image/dataset/35_002_105014.Jpg\n",
      "[SKIPPED] Missing file: datasets/thyroid_ultrasonic_image/batch1_image/dataset/35_003_105014.Jpg\n",
      "[SKIPPED] Missing file: datasets/thyroid_ultrasonic_image/batch1_image/dataset/35_004_105014.Jpg\n",
      "[SKIPPED] Missing file: datasets/thyroid_ultrasonic_image/batch1_image/dataset/35_005_105014.Jpg\n",
      "[SKIPPED] Missing file: datasets/thyroid_ultrasonic_image/batch1_image/dataset/35_006_105014.Jpg\n",
      "[SKIPPED] Missing file: datasets/thyroid_ultrasonic_image/batch1_image/dataset/35_007_105014.Jpg\n",
      "[SKIPPED] Missing file: datasets/thyroid_ultrasonic_image/batch1_image/dataset/35_008_105015.Jpg\n",
      "[SKIPPED] Missing file: datasets/thyroid_ultrasonic_image/batch1_image/dataset/35_009_105015.Jpg\n",
      "[SKIPPED] Missing file: datasets/thyroid_ultrasonic_image/batch1_image/dataset/35_016_105016.Jpg\n",
      "[SKIPPED] Missing file: datasets/thyroid_ultrasonic_image/batch1_image/dataset/35_017_105016.Jpg\n",
      "[SKIPPED] Missing file: datasets/thyroid_ultrasonic_image/batch1_image/dataset/35_018_105016.Jpg\n",
      "[SKIPPED] Missing file: datasets/thyroid_ultrasonic_image/batch1_image/dataset/35_019_105017.Jpg\n",
      "[SKIPPED] Missing file: datasets/thyroid_ultrasonic_image/batch1_image/dataset/35_020_105017.Jpg\n",
      "[SKIPPED] Missing file: datasets/thyroid_ultrasonic_image/batch1_image/dataset/35_021_105017.Jpg\n",
      "[SKIPPED] Missing file: datasets/thyroid_ultrasonic_image/batch1_image/dataset/35_022_105017.Jpg\n",
      "[SKIPPED] Missing file: datasets/thyroid_ultrasonic_image/batch1_image/dataset/35_023_105017.Jpg\n",
      "[WARNING] No valid images for patient: 35, skipping\n",
      "[SKIPPED] Missing file: datasets/thyroid_ultrasonic_image/batch1_image/dataset/36_001_175852.Jpg\n",
      "[SKIPPED] Missing file: datasets/thyroid_ultrasonic_image/batch1_image/dataset/36_002_175852.Jpg\n",
      "[SKIPPED] Missing file: datasets/thyroid_ultrasonic_image/batch1_image/dataset/36_003_175852.Jpg\n",
      "[SKIPPED] Missing file: datasets/thyroid_ultrasonic_image/batch1_image/dataset/36_004_175853.Jpg\n",
      "[SKIPPED] Missing file: datasets/thyroid_ultrasonic_image/batch1_image/dataset/36_005_175853.Jpg\n",
      "[SKIPPED] Missing file: datasets/thyroid_ultrasonic_image/batch1_image/dataset/36_006_175853.Jpg\n",
      "[SKIPPED] Missing file: datasets/thyroid_ultrasonic_image/batch1_image/dataset/36_007_175853.Jpg\n",
      "[SKIPPED] Missing file: datasets/thyroid_ultrasonic_image/batch1_image/dataset/36_008_175853.Jpg\n",
      "[SKIPPED] Missing file: datasets/thyroid_ultrasonic_image/batch1_image/dataset/36_009_175854.Jpg\n",
      "[WARNING] No valid images for patient: 36, skipping\n",
      "[SKIPPED] Missing file: datasets/thyroid_ultrasonic_image/batch1_image/dataset/37_001_182219.Jpg\n"
     ]
    },
    {
     "name": "stderr",
     "output_type": "stream",
     "text": [
      "Extracting patient features:  20%|██        | 49/241 [00:00<00:02, 86.68it/s]"
     ]
    },
    {
     "name": "stdout",
     "output_type": "stream",
     "text": [
      "[SKIPPED] Missing file: datasets/thyroid_ultrasonic_image/batch1_image/dataset/37_002_182219.Jpg\n",
      "[SKIPPED] Missing file: datasets/thyroid_ultrasonic_image/batch1_image/dataset/37_003_182219.Jpg\n",
      "[SKIPPED] Missing file: datasets/thyroid_ultrasonic_image/batch1_image/dataset/37_004_182220.Jpg\n",
      "[SKIPPED] Missing file: datasets/thyroid_ultrasonic_image/batch1_image/dataset/37_005_182220.Jpg\n",
      "[SKIPPED] Missing file: datasets/thyroid_ultrasonic_image/batch1_image/dataset/37_006_182220.Jpg\n",
      "[SKIPPED] Missing file: datasets/thyroid_ultrasonic_image/batch1_image/dataset/37_007_182220.Jpg\n",
      "[WARNING] No valid images for patient: 37, skipping\n",
      "[SKIPPED] Missing file: datasets/thyroid_ultrasonic_image/batch1_image/dataset/38_001_105547.Jpg\n",
      "[SKIPPED] Missing file: datasets/thyroid_ultrasonic_image/batch1_image/dataset/38_002_105547.Jpg\n",
      "[SKIPPED] Missing file: datasets/thyroid_ultrasonic_image/batch1_image/dataset/38_003_105547.Jpg\n",
      "[SKIPPED] Missing file: datasets/thyroid_ultrasonic_image/batch1_image/dataset/38_004_105548.Jpg\n",
      "[SKIPPED] Missing file: datasets/thyroid_ultrasonic_image/batch1_image/dataset/38_005_105548.Jpg\n",
      "[SKIPPED] Missing file: datasets/thyroid_ultrasonic_image/batch1_image/dataset/38_006_105548.Jpg\n",
      "[SKIPPED] Missing file: datasets/thyroid_ultrasonic_image/batch1_image/dataset/38_007_105549.Jpg\n",
      "[SKIPPED] Missing file: datasets/thyroid_ultrasonic_image/batch1_image/dataset/38_008_105549.Jpg\n",
      "[SKIPPED] Missing file: datasets/thyroid_ultrasonic_image/batch1_image/dataset/38_009_105549.Jpg\n",
      "[SKIPPED] Missing file: datasets/thyroid_ultrasonic_image/batch1_image/dataset/38_010_105549.Jpg\n",
      "[SKIPPED] Missing file: datasets/thyroid_ultrasonic_image/batch1_image/dataset/38_011_105550.Jpg\n",
      "[SKIPPED] Missing file: datasets/thyroid_ultrasonic_image/batch1_image/dataset/38_012_105550.Jpg\n",
      "[SKIPPED] Missing file: datasets/thyroid_ultrasonic_image/batch1_image/dataset/38_013_105550.Jpg\n",
      "[SKIPPED] Missing file: datasets/thyroid_ultrasonic_image/batch1_image/dataset/38_014_105551.Jpg\n",
      "[SKIPPED] Missing file: datasets/thyroid_ultrasonic_image/batch1_image/dataset/38_015_105551.Jpg\n",
      "[WARNING] No valid images for patient: 38, skipping\n",
      "[SKIPPED] Missing file: datasets/thyroid_ultrasonic_image/batch1_image/dataset/39_001_104517.Jpg\n",
      "[SKIPPED] Missing file: datasets/thyroid_ultrasonic_image/batch1_image/dataset/39_002_104517.Jpg\n",
      "[SKIPPED] Missing file: datasets/thyroid_ultrasonic_image/batch1_image/dataset/39_003_104517.Jpg\n",
      "[SKIPPED] Missing file: datasets/thyroid_ultrasonic_image/batch1_image/dataset/39_004_104517.Jpg\n",
      "[SKIPPED] Missing file: datasets/thyroid_ultrasonic_image/batch1_image/dataset/39_005_104517.Jpg\n",
      "[SKIPPED] Missing file: datasets/thyroid_ultrasonic_image/batch1_image/dataset/39_006_104518.Jpg\n",
      "[SKIPPED] Missing file: datasets/thyroid_ultrasonic_image/batch1_image/dataset/39_007_104518.Jpg\n",
      "[SKIPPED] Missing file: datasets/thyroid_ultrasonic_image/batch1_image/dataset/39_008_104518.Jpg\n",
      "[SKIPPED] Missing file: datasets/thyroid_ultrasonic_image/batch1_image/dataset/39_009_104518.Jpg\n",
      "[SKIPPED] Missing file: datasets/thyroid_ultrasonic_image/batch1_image/dataset/39_010_104519.Jpg\n",
      "[SKIPPED] Missing file: datasets/thyroid_ultrasonic_image/batch1_image/dataset/39_011_104519.Jpg\n",
      "[SKIPPED] Missing file: datasets/thyroid_ultrasonic_image/batch1_image/dataset/39_012_104519.Jpg\n",
      "[SKIPPED] Missing file: datasets/thyroid_ultrasonic_image/batch1_image/dataset/39_013_104519.Jpg\n",
      "[SKIPPED] Missing file: datasets/thyroid_ultrasonic_image/batch1_image/dataset/39_014_104519.Jpg\n",
      "[WARNING] No valid images for patient: 39, skipping\n",
      "[SKIPPED] Missing file: datasets/thyroid_ultrasonic_image/batch1_image/dataset/40_001_173733.Jpg\n",
      "[SKIPPED] Missing file: datasets/thyroid_ultrasonic_image/batch1_image/dataset/40_002_173733.Jpg\n",
      "[SKIPPED] Missing file: datasets/thyroid_ultrasonic_image/batch1_image/dataset/40_003_173733.Jpg\n",
      "[SKIPPED] Missing file: datasets/thyroid_ultrasonic_image/batch1_image/dataset/40_004_173733.Jpg\n",
      "[SKIPPED] Missing file: datasets/thyroid_ultrasonic_image/batch1_image/dataset/40_005_173734.Jpg\n",
      "[SKIPPED] Missing file: datasets/thyroid_ultrasonic_image/batch1_image/dataset/40_006_173734.Jpg\n",
      "[SKIPPED] Missing file: datasets/thyroid_ultrasonic_image/batch1_image/dataset/40_007_173734.Jpg\n",
      "[SKIPPED] Missing file: datasets/thyroid_ultrasonic_image/batch1_image/dataset/40_008_173734.Jpg\n",
      "[SKIPPED] Missing file: datasets/thyroid_ultrasonic_image/batch1_image/dataset/40_009_173734.Jpg\n",
      "[SKIPPED] Missing file: datasets/thyroid_ultrasonic_image/batch1_image/dataset/40_010_173735.Jpg\n",
      "[SKIPPED] Missing file: datasets/thyroid_ultrasonic_image/batch1_image/dataset/40_011_173735.Jpg\n",
      "[SKIPPED] Missing file: datasets/thyroid_ultrasonic_image/batch1_image/dataset/40_012_173735.Jpg\n",
      "[WARNING] No valid images for patient: 40, skipping\n",
      "[SKIPPED] Missing file: datasets/thyroid_ultrasonic_image/batch1_image/dataset/41_013_174352.Jpg\n",
      "[SKIPPED] Missing file: datasets/thyroid_ultrasonic_image/batch1_image/dataset/41_014_174352.Jpg\n",
      "[SKIPPED] Missing file: datasets/thyroid_ultrasonic_image/batch1_image/dataset/41_015_174352.Jpg\n",
      "[SKIPPED] Missing file: datasets/thyroid_ultrasonic_image/batch1_image/dataset/41_016_174353.Jpg\n",
      "[SKIPPED] Missing file: datasets/thyroid_ultrasonic_image/batch1_image/dataset/41_017_174353.Jpg\n",
      "[SKIPPED] Missing file: datasets/thyroid_ultrasonic_image/batch1_image/dataset/41_018_174353.Jpg\n",
      "[SKIPPED] Missing file: datasets/thyroid_ultrasonic_image/batch1_image/dataset/41_019_174354.Jpg\n",
      "[WARNING] No valid images for patient: 41, skipping\n",
      "[SKIPPED] Missing file: datasets/thyroid_ultrasonic_image/batch1_image/dataset/42_001_191629.Jpg\n",
      "[SKIPPED] Missing file: datasets/thyroid_ultrasonic_image/batch1_image/dataset/42_002_191630.Jpg\n",
      "[SKIPPED] Missing file: datasets/thyroid_ultrasonic_image/batch1_image/dataset/42_003_191630.Jpg\n",
      "[SKIPPED] Missing file: datasets/thyroid_ultrasonic_image/batch1_image/dataset/42_004_191630.Jpg\n",
      "[SKIPPED] Missing file: datasets/thyroid_ultrasonic_image/batch1_image/dataset/42_005_191631.Jpg\n",
      "[SKIPPED] Missing file: datasets/thyroid_ultrasonic_image/batch1_image/dataset/42_006_191631.Jpg\n",
      "[SKIPPED] Missing file: datasets/thyroid_ultrasonic_image/batch1_image/dataset/42_007_191631.Jpg\n",
      "[SKIPPED] Missing file: datasets/thyroid_ultrasonic_image/batch1_image/dataset/42_008_191632.Jpg\n",
      "[SKIPPED] Missing file: datasets/thyroid_ultrasonic_image/batch1_image/dataset/42_009_191632.Jpg\n",
      "[WARNING] No valid images for patient: 42, skipping\n",
      "[SKIPPED] Missing file: datasets/thyroid_ultrasonic_image/batch1_image/dataset/43_015_181915.Jpg\n",
      "[SKIPPED] Missing file: datasets/thyroid_ultrasonic_image/batch1_image/dataset/43_016_181915.Jpg\n",
      "[SKIPPED] Missing file: datasets/thyroid_ultrasonic_image/batch1_image/dataset/43_017_181915.Jpg\n",
      "[SKIPPED] Missing file: datasets/thyroid_ultrasonic_image/batch1_image/dataset/43_018_181915.Jpg\n",
      "[SKIPPED] Missing file: datasets/thyroid_ultrasonic_image/batch1_image/dataset/43_019_181915.Jpg\n",
      "[SKIPPED] Missing file: datasets/thyroid_ultrasonic_image/batch1_image/dataset/43_020_181916.Jpg\n",
      "[SKIPPED] Missing file: datasets/thyroid_ultrasonic_image/batch1_image/dataset/43_021_181916.Jpg\n",
      "[SKIPPED] Missing file: datasets/thyroid_ultrasonic_image/batch1_image/dataset/43_022_181916.Jpg\n",
      "[SKIPPED] Missing file: datasets/thyroid_ultrasonic_image/batch1_image/dataset/43_023_181916.Jpg\n",
      "[SKIPPED] Missing file: datasets/thyroid_ultrasonic_image/batch1_image/dataset/43_024_181916.Jpg\n",
      "[WARNING] No valid images for patient: 43, skipping\n",
      "[SKIPPED] Missing file: datasets/thyroid_ultrasonic_image/batch1_image/dataset/44_001_135501.Jpg\n",
      "[SKIPPED] Missing file: datasets/thyroid_ultrasonic_image/batch1_image/dataset/44_002_135502.Jpg\n",
      "[SKIPPED] Missing file: datasets/thyroid_ultrasonic_image/batch1_image/dataset/44_003_135502.Jpg\n",
      "[SKIPPED] Missing file: datasets/thyroid_ultrasonic_image/batch1_image/dataset/44_004_135502.Jpg\n",
      "[SKIPPED] Missing file: datasets/thyroid_ultrasonic_image/batch1_image/dataset/44_005_135502.Jpg\n",
      "[SKIPPED] Missing file: datasets/thyroid_ultrasonic_image/batch1_image/dataset/44_006_135502.Jpg\n",
      "[SKIPPED] Missing file: datasets/thyroid_ultrasonic_image/batch1_image/dataset/44_007_135503.Jpg\n",
      "[SKIPPED] Missing file: datasets/thyroid_ultrasonic_image/batch1_image/dataset/44_008_135503.Jpg\n",
      "[SKIPPED] Missing file: datasets/thyroid_ultrasonic_image/batch1_image/dataset/44_009_135503.Jpg\n",
      "[SKIPPED] Missing file: datasets/thyroid_ultrasonic_image/batch1_image/dataset/44_010_135503.Jpg\n",
      "[SKIPPED] Missing file: datasets/thyroid_ultrasonic_image/batch1_image/dataset/44_011_135504.Jpg\n",
      "[SKIPPED] Missing file: datasets/thyroid_ultrasonic_image/batch1_image/dataset/44_012_135504.Jpg\n",
      "[SKIPPED] Missing file: datasets/thyroid_ultrasonic_image/batch1_image/dataset/44_013_135504.Jpg\n",
      "[SKIPPED] Missing file: datasets/thyroid_ultrasonic_image/batch1_image/dataset/44_014_135504.Jpg\n",
      "[SKIPPED] Missing file: datasets/thyroid_ultrasonic_image/batch1_image/dataset/44_015_135504.Jpg\n",
      "[WARNING] No valid images for patient: 44, skipping\n",
      "[SKIPPED] Missing file: datasets/thyroid_ultrasonic_image/batch1_image/dataset/45_001_174718.Jpg\n",
      "[SKIPPED] Missing file: datasets/thyroid_ultrasonic_image/batch1_image/dataset/45_002_174718.Jpg\n",
      "[SKIPPED] Missing file: datasets/thyroid_ultrasonic_image/batch1_image/dataset/45_003_174719.Jpg\n",
      "[SKIPPED] Missing file: datasets/thyroid_ultrasonic_image/batch1_image/dataset/45_004_174719.Jpg\n",
      "[SKIPPED] Missing file: datasets/thyroid_ultrasonic_image/batch1_image/dataset/45_006_174719.Jpg\n",
      "[SKIPPED] Missing file: datasets/thyroid_ultrasonic_image/batch1_image/dataset/45_007_174719.Jpg\n",
      "[WARNING] No valid images for patient: 45, skipping\n",
      "[SKIPPED] Missing file: datasets/thyroid_ultrasonic_image/batch1_image/dataset/46_017_135121.Jpg\n",
      "[SKIPPED] Missing file: datasets/thyroid_ultrasonic_image/batch1_image/dataset/46_018_135121.Jpg\n",
      "[SKIPPED] Missing file: datasets/thyroid_ultrasonic_image/batch1_image/dataset/46_019_135121.Jpg\n",
      "[SKIPPED] Missing file: datasets/thyroid_ultrasonic_image/batch1_image/dataset/46_020_135122.Jpg\n",
      "[SKIPPED] Missing file: datasets/thyroid_ultrasonic_image/batch1_image/dataset/46_021_135122.Jpg\n",
      "[SKIPPED] Missing file: datasets/thyroid_ultrasonic_image/batch1_image/dataset/46_022_135122.Jpg\n",
      "[SKIPPED] Missing file: datasets/thyroid_ultrasonic_image/batch1_image/dataset/46_023_135123.Jpg\n",
      "[SKIPPED] Missing file: datasets/thyroid_ultrasonic_image/batch1_image/dataset/46_024_135123.Jpg\n",
      "[SKIPPED] Missing file: datasets/thyroid_ultrasonic_image/batch1_image/dataset/46_025_135123.Jpg\n",
      "[WARNING] No valid images for patient: 46, skipping\n",
      "[SKIPPED] Missing file: datasets/thyroid_ultrasonic_image/batch1_image/dataset/47_001_183123.Jpg\n",
      "[SKIPPED] Missing file: datasets/thyroid_ultrasonic_image/batch1_image/dataset/47_002_183123.Jpg\n",
      "[SKIPPED] Missing file: datasets/thyroid_ultrasonic_image/batch1_image/dataset/47_003_183123.Jpg\n",
      "[SKIPPED] Missing file: datasets/thyroid_ultrasonic_image/batch1_image/dataset/47_004_183123.Jpg\n",
      "[SKIPPED] Missing file: datasets/thyroid_ultrasonic_image/batch1_image/dataset/47_005_183124.Jpg\n",
      "[SKIPPED] Missing file: datasets/thyroid_ultrasonic_image/batch1_image/dataset/47_006_183124.Jpg\n",
      "[SKIPPED] Missing file: datasets/thyroid_ultrasonic_image/batch1_image/dataset/47_007_183124.Jpg\n",
      "[SKIPPED] Missing file: datasets/thyroid_ultrasonic_image/batch1_image/dataset/47_008_183124.Jpg\n",
      "[SKIPPED] Missing file: datasets/thyroid_ultrasonic_image/batch1_image/dataset/47_009_183124.Jpg\n",
      "[SKIPPED] Missing file: datasets/thyroid_ultrasonic_image/batch1_image/dataset/47_010_183125.Jpg\n",
      "[WARNING] No valid images for patient: 47, skipping\n",
      "[SKIPPED] Missing file: datasets/thyroid_ultrasonic_image/batch1_image/dataset/48_001_103228.Jpg\n",
      "[SKIPPED] Missing file: datasets/thyroid_ultrasonic_image/batch1_image/dataset/48_002_103228.Jpg\n",
      "[SKIPPED] Missing file: datasets/thyroid_ultrasonic_image/batch1_image/dataset/48_003_103228.Jpg\n",
      "[SKIPPED] Missing file: datasets/thyroid_ultrasonic_image/batch1_image/dataset/48_004_103228.Jpg\n",
      "[SKIPPED] Missing file: datasets/thyroid_ultrasonic_image/batch1_image/dataset/48_005_103229.Jpg\n",
      "[SKIPPED] Missing file: datasets/thyroid_ultrasonic_image/batch1_image/dataset/48_006_103229.Jpg\n",
      "[SKIPPED] Missing file: datasets/thyroid_ultrasonic_image/batch1_image/dataset/48_007_103229.Jpg\n",
      "[WARNING] No valid images for patient: 48, skipping\n",
      "[SKIPPED] Missing file: datasets/thyroid_ultrasonic_image/batch1_image/dataset/49_001_181125.Jpg\n",
      "[SKIPPED] Missing file: datasets/thyroid_ultrasonic_image/batch1_image/dataset/49_002_181125.Jpg\n",
      "[SKIPPED] Missing file: datasets/thyroid_ultrasonic_image/batch1_image/dataset/49_003_181125.Jpg\n",
      "[SKIPPED] Missing file: datasets/thyroid_ultrasonic_image/batch1_image/dataset/49_004_181125.Jpg\n",
      "[SKIPPED] Missing file: datasets/thyroid_ultrasonic_image/batch1_image/dataset/49_005_181126.Jpg\n",
      "[SKIPPED] Missing file: datasets/thyroid_ultrasonic_image/batch1_image/dataset/49_006_181126.Jpg\n",
      "[SKIPPED] Missing file: datasets/thyroid_ultrasonic_image/batch1_image/dataset/49_007_181126.Jpg\n",
      "[SKIPPED] Missing file: datasets/thyroid_ultrasonic_image/batch1_image/dataset/49_008_181126.Jpg\n",
      "[SKIPPED] Missing file: datasets/thyroid_ultrasonic_image/batch1_image/dataset/49_009_181127.Jpg\n",
      "[SKIPPED] Missing file: datasets/thyroid_ultrasonic_image/batch1_image/dataset/49_010_181127.Jpg\n",
      "[SKIPPED] Missing file: datasets/thyroid_ultrasonic_image/batch1_image/dataset/49_015_181128.Jpg\n",
      "[SKIPPED] Missing file: datasets/thyroid_ultrasonic_image/batch1_image/dataset/49_016_181128.Jpg\n",
      "[WARNING] No valid images for patient: 49, skipping\n",
      "[SKIPPED] Missing file: datasets/thyroid_ultrasonic_image/batch1_image/dataset/50_001_135631.Jpg\n",
      "[SKIPPED] Missing file: datasets/thyroid_ultrasonic_image/batch1_image/dataset/50_002_135631.Jpg\n",
      "[SKIPPED] Missing file: datasets/thyroid_ultrasonic_image/batch1_image/dataset/50_003_135632.Jpg\n",
      "[SKIPPED] Missing file: datasets/thyroid_ultrasonic_image/batch1_image/dataset/50_004_135632.Jpg\n",
      "[SKIPPED] Missing file: datasets/thyroid_ultrasonic_image/batch1_image/dataset/50_005_135632.Jpg\n",
      "[SKIPPED] Missing file: datasets/thyroid_ultrasonic_image/batch1_image/dataset/50_006_135633.Jpg\n",
      "[SKIPPED] Missing file: datasets/thyroid_ultrasonic_image/batch1_image/dataset/50_007_135633.Jpg\n",
      "[SKIPPED] Missing file: datasets/thyroid_ultrasonic_image/batch1_image/dataset/50_008_135633.Jpg\n",
      "[SKIPPED] Missing file: datasets/thyroid_ultrasonic_image/batch1_image/dataset/50_009_135634.Jpg\n",
      "[SKIPPED] Missing file: datasets/thyroid_ultrasonic_image/batch1_image/dataset/50_010_135634.Jpg\n",
      "[SKIPPED] Missing file: datasets/thyroid_ultrasonic_image/batch1_image/dataset/50_011_135634.Jpg\n",
      "[SKIPPED] Missing file: datasets/thyroid_ultrasonic_image/batch1_image/dataset/50_012_135635.Jpg\n",
      "[SKIPPED] Missing file: datasets/thyroid_ultrasonic_image/batch1_image/dataset/50_013_135635.Jpg\n",
      "[SKIPPED] Missing file: datasets/thyroid_ultrasonic_image/batch1_image/dataset/50_014_135635.Jpg\n",
      "[SKIPPED] Missing file: datasets/thyroid_ultrasonic_image/batch1_image/dataset/50_015_135636.Jpg\n",
      "[WARNING] No valid images for patient: 50, skipping\n",
      "[SKIPPED] Missing file: datasets/thyroid_ultrasonic_image/batch1_image/dataset/51_013_164709.Jpg\n",
      "[SKIPPED] Missing file: datasets/thyroid_ultrasonic_image/batch1_image/dataset/51_014_164709.Jpg\n",
      "[SKIPPED] Missing file: datasets/thyroid_ultrasonic_image/batch1_image/dataset/51_015_164709.Jpg\n",
      "[SKIPPED] Missing file: datasets/thyroid_ultrasonic_image/batch1_image/dataset/51_016_164710.Jpg\n",
      "[SKIPPED] Missing file: datasets/thyroid_ultrasonic_image/batch1_image/dataset/51_017_164710.Jpg\n",
      "[SKIPPED] Missing file: datasets/thyroid_ultrasonic_image/batch1_image/dataset/51_018_164710.Jpg\n",
      "[WARNING] No valid images for patient: 51, skipping\n",
      "[SKIPPED] Missing file: datasets/thyroid_ultrasonic_image/batch1_image/dataset/52_024_180655.Jpg\n",
      "[SKIPPED] Missing file: datasets/thyroid_ultrasonic_image/batch1_image/dataset/52_025_180655.Jpg\n",
      "[SKIPPED] Missing file: datasets/thyroid_ultrasonic_image/batch1_image/dataset/52_026_180655.Jpg\n",
      "[SKIPPED] Missing file: datasets/thyroid_ultrasonic_image/batch1_image/dataset/52_027_180656.Jpg\n",
      "[SKIPPED] Missing file: datasets/thyroid_ultrasonic_image/batch1_image/dataset/52_028_180656.Jpg\n",
      "[SKIPPED] Missing file: datasets/thyroid_ultrasonic_image/batch1_image/dataset/52_029_180656.Jpg\n",
      "[SKIPPED] Missing file: datasets/thyroid_ultrasonic_image/batch1_image/dataset/52_030_180657.Jpg\n",
      "[SKIPPED] Missing file: datasets/thyroid_ultrasonic_image/batch1_image/dataset/52_031_180657.Jpg\n",
      "[SKIPPED] Missing file: datasets/thyroid_ultrasonic_image/batch1_image/dataset/52_032_180657.Jpg\n",
      "[SKIPPED] Missing file: datasets/thyroid_ultrasonic_image/batch1_image/dataset/52_033_180658.Jpg\n",
      "[WARNING] No valid images for patient: 52, skipping\n",
      "[SKIPPED] Missing file: datasets/thyroid_ultrasonic_image/batch1_image/dataset/53_001_104535.Jpg\n",
      "[SKIPPED] Missing file: datasets/thyroid_ultrasonic_image/batch1_image/dataset/53_002_104536.Jpg\n",
      "[SKIPPED] Missing file: datasets/thyroid_ultrasonic_image/batch1_image/dataset/53_003_104536.Jpg\n",
      "[SKIPPED] Missing file: datasets/thyroid_ultrasonic_image/batch1_image/dataset/53_004_104536.Jpg\n",
      "[SKIPPED] Missing file: datasets/thyroid_ultrasonic_image/batch1_image/dataset/53_005_104537.Jpg\n",
      "[SKIPPED] Missing file: datasets/thyroid_ultrasonic_image/batch1_image/dataset/53_006_104537.Jpg\n",
      "[SKIPPED] Missing file: datasets/thyroid_ultrasonic_image/batch1_image/dataset/53_007_104537.Jpg\n",
      "[SKIPPED] Missing file: datasets/thyroid_ultrasonic_image/batch1_image/dataset/53_008_104538.Jpg\n",
      "[SKIPPED] Missing file: datasets/thyroid_ultrasonic_image/batch1_image/dataset/53_009_104538.Jpg\n",
      "[SKIPPED] Missing file: datasets/thyroid_ultrasonic_image/batch1_image/dataset/53_010_104538.Jpg\n",
      "[SKIPPED] Missing file: datasets/thyroid_ultrasonic_image/batch1_image/dataset/53_011_104538.Jpg\n",
      "[SKIPPED] Missing file: datasets/thyroid_ultrasonic_image/batch1_image/dataset/53_012_104539.Jpg\n",
      "[SKIPPED] Missing file: datasets/thyroid_ultrasonic_image/batch1_image/dataset/53_013_104539.Jpg\n",
      "[SKIPPED] Missing file: datasets/thyroid_ultrasonic_image/batch1_image/dataset/53_014_104539.Jpg\n"
     ]
    },
    {
     "name": "stderr",
     "output_type": "stream",
     "text": [
      "Extracting patient features:  29%|██▉       | 70/241 [00:00<00:01, 93.70it/s]"
     ]
    },
    {
     "name": "stdout",
     "output_type": "stream",
     "text": [
      "[SKIPPED] Missing file: datasets/thyroid_ultrasonic_image/batch1_image/dataset/53_015_104540.Jpg\n",
      "[SKIPPED] Missing file: datasets/thyroid_ultrasonic_image/batch1_image/dataset/53_016_104540.Jpg\n",
      "[WARNING] No valid images for patient: 53, skipping\n",
      "[SKIPPED] Missing file: datasets/thyroid_ultrasonic_image/batch1_image/dataset/54_001_191349.Jpg\n",
      "[SKIPPED] Missing file: datasets/thyroid_ultrasonic_image/batch1_image/dataset/54_002_191349.Jpg\n",
      "[SKIPPED] Missing file: datasets/thyroid_ultrasonic_image/batch1_image/dataset/54_003_191349.Jpg\n",
      "[SKIPPED] Missing file: datasets/thyroid_ultrasonic_image/batch1_image/dataset/54_004_191350.Jpg\n",
      "[SKIPPED] Missing file: datasets/thyroid_ultrasonic_image/batch1_image/dataset/54_005_191350.Jpg\n",
      "[SKIPPED] Missing file: datasets/thyroid_ultrasonic_image/batch1_image/dataset/54_006_191350.Jpg\n",
      "[SKIPPED] Missing file: datasets/thyroid_ultrasonic_image/batch1_image/dataset/54_007_191351.Jpg\n",
      "[SKIPPED] Missing file: datasets/thyroid_ultrasonic_image/batch1_image/dataset/54_008_191351.Jpg\n",
      "[SKIPPED] Missing file: datasets/thyroid_ultrasonic_image/batch1_image/dataset/54_009_191351.Jpg\n",
      "[SKIPPED] Missing file: datasets/thyroid_ultrasonic_image/batch1_image/dataset/54_010_191352.Jpg\n",
      "[WARNING] No valid images for patient: 54, skipping\n",
      "[SKIPPED] Missing file: datasets/thyroid_ultrasonic_image/batch1_image/dataset/55_001_182539.Jpg\n",
      "[SKIPPED] Missing file: datasets/thyroid_ultrasonic_image/batch1_image/dataset/55_002_182540.Jpg\n",
      "[SKIPPED] Missing file: datasets/thyroid_ultrasonic_image/batch1_image/dataset/55_003_182540.Jpg\n",
      "[SKIPPED] Missing file: datasets/thyroid_ultrasonic_image/batch1_image/dataset/55_004_182540.Jpg\n",
      "[SKIPPED] Missing file: datasets/thyroid_ultrasonic_image/batch1_image/dataset/55_005_182540.Jpg\n",
      "[SKIPPED] Missing file: datasets/thyroid_ultrasonic_image/batch1_image/dataset/55_006_182541.Jpg\n",
      "[WARNING] No valid images for patient: 55, skipping\n",
      "[SKIPPED] Missing file: datasets/thyroid_ultrasonic_image/batch1_image/dataset/56_001_181221.Jpg\n",
      "[SKIPPED] Missing file: datasets/thyroid_ultrasonic_image/batch1_image/dataset/56_002_181221.Jpg\n",
      "[SKIPPED] Missing file: datasets/thyroid_ultrasonic_image/batch1_image/dataset/56_003_181221.Jpg\n",
      "[SKIPPED] Missing file: datasets/thyroid_ultrasonic_image/batch1_image/dataset/56_004_181222.Jpg\n",
      "[SKIPPED] Missing file: datasets/thyroid_ultrasonic_image/batch1_image/dataset/56_005_181222.Jpg\n",
      "[SKIPPED] Missing file: datasets/thyroid_ultrasonic_image/batch1_image/dataset/56_006_181222.Jpg\n",
      "[SKIPPED] Missing file: datasets/thyroid_ultrasonic_image/batch1_image/dataset/56_007_181222.Jpg\n",
      "[SKIPPED] Missing file: datasets/thyroid_ultrasonic_image/batch1_image/dataset/56_008_181222.Jpg\n",
      "[SKIPPED] Missing file: datasets/thyroid_ultrasonic_image/batch1_image/dataset/56_009_181222.Jpg\n",
      "[SKIPPED] Missing file: datasets/thyroid_ultrasonic_image/batch1_image/dataset/56_010_181223.Jpg\n",
      "[WARNING] No valid images for patient: 56, skipping\n",
      "[SKIPPED] Missing file: datasets/thyroid_ultrasonic_image/batch1_image/dataset/57_030_190947.Jpg\n",
      "[SKIPPED] Missing file: datasets/thyroid_ultrasonic_image/batch1_image/dataset/57_031_190948.Jpg\n",
      "[SKIPPED] Missing file: datasets/thyroid_ultrasonic_image/batch1_image/dataset/57_032_190948.Jpg\n",
      "[SKIPPED] Missing file: datasets/thyroid_ultrasonic_image/batch1_image/dataset/57_033_190949.Jpg\n",
      "[SKIPPED] Missing file: datasets/thyroid_ultrasonic_image/batch1_image/dataset/57_034_190949.Jpg\n",
      "[SKIPPED] Missing file: datasets/thyroid_ultrasonic_image/batch1_image/dataset/57_035_190949.Jpg\n",
      "[SKIPPED] Missing file: datasets/thyroid_ultrasonic_image/batch1_image/dataset/57_036_190950.Jpg\n",
      "[SKIPPED] Missing file: datasets/thyroid_ultrasonic_image/batch1_image/dataset/57_037_190950.Jpg\n",
      "[SKIPPED] Missing file: datasets/thyroid_ultrasonic_image/batch1_image/dataset/57_038_190950.Jpg\n",
      "[SKIPPED] Missing file: datasets/thyroid_ultrasonic_image/batch1_image/dataset/57_039_190951.Jpg\n",
      "[WARNING] No valid images for patient: 57, skipping\n",
      "[SKIPPED] Missing file: datasets/thyroid_ultrasonic_image/batch1_image/dataset/58_001_105431.Jpg\n",
      "[SKIPPED] Missing file: datasets/thyroid_ultrasonic_image/batch1_image/dataset/58_002_105431.Jpg\n",
      "[SKIPPED] Missing file: datasets/thyroid_ultrasonic_image/batch1_image/dataset/58_003_105432.Jpg\n",
      "[SKIPPED] Missing file: datasets/thyroid_ultrasonic_image/batch1_image/dataset/58_004_105432.Jpg\n",
      "[SKIPPED] Missing file: datasets/thyroid_ultrasonic_image/batch1_image/dataset/58_005_105432.Jpg\n",
      "[SKIPPED] Missing file: datasets/thyroid_ultrasonic_image/batch1_image/dataset/58_006_105433.Jpg\n",
      "[SKIPPED] Missing file: datasets/thyroid_ultrasonic_image/batch1_image/dataset/58_007_105433.Jpg\n",
      "[SKIPPED] Missing file: datasets/thyroid_ultrasonic_image/batch1_image/dataset/58_008_105433.Jpg\n",
      "[SKIPPED] Missing file: datasets/thyroid_ultrasonic_image/batch1_image/dataset/58_009_105433.Jpg\n",
      "[SKIPPED] Missing file: datasets/thyroid_ultrasonic_image/batch1_image/dataset/58_010_105434.Jpg\n",
      "[SKIPPED] Missing file: datasets/thyroid_ultrasonic_image/batch1_image/dataset/58_011_105434.Jpg\n",
      "[SKIPPED] Missing file: datasets/thyroid_ultrasonic_image/batch1_image/dataset/58_012_105434.Jpg\n",
      "[SKIPPED] Missing file: datasets/thyroid_ultrasonic_image/batch1_image/dataset/58_013_105434.Jpg\n",
      "[SKIPPED] Missing file: datasets/thyroid_ultrasonic_image/batch1_image/dataset/58_014_105435.Jpg\n",
      "[SKIPPED] Missing file: datasets/thyroid_ultrasonic_image/batch1_image/dataset/58_015_105435.Jpg\n",
      "[SKIPPED] Missing file: datasets/thyroid_ultrasonic_image/batch1_image/dataset/58_016_105435.Jpg\n",
      "[SKIPPED] Missing file: datasets/thyroid_ultrasonic_image/batch1_image/dataset/58_017_105435.Jpg\n",
      "[SKIPPED] Missing file: datasets/thyroid_ultrasonic_image/batch1_image/dataset/58_018_105436.Jpg\n",
      "[WARNING] No valid images for patient: 58, skipping\n",
      "[SKIPPED] Missing file: datasets/thyroid_ultrasonic_image/batch1_image/dataset/59_001_103946.Jpg\n",
      "[SKIPPED] Missing file: datasets/thyroid_ultrasonic_image/batch1_image/dataset/59_002_103947.Jpg\n",
      "[SKIPPED] Missing file: datasets/thyroid_ultrasonic_image/batch1_image/dataset/59_003_103947.Jpg\n",
      "[SKIPPED] Missing file: datasets/thyroid_ultrasonic_image/batch1_image/dataset/59_004_103947.Jpg\n",
      "[SKIPPED] Missing file: datasets/thyroid_ultrasonic_image/batch1_image/dataset/59_005_103947.Jpg\n",
      "[SKIPPED] Missing file: datasets/thyroid_ultrasonic_image/batch1_image/dataset/59_006_103948.Jpg\n",
      "[SKIPPED] Missing file: datasets/thyroid_ultrasonic_image/batch1_image/dataset/59_007_103948.Jpg\n",
      "[SKIPPED] Missing file: datasets/thyroid_ultrasonic_image/batch1_image/dataset/59_010_103949.Jpg\n",
      "[WARNING] No valid images for patient: 59, skipping\n",
      "[SKIPPED] Missing file: datasets/thyroid_ultrasonic_image/batch1_image/dataset/60_001_173900.Jpg\n",
      "[SKIPPED] Missing file: datasets/thyroid_ultrasonic_image/batch1_image/dataset/60_002_173900.Jpg\n",
      "[SKIPPED] Missing file: datasets/thyroid_ultrasonic_image/batch1_image/dataset/60_003_173900.Jpg\n",
      "[SKIPPED] Missing file: datasets/thyroid_ultrasonic_image/batch1_image/dataset/60_004_173901.Jpg\n",
      "[SKIPPED] Missing file: datasets/thyroid_ultrasonic_image/batch1_image/dataset/60_005_173901.Jpg\n",
      "[SKIPPED] Missing file: datasets/thyroid_ultrasonic_image/batch1_image/dataset/60_006_173901.Jpg\n",
      "[SKIPPED] Missing file: datasets/thyroid_ultrasonic_image/batch1_image/dataset/60_007_173901.Jpg\n",
      "[SKIPPED] Missing file: datasets/thyroid_ultrasonic_image/batch1_image/dataset/60_008_173901.Jpg\n",
      "[SKIPPED] Missing file: datasets/thyroid_ultrasonic_image/batch1_image/dataset/60_009_173902.Jpg\n",
      "[SKIPPED] Missing file: datasets/thyroid_ultrasonic_image/batch1_image/dataset/60_010_173902.Jpg\n",
      "[WARNING] No valid images for patient: 60, skipping\n",
      "[SKIPPED] Missing file: datasets/thyroid_ultrasonic_image/batch1_image/dataset/61_022_181151.Jpg\n",
      "[SKIPPED] Missing file: datasets/thyroid_ultrasonic_image/batch1_image/dataset/61_023_181152.Jpg\n",
      "[SKIPPED] Missing file: datasets/thyroid_ultrasonic_image/batch1_image/dataset/61_024_181152.Jpg\n",
      "[SKIPPED] Missing file: datasets/thyroid_ultrasonic_image/batch1_image/dataset/61_025_181152.Jpg\n",
      "[SKIPPED] Missing file: datasets/thyroid_ultrasonic_image/batch1_image/dataset/61_026_181153.Jpg\n",
      "[SKIPPED] Missing file: datasets/thyroid_ultrasonic_image/batch1_image/dataset/61_027_181153.Jpg\n",
      "[SKIPPED] Missing file: datasets/thyroid_ultrasonic_image/batch1_image/dataset/61_028_181153.Jpg\n",
      "[SKIPPED] Missing file: datasets/thyroid_ultrasonic_image/batch1_image/dataset/61_029_181154.Jpg\n",
      "[SKIPPED] Missing file: datasets/thyroid_ultrasonic_image/batch1_image/dataset/61_030_181154.Jpg\n",
      "[SKIPPED] Missing file: datasets/thyroid_ultrasonic_image/batch1_image/dataset/61_031_181155.Jpg\n",
      "[SKIPPED] Missing file: datasets/thyroid_ultrasonic_image/batch1_image/dataset/61_032_181155.Jpg\n",
      "[SKIPPED] Missing file: datasets/thyroid_ultrasonic_image/batch1_image/dataset/61_033_181155.Jpg\n",
      "[SKIPPED] Missing file: datasets/thyroid_ultrasonic_image/batch1_image/dataset/61_034_181155.Jpg\n",
      "[SKIPPED] Missing file: datasets/thyroid_ultrasonic_image/batch1_image/dataset/61_035_181156.Jpg\n",
      "[SKIPPED] Missing file: datasets/thyroid_ultrasonic_image/batch1_image/dataset/61_036_181156.Jpg\n",
      "[WARNING] No valid images for patient: 61, skipping\n",
      "[SKIPPED] Missing file: datasets/thyroid_ultrasonic_image/batch1_image/dataset/62_001_174108.Jpg\n",
      "[SKIPPED] Missing file: datasets/thyroid_ultrasonic_image/batch1_image/dataset/62_002_174108.Jpg\n",
      "[SKIPPED] Missing file: datasets/thyroid_ultrasonic_image/batch1_image/dataset/62_003_174109.Jpg\n",
      "[SKIPPED] Missing file: datasets/thyroid_ultrasonic_image/batch1_image/dataset/62_004_174109.Jpg\n",
      "[SKIPPED] Missing file: datasets/thyroid_ultrasonic_image/batch1_image/dataset/62_005_174109.Jpg\n",
      "[SKIPPED] Missing file: datasets/thyroid_ultrasonic_image/batch1_image/dataset/62_006_174109.Jpg\n",
      "[SKIPPED] Missing file: datasets/thyroid_ultrasonic_image/batch1_image/dataset/62_007_174109.Jpg\n",
      "[SKIPPED] Missing file: datasets/thyroid_ultrasonic_image/batch1_image/dataset/62_008_174109.Jpg\n",
      "[SKIPPED] Missing file: datasets/thyroid_ultrasonic_image/batch1_image/dataset/62_009_174110.Jpg\n",
      "[SKIPPED] Missing file: datasets/thyroid_ultrasonic_image/batch1_image/dataset/62_010_174110.Jpg\n",
      "[WARNING] No valid images for patient: 62, skipping\n",
      "[SKIPPED] Missing file: datasets/thyroid_ultrasonic_image/batch1_image/dataset/63_008_175512.Jpg\n",
      "[SKIPPED] Missing file: datasets/thyroid_ultrasonic_image/batch1_image/dataset/63_009_175512.Jpg\n",
      "[SKIPPED] Missing file: datasets/thyroid_ultrasonic_image/batch1_image/dataset/63_010_175512.Jpg\n",
      "[SKIPPED] Missing file: datasets/thyroid_ultrasonic_image/batch1_image/dataset/63_011_175513.Jpg\n",
      "[SKIPPED] Missing file: datasets/thyroid_ultrasonic_image/batch1_image/dataset/63_012_175513.Jpg\n",
      "[SKIPPED] Missing file: datasets/thyroid_ultrasonic_image/batch1_image/dataset/63_013_175513.Jpg\n",
      "[SKIPPED] Missing file: datasets/thyroid_ultrasonic_image/batch1_image/dataset/63_014_175513.Jpg\n",
      "[SKIPPED] Missing file: datasets/thyroid_ultrasonic_image/batch1_image/dataset/63_015_175513.Jpg\n",
      "[WARNING] No valid images for patient: 63, skipping\n",
      "[SKIPPED] Missing file: datasets/thyroid_ultrasonic_image/batch1_image/dataset/64_001_104736.Jpg\n",
      "[SKIPPED] Missing file: datasets/thyroid_ultrasonic_image/batch1_image/dataset/64_002_104736.Jpg\n",
      "[SKIPPED] Missing file: datasets/thyroid_ultrasonic_image/batch1_image/dataset/64_003_104736.Jpg\n",
      "[SKIPPED] Missing file: datasets/thyroid_ultrasonic_image/batch1_image/dataset/64_004_104737.Jpg\n",
      "[SKIPPED] Missing file: datasets/thyroid_ultrasonic_image/batch1_image/dataset/64_005_104737.Jpg\n",
      "[SKIPPED] Missing file: datasets/thyroid_ultrasonic_image/batch1_image/dataset/64_006_104737.Jpg\n",
      "[SKIPPED] Missing file: datasets/thyroid_ultrasonic_image/batch1_image/dataset/64_007_104737.Jpg\n",
      "[WARNING] No valid images for patient: 64, skipping\n",
      "[SKIPPED] Missing file: datasets/thyroid_ultrasonic_image/batch1_image/dataset/65_001_104647.Jpg\n",
      "[SKIPPED] Missing file: datasets/thyroid_ultrasonic_image/batch1_image/dataset/65_002_104648.Jpg\n",
      "[SKIPPED] Missing file: datasets/thyroid_ultrasonic_image/batch1_image/dataset/65_003_104648.Jpg\n",
      "[WARNING] No valid images for patient: 65, skipping\n",
      "[SKIPPED] Missing file: datasets/thyroid_ultrasonic_image/batch1_image/dataset/66_001_180652.Jpg\n",
      "[SKIPPED] Missing file: datasets/thyroid_ultrasonic_image/batch1_image/dataset/66_002_180652.Jpg\n",
      "[SKIPPED] Missing file: datasets/thyroid_ultrasonic_image/batch1_image/dataset/66_003_180653.Jpg\n",
      "[SKIPPED] Missing file: datasets/thyroid_ultrasonic_image/batch1_image/dataset/66_004_180653.Jpg\n",
      "[SKIPPED] Missing file: datasets/thyroid_ultrasonic_image/batch1_image/dataset/66_005_180653.Jpg\n",
      "[SKIPPED] Missing file: datasets/thyroid_ultrasonic_image/batch1_image/dataset/66_006_180654.Jpg\n",
      "[SKIPPED] Missing file: datasets/thyroid_ultrasonic_image/batch1_image/dataset/66_007_180654.Jpg\n",
      "[SKIPPED] Missing file: datasets/thyroid_ultrasonic_image/batch1_image/dataset/66_008_180654.Jpg\n",
      "[SKIPPED] Missing file: datasets/thyroid_ultrasonic_image/batch1_image/dataset/66_009_180654.Jpg\n",
      "[SKIPPED] Missing file: datasets/thyroid_ultrasonic_image/batch1_image/dataset/66_010_180655.Jpg\n",
      "[SKIPPED] Missing file: datasets/thyroid_ultrasonic_image/batch1_image/dataset/66_011_180655.Jpg\n",
      "[SKIPPED] Missing file: datasets/thyroid_ultrasonic_image/batch1_image/dataset/66_012_180655.Jpg\n",
      "[WARNING] No valid images for patient: 66, skipping\n",
      "[SKIPPED] Missing file: datasets/thyroid_ultrasonic_image/batch1_image/dataset/67_001_134743.Jpg\n",
      "[SKIPPED] Missing file: datasets/thyroid_ultrasonic_image/batch1_image/dataset/67_002_134744.Jpg\n",
      "[SKIPPED] Missing file: datasets/thyroid_ultrasonic_image/batch1_image/dataset/67_003_134744.Jpg\n",
      "[WARNING] No valid images for patient: 67, skipping\n",
      "[SKIPPED] Missing file: datasets/thyroid_ultrasonic_image/batch1_image/dataset/68_001_180355.Jpg\n",
      "[SKIPPED] Missing file: datasets/thyroid_ultrasonic_image/batch1_image/dataset/68_002_180355.Jpg\n",
      "[SKIPPED] Missing file: datasets/thyroid_ultrasonic_image/batch1_image/dataset/68_003_180356.Jpg\n",
      "[SKIPPED] Missing file: datasets/thyroid_ultrasonic_image/batch1_image/dataset/68_004_180356.Jpg\n",
      "[SKIPPED] Missing file: datasets/thyroid_ultrasonic_image/batch1_image/dataset/68_005_180356.Jpg\n",
      "[SKIPPED] Missing file: datasets/thyroid_ultrasonic_image/batch1_image/dataset/68_006_180356.Jpg\n",
      "[SKIPPED] Missing file: datasets/thyroid_ultrasonic_image/batch1_image/dataset/68_007_180357.Jpg\n",
      "[SKIPPED] Missing file: datasets/thyroid_ultrasonic_image/batch1_image/dataset/68_008_180357.Jpg\n",
      "[SKIPPED] Missing file: datasets/thyroid_ultrasonic_image/batch1_image/dataset/68_009_180358.Jpg\n",
      "[SKIPPED] Missing file: datasets/thyroid_ultrasonic_image/batch1_image/dataset/68_010_180358.Jpg\n",
      "[SKIPPED] Missing file: datasets/thyroid_ultrasonic_image/batch1_image/dataset/68_011_180358.Jpg\n",
      "[WARNING] No valid images for patient: 68, skipping\n",
      "[SKIPPED] Missing file: datasets/thyroid_ultrasonic_image/batch1_image/dataset/69_001_175659.Jpg\n",
      "[SKIPPED] Missing file: datasets/thyroid_ultrasonic_image/batch1_image/dataset/69_002_175659.Jpg\n",
      "[SKIPPED] Missing file: datasets/thyroid_ultrasonic_image/batch1_image/dataset/69_003_175659.Jpg\n",
      "[SKIPPED] Missing file: datasets/thyroid_ultrasonic_image/batch1_image/dataset/69_004_175659.Jpg\n",
      "[SKIPPED] Missing file: datasets/thyroid_ultrasonic_image/batch1_image/dataset/69_005_175659.Jpg\n",
      "[SKIPPED] Missing file: datasets/thyroid_ultrasonic_image/batch1_image/dataset/69_006_175700.Jpg\n",
      "[SKIPPED] Missing file: datasets/thyroid_ultrasonic_image/batch1_image/dataset/69_007_175700.Jpg\n",
      "[SKIPPED] Missing file: datasets/thyroid_ultrasonic_image/batch1_image/dataset/69_008_175700.Jpg\n",
      "[WARNING] No valid images for patient: 69, skipping\n",
      "[SKIPPED] Missing file: datasets/thyroid_ultrasonic_image/batch1_image/dataset/70_012_183621.Jpg\n",
      "[SKIPPED] Missing file: datasets/thyroid_ultrasonic_image/batch1_image/dataset/70_013_183621.Jpg\n",
      "[SKIPPED] Missing file: datasets/thyroid_ultrasonic_image/batch1_image/dataset/70_014_183622.Jpg\n",
      "[SKIPPED] Missing file: datasets/thyroid_ultrasonic_image/batch1_image/dataset/70_015_183622.Jpg\n",
      "[SKIPPED] Missing file: datasets/thyroid_ultrasonic_image/batch1_image/dataset/70_016_183622.Jpg\n",
      "[SKIPPED] Missing file: datasets/thyroid_ultrasonic_image/batch1_image/dataset/70_017_183622.Jpg\n",
      "[SKIPPED] Missing file: datasets/thyroid_ultrasonic_image/batch1_image/dataset/70_018_183622.Jpg\n",
      "[SKIPPED] Missing file: datasets/thyroid_ultrasonic_image/batch1_image/dataset/70_019_183623.Jpg\n",
      "[SKIPPED] Missing file: datasets/thyroid_ultrasonic_image/batch1_image/dataset/70_020_183623.Jpg\n",
      "[WARNING] No valid images for patient: 70, skipping\n",
      "[SKIPPED] Missing file: datasets/thyroid_ultrasonic_image/batch1_image/dataset/71_001_104605.Jpg\n",
      "[SKIPPED] Missing file: datasets/thyroid_ultrasonic_image/batch1_image/dataset/71_002_104606.Jpg\n",
      "[SKIPPED] Missing file: datasets/thyroid_ultrasonic_image/batch1_image/dataset/71_003_104606.Jpg\n",
      "[WARNING] No valid images for patient: 71, skipping\n",
      "[SKIPPED] Missing file: datasets/thyroid_ultrasonic_image/batch1_image/dataset/72_018_174350.Jpg\n",
      "[SKIPPED] Missing file: datasets/thyroid_ultrasonic_image/batch1_image/dataset/72_019_174350.Jpg\n",
      "[SKIPPED] Missing file: datasets/thyroid_ultrasonic_image/batch1_image/dataset/72_020_174351.Jpg\n",
      "[SKIPPED] Missing file: datasets/thyroid_ultrasonic_image/batch1_image/dataset/72_021_174351.Jpg\n",
      "[SKIPPED] Missing file: datasets/thyroid_ultrasonic_image/batch1_image/dataset/72_022_174351.Jpg\n",
      "[SKIPPED] Missing file: datasets/thyroid_ultrasonic_image/batch1_image/dataset/72_023_174352.Jpg\n",
      "[SKIPPED] Missing file: datasets/thyroid_ultrasonic_image/batch1_image/dataset/72_024_174352.Jpg\n",
      "[SKIPPED] Missing file: datasets/thyroid_ultrasonic_image/batch1_image/dataset/72_025_174353.Jpg\n",
      "[SKIPPED] Missing file: datasets/thyroid_ultrasonic_image/batch1_image/dataset/72_026_174353.Jpg\n",
      "[SKIPPED] Missing file: datasets/thyroid_ultrasonic_image/batch1_image/dataset/72_027_174353.Jpg\n",
      "[SKIPPED] Missing file: datasets/thyroid_ultrasonic_image/batch1_image/dataset/72_028_174354.Jpg\n",
      "[SKIPPED] Missing file: datasets/thyroid_ultrasonic_image/batch1_image/dataset/72_029_174354.Jpg\n",
      "[WARNING] No valid images for patient: 72, skipping\n",
      "[SKIPPED] Missing file: datasets/thyroid_ultrasonic_image/batch1_image/dataset/73_012_181238.Jpg\n",
      "[SKIPPED] Missing file: datasets/thyroid_ultrasonic_image/batch1_image/dataset/73_013_181239.Jpg\n",
      "[SKIPPED] Missing file: datasets/thyroid_ultrasonic_image/batch1_image/dataset/73_014_181239.Jpg\n",
      "[SKIPPED] Missing file: datasets/thyroid_ultrasonic_image/batch1_image/dataset/73_015_181239.Jpg\n",
      "[SKIPPED] Missing file: datasets/thyroid_ultrasonic_image/batch1_image/dataset/73_016_181239.Jpg\n",
      "[SKIPPED] Missing file: datasets/thyroid_ultrasonic_image/batch1_image/dataset/73_017_181239.Jpg\n",
      "[SKIPPED] Missing file: datasets/thyroid_ultrasonic_image/batch1_image/dataset/73_018_181240.Jpg\n",
      "[SKIPPED] Missing file: datasets/thyroid_ultrasonic_image/batch1_image/dataset/73_019_181240.Jpg\n",
      "[SKIPPED] Missing file: datasets/thyroid_ultrasonic_image/batch1_image/dataset/73_020_181240.Jpg\n",
      "[SKIPPED] Missing file: datasets/thyroid_ultrasonic_image/batch1_image/dataset/73_021_181240.Jpg\n",
      "[SKIPPED] Missing file: datasets/thyroid_ultrasonic_image/batch1_image/dataset/73_022_181240.Jpg\n",
      "[SKIPPED] Missing file: datasets/thyroid_ultrasonic_image/batch1_image/dataset/73_023_181241.Jpg\n",
      "[WARNING] No valid images for patient: 73, skipping\n",
      "[SKIPPED] Missing file: datasets/thyroid_ultrasonic_image/batch1_image/dataset/74_001_183652.Jpg\n",
      "[SKIPPED] Missing file: datasets/thyroid_ultrasonic_image/batch1_image/dataset/74_002_183652.Jpg\n",
      "[SKIPPED] Missing file: datasets/thyroid_ultrasonic_image/batch1_image/dataset/74_003_183652.Jpg\n",
      "[SKIPPED] Missing file: datasets/thyroid_ultrasonic_image/batch1_image/dataset/74_004_183653.Jpg\n",
      "[SKIPPED] Missing file: datasets/thyroid_ultrasonic_image/batch1_image/dataset/74_005_183653.Jpg\n",
      "[SKIPPED] Missing file: datasets/thyroid_ultrasonic_image/batch1_image/dataset/74_006_183653.Jpg\n",
      "[SKIPPED] Missing file: datasets/thyroid_ultrasonic_image/batch1_image/dataset/74_007_183653.Jpg\n",
      "[SKIPPED] Missing file: datasets/thyroid_ultrasonic_image/batch1_image/dataset/74_008_183653.Jpg\n",
      "[SKIPPED] Missing file: datasets/thyroid_ultrasonic_image/batch1_image/dataset/74_009_183654.Jpg\n",
      "[SKIPPED] Missing file: datasets/thyroid_ultrasonic_image/batch1_image/dataset/74_010_183654.Jpg\n",
      "[SKIPPED] Missing file: datasets/thyroid_ultrasonic_image/batch1_image/dataset/74_011_183654.Jpg\n",
      "[SKIPPED] Missing file: datasets/thyroid_ultrasonic_image/batch1_image/dataset/74_012_183654.Jpg\n",
      "[SKIPPED] Missing file: datasets/thyroid_ultrasonic_image/batch1_image/dataset/74_013_183654.Jpg\n",
      "[SKIPPED] Missing file: datasets/thyroid_ultrasonic_image/batch1_image/dataset/74_014_183655.Jpg\n",
      "[WARNING] No valid images for patient: 74, skipping\n",
      "[SKIPPED] Missing file: datasets/thyroid_ultrasonic_image/batch1_image/dataset/75_024_174525.Jpg\n",
      "[SKIPPED] Missing file: datasets/thyroid_ultrasonic_image/batch1_image/dataset/75_025_174526.Jpg\n",
      "[SKIPPED] Missing file: datasets/thyroid_ultrasonic_image/batch1_image/dataset/75_026_174526.Jpg\n",
      "[SKIPPED] Missing file: datasets/thyroid_ultrasonic_image/batch1_image/dataset/75_027_174526.Jpg\n",
      "[WARNING] No valid images for patient: 75, skipping\n",
      "[SKIPPED] Missing file: datasets/thyroid_ultrasonic_image/batch1_image/dataset/76_014_182656.Jpg\n"
     ]
    },
    {
     "name": "stderr",
     "output_type": "stream",
     "text": [
      "Extracting patient features:  38%|███▊      | 91/241 [00:01<00:01, 92.08it/s]"
     ]
    },
    {
     "name": "stdout",
     "output_type": "stream",
     "text": [
      "[SKIPPED] Missing file: datasets/thyroid_ultrasonic_image/batch1_image/dataset/76_015_182656.Jpg\n",
      "[SKIPPED] Missing file: datasets/thyroid_ultrasonic_image/batch1_image/dataset/76_016_182657.Jpg\n",
      "[SKIPPED] Missing file: datasets/thyroid_ultrasonic_image/batch1_image/dataset/76_017_182657.Jpg\n",
      "[SKIPPED] Missing file: datasets/thyroid_ultrasonic_image/batch1_image/dataset/76_018_182657.Jpg\n",
      "[SKIPPED] Missing file: datasets/thyroid_ultrasonic_image/batch1_image/dataset/76_019_182657.Jpg\n",
      "[SKIPPED] Missing file: datasets/thyroid_ultrasonic_image/batch1_image/dataset/76_020_182658.Jpg\n",
      "[WARNING] No valid images for patient: 76, skipping\n",
      "[SKIPPED] Missing file: datasets/thyroid_ultrasonic_image/batch1_image/dataset/77_001_180507.Jpg\n",
      "[SKIPPED] Missing file: datasets/thyroid_ultrasonic_image/batch1_image/dataset/77_002_180507.Jpg\n",
      "[SKIPPED] Missing file: datasets/thyroid_ultrasonic_image/batch1_image/dataset/77_003_180507.Jpg\n",
      "[SKIPPED] Missing file: datasets/thyroid_ultrasonic_image/batch1_image/dataset/77_004_180507.Jpg\n",
      "[SKIPPED] Missing file: datasets/thyroid_ultrasonic_image/batch1_image/dataset/77_005_180508.Jpg\n",
      "[SKIPPED] Missing file: datasets/thyroid_ultrasonic_image/batch1_image/dataset/77_006_180508.Jpg\n",
      "[SKIPPED] Missing file: datasets/thyroid_ultrasonic_image/batch1_image/dataset/77_007_180508.Jpg\n",
      "[SKIPPED] Missing file: datasets/thyroid_ultrasonic_image/batch1_image/dataset/77_008_180508.Jpg\n",
      "[SKIPPED] Missing file: datasets/thyroid_ultrasonic_image/batch1_image/dataset/77_009_180508.Jpg\n",
      "[SKIPPED] Missing file: datasets/thyroid_ultrasonic_image/batch1_image/dataset/77_010_180509.Jpg\n",
      "[WARNING] No valid images for patient: 77, skipping\n",
      "[SKIPPED] Missing file: datasets/thyroid_ultrasonic_image/batch1_image/dataset/78_001_181307.Jpg\n",
      "[SKIPPED] Missing file: datasets/thyroid_ultrasonic_image/batch1_image/dataset/78_002_181307.Jpg\n",
      "[SKIPPED] Missing file: datasets/thyroid_ultrasonic_image/batch1_image/dataset/78_003_181308.Jpg\n",
      "[SKIPPED] Missing file: datasets/thyroid_ultrasonic_image/batch1_image/dataset/78_004_181308.Jpg\n",
      "[SKIPPED] Missing file: datasets/thyroid_ultrasonic_image/batch1_image/dataset/78_005_181308.Jpg\n",
      "[SKIPPED] Missing file: datasets/thyroid_ultrasonic_image/batch1_image/dataset/78_006_181309.Jpg\n",
      "[SKIPPED] Missing file: datasets/thyroid_ultrasonic_image/batch1_image/dataset/78_007_181309.Jpg\n",
      "[SKIPPED] Missing file: datasets/thyroid_ultrasonic_image/batch1_image/dataset/78_008_181309.Jpg\n",
      "[SKIPPED] Missing file: datasets/thyroid_ultrasonic_image/batch1_image/dataset/78_009_181310.Jpg\n",
      "[SKIPPED] Missing file: datasets/thyroid_ultrasonic_image/batch1_image/dataset/78_010_181310.Jpg\n",
      "[SKIPPED] Missing file: datasets/thyroid_ultrasonic_image/batch1_image/dataset/78_011_181310.Jpg\n",
      "[SKIPPED] Missing file: datasets/thyroid_ultrasonic_image/batch1_image/dataset/78_012_181310.Jpg\n",
      "[SKIPPED] Missing file: datasets/thyroid_ultrasonic_image/batch1_image/dataset/78_013_181311.Jpg\n",
      "[SKIPPED] Missing file: datasets/thyroid_ultrasonic_image/batch1_image/dataset/78_014_181311.Jpg\n",
      "[SKIPPED] Missing file: datasets/thyroid_ultrasonic_image/batch1_image/dataset/78_015_181311.Jpg\n",
      "[WARNING] No valid images for patient: 78, skipping\n",
      "[SKIPPED] Missing file: datasets/thyroid_ultrasonic_image/batch1_image/dataset/79_001_103531.Jpg\n",
      "[SKIPPED] Missing file: datasets/thyroid_ultrasonic_image/batch1_image/dataset/79_002_103532.Jpg\n",
      "[SKIPPED] Missing file: datasets/thyroid_ultrasonic_image/batch1_image/dataset/79_003_103532.Jpg\n",
      "[SKIPPED] Missing file: datasets/thyroid_ultrasonic_image/batch1_image/dataset/79_004_103532.Jpg\n",
      "[SKIPPED] Missing file: datasets/thyroid_ultrasonic_image/batch1_image/dataset/79_005_103533.Jpg\n",
      "[SKIPPED] Missing file: datasets/thyroid_ultrasonic_image/batch1_image/dataset/79_006_103533.Jpg\n",
      "[WARNING] No valid images for patient: 79, skipping\n",
      "[SKIPPED] Missing file: datasets/thyroid_ultrasonic_image/batch1_image/dataset/80_001_104006.Jpg\n",
      "[SKIPPED] Missing file: datasets/thyroid_ultrasonic_image/batch1_image/dataset/80_002_104006.Jpg\n",
      "[SKIPPED] Missing file: datasets/thyroid_ultrasonic_image/batch1_image/dataset/80_003_104006.Jpg\n",
      "[SKIPPED] Missing file: datasets/thyroid_ultrasonic_image/batch1_image/dataset/80_004_104006.Jpg\n",
      "[SKIPPED] Missing file: datasets/thyroid_ultrasonic_image/batch1_image/dataset/80_005_104006.Jpg\n",
      "[WARNING] No valid images for patient: 80, skipping\n",
      "[SKIPPED] Missing file: datasets/thyroid_ultrasonic_image/batch1_image/dataset/81_001_134633.Jpg\n",
      "[SKIPPED] Missing file: datasets/thyroid_ultrasonic_image/batch1_image/dataset/81_002_134633.Jpg\n",
      "[SKIPPED] Missing file: datasets/thyroid_ultrasonic_image/batch1_image/dataset/81_003_134633.Jpg\n",
      "[SKIPPED] Missing file: datasets/thyroid_ultrasonic_image/batch1_image/dataset/81_004_134634.Jpg\n",
      "[SKIPPED] Missing file: datasets/thyroid_ultrasonic_image/batch1_image/dataset/81_005_134634.Jpg\n",
      "[SKIPPED] Missing file: datasets/thyroid_ultrasonic_image/batch1_image/dataset/81_006_134634.Jpg\n",
      "[SKIPPED] Missing file: datasets/thyroid_ultrasonic_image/batch1_image/dataset/81_007_134635.Jpg\n",
      "[SKIPPED] Missing file: datasets/thyroid_ultrasonic_image/batch1_image/dataset/81_008_134635.Jpg\n",
      "[SKIPPED] Missing file: datasets/thyroid_ultrasonic_image/batch1_image/dataset/81_009_134635.Jpg\n",
      "[SKIPPED] Missing file: datasets/thyroid_ultrasonic_image/batch1_image/dataset/81_010_134636.Jpg\n",
      "[SKIPPED] Missing file: datasets/thyroid_ultrasonic_image/batch1_image/dataset/81_011_134636.Jpg\n",
      "[SKIPPED] Missing file: datasets/thyroid_ultrasonic_image/batch1_image/dataset/81_012_134636.Jpg\n",
      "[SKIPPED] Missing file: datasets/thyroid_ultrasonic_image/batch1_image/dataset/81_013_134636.Jpg\n",
      "[WARNING] No valid images for patient: 81, skipping\n",
      "[SKIPPED] Missing file: datasets/thyroid_ultrasonic_image/batch1_image/dataset/82_001_174047.Jpg\n",
      "[SKIPPED] Missing file: datasets/thyroid_ultrasonic_image/batch1_image/dataset/82_002_174047.Jpg\n",
      "[SKIPPED] Missing file: datasets/thyroid_ultrasonic_image/batch1_image/dataset/82_003_174047.Jpg\n",
      "[SKIPPED] Missing file: datasets/thyroid_ultrasonic_image/batch1_image/dataset/82_004_174048.Jpg\n",
      "[SKIPPED] Missing file: datasets/thyroid_ultrasonic_image/batch1_image/dataset/82_005_174048.Jpg\n",
      "[SKIPPED] Missing file: datasets/thyroid_ultrasonic_image/batch1_image/dataset/82_006_174048.Jpg\n",
      "[SKIPPED] Missing file: datasets/thyroid_ultrasonic_image/batch1_image/dataset/82_007_174048.Jpg\n",
      "[SKIPPED] Missing file: datasets/thyroid_ultrasonic_image/batch1_image/dataset/82_008_174048.Jpg\n",
      "[SKIPPED] Missing file: datasets/thyroid_ultrasonic_image/batch1_image/dataset/82_009_174049.Jpg\n",
      "[SKIPPED] Missing file: datasets/thyroid_ultrasonic_image/batch1_image/dataset/82_010_174049.Jpg\n",
      "[SKIPPED] Missing file: datasets/thyroid_ultrasonic_image/batch1_image/dataset/82_011_174049.Jpg\n",
      "[SKIPPED] Missing file: datasets/thyroid_ultrasonic_image/batch1_image/dataset/82_012_174049.Jpg\n",
      "[SKIPPED] Missing file: datasets/thyroid_ultrasonic_image/batch1_image/dataset/82_013_174049.Jpg\n",
      "[SKIPPED] Missing file: datasets/thyroid_ultrasonic_image/batch1_image/dataset/82_014_174050.Jpg\n",
      "[SKIPPED] Missing file: datasets/thyroid_ultrasonic_image/batch1_image/dataset/82_015_174050.Jpg\n",
      "[WARNING] No valid images for patient: 82, skipping\n",
      "[SKIPPED] Missing file: datasets/thyroid_ultrasonic_image/batch1_image/dataset/83_035_181151.Jpg\n",
      "[SKIPPED] Missing file: datasets/thyroid_ultrasonic_image/batch1_image/dataset/83_036_181152.Jpg\n",
      "[SKIPPED] Missing file: datasets/thyroid_ultrasonic_image/batch1_image/dataset/83_037_181152.Jpg\n",
      "[SKIPPED] Missing file: datasets/thyroid_ultrasonic_image/batch1_image/dataset/83_038_181152.Jpg\n",
      "[SKIPPED] Missing file: datasets/thyroid_ultrasonic_image/batch1_image/dataset/83_039_181153.Jpg\n",
      "[SKIPPED] Missing file: datasets/thyroid_ultrasonic_image/batch1_image/dataset/83_040_181153.Jpg\n",
      "[SKIPPED] Missing file: datasets/thyroid_ultrasonic_image/batch1_image/dataset/83_041_181153.Jpg\n",
      "[SKIPPED] Missing file: datasets/thyroid_ultrasonic_image/batch1_image/dataset/83_042_181154.Jpg\n",
      "[SKIPPED] Missing file: datasets/thyroid_ultrasonic_image/batch1_image/dataset/83_043_181154.Jpg\n",
      "[SKIPPED] Missing file: datasets/thyroid_ultrasonic_image/batch1_image/dataset/83_044_181154.Jpg\n",
      "[SKIPPED] Missing file: datasets/thyroid_ultrasonic_image/batch1_image/dataset/83_045_181155.Jpg\n",
      "[SKIPPED] Missing file: datasets/thyroid_ultrasonic_image/batch1_image/dataset/83_046_181155.Jpg\n",
      "[SKIPPED] Missing file: datasets/thyroid_ultrasonic_image/batch1_image/dataset/83_047_181155.Jpg\n",
      "[SKIPPED] Missing file: datasets/thyroid_ultrasonic_image/batch1_image/dataset/83_048_181156.Jpg\n",
      "[SKIPPED] Missing file: datasets/thyroid_ultrasonic_image/batch1_image/dataset/83_049_181156.Jpg\n",
      "[WARNING] No valid images for patient: 83, skipping\n",
      "[SKIPPED] Missing file: datasets/thyroid_ultrasonic_image/batch1_image/dataset/84_001_134657.Jpg\n",
      "[SKIPPED] Missing file: datasets/thyroid_ultrasonic_image/batch1_image/dataset/84_002_134657.Jpg\n",
      "[SKIPPED] Missing file: datasets/thyroid_ultrasonic_image/batch1_image/dataset/84_003_134658.Jpg\n",
      "[SKIPPED] Missing file: datasets/thyroid_ultrasonic_image/batch1_image/dataset/84_004_134658.Jpg\n",
      "[SKIPPED] Missing file: datasets/thyroid_ultrasonic_image/batch1_image/dataset/84_005_134658.Jpg\n",
      "[SKIPPED] Missing file: datasets/thyroid_ultrasonic_image/batch1_image/dataset/84_006_134659.Jpg\n",
      "[WARNING] No valid images for patient: 84, skipping\n",
      "[SKIPPED] Missing file: datasets/thyroid_ultrasonic_image/batch1_image/dataset/85_001_135009.Jpg\n",
      "[SKIPPED] Missing file: datasets/thyroid_ultrasonic_image/batch1_image/dataset/85_002_135009.Jpg\n",
      "[SKIPPED] Missing file: datasets/thyroid_ultrasonic_image/batch1_image/dataset/85_003_135009.Jpg\n",
      "[SKIPPED] Missing file: datasets/thyroid_ultrasonic_image/batch1_image/dataset/85_004_135009.Jpg\n",
      "[SKIPPED] Missing file: datasets/thyroid_ultrasonic_image/batch1_image/dataset/85_005_135009.Jpg\n",
      "[SKIPPED] Missing file: datasets/thyroid_ultrasonic_image/batch1_image/dataset/85_006_135010.Jpg\n",
      "[SKIPPED] Missing file: datasets/thyroid_ultrasonic_image/batch1_image/dataset/85_007_135010.Jpg\n",
      "[SKIPPED] Missing file: datasets/thyroid_ultrasonic_image/batch1_image/dataset/85_008_135010.Jpg\n",
      "[SKIPPED] Missing file: datasets/thyroid_ultrasonic_image/batch1_image/dataset/85_009_135010.Jpg\n",
      "[SKIPPED] Missing file: datasets/thyroid_ultrasonic_image/batch1_image/dataset/85_010_135011.Jpg\n",
      "[SKIPPED] Missing file: datasets/thyroid_ultrasonic_image/batch1_image/dataset/85_011_135011.Jpg\n",
      "[SKIPPED] Missing file: datasets/thyroid_ultrasonic_image/batch1_image/dataset/85_012_135011.Jpg\n",
      "[WARNING] No valid images for patient: 85, skipping\n",
      "[SKIPPED] Missing file: datasets/thyroid_ultrasonic_image/batch1_image/dataset/86_001_105242.Jpg\n",
      "[SKIPPED] Missing file: datasets/thyroid_ultrasonic_image/batch1_image/dataset/86_002_105242.Jpg\n",
      "[SKIPPED] Missing file: datasets/thyroid_ultrasonic_image/batch1_image/dataset/86_003_105242.Jpg\n",
      "[SKIPPED] Missing file: datasets/thyroid_ultrasonic_image/batch1_image/dataset/86_004_105243.Jpg\n",
      "[SKIPPED] Missing file: datasets/thyroid_ultrasonic_image/batch1_image/dataset/86_005_105243.Jpg\n",
      "[SKIPPED] Missing file: datasets/thyroid_ultrasonic_image/batch1_image/dataset/86_006_105243.Jpg\n",
      "[SKIPPED] Missing file: datasets/thyroid_ultrasonic_image/batch1_image/dataset/86_007_105243.Jpg\n",
      "[SKIPPED] Missing file: datasets/thyroid_ultrasonic_image/batch1_image/dataset/86_008_105243.Jpg\n",
      "[SKIPPED] Missing file: datasets/thyroid_ultrasonic_image/batch1_image/dataset/86_009_105243.Jpg\n",
      "[SKIPPED] Missing file: datasets/thyroid_ultrasonic_image/batch1_image/dataset/86_010_105244.Jpg\n",
      "[SKIPPED] Missing file: datasets/thyroid_ultrasonic_image/batch1_image/dataset/86_011_105244.Jpg\n",
      "[WARNING] No valid images for patient: 86, skipping\n",
      "[SKIPPED] Missing file: datasets/thyroid_ultrasonic_image/batch1_image/dataset/87_001_182237.Jpg\n",
      "[SKIPPED] Missing file: datasets/thyroid_ultrasonic_image/batch1_image/dataset/87_002_182238.Jpg\n",
      "[SKIPPED] Missing file: datasets/thyroid_ultrasonic_image/batch1_image/dataset/87_003_182238.Jpg\n",
      "[SKIPPED] Missing file: datasets/thyroid_ultrasonic_image/batch1_image/dataset/87_004_182238.Jpg\n",
      "[SKIPPED] Missing file: datasets/thyroid_ultrasonic_image/batch1_image/dataset/87_005_182239.Jpg\n",
      "[SKIPPED] Missing file: datasets/thyroid_ultrasonic_image/batch1_image/dataset/87_006_182239.Jpg\n",
      "[SKIPPED] Missing file: datasets/thyroid_ultrasonic_image/batch1_image/dataset/87_007_182239.Jpg\n",
      "[SKIPPED] Missing file: datasets/thyroid_ultrasonic_image/batch1_image/dataset/87_008_182240.Jpg\n",
      "[SKIPPED] Missing file: datasets/thyroid_ultrasonic_image/batch1_image/dataset/87_009_182240.Jpg\n",
      "[SKIPPED] Missing file: datasets/thyroid_ultrasonic_image/batch1_image/dataset/87_010_182240.Jpg\n",
      "[WARNING] No valid images for patient: 87, skipping\n",
      "[SKIPPED] Missing file: datasets/thyroid_ultrasonic_image/batch1_image/dataset/88_001_181439.Jpg\n",
      "[SKIPPED] Missing file: datasets/thyroid_ultrasonic_image/batch1_image/dataset/88_002_181440.Jpg\n",
      "[SKIPPED] Missing file: datasets/thyroid_ultrasonic_image/batch1_image/dataset/88_003_181440.Jpg\n",
      "[SKIPPED] Missing file: datasets/thyroid_ultrasonic_image/batch1_image/dataset/88_004_181440.Jpg\n",
      "[SKIPPED] Missing file: datasets/thyroid_ultrasonic_image/batch1_image/dataset/88_005_181440.Jpg\n",
      "[SKIPPED] Missing file: datasets/thyroid_ultrasonic_image/batch1_image/dataset/88_006_181440.Jpg\n",
      "[SKIPPED] Missing file: datasets/thyroid_ultrasonic_image/batch1_image/dataset/88_007_181440.Jpg\n",
      "[SKIPPED] Missing file: datasets/thyroid_ultrasonic_image/batch1_image/dataset/88_008_181440.Jpg\n",
      "[SKIPPED] Missing file: datasets/thyroid_ultrasonic_image/batch1_image/dataset/88_009_181441.Jpg\n",
      "[SKIPPED] Missing file: datasets/thyroid_ultrasonic_image/batch1_image/dataset/88_010_181441.Jpg\n",
      "[SKIPPED] Missing file: datasets/thyroid_ultrasonic_image/batch1_image/dataset/88_011_181441.Jpg\n",
      "[WARNING] No valid images for patient: 88, skipping\n",
      "[SKIPPED] Missing file: datasets/thyroid_ultrasonic_image/batch1_image/dataset/89_001_174311.Jpg\n",
      "[SKIPPED] Missing file: datasets/thyroid_ultrasonic_image/batch1_image/dataset/89_002_174311.Jpg\n",
      "[SKIPPED] Missing file: datasets/thyroid_ultrasonic_image/batch1_image/dataset/89_003_174311.Jpg\n",
      "[SKIPPED] Missing file: datasets/thyroid_ultrasonic_image/batch1_image/dataset/89_004_174312.Jpg\n",
      "[SKIPPED] Missing file: datasets/thyroid_ultrasonic_image/batch1_image/dataset/89_005_174312.Jpg\n",
      "[SKIPPED] Missing file: datasets/thyroid_ultrasonic_image/batch1_image/dataset/89_006_174312.Jpg\n",
      "[SKIPPED] Missing file: datasets/thyroid_ultrasonic_image/batch1_image/dataset/89_007_174312.Jpg\n",
      "[WARNING] No valid images for patient: 89, skipping\n",
      "[SKIPPED] Missing file: datasets/thyroid_ultrasonic_image/batch1_image/dataset/90_001_175839.Jpg\n",
      "[SKIPPED] Missing file: datasets/thyroid_ultrasonic_image/batch1_image/dataset/90_002_175839.Jpg\n",
      "[SKIPPED] Missing file: datasets/thyroid_ultrasonic_image/batch1_image/dataset/90_003_175839.Jpg\n",
      "[SKIPPED] Missing file: datasets/thyroid_ultrasonic_image/batch1_image/dataset/90_004_175840.Jpg\n",
      "[SKIPPED] Missing file: datasets/thyroid_ultrasonic_image/batch1_image/dataset/90_005_175840.Jpg\n",
      "[SKIPPED] Missing file: datasets/thyroid_ultrasonic_image/batch1_image/dataset/90_006_175840.Jpg\n",
      "[SKIPPED] Missing file: datasets/thyroid_ultrasonic_image/batch1_image/dataset/90_007_175841.Jpg\n",
      "[SKIPPED] Missing file: datasets/thyroid_ultrasonic_image/batch1_image/dataset/90_008_175841.Jpg\n",
      "[SKIPPED] Missing file: datasets/thyroid_ultrasonic_image/batch1_image/dataset/90_009_175841.Jpg\n",
      "[SKIPPED] Missing file: datasets/thyroid_ultrasonic_image/batch1_image/dataset/90_010_175842.Jpg\n",
      "[SKIPPED] Missing file: datasets/thyroid_ultrasonic_image/batch1_image/dataset/90_011_175842.Jpg\n",
      "[SKIPPED] Missing file: datasets/thyroid_ultrasonic_image/batch1_image/dataset/90_012_175842.Jpg\n",
      "[SKIPPED] Missing file: datasets/thyroid_ultrasonic_image/batch1_image/dataset/90_013_175843.Jpg\n",
      "[SKIPPED] Missing file: datasets/thyroid_ultrasonic_image/batch1_image/dataset/90_014_175843.Jpg\n",
      "[WARNING] No valid images for patient: 90, skipping\n",
      "[SKIPPED] Missing file: datasets/thyroid_ultrasonic_image/batch1_image/dataset/91_001_174412.Jpg\n",
      "[SKIPPED] Missing file: datasets/thyroid_ultrasonic_image/batch1_image/dataset/91_002_174413.Jpg\n",
      "[SKIPPED] Missing file: datasets/thyroid_ultrasonic_image/batch1_image/dataset/91_003_174413.Jpg\n",
      "[SKIPPED] Missing file: datasets/thyroid_ultrasonic_image/batch1_image/dataset/91_004_174413.Jpg\n",
      "[SKIPPED] Missing file: datasets/thyroid_ultrasonic_image/batch1_image/dataset/91_005_174413.Jpg\n",
      "[SKIPPED] Missing file: datasets/thyroid_ultrasonic_image/batch1_image/dataset/91_006_174414.Jpg\n",
      "[SKIPPED] Missing file: datasets/thyroid_ultrasonic_image/batch1_image/dataset/91_007_174414.Jpg\n",
      "[SKIPPED] Missing file: datasets/thyroid_ultrasonic_image/batch1_image/dataset/91_008_174414.Jpg\n",
      "[SKIPPED] Missing file: datasets/thyroid_ultrasonic_image/batch1_image/dataset/91_009_174414.Jpg\n",
      "[SKIPPED] Missing file: datasets/thyroid_ultrasonic_image/batch1_image/dataset/91_010_174415.Jpg\n",
      "[SKIPPED] Missing file: datasets/thyroid_ultrasonic_image/batch1_image/dataset/91_011_174415.Jpg\n",
      "[SKIPPED] Missing file: datasets/thyroid_ultrasonic_image/batch1_image/dataset/91_012_174415.Jpg\n",
      "[WARNING] No valid images for patient: 91, skipping\n",
      "[SKIPPED] Missing file: datasets/thyroid_ultrasonic_image/batch1_image/dataset/92_001_183637.Jpg\n",
      "[SKIPPED] Missing file: datasets/thyroid_ultrasonic_image/batch1_image/dataset/92_002_183637.Jpg\n",
      "[SKIPPED] Missing file: datasets/thyroid_ultrasonic_image/batch1_image/dataset/92_004_183637.Jpg\n",
      "[SKIPPED] Missing file: datasets/thyroid_ultrasonic_image/batch1_image/dataset/92_005_183637.Jpg\n",
      "[SKIPPED] Missing file: datasets/thyroid_ultrasonic_image/batch1_image/dataset/92_006_183638.Jpg\n",
      "[SKIPPED] Missing file: datasets/thyroid_ultrasonic_image/batch1_image/dataset/92_007_183638.Jpg\n",
      "[SKIPPED] Missing file: datasets/thyroid_ultrasonic_image/batch1_image/dataset/92_009_183638.Jpg\n",
      "[SKIPPED] Missing file: datasets/thyroid_ultrasonic_image/batch1_image/dataset/92_010_183638.Jpg\n",
      "[SKIPPED] Missing file: datasets/thyroid_ultrasonic_image/batch1_image/dataset/92_011_183639.Jpg\n",
      "[SKIPPED] Missing file: datasets/thyroid_ultrasonic_image/batch1_image/dataset/92_012_183639.Jpg\n",
      "[WARNING] No valid images for patient: 92, skipping\n",
      "[SKIPPED] Missing file: datasets/thyroid_ultrasonic_image/batch1_image/dataset/93_001_175733.Jpg\n",
      "[SKIPPED] Missing file: datasets/thyroid_ultrasonic_image/batch1_image/dataset/93_002_175733.Jpg\n",
      "[SKIPPED] Missing file: datasets/thyroid_ultrasonic_image/batch1_image/dataset/93_003_175734.Jpg\n",
      "[SKIPPED] Missing file: datasets/thyroid_ultrasonic_image/batch1_image/dataset/93_004_175734.Jpg\n",
      "[SKIPPED] Missing file: datasets/thyroid_ultrasonic_image/batch1_image/dataset/93_005_175734.Jpg\n",
      "[SKIPPED] Missing file: datasets/thyroid_ultrasonic_image/batch1_image/dataset/93_006_175734.Jpg\n"
     ]
    },
    {
     "name": "stderr",
     "output_type": "stream",
     "text": [
      "Extracting patient features:  46%|████▋     | 112/241 [00:01<00:01, 96.10it/s]"
     ]
    },
    {
     "name": "stdout",
     "output_type": "stream",
     "text": [
      "[SKIPPED] Missing file: datasets/thyroid_ultrasonic_image/batch1_image/dataset/93_007_175734.Jpg\n",
      "[SKIPPED] Missing file: datasets/thyroid_ultrasonic_image/batch1_image/dataset/93_008_175735.Jpg\n",
      "[SKIPPED] Missing file: datasets/thyroid_ultrasonic_image/batch1_image/dataset/93_009_175735.Jpg\n",
      "[SKIPPED] Missing file: datasets/thyroid_ultrasonic_image/batch1_image/dataset/93_010_175735.Jpg\n",
      "[WARNING] No valid images for patient: 93, skipping\n",
      "[SKIPPED] Missing file: datasets/thyroid_ultrasonic_image/batch1_image/dataset/94_001_112746.Jpg\n",
      "[SKIPPED] Missing file: datasets/thyroid_ultrasonic_image/batch1_image/dataset/94_002_112746.Jpg\n",
      "[SKIPPED] Missing file: datasets/thyroid_ultrasonic_image/batch1_image/dataset/94_003_112746.Jpg\n",
      "[SKIPPED] Missing file: datasets/thyroid_ultrasonic_image/batch1_image/dataset/94_004_112746.Jpg\n",
      "[SKIPPED] Missing file: datasets/thyroid_ultrasonic_image/batch1_image/dataset/94_005_112746.Jpg\n",
      "[SKIPPED] Missing file: datasets/thyroid_ultrasonic_image/batch1_image/dataset/94_007_112747.Jpg\n",
      "[SKIPPED] Missing file: datasets/thyroid_ultrasonic_image/batch1_image/dataset/94_009_112747.Jpg\n",
      "[WARNING] No valid images for patient: 94, skipping\n",
      "[SKIPPED] Missing file: datasets/thyroid_ultrasonic_image/batch1_image/dataset/95_001_180739.Jpg\n",
      "[SKIPPED] Missing file: datasets/thyroid_ultrasonic_image/batch1_image/dataset/95_002_180739.Jpg\n",
      "[SKIPPED] Missing file: datasets/thyroid_ultrasonic_image/batch1_image/dataset/95_003_180739.Jpg\n",
      "[SKIPPED] Missing file: datasets/thyroid_ultrasonic_image/batch1_image/dataset/95_004_180739.Jpg\n",
      "[SKIPPED] Missing file: datasets/thyroid_ultrasonic_image/batch1_image/dataset/95_005_180740.Jpg\n",
      "[SKIPPED] Missing file: datasets/thyroid_ultrasonic_image/batch1_image/dataset/95_006_180740.Jpg\n",
      "[SKIPPED] Missing file: datasets/thyroid_ultrasonic_image/batch1_image/dataset/95_007_180741.Jpg\n",
      "[SKIPPED] Missing file: datasets/thyroid_ultrasonic_image/batch1_image/dataset/95_008_180741.Jpg\n",
      "[SKIPPED] Missing file: datasets/thyroid_ultrasonic_image/batch1_image/dataset/95_009_180741.Jpg\n",
      "[SKIPPED] Missing file: datasets/thyroid_ultrasonic_image/batch1_image/dataset/95_010_180742.Jpg\n",
      "[SKIPPED] Missing file: datasets/thyroid_ultrasonic_image/batch1_image/dataset/95_011_180742.Jpg\n",
      "[SKIPPED] Missing file: datasets/thyroid_ultrasonic_image/batch1_image/dataset/95_012_180742.Jpg\n",
      "[SKIPPED] Missing file: datasets/thyroid_ultrasonic_image/batch1_image/dataset/95_013_180743.Jpg\n",
      "[WARNING] No valid images for patient: 95, skipping\n",
      "[SKIPPED] Missing file: datasets/thyroid_ultrasonic_image/batch1_image/dataset/96_001_135646.Jpg\n",
      "[SKIPPED] Missing file: datasets/thyroid_ultrasonic_image/batch1_image/dataset/96_002_135647.Jpg\n",
      "[SKIPPED] Missing file: datasets/thyroid_ultrasonic_image/batch1_image/dataset/96_003_135647.Jpg\n",
      "[SKIPPED] Missing file: datasets/thyroid_ultrasonic_image/batch1_image/dataset/96_004_135647.Jpg\n",
      "[SKIPPED] Missing file: datasets/thyroid_ultrasonic_image/batch1_image/dataset/96_005_135647.Jpg\n",
      "[SKIPPED] Missing file: datasets/thyroid_ultrasonic_image/batch1_image/dataset/96_006_135647.Jpg\n",
      "[SKIPPED] Missing file: datasets/thyroid_ultrasonic_image/batch1_image/dataset/96_007_135648.Jpg\n",
      "[SKIPPED] Missing file: datasets/thyroid_ultrasonic_image/batch1_image/dataset/96_008_135648.Jpg\n",
      "[SKIPPED] Missing file: datasets/thyroid_ultrasonic_image/batch1_image/dataset/96_009_135648.Jpg\n",
      "[SKIPPED] Missing file: datasets/thyroid_ultrasonic_image/batch1_image/dataset/96_010_135648.Jpg\n",
      "[SKIPPED] Missing file: datasets/thyroid_ultrasonic_image/batch1_image/dataset/96_011_135648.Jpg\n",
      "[WARNING] No valid images for patient: 96, skipping\n",
      "[SKIPPED] Missing file: datasets/thyroid_ultrasonic_image/batch1_image/dataset/97_001_134336.Jpg\n",
      "[SKIPPED] Missing file: datasets/thyroid_ultrasonic_image/batch1_image/dataset/97_002_134336.Jpg\n",
      "[SKIPPED] Missing file: datasets/thyroid_ultrasonic_image/batch1_image/dataset/97_003_134337.Jpg\n",
      "[SKIPPED] Missing file: datasets/thyroid_ultrasonic_image/batch1_image/dataset/97_004_134337.Jpg\n",
      "[SKIPPED] Missing file: datasets/thyroid_ultrasonic_image/batch1_image/dataset/97_005_134337.Jpg\n",
      "[SKIPPED] Missing file: datasets/thyroid_ultrasonic_image/batch1_image/dataset/97_006_134337.Jpg\n",
      "[SKIPPED] Missing file: datasets/thyroid_ultrasonic_image/batch1_image/dataset/97_007_134337.Jpg\n",
      "[SKIPPED] Missing file: datasets/thyroid_ultrasonic_image/batch1_image/dataset/97_011_134338.Jpg\n",
      "[SKIPPED] Missing file: datasets/thyroid_ultrasonic_image/batch1_image/dataset/97_012_134338.Jpg\n",
      "[WARNING] No valid images for patient: 97, skipping\n",
      "[SKIPPED] Missing file: datasets/thyroid_ultrasonic_image/batch1_image/dataset/98_006_134515.Jpg\n",
      "[SKIPPED] Missing file: datasets/thyroid_ultrasonic_image/batch1_image/dataset/98_008_134515.Jpg\n",
      "[SKIPPED] Missing file: datasets/thyroid_ultrasonic_image/batch1_image/dataset/98_009_134516.Jpg\n",
      "[WARNING] No valid images for patient: 98, skipping\n",
      "[SKIPPED] Missing file: datasets/thyroid_ultrasonic_image/batch1_image/dataset/99_001_181426.Jpg\n",
      "[SKIPPED] Missing file: datasets/thyroid_ultrasonic_image/batch1_image/dataset/99_002_181426.Jpg\n",
      "[SKIPPED] Missing file: datasets/thyroid_ultrasonic_image/batch1_image/dataset/99_003_181426.Jpg\n",
      "[SKIPPED] Missing file: datasets/thyroid_ultrasonic_image/batch1_image/dataset/99_004_181427.Jpg\n",
      "[SKIPPED] Missing file: datasets/thyroid_ultrasonic_image/batch1_image/dataset/99_005_181427.Jpg\n",
      "[SKIPPED] Missing file: datasets/thyroid_ultrasonic_image/batch1_image/dataset/99_006_181427.Jpg\n",
      "[SKIPPED] Missing file: datasets/thyroid_ultrasonic_image/batch1_image/dataset/99_007_181427.Jpg\n",
      "[SKIPPED] Missing file: datasets/thyroid_ultrasonic_image/batch1_image/dataset/99_008_181427.Jpg\n",
      "[WARNING] No valid images for patient: 99, skipping\n",
      "[SKIPPED] Missing file: datasets/thyroid_ultrasonic_image/batch1_image/dataset/100_001_181506.Jpg\n",
      "[SKIPPED] Missing file: datasets/thyroid_ultrasonic_image/batch1_image/dataset/100_002_181506.Jpg\n",
      "[SKIPPED] Missing file: datasets/thyroid_ultrasonic_image/batch1_image/dataset/100_003_181507.Jpg\n",
      "[SKIPPED] Missing file: datasets/thyroid_ultrasonic_image/batch1_image/dataset/100_004_181507.Jpg\n",
      "[SKIPPED] Missing file: datasets/thyroid_ultrasonic_image/batch1_image/dataset/100_005_181507.Jpg\n",
      "[SKIPPED] Missing file: datasets/thyroid_ultrasonic_image/batch1_image/dataset/100_006_181507.Jpg\n",
      "[SKIPPED] Missing file: datasets/thyroid_ultrasonic_image/batch1_image/dataset/100_007_181507.Jpg\n",
      "[SKIPPED] Missing file: datasets/thyroid_ultrasonic_image/batch1_image/dataset/100_008_181508.Jpg\n",
      "[SKIPPED] Missing file: datasets/thyroid_ultrasonic_image/batch1_image/dataset/100_009_181508.Jpg\n",
      "[SKIPPED] Missing file: datasets/thyroid_ultrasonic_image/batch1_image/dataset/100_010_181508.Jpg\n",
      "[SKIPPED] Missing file: datasets/thyroid_ultrasonic_image/batch1_image/dataset/100_011_181508.Jpg\n",
      "[SKIPPED] Missing file: datasets/thyroid_ultrasonic_image/batch1_image/dataset/100_012_181508.Jpg\n",
      "[SKIPPED] Missing file: datasets/thyroid_ultrasonic_image/batch1_image/dataset/100_013_181509.Jpg\n",
      "[SKIPPED] Missing file: datasets/thyroid_ultrasonic_image/batch1_image/dataset/100_014_181509.Jpg\n",
      "[WARNING] No valid images for patient: 100, skipping\n",
      "[SKIPPED] Missing file: datasets/thyroid_ultrasonic_image/batch1_image/dataset/101_001_181103.Jpg\n",
      "[SKIPPED] Missing file: datasets/thyroid_ultrasonic_image/batch1_image/dataset/101_002_181104.Jpg\n",
      "[SKIPPED] Missing file: datasets/thyroid_ultrasonic_image/batch1_image/dataset/101_003_181104.Jpg\n",
      "[SKIPPED] Missing file: datasets/thyroid_ultrasonic_image/batch1_image/dataset/101_004_181104.Jpg\n",
      "[SKIPPED] Missing file: datasets/thyroid_ultrasonic_image/batch1_image/dataset/101_005_181105.Jpg\n",
      "[SKIPPED] Missing file: datasets/thyroid_ultrasonic_image/batch1_image/dataset/101_006_181105.Jpg\n",
      "[SKIPPED] Missing file: datasets/thyroid_ultrasonic_image/batch1_image/dataset/101_007_181105.Jpg\n",
      "[SKIPPED] Missing file: datasets/thyroid_ultrasonic_image/batch1_image/dataset/101_008_181106.Jpg\n",
      "[SKIPPED] Missing file: datasets/thyroid_ultrasonic_image/batch1_image/dataset/101_009_181106.Jpg\n",
      "[SKIPPED] Missing file: datasets/thyroid_ultrasonic_image/batch1_image/dataset/101_010_181106.Jpg\n",
      "[SKIPPED] Missing file: datasets/thyroid_ultrasonic_image/batch1_image/dataset/101_011_181106.Jpg\n",
      "[WARNING] No valid images for patient: 101, skipping\n",
      "[SKIPPED] Missing file: datasets/thyroid_ultrasonic_image/batch1_image/dataset/102_001_181653.Jpg\n",
      "[SKIPPED] Missing file: datasets/thyroid_ultrasonic_image/batch1_image/dataset/102_002_181653.Jpg\n",
      "[SKIPPED] Missing file: datasets/thyroid_ultrasonic_image/batch1_image/dataset/102_003_181654.Jpg\n",
      "[SKIPPED] Missing file: datasets/thyroid_ultrasonic_image/batch1_image/dataset/102_004_181654.Jpg\n",
      "[SKIPPED] Missing file: datasets/thyroid_ultrasonic_image/batch1_image/dataset/102_005_181654.Jpg\n",
      "[SKIPPED] Missing file: datasets/thyroid_ultrasonic_image/batch1_image/dataset/102_006_181654.Jpg\n",
      "[SKIPPED] Missing file: datasets/thyroid_ultrasonic_image/batch1_image/dataset/102_007_181655.Jpg\n",
      "[WARNING] No valid images for patient: 102, skipping\n",
      "[SKIPPED] Missing file: datasets/thyroid_ultrasonic_image/batch1_image/dataset/103_001_181721.Jpg\n",
      "[SKIPPED] Missing file: datasets/thyroid_ultrasonic_image/batch1_image/dataset/103_002_181722.Jpg\n",
      "[SKIPPED] Missing file: datasets/thyroid_ultrasonic_image/batch1_image/dataset/103_003_181722.Jpg\n",
      "[SKIPPED] Missing file: datasets/thyroid_ultrasonic_image/batch1_image/dataset/103_004_181722.Jpg\n",
      "[SKIPPED] Missing file: datasets/thyroid_ultrasonic_image/batch1_image/dataset/103_005_181723.Jpg\n",
      "[WARNING] No valid images for patient: 103, skipping\n",
      "[SKIPPED] Missing file: datasets/thyroid_ultrasonic_image/batch1_image/dataset/104_001_112729.Jpg\n",
      "[SKIPPED] Missing file: datasets/thyroid_ultrasonic_image/batch1_image/dataset/104_002_112729.Jpg\n",
      "[SKIPPED] Missing file: datasets/thyroid_ultrasonic_image/batch1_image/dataset/104_003_112729.Jpg\n",
      "[SKIPPED] Missing file: datasets/thyroid_ultrasonic_image/batch1_image/dataset/104_004_112729.Jpg\n",
      "[SKIPPED] Missing file: datasets/thyroid_ultrasonic_image/batch1_image/dataset/104_005_112730.Jpg\n",
      "[SKIPPED] Missing file: datasets/thyroid_ultrasonic_image/batch1_image/dataset/104_006_112730.Jpg\n",
      "[SKIPPED] Missing file: datasets/thyroid_ultrasonic_image/batch1_image/dataset/104_007_112730.Jpg\n",
      "[WARNING] No valid images for patient: 104, skipping\n",
      "[SKIPPED] Missing file: datasets/thyroid_ultrasonic_image/batch1_image/dataset/105_001_175657.Jpg\n",
      "[SKIPPED] Missing file: datasets/thyroid_ultrasonic_image/batch1_image/dataset/105_002_175657.Jpg\n",
      "[SKIPPED] Missing file: datasets/thyroid_ultrasonic_image/batch1_image/dataset/105_003_175658.Jpg\n",
      "[SKIPPED] Missing file: datasets/thyroid_ultrasonic_image/batch1_image/dataset/105_004_175658.Jpg\n",
      "[SKIPPED] Missing file: datasets/thyroid_ultrasonic_image/batch1_image/dataset/105_005_175658.Jpg\n",
      "[SKIPPED] Missing file: datasets/thyroid_ultrasonic_image/batch1_image/dataset/105_006_175658.Jpg\n",
      "[SKIPPED] Missing file: datasets/thyroid_ultrasonic_image/batch1_image/dataset/105_007_175658.Jpg\n",
      "[SKIPPED] Missing file: datasets/thyroid_ultrasonic_image/batch1_image/dataset/105_008_175659.Jpg\n",
      "[SKIPPED] Missing file: datasets/thyroid_ultrasonic_image/batch1_image/dataset/105_009_175659.Jpg\n",
      "[SKIPPED] Missing file: datasets/thyroid_ultrasonic_image/batch1_image/dataset/105_010_175659.Jpg\n",
      "[WARNING] No valid images for patient: 105, skipping\n",
      "[SKIPPED] Missing file: datasets/thyroid_ultrasonic_image/batch1_image/dataset/106_026_192925.Jpg\n",
      "[SKIPPED] Missing file: datasets/thyroid_ultrasonic_image/batch1_image/dataset/106_027_192926.Jpg\n",
      "[SKIPPED] Missing file: datasets/thyroid_ultrasonic_image/batch1_image/dataset/106_028_192926.Jpg\n",
      "[SKIPPED] Missing file: datasets/thyroid_ultrasonic_image/batch1_image/dataset/106_029_192926.Jpg\n",
      "[WARNING] No valid images for patient: 106, skipping\n",
      "[SKIPPED] Missing file: datasets/thyroid_ultrasonic_image/batch1_image/dataset/107_001_180513.Jpg\n",
      "[SKIPPED] Missing file: datasets/thyroid_ultrasonic_image/batch1_image/dataset/107_002_180513.Jpg\n",
      "[SKIPPED] Missing file: datasets/thyroid_ultrasonic_image/batch1_image/dataset/107_003_180514.Jpg\n",
      "[SKIPPED] Missing file: datasets/thyroid_ultrasonic_image/batch1_image/dataset/107_004_180514.Jpg\n",
      "[SKIPPED] Missing file: datasets/thyroid_ultrasonic_image/batch1_image/dataset/107_005_180515.Jpg\n",
      "[SKIPPED] Missing file: datasets/thyroid_ultrasonic_image/batch1_image/dataset/107_006_180515.Jpg\n",
      "[SKIPPED] Missing file: datasets/thyroid_ultrasonic_image/batch1_image/dataset/107_007_180515.Jpg\n",
      "[SKIPPED] Missing file: datasets/thyroid_ultrasonic_image/batch1_image/dataset/107_008_180515.Jpg\n",
      "[SKIPPED] Missing file: datasets/thyroid_ultrasonic_image/batch1_image/dataset/107_009_180516.Jpg\n",
      "[SKIPPED] Missing file: datasets/thyroid_ultrasonic_image/batch1_image/dataset/107_010_180516.Jpg\n",
      "[SKIPPED] Missing file: datasets/thyroid_ultrasonic_image/batch1_image/dataset/107_011_180516.Jpg\n",
      "[SKIPPED] Missing file: datasets/thyroid_ultrasonic_image/batch1_image/dataset/107_012_180517.Jpg\n",
      "[SKIPPED] Missing file: datasets/thyroid_ultrasonic_image/batch1_image/dataset/107_013_180517.Jpg\n",
      "[SKIPPED] Missing file: datasets/thyroid_ultrasonic_image/batch1_image/dataset/107_014_180517.Jpg\n",
      "[WARNING] No valid images for patient: 107, skipping\n",
      "[SKIPPED] Missing file: datasets/thyroid_ultrasonic_image/batch1_image/dataset/108_025_104629.Jpg\n",
      "[SKIPPED] Missing file: datasets/thyroid_ultrasonic_image/batch1_image/dataset/108_026_104629.Jpg\n",
      "[SKIPPED] Missing file: datasets/thyroid_ultrasonic_image/batch1_image/dataset/108_027_104629.Jpg\n",
      "[SKIPPED] Missing file: datasets/thyroid_ultrasonic_image/batch1_image/dataset/108_028_104629.Jpg\n",
      "[SKIPPED] Missing file: datasets/thyroid_ultrasonic_image/batch1_image/dataset/108_029_104630.Jpg\n",
      "[SKIPPED] Missing file: datasets/thyroid_ultrasonic_image/batch1_image/dataset/108_030_104630.Jpg\n",
      "[SKIPPED] Missing file: datasets/thyroid_ultrasonic_image/batch1_image/dataset/108_031_104630.Jpg\n",
      "[SKIPPED] Missing file: datasets/thyroid_ultrasonic_image/batch1_image/dataset/108_032_104630.Jpg\n",
      "[WARNING] No valid images for patient: 108, skipping\n",
      "[SKIPPED] Missing file: datasets/thyroid_ultrasonic_image/batch1_image/dataset/109_001_180912.Jpg\n",
      "[SKIPPED] Missing file: datasets/thyroid_ultrasonic_image/batch1_image/dataset/109_002_180912.Jpg\n",
      "[SKIPPED] Missing file: datasets/thyroid_ultrasonic_image/batch1_image/dataset/109_003_180912.Jpg\n",
      "[SKIPPED] Missing file: datasets/thyroid_ultrasonic_image/batch1_image/dataset/109_004_180912.Jpg\n",
      "[SKIPPED] Missing file: datasets/thyroid_ultrasonic_image/batch1_image/dataset/109_005_180912.Jpg\n",
      "[SKIPPED] Missing file: datasets/thyroid_ultrasonic_image/batch1_image/dataset/109_006_180913.Jpg\n",
      "[SKIPPED] Missing file: datasets/thyroid_ultrasonic_image/batch1_image/dataset/109_007_180913.Jpg\n",
      "[SKIPPED] Missing file: datasets/thyroid_ultrasonic_image/batch1_image/dataset/109_008_180913.Jpg\n",
      "[SKIPPED] Missing file: datasets/thyroid_ultrasonic_image/batch1_image/dataset/109_009_180913.Jpg\n",
      "[SKIPPED] Missing file: datasets/thyroid_ultrasonic_image/batch1_image/dataset/109_010_180913.Jpg\n",
      "[SKIPPED] Missing file: datasets/thyroid_ultrasonic_image/batch1_image/dataset/109_011_180913.Jpg\n",
      "[SKIPPED] Missing file: datasets/thyroid_ultrasonic_image/batch1_image/dataset/109_012_180914.Jpg\n",
      "[SKIPPED] Missing file: datasets/thyroid_ultrasonic_image/batch1_image/dataset/109_013_180914.Jpg\n",
      "[WARNING] No valid images for patient: 109, skipping\n",
      "[SKIPPED] Missing file: datasets/thyroid_ultrasonic_image/batch1_image/dataset/110_001_104710.Jpg\n",
      "[SKIPPED] Missing file: datasets/thyroid_ultrasonic_image/batch1_image/dataset/110_002_104710.Jpg\n",
      "[SKIPPED] Missing file: datasets/thyroid_ultrasonic_image/batch1_image/dataset/110_003_104710.Jpg\n",
      "[SKIPPED] Missing file: datasets/thyroid_ultrasonic_image/batch1_image/dataset/110_004_104711.Jpg\n",
      "[SKIPPED] Missing file: datasets/thyroid_ultrasonic_image/batch1_image/dataset/110_005_104711.Jpg\n",
      "[SKIPPED] Missing file: datasets/thyroid_ultrasonic_image/batch1_image/dataset/110_006_104711.Jpg\n",
      "[SKIPPED] Missing file: datasets/thyroid_ultrasonic_image/batch1_image/dataset/110_007_104711.Jpg\n",
      "[SKIPPED] Missing file: datasets/thyroid_ultrasonic_image/batch1_image/dataset/110_008_104711.Jpg\n",
      "[SKIPPED] Missing file: datasets/thyroid_ultrasonic_image/batch1_image/dataset/110_009_104712.Jpg\n",
      "[SKIPPED] Missing file: datasets/thyroid_ultrasonic_image/batch1_image/dataset/110_010_104712.Jpg\n",
      "[SKIPPED] Missing file: datasets/thyroid_ultrasonic_image/batch1_image/dataset/110_011_104712.Jpg\n",
      "[SKIPPED] Missing file: datasets/thyroid_ultrasonic_image/batch1_image/dataset/110_012_104712.Jpg\n",
      "[SKIPPED] Missing file: datasets/thyroid_ultrasonic_image/batch1_image/dataset/110_013_104712.Jpg\n",
      "[SKIPPED] Missing file: datasets/thyroid_ultrasonic_image/batch1_image/dataset/110_014_104712.Jpg\n",
      "[WARNING] No valid images for patient: 110, skipping\n",
      "[SKIPPED] Missing file: datasets/thyroid_ultrasonic_image/batch1_image/dataset/111_001_182057.Jpg\n",
      "[SKIPPED] Missing file: datasets/thyroid_ultrasonic_image/batch1_image/dataset/111_002_182057.Jpg\n",
      "[SKIPPED] Missing file: datasets/thyroid_ultrasonic_image/batch1_image/dataset/111_003_182057.Jpg\n",
      "[SKIPPED] Missing file: datasets/thyroid_ultrasonic_image/batch1_image/dataset/111_004_182057.Jpg\n",
      "[SKIPPED] Missing file: datasets/thyroid_ultrasonic_image/batch1_image/dataset/111_005_182057.Jpg\n",
      "[SKIPPED] Missing file: datasets/thyroid_ultrasonic_image/batch1_image/dataset/111_006_182058.Jpg\n",
      "[SKIPPED] Missing file: datasets/thyroid_ultrasonic_image/batch1_image/dataset/111_007_182058.Jpg\n",
      "[SKIPPED] Missing file: datasets/thyroid_ultrasonic_image/batch1_image/dataset/111_008_182058.Jpg\n",
      "[SKIPPED] Missing file: datasets/thyroid_ultrasonic_image/batch1_image/dataset/111_009_182058.Jpg\n",
      "[SKIPPED] Missing file: datasets/thyroid_ultrasonic_image/batch1_image/dataset/111_010_182058.Jpg\n",
      "[WARNING] No valid images for patient: 111, skipping\n",
      "[SKIPPED] Missing file: datasets/thyroid_ultrasonic_image/batch1_image/dataset/112_001_135251.Jpg\n",
      "[SKIPPED] Missing file: datasets/thyroid_ultrasonic_image/batch1_image/dataset/112_002_135251.Jpg\n",
      "[SKIPPED] Missing file: datasets/thyroid_ultrasonic_image/batch1_image/dataset/112_003_135252.Jpg\n",
      "[SKIPPED] Missing file: datasets/thyroid_ultrasonic_image/batch1_image/dataset/112_004_135252.Jpg\n",
      "[SKIPPED] Missing file: datasets/thyroid_ultrasonic_image/batch1_image/dataset/112_005_135252.Jpg\n",
      "[SKIPPED] Missing file: datasets/thyroid_ultrasonic_image/batch1_image/dataset/112_006_135252.Jpg\n",
      "[SKIPPED] Missing file: datasets/thyroid_ultrasonic_image/batch1_image/dataset/112_007_135253.Jpg\n",
      "[WARNING] No valid images for patient: 112, skipping\n",
      "[SKIPPED] Missing file: datasets/thyroid_ultrasonic_image/batch1_image/dataset/113_001_175823.Jpg\n",
      "[SKIPPED] Missing file: datasets/thyroid_ultrasonic_image/batch1_image/dataset/113_002_175823.Jpg\n",
      "[SKIPPED] Missing file: datasets/thyroid_ultrasonic_image/batch1_image/dataset/113_003_175823.Jpg\n",
      "[WARNING] No valid images for patient: 113, skipping\n",
      "[SKIPPED] Missing file: datasets/thyroid_ultrasonic_image/batch1_image/dataset/114_014_182902.Jpg\n",
      "[SKIPPED] Missing file: datasets/thyroid_ultrasonic_image/batch1_image/dataset/114_015_182903.Jpg\n",
      "[SKIPPED] Missing file: datasets/thyroid_ultrasonic_image/batch1_image/dataset/114_016_182903.Jpg\n",
      "[SKIPPED] Missing file: datasets/thyroid_ultrasonic_image/batch1_image/dataset/114_017_182903.Jpg\n",
      "[SKIPPED] Missing file: datasets/thyroid_ultrasonic_image/batch1_image/dataset/114_018_182903.Jpg\n",
      "[SKIPPED] Missing file: datasets/thyroid_ultrasonic_image/batch1_image/dataset/114_019_182903.Jpg\n",
      "[SKIPPED] Missing file: datasets/thyroid_ultrasonic_image/batch1_image/dataset/114_020_182904.Jpg\n",
      "[SKIPPED] Missing file: datasets/thyroid_ultrasonic_image/batch1_image/dataset/114_021_182904.Jpg\n",
      "[SKIPPED] Missing file: datasets/thyroid_ultrasonic_image/batch1_image/dataset/114_022_182904.Jpg\n",
      "[SKIPPED] Missing file: datasets/thyroid_ultrasonic_image/batch1_image/dataset/114_023_182904.Jpg\n",
      "[SKIPPED] Missing file: datasets/thyroid_ultrasonic_image/batch1_image/dataset/114_024_182904.Jpg\n",
      "[SKIPPED] Missing file: datasets/thyroid_ultrasonic_image/batch1_image/dataset/114_025_182904.Jpg\n",
      "[SKIPPED] Missing file: datasets/thyroid_ultrasonic_image/batch1_image/dataset/114_026_182905.Jpg\n",
      "[SKIPPED] Missing file: datasets/thyroid_ultrasonic_image/batch1_image/dataset/114_027_182905.Jpg\n",
      "[SKIPPED] Missing file: datasets/thyroid_ultrasonic_image/batch1_image/dataset/114_028_182905.Jpg\n",
      "[SKIPPED] Missing file: datasets/thyroid_ultrasonic_image/batch1_image/dataset/114_029_182905.Jpg\n",
      "[SKIPPED] Missing file: datasets/thyroid_ultrasonic_image/batch1_image/dataset/114_030_182905.Jpg\n",
      "[SKIPPED] Missing file: datasets/thyroid_ultrasonic_image/batch1_image/dataset/114_031_182905.Jpg\n",
      "[SKIPPED] Missing file: datasets/thyroid_ultrasonic_image/batch1_image/dataset/114_032_182905.Jpg\n",
      "[SKIPPED] Missing file: datasets/thyroid_ultrasonic_image/batch1_image/dataset/114_033_182906.Jpg\n",
      "[WARNING] No valid images for patient: 114, skipping\n",
      "[SKIPPED] Missing file: datasets/thyroid_ultrasonic_image/batch1_image/dataset/115_001_173842.Jpg\n",
      "[SKIPPED] Missing file: datasets/thyroid_ultrasonic_image/batch1_image/dataset/115_002_173842.Jpg\n",
      "[SKIPPED] Missing file: datasets/thyroid_ultrasonic_image/batch1_image/dataset/115_003_173843.Jpg\n",
      "[SKIPPED] Missing file: datasets/thyroid_ultrasonic_image/batch1_image/dataset/115_004_173843.Jpg\n",
      "[SKIPPED] Missing file: datasets/thyroid_ultrasonic_image/batch1_image/dataset/115_005_173843.Jpg\n",
      "[SKIPPED] Missing file: datasets/thyroid_ultrasonic_image/batch1_image/dataset/115_006_173843.Jpg\n",
      "[SKIPPED] Missing file: datasets/thyroid_ultrasonic_image/batch1_image/dataset/115_007_173843.Jpg\n",
      "[SKIPPED] Missing file: datasets/thyroid_ultrasonic_image/batch1_image/dataset/115_009_173844.Jpg\n"
     ]
    },
    {
     "name": "stderr",
     "output_type": "stream",
     "text": [
      "Extracting patient features:  55%|█████▍    | 132/241 [00:01<00:01, 93.44it/s]"
     ]
    },
    {
     "name": "stdout",
     "output_type": "stream",
     "text": [
      "[SKIPPED] Missing file: datasets/thyroid_ultrasonic_image/batch1_image/dataset/115_010_173844.Jpg\n",
      "[SKIPPED] Missing file: datasets/thyroid_ultrasonic_image/batch1_image/dataset/115_011_173844.Jpg\n",
      "[SKIPPED] Missing file: datasets/thyroid_ultrasonic_image/batch1_image/dataset/115_012_173845.Jpg\n",
      "[SKIPPED] Missing file: datasets/thyroid_ultrasonic_image/batch1_image/dataset/115_013_173845.Jpg\n",
      "[SKIPPED] Missing file: datasets/thyroid_ultrasonic_image/batch1_image/dataset/115_014_173845.Jpg\n",
      "[SKIPPED] Missing file: datasets/thyroid_ultrasonic_image/batch1_image/dataset/115_015_173845.Jpg\n",
      "[SKIPPED] Missing file: datasets/thyroid_ultrasonic_image/batch1_image/dataset/115_016_173845.Jpg\n",
      "[SKIPPED] Missing file: datasets/thyroid_ultrasonic_image/batch1_image/dataset/115_017_173846.Jpg\n",
      "[WARNING] No valid images for patient: 115, skipping\n",
      "[SKIPPED] Missing file: datasets/thyroid_ultrasonic_image/batch1_image/dataset/116_001_105036.Jpg\n",
      "[SKIPPED] Missing file: datasets/thyroid_ultrasonic_image/batch1_image/dataset/116_002_105036.Jpg\n",
      "[SKIPPED] Missing file: datasets/thyroid_ultrasonic_image/batch1_image/dataset/116_003_105037.Jpg\n",
      "[SKIPPED] Missing file: datasets/thyroid_ultrasonic_image/batch1_image/dataset/116_004_105037.Jpg\n",
      "[SKIPPED] Missing file: datasets/thyroid_ultrasonic_image/batch1_image/dataset/116_005_105037.Jpg\n",
      "[SKIPPED] Missing file: datasets/thyroid_ultrasonic_image/batch1_image/dataset/116_006_105037.Jpg\n",
      "[SKIPPED] Missing file: datasets/thyroid_ultrasonic_image/batch1_image/dataset/116_007_105037.Jpg\n",
      "[SKIPPED] Missing file: datasets/thyroid_ultrasonic_image/batch1_image/dataset/116_008_105038.Jpg\n",
      "[SKIPPED] Missing file: datasets/thyroid_ultrasonic_image/batch1_image/dataset/116_009_105038.Jpg\n",
      "[SKIPPED] Missing file: datasets/thyroid_ultrasonic_image/batch1_image/dataset/116_010_105038.Jpg\n",
      "[SKIPPED] Missing file: datasets/thyroid_ultrasonic_image/batch1_image/dataset/116_011_105038.Jpg\n",
      "[SKIPPED] Missing file: datasets/thyroid_ultrasonic_image/batch1_image/dataset/116_012_105039.Jpg\n",
      "[WARNING] No valid images for patient: 116, skipping\n",
      "[SKIPPED] Missing file: datasets/thyroid_ultrasonic_image/batch1_image/dataset/117_019_175239.Jpg\n",
      "[SKIPPED] Missing file: datasets/thyroid_ultrasonic_image/batch1_image/dataset/117_020_175239.Jpg\n",
      "[SKIPPED] Missing file: datasets/thyroid_ultrasonic_image/batch1_image/dataset/117_021_175240.Jpg\n",
      "[SKIPPED] Missing file: datasets/thyroid_ultrasonic_image/batch1_image/dataset/117_022_175240.Jpg\n",
      "[SKIPPED] Missing file: datasets/thyroid_ultrasonic_image/batch1_image/dataset/117_023_175240.Jpg\n",
      "[SKIPPED] Missing file: datasets/thyroid_ultrasonic_image/batch1_image/dataset/117_024_175240.Jpg\n",
      "[SKIPPED] Missing file: datasets/thyroid_ultrasonic_image/batch1_image/dataset/117_025_175241.Jpg\n",
      "[SKIPPED] Missing file: datasets/thyroid_ultrasonic_image/batch1_image/dataset/117_026_175241.Jpg\n",
      "[SKIPPED] Missing file: datasets/thyroid_ultrasonic_image/batch1_image/dataset/117_027_175241.Jpg\n",
      "[SKIPPED] Missing file: datasets/thyroid_ultrasonic_image/batch1_image/dataset/117_028_175242.Jpg\n",
      "[SKIPPED] Missing file: datasets/thyroid_ultrasonic_image/batch1_image/dataset/117_029_175242.Jpg\n",
      "[WARNING] No valid images for patient: 117, skipping\n",
      "[SKIPPED] Missing file: datasets/thyroid_ultrasonic_image/batch1_image/dataset/118_001_183309.Jpg\n",
      "[SKIPPED] Missing file: datasets/thyroid_ultrasonic_image/batch1_image/dataset/118_002_183309.Jpg\n",
      "[SKIPPED] Missing file: datasets/thyroid_ultrasonic_image/batch1_image/dataset/118_003_183309.Jpg\n",
      "[SKIPPED] Missing file: datasets/thyroid_ultrasonic_image/batch1_image/dataset/118_004_183310.Jpg\n",
      "[SKIPPED] Missing file: datasets/thyroid_ultrasonic_image/batch1_image/dataset/118_005_183310.Jpg\n",
      "[SKIPPED] Missing file: datasets/thyroid_ultrasonic_image/batch1_image/dataset/118_006_183310.Jpg\n",
      "[SKIPPED] Missing file: datasets/thyroid_ultrasonic_image/batch1_image/dataset/118_007_183311.Jpg\n",
      "[SKIPPED] Missing file: datasets/thyroid_ultrasonic_image/batch1_image/dataset/118_008_183311.Jpg\n",
      "[SKIPPED] Missing file: datasets/thyroid_ultrasonic_image/batch1_image/dataset/118_009_183311.Jpg\n",
      "[SKIPPED] Missing file: datasets/thyroid_ultrasonic_image/batch1_image/dataset/118_010_183312.Jpg\n",
      "[SKIPPED] Missing file: datasets/thyroid_ultrasonic_image/batch1_image/dataset/118_011_183312.Jpg\n",
      "[SKIPPED] Missing file: datasets/thyroid_ultrasonic_image/batch1_image/dataset/118_012_183313.Jpg\n",
      "[WARNING] No valid images for patient: 118, skipping\n",
      "[SKIPPED] Missing file: datasets/thyroid_ultrasonic_image/batch1_image/dataset/119_001_135146.Jpg\n",
      "[SKIPPED] Missing file: datasets/thyroid_ultrasonic_image/batch1_image/dataset/119_002_135146.Jpg\n",
      "[SKIPPED] Missing file: datasets/thyroid_ultrasonic_image/batch1_image/dataset/119_003_135146.Jpg\n",
      "[SKIPPED] Missing file: datasets/thyroid_ultrasonic_image/batch1_image/dataset/119_004_135147.Jpg\n",
      "[SKIPPED] Missing file: datasets/thyroid_ultrasonic_image/batch1_image/dataset/119_005_135147.Jpg\n",
      "[SKIPPED] Missing file: datasets/thyroid_ultrasonic_image/batch1_image/dataset/119_006_135147.Jpg\n",
      "[SKIPPED] Missing file: datasets/thyroid_ultrasonic_image/batch1_image/dataset/119_007_135147.Jpg\n",
      "[SKIPPED] Missing file: datasets/thyroid_ultrasonic_image/batch1_image/dataset/119_008_135147.Jpg\n",
      "[SKIPPED] Missing file: datasets/thyroid_ultrasonic_image/batch1_image/dataset/119_009_135147.Jpg\n",
      "[SKIPPED] Missing file: datasets/thyroid_ultrasonic_image/batch1_image/dataset/119_010_135148.Jpg\n",
      "[SKIPPED] Missing file: datasets/thyroid_ultrasonic_image/batch1_image/dataset/119_011_135148.Jpg\n",
      "[SKIPPED] Missing file: datasets/thyroid_ultrasonic_image/batch1_image/dataset/119_012_135148.Jpg\n",
      "[SKIPPED] Missing file: datasets/thyroid_ultrasonic_image/batch1_image/dataset/119_013_135148.Jpg\n",
      "[WARNING] No valid images for patient: 119, skipping\n",
      "[SKIPPED] Missing file: datasets/thyroid_ultrasonic_image/batch1_image/dataset/120_001_103929.Jpg\n",
      "[SKIPPED] Missing file: datasets/thyroid_ultrasonic_image/batch1_image/dataset/120_002_103929.Jpg\n",
      "[SKIPPED] Missing file: datasets/thyroid_ultrasonic_image/batch1_image/dataset/120_003_103929.Jpg\n",
      "[SKIPPED] Missing file: datasets/thyroid_ultrasonic_image/batch1_image/dataset/120_004_103930.Jpg\n",
      "[SKIPPED] Missing file: datasets/thyroid_ultrasonic_image/batch1_image/dataset/120_005_103930.Jpg\n",
      "[SKIPPED] Missing file: datasets/thyroid_ultrasonic_image/batch1_image/dataset/120_006_103930.Jpg\n",
      "[SKIPPED] Missing file: datasets/thyroid_ultrasonic_image/batch1_image/dataset/120_007_103930.Jpg\n",
      "[WARNING] No valid images for patient: 120, skipping\n",
      "[SKIPPED] Missing file: datasets/thyroid_ultrasonic_image/batch1_image/dataset/121_017_175441.Jpg\n",
      "[SKIPPED] Missing file: datasets/thyroid_ultrasonic_image/batch1_image/dataset/121_018_175441.Jpg\n",
      "[SKIPPED] Missing file: datasets/thyroid_ultrasonic_image/batch1_image/dataset/121_019_175442.Jpg\n",
      "[SKIPPED] Missing file: datasets/thyroid_ultrasonic_image/batch1_image/dataset/121_020_175442.Jpg\n",
      "[SKIPPED] Missing file: datasets/thyroid_ultrasonic_image/batch1_image/dataset/121_021_175442.Jpg\n",
      "[SKIPPED] Missing file: datasets/thyroid_ultrasonic_image/batch1_image/dataset/121_022_175443.Jpg\n",
      "[SKIPPED] Missing file: datasets/thyroid_ultrasonic_image/batch1_image/dataset/121_023_175443.Jpg\n",
      "[SKIPPED] Missing file: datasets/thyroid_ultrasonic_image/batch1_image/dataset/121_024_175443.Jpg\n",
      "[SKIPPED] Missing file: datasets/thyroid_ultrasonic_image/batch1_image/dataset/121_025_175444.Jpg\n",
      "[SKIPPED] Missing file: datasets/thyroid_ultrasonic_image/batch1_image/dataset/121_026_175444.Jpg\n",
      "[SKIPPED] Missing file: datasets/thyroid_ultrasonic_image/batch1_image/dataset/121_027_175444.Jpg\n",
      "[SKIPPED] Missing file: datasets/thyroid_ultrasonic_image/batch1_image/dataset/121_028_175445.Jpg\n",
      "[SKIPPED] Missing file: datasets/thyroid_ultrasonic_image/batch1_image/dataset/121_029_175445.Jpg\n",
      "[SKIPPED] Missing file: datasets/thyroid_ultrasonic_image/batch1_image/dataset/121_030_175445.Jpg\n",
      "[WARNING] No valid images for patient: 121, skipping\n",
      "[SKIPPED] Missing file: datasets/thyroid_ultrasonic_image/batch1_image/dataset/122_001_182959.Jpg\n",
      "[SKIPPED] Missing file: datasets/thyroid_ultrasonic_image/batch1_image/dataset/122_002_182959.Jpg\n",
      "[SKIPPED] Missing file: datasets/thyroid_ultrasonic_image/batch1_image/dataset/122_003_183000.Jpg\n",
      "[SKIPPED] Missing file: datasets/thyroid_ultrasonic_image/batch1_image/dataset/122_004_183000.Jpg\n",
      "[SKIPPED] Missing file: datasets/thyroid_ultrasonic_image/batch1_image/dataset/122_005_183000.Jpg\n",
      "[SKIPPED] Missing file: datasets/thyroid_ultrasonic_image/batch1_image/dataset/122_006_183000.Jpg\n",
      "[SKIPPED] Missing file: datasets/thyroid_ultrasonic_image/batch1_image/dataset/122_007_183001.Jpg\n",
      "[SKIPPED] Missing file: datasets/thyroid_ultrasonic_image/batch1_image/dataset/122_008_183001.Jpg\n",
      "[SKIPPED] Missing file: datasets/thyroid_ultrasonic_image/batch1_image/dataset/122_009_183001.Jpg\n",
      "[SKIPPED] Missing file: datasets/thyroid_ultrasonic_image/batch1_image/dataset/122_010_183001.Jpg\n",
      "[SKIPPED] Missing file: datasets/thyroid_ultrasonic_image/batch1_image/dataset/122_011_183002.Jpg\n",
      "[SKIPPED] Missing file: datasets/thyroid_ultrasonic_image/batch1_image/dataset/122_013_183002.Jpg\n",
      "[WARNING] No valid images for patient: 122, skipping\n",
      "[SKIPPED] Missing file: datasets/thyroid_ultrasonic_image/batch1_image/dataset/123_001_174047.Jpg\n",
      "[SKIPPED] Missing file: datasets/thyroid_ultrasonic_image/batch1_image/dataset/123_002_174047.Jpg\n",
      "[SKIPPED] Missing file: datasets/thyroid_ultrasonic_image/batch1_image/dataset/123_003_174047.Jpg\n",
      "[SKIPPED] Missing file: datasets/thyroid_ultrasonic_image/batch1_image/dataset/123_004_174047.Jpg\n",
      "[SKIPPED] Missing file: datasets/thyroid_ultrasonic_image/batch1_image/dataset/123_005_174047.Jpg\n",
      "[WARNING] No valid images for patient: 123, skipping\n",
      "[SKIPPED] Missing file: datasets/thyroid_ultrasonic_image/batch1_image/dataset/124_001_180407.Jpg\n",
      "[SKIPPED] Missing file: datasets/thyroid_ultrasonic_image/batch1_image/dataset/124_002_180408.Jpg\n",
      "[SKIPPED] Missing file: datasets/thyroid_ultrasonic_image/batch1_image/dataset/124_003_180408.Jpg\n",
      "[SKIPPED] Missing file: datasets/thyroid_ultrasonic_image/batch1_image/dataset/124_004_180408.Jpg\n",
      "[SKIPPED] Missing file: datasets/thyroid_ultrasonic_image/batch1_image/dataset/124_005_180408.Jpg\n",
      "[SKIPPED] Missing file: datasets/thyroid_ultrasonic_image/batch1_image/dataset/124_006_180408.Jpg\n",
      "[SKIPPED] Missing file: datasets/thyroid_ultrasonic_image/batch1_image/dataset/124_007_180408.Jpg\n",
      "[SKIPPED] Missing file: datasets/thyroid_ultrasonic_image/batch1_image/dataset/124_008_180409.Jpg\n",
      "[SKIPPED] Missing file: datasets/thyroid_ultrasonic_image/batch1_image/dataset/124_009_180409.Jpg\n",
      "[SKIPPED] Missing file: datasets/thyroid_ultrasonic_image/batch1_image/dataset/124_010_180409.Jpg\n",
      "[SKIPPED] Missing file: datasets/thyroid_ultrasonic_image/batch1_image/dataset/124_011_180409.Jpg\n",
      "[SKIPPED] Missing file: datasets/thyroid_ultrasonic_image/batch1_image/dataset/124_012_180409.Jpg\n",
      "[SKIPPED] Missing file: datasets/thyroid_ultrasonic_image/batch1_image/dataset/124_013_180409.Jpg\n",
      "[WARNING] No valid images for patient: 124, skipping\n",
      "[SKIPPED] Missing file: datasets/thyroid_ultrasonic_image/batch1_image/dataset/125_001_173507.Jpg\n",
      "[SKIPPED] Missing file: datasets/thyroid_ultrasonic_image/batch1_image/dataset/125_002_173508.Jpg\n",
      "[SKIPPED] Missing file: datasets/thyroid_ultrasonic_image/batch1_image/dataset/125_003_173508.Jpg\n",
      "[SKIPPED] Missing file: datasets/thyroid_ultrasonic_image/batch1_image/dataset/125_004_173508.Jpg\n",
      "[SKIPPED] Missing file: datasets/thyroid_ultrasonic_image/batch1_image/dataset/125_005_173508.Jpg\n",
      "[SKIPPED] Missing file: datasets/thyroid_ultrasonic_image/batch1_image/dataset/125_006_173509.Jpg\n",
      "[SKIPPED] Missing file: datasets/thyroid_ultrasonic_image/batch1_image/dataset/125_007_173509.Jpg\n",
      "[SKIPPED] Missing file: datasets/thyroid_ultrasonic_image/batch1_image/dataset/125_008_173509.Jpg\n",
      "[SKIPPED] Missing file: datasets/thyroid_ultrasonic_image/batch1_image/dataset/125_009_173509.Jpg\n",
      "[SKIPPED] Missing file: datasets/thyroid_ultrasonic_image/batch1_image/dataset/125_010_173510.Jpg\n",
      "[SKIPPED] Missing file: datasets/thyroid_ultrasonic_image/batch1_image/dataset/125_011_173510.Jpg\n",
      "[SKIPPED] Missing file: datasets/thyroid_ultrasonic_image/batch1_image/dataset/125_012_173510.Jpg\n",
      "[SKIPPED] Missing file: datasets/thyroid_ultrasonic_image/batch1_image/dataset/125_013_173510.Jpg\n",
      "[SKIPPED] Missing file: datasets/thyroid_ultrasonic_image/batch1_image/dataset/125_014_173510.Jpg\n",
      "[SKIPPED] Missing file: datasets/thyroid_ultrasonic_image/batch1_image/dataset/125_015_173511.Jpg\n",
      "[SKIPPED] Missing file: datasets/thyroid_ultrasonic_image/batch1_image/dataset/125_016_173511.Jpg\n",
      "[SKIPPED] Missing file: datasets/thyroid_ultrasonic_image/batch1_image/dataset/125_017_173511.Jpg\n",
      "[SKIPPED] Missing file: datasets/thyroid_ultrasonic_image/batch1_image/dataset/125_018_173511.Jpg\n",
      "[SKIPPED] Missing file: datasets/thyroid_ultrasonic_image/batch1_image/dataset/125_019_173511.Jpg\n",
      "[SKIPPED] Missing file: datasets/thyroid_ultrasonic_image/batch1_image/dataset/125_023_173512.Jpg\n",
      "[SKIPPED] Missing file: datasets/thyroid_ultrasonic_image/batch1_image/dataset/125_025_173513.Jpg\n",
      "[WARNING] No valid images for patient: 125, skipping\n",
      "[SKIPPED] Missing file: datasets/thyroid_ultrasonic_image/batch1_image/dataset/126_001_191413.Jpg\n",
      "[SKIPPED] Missing file: datasets/thyroid_ultrasonic_image/batch1_image/dataset/126_002_191413.Jpg\n",
      "[SKIPPED] Missing file: datasets/thyroid_ultrasonic_image/batch1_image/dataset/126_003_191413.Jpg\n",
      "[SKIPPED] Missing file: datasets/thyroid_ultrasonic_image/batch1_image/dataset/126_004_191413.Jpg\n",
      "[SKIPPED] Missing file: datasets/thyroid_ultrasonic_image/batch1_image/dataset/126_005_191413.Jpg\n",
      "[SKIPPED] Missing file: datasets/thyroid_ultrasonic_image/batch1_image/dataset/126_006_191414.Jpg\n",
      "[SKIPPED] Missing file: datasets/thyroid_ultrasonic_image/batch1_image/dataset/126_007_191414.Jpg\n",
      "[SKIPPED] Missing file: datasets/thyroid_ultrasonic_image/batch1_image/dataset/126_008_191414.Jpg\n",
      "[SKIPPED] Missing file: datasets/thyroid_ultrasonic_image/batch1_image/dataset/126_009_191414.Jpg\n",
      "[SKIPPED] Missing file: datasets/thyroid_ultrasonic_image/batch1_image/dataset/126_010_191414.Jpg\n",
      "[SKIPPED] Missing file: datasets/thyroid_ultrasonic_image/batch1_image/dataset/126_011_191415.Jpg\n",
      "[SKIPPED] Missing file: datasets/thyroid_ultrasonic_image/batch1_image/dataset/126_012_191415.Jpg\n",
      "[SKIPPED] Missing file: datasets/thyroid_ultrasonic_image/batch1_image/dataset/126_013_191415.Jpg\n",
      "[SKIPPED] Missing file: datasets/thyroid_ultrasonic_image/batch1_image/dataset/126_014_191415.Jpg\n",
      "[WARNING] No valid images for patient: 126, skipping\n",
      "[SKIPPED] Missing file: datasets/thyroid_ultrasonic_image/batch1_image/dataset/127_001_192827.Jpg\n",
      "[SKIPPED] Missing file: datasets/thyroid_ultrasonic_image/batch1_image/dataset/127_002_192827.Jpg\n",
      "[SKIPPED] Missing file: datasets/thyroid_ultrasonic_image/batch1_image/dataset/127_003_192828.Jpg\n",
      "[SKIPPED] Missing file: datasets/thyroid_ultrasonic_image/batch1_image/dataset/127_004_192828.Jpg\n",
      "[SKIPPED] Missing file: datasets/thyroid_ultrasonic_image/batch1_image/dataset/127_005_192828.Jpg\n",
      "[SKIPPED] Missing file: datasets/thyroid_ultrasonic_image/batch1_image/dataset/127_006_192828.Jpg\n",
      "[SKIPPED] Missing file: datasets/thyroid_ultrasonic_image/batch1_image/dataset/127_007_192829.Jpg\n",
      "[SKIPPED] Missing file: datasets/thyroid_ultrasonic_image/batch1_image/dataset/127_008_192829.Jpg\n",
      "[SKIPPED] Missing file: datasets/thyroid_ultrasonic_image/batch1_image/dataset/127_009_192829.Jpg\n",
      "[WARNING] No valid images for patient: 127, skipping\n",
      "[SKIPPED] Missing file: datasets/thyroid_ultrasonic_image/batch1_image/dataset/128_001_105338.Jpg\n",
      "[SKIPPED] Missing file: datasets/thyroid_ultrasonic_image/batch1_image/dataset/128_002_105339.Jpg\n",
      "[SKIPPED] Missing file: datasets/thyroid_ultrasonic_image/batch1_image/dataset/128_003_105339.Jpg\n",
      "[SKIPPED] Missing file: datasets/thyroid_ultrasonic_image/batch1_image/dataset/128_004_105339.Jpg\n",
      "[SKIPPED] Missing file: datasets/thyroid_ultrasonic_image/batch1_image/dataset/128_005_105339.Jpg\n",
      "[SKIPPED] Missing file: datasets/thyroid_ultrasonic_image/batch1_image/dataset/128_006_105340.Jpg\n",
      "[SKIPPED] Missing file: datasets/thyroid_ultrasonic_image/batch1_image/dataset/128_007_105340.Jpg\n",
      "[SKIPPED] Missing file: datasets/thyroid_ultrasonic_image/batch1_image/dataset/128_008_105340.Jpg\n",
      "[SKIPPED] Missing file: datasets/thyroid_ultrasonic_image/batch1_image/dataset/128_009_105341.Jpg\n",
      "[WARNING] No valid images for patient: 128, skipping\n",
      "[SKIPPED] Missing file: datasets/thyroid_ultrasonic_image/batch1_image/dataset/129_001_180420.Jpg\n",
      "[SKIPPED] Missing file: datasets/thyroid_ultrasonic_image/batch1_image/dataset/129_002_180421.Jpg\n",
      "[SKIPPED] Missing file: datasets/thyroid_ultrasonic_image/batch1_image/dataset/129_003_180421.Jpg\n",
      "[SKIPPED] Missing file: datasets/thyroid_ultrasonic_image/batch1_image/dataset/129_004_180421.Jpg\n",
      "[SKIPPED] Missing file: datasets/thyroid_ultrasonic_image/batch1_image/dataset/129_005_180421.Jpg\n",
      "[WARNING] No valid images for patient: 129, skipping\n",
      "[SKIPPED] Missing file: datasets/thyroid_ultrasonic_image/batch1_image/dataset/130_001_180108.Jpg\n",
      "[SKIPPED] Missing file: datasets/thyroid_ultrasonic_image/batch1_image/dataset/130_002_180108.Jpg\n",
      "[SKIPPED] Missing file: datasets/thyroid_ultrasonic_image/batch1_image/dataset/130_003_180109.Jpg\n",
      "[SKIPPED] Missing file: datasets/thyroid_ultrasonic_image/batch1_image/dataset/130_004_180109.Jpg\n",
      "[SKIPPED] Missing file: datasets/thyroid_ultrasonic_image/batch1_image/dataset/130_005_180109.Jpg\n",
      "[SKIPPED] Missing file: datasets/thyroid_ultrasonic_image/batch1_image/dataset/130_006_180109.Jpg\n",
      "[SKIPPED] Missing file: datasets/thyroid_ultrasonic_image/batch1_image/dataset/130_007_180110.Jpg\n",
      "[SKIPPED] Missing file: datasets/thyroid_ultrasonic_image/batch1_image/dataset/130_008_180110.Jpg\n",
      "[SKIPPED] Missing file: datasets/thyroid_ultrasonic_image/batch1_image/dataset/130_009_180110.Jpg\n",
      "[SKIPPED] Missing file: datasets/thyroid_ultrasonic_image/batch1_image/dataset/130_010_180110.Jpg\n",
      "[WARNING] No valid images for patient: 130, skipping\n",
      "[SKIPPED] Missing file: datasets/thyroid_ultrasonic_image/batch1_image/dataset/131_001_175332.Jpg\n",
      "[SKIPPED] Missing file: datasets/thyroid_ultrasonic_image/batch1_image/dataset/131_002_175332.Jpg\n",
      "[SKIPPED] Missing file: datasets/thyroid_ultrasonic_image/batch1_image/dataset/131_003_175333.Jpg\n",
      "[SKIPPED] Missing file: datasets/thyroid_ultrasonic_image/batch1_image/dataset/131_004_175333.Jpg\n",
      "[SKIPPED] Missing file: datasets/thyroid_ultrasonic_image/batch1_image/dataset/131_005_175333.Jpg\n",
      "[SKIPPED] Missing file: datasets/thyroid_ultrasonic_image/batch1_image/dataset/131_006_175333.Jpg\n",
      "[SKIPPED] Missing file: datasets/thyroid_ultrasonic_image/batch1_image/dataset/131_007_175333.Jpg\n",
      "[SKIPPED] Missing file: datasets/thyroid_ultrasonic_image/batch1_image/dataset/131_008_175333.Jpg\n",
      "[SKIPPED] Missing file: datasets/thyroid_ultrasonic_image/batch1_image/dataset/131_009_175334.Jpg\n",
      "[SKIPPED] Missing file: datasets/thyroid_ultrasonic_image/batch1_image/dataset/131_010_175334.Jpg\n",
      "[WARNING] No valid images for patient: 131, skipping\n"
     ]
    },
    {
     "name": "stderr",
     "output_type": "stream",
     "text": [
      "Extracting patient features:  59%|█████▉    | 142/241 [00:01<00:01, 89.20it/s]"
     ]
    },
    {
     "name": "stdout",
     "output_type": "stream",
     "text": [
      "[SKIPPED] Missing file: datasets/thyroid_ultrasonic_image/batch1_image/dataset/132_001_175302.Jpg\n",
      "[SKIPPED] Missing file: datasets/thyroid_ultrasonic_image/batch1_image/dataset/132_002_175303.Jpg\n",
      "[SKIPPED] Missing file: datasets/thyroid_ultrasonic_image/batch1_image/dataset/132_003_175303.Jpg\n",
      "[SKIPPED] Missing file: datasets/thyroid_ultrasonic_image/batch1_image/dataset/132_004_175303.Jpg\n",
      "[SKIPPED] Missing file: datasets/thyroid_ultrasonic_image/batch1_image/dataset/132_005_175304.Jpg\n",
      "[SKIPPED] Missing file: datasets/thyroid_ultrasonic_image/batch1_image/dataset/132_006_175304.Jpg\n",
      "[SKIPPED] Missing file: datasets/thyroid_ultrasonic_image/batch1_image/dataset/132_007_175304.Jpg\n",
      "[SKIPPED] Missing file: datasets/thyroid_ultrasonic_image/batch1_image/dataset/132_008_175305.Jpg\n",
      "[SKIPPED] Missing file: datasets/thyroid_ultrasonic_image/batch1_image/dataset/132_009_175305.Jpg\n",
      "[SKIPPED] Missing file: datasets/thyroid_ultrasonic_image/batch1_image/dataset/132_010_175305.Jpg\n",
      "[SKIPPED] Missing file: datasets/thyroid_ultrasonic_image/batch1_image/dataset/132_011_175306.Jpg\n",
      "[SKIPPED] Missing file: datasets/thyroid_ultrasonic_image/batch1_image/dataset/132_012_175306.Jpg\n",
      "[SKIPPED] Missing file: datasets/thyroid_ultrasonic_image/batch1_image/dataset/132_013_175306.Jpg\n",
      "[WARNING] No valid images for patient: 132, skipping\n",
      "[SKIPPED] Missing file: datasets/thyroid_ultrasonic_image/batch1_image/dataset/133_001_182132.Jpg\n",
      "[SKIPPED] Missing file: datasets/thyroid_ultrasonic_image/batch1_image/dataset/133_002_182132.Jpg\n",
      "[SKIPPED] Missing file: datasets/thyroid_ultrasonic_image/batch1_image/dataset/133_003_182132.Jpg\n",
      "[SKIPPED] Missing file: datasets/thyroid_ultrasonic_image/batch1_image/dataset/133_004_182132.Jpg\n",
      "[SKIPPED] Missing file: datasets/thyroid_ultrasonic_image/batch1_image/dataset/133_005_182132.Jpg\n",
      "[SKIPPED] Missing file: datasets/thyroid_ultrasonic_image/batch1_image/dataset/133_006_182133.Jpg\n",
      "[SKIPPED] Missing file: datasets/thyroid_ultrasonic_image/batch1_image/dataset/133_007_182133.Jpg\n",
      "[WARNING] No valid images for patient: 133, skipping\n",
      "[SKIPPED] Missing file: datasets/thyroid_ultrasonic_image/batch1_image/dataset/134_001_181058.Jpg\n",
      "[SKIPPED] Missing file: datasets/thyroid_ultrasonic_image/batch1_image/dataset/134_004_181058.Jpg\n",
      "[SKIPPED] Missing file: datasets/thyroid_ultrasonic_image/batch1_image/dataset/134_007_181059.Jpg\n",
      "[SKIPPED] Missing file: datasets/thyroid_ultrasonic_image/batch1_image/dataset/134_008_181059.Jpg\n",
      "[SKIPPED] Missing file: datasets/thyroid_ultrasonic_image/batch1_image/dataset/134_009_181059.Jpg\n",
      "[SKIPPED] Missing file: datasets/thyroid_ultrasonic_image/batch1_image/dataset/134_010_181100.Jpg\n",
      "[WARNING] No valid images for patient: 134, skipping\n",
      "[SKIPPED] Missing file: datasets/thyroid_ultrasonic_image/batch1_image/dataset/135_001_175710.Jpg\n",
      "[SKIPPED] Missing file: datasets/thyroid_ultrasonic_image/batch1_image/dataset/135_002_175711.Jpg\n",
      "[SKIPPED] Missing file: datasets/thyroid_ultrasonic_image/batch1_image/dataset/135_003_175711.Jpg\n",
      "[SKIPPED] Missing file: datasets/thyroid_ultrasonic_image/batch1_image/dataset/135_004_175711.Jpg\n",
      "[SKIPPED] Missing file: datasets/thyroid_ultrasonic_image/batch1_image/dataset/135_005_175711.Jpg\n",
      "[SKIPPED] Missing file: datasets/thyroid_ultrasonic_image/batch1_image/dataset/135_006_175711.Jpg\n",
      "[SKIPPED] Missing file: datasets/thyroid_ultrasonic_image/batch1_image/dataset/135_007_175712.Jpg\n",
      "[WARNING] No valid images for patient: 135, skipping\n",
      "[SKIPPED] Missing file: datasets/thyroid_ultrasonic_image/batch1_image/dataset/136_001_135702.Jpg\n",
      "[SKIPPED] Missing file: datasets/thyroid_ultrasonic_image/batch1_image/dataset/136_002_135702.Jpg\n",
      "[SKIPPED] Missing file: datasets/thyroid_ultrasonic_image/batch1_image/dataset/136_003_135702.Jpg\n",
      "[SKIPPED] Missing file: datasets/thyroid_ultrasonic_image/batch1_image/dataset/136_004_135702.Jpg\n",
      "[SKIPPED] Missing file: datasets/thyroid_ultrasonic_image/batch1_image/dataset/136_005_135702.Jpg\n",
      "[SKIPPED] Missing file: datasets/thyroid_ultrasonic_image/batch1_image/dataset/136_006_135703.Jpg\n",
      "[SKIPPED] Missing file: datasets/thyroid_ultrasonic_image/batch1_image/dataset/136_007_135703.Jpg\n",
      "[SKIPPED] Missing file: datasets/thyroid_ultrasonic_image/batch1_image/dataset/136_008_135703.Jpg\n",
      "[SKIPPED] Missing file: datasets/thyroid_ultrasonic_image/batch1_image/dataset/136_009_135703.Jpg\n",
      "[SKIPPED] Missing file: datasets/thyroid_ultrasonic_image/batch1_image/dataset/136_010_135704.Jpg\n",
      "[SKIPPED] Missing file: datasets/thyroid_ultrasonic_image/batch1_image/dataset/136_011_135704.Jpg\n",
      "[SKIPPED] Missing file: datasets/thyroid_ultrasonic_image/batch1_image/dataset/136_012_135704.Jpg\n",
      "[SKIPPED] Missing file: datasets/thyroid_ultrasonic_image/batch1_image/dataset/136_013_135704.Jpg\n",
      "[SKIPPED] Missing file: datasets/thyroid_ultrasonic_image/batch1_image/dataset/136_014_135705.Jpg\n",
      "[SKIPPED] Missing file: datasets/thyroid_ultrasonic_image/batch1_image/dataset/136_015_135705.Jpg\n",
      "[SKIPPED] Missing file: datasets/thyroid_ultrasonic_image/batch1_image/dataset/136_016_135705.Jpg\n",
      "[SKIPPED] Missing file: datasets/thyroid_ultrasonic_image/batch1_image/dataset/136_017_135705.Jpg\n",
      "[SKIPPED] Missing file: datasets/thyroid_ultrasonic_image/batch1_image/dataset/136_018_135705.Jpg\n",
      "[SKIPPED] Missing file: datasets/thyroid_ultrasonic_image/batch1_image/dataset/136_019_135706.Jpg\n",
      "[WARNING] No valid images for patient: 136, skipping\n",
      "[SKIPPED] Missing file: datasets/thyroid_ultrasonic_image/batch1_image/dataset/137_001_174601.Jpg\n",
      "[SKIPPED] Missing file: datasets/thyroid_ultrasonic_image/batch1_image/dataset/137_002_174601.Jpg\n",
      "[SKIPPED] Missing file: datasets/thyroid_ultrasonic_image/batch1_image/dataset/137_003_174601.Jpg\n",
      "[SKIPPED] Missing file: datasets/thyroid_ultrasonic_image/batch1_image/dataset/137_004_174601.Jpg\n",
      "[SKIPPED] Missing file: datasets/thyroid_ultrasonic_image/batch1_image/dataset/137_005_174601.Jpg\n",
      "[SKIPPED] Missing file: datasets/thyroid_ultrasonic_image/batch1_image/dataset/137_006_174602.Jpg\n",
      "[SKIPPED] Missing file: datasets/thyroid_ultrasonic_image/batch1_image/dataset/137_007_174602.Jpg\n",
      "[SKIPPED] Missing file: datasets/thyroid_ultrasonic_image/batch1_image/dataset/137_010_174602.Jpg\n",
      "[WARNING] No valid images for patient: 137, skipping\n",
      "[SKIPPED] Missing file: datasets/thyroid_ultrasonic_image/batch1_image/dataset/138_001_105502.Jpg\n",
      "[SKIPPED] Missing file: datasets/thyroid_ultrasonic_image/batch1_image/dataset/138_002_105502.Jpg\n",
      "[SKIPPED] Missing file: datasets/thyroid_ultrasonic_image/batch1_image/dataset/138_003_105502.Jpg\n",
      "[SKIPPED] Missing file: datasets/thyroid_ultrasonic_image/batch1_image/dataset/138_004_105503.Jpg\n",
      "[SKIPPED] Missing file: datasets/thyroid_ultrasonic_image/batch1_image/dataset/138_005_105503.Jpg\n",
      "[SKIPPED] Missing file: datasets/thyroid_ultrasonic_image/batch1_image/dataset/138_006_105503.Jpg\n",
      "[SKIPPED] Missing file: datasets/thyroid_ultrasonic_image/batch1_image/dataset/138_007_105503.Jpg\n",
      "[SKIPPED] Missing file: datasets/thyroid_ultrasonic_image/batch1_image/dataset/138_008_105504.Jpg\n",
      "[SKIPPED] Missing file: datasets/thyroid_ultrasonic_image/batch1_image/dataset/138_009_105504.Jpg\n",
      "[WARNING] No valid images for patient: 138, skipping\n",
      "[SKIPPED] Missing file: datasets/thyroid_ultrasonic_image/batch1_image/dataset/139_001_112837.Jpg\n",
      "[SKIPPED] Missing file: datasets/thyroid_ultrasonic_image/batch1_image/dataset/139_002_112837.Jpg\n",
      "[SKIPPED] Missing file: datasets/thyroid_ultrasonic_image/batch1_image/dataset/139_003_112837.Jpg\n",
      "[SKIPPED] Missing file: datasets/thyroid_ultrasonic_image/batch1_image/dataset/139_004_112838.Jpg\n",
      "[SKIPPED] Missing file: datasets/thyroid_ultrasonic_image/batch1_image/dataset/139_005_112838.Jpg\n",
      "[SKIPPED] Missing file: datasets/thyroid_ultrasonic_image/batch1_image/dataset/139_006_112838.Jpg\n",
      "[SKIPPED] Missing file: datasets/thyroid_ultrasonic_image/batch1_image/dataset/139_007_112838.Jpg\n",
      "[SKIPPED] Missing file: datasets/thyroid_ultrasonic_image/batch1_image/dataset/139_008_112838.Jpg\n",
      "[SKIPPED] Missing file: datasets/thyroid_ultrasonic_image/batch1_image/dataset/139_009_112838.Jpg\n",
      "[SKIPPED] Missing file: datasets/thyroid_ultrasonic_image/batch1_image/dataset/139_010_112839.Jpg\n",
      "[SKIPPED] Missing file: datasets/thyroid_ultrasonic_image/batch1_image/dataset/139_011_112839.Jpg\n",
      "[SKIPPED] Missing file: datasets/thyroid_ultrasonic_image/batch1_image/dataset/139_012_112839.Jpg\n",
      "[SKIPPED] Missing file: datasets/thyroid_ultrasonic_image/batch1_image/dataset/139_013_112839.Jpg\n",
      "[SKIPPED] Missing file: datasets/thyroid_ultrasonic_image/batch1_image/dataset/139_014_112839.Jpg\n",
      "[SKIPPED] Missing file: datasets/thyroid_ultrasonic_image/batch1_image/dataset/139_015_112839.Jpg\n",
      "[SKIPPED] Missing file: datasets/thyroid_ultrasonic_image/batch1_image/dataset/139_016_112840.Jpg\n",
      "[SKIPPED] Missing file: datasets/thyroid_ultrasonic_image/batch1_image/dataset/139_017_112840.Jpg\n",
      "[SKIPPED] Missing file: datasets/thyroid_ultrasonic_image/batch1_image/dataset/139_018_112840.Jpg\n",
      "[SKIPPED] Missing file: datasets/thyroid_ultrasonic_image/batch1_image/dataset/139_019_112840.Jpg\n",
      "[WARNING] No valid images for patient: 139, skipping\n",
      "[SKIPPED] Missing file: datasets/thyroid_ultrasonic_image/batch1_image/dataset/140_004_174112.Jpg\n",
      "[SKIPPED] Missing file: datasets/thyroid_ultrasonic_image/batch1_image/dataset/140_005_174112.Jpg\n",
      "[SKIPPED] Missing file: datasets/thyroid_ultrasonic_image/batch1_image/dataset/140_006_174113.Jpg\n",
      "[SKIPPED] Missing file: datasets/thyroid_ultrasonic_image/batch1_image/dataset/140_007_174113.Jpg\n",
      "[SKIPPED] Missing file: datasets/thyroid_ultrasonic_image/batch1_image/dataset/140_008_174113.Jpg\n",
      "[SKIPPED] Missing file: datasets/thyroid_ultrasonic_image/batch1_image/dataset/140_009_174113.Jpg\n",
      "[WARNING] No valid images for patient: 140, skipping\n",
      "[SKIPPED] Missing file: datasets/thyroid_ultrasonic_image/batch1_image/dataset/141_001_175325.Jpg\n",
      "[SKIPPED] Missing file: datasets/thyroid_ultrasonic_image/batch1_image/dataset/141_002_175325.Jpg\n",
      "[SKIPPED] Missing file: datasets/thyroid_ultrasonic_image/batch1_image/dataset/141_003_175325.Jpg\n",
      "[SKIPPED] Missing file: datasets/thyroid_ultrasonic_image/batch1_image/dataset/141_004_175326.Jpg\n",
      "[SKIPPED] Missing file: datasets/thyroid_ultrasonic_image/batch1_image/dataset/141_005_175326.Jpg\n",
      "[SKIPPED] Missing file: datasets/thyroid_ultrasonic_image/batch1_image/dataset/141_006_175326.Jpg\n",
      "[SKIPPED] Missing file: datasets/thyroid_ultrasonic_image/batch1_image/dataset/141_007_175326.Jpg\n",
      "[SKIPPED] Missing file: datasets/thyroid_ultrasonic_image/batch1_image/dataset/141_008_175326.Jpg\n",
      "[SKIPPED] Missing file: datasets/thyroid_ultrasonic_image/batch1_image/dataset/141_009_175327.Jpg\n",
      "[SKIPPED] Missing file: datasets/thyroid_ultrasonic_image/batch1_image/dataset/141_010_175327.Jpg\n",
      "[SKIPPED] Missing file: datasets/thyroid_ultrasonic_image/batch1_image/dataset/141_011_175327.Jpg\n",
      "[SKIPPED] Missing file: datasets/thyroid_ultrasonic_image/batch1_image/dataset/141_012_175327.Jpg\n",
      "[SKIPPED] Missing file: datasets/thyroid_ultrasonic_image/batch1_image/dataset/141_013_175328.Jpg\n",
      "[SKIPPED] Missing file: datasets/thyroid_ultrasonic_image/batch1_image/dataset/141_014_175328.Jpg\n",
      "[WARNING] No valid images for patient: 141, skipping\n",
      "[SKIPPED] Missing file: datasets/thyroid_ultrasonic_image/batch1_image/dataset/142_001_135755.Jpg\n",
      "[SKIPPED] Missing file: datasets/thyroid_ultrasonic_image/batch1_image/dataset/142_002_135755.Jpg\n",
      "[SKIPPED] Missing file: datasets/thyroid_ultrasonic_image/batch1_image/dataset/142_003_135755.Jpg\n",
      "[SKIPPED] Missing file: datasets/thyroid_ultrasonic_image/batch1_image/dataset/142_004_135755.Jpg\n",
      "[SKIPPED] Missing file: datasets/thyroid_ultrasonic_image/batch1_image/dataset/142_005_135756.Jpg\n",
      "[SKIPPED] Missing file: datasets/thyroid_ultrasonic_image/batch1_image/dataset/142_006_135756.Jpg\n",
      "[SKIPPED] Missing file: datasets/thyroid_ultrasonic_image/batch1_image/dataset/142_007_135756.Jpg\n",
      "[SKIPPED] Missing file: datasets/thyroid_ultrasonic_image/batch1_image/dataset/142_008_135756.Jpg\n",
      "[SKIPPED] Missing file: datasets/thyroid_ultrasonic_image/batch1_image/dataset/142_009_135756.Jpg\n",
      "[WARNING] No valid images for patient: 142, skipping\n",
      "[SKIPPED] Missing file: datasets/thyroid_ultrasonic_image/batch1_image/dataset/143_001_180028.Jpg\n",
      "[SKIPPED] Missing file: datasets/thyroid_ultrasonic_image/batch1_image/dataset/143_002_180028.Jpg\n",
      "[SKIPPED] Missing file: datasets/thyroid_ultrasonic_image/batch1_image/dataset/143_003_180028.Jpg\n",
      "[SKIPPED] Missing file: datasets/thyroid_ultrasonic_image/batch1_image/dataset/143_004_180029.Jpg\n",
      "[SKIPPED] Missing file: datasets/thyroid_ultrasonic_image/batch1_image/dataset/143_005_180029.Jpg\n",
      "[SKIPPED] Missing file: datasets/thyroid_ultrasonic_image/batch1_image/dataset/143_006_180029.Jpg\n",
      "[SKIPPED] Missing file: datasets/thyroid_ultrasonic_image/batch1_image/dataset/143_007_180029.Jpg\n",
      "[SKIPPED] Missing file: datasets/thyroid_ultrasonic_image/batch1_image/dataset/143_008_180029.Jpg\n",
      "[SKIPPED] Missing file: datasets/thyroid_ultrasonic_image/batch1_image/dataset/143_009_180030.Jpg\n",
      "[SKIPPED] Missing file: datasets/thyroid_ultrasonic_image/batch1_image/dataset/143_010_180030.Jpg\n",
      "[SKIPPED] Missing file: datasets/thyroid_ultrasonic_image/batch1_image/dataset/143_011_180030.Jpg\n",
      "[WARNING] No valid images for patient: 143, skipping\n",
      "[SKIPPED] Missing file: datasets/thyroid_ultrasonic_image/batch1_image/dataset/144_002_175830.Jpg\n",
      "[SKIPPED] Missing file: datasets/thyroid_ultrasonic_image/batch1_image/dataset/144_003_175830.Jpg\n",
      "[SKIPPED] Missing file: datasets/thyroid_ultrasonic_image/batch1_image/dataset/144_004_175830.Jpg\n",
      "[SKIPPED] Missing file: datasets/thyroid_ultrasonic_image/batch1_image/dataset/144_005_175831.Jpg\n",
      "[SKIPPED] Missing file: datasets/thyroid_ultrasonic_image/batch1_image/dataset/144_006_175831.Jpg\n",
      "[SKIPPED] Missing file: datasets/thyroid_ultrasonic_image/batch1_image/dataset/144_007_175831.Jpg\n",
      "[SKIPPED] Missing file: datasets/thyroid_ultrasonic_image/batch1_image/dataset/144_008_175831.Jpg\n",
      "[SKIPPED] Missing file: datasets/thyroid_ultrasonic_image/batch1_image/dataset/144_009_175831.Jpg\n",
      "[SKIPPED] Missing file: datasets/thyroid_ultrasonic_image/batch1_image/dataset/144_010_175832.Jpg\n",
      "[WARNING] No valid images for patient: 144, skipping\n",
      "[SKIPPED] Missing file: datasets/thyroid_ultrasonic_image/batch1_image/dataset/145_001_103908.Jpg\n",
      "[SKIPPED] Missing file: datasets/thyroid_ultrasonic_image/batch1_image/dataset/145_002_103908.Jpg\n",
      "[SKIPPED] Missing file: datasets/thyroid_ultrasonic_image/batch1_image/dataset/145_003_103909.Jpg\n",
      "[SKIPPED] Missing file: datasets/thyroid_ultrasonic_image/batch1_image/dataset/145_004_103909.Jpg\n",
      "[SKIPPED] Missing file: datasets/thyroid_ultrasonic_image/batch1_image/dataset/145_005_103909.Jpg\n",
      "[SKIPPED] Missing file: datasets/thyroid_ultrasonic_image/batch1_image/dataset/145_006_103910.Jpg\n",
      "[SKIPPED] Missing file: datasets/thyroid_ultrasonic_image/batch1_image/dataset/145_007_103910.Jpg\n",
      "[SKIPPED] Missing file: datasets/thyroid_ultrasonic_image/batch1_image/dataset/145_008_103910.Jpg\n"
     ]
    },
    {
     "name": "stderr",
     "output_type": "stream",
     "text": [
      "Extracting patient features:  67%|██████▋   | 162/241 [00:01<00:00, 82.36it/s]"
     ]
    },
    {
     "name": "stdout",
     "output_type": "stream",
     "text": [
      "[SKIPPED] Missing file: datasets/thyroid_ultrasonic_image/batch1_image/dataset/145_009_103911.Jpg\n",
      "[SKIPPED] Missing file: datasets/thyroid_ultrasonic_image/batch1_image/dataset/145_010_103911.Jpg\n",
      "[SKIPPED] Missing file: datasets/thyroid_ultrasonic_image/batch1_image/dataset/145_011_103911.Jpg\n",
      "[SKIPPED] Missing file: datasets/thyroid_ultrasonic_image/batch1_image/dataset/145_012_103912.Jpg\n",
      "[SKIPPED] Missing file: datasets/thyroid_ultrasonic_image/batch1_image/dataset/145_013_103912.Jpg\n",
      "[SKIPPED] Missing file: datasets/thyroid_ultrasonic_image/batch1_image/dataset/145_014_103912.Jpg\n",
      "[SKIPPED] Missing file: datasets/thyroid_ultrasonic_image/batch1_image/dataset/145_015_103912.Jpg\n",
      "[SKIPPED] Missing file: datasets/thyroid_ultrasonic_image/batch1_image/dataset/145_016_103913.Jpg\n",
      "[SKIPPED] Missing file: datasets/thyroid_ultrasonic_image/batch1_image/dataset/145_017_103913.Jpg\n",
      "[WARNING] No valid images for patient: 145, skipping\n",
      "[SKIPPED] Missing file: datasets/thyroid_ultrasonic_image/batch1_image/dataset/146_028_135437.Jpg\n",
      "[SKIPPED] Missing file: datasets/thyroid_ultrasonic_image/batch1_image/dataset/146_029_135438.Jpg\n",
      "[SKIPPED] Missing file: datasets/thyroid_ultrasonic_image/batch1_image/dataset/146_030_135438.Jpg\n",
      "[SKIPPED] Missing file: datasets/thyroid_ultrasonic_image/batch1_image/dataset/146_031_135438.Jpg\n",
      "[SKIPPED] Missing file: datasets/thyroid_ultrasonic_image/batch1_image/dataset/146_032_135438.Jpg\n",
      "[SKIPPED] Missing file: datasets/thyroid_ultrasonic_image/batch1_image/dataset/146_033_135438.Jpg\n",
      "[SKIPPED] Missing file: datasets/thyroid_ultrasonic_image/batch1_image/dataset/146_034_135438.Jpg\n",
      "[SKIPPED] Missing file: datasets/thyroid_ultrasonic_image/batch1_image/dataset/146_035_135439.Jpg\n",
      "[SKIPPED] Missing file: datasets/thyroid_ultrasonic_image/batch1_image/dataset/146_036_135439.Jpg\n",
      "[SKIPPED] Missing file: datasets/thyroid_ultrasonic_image/batch1_image/dataset/146_037_135439.Jpg\n",
      "[SKIPPED] Missing file: datasets/thyroid_ultrasonic_image/batch1_image/dataset/146_038_135439.Jpg\n",
      "[SKIPPED] Missing file: datasets/thyroid_ultrasonic_image/batch1_image/dataset/146_039_135439.Jpg\n",
      "[SKIPPED] Missing file: datasets/thyroid_ultrasonic_image/batch1_image/dataset/146_040_135440.Jpg\n",
      "[SKIPPED] Missing file: datasets/thyroid_ultrasonic_image/batch1_image/dataset/146_041_135440.Jpg\n",
      "[SKIPPED] Missing file: datasets/thyroid_ultrasonic_image/batch1_image/dataset/146_042_135440.Jpg\n",
      "[SKIPPED] Missing file: datasets/thyroid_ultrasonic_image/batch1_image/dataset/146_043_135440.Jpg\n",
      "[WARNING] No valid images for patient: 146, skipping\n",
      "[SKIPPED] Missing file: datasets/thyroid_ultrasonic_image/batch1_image/dataset/147_001_183507.Jpg\n",
      "[SKIPPED] Missing file: datasets/thyroid_ultrasonic_image/batch1_image/dataset/147_002_183507.Jpg\n",
      "[SKIPPED] Missing file: datasets/thyroid_ultrasonic_image/batch1_image/dataset/147_003_183508.Jpg\n",
      "[SKIPPED] Missing file: datasets/thyroid_ultrasonic_image/batch1_image/dataset/147_004_183508.Jpg\n",
      "[SKIPPED] Missing file: datasets/thyroid_ultrasonic_image/batch1_image/dataset/147_005_183508.Jpg\n",
      "[SKIPPED] Missing file: datasets/thyroid_ultrasonic_image/batch1_image/dataset/147_006_183508.Jpg\n",
      "[WARNING] No valid images for patient: 147, skipping\n",
      "[SKIPPED] Missing file: datasets/thyroid_ultrasonic_image/batch1_image/dataset/148_001_180108.Jpg\n",
      "[SKIPPED] Missing file: datasets/thyroid_ultrasonic_image/batch1_image/dataset/148_002_180108.Jpg\n",
      "[SKIPPED] Missing file: datasets/thyroid_ultrasonic_image/batch1_image/dataset/148_003_180108.Jpg\n",
      "[SKIPPED] Missing file: datasets/thyroid_ultrasonic_image/batch1_image/dataset/148_004_180108.Jpg\n",
      "[SKIPPED] Missing file: datasets/thyroid_ultrasonic_image/batch1_image/dataset/148_005_180109.Jpg\n",
      "[SKIPPED] Missing file: datasets/thyroid_ultrasonic_image/batch1_image/dataset/148_006_180109.Jpg\n",
      "[WARNING] No valid images for patient: 148, skipping\n",
      "[SKIPPED] Missing file: datasets/thyroid_ultrasonic_image/batch1_image/dataset/149_001_191821.Jpg\n",
      "[SKIPPED] Missing file: datasets/thyroid_ultrasonic_image/batch1_image/dataset/149_002_191822.Jpg\n",
      "[SKIPPED] Missing file: datasets/thyroid_ultrasonic_image/batch1_image/dataset/149_003_191822.Jpg\n",
      "[SKIPPED] Missing file: datasets/thyroid_ultrasonic_image/batch1_image/dataset/149_004_191822.Jpg\n",
      "[SKIPPED] Missing file: datasets/thyroid_ultrasonic_image/batch1_image/dataset/149_005_191822.Jpg\n",
      "[SKIPPED] Missing file: datasets/thyroid_ultrasonic_image/batch1_image/dataset/149_006_191823.Jpg\n",
      "[SKIPPED] Missing file: datasets/thyroid_ultrasonic_image/batch1_image/dataset/149_007_191823.Jpg\n",
      "[SKIPPED] Missing file: datasets/thyroid_ultrasonic_image/batch1_image/dataset/149_008_191823.Jpg\n",
      "[SKIPPED] Missing file: datasets/thyroid_ultrasonic_image/batch1_image/dataset/149_009_191823.Jpg\n",
      "[SKIPPED] Missing file: datasets/thyroid_ultrasonic_image/batch1_image/dataset/149_010_191824.Jpg\n",
      "[SKIPPED] Missing file: datasets/thyroid_ultrasonic_image/batch1_image/dataset/149_011_191824.Jpg\n",
      "[SKIPPED] Missing file: datasets/thyroid_ultrasonic_image/batch1_image/dataset/149_012_191824.Jpg\n",
      "[WARNING] No valid images for patient: 149, skipping\n",
      "[SKIPPED] Missing file: datasets/thyroid_ultrasonic_image/batch1_image/dataset/150_001_104917.Jpg\n",
      "[SKIPPED] Missing file: datasets/thyroid_ultrasonic_image/batch1_image/dataset/150_002_104917.Jpg\n",
      "[SKIPPED] Missing file: datasets/thyroid_ultrasonic_image/batch1_image/dataset/150_003_104918.Jpg\n",
      "[SKIPPED] Missing file: datasets/thyroid_ultrasonic_image/batch1_image/dataset/150_004_104918.Jpg\n",
      "[SKIPPED] Missing file: datasets/thyroid_ultrasonic_image/batch1_image/dataset/150_005_104918.Jpg\n",
      "[SKIPPED] Missing file: datasets/thyroid_ultrasonic_image/batch1_image/dataset/150_006_104919.Jpg\n",
      "[SKIPPED] Missing file: datasets/thyroid_ultrasonic_image/batch1_image/dataset/150_007_104919.Jpg\n",
      "[SKIPPED] Missing file: datasets/thyroid_ultrasonic_image/batch1_image/dataset/150_008_104919.Jpg\n",
      "[SKIPPED] Missing file: datasets/thyroid_ultrasonic_image/batch1_image/dataset/150_009_104920.Jpg\n",
      "[SKIPPED] Missing file: datasets/thyroid_ultrasonic_image/batch1_image/dataset/150_010_104920.Jpg\n",
      "[SKIPPED] Missing file: datasets/thyroid_ultrasonic_image/batch1_image/dataset/150_011_104920.Jpg\n",
      "[SKIPPED] Missing file: datasets/thyroid_ultrasonic_image/batch1_image/dataset/150_012_104921.Jpg\n",
      "[SKIPPED] Missing file: datasets/thyroid_ultrasonic_image/batch1_image/dataset/150_013_104921.Jpg\n",
      "[SKIPPED] Missing file: datasets/thyroid_ultrasonic_image/batch1_image/dataset/150_014_104921.Jpg\n",
      "[SKIPPED] Missing file: datasets/thyroid_ultrasonic_image/batch1_image/dataset/150_015_104922.Jpg\n",
      "[SKIPPED] Missing file: datasets/thyroid_ultrasonic_image/batch1_image/dataset/150_016_104922.Jpg\n",
      "[SKIPPED] Missing file: datasets/thyroid_ultrasonic_image/batch1_image/dataset/150_017_104922.Jpg\n",
      "[WARNING] No valid images for patient: 150, skipping\n",
      "[SKIPPED] Missing file: datasets/thyroid_ultrasonic_image/batch1_image/dataset/151_001_174524.Jpg\n",
      "[SKIPPED] Missing file: datasets/thyroid_ultrasonic_image/batch1_image/dataset/151_002_174524.Jpg\n",
      "[SKIPPED] Missing file: datasets/thyroid_ultrasonic_image/batch1_image/dataset/151_003_174524.Jpg\n",
      "[SKIPPED] Missing file: datasets/thyroid_ultrasonic_image/batch1_image/dataset/151_004_174524.Jpg\n",
      "[SKIPPED] Missing file: datasets/thyroid_ultrasonic_image/batch1_image/dataset/151_005_174525.Jpg\n",
      "[SKIPPED] Missing file: datasets/thyroid_ultrasonic_image/batch1_image/dataset/151_006_174525.Jpg\n",
      "[SKIPPED] Missing file: datasets/thyroid_ultrasonic_image/batch1_image/dataset/151_007_174525.Jpg\n",
      "[SKIPPED] Missing file: datasets/thyroid_ultrasonic_image/batch1_image/dataset/151_008_174525.Jpg\n",
      "[WARNING] No valid images for patient: 151, skipping\n",
      "[SKIPPED] Missing file: datasets/thyroid_ultrasonic_image/batch1_image/dataset/152_001_183815.Jpg\n",
      "[SKIPPED] Missing file: datasets/thyroid_ultrasonic_image/batch1_image/dataset/152_016_183817.Jpg\n",
      "[SKIPPED] Missing file: datasets/thyroid_ultrasonic_image/batch1_image/dataset/152_017_183818.Jpg\n",
      "[SKIPPED] Missing file: datasets/thyroid_ultrasonic_image/batch1_image/dataset/152_018_183818.Jpg\n",
      "[SKIPPED] Missing file: datasets/thyroid_ultrasonic_image/batch1_image/dataset/152_019_183818.Jpg\n",
      "[SKIPPED] Missing file: datasets/thyroid_ultrasonic_image/batch1_image/dataset/152_020_183818.Jpg\n",
      "[SKIPPED] Missing file: datasets/thyroid_ultrasonic_image/batch1_image/dataset/152_021_183818.Jpg\n",
      "[WARNING] No valid images for patient: 152, skipping\n",
      "[SKIPPED] Missing file: datasets/thyroid_ultrasonic_image/batch1_image/dataset/153_001_182318.Jpg\n",
      "[SKIPPED] Missing file: datasets/thyroid_ultrasonic_image/batch1_image/dataset/153_002_182319.Jpg\n",
      "[SKIPPED] Missing file: datasets/thyroid_ultrasonic_image/batch1_image/dataset/153_003_182319.Jpg\n",
      "[SKIPPED] Missing file: datasets/thyroid_ultrasonic_image/batch1_image/dataset/153_004_182319.Jpg\n",
      "[SKIPPED] Missing file: datasets/thyroid_ultrasonic_image/batch1_image/dataset/153_005_182319.Jpg\n",
      "[SKIPPED] Missing file: datasets/thyroid_ultrasonic_image/batch1_image/dataset/153_006_182319.Jpg\n",
      "[SKIPPED] Missing file: datasets/thyroid_ultrasonic_image/batch1_image/dataset/153_007_182320.Jpg\n",
      "[SKIPPED] Missing file: datasets/thyroid_ultrasonic_image/batch1_image/dataset/153_008_182320.Jpg\n",
      "[SKIPPED] Missing file: datasets/thyroid_ultrasonic_image/batch1_image/dataset/153_023_182322.Jpg\n",
      "[SKIPPED] Missing file: datasets/thyroid_ultrasonic_image/batch1_image/dataset/153_024_182323.Jpg\n",
      "[SKIPPED] Missing file: datasets/thyroid_ultrasonic_image/batch1_image/dataset/153_025_182323.Jpg\n",
      "[WARNING] No valid images for patient: 153, skipping\n",
      "[SKIPPED] Missing file: datasets/thyroid_ultrasonic_image/batch1_image/dataset/154_001_180338.Jpg\n",
      "[SKIPPED] Missing file: datasets/thyroid_ultrasonic_image/batch1_image/dataset/154_002_180339.Jpg\n",
      "[SKIPPED] Missing file: datasets/thyroid_ultrasonic_image/batch1_image/dataset/154_003_180339.Jpg\n",
      "[SKIPPED] Missing file: datasets/thyroid_ultrasonic_image/batch1_image/dataset/154_004_180339.Jpg\n",
      "[SKIPPED] Missing file: datasets/thyroid_ultrasonic_image/batch1_image/dataset/154_005_180340.Jpg\n",
      "[SKIPPED] Missing file: datasets/thyroid_ultrasonic_image/batch1_image/dataset/154_006_180340.Jpg\n",
      "[SKIPPED] Missing file: datasets/thyroid_ultrasonic_image/batch1_image/dataset/154_007_180340.Jpg\n",
      "[SKIPPED] Missing file: datasets/thyroid_ultrasonic_image/batch1_image/dataset/154_008_180340.Jpg\n",
      "[SKIPPED] Missing file: datasets/thyroid_ultrasonic_image/batch1_image/dataset/154_009_180341.Jpg\n",
      "[SKIPPED] Missing file: datasets/thyroid_ultrasonic_image/batch1_image/dataset/154_010_180341.Jpg\n",
      "[SKIPPED] Missing file: datasets/thyroid_ultrasonic_image/batch1_image/dataset/154_011_180341.Jpg\n",
      "[SKIPPED] Missing file: datasets/thyroid_ultrasonic_image/batch1_image/dataset/154_012_180342.Jpg\n",
      "[SKIPPED] Missing file: datasets/thyroid_ultrasonic_image/batch1_image/dataset/154_013_180342.Jpg\n",
      "[SKIPPED] Missing file: datasets/thyroid_ultrasonic_image/batch1_image/dataset/154_014_180342.Jpg\n",
      "[SKIPPED] Missing file: datasets/thyroid_ultrasonic_image/batch1_image/dataset/154_015_180342.Jpg\n",
      "[SKIPPED] Missing file: datasets/thyroid_ultrasonic_image/batch1_image/dataset/154_016_180343.Jpg\n",
      "[SKIPPED] Missing file: datasets/thyroid_ultrasonic_image/batch1_image/dataset/154_017_180343.Jpg\n",
      "[SKIPPED] Missing file: datasets/thyroid_ultrasonic_image/batch1_image/dataset/154_018_180343.Jpg\n",
      "[SKIPPED] Missing file: datasets/thyroid_ultrasonic_image/batch1_image/dataset/154_019_180344.Jpg\n",
      "[WARNING] No valid images for patient: 154, skipping\n",
      "[SKIPPED] Missing file: datasets/thyroid_ultrasonic_image/batch1_image/dataset/155_001_175144.Jpg\n",
      "[SKIPPED] Missing file: datasets/thyroid_ultrasonic_image/batch1_image/dataset/155_002_175144.Jpg\n",
      "[SKIPPED] Missing file: datasets/thyroid_ultrasonic_image/batch1_image/dataset/155_003_175145.Jpg\n",
      "[SKIPPED] Missing file: datasets/thyroid_ultrasonic_image/batch1_image/dataset/155_004_175145.Jpg\n",
      "[SKIPPED] Missing file: datasets/thyroid_ultrasonic_image/batch1_image/dataset/155_005_175145.Jpg\n",
      "[SKIPPED] Missing file: datasets/thyroid_ultrasonic_image/batch1_image/dataset/155_006_175146.Jpg\n",
      "[SKIPPED] Missing file: datasets/thyroid_ultrasonic_image/batch1_image/dataset/155_007_175146.Jpg\n",
      "[SKIPPED] Missing file: datasets/thyroid_ultrasonic_image/batch1_image/dataset/155_008_175146.Jpg\n",
      "[SKIPPED] Missing file: datasets/thyroid_ultrasonic_image/batch1_image/dataset/155_009_175147.Jpg\n",
      "[WARNING] No valid images for patient: 155, skipping\n",
      "[SKIPPED] Missing file: datasets/thyroid_ultrasonic_image/batch1_image/dataset/156_001_180713.Jpg\n",
      "[SKIPPED] Missing file: datasets/thyroid_ultrasonic_image/batch1_image/dataset/156_002_180713.Jpg\n",
      "[SKIPPED] Missing file: datasets/thyroid_ultrasonic_image/batch1_image/dataset/156_003_180714.Jpg\n",
      "[SKIPPED] Missing file: datasets/thyroid_ultrasonic_image/batch1_image/dataset/156_004_180714.Jpg\n",
      "[SKIPPED] Missing file: datasets/thyroid_ultrasonic_image/batch1_image/dataset/156_005_180714.Jpg\n",
      "[SKIPPED] Missing file: datasets/thyroid_ultrasonic_image/batch1_image/dataset/156_006_180714.Jpg\n",
      "[SKIPPED] Missing file: datasets/thyroid_ultrasonic_image/batch1_image/dataset/156_007_180715.Jpg\n",
      "[SKIPPED] Missing file: datasets/thyroid_ultrasonic_image/batch1_image/dataset/156_008_180715.Jpg\n",
      "[SKIPPED] Missing file: datasets/thyroid_ultrasonic_image/batch1_image/dataset/156_009_180715.Jpg\n",
      "[SKIPPED] Missing file: datasets/thyroid_ultrasonic_image/batch1_image/dataset/156_010_180715.Jpg\n",
      "[SKIPPED] Missing file: datasets/thyroid_ultrasonic_image/batch1_image/dataset/156_011_180715.Jpg\n",
      "[WARNING] No valid images for patient: 156, skipping\n",
      "[SKIPPED] Missing file: datasets/thyroid_ultrasonic_image/batch1_image/dataset/157_001_175619.Jpg\n",
      "[SKIPPED] Missing file: datasets/thyroid_ultrasonic_image/batch1_image/dataset/157_002_175619.Jpg\n",
      "[SKIPPED] Missing file: datasets/thyroid_ultrasonic_image/batch1_image/dataset/157_003_175619.Jpg\n",
      "[SKIPPED] Missing file: datasets/thyroid_ultrasonic_image/batch1_image/dataset/157_004_175619.Jpg\n",
      "[SKIPPED] Missing file: datasets/thyroid_ultrasonic_image/batch1_image/dataset/157_005_175620.Jpg\n",
      "[SKIPPED] Missing file: datasets/thyroid_ultrasonic_image/batch1_image/dataset/157_006_175620.Jpg\n",
      "[SKIPPED] Missing file: datasets/thyroid_ultrasonic_image/batch1_image/dataset/157_007_175620.Jpg\n",
      "[SKIPPED] Missing file: datasets/thyroid_ultrasonic_image/batch1_image/dataset/157_008_175620.Jpg\n",
      "[SKIPPED] Missing file: datasets/thyroid_ultrasonic_image/batch1_image/dataset/157_009_175620.Jpg\n",
      "[SKIPPED] Missing file: datasets/thyroid_ultrasonic_image/batch1_image/dataset/157_010_175621.Jpg\n",
      "[SKIPPED] Missing file: datasets/thyroid_ultrasonic_image/batch1_image/dataset/157_011_175621.Jpg\n",
      "[WARNING] No valid images for patient: 157, skipping\n",
      "[SKIPPED] Missing file: datasets/thyroid_ultrasonic_image/batch1_image/dataset/158_022_174151.Jpg\n",
      "[SKIPPED] Missing file: datasets/thyroid_ultrasonic_image/batch1_image/dataset/158_023_174152.Jpg\n",
      "[SKIPPED] Missing file: datasets/thyroid_ultrasonic_image/batch1_image/dataset/158_024_174152.Jpg\n",
      "[SKIPPED] Missing file: datasets/thyroid_ultrasonic_image/batch1_image/dataset/158_025_174152.Jpg\n",
      "[SKIPPED] Missing file: datasets/thyroid_ultrasonic_image/batch1_image/dataset/158_026_174152.Jpg\n",
      "[SKIPPED] Missing file: datasets/thyroid_ultrasonic_image/batch1_image/dataset/158_027_174153.Jpg\n",
      "[WARNING] No valid images for patient: 158, skipping\n",
      "[SKIPPED] Missing file: datasets/thyroid_ultrasonic_image/batch1_image/dataset/159_001_134447.Jpg\n",
      "[SKIPPED] Missing file: datasets/thyroid_ultrasonic_image/batch1_image/dataset/159_002_134447.Jpg\n",
      "[SKIPPED] Missing file: datasets/thyroid_ultrasonic_image/batch1_image/dataset/159_003_134447.Jpg\n",
      "[SKIPPED] Missing file: datasets/thyroid_ultrasonic_image/batch1_image/dataset/159_004_134447.Jpg\n",
      "[SKIPPED] Missing file: datasets/thyroid_ultrasonic_image/batch1_image/dataset/159_005_134448.Jpg\n",
      "[SKIPPED] Missing file: datasets/thyroid_ultrasonic_image/batch1_image/dataset/159_006_134448.Jpg\n",
      "[SKIPPED] Missing file: datasets/thyroid_ultrasonic_image/batch1_image/dataset/159_007_134448.Jpg\n",
      "[SKIPPED] Missing file: datasets/thyroid_ultrasonic_image/batch1_image/dataset/159_008_134448.Jpg\n",
      "[SKIPPED] Missing file: datasets/thyroid_ultrasonic_image/batch1_image/dataset/159_009_134449.Jpg\n",
      "[SKIPPED] Missing file: datasets/thyroid_ultrasonic_image/batch1_image/dataset/159_010_134449.Jpg\n",
      "[WARNING] No valid images for patient: 159, skipping\n",
      "[SKIPPED] Missing file: datasets/thyroid_ultrasonic_image/batch1_image/dataset/160_001_180339.Jpg\n",
      "[SKIPPED] Missing file: datasets/thyroid_ultrasonic_image/batch1_image/dataset/160_002_180339.Jpg\n",
      "[SKIPPED] Missing file: datasets/thyroid_ultrasonic_image/batch1_image/dataset/160_003_180339.Jpg\n",
      "[SKIPPED] Missing file: datasets/thyroid_ultrasonic_image/batch1_image/dataset/160_004_180340.Jpg\n",
      "[SKIPPED] Missing file: datasets/thyroid_ultrasonic_image/batch1_image/dataset/160_005_180340.Jpg\n",
      "[SKIPPED] Missing file: datasets/thyroid_ultrasonic_image/batch1_image/dataset/160_006_180340.Jpg\n",
      "[SKIPPED] Missing file: datasets/thyroid_ultrasonic_image/batch1_image/dataset/160_007_180341.Jpg\n",
      "[SKIPPED] Missing file: datasets/thyroid_ultrasonic_image/batch1_image/dataset/160_008_180341.Jpg\n",
      "[SKIPPED] Missing file: datasets/thyroid_ultrasonic_image/batch1_image/dataset/160_009_180341.Jpg\n",
      "[SKIPPED] Missing file: datasets/thyroid_ultrasonic_image/batch1_image/dataset/160_010_180342.Jpg\n",
      "[WARNING] No valid images for patient: 160, skipping\n",
      "[SKIPPED] Missing file: datasets/thyroid_ultrasonic_image/batch1_image/dataset/161_001_174247.Jpg\n",
      "[SKIPPED] Missing file: datasets/thyroid_ultrasonic_image/batch1_image/dataset/161_002_174248.Jpg\n",
      "[SKIPPED] Missing file: datasets/thyroid_ultrasonic_image/batch1_image/dataset/161_003_174248.Jpg\n",
      "[SKIPPED] Missing file: datasets/thyroid_ultrasonic_image/batch1_image/dataset/161_004_174248.Jpg\n",
      "[SKIPPED] Missing file: datasets/thyroid_ultrasonic_image/batch1_image/dataset/161_005_174248.Jpg\n",
      "[SKIPPED] Missing file: datasets/thyroid_ultrasonic_image/batch1_image/dataset/161_006_174248.Jpg\n",
      "[SKIPPED] Missing file: datasets/thyroid_ultrasonic_image/batch1_image/dataset/161_007_174249.Jpg\n",
      "[SKIPPED] Missing file: datasets/thyroid_ultrasonic_image/batch1_image/dataset/161_008_174249.Jpg\n",
      "[SKIPPED] Missing file: datasets/thyroid_ultrasonic_image/batch1_image/dataset/161_009_174249.Jpg\n",
      "[SKIPPED] Missing file: datasets/thyroid_ultrasonic_image/batch1_image/dataset/161_010_174249.Jpg\n",
      "[SKIPPED] Missing file: datasets/thyroid_ultrasonic_image/batch1_image/dataset/161_013_174250.Jpg\n",
      "[SKIPPED] Missing file: datasets/thyroid_ultrasonic_image/batch1_image/dataset/161_014_174250.Jpg\n",
      "[SKIPPED] Missing file: datasets/thyroid_ultrasonic_image/batch1_image/dataset/161_015_174251.Jpg\n",
      "[SKIPPED] Missing file: datasets/thyroid_ultrasonic_image/batch1_image/dataset/161_016_174251.Jpg\n",
      "[SKIPPED] Missing file: datasets/thyroid_ultrasonic_image/batch1_image/dataset/161_017_174251.Jpg\n",
      "[SKIPPED] Missing file: datasets/thyroid_ultrasonic_image/batch1_image/dataset/161_019_174251.Jpg\n",
      "[WARNING] No valid images for patient: 161, skipping\n"
     ]
    },
    {
     "name": "stderr",
     "output_type": "stream",
     "text": [
      "Extracting patient features:  71%|███████   | 171/241 [00:01<00:00, 84.03it/s]"
     ]
    },
    {
     "name": "stdout",
     "output_type": "stream",
     "text": [
      "[SKIPPED] Missing file: datasets/thyroid_ultrasonic_image/batch1_image/dataset/162_001_112801.Jpg\n",
      "[SKIPPED] Missing file: datasets/thyroid_ultrasonic_image/batch1_image/dataset/162_002_112801.Jpg\n",
      "[SKIPPED] Missing file: datasets/thyroid_ultrasonic_image/batch1_image/dataset/162_003_112801.Jpg\n",
      "[SKIPPED] Missing file: datasets/thyroid_ultrasonic_image/batch1_image/dataset/162_004_112802.Jpg\n",
      "[SKIPPED] Missing file: datasets/thyroid_ultrasonic_image/batch1_image/dataset/162_005_112802.Jpg\n",
      "[SKIPPED] Missing file: datasets/thyroid_ultrasonic_image/batch1_image/dataset/162_006_112802.Jpg\n",
      "[SKIPPED] Missing file: datasets/thyroid_ultrasonic_image/batch1_image/dataset/162_007_112802.Jpg\n",
      "[SKIPPED] Missing file: datasets/thyroid_ultrasonic_image/batch1_image/dataset/162_008_112802.Jpg\n",
      "[SKIPPED] Missing file: datasets/thyroid_ultrasonic_image/batch1_image/dataset/162_009_112803.Jpg\n",
      "[WARNING] No valid images for patient: 162, skipping\n",
      "[SKIPPED] Missing file: datasets/thyroid_ultrasonic_image/batch1_image/dataset/163_001_181351.Jpg\n",
      "[SKIPPED] Missing file: datasets/thyroid_ultrasonic_image/batch1_image/dataset/163_002_181352.Jpg\n",
      "[SKIPPED] Missing file: datasets/thyroid_ultrasonic_image/batch1_image/dataset/163_003_181352.Jpg\n",
      "[SKIPPED] Missing file: datasets/thyroid_ultrasonic_image/batch1_image/dataset/163_004_181352.Jpg\n",
      "[SKIPPED] Missing file: datasets/thyroid_ultrasonic_image/batch1_image/dataset/163_005_181352.Jpg\n",
      "[SKIPPED] Missing file: datasets/thyroid_ultrasonic_image/batch1_image/dataset/163_006_181352.Jpg\n",
      "[SKIPPED] Missing file: datasets/thyroid_ultrasonic_image/batch1_image/dataset/163_007_181352.Jpg\n",
      "[SKIPPED] Missing file: datasets/thyroid_ultrasonic_image/batch1_image/dataset/163_008_181352.Jpg\n",
      "[WARNING] No valid images for patient: 163, skipping\n",
      "[SKIPPED] Missing file: datasets/thyroid_ultrasonic_image/batch1_image/dataset/164_001_105315.Jpg\n",
      "[SKIPPED] Missing file: datasets/thyroid_ultrasonic_image/batch1_image/dataset/164_006_105316.Jpg\n",
      "[SKIPPED] Missing file: datasets/thyroid_ultrasonic_image/batch1_image/dataset/164_007_105316.Jpg\n",
      "[SKIPPED] Missing file: datasets/thyroid_ultrasonic_image/batch1_image/dataset/164_011_105317.Jpg\n",
      "[SKIPPED] Missing file: datasets/thyroid_ultrasonic_image/batch1_image/dataset/164_014_105317.Jpg\n",
      "[SKIPPED] Missing file: datasets/thyroid_ultrasonic_image/batch1_image/dataset/164_015_105318.Jpg\n",
      "[WARNING] No valid images for patient: 164, skipping\n",
      "[SKIPPED] Missing file: datasets/thyroid_ultrasonic_image/batch1_image/dataset/165_016_135734.Jpg\n",
      "[SKIPPED] Missing file: datasets/thyroid_ultrasonic_image/batch1_image/dataset/165_017_135735.Jpg\n",
      "[SKIPPED] Missing file: datasets/thyroid_ultrasonic_image/batch1_image/dataset/165_018_135735.Jpg\n",
      "[SKIPPED] Missing file: datasets/thyroid_ultrasonic_image/batch1_image/dataset/165_019_135735.Jpg\n",
      "[SKIPPED] Missing file: datasets/thyroid_ultrasonic_image/batch1_image/dataset/165_020_135736.Jpg\n",
      "[SKIPPED] Missing file: datasets/thyroid_ultrasonic_image/batch1_image/dataset/165_021_135736.Jpg\n",
      "[WARNING] No valid images for patient: 165, skipping\n",
      "[SKIPPED] Missing file: datasets/thyroid_ultrasonic_image/batch1_image/dataset/166_001_180931.Jpg\n",
      "[SKIPPED] Missing file: datasets/thyroid_ultrasonic_image/batch1_image/dataset/166_002_180932.Jpg\n",
      "[SKIPPED] Missing file: datasets/thyroid_ultrasonic_image/batch1_image/dataset/166_003_180932.Jpg\n",
      "[SKIPPED] Missing file: datasets/thyroid_ultrasonic_image/batch1_image/dataset/166_004_180933.Jpg\n",
      "[SKIPPED] Missing file: datasets/thyroid_ultrasonic_image/batch1_image/dataset/166_005_180933.Jpg\n",
      "[SKIPPED] Missing file: datasets/thyroid_ultrasonic_image/batch1_image/dataset/166_006_180933.Jpg\n",
      "[SKIPPED] Missing file: datasets/thyroid_ultrasonic_image/batch1_image/dataset/166_007_180934.Jpg\n",
      "[SKIPPED] Missing file: datasets/thyroid_ultrasonic_image/batch1_image/dataset/166_008_180934.Jpg\n",
      "[SKIPPED] Missing file: datasets/thyroid_ultrasonic_image/batch1_image/dataset/166_009_180934.Jpg\n",
      "[SKIPPED] Missing file: datasets/thyroid_ultrasonic_image/batch1_image/dataset/166_010_180935.Jpg\n",
      "[SKIPPED] Missing file: datasets/thyroid_ultrasonic_image/batch1_image/dataset/166_011_180935.Jpg\n",
      "[SKIPPED] Missing file: datasets/thyroid_ultrasonic_image/batch1_image/dataset/166_012_180935.Jpg\n",
      "[SKIPPED] Missing file: datasets/thyroid_ultrasonic_image/batch1_image/dataset/166_013_180936.Jpg\n",
      "[SKIPPED] Missing file: datasets/thyroid_ultrasonic_image/batch1_image/dataset/166_014_180936.Jpg\n",
      "[SKIPPED] Missing file: datasets/thyroid_ultrasonic_image/batch1_image/dataset/166_015_180936.Jpg\n",
      "[SKIPPED] Missing file: datasets/thyroid_ultrasonic_image/batch1_image/dataset/166_016_180937.Jpg\n",
      "[SKIPPED] Missing file: datasets/thyroid_ultrasonic_image/batch1_image/dataset/166_017_180937.Jpg\n",
      "[SKIPPED] Missing file: datasets/thyroid_ultrasonic_image/batch1_image/dataset/166_018_180938.Jpg\n",
      "[SKIPPED] Missing file: datasets/thyroid_ultrasonic_image/batch1_image/dataset/166_019_180938.Jpg\n",
      "[SKIPPED] Missing file: datasets/thyroid_ultrasonic_image/batch1_image/dataset/166_020_180938.Jpg\n",
      "[SKIPPED] Missing file: datasets/thyroid_ultrasonic_image/batch1_image/dataset/166_021_180939.Jpg\n",
      "[SKIPPED] Missing file: datasets/thyroid_ultrasonic_image/batch1_image/dataset/166_022_180939.Jpg\n",
      "[WARNING] No valid images for patient: 166, skipping\n",
      "[SKIPPED] Missing file: datasets/thyroid_ultrasonic_image/batch1_image/dataset/167_001_105201.Jpg\n",
      "[SKIPPED] Missing file: datasets/thyroid_ultrasonic_image/batch1_image/dataset/167_002_105201.Jpg\n",
      "[SKIPPED] Missing file: datasets/thyroid_ultrasonic_image/batch1_image/dataset/167_003_105201.Jpg\n",
      "[SKIPPED] Missing file: datasets/thyroid_ultrasonic_image/batch1_image/dataset/167_004_105202.Jpg\n",
      "[SKIPPED] Missing file: datasets/thyroid_ultrasonic_image/batch1_image/dataset/167_005_105202.Jpg\n",
      "[SKIPPED] Missing file: datasets/thyroid_ultrasonic_image/batch1_image/dataset/167_006_105202.Jpg\n",
      "[SKIPPED] Missing file: datasets/thyroid_ultrasonic_image/batch1_image/dataset/167_007_105202.Jpg\n",
      "[SKIPPED] Missing file: datasets/thyroid_ultrasonic_image/batch1_image/dataset/167_008_105202.Jpg\n",
      "[SKIPPED] Missing file: datasets/thyroid_ultrasonic_image/batch1_image/dataset/167_009_105203.Jpg\n",
      "[SKIPPED] Missing file: datasets/thyroid_ultrasonic_image/batch1_image/dataset/167_010_105203.Jpg\n",
      "[SKIPPED] Missing file: datasets/thyroid_ultrasonic_image/batch1_image/dataset/167_011_105203.Jpg\n",
      "[SKIPPED] Missing file: datasets/thyroid_ultrasonic_image/batch1_image/dataset/167_012_105203.Jpg\n",
      "[SKIPPED] Missing file: datasets/thyroid_ultrasonic_image/batch1_image/dataset/167_013_105204.Jpg\n",
      "[SKIPPED] Missing file: datasets/thyroid_ultrasonic_image/batch1_image/dataset/167_014_105204.Jpg\n",
      "[WARNING] No valid images for patient: 167, skipping\n",
      "[SKIPPED] Missing file: datasets/thyroid_ultrasonic_image/batch1_image/dataset/168_001_180013.Jpg\n",
      "[SKIPPED] Missing file: datasets/thyroid_ultrasonic_image/batch1_image/dataset/168_002_180014.Jpg\n",
      "[SKIPPED] Missing file: datasets/thyroid_ultrasonic_image/batch1_image/dataset/168_003_180014.Jpg\n",
      "[SKIPPED] Missing file: datasets/thyroid_ultrasonic_image/batch1_image/dataset/168_004_180014.Jpg\n",
      "[SKIPPED] Missing file: datasets/thyroid_ultrasonic_image/batch1_image/dataset/168_005_180015.Jpg\n",
      "[SKIPPED] Missing file: datasets/thyroid_ultrasonic_image/batch1_image/dataset/168_006_180015.Jpg\n",
      "[SKIPPED] Missing file: datasets/thyroid_ultrasonic_image/batch1_image/dataset/168_008_180016.Jpg\n",
      "[SKIPPED] Missing file: datasets/thyroid_ultrasonic_image/batch1_image/dataset/168_009_180016.Jpg\n",
      "[SKIPPED] Missing file: datasets/thyroid_ultrasonic_image/batch1_image/dataset/168_010_180016.Jpg\n",
      "[SKIPPED] Missing file: datasets/thyroid_ultrasonic_image/batch1_image/dataset/168_011_180017.Jpg\n",
      "[SKIPPED] Missing file: datasets/thyroid_ultrasonic_image/batch1_image/dataset/168_012_180017.Jpg\n",
      "[WARNING] No valid images for patient: 168, skipping\n",
      "[SKIPPED] Missing file: datasets/thyroid_ultrasonic_image/batch1_image/dataset/169_001_175121.Jpg\n",
      "[SKIPPED] Missing file: datasets/thyroid_ultrasonic_image/batch1_image/dataset/169_002_175121.Jpg\n",
      "[SKIPPED] Missing file: datasets/thyroid_ultrasonic_image/batch1_image/dataset/169_003_175121.Jpg\n",
      "[SKIPPED] Missing file: datasets/thyroid_ultrasonic_image/batch1_image/dataset/169_004_175122.Jpg\n",
      "[SKIPPED] Missing file: datasets/thyroid_ultrasonic_image/batch1_image/dataset/169_005_175122.Jpg\n",
      "[SKIPPED] Missing file: datasets/thyroid_ultrasonic_image/batch1_image/dataset/169_006_175122.Jpg\n",
      "[SKIPPED] Missing file: datasets/thyroid_ultrasonic_image/batch1_image/dataset/169_007_175122.Jpg\n",
      "[SKIPPED] Missing file: datasets/thyroid_ultrasonic_image/batch1_image/dataset/169_008_175122.Jpg\n",
      "[SKIPPED] Missing file: datasets/thyroid_ultrasonic_image/batch1_image/dataset/169_009_175123.Jpg\n",
      "[SKIPPED] Missing file: datasets/thyroid_ultrasonic_image/batch1_image/dataset/169_010_175123.Jpg\n",
      "[SKIPPED] Missing file: datasets/thyroid_ultrasonic_image/batch1_image/dataset/169_011_175123.Jpg\n",
      "[WARNING] No valid images for patient: 169, skipping\n",
      "[SKIPPED] Missing file: datasets/thyroid_ultrasonic_image/batch1_image/dataset/170_026_174751.Jpg\n",
      "[SKIPPED] Missing file: datasets/thyroid_ultrasonic_image/batch1_image/dataset/170_027_174751.Jpg\n",
      "[SKIPPED] Missing file: datasets/thyroid_ultrasonic_image/batch1_image/dataset/170_028_174751.Jpg\n",
      "[SKIPPED] Missing file: datasets/thyroid_ultrasonic_image/batch1_image/dataset/170_029_174751.Jpg\n",
      "[SKIPPED] Missing file: datasets/thyroid_ultrasonic_image/batch1_image/dataset/170_030_174751.Jpg\n",
      "[SKIPPED] Missing file: datasets/thyroid_ultrasonic_image/batch1_image/dataset/170_031_174751.Jpg\n",
      "[SKIPPED] Missing file: datasets/thyroid_ultrasonic_image/batch1_image/dataset/170_032_174751.Jpg\n",
      "[SKIPPED] Missing file: datasets/thyroid_ultrasonic_image/batch1_image/dataset/170_033_174752.Jpg\n",
      "[SKIPPED] Missing file: datasets/thyroid_ultrasonic_image/batch1_image/dataset/170_034_174752.Jpg\n",
      "[WARNING] No valid images for patient: 170, skipping\n",
      "[SKIPPED] Missing file: datasets/thyroid_ultrasonic_image/batch1_image/dataset/171_016_174947.Jpg\n",
      "[SKIPPED] Missing file: datasets/thyroid_ultrasonic_image/batch1_image/dataset/171_017_174947.Jpg\n",
      "[SKIPPED] Missing file: datasets/thyroid_ultrasonic_image/batch1_image/dataset/171_018_174947.Jpg\n",
      "[SKIPPED] Missing file: datasets/thyroid_ultrasonic_image/batch1_image/dataset/171_019_174947.Jpg\n",
      "[SKIPPED] Missing file: datasets/thyroid_ultrasonic_image/batch1_image/dataset/171_020_174948.Jpg\n",
      "[SKIPPED] Missing file: datasets/thyroid_ultrasonic_image/batch1_image/dataset/171_021_174948.Jpg\n",
      "[SKIPPED] Missing file: datasets/thyroid_ultrasonic_image/batch1_image/dataset/171_022_174948.Jpg\n",
      "[WARNING] No valid images for patient: 171, skipping\n",
      "[SKIPPED] Missing file: datasets/thyroid_ultrasonic_image/batch1_image/dataset/172_001_104756.Jpg\n",
      "[SKIPPED] Missing file: datasets/thyroid_ultrasonic_image/batch1_image/dataset/172_002_104756.Jpg\n",
      "[SKIPPED] Missing file: datasets/thyroid_ultrasonic_image/batch1_image/dataset/172_003_104756.Jpg\n",
      "[SKIPPED] Missing file: datasets/thyroid_ultrasonic_image/batch1_image/dataset/172_004_104756.Jpg\n",
      "[SKIPPED] Missing file: datasets/thyroid_ultrasonic_image/batch1_image/dataset/172_005_104756.Jpg\n",
      "[SKIPPED] Missing file: datasets/thyroid_ultrasonic_image/batch1_image/dataset/172_006_104757.Jpg\n",
      "[SKIPPED] Missing file: datasets/thyroid_ultrasonic_image/batch1_image/dataset/172_007_104757.Jpg\n",
      "[SKIPPED] Missing file: datasets/thyroid_ultrasonic_image/batch1_image/dataset/172_008_104757.Jpg\n",
      "[SKIPPED] Missing file: datasets/thyroid_ultrasonic_image/batch1_image/dataset/172_009_104757.Jpg\n",
      "[SKIPPED] Missing file: datasets/thyroid_ultrasonic_image/batch1_image/dataset/172_010_104758.Jpg\n",
      "[SKIPPED] Missing file: datasets/thyroid_ultrasonic_image/batch1_image/dataset/172_011_104758.Jpg\n",
      "[SKIPPED] Missing file: datasets/thyroid_ultrasonic_image/batch1_image/dataset/172_012_104758.Jpg\n",
      "[WARNING] No valid images for patient: 172, skipping\n",
      "[SKIPPED] Missing file: datasets/thyroid_ultrasonic_image/batch1_image/dataset/173_001_112531.Jpg\n",
      "[SKIPPED] Missing file: datasets/thyroid_ultrasonic_image/batch1_image/dataset/173_002_112531.Jpg\n",
      "[SKIPPED] Missing file: datasets/thyroid_ultrasonic_image/batch1_image/dataset/173_003_112531.Jpg\n",
      "[SKIPPED] Missing file: datasets/thyroid_ultrasonic_image/batch1_image/dataset/173_004_112532.Jpg\n",
      "[SKIPPED] Missing file: datasets/thyroid_ultrasonic_image/batch1_image/dataset/173_005_112532.Jpg\n",
      "[SKIPPED] Missing file: datasets/thyroid_ultrasonic_image/batch1_image/dataset/173_006_112532.Jpg\n",
      "[SKIPPED] Missing file: datasets/thyroid_ultrasonic_image/batch1_image/dataset/173_007_112532.Jpg\n",
      "[SKIPPED] Missing file: datasets/thyroid_ultrasonic_image/batch1_image/dataset/173_008_112532.Jpg\n",
      "[SKIPPED] Missing file: datasets/thyroid_ultrasonic_image/batch1_image/dataset/173_009_112533.Jpg\n",
      "[SKIPPED] Missing file: datasets/thyroid_ultrasonic_image/batch1_image/dataset/173_010_112533.Jpg\n",
      "[SKIPPED] Missing file: datasets/thyroid_ultrasonic_image/batch1_image/dataset/173_011_112533.Jpg\n",
      "[SKIPPED] Missing file: datasets/thyroid_ultrasonic_image/batch1_image/dataset/173_012_112533.Jpg\n",
      "[SKIPPED] Missing file: datasets/thyroid_ultrasonic_image/batch1_image/dataset/173_013_112534.Jpg\n",
      "[SKIPPED] Missing file: datasets/thyroid_ultrasonic_image/batch1_image/dataset/173_014_112534.Jpg\n",
      "[SKIPPED] Missing file: datasets/thyroid_ultrasonic_image/batch1_image/dataset/173_015_112534.Jpg\n",
      "[SKIPPED] Missing file: datasets/thyroid_ultrasonic_image/batch1_image/dataset/173_016_112534.Jpg\n",
      "[SKIPPED] Missing file: datasets/thyroid_ultrasonic_image/batch1_image/dataset/173_017_112534.Jpg\n",
      "[SKIPPED] Missing file: datasets/thyroid_ultrasonic_image/batch1_image/dataset/173_018_112535.Jpg\n",
      "[SKIPPED] Missing file: datasets/thyroid_ultrasonic_image/batch1_image/dataset/173_019_112535.Jpg\n",
      "[WARNING] No valid images for patient: 173, skipping\n",
      "[SKIPPED] Missing file: datasets/thyroid_ultrasonic_image/batch1_image/dataset/174_001_181452.Jpg\n",
      "[SKIPPED] Missing file: datasets/thyroid_ultrasonic_image/batch1_image/dataset/174_002_181452.Jpg\n",
      "[SKIPPED] Missing file: datasets/thyroid_ultrasonic_image/batch1_image/dataset/174_003_181453.Jpg\n",
      "[SKIPPED] Missing file: datasets/thyroid_ultrasonic_image/batch1_image/dataset/174_004_181453.Jpg\n",
      "[SKIPPED] Missing file: datasets/thyroid_ultrasonic_image/batch1_image/dataset/174_005_181453.Jpg\n",
      "[SKIPPED] Missing file: datasets/thyroid_ultrasonic_image/batch1_image/dataset/174_006_181454.Jpg\n",
      "[WARNING] No valid images for patient: 174, skipping\n",
      "[SKIPPED] Missing file: datasets/thyroid_ultrasonic_image/batch1_image/dataset/175_001_181615.Jpg\n",
      "[SKIPPED] Missing file: datasets/thyroid_ultrasonic_image/batch1_image/dataset/175_002_181615.Jpg\n",
      "[SKIPPED] Missing file: datasets/thyroid_ultrasonic_image/batch1_image/dataset/175_003_181615.Jpg\n",
      "[SKIPPED] Missing file: datasets/thyroid_ultrasonic_image/batch1_image/dataset/175_004_181616.Jpg\n",
      "[SKIPPED] Missing file: datasets/thyroid_ultrasonic_image/batch1_image/dataset/175_005_181616.Jpg\n",
      "[SKIPPED] Missing file: datasets/thyroid_ultrasonic_image/batch1_image/dataset/175_006_181616.Jpg\n",
      "[SKIPPED] Missing file: datasets/thyroid_ultrasonic_image/batch1_image/dataset/175_013_181617.Jpg\n",
      "[SKIPPED] Missing file: datasets/thyroid_ultrasonic_image/batch1_image/dataset/175_014_181617.Jpg\n",
      "[SKIPPED] Missing file: datasets/thyroid_ultrasonic_image/batch1_image/dataset/175_015_181618.Jpg\n",
      "[SKIPPED] Missing file: datasets/thyroid_ultrasonic_image/batch1_image/dataset/175_016_181618.Jpg\n",
      "[WARNING] No valid images for patient: 175, skipping\n",
      "[SKIPPED] Missing file: datasets/thyroid_ultrasonic_image/batch1_image/dataset/176_001_191552.Jpg\n",
      "[SKIPPED] Missing file: datasets/thyroid_ultrasonic_image/batch1_image/dataset/176_002_191553.Jpg\n",
      "[SKIPPED] Missing file: datasets/thyroid_ultrasonic_image/batch1_image/dataset/176_003_191553.Jpg\n",
      "[SKIPPED] Missing file: datasets/thyroid_ultrasonic_image/batch1_image/dataset/176_004_191553.Jpg\n",
      "[SKIPPED] Missing file: datasets/thyroid_ultrasonic_image/batch1_image/dataset/176_005_191554.Jpg\n",
      "[SKIPPED] Missing file: datasets/thyroid_ultrasonic_image/batch1_image/dataset/176_006_191554.Jpg\n",
      "[SKIPPED] Missing file: datasets/thyroid_ultrasonic_image/batch1_image/dataset/176_007_191554.Jpg\n",
      "[WARNING] No valid images for patient: 176, skipping\n",
      "[SKIPPED] Missing file: datasets/thyroid_ultrasonic_image/batch1_image/dataset/177_013_174444.Jpg\n",
      "[SKIPPED] Missing file: datasets/thyroid_ultrasonic_image/batch1_image/dataset/177_014_174444.Jpg\n",
      "[SKIPPED] Missing file: datasets/thyroid_ultrasonic_image/batch1_image/dataset/177_015_174444.Jpg\n",
      "[SKIPPED] Missing file: datasets/thyroid_ultrasonic_image/batch1_image/dataset/177_016_174445.Jpg\n",
      "[SKIPPED] Missing file: datasets/thyroid_ultrasonic_image/batch1_image/dataset/177_017_174445.Jpg\n",
      "[SKIPPED] Missing file: datasets/thyroid_ultrasonic_image/batch1_image/dataset/177_018_174445.Jpg\n",
      "[SKIPPED] Missing file: datasets/thyroid_ultrasonic_image/batch1_image/dataset/177_019_174445.Jpg\n",
      "[SKIPPED] Missing file: datasets/thyroid_ultrasonic_image/batch1_image/dataset/177_020_174445.Jpg\n",
      "[WARNING] No valid images for patient: 177, skipping\n",
      "[SKIPPED] Missing file: datasets/thyroid_ultrasonic_image/batch1_image/dataset/178_001_105403.Jpg\n",
      "[SKIPPED] Missing file: datasets/thyroid_ultrasonic_image/batch1_image/dataset/178_002_105403.Jpg\n",
      "[SKIPPED] Missing file: datasets/thyroid_ultrasonic_image/batch1_image/dataset/178_003_105403.Jpg\n",
      "[SKIPPED] Missing file: datasets/thyroid_ultrasonic_image/batch1_image/dataset/178_004_105404.Jpg\n",
      "[SKIPPED] Missing file: datasets/thyroid_ultrasonic_image/batch1_image/dataset/178_005_105404.Jpg\n",
      "[SKIPPED] Missing file: datasets/thyroid_ultrasonic_image/batch1_image/dataset/178_006_105404.Jpg\n",
      "[SKIPPED] Missing file: datasets/thyroid_ultrasonic_image/batch1_image/dataset/178_007_105404.Jpg\n",
      "[SKIPPED] Missing file: datasets/thyroid_ultrasonic_image/batch1_image/dataset/178_008_105404.Jpg\n",
      "[SKIPPED] Missing file: datasets/thyroid_ultrasonic_image/batch1_image/dataset/178_009_105405.Jpg\n",
      "[WARNING] No valid images for patient: 178, skipping\n",
      "[SKIPPED] Missing file: datasets/thyroid_ultrasonic_image/batch1_image/dataset/179_001_175301.Jpg\n",
      "[SKIPPED] Missing file: datasets/thyroid_ultrasonic_image/batch1_image/dataset/179_002_175302.Jpg\n",
      "[SKIPPED] Missing file: datasets/thyroid_ultrasonic_image/batch1_image/dataset/179_003_175302.Jpg\n",
      "[SKIPPED] Missing file: datasets/thyroid_ultrasonic_image/batch1_image/dataset/179_004_175302.Jpg\n",
      "[WARNING] No valid images for patient: 179, skipping\n",
      "[SKIPPED] Missing file: datasets/thyroid_ultrasonic_image/batch1_image/dataset/180_001_135610.Jpg\n",
      "[SKIPPED] Missing file: datasets/thyroid_ultrasonic_image/batch1_image/dataset/180_002_135610.Jpg\n",
      "[SKIPPED] Missing file: datasets/thyroid_ultrasonic_image/batch1_image/dataset/180_003_135610.Jpg\n",
      "[SKIPPED] Missing file: datasets/thyroid_ultrasonic_image/batch1_image/dataset/180_004_135611.Jpg\n",
      "[SKIPPED] Missing file: datasets/thyroid_ultrasonic_image/batch1_image/dataset/180_005_135611.Jpg\n",
      "[SKIPPED] Missing file: datasets/thyroid_ultrasonic_image/batch1_image/dataset/180_006_135611.Jpg\n",
      "[SKIPPED] Missing file: datasets/thyroid_ultrasonic_image/batch1_image/dataset/180_007_135611.Jpg\n",
      "[SKIPPED] Missing file: datasets/thyroid_ultrasonic_image/batch1_image/dataset/180_008_135612.Jpg\n",
      "[SKIPPED] Missing file: datasets/thyroid_ultrasonic_image/batch1_image/dataset/180_009_135612.Jpg\n"
     ]
    },
    {
     "name": "stderr",
     "output_type": "stream",
     "text": [
      "Extracting patient features:  79%|███████▉  | 190/241 [00:02<00:00, 86.17it/s]"
     ]
    },
    {
     "name": "stdout",
     "output_type": "stream",
     "text": [
      "[SKIPPED] Missing file: datasets/thyroid_ultrasonic_image/batch1_image/dataset/180_010_135612.Jpg\n",
      "[SKIPPED] Missing file: datasets/thyroid_ultrasonic_image/batch1_image/dataset/180_011_135613.Jpg\n",
      "[SKIPPED] Missing file: datasets/thyroid_ultrasonic_image/batch1_image/dataset/180_012_135613.Jpg\n",
      "[SKIPPED] Missing file: datasets/thyroid_ultrasonic_image/batch1_image/dataset/180_013_135613.Jpg\n",
      "[SKIPPED] Missing file: datasets/thyroid_ultrasonic_image/batch1_image/dataset/180_014_135614.Jpg\n",
      "[SKIPPED] Missing file: datasets/thyroid_ultrasonic_image/batch1_image/dataset/180_015_135614.Jpg\n",
      "[SKIPPED] Missing file: datasets/thyroid_ultrasonic_image/batch1_image/dataset/180_016_135614.Jpg\n",
      "[SKIPPED] Missing file: datasets/thyroid_ultrasonic_image/batch1_image/dataset/180_017_135615.Jpg\n",
      "[WARNING] No valid images for patient: 180, skipping\n",
      "[SKIPPED] Missing file: datasets/thyroid_ultrasonic_image/batch1_image/dataset/181_017_183205.Jpg\n",
      "[SKIPPED] Missing file: datasets/thyroid_ultrasonic_image/batch1_image/dataset/181_018_183205.Jpg\n",
      "[SKIPPED] Missing file: datasets/thyroid_ultrasonic_image/batch1_image/dataset/181_019_183206.Jpg\n",
      "[SKIPPED] Missing file: datasets/thyroid_ultrasonic_image/batch1_image/dataset/181_020_183206.Jpg\n",
      "[SKIPPED] Missing file: datasets/thyroid_ultrasonic_image/batch1_image/dataset/181_021_183206.Jpg\n",
      "[SKIPPED] Missing file: datasets/thyroid_ultrasonic_image/batch1_image/dataset/181_022_183207.Jpg\n",
      "[SKIPPED] Missing file: datasets/thyroid_ultrasonic_image/batch1_image/dataset/181_023_183207.Jpg\n",
      "[SKIPPED] Missing file: datasets/thyroid_ultrasonic_image/batch1_image/dataset/181_024_183207.Jpg\n",
      "[WARNING] No valid images for patient: 181, skipping\n",
      "[SKIPPED] Missing file: datasets/thyroid_ultrasonic_image/batch1_image/dataset/182_001_175359.Jpg\n",
      "[SKIPPED] Missing file: datasets/thyroid_ultrasonic_image/batch1_image/dataset/182_002_175359.Jpg\n",
      "[SKIPPED] Missing file: datasets/thyroid_ultrasonic_image/batch1_image/dataset/182_003_175359.Jpg\n",
      "[SKIPPED] Missing file: datasets/thyroid_ultrasonic_image/batch1_image/dataset/182_004_175400.Jpg\n",
      "[SKIPPED] Missing file: datasets/thyroid_ultrasonic_image/batch1_image/dataset/182_005_175400.Jpg\n",
      "[SKIPPED] Missing file: datasets/thyroid_ultrasonic_image/batch1_image/dataset/182_006_175400.Jpg\n",
      "[WARNING] No valid images for patient: 182, skipping\n",
      "[SKIPPED] Missing file: datasets/thyroid_ultrasonic_image/batch1_image/dataset/183_001_182421.Jpg\n",
      "[SKIPPED] Missing file: datasets/thyroid_ultrasonic_image/batch1_image/dataset/183_002_182421.Jpg\n",
      "[SKIPPED] Missing file: datasets/thyroid_ultrasonic_image/batch1_image/dataset/183_003_182422.Jpg\n",
      "[SKIPPED] Missing file: datasets/thyroid_ultrasonic_image/batch1_image/dataset/183_004_182422.Jpg\n",
      "[SKIPPED] Missing file: datasets/thyroid_ultrasonic_image/batch1_image/dataset/183_005_182422.Jpg\n",
      "[SKIPPED] Missing file: datasets/thyroid_ultrasonic_image/batch1_image/dataset/183_006_182422.Jpg\n",
      "[SKIPPED] Missing file: datasets/thyroid_ultrasonic_image/batch1_image/dataset/183_007_182423.Jpg\n",
      "[SKIPPED] Missing file: datasets/thyroid_ultrasonic_image/batch1_image/dataset/183_008_182423.Jpg\n",
      "[SKIPPED] Missing file: datasets/thyroid_ultrasonic_image/batch1_image/dataset/183_009_182423.Jpg\n",
      "[WARNING] No valid images for patient: 183, skipping\n",
      "[SKIPPED] Missing file: datasets/thyroid_ultrasonic_image/batch1_image/dataset/184_001_175602.Jpg\n",
      "[SKIPPED] Missing file: datasets/thyroid_ultrasonic_image/batch1_image/dataset/184_002_175602.Jpg\n",
      "[SKIPPED] Missing file: datasets/thyroid_ultrasonic_image/batch1_image/dataset/184_003_175602.Jpg\n",
      "[SKIPPED] Missing file: datasets/thyroid_ultrasonic_image/batch1_image/dataset/184_004_175602.Jpg\n",
      "[SKIPPED] Missing file: datasets/thyroid_ultrasonic_image/batch1_image/dataset/184_005_175602.Jpg\n",
      "[SKIPPED] Missing file: datasets/thyroid_ultrasonic_image/batch1_image/dataset/184_006_175603.Jpg\n",
      "[SKIPPED] Missing file: datasets/thyroid_ultrasonic_image/batch1_image/dataset/184_007_175603.Jpg\n",
      "[SKIPPED] Missing file: datasets/thyroid_ultrasonic_image/batch1_image/dataset/184_008_175603.Jpg\n",
      "[WARNING] No valid images for patient: 184, skipping\n",
      "[SKIPPED] Missing file: datasets/thyroid_ultrasonic_image/batch1_image/dataset/185_001_181354.Jpg\n",
      "[SKIPPED] Missing file: datasets/thyroid_ultrasonic_image/batch1_image/dataset/185_002_181354.Jpg\n",
      "[SKIPPED] Missing file: datasets/thyroid_ultrasonic_image/batch1_image/dataset/185_003_181355.Jpg\n",
      "[SKIPPED] Missing file: datasets/thyroid_ultrasonic_image/batch1_image/dataset/185_004_181355.Jpg\n",
      "[SKIPPED] Missing file: datasets/thyroid_ultrasonic_image/batch1_image/dataset/185_005_181355.Jpg\n",
      "[SKIPPED] Missing file: datasets/thyroid_ultrasonic_image/batch1_image/dataset/185_006_181355.Jpg\n",
      "[SKIPPED] Missing file: datasets/thyroid_ultrasonic_image/batch1_image/dataset/185_007_181356.Jpg\n",
      "[SKIPPED] Missing file: datasets/thyroid_ultrasonic_image/batch1_image/dataset/185_008_181356.Jpg\n",
      "[SKIPPED] Missing file: datasets/thyroid_ultrasonic_image/batch1_image/dataset/185_009_181356.Jpg\n",
      "[SKIPPED] Missing file: datasets/thyroid_ultrasonic_image/batch1_image/dataset/185_010_181356.Jpg\n",
      "[SKIPPED] Missing file: datasets/thyroid_ultrasonic_image/batch1_image/dataset/185_011_181357.Jpg\n",
      "[SKIPPED] Missing file: datasets/thyroid_ultrasonic_image/batch1_image/dataset/185_012_181357.Jpg\n",
      "[SKIPPED] Missing file: datasets/thyroid_ultrasonic_image/batch1_image/dataset/185_013_181357.Jpg\n",
      "[SKIPPED] Missing file: datasets/thyroid_ultrasonic_image/batch1_image/dataset/185_014_181358.Jpg\n",
      "[SKIPPED] Missing file: datasets/thyroid_ultrasonic_image/batch1_image/dataset/185_015_181358.Jpg\n",
      "[SKIPPED] Missing file: datasets/thyroid_ultrasonic_image/batch1_image/dataset/185_016_181358.Jpg\n",
      "[WARNING] No valid images for patient: 185, skipping\n",
      "[SKIPPED] Missing file: datasets/thyroid_ultrasonic_image/batch1_image/dataset/186_001_174902.Jpg\n",
      "[SKIPPED] Missing file: datasets/thyroid_ultrasonic_image/batch1_image/dataset/186_002_174902.Jpg\n",
      "[SKIPPED] Missing file: datasets/thyroid_ultrasonic_image/batch1_image/dataset/186_003_174902.Jpg\n",
      "[SKIPPED] Missing file: datasets/thyroid_ultrasonic_image/batch1_image/dataset/186_004_174902.Jpg\n",
      "[SKIPPED] Missing file: datasets/thyroid_ultrasonic_image/batch1_image/dataset/186_010_174903.Jpg\n",
      "[SKIPPED] Missing file: datasets/thyroid_ultrasonic_image/batch1_image/dataset/186_011_174903.Jpg\n",
      "[SKIPPED] Missing file: datasets/thyroid_ultrasonic_image/batch1_image/dataset/186_012_174904.Jpg\n",
      "[SKIPPED] Missing file: datasets/thyroid_ultrasonic_image/batch1_image/dataset/186_013_174904.Jpg\n",
      "[SKIPPED] Missing file: datasets/thyroid_ultrasonic_image/batch1_image/dataset/186_014_174904.Jpg\n",
      "[SKIPPED] Missing file: datasets/thyroid_ultrasonic_image/batch1_image/dataset/186_018_174905.Jpg\n",
      "[SKIPPED] Missing file: datasets/thyroid_ultrasonic_image/batch1_image/dataset/186_019_174905.Jpg\n",
      "[WARNING] No valid images for patient: 186, skipping\n",
      "[SKIPPED] Missing file: datasets/thyroid_ultrasonic_image/batch1_image/dataset/187_001_134806.Jpg\n",
      "[SKIPPED] Missing file: datasets/thyroid_ultrasonic_image/batch1_image/dataset/187_002_134806.Jpg\n",
      "[SKIPPED] Missing file: datasets/thyroid_ultrasonic_image/batch1_image/dataset/187_003_134806.Jpg\n",
      "[WARNING] No valid images for patient: 187, skipping\n",
      "[SKIPPED] Missing file: datasets/thyroid_ultrasonic_image/batch1_image/dataset/188_001_180021.Jpg\n",
      "[SKIPPED] Missing file: datasets/thyroid_ultrasonic_image/batch1_image/dataset/188_002_180021.Jpg\n",
      "[SKIPPED] Missing file: datasets/thyroid_ultrasonic_image/batch1_image/dataset/188_003_180022.Jpg\n",
      "[SKIPPED] Missing file: datasets/thyroid_ultrasonic_image/batch1_image/dataset/188_004_180022.Jpg\n",
      "[SKIPPED] Missing file: datasets/thyroid_ultrasonic_image/batch1_image/dataset/188_005_180022.Jpg\n",
      "[SKIPPED] Missing file: datasets/thyroid_ultrasonic_image/batch1_image/dataset/188_006_180023.Jpg\n",
      "[SKIPPED] Missing file: datasets/thyroid_ultrasonic_image/batch1_image/dataset/188_007_180023.Jpg\n",
      "[SKIPPED] Missing file: datasets/thyroid_ultrasonic_image/batch1_image/dataset/188_008_180023.Jpg\n",
      "[SKIPPED] Missing file: datasets/thyroid_ultrasonic_image/batch1_image/dataset/188_009_180024.Jpg\n",
      "[SKIPPED] Missing file: datasets/thyroid_ultrasonic_image/batch1_image/dataset/188_010_180024.Jpg\n",
      "[SKIPPED] Missing file: datasets/thyroid_ultrasonic_image/batch1_image/dataset/188_011_180024.Jpg\n",
      "[SKIPPED] Missing file: datasets/thyroid_ultrasonic_image/batch1_image/dataset/188_012_180025.Jpg\n",
      "[SKIPPED] Missing file: datasets/thyroid_ultrasonic_image/batch1_image/dataset/188_013_180025.Jpg\n",
      "[SKIPPED] Missing file: datasets/thyroid_ultrasonic_image/batch1_image/dataset/188_014_180025.Jpg\n",
      "[SKIPPED] Missing file: datasets/thyroid_ultrasonic_image/batch1_image/dataset/188_015_180026.Jpg\n",
      "[SKIPPED] Missing file: datasets/thyroid_ultrasonic_image/batch1_image/dataset/188_016_180026.Jpg\n",
      "[SKIPPED] Missing file: datasets/thyroid_ultrasonic_image/batch1_image/dataset/188_017_180026.Jpg\n",
      "[SKIPPED] Missing file: datasets/thyroid_ultrasonic_image/batch1_image/dataset/188_018_180027.Jpg\n",
      "[SKIPPED] Missing file: datasets/thyroid_ultrasonic_image/batch1_image/dataset/188_019_180027.Jpg\n",
      "[SKIPPED] Missing file: datasets/thyroid_ultrasonic_image/batch1_image/dataset/188_020_180027.Jpg\n",
      "[SKIPPED] Missing file: datasets/thyroid_ultrasonic_image/batch1_image/dataset/188_021_180028.Jpg\n",
      "[WARNING] No valid images for patient: 188, skipping\n",
      "[SKIPPED] Missing file: datasets/thyroid_ultrasonic_image/batch1_image/dataset/189_001_183714.Jpg\n",
      "[SKIPPED] Missing file: datasets/thyroid_ultrasonic_image/batch1_image/dataset/189_002_183714.Jpg\n",
      "[SKIPPED] Missing file: datasets/thyroid_ultrasonic_image/batch1_image/dataset/189_003_183714.Jpg\n",
      "[SKIPPED] Missing file: datasets/thyroid_ultrasonic_image/batch1_image/dataset/189_004_183715.Jpg\n",
      "[SKIPPED] Missing file: datasets/thyroid_ultrasonic_image/batch1_image/dataset/189_005_183715.Jpg\n",
      "[SKIPPED] Missing file: datasets/thyroid_ultrasonic_image/batch1_image/dataset/189_009_183716.Jpg\n",
      "[WARNING] No valid images for patient: 189, skipping\n",
      "[SKIPPED] Missing file: datasets/thyroid_ultrasonic_image/batch1_image/dataset/190_001_192806.Jpg\n",
      "[SKIPPED] Missing file: datasets/thyroid_ultrasonic_image/batch1_image/dataset/190_002_192806.Jpg\n",
      "[SKIPPED] Missing file: datasets/thyroid_ultrasonic_image/batch1_image/dataset/190_003_192806.Jpg\n",
      "[SKIPPED] Missing file: datasets/thyroid_ultrasonic_image/batch1_image/dataset/190_004_192806.Jpg\n",
      "[WARNING] No valid images for patient: 190, skipping\n",
      "[SKIPPED] Missing file: datasets/thyroid_ultrasonic_image/batch1_image/dataset/191_001_105109.Jpg\n",
      "[SKIPPED] Missing file: datasets/thyroid_ultrasonic_image/batch1_image/dataset/191_002_105110.Jpg\n",
      "[SKIPPED] Missing file: datasets/thyroid_ultrasonic_image/batch1_image/dataset/191_003_105110.Jpg\n",
      "[SKIPPED] Missing file: datasets/thyroid_ultrasonic_image/batch1_image/dataset/191_004_105110.Jpg\n",
      "[SKIPPED] Missing file: datasets/thyroid_ultrasonic_image/batch1_image/dataset/191_005_105110.Jpg\n",
      "[SKIPPED] Missing file: datasets/thyroid_ultrasonic_image/batch1_image/dataset/191_006_105110.Jpg\n",
      "[SKIPPED] Missing file: datasets/thyroid_ultrasonic_image/batch1_image/dataset/191_007_105110.Jpg\n",
      "[SKIPPED] Missing file: datasets/thyroid_ultrasonic_image/batch1_image/dataset/191_008_105111.Jpg\n",
      "[WARNING] No valid images for patient: 191, skipping\n",
      "[SKIPPED] Missing file: datasets/thyroid_ultrasonic_image/batch1_image/dataset/192_001_134833.Jpg\n",
      "[SKIPPED] Missing file: datasets/thyroid_ultrasonic_image/batch1_image/dataset/192_002_134833.Jpg\n",
      "[SKIPPED] Missing file: datasets/thyroid_ultrasonic_image/batch1_image/dataset/192_003_134834.Jpg\n",
      "[SKIPPED] Missing file: datasets/thyroid_ultrasonic_image/batch1_image/dataset/192_004_134834.Jpg\n",
      "[SKIPPED] Missing file: datasets/thyroid_ultrasonic_image/batch1_image/dataset/192_005_134834.Jpg\n",
      "[SKIPPED] Missing file: datasets/thyroid_ultrasonic_image/batch1_image/dataset/192_006_134834.Jpg\n",
      "[SKIPPED] Missing file: datasets/thyroid_ultrasonic_image/batch1_image/dataset/192_007_134834.Jpg\n",
      "[SKIPPED] Missing file: datasets/thyroid_ultrasonic_image/batch1_image/dataset/192_013_134835.Jpg\n",
      "[WARNING] No valid images for patient: 192, skipping\n",
      "[SKIPPED] Missing file: datasets/thyroid_ultrasonic_image/batch1_image/dataset/193_001_135307.Jpg\n",
      "[SKIPPED] Missing file: datasets/thyroid_ultrasonic_image/batch1_image/dataset/193_002_135307.Jpg\n",
      "[SKIPPED] Missing file: datasets/thyroid_ultrasonic_image/batch1_image/dataset/193_003_135308.Jpg\n",
      "[SKIPPED] Missing file: datasets/thyroid_ultrasonic_image/batch1_image/dataset/193_004_135308.Jpg\n",
      "[SKIPPED] Missing file: datasets/thyroid_ultrasonic_image/batch1_image/dataset/193_005_135308.Jpg\n",
      "[SKIPPED] Missing file: datasets/thyroid_ultrasonic_image/batch1_image/dataset/193_006_135308.Jpg\n",
      "[SKIPPED] Missing file: datasets/thyroid_ultrasonic_image/batch1_image/dataset/193_007_135309.Jpg\n",
      "[SKIPPED] Missing file: datasets/thyroid_ultrasonic_image/batch1_image/dataset/193_008_135309.Jpg\n",
      "[SKIPPED] Missing file: datasets/thyroid_ultrasonic_image/batch1_image/dataset/193_009_135309.Jpg\n",
      "[WARNING] No valid images for patient: 193, skipping\n",
      "[SKIPPED] Missing file: datasets/thyroid_ultrasonic_image/batch1_image/dataset/194_001_174920.Jpg\n",
      "[SKIPPED] Missing file: datasets/thyroid_ultrasonic_image/batch1_image/dataset/194_002_174920.Jpg\n",
      "[SKIPPED] Missing file: datasets/thyroid_ultrasonic_image/batch1_image/dataset/194_003_174920.Jpg\n",
      "[SKIPPED] Missing file: datasets/thyroid_ultrasonic_image/batch1_image/dataset/194_004_174920.Jpg\n",
      "[SKIPPED] Missing file: datasets/thyroid_ultrasonic_image/batch1_image/dataset/194_005_174920.Jpg\n",
      "[SKIPPED] Missing file: datasets/thyroid_ultrasonic_image/batch1_image/dataset/194_006_174920.Jpg\n",
      "[SKIPPED] Missing file: datasets/thyroid_ultrasonic_image/batch1_image/dataset/194_007_174921.Jpg\n",
      "[SKIPPED] Missing file: datasets/thyroid_ultrasonic_image/batch1_image/dataset/194_008_174921.Jpg\n",
      "[WARNING] No valid images for patient: 194, skipping\n",
      "[SKIPPED] Missing file: datasets/thyroid_ultrasonic_image/batch1_image/dataset/195_001_173546.Jpg\n",
      "[SKIPPED] Missing file: datasets/thyroid_ultrasonic_image/batch1_image/dataset/195_002_173547.Jpg\n",
      "[SKIPPED] Missing file: datasets/thyroid_ultrasonic_image/batch1_image/dataset/195_003_173547.Jpg\n",
      "[SKIPPED] Missing file: datasets/thyroid_ultrasonic_image/batch1_image/dataset/195_004_173547.Jpg\n",
      "[SKIPPED] Missing file: datasets/thyroid_ultrasonic_image/batch1_image/dataset/195_005_173547.Jpg\n",
      "[SKIPPED] Missing file: datasets/thyroid_ultrasonic_image/batch1_image/dataset/195_006_173547.Jpg\n",
      "[SKIPPED] Missing file: datasets/thyroid_ultrasonic_image/batch1_image/dataset/195_007_173548.Jpg\n",
      "[WARNING] No valid images for patient: 195, skipping\n",
      "[SKIPPED] Missing file: datasets/thyroid_ultrasonic_image/batch1_image/dataset/196_001_182718.Jpg\n",
      "[SKIPPED] Missing file: datasets/thyroid_ultrasonic_image/batch1_image/dataset/196_002_182718.Jpg\n",
      "[SKIPPED] Missing file: datasets/thyroid_ultrasonic_image/batch1_image/dataset/196_003_182719.Jpg\n",
      "[SKIPPED] Missing file: datasets/thyroid_ultrasonic_image/batch1_image/dataset/196_004_182719.Jpg\n",
      "[SKIPPED] Missing file: datasets/thyroid_ultrasonic_image/batch1_image/dataset/196_005_182719.Jpg\n",
      "[WARNING] No valid images for patient: 196, skipping\n",
      "[SKIPPED] Missing file: datasets/thyroid_ultrasonic_image/batch1_image/dataset/197_001_104854.Jpg\n",
      "[SKIPPED] Missing file: datasets/thyroid_ultrasonic_image/batch1_image/dataset/197_002_104854.Jpg\n",
      "[SKIPPED] Missing file: datasets/thyroid_ultrasonic_image/batch1_image/dataset/197_003_104854.Jpg\n",
      "[SKIPPED] Missing file: datasets/thyroid_ultrasonic_image/batch1_image/dataset/197_004_104855.Jpg\n",
      "[SKIPPED] Missing file: datasets/thyroid_ultrasonic_image/batch1_image/dataset/197_005_104855.Jpg\n",
      "[SKIPPED] Missing file: datasets/thyroid_ultrasonic_image/batch1_image/dataset/197_006_104855.Jpg\n",
      "[SKIPPED] Missing file: datasets/thyroid_ultrasonic_image/batch1_image/dataset/197_007_104856.Jpg\n",
      "[SKIPPED] Missing file: datasets/thyroid_ultrasonic_image/batch1_image/dataset/197_008_104856.Jpg\n",
      "[SKIPPED] Missing file: datasets/thyroid_ultrasonic_image/batch1_image/dataset/197_009_104856.Jpg\n",
      "[WARNING] No valid images for patient: 197, skipping\n",
      "[SKIPPED] Missing file: datasets/thyroid_ultrasonic_image/batch1_image/dataset/198_001_112640.Jpg\n",
      "[SKIPPED] Missing file: datasets/thyroid_ultrasonic_image/batch1_image/dataset/198_002_112640.Jpg\n",
      "[SKIPPED] Missing file: datasets/thyroid_ultrasonic_image/batch1_image/dataset/198_003_112640.Jpg\n",
      "[SKIPPED] Missing file: datasets/thyroid_ultrasonic_image/batch1_image/dataset/198_004_112641.Jpg\n",
      "[SKIPPED] Missing file: datasets/thyroid_ultrasonic_image/batch1_image/dataset/198_005_112641.Jpg\n",
      "[SKIPPED] Missing file: datasets/thyroid_ultrasonic_image/batch1_image/dataset/198_006_112641.Jpg\n",
      "[SKIPPED] Missing file: datasets/thyroid_ultrasonic_image/batch1_image/dataset/198_007_112642.Jpg\n",
      "[SKIPPED] Missing file: datasets/thyroid_ultrasonic_image/batch1_image/dataset/198_008_112642.Jpg\n",
      "[WARNING] No valid images for patient: 198, skipping\n",
      "[SKIPPED] Missing file: datasets/thyroid_ultrasonic_image/batch1_image/dataset/199_019_181556.Jpg\n",
      "[SKIPPED] Missing file: datasets/thyroid_ultrasonic_image/batch1_image/dataset/199_020_181556.Jpg\n",
      "[SKIPPED] Missing file: datasets/thyroid_ultrasonic_image/batch1_image/dataset/199_021_181556.Jpg\n",
      "[SKIPPED] Missing file: datasets/thyroid_ultrasonic_image/batch1_image/dataset/199_022_181556.Jpg\n",
      "[SKIPPED] Missing file: datasets/thyroid_ultrasonic_image/batch1_image/dataset/199_023_181556.Jpg\n",
      "[SKIPPED] Missing file: datasets/thyroid_ultrasonic_image/batch1_image/dataset/199_024_181557.Jpg\n",
      "[SKIPPED] Missing file: datasets/thyroid_ultrasonic_image/batch1_image/dataset/199_025_181557.Jpg\n",
      "[SKIPPED] Missing file: datasets/thyroid_ultrasonic_image/batch1_image/dataset/199_026_181557.Jpg\n",
      "[SKIPPED] Missing file: datasets/thyroid_ultrasonic_image/batch1_image/dataset/199_027_181557.Jpg\n",
      "[SKIPPED] Missing file: datasets/thyroid_ultrasonic_image/batch1_image/dataset/199_028_181557.Jpg\n",
      "[SKIPPED] Missing file: datasets/thyroid_ultrasonic_image/batch1_image/dataset/199_029_181558.Jpg\n",
      "[WARNING] No valid images for patient: 199, skipping\n",
      "[SKIPPED] Missing file: datasets/thyroid_ultrasonic_image/batch1_image/dataset/201_001_182403.Jpg\n",
      "[SKIPPED] Missing file: datasets/thyroid_ultrasonic_image/batch1_image/dataset/201_002_182403.Jpg\n",
      "[SKIPPED] Missing file: datasets/thyroid_ultrasonic_image/batch1_image/dataset/201_003_182404.Jpg\n",
      "[SKIPPED] Missing file: datasets/thyroid_ultrasonic_image/batch1_image/dataset/201_004_182404.Jpg\n",
      "[SKIPPED] Missing file: datasets/thyroid_ultrasonic_image/batch1_image/dataset/201_005_182404.Jpg\n",
      "[SKIPPED] Missing file: datasets/thyroid_ultrasonic_image/batch1_image/dataset/201_006_182404.Jpg\n",
      "[SKIPPED] Missing file: datasets/thyroid_ultrasonic_image/batch1_image/dataset/201_007_182405.Jpg\n",
      "[SKIPPED] Missing file: datasets/thyroid_ultrasonic_image/batch1_image/dataset/201_008_182405.Jpg\n",
      "[SKIPPED] Missing file: datasets/thyroid_ultrasonic_image/batch1_image/dataset/201_009_182405.Jpg\n",
      "[SKIPPED] Missing file: datasets/thyroid_ultrasonic_image/batch1_image/dataset/201_010_182405.Jpg\n",
      "[SKIPPED] Missing file: datasets/thyroid_ultrasonic_image/batch1_image/dataset/201_011_182406.Jpg\n",
      "[SKIPPED] Missing file: datasets/thyroid_ultrasonic_image/batch1_image/dataset/201_012_182406.Jpg\n",
      "[SKIPPED] Missing file: datasets/thyroid_ultrasonic_image/batch1_image/dataset/201_013_182406.Jpg\n",
      "[WARNING] No valid images for patient: 201, skipping\n",
      "[SKIPPED] Missing file: datasets/thyroid_ultrasonic_image/batch1_image/dataset/202_001_103830.Jpg\n",
      "[SKIPPED] Missing file: datasets/thyroid_ultrasonic_image/batch1_image/dataset/202_002_103830.Jpg\n",
      "[SKIPPED] Missing file: datasets/thyroid_ultrasonic_image/batch1_image/dataset/202_003_103830.Jpg\n",
      "[SKIPPED] Missing file: datasets/thyroid_ultrasonic_image/batch1_image/dataset/202_004_103831.Jpg\n",
      "[SKIPPED] Missing file: datasets/thyroid_ultrasonic_image/batch1_image/dataset/202_005_103831.Jpg\n"
     ]
    },
    {
     "name": "stderr",
     "output_type": "stream",
     "text": [
      "Extracting patient features:  88%|████████▊ | 212/241 [00:02<00:00, 79.89it/s]"
     ]
    },
    {
     "name": "stdout",
     "output_type": "stream",
     "text": [
      "[SKIPPED] Missing file: datasets/thyroid_ultrasonic_image/batch1_image/dataset/202_006_103831.Jpg\n",
      "[SKIPPED] Missing file: datasets/thyroid_ultrasonic_image/batch1_image/dataset/202_007_103832.Jpg\n",
      "[SKIPPED] Missing file: datasets/thyroid_ultrasonic_image/batch1_image/dataset/202_008_103832.Jpg\n",
      "[SKIPPED] Missing file: datasets/thyroid_ultrasonic_image/batch1_image/dataset/202_009_103832.Jpg\n",
      "[SKIPPED] Missing file: datasets/thyroid_ultrasonic_image/batch1_image/dataset/202_010_103832.Jpg\n",
      "[SKIPPED] Missing file: datasets/thyroid_ultrasonic_image/batch1_image/dataset/202_011_103833.Jpg\n",
      "[SKIPPED] Missing file: datasets/thyroid_ultrasonic_image/batch1_image/dataset/202_012_103833.Jpg\n",
      "[SKIPPED] Missing file: datasets/thyroid_ultrasonic_image/batch1_image/dataset/202_013_103833.Jpg\n",
      "[SKIPPED] Missing file: datasets/thyroid_ultrasonic_image/batch1_image/dataset/202_014_103834.Jpg\n",
      "[SKIPPED] Missing file: datasets/thyroid_ultrasonic_image/batch1_image/dataset/202_015_103834.Jpg\n",
      "[SKIPPED] Missing file: datasets/thyroid_ultrasonic_image/batch1_image/dataset/202_016_103834.Jpg\n",
      "[SKIPPED] Missing file: datasets/thyroid_ultrasonic_image/batch1_image/dataset/202_017_103834.Jpg\n",
      "[WARNING] No valid images for patient: 202, skipping\n",
      "[SKIPPED] Missing file: datasets/thyroid_ultrasonic_image/batch1_image/dataset/203_001_180252.Jpg\n",
      "[SKIPPED] Missing file: datasets/thyroid_ultrasonic_image/batch1_image/dataset/203_002_180252.Jpg\n",
      "[SKIPPED] Missing file: datasets/thyroid_ultrasonic_image/batch1_image/dataset/203_003_180252.Jpg\n",
      "[SKIPPED] Missing file: datasets/thyroid_ultrasonic_image/batch1_image/dataset/203_004_180252.Jpg\n",
      "[SKIPPED] Missing file: datasets/thyroid_ultrasonic_image/batch1_image/dataset/203_005_180252.Jpg\n",
      "[SKIPPED] Missing file: datasets/thyroid_ultrasonic_image/batch1_image/dataset/203_006_180252.Jpg\n",
      "[SKIPPED] Missing file: datasets/thyroid_ultrasonic_image/batch1_image/dataset/203_007_180253.Jpg\n",
      "[WARNING] No valid images for patient: 203, skipping\n",
      "[SKIPPED] Missing file: datasets/thyroid_ultrasonic_image/batch1_image/dataset/204_001_182553.Jpg\n",
      "[SKIPPED] Missing file: datasets/thyroid_ultrasonic_image/batch1_image/dataset/204_002_182554.Jpg\n",
      "[SKIPPED] Missing file: datasets/thyroid_ultrasonic_image/batch1_image/dataset/204_003_182554.Jpg\n",
      "[SKIPPED] Missing file: datasets/thyroid_ultrasonic_image/batch1_image/dataset/204_004_182554.Jpg\n",
      "[SKIPPED] Missing file: datasets/thyroid_ultrasonic_image/batch1_image/dataset/204_005_182554.Jpg\n",
      "[SKIPPED] Missing file: datasets/thyroid_ultrasonic_image/batch1_image/dataset/204_006_182554.Jpg\n",
      "[SKIPPED] Missing file: datasets/thyroid_ultrasonic_image/batch1_image/dataset/204_007_182555.Jpg\n",
      "[SKIPPED] Missing file: datasets/thyroid_ultrasonic_image/batch1_image/dataset/204_008_182555.Jpg\n",
      "[SKIPPED] Missing file: datasets/thyroid_ultrasonic_image/batch1_image/dataset/204_013_182556.Jpg\n",
      "[WARNING] No valid images for patient: 204, skipping\n",
      "[SKIPPED] Missing file: datasets/thyroid_ultrasonic_image/batch1_image/dataset/205_001_175445.Jpg\n",
      "[SKIPPED] Missing file: datasets/thyroid_ultrasonic_image/batch1_image/dataset/205_002_175445.Jpg\n",
      "[SKIPPED] Missing file: datasets/thyroid_ultrasonic_image/batch1_image/dataset/205_003_175445.Jpg\n",
      "[SKIPPED] Missing file: datasets/thyroid_ultrasonic_image/batch1_image/dataset/205_004_175446.Jpg\n",
      "[SKIPPED] Missing file: datasets/thyroid_ultrasonic_image/batch1_image/dataset/205_005_175446.Jpg\n",
      "[SKIPPED] Missing file: datasets/thyroid_ultrasonic_image/batch1_image/dataset/205_006_175446.Jpg\n",
      "[SKIPPED] Missing file: datasets/thyroid_ultrasonic_image/batch1_image/dataset/205_007_175447.Jpg\n",
      "[SKIPPED] Missing file: datasets/thyroid_ultrasonic_image/batch1_image/dataset/205_008_175447.Jpg\n",
      "[SKIPPED] Missing file: datasets/thyroid_ultrasonic_image/batch1_image/dataset/205_009_175447.Jpg\n",
      "[WARNING] No valid images for patient: 205, skipping\n",
      "[SKIPPED] Missing file: datasets/thyroid_ultrasonic_image/batch1_image/dataset/206_014_174424.Jpg\n",
      "[SKIPPED] Missing file: datasets/thyroid_ultrasonic_image/batch1_image/dataset/206_015_174424.Jpg\n",
      "[SKIPPED] Missing file: datasets/thyroid_ultrasonic_image/batch1_image/dataset/206_016_174425.Jpg\n",
      "[SKIPPED] Missing file: datasets/thyroid_ultrasonic_image/batch1_image/dataset/206_017_174425.Jpg\n",
      "[SKIPPED] Missing file: datasets/thyroid_ultrasonic_image/batch1_image/dataset/206_018_174425.Jpg\n",
      "[SKIPPED] Missing file: datasets/thyroid_ultrasonic_image/batch1_image/dataset/206_019_174425.Jpg\n",
      "[WARNING] No valid images for patient: 206, skipping\n",
      "[SKIPPED] Missing file: datasets/thyroid_ultrasonic_image/batch1_image/dataset/207_001_181725.Jpg\n",
      "[SKIPPED] Missing file: datasets/thyroid_ultrasonic_image/batch1_image/dataset/207_002_181726.Jpg\n",
      "[SKIPPED] Missing file: datasets/thyroid_ultrasonic_image/batch1_image/dataset/207_003_181726.Jpg\n",
      "[SKIPPED] Missing file: datasets/thyroid_ultrasonic_image/batch1_image/dataset/207_004_181726.Jpg\n",
      "[SKIPPED] Missing file: datasets/thyroid_ultrasonic_image/batch1_image/dataset/207_005_181726.Jpg\n",
      "[SKIPPED] Missing file: datasets/thyroid_ultrasonic_image/batch1_image/dataset/207_006_181726.Jpg\n",
      "[SKIPPED] Missing file: datasets/thyroid_ultrasonic_image/batch1_image/dataset/207_007_181726.Jpg\n",
      "[SKIPPED] Missing file: datasets/thyroid_ultrasonic_image/batch1_image/dataset/207_008_181727.Jpg\n",
      "[SKIPPED] Missing file: datasets/thyroid_ultrasonic_image/batch1_image/dataset/207_009_181727.Jpg\n",
      "[SKIPPED] Missing file: datasets/thyroid_ultrasonic_image/batch1_image/dataset/207_010_181727.Jpg\n",
      "[WARNING] No valid images for patient: 207, skipping\n",
      "[SKIPPED] Missing file: datasets/thyroid_ultrasonic_image/batch1_image/dataset/208_011_174021.Jpg\n",
      "[SKIPPED] Missing file: datasets/thyroid_ultrasonic_image/batch1_image/dataset/208_012_174021.Jpg\n",
      "[SKIPPED] Missing file: datasets/thyroid_ultrasonic_image/batch1_image/dataset/208_013_174021.Jpg\n",
      "[SKIPPED] Missing file: datasets/thyroid_ultrasonic_image/batch1_image/dataset/208_014_174022.Jpg\n",
      "[SKIPPED] Missing file: datasets/thyroid_ultrasonic_image/batch1_image/dataset/208_015_174022.Jpg\n",
      "[SKIPPED] Missing file: datasets/thyroid_ultrasonic_image/batch1_image/dataset/208_016_174022.Jpg\n",
      "[SKIPPED] Missing file: datasets/thyroid_ultrasonic_image/batch1_image/dataset/208_017_174022.Jpg\n",
      "[SKIPPED] Missing file: datasets/thyroid_ultrasonic_image/batch1_image/dataset/208_018_174022.Jpg\n",
      "[SKIPPED] Missing file: datasets/thyroid_ultrasonic_image/batch1_image/dataset/208_019_174023.Jpg\n",
      "[SKIPPED] Missing file: datasets/thyroid_ultrasonic_image/batch1_image/dataset/208_020_174023.Jpg\n",
      "[SKIPPED] Missing file: datasets/thyroid_ultrasonic_image/batch1_image/dataset/208_021_174023.Jpg\n",
      "[WARNING] No valid images for patient: 208, skipping\n",
      "[SKIPPED] Missing file: datasets/thyroid_ultrasonic_image/batch1_image/dataset/209_001_181313.Jpg\n",
      "[SKIPPED] Missing file: datasets/thyroid_ultrasonic_image/batch1_image/dataset/209_002_181313.Jpg\n",
      "[SKIPPED] Missing file: datasets/thyroid_ultrasonic_image/batch1_image/dataset/209_003_181314.Jpg\n",
      "[SKIPPED] Missing file: datasets/thyroid_ultrasonic_image/batch1_image/dataset/209_004_181314.Jpg\n",
      "[SKIPPED] Missing file: datasets/thyroid_ultrasonic_image/batch1_image/dataset/209_005_181314.Jpg\n",
      "[SKIPPED] Missing file: datasets/thyroid_ultrasonic_image/batch1_image/dataset/209_007_181314.Jpg\n",
      "[SKIPPED] Missing file: datasets/thyroid_ultrasonic_image/batch1_image/dataset/209_008_181314.Jpg\n",
      "[SKIPPED] Missing file: datasets/thyroid_ultrasonic_image/batch1_image/dataset/209_009_181315.Jpg\n",
      "[SKIPPED] Missing file: datasets/thyroid_ultrasonic_image/batch1_image/dataset/209_010_181315.Jpg\n",
      "[WARNING] No valid images for patient: 209, skipping\n",
      "[SKIPPED] Missing file: datasets/thyroid_ultrasonic_image/batch1_image/dataset/210_024_105141.Jpg\n",
      "[SKIPPED] Missing file: datasets/thyroid_ultrasonic_image/batch1_image/dataset/210_025_105141.Jpg\n",
      "[SKIPPED] Missing file: datasets/thyroid_ultrasonic_image/batch1_image/dataset/210_026_105141.Jpg\n",
      "[SKIPPED] Missing file: datasets/thyroid_ultrasonic_image/batch1_image/dataset/210_027_105142.Jpg\n",
      "[SKIPPED] Missing file: datasets/thyroid_ultrasonic_image/batch1_image/dataset/210_028_105142.Jpg\n",
      "[SKIPPED] Missing file: datasets/thyroid_ultrasonic_image/batch1_image/dataset/210_029_105142.Jpg\n",
      "[SKIPPED] Missing file: datasets/thyroid_ultrasonic_image/batch1_image/dataset/210_030_105142.Jpg\n",
      "[SKIPPED] Missing file: datasets/thyroid_ultrasonic_image/batch1_image/dataset/210_031_105142.Jpg\n",
      "[SKIPPED] Missing file: datasets/thyroid_ultrasonic_image/batch1_image/dataset/210_032_105143.Jpg\n",
      "[SKIPPED] Missing file: datasets/thyroid_ultrasonic_image/batch1_image/dataset/210_033_105143.Jpg\n",
      "[SKIPPED] Missing file: datasets/thyroid_ultrasonic_image/batch1_image/dataset/210_034_105143.Jpg\n",
      "[SKIPPED] Missing file: datasets/thyroid_ultrasonic_image/batch1_image/dataset/210_035_105143.Jpg\n",
      "[SKIPPED] Missing file: datasets/thyroid_ultrasonic_image/batch1_image/dataset/210_036_105143.Jpg\n",
      "[SKIPPED] Missing file: datasets/thyroid_ultrasonic_image/batch1_image/dataset/210_037_105144.Jpg\n",
      "[SKIPPED] Missing file: datasets/thyroid_ultrasonic_image/batch1_image/dataset/210_038_105144.Jpg\n",
      "[SKIPPED] Missing file: datasets/thyroid_ultrasonic_image/batch1_image/dataset/210_039_105144.Jpg\n",
      "[SKIPPED] Missing file: datasets/thyroid_ultrasonic_image/batch1_image/dataset/210_040_105144.Jpg\n",
      "[SKIPPED] Missing file: datasets/thyroid_ultrasonic_image/batch1_image/dataset/210_041_105144.Jpg\n",
      "[SKIPPED] Missing file: datasets/thyroid_ultrasonic_image/batch1_image/dataset/210_042_105144.Jpg\n",
      "[SKIPPED] Missing file: datasets/thyroid_ultrasonic_image/batch1_image/dataset/210_043_105145.Jpg\n",
      "[SKIPPED] Missing file: datasets/thyroid_ultrasonic_image/batch1_image/dataset/210_044_105145.Jpg\n",
      "[SKIPPED] Missing file: datasets/thyroid_ultrasonic_image/batch1_image/dataset/210_045_105145.Jpg\n",
      "[SKIPPED] Missing file: datasets/thyroid_ultrasonic_image/batch1_image/dataset/210_046_105145.Jpg\n",
      "[SKIPPED] Missing file: datasets/thyroid_ultrasonic_image/batch1_image/dataset/210_047_105145.Jpg\n",
      "[SKIPPED] Missing file: datasets/thyroid_ultrasonic_image/batch1_image/dataset/210_048_105145.Jpg\n",
      "[WARNING] No valid images for patient: 210, skipping\n",
      "[SKIPPED] Missing file: datasets/thyroid_ultrasonic_image/batch1_image/dataset/211_001_174505.Jpg\n",
      "[SKIPPED] Missing file: datasets/thyroid_ultrasonic_image/batch1_image/dataset/211_002_174505.Jpg\n",
      "[SKIPPED] Missing file: datasets/thyroid_ultrasonic_image/batch1_image/dataset/211_003_174505.Jpg\n",
      "[SKIPPED] Missing file: datasets/thyroid_ultrasonic_image/batch1_image/dataset/211_005_174505.Jpg\n",
      "[SKIPPED] Missing file: datasets/thyroid_ultrasonic_image/batch1_image/dataset/211_006_174506.Jpg\n",
      "[WARNING] No valid images for patient: 211, skipping\n",
      "[SKIPPED] Missing file: datasets/thyroid_ultrasonic_image/batch1_image/dataset/212_001_191222.Jpg\n",
      "[SKIPPED] Missing file: datasets/thyroid_ultrasonic_image/batch1_image/dataset/212_002_191222.Jpg\n",
      "[SKIPPED] Missing file: datasets/thyroid_ultrasonic_image/batch1_image/dataset/212_003_191223.Jpg\n",
      "[SKIPPED] Missing file: datasets/thyroid_ultrasonic_image/batch1_image/dataset/212_004_191223.Jpg\n",
      "[SKIPPED] Missing file: datasets/thyroid_ultrasonic_image/batch1_image/dataset/212_005_191223.Jpg\n",
      "[SKIPPED] Missing file: datasets/thyroid_ultrasonic_image/batch1_image/dataset/212_006_191223.Jpg\n",
      "[SKIPPED] Missing file: datasets/thyroid_ultrasonic_image/batch1_image/dataset/212_007_191223.Jpg\n",
      "[SKIPPED] Missing file: datasets/thyroid_ultrasonic_image/batch1_image/dataset/212_008_191224.Jpg\n",
      "[SKIPPED] Missing file: datasets/thyroid_ultrasonic_image/batch1_image/dataset/212_009_191224.Jpg\n",
      "[SKIPPED] Missing file: datasets/thyroid_ultrasonic_image/batch1_image/dataset/212_010_191224.Jpg\n",
      "[SKIPPED] Missing file: datasets/thyroid_ultrasonic_image/batch1_image/dataset/212_011_191224.Jpg\n",
      "[SKIPPED] Missing file: datasets/thyroid_ultrasonic_image/batch1_image/dataset/212_012_191224.Jpg\n",
      "[SKIPPED] Missing file: datasets/thyroid_ultrasonic_image/batch1_image/dataset/212_013_191225.Jpg\n",
      "[SKIPPED] Missing file: datasets/thyroid_ultrasonic_image/batch1_image/dataset/212_014_191225.Jpg\n",
      "[SKIPPED] Missing file: datasets/thyroid_ultrasonic_image/batch1_image/dataset/212_015_191225.Jpg\n",
      "[SKIPPED] Missing file: datasets/thyroid_ultrasonic_image/batch1_image/dataset/212_016_191225.Jpg\n",
      "[SKIPPED] Missing file: datasets/thyroid_ultrasonic_image/batch1_image/dataset/212_017_191225.Jpg\n",
      "[SKIPPED] Missing file: datasets/thyroid_ultrasonic_image/batch1_image/dataset/212_018_191225.Jpg\n",
      "[WARNING] No valid images for patient: 212, skipping\n"
     ]
    },
    {
     "name": "stderr",
     "output_type": "stream",
     "text": [
      "Extracting patient features:  92%|█████████▏| 221/241 [00:02<00:00, 78.21it/s]"
     ]
    },
    {
     "name": "stdout",
     "output_type": "stream",
     "text": [
      "[SKIPPED] Missing file: datasets/thyroid_ultrasonic_image/batch1_image/dataset/213_001_181522.Jpg\n",
      "[SKIPPED] Missing file: datasets/thyroid_ultrasonic_image/batch1_image/dataset/213_002_181523.Jpg\n",
      "[SKIPPED] Missing file: datasets/thyroid_ultrasonic_image/batch1_image/dataset/213_003_181523.Jpg\n",
      "[SKIPPED] Missing file: datasets/thyroid_ultrasonic_image/batch1_image/dataset/213_004_181523.Jpg\n",
      "[SKIPPED] Missing file: datasets/thyroid_ultrasonic_image/batch1_image/dataset/213_005_181524.Jpg\n",
      "[SKIPPED] Missing file: datasets/thyroid_ultrasonic_image/batch1_image/dataset/213_006_181524.Jpg\n",
      "[SKIPPED] Missing file: datasets/thyroid_ultrasonic_image/batch1_image/dataset/213_007_181525.Jpg\n",
      "[SKIPPED] Missing file: datasets/thyroid_ultrasonic_image/batch1_image/dataset/213_008_181525.Jpg\n",
      "[SKIPPED] Missing file: datasets/thyroid_ultrasonic_image/batch1_image/dataset/213_009_181525.Jpg\n",
      "[SKIPPED] Missing file: datasets/thyroid_ultrasonic_image/batch1_image/dataset/213_010_181526.Jpg\n",
      "[SKIPPED] Missing file: datasets/thyroid_ultrasonic_image/batch1_image/dataset/213_011_181526.Jpg\n",
      "[SKIPPED] Missing file: datasets/thyroid_ultrasonic_image/batch1_image/dataset/213_012_181526.Jpg\n",
      "[SKIPPED] Missing file: datasets/thyroid_ultrasonic_image/batch1_image/dataset/213_013_181527.Jpg\n",
      "[SKIPPED] Missing file: datasets/thyroid_ultrasonic_image/batch1_image/dataset/213_014_181527.Jpg\n",
      "[SKIPPED] Missing file: datasets/thyroid_ultrasonic_image/batch1_image/dataset/213_015_181527.Jpg\n",
      "[SKIPPED] Missing file: datasets/thyroid_ultrasonic_image/batch1_image/dataset/213_016_181528.Jpg\n",
      "[WARNING] No valid images for patient: 213, skipping\n",
      "[SKIPPED] Missing file: datasets/thyroid_ultrasonic_image/batch1_image/dataset/214_001_181112.Jpg\n",
      "[SKIPPED] Missing file: datasets/thyroid_ultrasonic_image/batch1_image/dataset/214_002_181112.Jpg\n",
      "[SKIPPED] Missing file: datasets/thyroid_ultrasonic_image/batch1_image/dataset/214_003_181113.Jpg\n",
      "[SKIPPED] Missing file: datasets/thyroid_ultrasonic_image/batch1_image/dataset/214_004_181113.Jpg\n",
      "[SKIPPED] Missing file: datasets/thyroid_ultrasonic_image/batch1_image/dataset/214_005_181113.Jpg\n",
      "[SKIPPED] Missing file: datasets/thyroid_ultrasonic_image/batch1_image/dataset/214_006_181113.Jpg\n",
      "[SKIPPED] Missing file: datasets/thyroid_ultrasonic_image/batch1_image/dataset/214_007_181113.Jpg\n",
      "[SKIPPED] Missing file: datasets/thyroid_ultrasonic_image/batch1_image/dataset/214_008_181114.Jpg\n",
      "[SKIPPED] Missing file: datasets/thyroid_ultrasonic_image/batch1_image/dataset/214_009_181114.Jpg\n",
      "[SKIPPED] Missing file: datasets/thyroid_ultrasonic_image/batch1_image/dataset/214_010_181114.Jpg\n",
      "[SKIPPED] Missing file: datasets/thyroid_ultrasonic_image/batch1_image/dataset/214_011_181114.Jpg\n",
      "[SKIPPED] Missing file: datasets/thyroid_ultrasonic_image/batch1_image/dataset/214_012_181114.Jpg\n",
      "[SKIPPED] Missing file: datasets/thyroid_ultrasonic_image/batch1_image/dataset/214_013_181114.Jpg\n",
      "[SKIPPED] Missing file: datasets/thyroid_ultrasonic_image/batch1_image/dataset/214_014_181115.Jpg\n",
      "[WARNING] No valid images for patient: 214, skipping\n",
      "[SKIPPED] Missing file: datasets/thyroid_ultrasonic_image/batch1_image/dataset/215_001_103319.Jpg\n",
      "[SKIPPED] Missing file: datasets/thyroid_ultrasonic_image/batch1_image/dataset/215_002_103319.Jpg\n",
      "[SKIPPED] Missing file: datasets/thyroid_ultrasonic_image/batch1_image/dataset/215_003_103320.Jpg\n",
      "[SKIPPED] Missing file: datasets/thyroid_ultrasonic_image/batch1_image/dataset/215_004_103320.Jpg\n",
      "[SKIPPED] Missing file: datasets/thyroid_ultrasonic_image/batch1_image/dataset/215_005_103320.Jpg\n",
      "[SKIPPED] Missing file: datasets/thyroid_ultrasonic_image/batch1_image/dataset/215_006_103321.Jpg\n",
      "[SKIPPED] Missing file: datasets/thyroid_ultrasonic_image/batch1_image/dataset/215_007_103321.Jpg\n",
      "[SKIPPED] Missing file: datasets/thyroid_ultrasonic_image/batch1_image/dataset/215_008_103321.Jpg\n",
      "[SKIPPED] Missing file: datasets/thyroid_ultrasonic_image/batch1_image/dataset/215_009_103321.Jpg\n",
      "[SKIPPED] Missing file: datasets/thyroid_ultrasonic_image/batch1_image/dataset/215_010_103322.Jpg\n",
      "[SKIPPED] Missing file: datasets/thyroid_ultrasonic_image/batch1_image/dataset/215_011_103322.Jpg\n",
      "[WARNING] No valid images for patient: 215, skipping\n",
      "[SKIPPED] Missing file: datasets/thyroid_ultrasonic_image/batch1_image/dataset/216_001_180409.Jpg\n",
      "[SKIPPED] Missing file: datasets/thyroid_ultrasonic_image/batch1_image/dataset/216_002_180409.Jpg\n",
      "[SKIPPED] Missing file: datasets/thyroid_ultrasonic_image/batch1_image/dataset/216_003_180409.Jpg\n",
      "[SKIPPED] Missing file: datasets/thyroid_ultrasonic_image/batch1_image/dataset/216_004_180409.Jpg\n",
      "[SKIPPED] Missing file: datasets/thyroid_ultrasonic_image/batch1_image/dataset/216_005_180409.Jpg\n",
      "[SKIPPED] Missing file: datasets/thyroid_ultrasonic_image/batch1_image/dataset/216_006_180410.Jpg\n",
      "[SKIPPED] Missing file: datasets/thyroid_ultrasonic_image/batch1_image/dataset/216_007_180410.Jpg\n",
      "[WARNING] No valid images for patient: 216, skipping\n",
      "[SKIPPED] Missing file: datasets/thyroid_ultrasonic_image/batch1_image/dataset/217_001_183101.Jpg\n",
      "[SKIPPED] Missing file: datasets/thyroid_ultrasonic_image/batch1_image/dataset/217_002_183101.Jpg\n",
      "[SKIPPED] Missing file: datasets/thyroid_ultrasonic_image/batch1_image/dataset/217_003_183101.Jpg\n",
      "[SKIPPED] Missing file: datasets/thyroid_ultrasonic_image/batch1_image/dataset/217_004_183102.Jpg\n",
      "[SKIPPED] Missing file: datasets/thyroid_ultrasonic_image/batch1_image/dataset/217_005_183102.Jpg\n",
      "[SKIPPED] Missing file: datasets/thyroid_ultrasonic_image/batch1_image/dataset/217_006_183102.Jpg\n",
      "[SKIPPED] Missing file: datasets/thyroid_ultrasonic_image/batch1_image/dataset/217_007_183102.Jpg\n",
      "[SKIPPED] Missing file: datasets/thyroid_ultrasonic_image/batch1_image/dataset/217_008_183102.Jpg\n",
      "[SKIPPED] Missing file: datasets/thyroid_ultrasonic_image/batch1_image/dataset/217_009_183103.Jpg\n",
      "[WARNING] No valid images for patient: 217, skipping\n",
      "[SKIPPED] Missing file: datasets/thyroid_ultrasonic_image/batch1_image/dataset/218_001_175644.Jpg\n",
      "[SKIPPED] Missing file: datasets/thyroid_ultrasonic_image/batch1_image/dataset/218_002_175644.Jpg\n",
      "[SKIPPED] Missing file: datasets/thyroid_ultrasonic_image/batch1_image/dataset/218_003_175644.Jpg\n",
      "[SKIPPED] Missing file: datasets/thyroid_ultrasonic_image/batch1_image/dataset/218_004_175644.Jpg\n",
      "[SKIPPED] Missing file: datasets/thyroid_ultrasonic_image/batch1_image/dataset/218_005_175644.Jpg\n",
      "[SKIPPED] Missing file: datasets/thyroid_ultrasonic_image/batch1_image/dataset/218_006_175645.Jpg\n",
      "[SKIPPED] Missing file: datasets/thyroid_ultrasonic_image/batch1_image/dataset/218_007_175645.Jpg\n",
      "[SKIPPED] Missing file: datasets/thyroid_ultrasonic_image/batch1_image/dataset/218_008_175645.Jpg\n",
      "[SKIPPED] Missing file: datasets/thyroid_ultrasonic_image/batch1_image/dataset/218_009_175645.Jpg\n",
      "[WARNING] No valid images for patient: 218, skipping\n",
      "[SKIPPED] Missing file: datasets/thyroid_ultrasonic_image/batch1_image/dataset/219_001_190730.Jpg\n",
      "[SKIPPED] Missing file: datasets/thyroid_ultrasonic_image/batch1_image/dataset/219_002_190730.Jpg\n",
      "[SKIPPED] Missing file: datasets/thyroid_ultrasonic_image/batch1_image/dataset/219_003_190730.Jpg\n",
      "[SKIPPED] Missing file: datasets/thyroid_ultrasonic_image/batch1_image/dataset/219_004_190731.Jpg\n",
      "[SKIPPED] Missing file: datasets/thyroid_ultrasonic_image/batch1_image/dataset/219_005_190731.Jpg\n",
      "[SKIPPED] Missing file: datasets/thyroid_ultrasonic_image/batch1_image/dataset/219_006_190731.Jpg\n",
      "[SKIPPED] Missing file: datasets/thyroid_ultrasonic_image/batch1_image/dataset/219_007_190732.Jpg\n",
      "[SKIPPED] Missing file: datasets/thyroid_ultrasonic_image/batch1_image/dataset/219_008_190732.Jpg\n",
      "[SKIPPED] Missing file: datasets/thyroid_ultrasonic_image/batch1_image/dataset/219_009_190732.Jpg\n",
      "[WARNING] No valid images for patient: 219, skipping\n",
      "[SKIPPED] Missing file: datasets/thyroid_ultrasonic_image/batch1_image/dataset/220_001_181039.Jpg\n",
      "[SKIPPED] Missing file: datasets/thyroid_ultrasonic_image/batch1_image/dataset/220_002_181039.Jpg\n",
      "[SKIPPED] Missing file: datasets/thyroid_ultrasonic_image/batch1_image/dataset/220_003_181039.Jpg\n",
      "[SKIPPED] Missing file: datasets/thyroid_ultrasonic_image/batch1_image/dataset/220_004_181039.Jpg\n",
      "[SKIPPED] Missing file: datasets/thyroid_ultrasonic_image/batch1_image/dataset/220_005_181039.Jpg\n",
      "[SKIPPED] Missing file: datasets/thyroid_ultrasonic_image/batch1_image/dataset/220_006_181040.Jpg\n",
      "[SKIPPED] Missing file: datasets/thyroid_ultrasonic_image/batch1_image/dataset/220_007_181040.Jpg\n",
      "[WARNING] No valid images for patient: 220, skipping\n",
      "[SKIPPED] Missing file: datasets/thyroid_ultrasonic_image/batch1_image/dataset/221_001_134604.Jpg\n",
      "[SKIPPED] Missing file: datasets/thyroid_ultrasonic_image/batch1_image/dataset/221_002_134604.Jpg\n",
      "[SKIPPED] Missing file: datasets/thyroid_ultrasonic_image/batch1_image/dataset/221_003_134604.Jpg\n",
      "[SKIPPED] Missing file: datasets/thyroid_ultrasonic_image/batch1_image/dataset/221_004_134605.Jpg\n",
      "[SKIPPED] Missing file: datasets/thyroid_ultrasonic_image/batch1_image/dataset/221_005_134605.Jpg\n",
      "[SKIPPED] Missing file: datasets/thyroid_ultrasonic_image/batch1_image/dataset/221_006_134605.Jpg\n",
      "[SKIPPED] Missing file: datasets/thyroid_ultrasonic_image/batch1_image/dataset/221_007_134606.Jpg\n",
      "[SKIPPED] Missing file: datasets/thyroid_ultrasonic_image/batch1_image/dataset/221_008_134606.Jpg\n",
      "[SKIPPED] Missing file: datasets/thyroid_ultrasonic_image/batch1_image/dataset/221_009_134606.Jpg\n",
      "[SKIPPED] Missing file: datasets/thyroid_ultrasonic_image/batch1_image/dataset/221_010_134607.Jpg\n",
      "[SKIPPED] Missing file: datasets/thyroid_ultrasonic_image/batch1_image/dataset/221_012_134607.Jpg\n",
      "[SKIPPED] Missing file: datasets/thyroid_ultrasonic_image/batch1_image/dataset/221_013_134607.Jpg\n",
      "[WARNING] No valid images for patient: 221, skipping\n",
      "[SKIPPED] Missing file: datasets/thyroid_ultrasonic_image/batch1_image/dataset/222_001_174622.Jpg\n",
      "[SKIPPED] Missing file: datasets/thyroid_ultrasonic_image/batch1_image/dataset/222_002_174623.Jpg\n",
      "[SKIPPED] Missing file: datasets/thyroid_ultrasonic_image/batch1_image/dataset/222_003_174623.Jpg\n",
      "[SKIPPED] Missing file: datasets/thyroid_ultrasonic_image/batch1_image/dataset/222_004_174623.Jpg\n",
      "[SKIPPED] Missing file: datasets/thyroid_ultrasonic_image/batch1_image/dataset/222_005_174623.Jpg\n",
      "[SKIPPED] Missing file: datasets/thyroid_ultrasonic_image/batch1_image/dataset/222_006_174623.Jpg\n",
      "[SKIPPED] Missing file: datasets/thyroid_ultrasonic_image/batch1_image/dataset/222_007_174624.Jpg\n",
      "[WARNING] No valid images for patient: 222, skipping\n",
      "[SKIPPED] Missing file: datasets/thyroid_ultrasonic_image/batch1_image/dataset/223_001_112818.Jpg\n",
      "[SKIPPED] Missing file: datasets/thyroid_ultrasonic_image/batch1_image/dataset/223_002_112819.Jpg\n",
      "[SKIPPED] Missing file: datasets/thyroid_ultrasonic_image/batch1_image/dataset/223_003_112819.Jpg\n",
      "[SKIPPED] Missing file: datasets/thyroid_ultrasonic_image/batch1_image/dataset/223_004_112819.Jpg\n",
      "[SKIPPED] Missing file: datasets/thyroid_ultrasonic_image/batch1_image/dataset/223_005_112819.Jpg\n",
      "[SKIPPED] Missing file: datasets/thyroid_ultrasonic_image/batch1_image/dataset/223_006_112819.Jpg\n",
      "[SKIPPED] Missing file: datasets/thyroid_ultrasonic_image/batch1_image/dataset/223_007_112819.Jpg\n",
      "[SKIPPED] Missing file: datasets/thyroid_ultrasonic_image/batch1_image/dataset/223_008_112820.Jpg\n",
      "[SKIPPED] Missing file: datasets/thyroid_ultrasonic_image/batch1_image/dataset/223_009_112820.Jpg\n",
      "[SKIPPED] Missing file: datasets/thyroid_ultrasonic_image/batch1_image/dataset/223_010_112820.Jpg\n",
      "[SKIPPED] Missing file: datasets/thyroid_ultrasonic_image/batch1_image/dataset/223_011_112820.Jpg\n",
      "[SKIPPED] Missing file: datasets/thyroid_ultrasonic_image/batch1_image/dataset/223_012_112820.Jpg\n",
      "[WARNING] No valid images for patient: 223, skipping\n",
      "[SKIPPED] Missing file: datasets/thyroid_ultrasonic_image/batch1_image/dataset/224_001_181500.Jpg\n",
      "[SKIPPED] Missing file: datasets/thyroid_ultrasonic_image/batch1_image/dataset/224_002_181500.Jpg\n",
      "[SKIPPED] Missing file: datasets/thyroid_ultrasonic_image/batch1_image/dataset/224_003_181500.Jpg\n",
      "[SKIPPED] Missing file: datasets/thyroid_ultrasonic_image/batch1_image/dataset/224_004_181501.Jpg\n",
      "[SKIPPED] Missing file: datasets/thyroid_ultrasonic_image/batch1_image/dataset/224_005_181501.Jpg\n",
      "[SKIPPED] Missing file: datasets/thyroid_ultrasonic_image/batch1_image/dataset/224_006_181501.Jpg\n",
      "[SKIPPED] Missing file: datasets/thyroid_ultrasonic_image/batch1_image/dataset/224_007_181501.Jpg\n",
      "[SKIPPED] Missing file: datasets/thyroid_ultrasonic_image/batch1_image/dataset/224_008_181502.Jpg\n",
      "[SKIPPED] Missing file: datasets/thyroid_ultrasonic_image/batch1_image/dataset/224_009_181502.Jpg\n",
      "[SKIPPED] Missing file: datasets/thyroid_ultrasonic_image/batch1_image/dataset/224_010_181502.Jpg\n",
      "[SKIPPED] Missing file: datasets/thyroid_ultrasonic_image/batch1_image/dataset/224_011_181502.Jpg\n",
      "[SKIPPED] Missing file: datasets/thyroid_ultrasonic_image/batch1_image/dataset/224_012_181503.Jpg\n",
      "[SKIPPED] Missing file: datasets/thyroid_ultrasonic_image/batch1_image/dataset/224_013_181503.Jpg\n",
      "[SKIPPED] Missing file: datasets/thyroid_ultrasonic_image/batch1_image/dataset/224_014_181503.Jpg\n",
      "[SKIPPED] Missing file: datasets/thyroid_ultrasonic_image/batch1_image/dataset/224_015_181503.Jpg\n",
      "[WARNING] No valid images for patient: 224, skipping\n",
      "[SKIPPED] Missing file: datasets/thyroid_ultrasonic_image/batch1_image/dataset/225_001_190752.Jpg\n",
      "[SKIPPED] Missing file: datasets/thyroid_ultrasonic_image/batch1_image/dataset/225_002_190753.Jpg\n",
      "[SKIPPED] Missing file: datasets/thyroid_ultrasonic_image/batch1_image/dataset/225_003_190753.Jpg\n",
      "[SKIPPED] Missing file: datasets/thyroid_ultrasonic_image/batch1_image/dataset/225_004_190753.Jpg\n",
      "[SKIPPED] Missing file: datasets/thyroid_ultrasonic_image/batch1_image/dataset/225_005_190753.Jpg\n",
      "[SKIPPED] Missing file: datasets/thyroid_ultrasonic_image/batch1_image/dataset/225_006_190753.Jpg\n",
      "[SKIPPED] Missing file: datasets/thyroid_ultrasonic_image/batch1_image/dataset/225_007_190754.Jpg\n",
      "[SKIPPED] Missing file: datasets/thyroid_ultrasonic_image/batch1_image/dataset/225_008_190754.Jpg\n",
      "[SKIPPED] Missing file: datasets/thyroid_ultrasonic_image/batch1_image/dataset/225_009_190754.Jpg\n",
      "[SKIPPED] Missing file: datasets/thyroid_ultrasonic_image/batch1_image/dataset/225_010_190754.Jpg\n",
      "[SKIPPED] Missing file: datasets/thyroid_ultrasonic_image/batch1_image/dataset/225_011_190754.Jpg\n",
      "[SKIPPED] Missing file: datasets/thyroid_ultrasonic_image/batch1_image/dataset/225_012_190754.Jpg\n",
      "[WARNING] No valid images for patient: 225, skipping\n",
      "[SKIPPED] Missing file: datasets/thyroid_ultrasonic_image/batch1_image/dataset/226_001_180956.Jpg\n",
      "[SKIPPED] Missing file: datasets/thyroid_ultrasonic_image/batch1_image/dataset/226_003_180956.Jpg\n",
      "[SKIPPED] Missing file: datasets/thyroid_ultrasonic_image/batch1_image/dataset/226_004_180956.Jpg\n",
      "[SKIPPED] Missing file: datasets/thyroid_ultrasonic_image/batch1_image/dataset/226_005_180957.Jpg\n",
      "[SKIPPED] Missing file: datasets/thyroid_ultrasonic_image/batch1_image/dataset/226_006_180957.Jpg\n",
      "[SKIPPED] Missing file: datasets/thyroid_ultrasonic_image/batch1_image/dataset/226_007_180957.Jpg\n",
      "[SKIPPED] Missing file: datasets/thyroid_ultrasonic_image/batch1_image/dataset/226_008_180957.Jpg\n",
      "[WARNING] No valid images for patient: 226, skipping\n",
      "[SKIPPED] Missing file: datasets/thyroid_ultrasonic_image/batch1_image/dataset/227_001_181515.Jpg\n",
      "[SKIPPED] Missing file: datasets/thyroid_ultrasonic_image/batch1_image/dataset/227_002_181515.Jpg\n",
      "[SKIPPED] Missing file: datasets/thyroid_ultrasonic_image/batch1_image/dataset/227_003_181516.Jpg\n",
      "[SKIPPED] Missing file: datasets/thyroid_ultrasonic_image/batch1_image/dataset/227_004_181516.Jpg\n",
      "[SKIPPED] Missing file: datasets/thyroid_ultrasonic_image/batch1_image/dataset/227_005_181516.Jpg\n",
      "[SKIPPED] Missing file: datasets/thyroid_ultrasonic_image/batch1_image/dataset/227_006_181516.Jpg\n",
      "[SKIPPED] Missing file: datasets/thyroid_ultrasonic_image/batch1_image/dataset/227_007_181517.Jpg\n",
      "[SKIPPED] Missing file: datasets/thyroid_ultrasonic_image/batch1_image/dataset/227_008_181517.Jpg\n",
      "[SKIPPED] Missing file: datasets/thyroid_ultrasonic_image/batch1_image/dataset/227_011_181518.Jpg\n",
      "[WARNING] No valid images for patient: 227, skipping\n",
      "[SKIPPED] Missing file: datasets/thyroid_ultrasonic_image/batch1_image/dataset/228_001_183538.Jpg\n",
      "[SKIPPED] Missing file: datasets/thyroid_ultrasonic_image/batch1_image/dataset/228_002_183538.Jpg\n",
      "[SKIPPED] Missing file: datasets/thyroid_ultrasonic_image/batch1_image/dataset/228_003_183539.Jpg\n",
      "[SKIPPED] Missing file: datasets/thyroid_ultrasonic_image/batch1_image/dataset/228_004_183539.Jpg\n",
      "[SKIPPED] Missing file: datasets/thyroid_ultrasonic_image/batch1_image/dataset/228_005_183539.Jpg\n",
      "[SKIPPED] Missing file: datasets/thyroid_ultrasonic_image/batch1_image/dataset/228_006_183539.Jpg\n",
      "[SKIPPED] Missing file: datasets/thyroid_ultrasonic_image/batch1_image/dataset/228_007_183539.Jpg\n",
      "[SKIPPED] Missing file: datasets/thyroid_ultrasonic_image/batch1_image/dataset/228_008_183540.Jpg\n",
      "[SKIPPED] Missing file: datasets/thyroid_ultrasonic_image/batch1_image/dataset/228_009_183540.Jpg\n",
      "[SKIPPED] Missing file: datasets/thyroid_ultrasonic_image/batch1_image/dataset/228_010_183540.Jpg\n",
      "[SKIPPED] Missing file: datasets/thyroid_ultrasonic_image/batch1_image/dataset/228_011_183540.Jpg\n",
      "[WARNING] No valid images for patient: 228, skipping\n",
      "[SKIPPED] Missing file: datasets/thyroid_ultrasonic_image/batch1_image/dataset/229_001_103207.Jpg\n",
      "[SKIPPED] Missing file: datasets/thyroid_ultrasonic_image/batch1_image/dataset/229_002_103207.Jpg\n",
      "[SKIPPED] Missing file: datasets/thyroid_ultrasonic_image/batch1_image/dataset/229_003_103207.Jpg\n",
      "[SKIPPED] Missing file: datasets/thyroid_ultrasonic_image/batch1_image/dataset/229_004_103207.Jpg\n",
      "[SKIPPED] Missing file: datasets/thyroid_ultrasonic_image/batch1_image/dataset/229_005_103208.Jpg\n",
      "[SKIPPED] Missing file: datasets/thyroid_ultrasonic_image/batch1_image/dataset/229_006_103208.Jpg\n",
      "[SKIPPED] Missing file: datasets/thyroid_ultrasonic_image/batch1_image/dataset/229_007_103208.Jpg\n",
      "[SKIPPED] Missing file: datasets/thyroid_ultrasonic_image/batch1_image/dataset/229_008_103208.Jpg\n",
      "[WARNING] No valid images for patient: 229, skipping\n",
      "[SKIPPED] Missing file: datasets/thyroid_ultrasonic_image/batch1_image/dataset/230_001_174427.Jpg\n",
      "[SKIPPED] Missing file: datasets/thyroid_ultrasonic_image/batch1_image/dataset/230_002_174428.Jpg\n",
      "[SKIPPED] Missing file: datasets/thyroid_ultrasonic_image/batch1_image/dataset/230_003_174428.Jpg\n"
     ]
    },
    {
     "name": "stderr",
     "output_type": "stream",
     "text": [
      "Extracting patient features: 100%|██████████| 241/241 [00:02<00:00, 87.12it/s]"
     ]
    },
    {
     "name": "stdout",
     "output_type": "stream",
     "text": [
      "[SKIPPED] Missing file: datasets/thyroid_ultrasonic_image/batch1_image/dataset/230_004_174428.Jpg\n",
      "[SKIPPED] Missing file: datasets/thyroid_ultrasonic_image/batch1_image/dataset/230_005_174428.Jpg\n",
      "[SKIPPED] Missing file: datasets/thyroid_ultrasonic_image/batch1_image/dataset/230_006_174428.Jpg\n",
      "[WARNING] No valid images for patient: 230, skipping\n",
      "[SKIPPED] Missing file: datasets/thyroid_ultrasonic_image/batch1_image/dataset/231_001_175541.Jpg\n",
      "[SKIPPED] Missing file: datasets/thyroid_ultrasonic_image/batch1_image/dataset/231_002_175541.Jpg\n",
      "[SKIPPED] Missing file: datasets/thyroid_ultrasonic_image/batch1_image/dataset/231_003_175542.Jpg\n",
      "[SKIPPED] Missing file: datasets/thyroid_ultrasonic_image/batch1_image/dataset/231_004_175542.Jpg\n",
      "[SKIPPED] Missing file: datasets/thyroid_ultrasonic_image/batch1_image/dataset/231_005_175542.Jpg\n",
      "[SKIPPED] Missing file: datasets/thyroid_ultrasonic_image/batch1_image/dataset/231_006_175543.Jpg\n",
      "[SKIPPED] Missing file: datasets/thyroid_ultrasonic_image/batch1_image/dataset/231_007_175543.Jpg\n",
      "[SKIPPED] Missing file: datasets/thyroid_ultrasonic_image/batch1_image/dataset/231_008_175543.Jpg\n",
      "[SKIPPED] Missing file: datasets/thyroid_ultrasonic_image/batch1_image/dataset/231_009_175543.Jpg\n",
      "[SKIPPED] Missing file: datasets/thyroid_ultrasonic_image/batch1_image/dataset/231_010_175544.Jpg\n",
      "[SKIPPED] Missing file: datasets/thyroid_ultrasonic_image/batch1_image/dataset/231_011_175544.Jpg\n",
      "[SKIPPED] Missing file: datasets/thyroid_ultrasonic_image/batch1_image/dataset/231_012_175544.Jpg\n",
      "[SKIPPED] Missing file: datasets/thyroid_ultrasonic_image/batch1_image/dataset/231_013_175545.Jpg\n",
      "[SKIPPED] Missing file: datasets/thyroid_ultrasonic_image/batch1_image/dataset/231_014_175545.Jpg\n",
      "[SKIPPED] Missing file: datasets/thyroid_ultrasonic_image/batch1_image/dataset/231_015_175545.Jpg\n",
      "[SKIPPED] Missing file: datasets/thyroid_ultrasonic_image/batch1_image/dataset/231_016_175546.Jpg\n",
      "[SKIPPED] Missing file: datasets/thyroid_ultrasonic_image/batch1_image/dataset/231_017_175546.Jpg\n",
      "[WARNING] No valid images for patient: 231, skipping\n",
      "[SKIPPED] Missing file: datasets/thyroid_ultrasonic_image/batch1_image/dataset/232_001_181713.Jpg\n",
      "[SKIPPED] Missing file: datasets/thyroid_ultrasonic_image/batch1_image/dataset/232_002_181714.Jpg\n",
      "[SKIPPED] Missing file: datasets/thyroid_ultrasonic_image/batch1_image/dataset/232_003_181714.Jpg\n",
      "[SKIPPED] Missing file: datasets/thyroid_ultrasonic_image/batch1_image/dataset/232_004_181714.Jpg\n",
      "[SKIPPED] Missing file: datasets/thyroid_ultrasonic_image/batch1_image/dataset/232_005_181714.Jpg\n",
      "[SKIPPED] Missing file: datasets/thyroid_ultrasonic_image/batch1_image/dataset/232_006_181714.Jpg\n",
      "[SKIPPED] Missing file: datasets/thyroid_ultrasonic_image/batch1_image/dataset/232_007_181715.Jpg\n",
      "[SKIPPED] Missing file: datasets/thyroid_ultrasonic_image/batch1_image/dataset/232_008_181715.Jpg\n",
      "[SKIPPED] Missing file: datasets/thyroid_ultrasonic_image/batch1_image/dataset/232_010_181715.Jpg\n",
      "[SKIPPED] Missing file: datasets/thyroid_ultrasonic_image/batch1_image/dataset/232_011_181716.Jpg\n",
      "[SKIPPED] Missing file: datasets/thyroid_ultrasonic_image/batch1_image/dataset/232_012_181716.Jpg\n",
      "[WARNING] No valid images for patient: 232, skipping\n",
      "[SKIPPED] Missing file: datasets/thyroid_ultrasonic_image/batch1_image/dataset/233_001_181831.Jpg\n",
      "[SKIPPED] Missing file: datasets/thyroid_ultrasonic_image/batch1_image/dataset/233_002_181831.Jpg\n",
      "[SKIPPED] Missing file: datasets/thyroid_ultrasonic_image/batch1_image/dataset/233_003_181831.Jpg\n",
      "[SKIPPED] Missing file: datasets/thyroid_ultrasonic_image/batch1_image/dataset/233_004_181832.Jpg\n",
      "[SKIPPED] Missing file: datasets/thyroid_ultrasonic_image/batch1_image/dataset/233_005_181832.Jpg\n",
      "[SKIPPED] Missing file: datasets/thyroid_ultrasonic_image/batch1_image/dataset/233_006_181832.Jpg\n",
      "[WARNING] No valid images for patient: 233, skipping\n",
      "[SKIPPED] Missing file: datasets/thyroid_ultrasonic_image/batch1_image/dataset/234_001_175103.Jpg\n",
      "[SKIPPED] Missing file: datasets/thyroid_ultrasonic_image/batch1_image/dataset/234_002_175103.Jpg\n",
      "[SKIPPED] Missing file: datasets/thyroid_ultrasonic_image/batch1_image/dataset/234_003_175103.Jpg\n",
      "[SKIPPED] Missing file: datasets/thyroid_ultrasonic_image/batch1_image/dataset/234_004_175103.Jpg\n",
      "[SKIPPED] Missing file: datasets/thyroid_ultrasonic_image/batch1_image/dataset/234_005_175103.Jpg\n",
      "[SKIPPED] Missing file: datasets/thyroid_ultrasonic_image/batch1_image/dataset/234_006_175104.Jpg\n",
      "[SKIPPED] Missing file: datasets/thyroid_ultrasonic_image/batch1_image/dataset/234_007_175104.Jpg\n",
      "[SKIPPED] Missing file: datasets/thyroid_ultrasonic_image/batch1_image/dataset/234_008_175104.Jpg\n",
      "[SKIPPED] Missing file: datasets/thyroid_ultrasonic_image/batch1_image/dataset/234_009_175104.Jpg\n",
      "[SKIPPED] Missing file: datasets/thyroid_ultrasonic_image/batch1_image/dataset/234_010_175104.Jpg\n",
      "[SKIPPED] Missing file: datasets/thyroid_ultrasonic_image/batch1_image/dataset/234_011_175104.Jpg\n",
      "[SKIPPED] Missing file: datasets/thyroid_ultrasonic_image/batch1_image/dataset/234_012_175105.Jpg\n",
      "[WARNING] No valid images for patient: 234, skipping\n",
      "[SKIPPED] Missing file: datasets/thyroid_ultrasonic_image/batch1_image/dataset/235_001_181436.Jpg\n",
      "[SKIPPED] Missing file: datasets/thyroid_ultrasonic_image/batch1_image/dataset/235_002_181436.Jpg\n",
      "[SKIPPED] Missing file: datasets/thyroid_ultrasonic_image/batch1_image/dataset/235_003_181436.Jpg\n",
      "[SKIPPED] Missing file: datasets/thyroid_ultrasonic_image/batch1_image/dataset/235_004_181436.Jpg\n",
      "[SKIPPED] Missing file: datasets/thyroid_ultrasonic_image/batch1_image/dataset/235_005_181437.Jpg\n",
      "[SKIPPED] Missing file: datasets/thyroid_ultrasonic_image/batch1_image/dataset/235_006_181437.Jpg\n",
      "[SKIPPED] Missing file: datasets/thyroid_ultrasonic_image/batch1_image/dataset/235_007_181437.Jpg\n",
      "[SKIPPED] Missing file: datasets/thyroid_ultrasonic_image/batch1_image/dataset/235_008_181437.Jpg\n",
      "[SKIPPED] Missing file: datasets/thyroid_ultrasonic_image/batch1_image/dataset/235_009_181437.Jpg\n",
      "[SKIPPED] Missing file: datasets/thyroid_ultrasonic_image/batch1_image/dataset/235_010_181438.Jpg\n",
      "[SKIPPED] Missing file: datasets/thyroid_ultrasonic_image/batch1_image/dataset/235_011_181438.Jpg\n",
      "[SKIPPED] Missing file: datasets/thyroid_ultrasonic_image/batch1_image/dataset/235_012_181438.Jpg\n",
      "[WARNING] No valid images for patient: 235, skipping\n",
      "[SKIPPED] Missing file: datasets/thyroid_ultrasonic_image/batch1_image/dataset/236_001_174009.Jpg\n",
      "[SKIPPED] Missing file: datasets/thyroid_ultrasonic_image/batch1_image/dataset/236_002_174009.Jpg\n",
      "[SKIPPED] Missing file: datasets/thyroid_ultrasonic_image/batch1_image/dataset/236_003_174010.Jpg\n",
      "[SKIPPED] Missing file: datasets/thyroid_ultrasonic_image/batch1_image/dataset/236_004_174010.Jpg\n",
      "[SKIPPED] Missing file: datasets/thyroid_ultrasonic_image/batch1_image/dataset/236_005_174011.Jpg\n",
      "[SKIPPED] Missing file: datasets/thyroid_ultrasonic_image/batch1_image/dataset/236_006_174011.Jpg\n",
      "[SKIPPED] Missing file: datasets/thyroid_ultrasonic_image/batch1_image/dataset/236_007_174011.Jpg\n",
      "[WARNING] No valid images for patient: 236, skipping\n",
      "[SKIPPED] Missing file: datasets/thyroid_ultrasonic_image/batch1_image/dataset/237_011_174727.Jpg\n",
      "[SKIPPED] Missing file: datasets/thyroid_ultrasonic_image/batch1_image/dataset/237_012_174728.Jpg\n",
      "[SKIPPED] Missing file: datasets/thyroid_ultrasonic_image/batch1_image/dataset/237_050_174734.Jpg\n",
      "[SKIPPED] Missing file: datasets/thyroid_ultrasonic_image/batch1_image/dataset/237_051_174734.Jpg\n",
      "[SKIPPED] Missing file: datasets/thyroid_ultrasonic_image/batch1_image/dataset/237_052_174735.Jpg\n",
      "[SKIPPED] Missing file: datasets/thyroid_ultrasonic_image/batch1_image/dataset/237_053_174735.Jpg\n",
      "[SKIPPED] Missing file: datasets/thyroid_ultrasonic_image/batch1_image/dataset/237_054_174735.Jpg\n",
      "[SKIPPED] Missing file: datasets/thyroid_ultrasonic_image/batch1_image/dataset/237_055_174735.Jpg\n",
      "[SKIPPED] Missing file: datasets/thyroid_ultrasonic_image/batch1_image/dataset/237_056_174735.Jpg\n",
      "[SKIPPED] Missing file: datasets/thyroid_ultrasonic_image/batch1_image/dataset/237_057_174736.Jpg\n",
      "[WARNING] No valid images for patient: 237, skipping\n",
      "[SKIPPED] Missing file: datasets/thyroid_ultrasonic_image/batch1_image/dataset/238_001_180427.Jpg\n",
      "[SKIPPED] Missing file: datasets/thyroid_ultrasonic_image/batch1_image/dataset/238_002_180427.Jpg\n",
      "[SKIPPED] Missing file: datasets/thyroid_ultrasonic_image/batch1_image/dataset/238_003_180428.Jpg\n",
      "[SKIPPED] Missing file: datasets/thyroid_ultrasonic_image/batch1_image/dataset/238_004_180428.Jpg\n",
      "[SKIPPED] Missing file: datasets/thyroid_ultrasonic_image/batch1_image/dataset/238_005_180428.Jpg\n",
      "[SKIPPED] Missing file: datasets/thyroid_ultrasonic_image/batch1_image/dataset/238_006_180429.Jpg\n",
      "[SKIPPED] Missing file: datasets/thyroid_ultrasonic_image/batch1_image/dataset/238_007_180429.Jpg\n",
      "[SKIPPED] Missing file: datasets/thyroid_ultrasonic_image/batch1_image/dataset/238_008_180430.Jpg\n",
      "[SKIPPED] Missing file: datasets/thyroid_ultrasonic_image/batch1_image/dataset/238_009_180430.Jpg\n",
      "[SKIPPED] Missing file: datasets/thyroid_ultrasonic_image/batch1_image/dataset/238_010_180430.Jpg\n",
      "[SKIPPED] Missing file: datasets/thyroid_ultrasonic_image/batch1_image/dataset/238_011_180430.Jpg\n",
      "[WARNING] No valid images for patient: 238, skipping\n",
      "[SKIPPED] Missing file: datasets/thyroid_ultrasonic_image/batch1_image/dataset/239_001_181329.Jpg\n",
      "[SKIPPED] Missing file: datasets/thyroid_ultrasonic_image/batch1_image/dataset/239_002_181329.Jpg\n",
      "[SKIPPED] Missing file: datasets/thyroid_ultrasonic_image/batch1_image/dataset/239_003_181329.Jpg\n",
      "[SKIPPED] Missing file: datasets/thyroid_ultrasonic_image/batch1_image/dataset/239_004_181329.Jpg\n",
      "[SKIPPED] Missing file: datasets/thyroid_ultrasonic_image/batch1_image/dataset/239_005_181329.Jpg\n",
      "[SKIPPED] Missing file: datasets/thyroid_ultrasonic_image/batch1_image/dataset/239_006_181329.Jpg\n",
      "[SKIPPED] Missing file: datasets/thyroid_ultrasonic_image/batch1_image/dataset/239_007_181330.Jpg\n",
      "[SKIPPED] Missing file: datasets/thyroid_ultrasonic_image/batch1_image/dataset/239_008_181330.Jpg\n",
      "[SKIPPED] Missing file: datasets/thyroid_ultrasonic_image/batch1_image/dataset/239_009_181330.Jpg\n",
      "[SKIPPED] Missing file: datasets/thyroid_ultrasonic_image/batch1_image/dataset/239_010_181330.Jpg\n",
      "[SKIPPED] Missing file: datasets/thyroid_ultrasonic_image/batch1_image/dataset/239_011_181330.Jpg\n",
      "[SKIPPED] Missing file: datasets/thyroid_ultrasonic_image/batch1_image/dataset/239_012_181330.Jpg\n",
      "[SKIPPED] Missing file: datasets/thyroid_ultrasonic_image/batch1_image/dataset/239_013_181331.Jpg\n",
      "[WARNING] No valid images for patient: 239, skipping\n",
      "[SKIPPED] Missing file: datasets/thyroid_ultrasonic_image/batch1_image/dataset/240_001_182507.Jpg\n",
      "[SKIPPED] Missing file: datasets/thyroid_ultrasonic_image/batch1_image/dataset/240_002_182508.Jpg\n",
      "[SKIPPED] Missing file: datasets/thyroid_ultrasonic_image/batch1_image/dataset/240_003_182508.Jpg\n",
      "[SKIPPED] Missing file: datasets/thyroid_ultrasonic_image/batch1_image/dataset/240_004_182508.Jpg\n",
      "[SKIPPED] Missing file: datasets/thyroid_ultrasonic_image/batch1_image/dataset/240_005_182508.Jpg\n",
      "[SKIPPED] Missing file: datasets/thyroid_ultrasonic_image/batch1_image/dataset/240_006_182508.Jpg\n",
      "[SKIPPED] Missing file: datasets/thyroid_ultrasonic_image/batch1_image/dataset/240_007_182509.Jpg\n",
      "[SKIPPED] Missing file: datasets/thyroid_ultrasonic_image/batch1_image/dataset/240_008_182509.Jpg\n",
      "[SKIPPED] Missing file: datasets/thyroid_ultrasonic_image/batch1_image/dataset/240_009_182509.Jpg\n",
      "[SKIPPED] Missing file: datasets/thyroid_ultrasonic_image/batch1_image/dataset/240_010_182509.Jpg\n",
      "[SKIPPED] Missing file: datasets/thyroid_ultrasonic_image/batch1_image/dataset/240_011_182509.Jpg\n",
      "[WARNING] No valid images for patient: 240, skipping\n",
      "[SKIPPED] Missing file: datasets/thyroid_ultrasonic_image/batch1_image/dataset/241_001_180745.Jpg\n",
      "[SKIPPED] Missing file: datasets/thyroid_ultrasonic_image/batch1_image/dataset/241_002_180745.Jpg\n",
      "[SKIPPED] Missing file: datasets/thyroid_ultrasonic_image/batch1_image/dataset/241_011_180759.Jpg\n",
      "[SKIPPED] Missing file: datasets/thyroid_ultrasonic_image/batch1_image/dataset/241_012_180759.Jpg\n",
      "[SKIPPED] Missing file: datasets/thyroid_ultrasonic_image/batch1_image/dataset/241_013_180759.Jpg\n",
      "[SKIPPED] Missing file: datasets/thyroid_ultrasonic_image/batch1_image/dataset/241_014_180800.Jpg\n",
      "[SKIPPED] Missing file: datasets/thyroid_ultrasonic_image/batch1_image/dataset/241_015_180800.Jpg\n",
      "[SKIPPED] Missing file: datasets/thyroid_ultrasonic_image/batch1_image/dataset/241_016_180800.Jpg\n",
      "[SKIPPED] Missing file: datasets/thyroid_ultrasonic_image/batch1_image/dataset/241_017_180800.Jpg\n",
      "[SKIPPED] Missing file: datasets/thyroid_ultrasonic_image/batch1_image/dataset/241_018_180800.Jpg\n",
      "[SKIPPED] Missing file: datasets/thyroid_ultrasonic_image/batch1_image/dataset/241_019_180801.Jpg\n",
      "[SKIPPED] Missing file: datasets/thyroid_ultrasonic_image/batch1_image/dataset/241_020_180801.Jpg\n",
      "[SKIPPED] Missing file: datasets/thyroid_ultrasonic_image/batch1_image/dataset/241_021_180801.Jpg\n",
      "[SKIPPED] Missing file: datasets/thyroid_ultrasonic_image/batch1_image/dataset/241_022_180801.Jpg\n",
      "[SKIPPED] Missing file: datasets/thyroid_ultrasonic_image/batch1_image/dataset/241_023_180801.Jpg\n",
      "[WARNING] No valid images for patient: 241, skipping\n"
     ]
    },
    {
     "name": "stderr",
     "output_type": "stream",
     "text": [
      "\n"
     ]
    }
   ],
   "source": [
    "X_test, y_test = extract_patient_features(test_df)\n",
    "np.save('X_test.npy', X_test)\n",
    "np.save('y_test.npy', y_test)"
   ]
  },
  {
   "cell_type": "code",
   "execution_count": null,
   "id": "40d95e8f",
   "metadata": {},
   "outputs": [],
   "source": []
  }
 ],
 "metadata": {
  "kernelspec": {
   "display_name": "base",
   "language": "python",
   "name": "python3"
  },
  "language_info": {
   "codemirror_mode": {
    "name": "ipython",
    "version": 3
   },
   "file_extension": ".py",
   "mimetype": "text/x-python",
   "name": "python",
   "nbconvert_exporter": "python",
   "pygments_lexer": "ipython3",
   "version": "3.12.7"
  }
 },
 "nbformat": 4,
 "nbformat_minor": 5
}
