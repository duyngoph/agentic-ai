{
 "cells": [
  {
   "cell_type": "code",
   "execution_count": 5,
   "id": "8f095dc6",
   "metadata": {},
   "outputs": [],
   "source": [
    "import pandas as pd\n",
    "import numpy as np"
   ]
  },
  {
   "cell_type": "code",
   "execution_count": 8,
   "id": "e9148eeb",
   "metadata": {},
   "outputs": [],
   "source": [
    "df = pd.read_csv('datasets/thyroid_cancer_risk_data.csv')"
   ]
  },
  {
   "cell_type": "code",
   "execution_count": 9,
   "id": "3b10ead0",
   "metadata": {},
   "outputs": [
    {
     "data": {
      "application/vnd.microsoft.datawrangler.viewer.v0+json": {
       "columns": [
        {
         "name": "index",
         "rawType": "int64",
         "type": "integer"
        },
        {
         "name": "Patient_ID",
         "rawType": "int64",
         "type": "integer"
        },
        {
         "name": "Age",
         "rawType": "int64",
         "type": "integer"
        },
        {
         "name": "Gender",
         "rawType": "object",
         "type": "string"
        },
        {
         "name": "Country",
         "rawType": "object",
         "type": "string"
        },
        {
         "name": "Ethnicity",
         "rawType": "object",
         "type": "string"
        },
        {
         "name": "Family_History",
         "rawType": "object",
         "type": "string"
        },
        {
         "name": "Radiation_Exposure",
         "rawType": "object",
         "type": "string"
        },
        {
         "name": "Iodine_Deficiency",
         "rawType": "object",
         "type": "string"
        },
        {
         "name": "Smoking",
         "rawType": "object",
         "type": "string"
        },
        {
         "name": "Obesity",
         "rawType": "object",
         "type": "string"
        },
        {
         "name": "Diabetes",
         "rawType": "object",
         "type": "string"
        },
        {
         "name": "TSH_Level",
         "rawType": "float64",
         "type": "float"
        },
        {
         "name": "T3_Level",
         "rawType": "float64",
         "type": "float"
        },
        {
         "name": "T4_Level",
         "rawType": "float64",
         "type": "float"
        },
        {
         "name": "Nodule_Size",
         "rawType": "float64",
         "type": "float"
        },
        {
         "name": "Thyroid_Cancer_Risk",
         "rawType": "object",
         "type": "string"
        },
        {
         "name": "Diagnosis",
         "rawType": "object",
         "type": "string"
        }
       ],
       "ref": "cbcc257e-cfee-44dd-8a7e-dc08416d73ba",
       "rows": [
        [
         "0",
         "1",
         "66",
         "Male",
         "Russia",
         "Caucasian",
         "No",
         "Yes",
         "No",
         "No",
         "No",
         "No",
         "9.37",
         "1.67",
         "6.16",
         "1.08",
         "Low",
         "Benign"
        ],
        [
         "1",
         "2",
         "29",
         "Male",
         "Germany",
         "Hispanic",
         "No",
         "Yes",
         "No",
         "No",
         "No",
         "No",
         "1.83",
         "1.73",
         "10.54",
         "4.05",
         "Low",
         "Benign"
        ],
        [
         "2",
         "3",
         "86",
         "Male",
         "Nigeria",
         "Caucasian",
         "No",
         "No",
         "No",
         "No",
         "No",
         "No",
         "6.26",
         "2.59",
         "10.57",
         "4.61",
         "Low",
         "Benign"
        ],
        [
         "3",
         "4",
         "75",
         "Female",
         "India",
         "Asian",
         "No",
         "No",
         "No",
         "No",
         "No",
         "No",
         "4.1",
         "2.62",
         "11.04",
         "2.46",
         "Medium",
         "Benign"
        ],
        [
         "4",
         "5",
         "35",
         "Female",
         "Germany",
         "African",
         "Yes",
         "Yes",
         "No",
         "No",
         "No",
         "No",
         "9.1",
         "2.11",
         "10.71",
         "2.11",
         "High",
         "Benign"
        ]
       ],
       "shape": {
        "columns": 17,
        "rows": 5
       }
      },
      "text/html": [
       "<div>\n",
       "<style scoped>\n",
       "    .dataframe tbody tr th:only-of-type {\n",
       "        vertical-align: middle;\n",
       "    }\n",
       "\n",
       "    .dataframe tbody tr th {\n",
       "        vertical-align: top;\n",
       "    }\n",
       "\n",
       "    .dataframe thead th {\n",
       "        text-align: right;\n",
       "    }\n",
       "</style>\n",
       "<table border=\"1\" class=\"dataframe\">\n",
       "  <thead>\n",
       "    <tr style=\"text-align: right;\">\n",
       "      <th></th>\n",
       "      <th>Patient_ID</th>\n",
       "      <th>Age</th>\n",
       "      <th>Gender</th>\n",
       "      <th>Country</th>\n",
       "      <th>Ethnicity</th>\n",
       "      <th>Family_History</th>\n",
       "      <th>Radiation_Exposure</th>\n",
       "      <th>Iodine_Deficiency</th>\n",
       "      <th>Smoking</th>\n",
       "      <th>Obesity</th>\n",
       "      <th>Diabetes</th>\n",
       "      <th>TSH_Level</th>\n",
       "      <th>T3_Level</th>\n",
       "      <th>T4_Level</th>\n",
       "      <th>Nodule_Size</th>\n",
       "      <th>Thyroid_Cancer_Risk</th>\n",
       "      <th>Diagnosis</th>\n",
       "    </tr>\n",
       "  </thead>\n",
       "  <tbody>\n",
       "    <tr>\n",
       "      <th>0</th>\n",
       "      <td>1</td>\n",
       "      <td>66</td>\n",
       "      <td>Male</td>\n",
       "      <td>Russia</td>\n",
       "      <td>Caucasian</td>\n",
       "      <td>No</td>\n",
       "      <td>Yes</td>\n",
       "      <td>No</td>\n",
       "      <td>No</td>\n",
       "      <td>No</td>\n",
       "      <td>No</td>\n",
       "      <td>9.37</td>\n",
       "      <td>1.67</td>\n",
       "      <td>6.16</td>\n",
       "      <td>1.08</td>\n",
       "      <td>Low</td>\n",
       "      <td>Benign</td>\n",
       "    </tr>\n",
       "    <tr>\n",
       "      <th>1</th>\n",
       "      <td>2</td>\n",
       "      <td>29</td>\n",
       "      <td>Male</td>\n",
       "      <td>Germany</td>\n",
       "      <td>Hispanic</td>\n",
       "      <td>No</td>\n",
       "      <td>Yes</td>\n",
       "      <td>No</td>\n",
       "      <td>No</td>\n",
       "      <td>No</td>\n",
       "      <td>No</td>\n",
       "      <td>1.83</td>\n",
       "      <td>1.73</td>\n",
       "      <td>10.54</td>\n",
       "      <td>4.05</td>\n",
       "      <td>Low</td>\n",
       "      <td>Benign</td>\n",
       "    </tr>\n",
       "    <tr>\n",
       "      <th>2</th>\n",
       "      <td>3</td>\n",
       "      <td>86</td>\n",
       "      <td>Male</td>\n",
       "      <td>Nigeria</td>\n",
       "      <td>Caucasian</td>\n",
       "      <td>No</td>\n",
       "      <td>No</td>\n",
       "      <td>No</td>\n",
       "      <td>No</td>\n",
       "      <td>No</td>\n",
       "      <td>No</td>\n",
       "      <td>6.26</td>\n",
       "      <td>2.59</td>\n",
       "      <td>10.57</td>\n",
       "      <td>4.61</td>\n",
       "      <td>Low</td>\n",
       "      <td>Benign</td>\n",
       "    </tr>\n",
       "    <tr>\n",
       "      <th>3</th>\n",
       "      <td>4</td>\n",
       "      <td>75</td>\n",
       "      <td>Female</td>\n",
       "      <td>India</td>\n",
       "      <td>Asian</td>\n",
       "      <td>No</td>\n",
       "      <td>No</td>\n",
       "      <td>No</td>\n",
       "      <td>No</td>\n",
       "      <td>No</td>\n",
       "      <td>No</td>\n",
       "      <td>4.10</td>\n",
       "      <td>2.62</td>\n",
       "      <td>11.04</td>\n",
       "      <td>2.46</td>\n",
       "      <td>Medium</td>\n",
       "      <td>Benign</td>\n",
       "    </tr>\n",
       "    <tr>\n",
       "      <th>4</th>\n",
       "      <td>5</td>\n",
       "      <td>35</td>\n",
       "      <td>Female</td>\n",
       "      <td>Germany</td>\n",
       "      <td>African</td>\n",
       "      <td>Yes</td>\n",
       "      <td>Yes</td>\n",
       "      <td>No</td>\n",
       "      <td>No</td>\n",
       "      <td>No</td>\n",
       "      <td>No</td>\n",
       "      <td>9.10</td>\n",
       "      <td>2.11</td>\n",
       "      <td>10.71</td>\n",
       "      <td>2.11</td>\n",
       "      <td>High</td>\n",
       "      <td>Benign</td>\n",
       "    </tr>\n",
       "  </tbody>\n",
       "</table>\n",
       "</div>"
      ],
      "text/plain": [
       "   Patient_ID  Age  Gender  Country  Ethnicity Family_History  \\\n",
       "0           1   66    Male   Russia  Caucasian             No   \n",
       "1           2   29    Male  Germany   Hispanic             No   \n",
       "2           3   86    Male  Nigeria  Caucasian             No   \n",
       "3           4   75  Female    India      Asian             No   \n",
       "4           5   35  Female  Germany    African            Yes   \n",
       "\n",
       "  Radiation_Exposure Iodine_Deficiency Smoking Obesity Diabetes  TSH_Level  \\\n",
       "0                Yes                No      No      No       No       9.37   \n",
       "1                Yes                No      No      No       No       1.83   \n",
       "2                 No                No      No      No       No       6.26   \n",
       "3                 No                No      No      No       No       4.10   \n",
       "4                Yes                No      No      No       No       9.10   \n",
       "\n",
       "   T3_Level  T4_Level  Nodule_Size Thyroid_Cancer_Risk Diagnosis  \n",
       "0      1.67      6.16         1.08                 Low    Benign  \n",
       "1      1.73     10.54         4.05                 Low    Benign  \n",
       "2      2.59     10.57         4.61                 Low    Benign  \n",
       "3      2.62     11.04         2.46              Medium    Benign  \n",
       "4      2.11     10.71         2.11                High    Benign  "
      ]
     },
     "execution_count": 9,
     "metadata": {},
     "output_type": "execute_result"
    }
   ],
   "source": [
    "df.head()"
   ]
  },
  {
   "cell_type": "code",
   "execution_count": null,
   "id": "11d165fc",
   "metadata": {},
   "outputs": [],
   "source": []
  }
 ],
 "metadata": {
  "kernelspec": {
   "display_name": "base",
   "language": "python",
   "name": "python3"
  },
  "language_info": {
   "codemirror_mode": {
    "name": "ipython",
    "version": 3
   },
   "file_extension": ".py",
   "mimetype": "text/x-python",
   "name": "python",
   "nbconvert_exporter": "python",
   "pygments_lexer": "ipython3",
   "version": "3.12.7"
  }
 },
 "nbformat": 4,
 "nbformat_minor": 5
}
