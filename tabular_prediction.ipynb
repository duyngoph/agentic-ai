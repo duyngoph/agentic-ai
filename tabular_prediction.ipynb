{
 "cells": [
  {
   "cell_type": "code",
   "execution_count": 1,
   "id": "8f095dc6",
   "metadata": {},
   "outputs": [],
   "source": [
    "import pandas as pd\n",
    "import numpy as np\n",
    "from sklearn.model_selection import train_test_split\n",
    "from sklearn.preprocessing import StandardScaler, OneHotEncoder, LabelEncoder\n",
    "from sklearn.compose import ColumnTransformer\n",
    "from sklearn.pipeline import Pipeline\n",
    "from sklearn.metrics import accuracy_score, precision_score, recall_score, f1_score, roc_auc_score\n",
    "from sklearn.linear_model import LogisticRegression\n",
    "from sklearn.ensemble import RandomForestClassifier, GradientBoostingClassifier\n",
    "from xgboost import XGBClassifier\n",
    "from sklearn.svm import SVC\n",
    "from sklearn.neighbors import KNeighborsClassifier\n",
    "from sklearn.naive_bayes import GaussianNB\n",
    "from sklearn.tree import DecisionTreeClassifier\n",
    "from sklearn.discriminant_analysis import LinearDiscriminantAnalysis, QuadraticDiscriminantAnalysis\n",
    "from lightgbm import LGBMClassifier"
   ]
  },
  {
   "cell_type": "code",
   "execution_count": 2,
   "id": "e9148eeb",
   "metadata": {},
   "outputs": [],
   "source": [
    "df = pd.read_csv('datasets/thyroid_cancer_risk_data.csv').drop(columns=['Patient_ID', \"Thyroid_Cancer_Risk\"])"
   ]
  },
  {
   "cell_type": "code",
   "execution_count": 3,
   "id": "11d165fc",
   "metadata": {},
   "outputs": [],
   "source": [
    "X = df.drop(columns=['Diagnosis'])\n",
    "label_encoder = LabelEncoder()\n",
    "y = label_encoder.fit_transform(df['Diagnosis'])\n",
    "numeric_features = X.select_dtypes(include=['int64', 'float64']).columns.tolist()\n",
    "categorical_features = X.select_dtypes(include=['object']).columns.tolist()\n",
    "numeric_transformer = StandardScaler()\n",
    "categorical_transformer = OneHotEncoder(handle_unknown='ignore')"
   ]
  },
  {
   "cell_type": "code",
   "execution_count": 4,
   "id": "3f326570",
   "metadata": {},
   "outputs": [],
   "source": [
    "preprocessor = ColumnTransformer(\n",
    "    transformers=[ \n",
    "        ('num', numeric_transformer, numeric_features),\n",
    "        ('cat', categorical_transformer, categorical_features)\n",
    "    ])\n",
    "models = {\n",
    "    'Logistic Regression': LogisticRegression(max_iter=1000),\n",
    "    'Random Forest': RandomForestClassifier(n_estimators=100, random_state=42),\n",
    "    'XGBoost': XGBClassifier(use_label_encoder=False, eval_metric='logloss'),\n",
    "    'KNN': KNeighborsClassifier(),\n",
    "    'Naive Bayes': GaussianNB(),\n",
    "    'Decision Tree': DecisionTreeClassifier(),\n",
    "    'LDA': LinearDiscriminantAnalysis(),\n",
    "    'QDA': QuadraticDiscriminantAnalysis(),\n",
    "    'Gradient Boosting': GradientBoostingClassifier(),\n",
    "    'LightGBM': LGBMClassifier()\n",
    "}"
   ]
  },
  {
   "cell_type": "code",
   "execution_count": 5,
   "id": "a7ce4ec9",
   "metadata": {},
   "outputs": [
    {
     "name": "stdout",
     "output_type": "stream",
     "text": [
      "\n",
      "🔍 Training: Logistic Regression\n",
      "\n",
      "🔍 Training: Random Forest\n",
      "\n",
      "🔍 Training: XGBoost\n"
     ]
    },
    {
     "name": "stderr",
     "output_type": "stream",
     "text": [
      "c:\\Users\\ngoph\\anaconda3\\Lib\\site-packages\\xgboost\\training.py:183: UserWarning: [15:22:36] WARNING: C:\\actions-runner\\_work\\xgboost\\xgboost\\src\\learner.cc:738: \n",
      "Parameters: { \"use_label_encoder\" } are not used.\n",
      "\n",
      "  bst.update(dtrain, iteration=i, fobj=obj)\n"
     ]
    },
    {
     "name": "stdout",
     "output_type": "stream",
     "text": [
      "\n",
      "🔍 Training: KNN\n",
      "\n",
      "🔍 Training: Naive Bayes\n",
      "\n",
      "🔍 Training: Decision Tree\n",
      "\n",
      "🔍 Training: LDA\n",
      "\n",
      "🔍 Training: QDA\n"
     ]
    },
    {
     "name": "stderr",
     "output_type": "stream",
     "text": [
      "c:\\Users\\ngoph\\anaconda3\\Lib\\site-packages\\sklearn\\discriminant_analysis.py:947: UserWarning: Variables are collinear\n",
      "  warnings.warn(\"Variables are collinear\")\n"
     ]
    },
    {
     "name": "stdout",
     "output_type": "stream",
     "text": [
      "\n",
      "🔍 Training: Gradient Boosting\n",
      "\n",
      "🔍 Training: LightGBM\n",
      "[LightGBM] [Info] Number of positive: 39571, number of negative: 130581\n",
      "[LightGBM] [Info] Auto-choosing row-wise multi-threading, the overhead of testing was 0.008573 seconds.\n",
      "You can set `force_row_wise=true` to remove the overhead.\n",
      "And if memory is not enough, you can set `force_col_wise=true`.\n",
      "[LightGBM] [Info] Total Bins 1149\n",
      "[LightGBM] [Info] Number of data points in the train set: 170152, number of used features: 34\n",
      "[LightGBM] [Info] [binary:BoostFromScore]: pavg=0.232563 -> initscore=-1.193897\n",
      "[LightGBM] [Info] Start training from score -1.193897\n"
     ]
    }
   ],
   "source": [
    "X_train, X_test, y_train, y_test = train_test_split(X, y, test_size=0.2, random_state=42)\n",
    "results = []\n",
    "\n",
    "for name, model in models.items():\n",
    "    try:\n",
    "        print(f\"\\n🔍 Training: {name}\")\n",
    "        clf = Pipeline(steps=[\n",
    "            ('preprocessor', preprocessor),\n",
    "            ('classifier', model)\n",
    "        ])\n",
    "        clf.fit(X_train, y_train)\n",
    "        y_pred = clf.predict(X_test)\n",
    "        y_proba = clf.predict_proba(X_test)[:, 1] if hasattr(model, \"predict_proba\") else np.zeros_like(y_pred)\n",
    "\n",
    "        results.append({\n",
    "            'Model': name,\n",
    "            'Accuracy': accuracy_score(y_test, y_pred),\n",
    "            'Precision': precision_score(y_test, y_pred),\n",
    "            'Recall': recall_score(y_test, y_pred),\n",
    "            'F1': f1_score(y_test, y_pred),\n",
    "            'ROC AUC': roc_auc_score(y_test, y_proba) if y_proba.any() else None\n",
    "        })\n",
    "    except Exception as e:\n",
    "        print(f\"❌ {name} failed: {e}\")"
   ]
  },
  {
   "cell_type": "code",
   "execution_count": 6,
   "id": "ce3b7bf8",
   "metadata": {},
   "outputs": [
    {
     "name": "stdout",
     "output_type": "stream",
     "text": [
      "+----+---------------------+------------+-------------+----------+----------+-----------+\n",
      "|    | Model               |   Accuracy |   Precision |   Recall |       F1 |   ROC AUC |\n",
      "+====+=====================+============+=============+==========+==========+===========+\n",
      "|  8 | Gradient Boosting   |   0.825055 |    0.693967 | 0.4474   | 0.544051 |  0.692534 |\n",
      "+----+---------------------+------------+-------------+----------+----------+-----------+\n",
      "|  9 | LightGBM            |   0.825008 |    0.693932 | 0.447098 | 0.543817 |  0.694533 |\n",
      "+----+---------------------+------------+-------------+----------+----------+-----------+\n",
      "|  2 | XGBoost             |   0.823856 |    0.693151 | 0.439541 | 0.537954 |  0.692542 |\n",
      "+----+---------------------+------------+-------------+----------+----------+-----------+\n",
      "|  1 | Random Forest       |   0.822281 |    0.693074 | 0.427549 | 0.528855 |  0.692303 |\n",
      "+----+---------------------+------------+-------------+----------+----------+-----------+\n",
      "|  3 | KNN                 |   0.786619 |    0.573333 | 0.333636 | 0.42181  |  0.665259 |\n",
      "+----+---------------------+------------+-------------+----------+----------+-----------+\n",
      "|  4 | Naive Bayes         |   0.724559 |    0.411562 | 0.420395 | 0.415931 |  0.660916 |\n",
      "+----+---------------------+------------+-------------+----------+----------+-----------+\n",
      "|  5 | Decision Tree       |   0.703895 |    0.374318 | 0.400947 | 0.387175 |  0.598511 |\n",
      "+----+---------------------+------------+-------------+----------+----------+-----------+\n",
      "|  7 | QDA                 |   0.578575 |    0.265652 | 0.457074 | 0.336012 |  0.543612 |\n",
      "+----+---------------------+------------+-------------+----------+----------+-----------+\n",
      "|  6 | LDA                 |   0.78354  |    0.658127 | 0.150141 | 0.244503 |  0.667945 |\n",
      "+----+---------------------+------------+-------------+----------+----------+-----------+\n",
      "|  0 | Logistic Regression |   0.780507 |    0.698983 | 0.10389  | 0.180893 |  0.66706  |\n",
      "+----+---------------------+------------+-------------+----------+----------+-----------+\n"
     ]
    }
   ],
   "source": [
    "# 8. Show all results as a DataFrame\n",
    "results_df = pd.DataFrame(results).sort_values(by=\"F1\", ascending=False)\n",
    "import tabulate\n",
    "print(tabulate.tabulate(results_df, headers='keys', tablefmt='grid'))"
   ]
  },
  {
   "cell_type": "code",
   "execution_count": 7,
   "id": "06a144bc",
   "metadata": {},
   "outputs": [
    {
     "name": "stdout",
     "output_type": "stream",
     "text": [
      "\n",
      "🔎 Hyperopt tuning for XGBoost (max recall)...\n",
      "100%|██████████| 30/30 [01:14<00:00,  2.49s/trial, best loss: -0.44740024183796856]\n",
      "Best hyperparameters for XGBoost: {'classifier__colsample_bytree': 0.6746284734176358, 'classifier__gamma': 4.967030128376157, 'classifier__learning_rate': 0.07031878961231573, 'classifier__max_depth': 3.0, 'classifier__n_estimators': 409.0, 'classifier__subsample': 0.8616492018371803}\n",
      "Best recall: 0.4474\n",
      "\n",
      "🔎 Hyperopt tuning for QDA (max recall)...\n",
      "  0%|          | 0/30 [00:00<?, ?trial/s, best loss=?]"
     ]
    },
    {
     "name": "stderr",
     "output_type": "stream",
     "text": [
      "c:\\Users\\ngoph\\anaconda3\\Lib\\site-packages\\sklearn\\discriminant_analysis.py:947: UserWarning: Variables are collinear\n",
      "  warnings.warn(\"Variables are collinear\")\n",
      "\n"
     ]
    },
    {
     "name": "stdout",
     "output_type": "stream",
     "text": [
      "  7%|▋         | 2/30 [00:01<00:22,  1.23trial/s, best loss: -0.0]"
     ]
    },
    {
     "name": "stderr",
     "output_type": "stream",
     "text": [
      "c:\\Users\\ngoph\\anaconda3\\Lib\\site-packages\\sklearn\\discriminant_analysis.py:947: UserWarning: Variables are collinear\n",
      "  warnings.warn(\"Variables are collinear\")\n",
      "\n",
      "c:\\Users\\ngoph\\anaconda3\\Lib\\site-packages\\sklearn\\discriminant_analysis.py:947: UserWarning: Variables are collinear\n",
      "  warnings.warn(\"Variables are collinear\")\n",
      "\n"
     ]
    },
    {
     "name": "stdout",
     "output_type": "stream",
     "text": [
      " 13%|█▎        | 4/30 [00:03<00:20,  1.28trial/s, best loss: -0.4467956469165659]"
     ]
    },
    {
     "name": "stderr",
     "output_type": "stream",
     "text": [
      "c:\\Users\\ngoph\\anaconda3\\Lib\\site-packages\\sklearn\\discriminant_analysis.py:947: UserWarning: Variables are collinear\n",
      "  warnings.warn(\"Variables are collinear\")\n",
      "\n"
     ]
    },
    {
     "name": "stdout",
     "output_type": "stream",
     "text": [
      " 17%|█▋        | 5/30 [00:03<00:19,  1.29trial/s, best loss: -0.4467956469165659]"
     ]
    },
    {
     "name": "stderr",
     "output_type": "stream",
     "text": [
      "c:\\Users\\ngoph\\anaconda3\\Lib\\site-packages\\sklearn\\discriminant_analysis.py:947: UserWarning: Variables are collinear\n",
      "  warnings.warn(\"Variables are collinear\")\n",
      "\n"
     ]
    },
    {
     "name": "stdout",
     "output_type": "stream",
     "text": [
      " 20%|██        | 6/30 [00:04<00:18,  1.30trial/s, best loss: -0.4467956469165659]"
     ]
    },
    {
     "name": "stderr",
     "output_type": "stream",
     "text": [
      "c:\\Users\\ngoph\\anaconda3\\Lib\\site-packages\\sklearn\\discriminant_analysis.py:947: UserWarning: Variables are collinear\n",
      "  warnings.warn(\"Variables are collinear\")\n",
      "\n"
     ]
    },
    {
     "name": "stdout",
     "output_type": "stream",
     "text": [
      " 23%|██▎       | 7/30 [00:05<00:17,  1.30trial/s, best loss: -0.4467956469165659]"
     ]
    },
    {
     "name": "stderr",
     "output_type": "stream",
     "text": [
      "c:\\Users\\ngoph\\anaconda3\\Lib\\site-packages\\sklearn\\discriminant_analysis.py:947: UserWarning: Variables are collinear\n",
      "  warnings.warn(\"Variables are collinear\")\n",
      "\n"
     ]
    },
    {
     "name": "stdout",
     "output_type": "stream",
     "text": [
      " 27%|██▋       | 8/30 [00:06<00:16,  1.31trial/s, best loss: -0.4467956469165659]"
     ]
    },
    {
     "name": "stderr",
     "output_type": "stream",
     "text": [
      "c:\\Users\\ngoph\\anaconda3\\Lib\\site-packages\\sklearn\\discriminant_analysis.py:947: UserWarning: Variables are collinear\n",
      "  warnings.warn(\"Variables are collinear\")\n",
      "\n"
     ]
    },
    {
     "name": "stdout",
     "output_type": "stream",
     "text": [
      " 30%|███       | 9/30 [00:06<00:15,  1.32trial/s, best loss: -0.4467956469165659]"
     ]
    },
    {
     "name": "stderr",
     "output_type": "stream",
     "text": [
      "c:\\Users\\ngoph\\anaconda3\\Lib\\site-packages\\sklearn\\discriminant_analysis.py:947: UserWarning: Variables are collinear\n",
      "  warnings.warn(\"Variables are collinear\")\n",
      "\n",
      "c:\\Users\\ngoph\\anaconda3\\Lib\\site-packages\\sklearn\\discriminant_analysis.py:947: UserWarning: Variables are collinear\n",
      "  warnings.warn(\"Variables are collinear\")\n",
      "\n"
     ]
    },
    {
     "name": "stdout",
     "output_type": "stream",
     "text": [
      " 37%|███▋      | 11/30 [00:08<00:14,  1.31trial/s, best loss: -0.4472994760177348]"
     ]
    },
    {
     "name": "stderr",
     "output_type": "stream",
     "text": [
      "c:\\Users\\ngoph\\anaconda3\\Lib\\site-packages\\sklearn\\discriminant_analysis.py:947: UserWarning: Variables are collinear\n",
      "  warnings.warn(\"Variables are collinear\")\n",
      "\n",
      "c:\\Users\\ngoph\\anaconda3\\Lib\\site-packages\\sklearn\\discriminant_analysis.py:947: UserWarning: Variables are collinear\n",
      "  warnings.warn(\"Variables are collinear\")\n",
      "\n"
     ]
    },
    {
     "name": "stdout",
     "output_type": "stream",
     "text": [
      " 40%|████      | 12/30 [00:09<00:14,  1.28trial/s, best loss: -0.4472994760177348]"
     ]
    },
    {
     "name": "stderr",
     "output_type": "stream",
     "text": [
      "c:\\Users\\ngoph\\anaconda3\\Lib\\site-packages\\sklearn\\discriminant_analysis.py:947: UserWarning: Variables are collinear\n",
      "  warnings.warn(\"Variables are collinear\")\n",
      "\n"
     ]
    },
    {
     "name": "stdout",
     "output_type": "stream",
     "text": [
      " 47%|████▋     | 14/30 [00:11<00:13,  1.21trial/s, best loss: -0.4472994760177348]"
     ]
    },
    {
     "name": "stderr",
     "output_type": "stream",
     "text": [
      "c:\\Users\\ngoph\\anaconda3\\Lib\\site-packages\\sklearn\\discriminant_analysis.py:947: UserWarning: Variables are collinear\n",
      "  warnings.warn(\"Variables are collinear\")\n",
      "\n"
     ]
    },
    {
     "name": "stdout",
     "output_type": "stream",
     "text": [
      " 50%|█████     | 15/30 [00:11<00:12,  1.24trial/s, best loss: -0.4472994760177348]"
     ]
    },
    {
     "name": "stderr",
     "output_type": "stream",
     "text": [
      "c:\\Users\\ngoph\\anaconda3\\Lib\\site-packages\\sklearn\\discriminant_analysis.py:947: UserWarning: Variables are collinear\n",
      "  warnings.warn(\"Variables are collinear\")\n",
      "\n",
      "c:\\Users\\ngoph\\anaconda3\\Lib\\site-packages\\sklearn\\discriminant_analysis.py:947: UserWarning: Variables are collinear\n",
      "  warnings.warn(\"Variables are collinear\")\n",
      "\n"
     ]
    },
    {
     "name": "stdout",
     "output_type": "stream",
     "text": [
      " 53%|█████▎    | 16/30 [00:12<00:11,  1.21trial/s, best loss: -0.4472994760177348]"
     ]
    },
    {
     "name": "stderr",
     "output_type": "stream",
     "text": [
      "c:\\Users\\ngoph\\anaconda3\\Lib\\site-packages\\sklearn\\discriminant_analysis.py:947: UserWarning: Variables are collinear\n",
      "  warnings.warn(\"Variables are collinear\")\n",
      "\n"
     ]
    },
    {
     "name": "stdout",
     "output_type": "stream",
     "text": [
      " 57%|█████▋    | 17/30 [00:13<00:10,  1.20trial/s, best loss: -0.4472994760177348]"
     ]
    },
    {
     "name": "stderr",
     "output_type": "stream",
     "text": [
      "c:\\Users\\ngoph\\anaconda3\\Lib\\site-packages\\sklearn\\discriminant_analysis.py:947: UserWarning: Variables are collinear\n",
      "  warnings.warn(\"Variables are collinear\")\n",
      "\n"
     ]
    },
    {
     "name": "stdout",
     "output_type": "stream",
     "text": [
      " 60%|██████    | 18/30 [00:14<00:09,  1.22trial/s, best loss: -0.4472994760177348]"
     ]
    },
    {
     "name": "stderr",
     "output_type": "stream",
     "text": [
      "c:\\Users\\ngoph\\anaconda3\\Lib\\site-packages\\sklearn\\discriminant_analysis.py:947: UserWarning: Variables are collinear\n",
      "  warnings.warn(\"Variables are collinear\")\n",
      "\n"
     ]
    },
    {
     "name": "stdout",
     "output_type": "stream",
     "text": [
      " 63%|██████▎   | 19/30 [00:15<00:08,  1.24trial/s, best loss: -0.4472994760177348]"
     ]
    },
    {
     "name": "stderr",
     "output_type": "stream",
     "text": [
      "c:\\Users\\ngoph\\anaconda3\\Lib\\site-packages\\sklearn\\discriminant_analysis.py:947: UserWarning: Variables are collinear\n",
      "  warnings.warn(\"Variables are collinear\")\n",
      "\n"
     ]
    },
    {
     "name": "stdout",
     "output_type": "stream",
     "text": [
      " 67%|██████▋   | 20/30 [00:15<00:07,  1.25trial/s, best loss: -0.4472994760177348]"
     ]
    },
    {
     "name": "stderr",
     "output_type": "stream",
     "text": [
      "c:\\Users\\ngoph\\anaconda3\\Lib\\site-packages\\sklearn\\discriminant_analysis.py:947: UserWarning: Variables are collinear\n",
      "  warnings.warn(\"Variables are collinear\")\n",
      "\n"
     ]
    },
    {
     "name": "stdout",
     "output_type": "stream",
     "text": [
      " 70%|███████   | 21/30 [00:16<00:07,  1.27trial/s, best loss: -0.4472994760177348]"
     ]
    },
    {
     "name": "stderr",
     "output_type": "stream",
     "text": [
      "c:\\Users\\ngoph\\anaconda3\\Lib\\site-packages\\sklearn\\discriminant_analysis.py:947: UserWarning: Variables are collinear\n",
      "  warnings.warn(\"Variables are collinear\")\n",
      "\n"
     ]
    },
    {
     "name": "stdout",
     "output_type": "stream",
     "text": [
      " 73%|███████▎  | 22/30 [00:17<00:06,  1.28trial/s, best loss: -0.4493147924224103]"
     ]
    },
    {
     "name": "stderr",
     "output_type": "stream",
     "text": [
      "c:\\Users\\ngoph\\anaconda3\\Lib\\site-packages\\sklearn\\discriminant_analysis.py:947: UserWarning: Variables are collinear\n",
      "  warnings.warn(\"Variables are collinear\")\n",
      "\n"
     ]
    },
    {
     "name": "stdout",
     "output_type": "stream",
     "text": [
      " 77%|███████▋  | 23/30 [00:18<00:05,  1.30trial/s, best loss: -0.4493147924224103]"
     ]
    },
    {
     "name": "stderr",
     "output_type": "stream",
     "text": [
      "c:\\Users\\ngoph\\anaconda3\\Lib\\site-packages\\sklearn\\discriminant_analysis.py:947: UserWarning: Variables are collinear\n",
      "  warnings.warn(\"Variables are collinear\")\n",
      "\n"
     ]
    },
    {
     "name": "stdout",
     "output_type": "stream",
     "text": [
      " 83%|████████▎ | 25/30 [00:19<00:03,  1.29trial/s, best loss: -0.4493147924224103]"
     ]
    },
    {
     "name": "stderr",
     "output_type": "stream",
     "text": [
      "c:\\Users\\ngoph\\anaconda3\\Lib\\site-packages\\sklearn\\discriminant_analysis.py:947: UserWarning: Variables are collinear\n",
      "  warnings.warn(\"Variables are collinear\")\n",
      "\n"
     ]
    },
    {
     "name": "stdout",
     "output_type": "stream",
     "text": [
      " 87%|████████▋ | 26/30 [00:20<00:03,  1.29trial/s, best loss: -0.449919387343813] "
     ]
    },
    {
     "name": "stderr",
     "output_type": "stream",
     "text": [
      "c:\\Users\\ngoph\\anaconda3\\Lib\\site-packages\\sklearn\\discriminant_analysis.py:947: UserWarning: Variables are collinear\n",
      "  warnings.warn(\"Variables are collinear\")\n",
      "\n",
      "c:\\Users\\ngoph\\anaconda3\\Lib\\site-packages\\sklearn\\discriminant_analysis.py:947: UserWarning: Variables are collinear\n",
      "  warnings.warn(\"Variables are collinear\")\n",
      "\n"
     ]
    },
    {
     "name": "stdout",
     "output_type": "stream",
     "text": [
      " 90%|█████████ | 27/30 [00:21<00:02,  1.29trial/s, best loss: -0.449919387343813]"
     ]
    },
    {
     "name": "stderr",
     "output_type": "stream",
     "text": [
      "c:\\Users\\ngoph\\anaconda3\\Lib\\site-packages\\sklearn\\discriminant_analysis.py:947: UserWarning: Variables are collinear\n",
      "  warnings.warn(\"Variables are collinear\")\n",
      "\n"
     ]
    },
    {
     "name": "stdout",
     "output_type": "stream",
     "text": [
      " 97%|█████████▋| 29/30 [00:22<00:00,  1.29trial/s, best loss: -0.449919387343813]"
     ]
    },
    {
     "name": "stderr",
     "output_type": "stream",
     "text": [
      "c:\\Users\\ngoph\\anaconda3\\Lib\\site-packages\\sklearn\\discriminant_analysis.py:947: UserWarning: Variables are collinear\n",
      "  warnings.warn(\"Variables are collinear\")\n",
      "\n"
     ]
    },
    {
     "name": "stdout",
     "output_type": "stream",
     "text": [
      "100%|██████████| 30/30 [00:23<00:00,  1.29trial/s, best loss: -0.449919387343813]"
     ]
    },
    {
     "name": "stderr",
     "output_type": "stream",
     "text": [
      "c:\\Users\\ngoph\\anaconda3\\Lib\\site-packages\\sklearn\\discriminant_analysis.py:947: UserWarning: Variables are collinear\n",
      "  warnings.warn(\"Variables are collinear\")\n",
      "\n"
     ]
    },
    {
     "name": "stdout",
     "output_type": "stream",
     "text": [
      "100%|██████████| 30/30 [00:23<00:00,  1.27trial/s, best loss: -0.449919387343813]\n",
      "Best hyperparameters for QDA: {'classifier__reg_param': 0.01023471895223894, 'classifier__tol': 0.01491982802401582}\n",
      "Best recall: 0.4499\n"
     ]
    }
   ],
   "source": [
    "from hyperopt import fmin, tpe, hp, Trials, STATUS_OK\n",
    "from sklearn.metrics import recall_score\n",
    "top3 = pd.DataFrame({'Model': ['XGBoost', 'QDA']})\n",
    "# Define search spaces for each model (QDA instead of Random Forest)\n",
    "search_spaces = {\n",
    "    'QDA': {\n",
    "        'classifier__reg_param': hp.uniform('classifier__reg_param', 0.0, 1.0),\n",
    "        'classifier__tol': hp.uniform('classifier__tol', 1e-5, 1e-1)\n",
    "    },\n",
    "    'XGBoost': {\n",
    "        'classifier__n_estimators': hp.quniform('classifier__n_estimators', 100, 500, 1),\n",
    "        'classifier__max_depth': hp.quniform('classifier__max_depth', 3, 10, 1),\n",
    "        'classifier__learning_rate': hp.loguniform('classifier__learning_rate', np.log(0.01), np.log(0.3)),\n",
    "        'classifier__subsample': hp.uniform('classifier__subsample', 0.5, 1.0),\n",
    "        'classifier__colsample_bytree': hp.uniform('classifier__colsample_bytree', 0.5, 1.0),\n",
    "        'classifier__gamma': hp.uniform('classifier__gamma', 0, 5)\n",
    "    }\n",
    "}\n",
    "\n",
    "for idx, row in top3.iterrows():\n",
    "    model_name = row['Model']\n",
    "    model = models[model_name]\n",
    "    space = search_spaces.get(model_name)\n",
    "    if not space:\n",
    "        print(f\"No search space for {model_name}. Skipping.\")\n",
    "        continue\n",
    "\n",
    "    def objective(params):\n",
    "        # Convert float hyperparameters to int where needed\n",
    "        if model_name in ['LightGBM', 'XGBoost']:\n",
    "            params['classifier__n_estimators'] = int(params['classifier__n_estimators'])\n",
    "            params['classifier__max_depth'] = int(params['classifier__max_depth'])\n",
    "            params['classifier__n_estimators'] = int(params['classifier__n_estimators'])\n",
    "            params['classifier__max_depth'] = int(params['classifier__max_depth'])\n",
    "        clf = Pipeline([\n",
    "            ('preprocessor', preprocessor),\n",
    "            ('classifier', model.__class__(**{k.split('__')[1]: v for k, v in params.items()}))\n",
    "        ])\n",
    "        clf.fit(X_train, y_train)\n",
    "        y_pred = clf.predict(X_test)\n",
    "        recall = recall_score(y_test, y_pred)\n",
    "        return {'loss': -recall, 'status': STATUS_OK}\n",
    "\n",
    "    print(f\"\\n🔎 Hyperopt tuning for {model_name} (max recall)...\")\n",
    "    trials = Trials()\n",
    "    best = fmin(\n",
    "        fn=objective,\n",
    "        space=space,\n",
    "        algo=tpe.suggest,\n",
    "        max_evals=30,\n",
    "        trials=trials,\n",
    "        rstate=np.random.default_rng(42)\n",
    "    )\n",
    "    print(f\"Best hyperparameters for {model_name}: {best}\")\n",
    "    print(f\"Best recall: {-trials.best_trial['result']['loss']:.4f}\")"
   ]
  },
  {
   "cell_type": "code",
   "execution_count": null,
   "id": "b35205b6",
   "metadata": {},
   "outputs": [],
   "source": []
  }
 ],
 "metadata": {
  "kernelspec": {
   "display_name": "base",
   "language": "python",
   "name": "python3"
  },
  "language_info": {
   "codemirror_mode": {
    "name": "ipython",
    "version": 3
   },
   "file_extension": ".py",
   "mimetype": "text/x-python",
   "name": "python",
   "nbconvert_exporter": "python",
   "pygments_lexer": "ipython3",
   "version": "3.12.7"
  }
 },
 "nbformat": 4,
 "nbformat_minor": 5
}
